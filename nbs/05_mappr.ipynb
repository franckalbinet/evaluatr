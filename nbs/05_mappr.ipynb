{
 "cells": [
  {
   "cell_type": "markdown",
   "metadata": {},
   "source": [
    "# Mappr\n",
    "\n",
    "> Scale up evaluation report mapping against evaluation frameworks using agentic workflows\n"
   ]
  },
  {
   "cell_type": "markdown",
   "metadata": {},
   "source": [
    "## Approach\n",
    "\n",
    "**Problem**: Manually mapping evaluation reports against IOM's Strategic Results Framework (SRF) is time-consuming and resource-intensive with ~150 outputs to analyze.\n",
    "\n",
    "**Solution**: Multi-stage pipeline leveraging Global Compact for Migration (GCM) as a pruning mechanism:\n",
    "\n",
    "### Stage 1: Sequential Classification\n",
    "1. **Enablers & Cross-cutting Priorities** (11 items) - Fast parallel analysis to identify meta-evaluation nature\n",
    "2. **GCM Objectives** (23 items) - Informed by Stage 1 results, uses condensed representations for efficiency\n",
    "\n",
    "### Stage 2: Targeted SRF Analysis  \n",
    "- Use GCM results + `gcm_srf_lut` to prune ~150 SRF outputs to ~20-50 relevant ones\n",
    "- Deep analysis with full hierarchy context (objective → outcome → output → indicators)\n",
    "\n",
    "### Key Features\n",
    "- **Agentic workflow**: LLM navigates document headings, explores sections iteratively until confident\n",
    "- **DSPy signatures**: Structured reasoning with built-in tracing for evaluation\n",
    "- **Rate-limited parallelization**: Respects API constraints (15 RPM) using fastcore\n",
    "- **False positive bias**: Better to over-include than miss relevant mappings"
   ]
  },
  {
   "cell_type": "code",
   "execution_count": null,
   "metadata": {},
   "outputs": [],
   "source": [
    "#| default_exp mappr"
   ]
  },
  {
   "cell_type": "markdown",
   "metadata": {},
   "source": [
    "::: {.callout-warning}\n",
    "This notebook is a work in progress.\n",
    ":::"
   ]
  },
  {
   "cell_type": "code",
   "execution_count": null,
   "metadata": {},
   "outputs": [],
   "source": [
    "\n",
    "#| exports\n",
    "from pathlib import Path\n",
    "from functools import reduce\n",
    "from toolslm.md_hier import *\n",
    "from rich import print\n",
    "import json\n",
    "from fastcore.all import *\n",
    "\n",
    "from typing import List\n",
    "import dspy\n"
   ]
  },
  {
   "cell_type": "code",
   "execution_count": null,
   "metadata": {},
   "outputs": [],
   "source": [
    "#| exports\n",
    "from dotenv import load_dotenv\n",
    "import os\n",
    "\n",
    "load_dotenv()\n",
    "GEMINI_API_KEY = os.getenv('GEMINI_API_KEY')"
   ]
  },
  {
   "cell_type": "code",
   "execution_count": null,
   "metadata": {},
   "outputs": [],
   "source": [
    "#| exports\n",
    "cfg = AttrDict({\n",
    "    'lm': 'gemini/gemini-2.0-flash-exp',\n",
    "    'api_key': GEMINI_API_KEY,\n",
    "    'max_tokens': 8192,\n",
    "    'track_usage': False,\n",
    "})"
   ]
  },
  {
   "cell_type": "code",
   "execution_count": null,
   "metadata": {},
   "outputs": [
    {
     "data": {
      "text/html": [
       "<pre style=\"white-space:pre;overflow-x:auto;line-height:normal;font-family:Menlo,'DejaVu Sans Mono',consolas,'Courier New',monospace\"># PPMi <span style=\"color: #808000; text-decoration-color: #808000\">...</span>. page <span style=\"color: #008080; text-decoration-color: #008080; font-weight: bold\">1</span>\n",
       "\n",
       "**Final Evaluation of the EU-IOM Joint Initiative for migrant protection and reintegration in the horn of Africa**\n",
       "\n",
       "Final Evaluation Report, <span style=\"color: #008080; text-decoration-color: #008080; font-weight: bold\">17</span> March <span style=\"color: #008080; text-decoration-color: #008080; font-weight: bold\">2023</span>\n",
       "\n",
       "!<span style=\"font-weight: bold\">(</span>img-<span style=\"color: #008080; text-decoration-color: #008080; font-weight: bold\">0.j</span>peg<span style=\"font-weight: bold\">)</span>\n",
       "\n",
       "**EU-IOM** Joint Initiative for Migrant Protection and Reintegration\n",
       "\n",
       "Project funded by the European Union\n",
       "Project implemented by IOM\n",
       "\n",
       "---\n",
       "\n",
       "This Final Evaluation Report was commissioned by IOM and developed by the evaluation team of PPMI Group, including:\n",
       "Loes van der Graaf, Rimantas Dumcius, Radvilė Bankauskaitė, Anna Kiss-Pal and Laura Daukšaitė, as well as by \n",
       "external expert Anthony Roger Plant. The evaluation team is grateful to all IOM staff and stakeholders to the \n",
       "JI-HoA for their time taken to participate in interviews. The team is especially grateful to the returnees, \n",
       "migrants, and community members who participated in Focus Group Discussions.\n",
       "\n",
       "This publication was funded by the European Union. Its contents are the sole responsibility of PPMI Group and do \n",
       "not necessarily reflect\n",
       "</pre>\n"
      ],
      "text/plain": [
       "# PPMi \u001b[33m...\u001b[0m. page \u001b[1;36m1\u001b[0m\n",
       "\n",
       "**Final Evaluation of the EU-IOM Joint Initiative for migrant protection and reintegration in the horn of Africa**\n",
       "\n",
       "Final Evaluation Report, \u001b[1;36m17\u001b[0m March \u001b[1;36m2023\u001b[0m\n",
       "\n",
       "!\u001b[1m(\u001b[0mimg-\u001b[1;36m0.j\u001b[0mpeg\u001b[1m)\u001b[0m\n",
       "\n",
       "**EU-IOM** Joint Initiative for Migrant Protection and Reintegration\n",
       "\n",
       "Project funded by the European Union\n",
       "Project implemented by IOM\n",
       "\n",
       "---\n",
       "\n",
       "This Final Evaluation Report was commissioned by IOM and developed by the evaluation team of PPMI Group, including:\n",
       "Loes van der Graaf, Rimantas Dumcius, Radvilė Bankauskaitė, Anna Kiss-Pal and Laura Daukšaitė, as well as by \n",
       "external expert Anthony Roger Plant. The evaluation team is grateful to all IOM staff and stakeholders to the \n",
       "JI-HoA for their time taken to participate in interviews. The team is especially grateful to the returnees, \n",
       "migrants, and community members who participated in Focus Group Discussions.\n",
       "\n",
       "This publication was funded by the European Union. Its contents are the sole responsibility of PPMI Group and do \n",
       "not necessarily reflect\n"
      ]
     },
     "metadata": {},
     "output_type": "display_data"
    }
   ],
   "source": [
    "#| eval: false\n",
    "doc = Path(\"../_data/md_library/49d2fba781b6a7c0d94577479636ee6f/abridged_evaluation_report_final_olta_ndoja_pdf/enriched\")\n",
    "pages = doc.ls(file_exts=\".md\").sorted(key=lambda p: int(p.stem.split('_')[1]))\n",
    "report = '\\n\\n---\\n\\n'.join(page.read_text() for page in pages)\n",
    "print(report[:1000])"
   ]
  },
  {
   "cell_type": "markdown",
   "metadata": {},
   "source": [
    "## Hierarchical report navigation"
   ]
  },
  {
   "cell_type": "markdown",
   "metadata": {},
   "source": [
    "Thanks to `toolslm.md_hier` and a clean markdown structure of a `report` markdown, we can create a nested dictionary of section, subsection, ... as follows:"
   ]
  },
  {
   "cell_type": "code",
   "execution_count": null,
   "metadata": {},
   "outputs": [
    {
     "data": {
      "text/plain": [
       "{'PPMi .... page 1': {},\n",
       " 'CONTENTS .... page 3': {},\n",
       " '1. Introduction .... page 4': {},\n",
       " '2. Background of the JI-HoA .... page 5': {'2.1. Context and design of the JI-HoA .... page 5': {},\n",
       "  '2.2. External factors affecting the implementation of the JI .... page 7': {}},\n",
       " '3. Methodology .... page 8': {},\n",
       " '4. Findings .... page 10': {'4.1. Relevance .... page 10': {'4.1.1. Relevance of programme activities for migrants, returnees, and communities .... page 10': {}},\n",
       "  'Overall performance score for relevance: $3.9 / 5$ <br> Robustness score for the evidence: $4.5 / 5$': {'4.1.1.1 Needs of migrants .... page 10': {},\n",
       "   '4.1.1.2 Needs of returnees .... page 10': {},\n",
       "   '4.1.1.3 Needs of community members .... page 12': {},\n",
       "   \"4.1.2. Programme's relevance to the needs of stakeholders .... page 12\": {'4.1.2.1 Needs of governments .... page 12': {},\n",
       "    '4.1.2.2 Needs of other stakeholders .... page 13': {}},\n",
       "   '4.2. Coherence .... page 13': {\"4.2.1. The JI-HoA's alignment with the objectives and standards of IOM, and objectives of the EU .... page 14\": {},\n",
       "    '4.2.2. Alignment with other initiatives .... page 14': {}}}},\n",
       " '4.3. Effectiveness .... page 16': {'4.3.1. Specific Objective 1: Partner countries and relevant stakeholders developed or strengthened evidence-based return and reintegration procedures .... page 16': {'4.3.1.1 Achievement of outputs and results .... page 16': {}},\n",
       "  'Data availability .... page 16': {'4.3.1.2 Achievement of Specific Objective 1 .... page 17': {'4.3.1.2 Achievement of Specific Objective 1 .... page 17': {}}}},\n",
       " '4.3.2. Specific Objective 2: Safe, humane, dignified voluntary return processes are enhanced along main migration routes .... page 18': {'4.3.2.1 Achievement of outputs and results .... page 19': {},\n",
       "  'Outreach and awareness .... page 19': {},\n",
       "  'Assistance to stranded migrants .... page 19': {'4.3.2.2 Achievement of the Objective .... page 20': {},\n",
       "   '4.3.3. Specific Objective 3: Returnees are sustainably integrated in host communities, and host communities are better able to create living standards that address drivers of migration. .... page 20': {'4.3.3.1 Achievement of outputs and results .... page 20': {}}},\n",
       "  'Individual and community-based reintegration .... page 20': {'4.3.3.2 Achievement of Specific Objective 3 .... page 21': {}}},\n",
       " '4.3.3.2 Achievement of Specific Objective 3': {'Overall achievement of reintegration .... page 22': {'4.3.4. Functioning of the Integrated Approach .... page 23': {'4.3.4. Functioning of the Integrated Approach .... page 23': {}}}},\n",
       " '4.4. Efficiency .... page 24': {'4.4.3. Did the programme receive sufficient resources to achieve its objectives? .... page 24': {},\n",
       "  '4.4.2. Cost-effectiveness and efficiency of the programme .... page 25': {}},\n",
       " '4.5. Sustainability .... page 26': {'Overall performance score for sustainability: $2.5 / 5$ <br> Robustness score for the evidence: $4 / 5$ .... page 26': {}},\n",
       " '5. Conclusions and Recommendations .... page 27': {'5.1. Conclusions .... page 27': {},\n",
       "  '5.2. Recommendations .... page 28': {'5.2.1. Increase attention on building partnerships with service providers who can function without (significant) funding channelled by IOM. .... page 29': {},\n",
       "   '5.2.2. Explore opportunities to extend the scope of support provided to returnees, with a focus on longer-term integration. .... page 30': {}}}}"
      ]
     },
     "execution_count": null,
     "metadata": {},
     "output_type": "execute_result"
    }
   ],
   "source": [
    "#| eval: false\n",
    "hdgs = create_heading_dict(report); hdgs"
   ]
  },
  {
   "cell_type": "code",
   "execution_count": null,
   "metadata": {},
   "outputs": [],
   "source": [
    "#| exports\n",
    "def find_section_path(\n",
    "    hdgs: dict, # The nested dictionary structure\n",
    "    target_section: str # The section name to find\n",
    "):\n",
    "    \"Find the nested key path for a given section name\"\n",
    "    def search_recursive(current_dict, path=[]):\n",
    "        for key, value in current_dict.items():\n",
    "            current_path = path + [key]\n",
    "            if key == target_section:\n",
    "                return current_path\n",
    "            if isinstance(value, dict):\n",
    "                result = search_recursive(value, current_path)\n",
    "                if result:\n",
    "                    return result\n",
    "        return None\n",
    "    \n",
    "    return search_recursive(hdgs)"
   ]
  },
  {
   "cell_type": "markdown",
   "metadata": {},
   "source": [
    "Then we can retrieve the subsection path (list of nested headings to reach this specific section) in this nested `hdgs` dict :"
   ]
  },
  {
   "cell_type": "code",
   "execution_count": null,
   "metadata": {},
   "outputs": [
    {
     "data": {
      "text/plain": [
       "['4. Findings .... page 10',\n",
       " 'Overall performance score for relevance: $3.9 / 5$ <br> Robustness score for the evidence: $4.5 / 5$',\n",
       " '4.1.1.1 Needs of migrants .... page 10']"
      ]
     },
     "execution_count": null,
     "metadata": {},
     "output_type": "execute_result"
    }
   ],
   "source": [
    "#| eval: false\n",
    "path = find_section_path(hdgs, \"4.1.1.1 Needs of migrants .... page 10\"); path"
   ]
  },
  {
   "cell_type": "markdown",
   "metadata": {},
   "source": [
    "Then retrieve the specific subsection content:"
   ]
  },
  {
   "cell_type": "code",
   "execution_count": null,
   "metadata": {},
   "outputs": [],
   "source": [
    "#| exports\n",
    "def get_content_tool(hdgs, keys_list):\n",
    "    \"Navigate through nested levels using the exact key strings\"\n",
    "    return reduce(lambda current, key: current[key], keys_list, hdgs).text"
   ]
  },
  {
   "cell_type": "code",
   "execution_count": null,
   "metadata": {},
   "outputs": [
    {
     "data": {
      "text/html": [
       "<pre style=\"white-space:pre;overflow-x:auto;line-height:normal;font-family:Menlo,'DejaVu Sans Mono',consolas,'Courier New',monospace\">##### <span style=\"color: #00ff00; text-decoration-color: #00ff00; font-weight: bold\">4.1.1.1</span> Needs of migrants <span style=\"color: #808000; text-decoration-color: #808000\">...</span>. page <span style=\"color: #008080; text-decoration-color: #008080; font-weight: bold\">10</span>\n",
       "\n",
       "Desk research and interviews confirm that the programme responded to the most pressing needs of migrants. The \n",
       "JI-HoA enabled them to return from dangerous environments, such as detention, where no other support was available.\n",
       "Migrants shared that they suffered on their irregular migration journeys, had acutely distressing experiences $<span style=\"font-weight: bold\">{</span> \n",
       "<span style=\"font-weight: bold\">}</span>^<span style=\"font-weight: bold\">{</span><span style=\"color: #008080; text-decoration-color: #008080; font-weight: bold\">13</span><span style=\"font-weight: bold\">}</span>$, and highlighted that their families and communities could not help them $<span style=\"font-weight: bold\">{</span> <span style=\"font-weight: bold\">}</span>^<span style=\"font-weight: bold\">{</span><span style=\"color: #008080; text-decoration-color: #008080; font-weight: bold\">14</span><span style=\"font-weight: bold\">}</span>$. Stakeholders supportin\n",
       "</pre>\n"
      ],
      "text/plain": [
       "##### \u001b[1;92m4.1.1.1\u001b[0m Needs of migrants \u001b[33m...\u001b[0m. page \u001b[1;36m10\u001b[0m\n",
       "\n",
       "Desk research and interviews confirm that the programme responded to the most pressing needs of migrants. The \n",
       "JI-HoA enabled them to return from dangerous environments, such as detention, where no other support was available.\n",
       "Migrants shared that they suffered on their irregular migration journeys, had acutely distressing experiences $\u001b[1m{\u001b[0m \n",
       "\u001b[1m}\u001b[0m^\u001b[1m{\u001b[0m\u001b[1;36m13\u001b[0m\u001b[1m}\u001b[0m$, and highlighted that their families and communities could not help them $\u001b[1m{\u001b[0m \u001b[1m}\u001b[0m^\u001b[1m{\u001b[0m\u001b[1;36m14\u001b[0m\u001b[1m}\u001b[0m$. Stakeholders supportin\n"
      ]
     },
     "metadata": {},
     "output_type": "display_data"
    }
   ],
   "source": [
    "#| eval: false\n",
    "content = get_content_tool(hdgs, path)\n",
    "print(content[:500])"
   ]
  },
  {
   "cell_type": "markdown",
   "metadata": {},
   "source": [
    "## Eval framework utils"
   ]
  },
  {
   "cell_type": "markdown",
   "metadata": {},
   "source": [
    "Utility functions for:\n",
    "\n",
    "1. Pretty printing of evaluation framework data with truncation\n",
    "2. Easy attribute-style access to evaluation framework dictionaries"
   ]
  },
  {
   "cell_type": "code",
   "execution_count": null,
   "metadata": {},
   "outputs": [],
   "source": [
    "#| exports\n",
    "class EvalDict(AttrDict):\n",
    "    \"A dictionary that truncates strings and lists to a maximum length for pretty printing and dot notation access of attributes\"\n",
    "    def __init__(self, *args, max_len=50, max_items=2, **kwargs):\n",
    "        super().__init__(*args, **kwargs)\n",
    "        store_attr('max_len,max_items')\n",
    "    \n",
    "    def __repr__(self):\n",
    "        def truncate(text, max_len=self.max_len):\n",
    "            return text[:max_len] + \"...\" if len(text) > self.max_len else text\n",
    "        \n",
    "        def format_item(key, value):\n",
    "            if isinstance(value, str):\n",
    "                return f\"'{key}': '{truncate(value)}'\"\n",
    "            elif isinstance(value, (list, dict)):\n",
    "                count = len(value)\n",
    "                return f\"'{key}': [{count} items]\"\n",
    "            else:\n",
    "                return f\"'{key}': {value}\"\n",
    "        \n",
    "        items = list(self.items())[:self.max_items]  \n",
    "        formatted = [format_item(k, v) for k, v in items]\n",
    "        suffix = \", ...\" if len(self) > self.max_items else \"\"\n",
    "        \n",
    "        return f\"EvalDict({{{', '.join(formatted)}{suffix}}})\""
   ]
  },
  {
   "cell_type": "code",
   "execution_count": null,
   "metadata": {},
   "outputs": [],
   "source": [
    "#| exports\n",
    "@delegates(EvalDict.__init__)\n",
    "def evalify(\n",
    "    data, # data to evalify\n",
    "    **kwargs # kwargs to pass to EvalDict.__init__\n",
    "    ):\n",
    "    \"Evalify a dictionary or a list of dictionaries\"\n",
    "    if isinstance(data, list):\n",
    "        return [EvalDict(item, **kwargs) for item in data]\n",
    "    else:\n",
    "        return EvalDict(data, **kwargs)"
   ]
  },
  {
   "cell_type": "markdown",
   "metadata": {},
   "source": [
    "For instance on the SRF Enablers and GCM to SRF lookup tables:"
   ]
  },
  {
   "cell_type": "code",
   "execution_count": null,
   "metadata": {},
   "outputs": [
    {
     "data": {
      "text/plain": [
       "[EvalDict({'id': '1', 'title': 'Workforce', 'description': 'IOM’s diverse and capable people are our...', 'indicators': [14 items], 'max_len': 40, ...}),\n",
       " EvalDict({'id': '2', 'title': 'Partnership', 'description': 'Long-term partnerships built on trust me...', 'indicators': [20 items], 'max_len': 40, ...}),\n",
       " EvalDict({'id': '3', 'title': 'Funding', 'description': 'IOM’s vision will only be realized with ...', 'indicators': [22 items], 'max_len': 40, ...}),\n",
       " EvalDict({'id': '4', 'title': 'Data and evidence', 'description': 'IOM will be the pre-eminent source of mi...', 'indicators': [16 items], 'max_len': 40, ...}),\n",
       " EvalDict({'id': '5', 'title': 'Learning and Innovation', 'description': 'As an innovator within the migration spa...', 'indicators': [7 items], 'max_len': 40, ...}),\n",
       " EvalDict({'id': '6', 'title': 'Communication', 'description': 'We will take a data-driven and co-design...', 'indicators': [4 items], 'max_len': 40, ...}),\n",
       " EvalDict({'id': '7', 'title': 'Internal systems', 'description': 'As IOM evolves, so must its organization...', 'indicators': [20 items], 'max_len': 40, ...})]"
      ]
     },
     "execution_count": null,
     "metadata": {},
     "output_type": "execute_result"
    }
   ],
   "source": [
    "#| eval: false\n",
    "file_path = Path('files/eval_frameworks/srf_enablers.json')\n",
    "srf_e = json.loads(file_path.read_text())\n",
    "srf_e = evalify(srf_e, max_len=40, max_items=5); srf_e"
   ]
  },
  {
   "cell_type": "markdown",
   "metadata": {},
   "source": [
    "Making access to specific attributes \"dotted\":"
   ]
  },
  {
   "cell_type": "code",
   "execution_count": null,
   "metadata": {},
   "outputs": [
    {
     "data": {
      "text/plain": [
       "'IOM’s diverse and capable people are our most valued asset. Through investing in better workforce planning and people management, we will facilitate their professional development and improve their daily workplace experience. IOM will have flexible systems and procedures in place to ensure it can adapt to the future of work while ensuring the safety, security and well-being of its staff. IOM will strengthen its security posture and foster an inclusive and enabling work environment. Our leadership will have the ability to connect, motivate and inspire a sense of our shared vision and values.'"
      ]
     },
     "execution_count": null,
     "metadata": {},
     "output_type": "execute_result"
    }
   ],
   "source": [
    "#| eval: false\n",
    "srf_e[0].description"
   ]
  },
  {
   "cell_type": "markdown",
   "metadata": {},
   "source": [
    "## Signatures"
   ]
  },
  {
   "cell_type": "markdown",
   "metadata": {},
   "source": [
    "A [DSPy signature](https://dspy.ai/learn/programming/signatures) is a declarative specification of input/output behavior of a DSPy module. Signatures allow you to tell the LM (Language Model) what it needs to do, rather than specify how we should ask the LM to do it."
   ]
  },
  {
   "cell_type": "markdown",
   "metadata": {},
   "source": [
    "### Stage 1"
   ]
  },
  {
   "cell_type": "code",
   "execution_count": null,
   "metadata": {},
   "outputs": [],
   "source": [
    "#| exports\n",
    "class EnablersCrossCuttingOverview(dspy.Signature):\n",
    "    \"\"\"Analyze if report covers enablers or cross-cutting priorities\"\"\"\n",
    "    report_headings: str = dspy.InputField(desc=\"Document structure\")\n",
    "    category_title: str = dspy.InputField(desc=\"Category title\")\n",
    "    category_description: str = dspy.InputField(desc=\"Category description\")\n",
    "    \n",
    "    relevant_sections: List[str] = dspy.OutputField(desc=\"Potentially relevant sections\")\n",
    "    confidence: float = dspy.OutputField(desc=\"Confidence 0-1\")\n",
    "    reasoning: str = dspy.OutputField(desc=\"Why this confidence level\")\n",
    "    next_section: str = dspy.OutputField(desc=\"Next section to explore, or 'DONE'\")"
   ]
  },
  {
   "cell_type": "markdown",
   "metadata": {},
   "source": [
    "For instance on \"Data and evidence\" SRF Enabler number 4:"
   ]
  },
  {
   "cell_type": "code",
   "execution_count": null,
   "metadata": {},
   "outputs": [
    {
     "data": {
      "text/html": [
       "<pre style=\"white-space:pre;overflow-x:auto;line-height:normal;font-family:Menlo,'DejaVu Sans Mono',consolas,'Courier New',monospace\">Analyzing Data and evidence<span style=\"color: #808000; text-decoration-color: #808000\">...</span>\n",
       "</pre>\n"
      ],
      "text/plain": [
       "Analyzing Data and evidence\u001b[33m...\u001b[0m\n"
      ]
     },
     "metadata": {},
     "output_type": "display_data"
    },
    {
     "data": {
      "text/html": [
       "<pre style=\"white-space:pre;overflow-x:auto;line-height:normal;font-family:Menlo,'DejaVu Sans Mono',consolas,'Courier New',monospace\">IOM will be the pre-eminent source of migration and displacement data for action, which help save lives and deliver\n",
       "solutions; data for insight, which help facilitate regular migration pathways; and data for foresight, which help \n",
       "drive anticipatory action. IOM will have the systems and data fluency to collect, safely store, analyze, share and \n",
       "apply disaggregated data and evidence across the mobility spectrum. Our extensive data and research repositories \n",
       "will underpin evidence-based policies and practices. Data will be central to the internal decision-making and \n",
       "management of the Organization.\n",
       "\n",
       "</pre>\n"
      ],
      "text/plain": [
       "IOM will be the pre-eminent source of migration and displacement data for action, which help save lives and deliver\n",
       "solutions; data for insight, which help facilitate regular migration pathways; and data for foresight, which help \n",
       "drive anticipatory action. IOM will have the systems and data fluency to collect, safely store, analyze, share and \n",
       "apply disaggregated data and evidence across the mobility spectrum. Our extensive data and research repositories \n",
       "will underpin evidence-based policies and practices. Data will be central to the internal decision-making and \n",
       "management of the Organization.\n",
       "\n"
      ]
     },
     "metadata": {},
     "output_type": "display_data"
    }
   ],
   "source": [
    "#| eval: false\n",
    "lm = dspy.LM(cfg.lm, api_key=cfg.api_key)\n",
    "dspy.configure(lm=lm)\n",
    "\n",
    "overview_analyzer = dspy.ChainOfThought(EnablersCrossCuttingOverview)\n",
    "data_evidence = srf_e[3]  # \"Data and evidence\" is at index 3\n",
    "print(f\"Analyzing {data_evidence.title}...\")\n",
    "print(f\"{data_evidence.description}\\n\")"
   ]
  },
  {
   "cell_type": "code",
   "execution_count": null,
   "metadata": {},
   "outputs": [
    {
     "data": {
      "text/html": [
       "<pre style=\"white-space:pre;overflow-x:auto;line-height:normal;font-family:Menlo,'DejaVu Sans Mono',consolas,'Courier New',monospace\">Relevant sections:\n",
       "<span style=\"font-weight: bold\">[</span><span style=\"color: #008000; text-decoration-color: #008000\">'4.1. Relevance'</span>, <span style=\"color: #008000; text-decoration-color: #008000\">'4.3. Effectiveness'</span>, <span style=\"color: #008000; text-decoration-color: #008000\">'4.4. Efficiency'</span>, <span style=\"color: #008000; text-decoration-color: #008000\">'5. Conclusions and Recommendations'</span><span style=\"font-weight: bold\">]</span>\n",
       "</pre>\n"
      ],
      "text/plain": [
       "Relevant sections:\n",
       "\u001b[1m[\u001b[0m\u001b[32m'4.1. Relevance'\u001b[0m, \u001b[32m'4.3. Effectiveness'\u001b[0m, \u001b[32m'4.4. Efficiency'\u001b[0m, \u001b[32m'5. Conclusions and Recommendations'\u001b[0m\u001b[1m]\u001b[0m\n"
      ]
     },
     "metadata": {},
     "output_type": "display_data"
    },
    {
     "data": {
      "text/html": [
       "<pre style=\"white-space:pre;overflow-x:auto;line-height:normal;font-family:Menlo,'DejaVu Sans Mono',consolas,'Courier New',monospace\">Confidence: <span style=\"color: #008080; text-decoration-color: #008080; font-weight: bold\">0.7</span>\n",
       "</pre>\n"
      ],
      "text/plain": [
       "Confidence: \u001b[1;36m0.7\u001b[0m\n"
      ]
     },
     "metadata": {},
     "output_type": "display_data"
    },
    {
     "data": {
      "text/html": [
       "<pre style=\"white-space:pre;overflow-x:auto;line-height:normal;font-family:Menlo,'DejaVu Sans Mono',consolas,'Courier New',monospace\">Reasoning: The category description focuses on data collection, analysis, and application for evidence-based \n",
       "policies and practices. Several sections in the report discuss data availability, evidence robustness, and the \n",
       "achievement of objectives based on data. Therefore, these sections are potentially relevant.\n",
       "</pre>\n"
      ],
      "text/plain": [
       "Reasoning: The category description focuses on data collection, analysis, and application for evidence-based \n",
       "policies and practices. Several sections in the report discuss data availability, evidence robustness, and the \n",
       "achievement of objectives based on data. Therefore, these sections are potentially relevant.\n"
      ]
     },
     "metadata": {},
     "output_type": "display_data"
    },
    {
     "data": {
      "text/html": [
       "<pre style=\"white-space:pre;overflow-x:auto;line-height:normal;font-family:Menlo,'DejaVu Sans Mono',consolas,'Courier New',monospace\">Next section: <span style=\"color: #008080; text-decoration-color: #008080; font-weight: bold\">4.5</span>. Sustainability\n",
       "</pre>\n"
      ],
      "text/plain": [
       "Next section: \u001b[1;36m4.5\u001b[0m. Sustainability\n"
      ]
     },
     "metadata": {},
     "output_type": "display_data"
    }
   ],
   "source": [
    "#| eval: false\n",
    "result = overview_analyzer(\n",
    "    report_headings=str(hdgs),\n",
    "    category_title=data_evidence.title,\n",
    "    category_description=data_evidence.description\n",
    ")\n",
    "\n",
    "print(\"Relevant sections:\", result.relevant_sections)\n",
    "print(\"Confidence:\", result.confidence)\n",
    "print(\"Reasoning:\", result.reasoning)\n",
    "print(\"Next section:\", result.next_section)"
   ]
  },
  {
   "cell_type": "code",
   "execution_count": null,
   "metadata": {},
   "outputs": [],
   "source": [
    "#| exports\n",
    "class EnablersCrossCuttingExploration(dspy.Signature):\n",
    "    \"\"\"Explore specific report sections for enablers/cross-cutting evidence\"\"\"\n",
    "    section_content: str = dspy.InputField(desc=\"Content of current section\")\n",
    "    category_title: str = dspy.InputField(desc=\"Category title\")\n",
    "    category_description: str = dspy.InputField(desc=\"Category description\")\n",
    "    evidence_so_far: str = dspy.InputField(desc=\"Evidence collected from previous sections\")\n",
    "    \n",
    "    evidence_found: str = dspy.OutputField(desc=\"New evidence found in this section\")\n",
    "    confidence: float = dspy.OutputField(desc=\"Updated confidence 0-1\")\n",
    "    reasoning: str = dspy.OutputField(desc=\"Why this confidence level\")\n",
    "    next_action: str = dspy.OutputField(desc=\"'EXPLORE:section_name' or 'DONE'\")"
   ]
  },
  {
   "cell_type": "code",
   "execution_count": null,
   "metadata": {},
   "outputs": [],
   "source": [
    "#| eval: false\n",
    "condensed_gcm = {\n",
    "    \"7\": {\n",
    "        \"title\": \"Address and reduce vulnerabilities in migration\",\n",
    "        \"core_theme\": \"Protect migrants in vulnerable situations through comprehensive support and rights-based approaches\",\n",
    "        \"key_principles\": [\"Human rights-based approach\", \"Best interests of the child\", \"Gender-responsive policies\", \"Non-discrimination\"],\n",
    "        \"target_groups\": [\"Unaccompanied children\", \"Women at risk\", \"Trafficking victims\", \"Workers facing exploitation\", \"Persons with disabilities\"],\n",
    "        \"main_activities\": [\"Identification and assistance\", \"Legal protection and remedies\", \"Child protection systems\", \"Status regularization procedures\", \"Crisis response\"]\n",
    "    },\n",
    "    \"21\": {\n",
    "        \"title\": \"Cooperate in facilitating safe and dignified return and readmission, as well as sustainable reintegration\",\n",
    "        \"core_theme\": \"Safe and dignified return, readmission, and sustainable reintegration of migrants\",\n",
    "        \"key_principles\": [\"Due process and individual assessment\", \"Prohibition of collective expulsion\", \"Non-refoulement\", \"Human right to return\"],\n",
    "        \"target_groups\": [\"Returning migrants\", \"Children in return processes\", \"Communities of origin\"],\n",
    "        \"main_activities\": [\"Cooperation frameworks\", \"Travel documents and identification\", \"Consular assistance\", \"Reintegration support\", \"Monitoring mechanisms\"]\n",
    "    }\n",
    "}"
   ]
  }
 ],
 "metadata": {
  "kernelspec": {
   "display_name": "python3",
   "language": "python",
   "name": "python3"
  }
 },
 "nbformat": 4,
 "nbformat_minor": 2
}
