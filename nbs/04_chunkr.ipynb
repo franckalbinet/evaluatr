{
 "cells": [
  {
   "cell_type": "markdown",
   "metadata": {},
   "source": [
    "# Chunker\n",
    "\n",
    "> Create clean and \"enriched\" chunks"
   ]
  },
  {
   "cell_type": "code",
   "execution_count": null,
   "metadata": {},
   "outputs": [],
   "source": [
    "#| default_exp chunkr"
   ]
  },
  {
   "cell_type": "code",
   "execution_count": null,
   "metadata": {},
   "outputs": [],
   "source": [
    "#| export\n",
    "import os\n",
    "import re\n",
    "import time\n",
    "from io import BytesIO\n",
    "from dotenv import load_dotenv\n",
    "import base64\n",
    "from fastcore.all import *\n",
    "from rich import print\n",
    "\n",
    "import pandas as pd\n",
    "from mistralai import Mistral\n",
    "from PIL import Image\n",
    "# from tqdm import tqdm\n",
    "\n",
    "from evaluatr.readers import load_evals\n"
   ]
  },
  {
   "cell_type": "code",
   "execution_count": null,
   "metadata": {},
   "outputs": [],
   "source": [
    "#| export\n",
    "load_dotenv()\n",
    "mistral_api_key = os.getenv(\"MISTRAL_API_KEY\")"
   ]
  },
  {
   "cell_type": "code",
   "execution_count": null,
   "metadata": {},
   "outputs": [],
   "source": [
    "#| export\n",
    "def get_doc_subtype(\n",
    "    id:str, # ID of the evaluation\n",
    "    fname:str, # Name of the file\n",
    "    evals # Evaluations data\n",
    "    )->str: # Document Subtype\n",
    "    \"Get Document Subtype for a given file in the evaluation dataset\"\n",
    "    eval_data = L(evals).filter(lambda x: x['id']==id)\n",
    "    if not eval_data: return None\n",
    "    \n",
    "    docs = L(eval_data[0]['docs'])\n",
    "    matches = docs.filter(lambda x: Path(x['File URL']).name==fname)\n",
    "    return matches[0]['Document Subtype'] if matches else None"
   ]
  },
  {
   "cell_type": "markdown",
   "metadata": {},
   "source": [
    "Given an evaluation `id` and a `pdf` file name of one of its supporting doc we can check its `subtype`.\n",
    "\n",
    "For instance, for the \"Final Evaluation of the EU-IOM Joint ...\" evaluation:"
   ]
  },
  {
   "cell_type": "code",
   "execution_count": null,
   "metadata": {},
   "outputs": [
    {
     "data": {
      "text/plain": [
       "[{'id': '49d2fba781b6a7c0d94577479636ee6f',\n",
       "  'docs': [{'Document Subtype': 'Evaluation report',\n",
       "    'File URL': 'https://evaluation.iom.int/sites/g/files/tmzbdl151/files/docs/resources/Abridged%20Evaluation%20Report_%20Final_Olta%20NDOJA.pdf',\n",
       "    'File description': 'Evaluation Report'},\n",
       "   {'Document Subtype': 'Evaluation brief',\n",
       "    'File URL': 'https://evaluation.iom.int/sites/g/files/tmzbdl151/files/docs/resources/Evaluation%20Learning%20Brief_Final_Olta%20NDOJA.pdf',\n",
       "    'File description': 'Evaluation Brief'},\n",
       "   {'Document Subtype': 'Annexes',\n",
       "    'File URL': 'https://evaluation.iom.int/sites/g/files/tmzbdl151/files/docs/resources/Final%20Evaluation%20Report%20Final_Olta%20NDOJA.pdf',\n",
       "    'File description': 'Abridged Report'},\n",
       "   {'Document Subtype': 'Management response',\n",
       "    'File URL': 'https://evaluation.iom.int/sites/g/files/tmzbdl151/files/docs/resources/HoA%20EU%20JI%20Final%20Eval%20-%20Management%20Response%20Matrix%20-%20Final.pdf',\n",
       "    'File description': 'Management Response'}],\n",
       "  'meta': {'Title': 'Final Evaluation of the EU-IOM Joint Initiative for migrant protection and reintegration in the horn of Africa',\n",
       "   'Year': 2023,\n",
       "   'Author': 'PPMI Group',\n",
       "   'Best Practicesor Lessons Learnt': 'Yes',\n",
       "   'Date of Publication': '2023-03-17',\n",
       "   'Donor': 'European Union',\n",
       "   'Evaluation Brief': 'Yes',\n",
       "   'Evaluation Commissioner': 'IOM',\n",
       "   'Evaluation Coverage': 'Regional',\n",
       "   'Evaluation Period From Date': 'nan',\n",
       "   'Evaluation Period To Date': 'NaT',\n",
       "   'Executive Summary': 'Yes',\n",
       "   'External Version of the Report': 'No',\n",
       "   'Languages': 'English',\n",
       "   'Migration Thematic Areas': 'Assistance to vulnerable migrants, Return and AVRR',\n",
       "   'Name of Project(s) Being Evaluated': nan,\n",
       "   'Number of Pages Excluding annexes': nan,\n",
       "   'Other Documents Included': nan,\n",
       "   'Project Code': 'RT.1354',\n",
       "   'Countries Covered': ['Djibouti', 'Ethiopia', 'Somalia', 'South Sudan'],\n",
       "   'Regions Covered': 'RO Nairobi',\n",
       "   'Relevant Crosscutting Themes': 'Accountability to affected populations, Environment, Gender, Mainstreaming protection into crisis response, Principled humanitarian action, Rights-based approach',\n",
       "   'Report Published': 'Yes',\n",
       "   'Terms of Reference': 'No',\n",
       "   'Type of Evaluation Scope': 'Programme/Project',\n",
       "   'Type of Evaluation Timing': 'Final (at the end of the project/programme)',\n",
       "   'Type of Evaluator': 'External',\n",
       "   'Level of Evaluation': 'Decentralized',\n",
       "   'Document Subtype': 'Evaluation report, Evaluation brief, Annexes, Management response',\n",
       "   'File URL': 'https://evaluation.iom.int/sites/g/files/tmzbdl151/files/docs/resources/Abridged%20Evaluation%20Report_%20Final_Olta%20NDOJA.pdf,   https://evaluation.iom.int/sites/g/files/tmzbdl151/files/docs/resources/Evaluation%20Learning%20Brief_Final_Olta%20NDOJA.pdf,   https://evaluation.iom.int/sites/g/files/tmzbdl151/files/docs/resources/Final%20Evaluation%20Report%20Final_Olta%20NDOJA.pdf,   https://evaluation.iom.int/sites/g/files/tmzbdl151/files/docs/resources/HoA%20EU%20JI%20Final%20Eval%20-%20Management%20Response%20Matrix%20-%20Final.pdf',\n",
       "   'File description': 'Evaluation Report , Evaluation Brief, Abridged Report, Management Response',\n",
       "   'Management response': 'No',\n",
       "   'Date added': 'Fri, 05/26/2023 - 12:38',\n",
       "   'Metaevaluation': '2020-24',\n",
       "   'exclude': nan,\n",
       "   'reason': nan}}]"
      ]
     },
     "execution_count": null,
     "metadata": {},
     "output_type": "execute_result"
    }
   ],
   "source": [
    "#| eval: false\n",
    "fname_json = '../_data/output/evaluations.json'\n",
    "path_pdf = Path('../_data/pdf_library')\n",
    "\n",
    "title = 'Final Evaluation of the EU-IOM Joint Initiative for migrant protection and reintegration in the Horn of Africa'\n",
    "evals = load_evals(fname_json)\n",
    "\n",
    "results = [o for o in evals.filter(lambda x: title.lower() in x['meta']['Title'].lower())]; results"
   ]
  },
  {
   "cell_type": "code",
   "execution_count": null,
   "metadata": {},
   "outputs": [
    {
     "data": {
      "text/html": [
       "<pre style=\"white-space:pre;overflow-x:auto;line-height:normal;font-family:Menlo,'DejaVu Sans Mono',consolas,'Courier New',monospace\">Name: Evaluation%20Learning%20Brief_Final_Olta%20NDOJA.pdf\n",
       "Subtype: Evaluation brief\n",
       "</pre>\n"
      ],
      "text/plain": [
       "Name: Evaluation%20Learning%20Brief_Final_Olta%20NDOJA.pdf\n",
       "Subtype: Evaluation brief\n"
      ]
     },
     "metadata": {},
     "output_type": "display_data"
    },
    {
     "data": {
      "text/html": [
       "<pre style=\"white-space:pre;overflow-x:auto;line-height:normal;font-family:Menlo,'DejaVu Sans Mono',consolas,'Courier New',monospace\">Name: HoA%20EU%20JI%20Final%20Eval%<span style=\"color: #008080; text-decoration-color: #008080; font-weight: bold\">20</span>-%20Management%20Response%20Matrix%<span style=\"color: #008080; text-decoration-color: #008080; font-weight: bold\">20</span>-%20Final.pdf\n",
       "Subtype: Management response\n",
       "</pre>\n"
      ],
      "text/plain": [
       "Name: HoA%20EU%20JI%20Final%20Eval%\u001b[1;36m20\u001b[0m-%20Management%20Response%20Matrix%\u001b[1;36m20\u001b[0m-%20Final.pdf\n",
       "Subtype: Management response\n"
      ]
     },
     "metadata": {},
     "output_type": "display_data"
    },
    {
     "data": {
      "text/html": [
       "<pre style=\"white-space:pre;overflow-x:auto;line-height:normal;font-family:Menlo,'DejaVu Sans Mono',consolas,'Courier New',monospace\">Name: Abridged%20Evaluation%20Report_%20Final_Olta%20NDOJA.pdf\n",
       "Subtype: Evaluation report\n",
       "</pre>\n"
      ],
      "text/plain": [
       "Name: Abridged%20Evaluation%20Report_%20Final_Olta%20NDOJA.pdf\n",
       "Subtype: Evaluation report\n"
      ]
     },
     "metadata": {},
     "output_type": "display_data"
    },
    {
     "data": {
      "text/html": [
       "<pre style=\"white-space:pre;overflow-x:auto;line-height:normal;font-family:Menlo,'DejaVu Sans Mono',consolas,'Courier New',monospace\">Name: Final%20Evaluation%20Report%20Final_Olta%20NDOJA.pdf\n",
       "Subtype: Annexes\n",
       "</pre>\n"
      ],
      "text/plain": [
       "Name: Final%20Evaluation%20Report%20Final_Olta%20NDOJA.pdf\n",
       "Subtype: Annexes\n"
      ]
     },
     "metadata": {},
     "output_type": "display_data"
    }
   ],
   "source": [
    "#| eval: false\n",
    "id = '49d2fba781b6a7c0d94577479636ee6f'\n",
    "for o in path_pdf.ls().filter(lambda x: x.name == id)[0].ls():\n",
    "    print(f'Name: {o.name}\\nSubtype: {get_doc_subtype(id, o.name, evals)}')"
   ]
  },
  {
   "cell_type": "code",
   "execution_count": null,
   "metadata": {},
   "outputs": [],
   "source": [
    "#| eval: false\n",
    "# first_paper = df.iloc[0]\n",
    "# print(first_paper)\n",
    "# first_paper_pdf = (Path('../_data/zotero/') / first_paper['zot_id']).ls(file_exts='.pdf')[0]; first_paper_pdf"
   ]
  },
  {
   "cell_type": "code",
   "execution_count": null,
   "metadata": {},
   "outputs": [],
   "source": [
    "#| export\n",
    "src_dir = Path(\"../_data/\")"
   ]
  },
  {
   "cell_type": "markdown",
   "metadata": {},
   "source": [
    "## Mistral client"
   ]
  },
  {
   "cell_type": "code",
   "execution_count": null,
   "metadata": {},
   "outputs": [],
   "source": [
    "#| export\n",
    "def ocr_pdf(\n",
    "    pdf_path:Union[Path,str], # Path to the PDF file to process\n",
    "    model:str=\"mistral-ocr-latest\", # Model name to use for OCR processing\n",
    "    include_images:bool=True, # Whether to include base64-encoded images in the response\n",
    "    api_key:str=mistral_api_key # Mistral API key for authentication\n",
    "):\n",
    "    \"Upload a PDF file and process it with OCR in one go\"\n",
    "    if isinstance(pdf_path, str): pdf_path = Path(pdf_path)\n",
    "    cli = Mistral(api_key=api_key)\n",
    "    \n",
    "    uploaded_pdf = cli.files.upload(\n",
    "        file={\n",
    "            \"file_name\": pdf_path.stem,\n",
    "            \"content\": pdf_path.read_bytes(),\n",
    "        },\n",
    "        purpose=\"ocr\"\n",
    "    )\n",
    "\n",
    "    signed_url = cli.files.get_signed_url(file_id=uploaded_pdf.id)\n",
    "    \n",
    "    return cli.ocr.process(\n",
    "        model=model,\n",
    "        document={\n",
    "            \"type\": \"document_url\",\n",
    "            \"document_url\": signed_url.url,\n",
    "        },\n",
    "        include_image_base64=include_images\n",
    "    )"
   ]
  },
  {
   "cell_type": "code",
   "execution_count": null,
   "metadata": {},
   "outputs": [],
   "source": [
    "pdf_fname = \"https://evaluation.iom.int/sites/g/files/tmzbdl151/files/docs/resources/Abridged%20Evaluation%20Report_%20Final_Olta%20NDOJA.pdf\""
   ]
  },
  {
   "cell_type": "code",
   "execution_count": null,
   "metadata": {},
   "outputs": [],
   "source": [
    "#| eval: false\n",
    "r = ocr_pdf(first_paper_pdf)"
   ]
  },
  {
   "cell_type": "code",
   "execution_count": null,
   "metadata": {},
   "outputs": [
    {
     "data": {
      "text/plain": [
       "[OCRPageObject(index=0, markdown='# Certified reference material IAEA-418: ${ }^{129}$ I in Mediterranean Sea water \\n\\nM. K. Pham $\\\\cdot$ M. Betti $\\\\cdot$ P. P. Povinec $\\\\cdot$ V. Alfimov $\\\\cdot$ D. Biddulph $\\\\cdot$<br>J. Gastaud $\\\\cdot$ W. E. Kieser $\\\\cdot$ J. M. López Gutiérrez $\\\\cdot$ G. Possnert $\\\\cdot$<br>J. A. Sanchez-Cabeza $\\\\cdot$ T. Suzuki\\n\\nReceived: 7 May 2010/Published online: 25 May 2010\\n(c) Akadémiai Kiadó, Budapest, Hungary 2010\\n\\n\\n#### Abstract\\n\\nA certified reference material designed for the determination of ${ }^{129} \\\\mathrm{I}$ in seawater, IAEA-418 (Mediterranean Sea water) is described and the results of certification are presented. The median of ${ }^{129} \\\\mathrm{I}$ concentration with $95 \\\\%$ confidence interval was chosen as the most reliable estimates of the true value. The median, given as the certified value, is $2.28 \\\\times 10^{8}$ atom $\\\\mathrm{L}^{-1}(95 \\\\%$ confidence interval is $\\\\left.(2.16-2.73) 10^{8} \\\\mathrm{atom} \\\\mathrm{L}^{-1}\\\\right)$, or $3.19 \\\\times 10^{-7} \\\\mathrm{~Bq} \\\\mathrm{~L}^{-1}(95 \\\\%$ confidence interval is $\\\\left.(3.02-3.82) \\\\times 10^{-7} \\\\mathrm{~Bq} \\\\mathrm{~L}^{-1}\\\\right)$. The material is intended to be used for standardization procedures applied in accelerator mass spectrometric laboratories. It is available in 1 L units and may be ordered via IAEA web side (www.iaea.org).\\n\\n\\n[^0]Keywords ${ }^{129}$ I $\\\\cdot$ Seawater $\\\\cdot$ Certified reference material $\\\\cdot$ Mediterranean Sea\\n\\n## Introduction\\n\\nPrinciples of good laboratory practice require both internal and external procedures to verify the quality of the data produced. Internal quality is verified in a number of ways such as the use of laboratory information systems, keeping full records of equipment performance and standardization of analytical procedures. External quality can also be ascertained in a number of ways, notably accreditation by an external body under a defined quality scheme, but also by the use of internationally accepted calibration standards that are traceable to the SI international system of units, by the participation in interlaboratory comparisons and by the\\nJ. M. López Gutiérrez\\n\\nUniversity of Sevilla, 41092 Sevilla, Spain\\nG. Possnert\\n\\nTandem Laboratory, Uppsala University, 75120 Uppsala, Sweden\\nJ. A. Sanchez-Cabeza\\n\\nInstitut de Ciencia i Tecnologia Ambientals, y Departamento de Física, Universitat Autonoma de Barcelona, 08193 Bellaterra, Spain\\nT. Suzuki\\n\\nAMS Management Section, Aomori Research and Development Center, Japan Atomic Energy Agency, 4-24 Minato-machi, Mutsu-shi, Aomori-ken 035-0064, Japan\\n\\n\\n[^0]:    P. P. Povinec and J. A. Sanchez-Cabeza were formerly at the International Atomic Energy Agency, Marine Environment Laboratories, Monaco.\\n    M. K. Pham ( $\\\\boxtimes$ ) M. Betti $\\\\cdot$ J. Gastaud Marine Environment Laboratories, International Atomic Energy Agency, 98000 Monaco, Monaco\\n    e-mail: m.pham@iaea.org\\n    P. P. Povinec\\n\\n    Faculty of Mathematics, Physics and Informatics, Comenius University, 84248 Bratislava, Slovakia\\n    V. Alfimov\\n\\n    Ion Beam Physics, ETH Zurich, 8093 Zurich, Switzerland\\n    D. Biddulph\\n\\n    NSF-AMS Facility, Physics Department, University of Arizona, Tucson, AZ 85721, USA\\n    W. E. Kieser\\n\\n    IsoTrace Laboratory, University of Toronto, Toronto, ON M55 1A7, Canada', images=[], dimensions=OCRPageDimensions(dpi=200, height=2197, width=1654)),\n",
       " OCRPageObject(index=1, markdown=\"regular use of reference materials (RM) or certified reference materials (CRM) to test the laboratory performance.\\n\\nGood quality data are especially important when they are used in radioecological assessment studies or in radionuclide tracer investigations for better understanding of biogeochemical processes, mixing and transport of water masses in regional seas and in the World Ocean. As radionuclide data are frequently stored in relational databases [1] (e.g. www.iaea.org/maris), they must be validated by internationally accepted procedures. Organizations involved in such activities rely on the quality of the information provided and, ultimately, on the precision and accuracy of the data on which the information is based. To provide accurate information to the public and policy makers about the state of the marine environment, it is indispensable to ensure high quality of data which are validated through international quality assurance tests.\\n\\nSeveral laboratories have been engaged in the production of reference materials or standards for radionuclide environmental studies (e.g. NIST-National Institute of Standards and Technology, Gaithersburg, USA; IRMMInstitute for Reference Materials and Measurements Geel, Belgium). The Radiometrics Laboratory of the International Atomic Energy Agency's Marine Environment Laboratories (IAEA-MEL) in Monaco has been providing Analytical Quality Control Services (AQCS) for IAEA Members States for the last 40 years which included the organization of interlaboratory comparisons, proficiency tests, training, production of RM and CRM [2-8]. More than 40 RM and CRM have been produced, which include a wide range of marine sample matrices and radionuclide concentrations (www.iaea.org). Originally RM were produced as a result of intercomparison exercises, more recently several expert laboratories have been assisting in analyses with the aim to improve the quality of produced RM, and in special cases to produce CRM, e.g. the case of seawater [3].\\n\\nFollowing the discussions during the International Accelerator Mass Spectrometry (AMS) Conference held in Vienna in 2000, the AMS scientific community strongly recommended the production of a RM for low-levels of ${ }^{129} \\\\mathrm{I}$ in seawater, which could be used by AMS laboratories in their radiological assessment $[9,10]$ and oceanographic studies [11-17]. ${ }^{129}$ I because of its behaviour in the marine environment (it is dissolved in seawater), and its long halflife ( $1.57 \\\\times 10^{7}$ years) [18] is an ideal tracer for studying mixing and transport of water masses in the World Ocean [19-21].\\n\\nFollowing these discussions, a new interlaboratory comparison was organised with the aim to provide the participating laboratories with the possibility to test the performance of their analytical methods for the determination of ${ }^{129}$ I in a Mediterranean Sea water sample. It was expected that the sample, after successful certification could be issued as a CRM for ${ }^{129}$ I in seawater.\\n\\n## Material\\n\\n## Sampling\\n\\nAbout 600 L of surface water were collected at the DYFAMED station $\\\\left(43^{\\\\circ} 25.117^{\\\\prime} \\\\mathrm{N}-07^{\\\\circ} 50.040^{\\\\prime} \\\\mathrm{E}\\\\right)$ in the open Mediterranean Sea on 18 February, 2001. The sample was filtered through a membrane filter with a $0.45 \\\\mu \\\\mathrm{~m}$ pore size. No preservatives were added to the sample.\\n\\n## Homogeneity\\n\\nThe sample was initially transferred into three 500 L containers and then homogenised by using pumps to mix water between the containers back and forth for more than 8 h . The samples were bottled in 1 L air-tight polyethylene bottles and labelled with the code IAEA-418 for a total of 200 bottles. These bottles were then stored at ambient temperature in dark conditions.\\n\\n## Sample dispatch and data return\\n\\nEach participant received 2 L of the seawater sample. Participating laboratories were requested to determine the ${ }^{129}$ I concentration using adequate techniques such as AMS and neutron activation analysis (NAA).\\n\\nThe following additional information was requested:\\n\\n- number of carried out analyses;\\n- net activity concentration (i.e. corrected for blank, background, etc.), expressed in $\\\\mathrm{Bq} \\\\mathrm{L}^{-1}$, as well as in atom $\\\\mathrm{L}^{-1}$;\\n- estimation of the combined uncertainty;\\n- description of chemical procedures and analytical equipment;\\n- standards and calibrations procedures used during analyses;\\n- chemical recoveries, counting time, etc.\\n\\nThe samples were distributed to 12 laboratories in October 2001. Later the exercise was extended to five more laboratories. A total of nine laboratories sent their final reports. This paper is based on data from seven laboratories which provided results within the expected range.\\n\\n## Methods\\n\\nMost participants used AMS with prior radiochemical separation of iodine. One laboratory used NAA, but it\", images=[], dimensions=OCRPageDimensions(dpi=200, height=2197, width=1654)),\n",
       " OCRPageObject(index=2, markdown='reported results only as a lower limit of detection. Chemical methods of separation of iodine from seawater samples differed between laboratories, however, the most frequently used method was the following [9, 12]:\\n(i) Stable ${ }^{127} \\\\mathrm{I}$ was added as a carrier. The solution was then reduced with $\\\\mathrm{NaHSO}_{3}$ to convert iodate to iodide, and acidified to pH 2 (one laboratory acidified the sample solution to pH 1 before adding $\\\\mathrm{NaHSO}_{3}$, and then a carrier was added). The amount of $\\\\mathrm{NaHSO}_{3}$ used was 1 mL of 1 M solution per 100 mL of sample.\\n(ii) Iodine was extracted with $\\\\mathrm{CHCl}_{3}$ or $\\\\mathrm{CCl}_{4}$, back extracted into water, then $\\\\mathrm{AgNO}_{3}$ was added and iodine was precipitated as AgI , washed twice with distilled water and dried at $60-80^{\\\\circ} \\\\mathrm{C}$. The AgI was mixed with niobium powder and pressed into copper holders for AMS measurements. Chemical recoveries of iodine varied between 70 and $90 \\\\%$.\\n\\nThe procedure for the AMS measurement of ${ }^{129} \\\\mathrm{I} /{ }^{127} \\\\mathrm{I}$ ratio can be summarized as follows [22]: a beam of negative iodine ions was extracted from the $\\\\mathrm{AgI}+\\\\mathrm{Nb}$ target using a $\\\\mathrm{Cs}^{+}$sputter source. ${ }^{129} \\\\mathrm{I}$ and ${ }^{127} \\\\mathrm{I}$ were separated in the first bending magnet and injected sequentially into a tandem accelerator. At the terminal of the tandem, negative iodine ions were changed to positive ions by an electron stripper, which were then further accelerated. Following acceleration, selected positive iodine ions were analysed by mass spectrometer. The ${ }^{127} \\\\mathrm{I}$ current beam was measured in a Faraday cup, and ${ }^{129} \\\\mathrm{I}$ ions were counted in a gas ionization detector. The use of negative ions in the ion source eliminates the interferences from the isobar ${ }^{129} \\\\mathrm{Xe}$ because this does not form stable negative ions. The use of a tandem accelerator eliminates the interferences from molecules of mass 129 because they are fragmented in the electron stripper process of charge changing at the terminal of the tandem. These two features make the AMS technique highly sensitive for the measurement of long-lived radioactive isotopes.\\n\\nBackground and memory effects were evaluated through carrier iodine blanks which could contribute to the machine background $\\\\left({ }^{129} \\\\mathrm{I} /{ }^{127} \\\\mathrm{I}\\\\right.$ ratio is less than $\\\\left.10^{-13}\\\\right)$. The machine background is evaluated through the use of a natural AgI (iodargyrite) which results with a typical value around $10^{-14}$. The measured ${ }^{129} \\\\mathrm{I} /{ }^{127} \\\\mathrm{I}$ ratios of the samples were about 150 times higher than the natural level, thus resulting in a negligible ( $<1 \\\\%$ ) background correction. Finally, the ${ }^{129} \\\\mathrm{I}$ concentration in the original sample was calculated from the volume of sample used, the total iodine concentration in the original sample, the amount of ${ }^{127} \\\\mathrm{I}$ carrier and the ${ }^{129} \\\\mathrm{I} /{ }^{127} \\\\mathrm{I}$ ratio, determined by the AMS measurement.\\n\\n## Results\\n\\n## Data treatment\\n\\nThe principles and applications of statistical procedures used for the evaluation of data have been described in a previous report [23]. Calculations are based on the assumption of non-parametric distribution of data to which distribution-free statistics are applicable. The \"less than\" values are segregated from the results and the remaining values are checked for the presence of outliers using a Box-and-Whisker plot test.\\n\\nThe obtained results are shown under their laboratory code numbers in Table 1. Laboratory means were calculated when necessary from individual results. They are given either as arithmetic means with corresponding standard deviations when more than two results were reported, or as weighted means with weighted uncertainties in the case of only two results reported. All values were rounded off to the most significant number.\\n\\nTable 1 shows that a reasonable agreement has been obtained between seven participating AMS laboratories. One AMS laboratory produced an outlying result, and the neutron activation laboratory reported only a limit of detection. Two sets of AgI samples were prepared in IAEA-MEL which were analysed by AMS laboratories of the University of Toronto and the University of Sevilla. A reasonable agreement (within 2 standard deviations) have been obtained between the analyses carried out at the both AMS laboratories.\\n\\nThe combined results from all laboratories show a bimodal distribution, although the upper mode has somewhat larger uncertainties (the most precise result in the upper mode is within 4 standard deviations with the lower mode). However, there still could be some systematic errors which may not have been addressed by the laboratories, especially during preparation of AgI samples, which could result for example in lower efficiencies of their extraction procedures. This could happen if the iodine in all the oxidation states that might be present in the sample was not properly collected. The point is, that while all the carrier is probably recovered well, there may be some iodine species native to the sample itself which are not properly recovered due to different steps in the extraction process. The reported relative uncertainties (Table 1) are between 2 and $10 \\\\%$, with one exception at $14 \\\\%$ (at $1 \\\\sigma$ level). Therefore more precise analyses will be required for better understanding of the origin of these discrepancies, which are most probably caused by the differences in chemical procedures.\\n\\nFigure 1 shows the results of the outlier test using a Box-and-Whisker plot. Seven values passed this test and were accepted for calculation of the median, confidence intervals and expanded uncertainties. The median is', images=[], dimensions=OCRPageDimensions(dpi=200, height=2197, width=1654)),\n",
       " OCRPageObject(index=3, markdown='Table 1 Results for ${ }^{129} \\\\mathrm{I}$ concentration in IAEA-418 (Mediterranean Sea water)\\n\\n| Lab. code | Method code | Number of results | Sample volume (mL) | ${ }^{129} \\\\mathrm{I}$ concentration $^{\\\\mathrm{a}}$ |  |\\n| :--: | :--: | :--: | :--: | :--: | :--: |\\n|  |  |  |  | $\\\\left(10^{8} \\\\mathrm{atom} \\\\mathrm{L}^{-1}\\\\right)$ | $\\\\left(10^{-7} \\\\mathrm{~Bq} \\\\mathrm{~L}^{-1}\\\\right)$ |\\n| 1 | AMS | 3 | 500 | $2.28 \\\\pm 0.14$ | $3.19 \\\\pm 0.09$ |\\n| 2 | AMS | $4^{\\\\text {b }}$ | 500 | $2.67 \\\\pm 0.28$ | $3.74 \\\\pm 0.19$ |\\n| 3 | AMS | 1 | 350 | $2.74 \\\\pm 0.74$ | $3.84 \\\\pm 0.53$ |\\n| 4 | AMS | 4 | 200 | $2.20 \\\\pm 0.10$ | $3.08 \\\\pm 0.07$ |\\n| 5 | AMS | 6 | 200 | $2.74 \\\\pm 0.12$ | $3.84 \\\\pm 0.08$ |\\n| 6 | AMS | $2^{\\\\text {c }}$ | 200 | $2.26 \\\\pm 0.24$ | $3.16 \\\\pm 0.17$ |\\n| 7 | AMS | 6 | 500 | $2.16 \\\\pm 0.10$ | $3.02 \\\\pm 0.07$ |\\n| 8 | NAA | 1 | 1,000 | LLD | $<340$ |\\n| 9 | AMS | 1 | 200 | $11.9 \\\\pm 1.4^{\\\\mathrm{d}}$ | $15.5 \\\\pm 1.9^{\\\\mathrm{d}}$ |\\n| Number of reported lab. means |  |  |  | 9 | 9 |\\n| Number of accepted lab. means |  |  |  | 7 | 7 |\\n\\n${ }^{a}$ Uncertainties are given at $2 \\\\sigma$ level\\n${ }^{\\\\text {b }}$ AgI samples were prepared in IAEA-MEL\\n${ }^{\\\\text {c }}$ AgI samples were prepared in IAEA-MEL\\n${ }^{\\\\text {d }}$ Outlier value\\n![img-0.jpeg](img-0.jpeg)\\n\\nFig. 1 Box-and-Whisker plot test for ${ }^{129} \\\\mathrm{I}$ in IAEA-418\\nconsidered to be the most reliable estimates of the true value. Confidence intervals were taken from a non-parametric sample population. They represent a two-sided interval representing $95 \\\\%$ confidence limits. Figure 2 presents the data evaluation with the corresponding standard deviations or weighted uncertainty. Also shown are:\\n(i) the median (full line) and corresponding confidence interval (dashed horizontal lines);\\n(ii) the limit for accepted laboratory means (vertical line).\\n\\nCriteria for certification and metrological traceability\\nThe certification procedure was carried out following the International Standard Organization (ISO) [24] and IAEAMEL [3] guidelines. The median values of the data were considered as the certified values if:\\n![img-1.jpeg](img-1.jpeg)\\n\\nFig. 2 Data evaluation for ${ }^{129} \\\\mathrm{I}$ in IAEA-418 (uncertainties are shown at $2 \\\\sigma$ level)\\n(i) at least five laboratory means were available, calculated from at least three different laboratories;\\n(ii) and the relative uncertainty of the median did not exceed $25 \\\\%$ (for an activity lower than $1 \\\\mu \\\\mathrm{~Bq} \\\\mathrm{~L}^{-1}$ ).\\n\\nThe median concentration for the sets of individual dataafter rejection of outliers-was chosen as the best estimations of the property value [2-8] and it is reported as the certified value. Expanded uncertainty with a coverage factor of $k=2$, corresponding to a level of confidence of about $95 \\\\%$, was also calculated according to the ISO-1993 [25] and NIST Guidelines [26]. The median concentration, given as the certified value (Table 2), is $2.28 \\\\times 10^{8}$ atom $\\\\mathrm{L}^{-1}$ ( $95 \\\\%$ confidence interval is $(2.16-2.72)$ atom $\\\\left.\\\\mathrm{L}^{-1}\\\\right)$, or $3.19 \\\\times$ $10^{-7} \\\\mathrm{~Bq} \\\\mathrm{~L}^{-1}$ ( $95 \\\\%$ confidence interval is $(3.02-3.82) \\\\times$ $10^{-7} \\\\mathrm{~Bq} \\\\mathrm{~L}^{-1}$ ).', images=[OCRImageObject(id='img-0.jpeg', top_left_x=236, top_left_y=876, bottom_right_x=714, bottom_right_y=1318, image_base64='data:image/jpeg;base64,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'), OCRImageObject(id='img-1.jpeg', top_left_x=851, top_left_y=887, bottom_right_x=1498, bottom_right_y=1333, image_base64='data:image/jpeg;base64,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')], dimensions=OCRPageDimensions(dpi=200, height=2197, width=1654)),\n",
       " OCRPageObject(index=4, markdown='Table 2 Certified ${ }^{129} \\\\mathrm{I}$ concentrations in IAEA-418: Mediterranean Sea water (reference date: 18th February 2001; half-life of ${ }^{129} \\\\mathrm{I}$ is $(1.57 \\\\pm 0.04) \\\\times 10^{7}$ years)\\n\\n| Certified values | ${ }^{129} \\\\mathrm{I}$ concentration |  |\\n| :-- | :-- | :-- |\\n|  | $\\\\left(10^{8} \\\\mathrm{atom} \\\\mathrm{L}^{-1}\\\\right)$ | $\\\\left(10^{-7} \\\\mathrm{~Bq} \\\\mathrm{~L}^{-1}\\\\right)$ |\\n| Mean $\\\\pm 2$ Std. dev. | $2.44 \\\\pm 0.27$ | $3.41 \\\\pm 0.37$ |\\n| Median | 2.28 | 3.19 |\\n| Confidence interval $(\\\\alpha=0.05)$ | $2.16-2.73$ | $3.02-3.82$ |\\n| Expanded uncertainty $(k=2)$ | 0.20 | 0.28 |\\n\\nEvidence on metrological traceability to the SI Units was provided by all laboratories and is summarized in Table 3.\\n\\n## $Z$-score analysis\\n\\nFollowing the International Union of Pure and Applied Chemistry (IUPAC) [27] and the ISO [28] recommendations for assessment of laboratory performance, the Z-score methodology was used for the evaluation of the interlaboratory results and performance of the participating laboratories. The Z-score was calculated as following:\\n$Z=\\\\left(X_{i}-X_{\\\\mathrm{a}}\\\\right) / S_{\\\\mathrm{b}}$,\\nwhere $X_{i}$ is the robust mean of activity concentration values reported by laboratory $i, X_{\\\\mathrm{a}}$ is the assigned value (a mean value of accepted results), and $S_{\\\\mathrm{b}}$ is the target standard deviation. The right target value depends on the objective of the exercise. For radionuclide analysis, laboratories were required to have a relative bias below $20 \\\\%\\\\left(S_{\\\\mathrm{b}}<10 \\\\%\\\\right)$.\\n\\nThe uncertainty of the assigned value $\\\\left(S_{\\\\mathrm{ta}}\\\\right)$ was included in the target value for bias [29]:\\n$\\\\left(X_{i}-X_{\\\\mathrm{a}}\\\\right) / \\\\sqrt{s_{\\\\mathrm{b}}^{2}+s_{\\\\mathrm{ta}}^{2}}$\\nThe performance of a laboratory is considered to be acceptable if the difference between the robust mean of the laboratory and the assigned value (in $S_{\\\\mathrm{b}}$ units) is less than or equal to 2 . A $Z$-score from 2 to 3 indicates that the results are of questionable quality, and the result of analysis is regarded as an outlier when $|Z|>3$. The performance of laboratories in terms of accuracy is expressed by $Z$-scores in Fig. 3. The distribution of $Z$-scores is symmetric with their values less than 2 , indicating that the overall performance of the participating laboratories was satisfactory.\\n\\n## Degree of equivalence of the reported results\\n\\nFollowing the International Committee of Weights and Measures (CIPM) recommendation [30], the degree of equivalence of reported results was also included in the data evaluation process. It permits to verify if the measurement reported is consistent with the key comparison reference value.\\n\\nTo compare the relationship between the reported results and their uncertainties, an estimator $\\\\varepsilon$ (a degree of equivalence of a reported results) was calculated by rating the difference between the reported value and the reference value (median) to the total propagated uncertainty of this difference with a coverage factor of two ( $95 \\\\%$ confidence level):\\n\\nTable 3 AMS laboratories included in the evaluation and metrological traceability of reported results\\n\\n| Laboratory | Instrument | Standards and calibrators |\\n| :--: | :--: | :--: |\\n| Japan Atomic Energy Agency, Mutsu | AMS-HVEE ${ }^{\\\\mathrm{a}} 3$ MV Tandetron | NIST 4949C |\\n| University of Sevilla ${ }^{\\\\text {b }}$ | AMS-HVEE ${ }^{\\\\mathrm{a}} 1$ MV Tandetron | NIST 3230 |\\n| University of Arizona | AMS-NEC ${ }^{\\\\mathrm{c}} 3$ MV Pelletron | AgI standard (prepared by the Purdue University, USA) |\\n| University of Uppsala | AMS-NEC ${ }^{\\\\mathrm{c}} 5$ MV Pelletron | NIST 4949C |\\n| University of Toronto | AMS-GIC ${ }^{\\\\text {d }} 3$ MV Tandetron (operated at 2 MV for these measurements) | AgI reference material Iso-2 ${ }^{\\\\text {e }}$ |\\n| University of Toronto ${ }^{\\\\text {b }}$ | AMS-GIC ${ }^{\\\\text {d }} 3$ MV Tandetron (operated at 2 MV for these measurements) | AgI reference material Iso-2 ${ }^{\\\\text {e }}$ |\\n| ETH Zürich | AMS-0.5 MV Tandem accelerator | NIST 4949B |\\n\\n[^0]\\n[^0]:    ${ }^{a}$ High Voltage Engineering Europe, The Netherlands\\n    ${ }^{\\\\mathrm{b}}$ AgI samples were prepared in IAEA-MEL\\n    ${ }^{\\\\text {c }}$ National Electrostatic Corporation, USA\\n    ${ }^{\\\\text {d }}$ General Ionex Corporation, USA\\n    ${ }^{\\\\text {e }}$ The material was prepared by dilution from NIST 4949C and compared with the standard used at the University of Rochester', images=[], dimensions=OCRPageDimensions(dpi=200, height=2197, width=1654)),\n",
       " OCRPageObject(index=5, markdown='![img-2.jpeg](img-2.jpeg)\\n\\nFig. 3 Z-score for ${ }^{129} \\\\mathrm{I}$ in IAEA-418\\n\\nTable 4 Degree of equivalence $\\\\varepsilon$ for IAEA-418\\n\\n| Lab. code | $\\\\varepsilon$ for ${ }^{129} \\\\mathrm{I}$ concentration <br> (atom $\\\\mathrm{L}^{-1}$ ) | $\\\\varepsilon$ for ${ }^{129} \\\\mathrm{I}$ activity <br> concentration $\\\\left(\\\\mathrm{Bq} \\\\mathrm{L}^{-1}\\\\right)$ |\\n| :-- | :-- | :-- |\\n| 1 | 0.00 | 0.00 |\\n| 2 | 0.58 | 0.57 |\\n| 3 | 0.30 | 0.29 |\\n| 4 | 0.19 | 0.18 |\\n| 5 | 1.25 | 1.17 |\\n| 6 | 0.03 | 0.03 |\\n| 7 | 0.29 | 0.27 |\\n\\n$$\\n\\\\begin{aligned}\\n& \\\\varepsilon=\\\\left|\\\\operatorname{Value}_{\\\\text {reference }}-\\\\operatorname{Value}_{\\\\text {reported }}\\\\right| / \\\\\\\\\\n& \\\\quad 2 \\\\times \\\\sqrt{\\\\text { unc }_{\\\\text {reference }}^{2}+\\\\text { unc }_{\\\\text {reported }}^{2}}\\n\\\\end{aligned}\\n$$\\n\\nA smaller $\\\\varepsilon$ indicates a better relationship. The $\\\\varepsilon$ values, listed in Table 4, show that $100 \\\\%$ of the reported results lie within the less than 2 range. It can be concluded therefore that there is a high level of commutability of the reported results.\\n\\n## Conclusions\\n\\nThe accurate and precise determination of radionuclide concentrations in marine samples are important aspects of marine radioactivity assessments and the use of radionuclides in studies of oceanographic processes. To address the problem of data quality, the Radiometrics Laboratory of the IAEA Marine Environment Laboratories in Monaco has been regularly conducting interlaboratory comparisons on radionuclides in marine samples, and producing RM and CRM.\\n\\nThis paper describes the results obtained from nine laboratories on the determination of ${ }^{129} \\\\mathrm{I}$ in a Mediterranean\\n\\nSea water sample (IAEA-418). Results from seven laboratories were accepted for the certification process [31]. The median concentration for the set of individual data was chosen as the best estimation of the property value, which is reported as the certified value.\\n\\nThe sample after successful certification has been issued as a CRM for ${ }^{129} \\\\mathrm{I}$ in seawater. The median concentration, given as the certified value, is $2.28 \\\\times 10^{8}$ atom $\\\\mathrm{L}^{-1}$ (the $95 \\\\%$ confidence interval is $(2.16-2.73)$ atom $\\\\mathrm{L}^{-1}$ ), or $3.19 \\\\times 10^{-7} \\\\mathrm{~Bq} \\\\mathrm{~L}^{-1}$ (the $95 \\\\%$ confidence interval is (3.02$3.82) \\\\times 10^{-7} \\\\mathrm{~Bq} \\\\mathrm{~L}^{-1}$ ). The IAEA-418 is intended to be used by AMS laboratories for quality assurance purposes in the determination of ${ }^{129} \\\\mathrm{I}$ in seawater samples, including development and validation of analytical procedures, preparation and testing of reference methods, quality control, and training of analysts. The CRM is available in 1 L units and may be ordered via IAEA web side (www.iaea.org).\\n\\nAcknowledgments We highly acknowledge participation of colleagues from the Leibniz University of Hannover (Germany) and the Josef Stefan Institute of Ljubljana (Slovenia) in the IAEA-418 interlaboratory comparison. The IAEA is grateful for the support provided to its Marine Environment Laboratories by the Government of the Principality of Monaco. PPP acknowledges a support provided by the EU Research \\\\& Development Operational Program funded by the ERDF (project No. 26240220004).\\n\\n## References\\n\\n1. Povinec PP, Hirose K, Honda T, Ito T, Scott EM, Togawa O (2004) J Environ Radioact 76:113\\n2. Povinec PP, Pham MK (2001) J Radioanal Nucl Chem 248:211\\n3. Povinec PP, Badie C, Baeza A, Barci-Funel G, Bergan TD, Bojanowski R, Burnette WC, Eikenberg J, Fifield LK, Serradell V, Gastaud J, Goroncy I, Herrmann J, Hotchkis MAC, Ikaheimonen TK, Jakobson E, Kalimbadjan J, La Rosa J, Lee S-H, Liong Wee Kwong L, Lueng WM, Nielsen SP, Noureddine A, Pham MK, Rohou J-N, Sanchez-Cabeza JA, Suomela J, Suplinska M, Wyse E (2002) J Radioanal Nucl Chem 251:369\\n4. Pham MK, Sanchez-Cabeza JA, Povinec PP, Arnold D, Benmansour M, Bojanowski R, Carvalho F, Kim CK, Esposito M, Gastaud J, Ham GJ, Hegde AG, Holm E, Jaskierowicz D, Kanisch G, Llaurado M, La Rosa J, Lee S-H, Gascó C, Liong Wee Kwong L, Le Petit G, Maruo Y, Nielsen SP, Oh JS, Oregioni B, Palomares J, Pettersson HBL, Rulik P, Ryan T, Sandor T, Satake H, Schikowski J, Skwarzec B, Smedley PA, Vajda N, Wyse E (2006) Appl Radiat Isot 64:1253\\n5. Povinec PP, Pham MK, Bojanowski R, Boshkova T, Burnett WC, Chapeyron B, Cunha IL, Dahlgaard H, Galabov N, Gastaud J, Geering J-J, Gomez IF, Green N, Hamilton T, Ibanez FL, Ibn Majah M, John M, Kanisch G, Kenna TC, Kloster M, Korun M, Liong Wee Kwong L, La Rosa J, Lee S-H, Levy-Palomo I, Malatova M, Maruo Y, Murciano IV, Nelson R, Oh J-S, Oregioni B, Le Petit G, Pettersson HBL, Reineking A, Smedley PA, van der Struijs TDB, Teixeira MM, Voors PI, Yoshimizu K, Wyse E (2007) J Radioanal Nucl Chem 273:383\\n6. Sanchez-Cabeza JA, Pham MK, Povinec PP (2008) J Environ Radioact 99:1680\\n7. Pham MK, Sanchez-Cabeza JA, Povinec PP, Andor K, Arnold D, Benmansour M, Bikit I, Carvalho FP, Dimitrova K, Edrev ZH,', images=[OCRImageObject(id='img-2.jpeg', top_left_x=148, top_left_y=153, bottom_right_x=808, bottom_right_y=586, image_base64='data:image/jpeg;base64,/9j/4AAQSkZJRgABAQAAAQABAAD/2wBDAAgGBgcGBQgHBwcJCQgKDBQNDAsLDBkSEw8UHRofHh0aHBwgJC4nICIsIxwcKDcpLDAxNDQ0Hyc5PTgyPC4zNDL/2wBDAQkJCQwLDBgNDRgyIRwhMjIyMjIyMjIyMjIyMjIyMjIyMjIyMjIyMjIyMjIyMjIyMjIyMjIyMjIyMjIyMjIyMjL/wAARCAGxApQDASIAAhEBAxEB/8QAHwAAAQUBAQEBAQEAAAAAAAAAAAECAwQFBgcICQoL/8QAtRAAAgEDAwIEAwUFBAQAAAF9AQIDAAQRBRIhMUEGE1FhByJxFDKBkaEII0KxwRVS0fAkM2JyggkKFhcYGRolJicoKSo0NTY3ODk6Q0RFRkdISUpTVFVWV1hZWmNkZWZnaGlqc3R1dnd4eXqDhIWGh4iJipKTlJWWl5iZmqKjpKWmp6ipqrKztLW2t7i5usLDxMXGx8jJytLT1NXW19jZ2uHi4+Tl5ufo6erx8vP09fb3+Pn6/8QAHwEAAwEBAQEBAQEBAQAAAAAAAAECAwQFBgcICQoL/8QAtREAAgECBAQDBAcFBAQAAQJ3AAECAxEEBSExBhJBUQdhcRMiMoEIFEKRobHBCSMzUvAVYnLRChYkNOEl8RcYGRomJygpKjU2Nzg5OkNERUZHSElKU1RVVldYWVpjZGVmZ2hpanN0dXZ3eHl6goOEhYaHiImKkpOUlZaXmJmaoqOkpaanqKmqsrO0tba3uLm6wsPExcbHyMnK0tPU1dbX2Nna4uPk5ebn6Onq8vP09fb3+Pn6/9oADAMBAAIRAxEAPwD3+iiigAooooAKKKKACiiigAooooAKKKKACiiigAooooAKKKKACiiigAooooAKKKKACiiigAooooAKKKKACiiigAooooAKTI9RVbUL2HTbCe9uSwgt0MkhVCxCgZJAHJqG51OC2sI7siaVZQDGkUbO7kjIAUDPTJ9sEmgDQyPWjNYtt4j0670y3vYZH2TzG3iiZCshlBIMZU8hgVbOeBjPQVf06/t9RtjNbsSFdonVhhkZSVZSOxBBoAt0UUUAFFFFABRRRmgAoozQCD0oAKKKKACijNFABRRketFABRRRQAUUUUAFFFFABRRRQAUUUUAFFFFABRRRQAUUUUAFFFFABRRRQAUUUUAFFFFABRRRQAUUUUAFFFFABRRRQAUUUUAFFFFABRRRQAUUUUAFFFFABRRRQAUUUUAFFFFABRRRQAUUUUAFFFFABRRRQAUUUUAFFFFABRRRQAUUUUAFFFFAGR4qR5PCWsRxRSSySWUyIkSF2YlCAAByTzUL6idK8MWlwbS8kfyo0WGK1lkdWI/iVVLADnJx29cA7tFAHGRadaXfh+1ngOoW81nfG9WWWxkSSWdtxdvKYBtreY4xxjseAam0kzeGfDmo6tq0c26a5mv7lI1DGFCPQHsqgkDODnr1rrTWF40/5ETxD/2Dbj/0W1AF7RtVh1vS4NRtklW2uFEkJlXaXQjIbGeM++KlnvYYrmG2yXnlBZY15JUYyfYcjk+uO9Y/gX/kn3h4f9Q2D/0WtUvC0zX3irxZdy58yG9js0B6rEkYIA9izs34+1AGjpHiez1rU76wtobpZ7B/KufMQKEb0znnoen9RV261qxs9WsdLnmC3l8shgQ/xbAC36EVyXgXnxn45PX/AImMf/oH/wCusLxdM+pWd94isrW9fUtOu0n06VbVzGYochhvAwQ26Y57gr6UAei+INes/DWky6nfpMbSHHmPEm4rkgDjOepqs/iaCNIZptO1KOGaSNBK1tlQXIC5wcgZYc1znxE1ODWPgxqOpWjZgurWKWM+mXQgH6dDW1bDxEJtGMrad/Zytm58sMHCeU23rx9/YfyoA29T1G20fS7rUbx9ltbRtK7egA9PX0qe1uIru2juIHV4ZUDxuvRlIyDXN+J7m2u76z0e4tp7q0YG5vI4YWl3KOI0YKMgM+W/7ZkVlfDPUWi0vUfDd0ZxPokxij8+MrI9s3zRMVPOcHGPYetAHfHnv14zWY2u2I8RR6H5hN+1s115YHCorKvJ9ctwPY1lXHjWxTTby7FnqcYt0BIutPmhUksFAyy88kZxnAye1cnY+IdET4kaW8eoNcPLp80c05t5FMkzyRY4I44GB1AAA7UAd/ca/p9rrtno0sj/AG27SRol8ptpCDLHdjHpx15FPvdXhtr5LGOKa5vHjMvkQgbljBxuJYgAZ4Azk84zg1z3iH/kp/grI/5Zah/6Ljqj4ug1NvGEFz4VlX/hIIdOY3EU4Hky2pY7VY9Q+/dtxxwckDqAdbaa5Y3Vhb3sUjfZp5DEHZCNkm7bsYH7p3Arz3471pr0rjNBOnax8N7m3t7ae3UpcQ3MM5/eR3GW8zcf728lsjHXt0Gv4K1GfVvBej390S1xPaRtIx/ibGC34kZ/GgDeooooAKKKKACiiigAooooAKKKKACiiigAooooAKKKKACiiigAooooAKKKKACiiigAooooAKKKKACiiigAooooAKKKKACiiigA6VRstb0rUp5ILDU7K6mi/wBZHBcK7J9QDxTNcsU1PRL2xluntYriB43njIDIpGCQT7Vxen2trrPifQ7zw5pgtdI0nzN2oiLy1uFMZQRxjgumcEtjGV4J5oA9FzRmsnXdYbQ9Mkvv7OuryGFGkl8howY0UZJO9lzwD0yazLTxPq93bR3EXg/UzFKodG+02o3KRkHHm8fzoA6miud/t/Wv+hO1P/wKtf8A47R/b+tf9Cdqf/gVa/8Ax2gDoqK53+39a/6E7U//AAKtf/jtH9v61/0J2p/+BVr/APHaAOiornf7f1r/AKE7U/8AwKtf/jtH9v61/wBCdqf/AIFWv/x2gDoqK53+39a/6E7U/wDwKtf/AI7R/b+tf9Cdqf8A4FWv/wAdoA6Kiud/t/Wv+hO1P/wKtf8A47R/b+tf9Cdqf/gVa/8Ax2gDoqK53+39a/6E7U//AAKtf/jtH9v61/0J2p/+BVr/APHaAOiornf7f1r/AKE7U/8AwKtf/jtH9v61/wBCdqf/AIFWv/x2gDoqK53+39a/6E7U/wDwKtf/AI7R/b+tf9Cdqf8A4FWv/wAdoA6Kiud/t/Wv+hO1P/wKtf8A47R/b+tf9Cdqf/gVa/8Ax2gDoqK53+39a/6E7U//AAKtf/jtH9v61/0J2p/+BVr/APHaAOiornf7f1r/AKE7U/8AwKtf/jtH9v61/wBCdqf/AIFWv/x2gDoqK53+39a/6E7U/wDwKtf/AI7R/b+tf9Cdqf8A4FWv/wAdoA6Kiud/t/Wv+hO1P/wKtf8A47R/b+tf9Cdqf/gVa/8Ax2gDoqK53+39a/6E7U//AAKtf/jtH9v61/0J2p/+BVr/APHaAOirP1vSk1vSLnTJbm4t4bmNopWg2hijDBGWUgZB9M1m/wBv61/0J2p/+BVr/wDHaP7f1r/oTtT/APAq1/8AjtAF/Q9ITQdHtdLhubi4htY1jiacqWCgYAJVQDgfjVaDSn07xJe31upNtqQQzhescyLtDgejLtU+6g9CcQ/2/rX/AEJ2p/8AgVa//HaP7f1r/oTtT/8AAq1/+O0AQWHguPTp9Ynt9Z1VZtWbdO2Ycq2CAU/d4XAOO/QVsWGmLYaJb6XFPM0UECwJI4XeFAAHbGQB6Vnf2/rX/Qnan/4FWv8A8do/t/Wv+hO1P/wKtf8A47QBlx/Dexh8GTeE11XVjpcjZ2l4S6jO4qp8vgFufrmtC58JzXtitjceI9Ya02hJIh9nQSr3VisIbBHBAIzUn9v61/0J2p/+BVr/APHaP7f1r/oTtT/8CrX/AOO0AXbDRhZatf6iby6mlvSm5JQm2MLwqrhQQBk9SeST3NUh4St18XnxLHfXsd00At3hUx+U8YOQCNmfxz2FH9v61/0J2p/+BVr/APHaP7f1r/oTtT/8CrX/AOO0Ab+DnoTWdLo0EniGDWy0v2mG2e2VQRsKOysSR6/KO/51R/t/Wv8AoTtT/wDAq1/+O0f2/rX/AEJ2p/8AgVa//HaAJb/w1HqHiPTtae+vI5tPWRYIozH5eHADZyhJyAO9S3ehxzaymrwXE9teCD7O7RhSsse7cFZWB6EkgjHU9iRVX+39a/6E7U//AAKtf/jtH9v61/0J2p/+BVr/APHaACXQ3sfD9xpOlmTz71pDLdyY3K8hJklbGAW5JAHfaOBkjY06xg0zTbawtl2wW0Swxj0VQAPrwKx/7f1r/oTtT/8AAq1/+O0f2/rX/Qnan/4FWv8A8doA6Kiud/t/Wv8AoTtT/wDAq1/+O0f2/rX/AEJ2p/8AgVa//HaAOiornf7f1r/oTtT/APAq1/8AjtH9v61/0J2p/wDgVa//AB2gDoqK53+39a/6E7U//Aq1/wDjtH9v61/0J2p/+BVr/wDHaAOiornf7f1r/oTtT/8AAq1/+O0f2/rX/Qnan/4FWv8A8doA6Kiud/t/Wv8AoTtT/wDAq1/+O0f2/rX/AEJ2p/8AgVa//HaAOiornf7f1r/oTtT/APAq1/8AjtH9v61/0J2p/wDgVa//AB2gDoqK53+39a/6E7U//Aq1/wDjtH9v61/0J2p/+BVr/wDHaAOiornf7f1r/oTtT/8AAq1/+O0f2/rX/Qnan/4FWv8A8doA6Kiud/t/Wv8AoTtT/wDAq1/+O0f2/rX/AEJ2p/8AgVa//HaAOiornf7f1r/oTtT/APAq1/8AjtH9v61/0J2p/wDgVa//AB2gDoqK53+39a/6E7U//Aq1/wDjtH9v61/0J2p/+BVr/wDHaAOiornf7f1r/oTtT/8AAq1/+O0f2/rX/Qnan/4FWv8A8doA6Kiud/t/Wv8AoTtT/wDAq1/+O0f2/rX/AEJ2p/8AgVa//HaAOiornf7f1r/oTtT/APAq1/8AjtH9v61/0J2p/wDgVa//AB2gDoqK52LxJeDUbK1v/Dt/YrdymGOaSaB13hGfBCSE9EbtXQqMdzQAtFFFABRRRQAUUUUAZuv6RDr+iXWlXEtxFBdRmN3t2CuFPXBIOPTp0JrN07wrNp13BMPEut3EUX/LvM8PlEY6YWIH8iK6SigDE8X/APIk69/2Drj/ANFtVrw//wAi3pf/AF5xf+gCq3jD/kSde/7B1x/6LarPh/8A5FvS/wDrzi/9AFAGjRRRQAUUUUAFFFFABRRRQAUUUUAFFFFABRRRQAUUUUAFFFFABRRRQAUUUUAFFFFABRRRQAUUUUAFFFFABRRRQAUUUUAFFFFABRRRQAUUUUAFFFFABRRRQAUUUUAFFFFABRRRQAUUUUAFFFFABRRRQAUUUUAFFFFABRRRQAUUUUAFFFFABRRRQAUUUUAFFFFAGD4h/wCQp4a/7Ch/9Jp63qwfEP8AyFPDX/YUP/pNPW9QAUUUUAFFFFABRRRQAUUUUAYvjD/kSde/7B1x/wCi2qz4f/5FvS/+vOL/ANAFVvGH/Ik69/2Drj/0W1WfD/8AyLel/wDXnF/6AKANGiiigAooooAKKKKACiiigAooooAKKKKACiiigAooooAKKKKACiiigAooooAKKKKACiiigAooooAKKKKACiiigAooooAKKKKACiiigAooooAKKKKACiiigAooooAKKKKACiiigAooooAKKKKACiiigAooooAKKKKACiiigAooooAKKKKACiiigAooooAKKKKAMHxD/wAhTw1/2FD/AOk09b1YPiH/AJCnhr/sKH/0mnreoAKKKKACiiigAooooAKKKKAMXxh/yJOvf9g64/8ARbVZ8P8A/It6X/15xf8AoAqt4w/5EnXv+wdcf+i2qz4f/wCRb0v/AK84v/QBQBo0UUUAFFFFABRRRQAUUUUAFFFFABRRRQAUUUUAFFFFABRRRQAUUUUAFFFFABRRRQAUUUUAFFFFABRRRQAUUUUAFFFFABRRRQAUUUUAFFFFABRRRQAUUUUAFFFFABRRRQAUUUUAFFFFABRRRQAUUUUAFFFFABRRRQAUUUUAFFFFABRRRQAUUUUAFFFFABRRRQBg+If+Qp4a/wCwof8A0mnrerB8Q/8AIU8Nf9hQ/wDpNPW9QAUUUUAFFFFABRRRQAUUUUAYvjD/AJEnXv8AsHXH/otqs+H/APkW9L/684v/AEAVW8Yf8iTr3/YOuP8A0W1WfD//ACLel/8AXnF/6AKANGiiigAooooAKKKKACiiigAooooAKKKKACiiigAooooAKKKKACiiigAooooAKKKKACiiigAooooAKKKKACiiigAooooAKKKKACiiigAooooAKKKKACiiigAooooAKKKKACiiigAooooAKKKKACiiigAooooAKKKKACiiigAooooAKKKKACiiigAooooAKKKKAMHxD/yFPDX/AGFD/wCk09b1YPiH/kKeGv8AsKH/ANJp63qACiiigAooooAKKKKACio5nMcTOEZyoJ2p1PsPeuZ8K+KLzX9c1yzudNlsIrAwCKOdQJjvViS2GI7DGKANDxh/yJOvf9g64/8ARbVZ8P8A/It6X/15xf8AoAqt4w48E6//ANg64/8ARbVZ8P8A/It6X/15xf8AoAoA0aKKRjjk9KAFornP+E88KdvEGnkeonB/rS/8J54V/wCg/Yf9/hQB0VFc7/wnnhX/AKD9h/3+FH/Cd+FSf+Q/p+f+uwoA6KiqWmatp+s2zXGm3kN1Cr7GeFwwDYBwcdDgg496u0AFFFFABRRRQAUUUUAFFFFABRRRQAUUUUAFFFFABRRRQAUUUUAFFFFABRRRQAUUUUAFFFFABRRRQAUUUUAFFFFABRRRQAUUUUAFFFFABRRRQAUUUUAFFFFABRRRQAUUUUAFFFFABRRRQAUUUUAFFFFABRRRQAUUUUAFFFFABRRRQBg+If8AkKeGv+wof/Saet6sHxD/AMhTw1/2FD/6TT1vUAFFFFABRRRQAUUUUAFctoVpcw+PfFlzLbypBOLPyZWQhZNsbBtp6HB646V1NFAHNePNOgvvBurPMZw0FjcSJ5VxJECfLb72wjcPY5FWfCOnW+n+HLLyGnImt4pG864kl5KDpvJ2j2GBTvGH/Ik69/2Drj/0W1WfD/8AyLel/wDXnF/6AKANGo5/9Q/+6e+KkqOf/USf7p/lQBj+DsnwToJ/6h1uf/Ia1t81i+Dv+RI0D/sG2/8A6LWtugBOaQjkU6g9qAMHw/8A8hfxPz/zE1x7f6Jb/wCfxrerB8P/APIX8T/9hRf/AEkt63qACiiigAoooNABRXP6zfat/b9hpWlT2VuZ7We4klurZ5gPLeFQAqunXzT37UgtPF4/5jOif+CmX/5JoA6Giuf+y+L/APoM6J/4Kpf/AJJo+y+L/wDoM6J/4Kpf/kmgDoMj1ork9RufFGkQ291c6ho9xAby2gkjj06WNissyRkhjOwBAfPSurXNAC0UUUAFFFFABRRRQAUUUUAFFFFABRRRQAUUUUAFFFFABRRRQAUUUUAFFFFABRRRQAUUUUAFFFFABRRRQAUUUUAFFFFABRRRQAUUUUAFFFFABRRRQAUUUUAFFFFABRRRQAUUUUAFFFFABRRRQBg+If8AkKeGv+wof/Saet6sHxD/AMhTw1/2FD/6TT1vUAFFFFABRRRQAUUUUAFFFFAGL4w/5EnXv+wdcf8Aotqs+H/+Rb0v/rzi/wDQBVbxh/yJOvf9g64/9FtVnw//AMi3pf8A15xf+gCgDRqOf/USf7p/lUlRz/6iT/dP8qAMjwd/yJGgf9g23/8ARa1t1ieDv+RI0D/sG2//AKLWtugAoPaig9qAMHw//wAhfxP/ANhRf/SS3rerB8P/APIX8T/9hRf/AEkt63qACiiigAo9KKPSgDn7r/koOk/9gq9/9G2tdBXP3X/JQdJ/7BV7/wCjbWugoAKKKKAMDxj/AMgKH/sJ6f8A+lkNb4rA8Y/8gKH/ALCen/8ApZDW+KACiiigAooooAOlFNbPYVzFn4xe+tIby08M65NbzoJIpVSHDoeQeZQfzoA6miud/wCEnu/+hU17/vmD/wCO0f8ACT3f/Qqa9/3zB/8AHaAOiornD4mu+v8Awimvf98Qf/HavaLrSax9rX7Hd2k1rMIpobpVDKxRXH3WYYww70AatFFFABRRRQAUUUUAFFGaKACiiigAooooAKKKKACiiigAooooAKKKKACiiigAooooAKKKKACiiigAooooAKKKKACiiigAooooAKKKKACiiigAooooAKKKKAMHxD/yFPDX/YUP/pNPW9WD4h/5Cnhr/sKH/wBJp63qACiiigAopD0rA1zxVZ6Jqdjp7293cXN26qBbRbhCrOEDyHI2ruOM9+aAOgoyD0rOj1OM6zLpkiMlwIvPjzyJI84JB9QSAR7j1rQHf+dAC0UUUAYvjD/kSde/7B1x/wCi2qz4f/5FvS/+vOL/ANAFVvGH/Ik69/2Drj/0W1WfD/8AyLel/wDXnF/6AKANGo5/9RJ/un+VSVHP/qJP90/yoAyPB3/IkaB/2Dbf/wBFrW3WJ4O/5EjQP+wbb/8Aota26ACg9qKD2oAwfD//ACF/E/8A2FF/9JLet6sHw/8A8hfxP/2FF/8ASS3reoAKKKKACj0oo9KAOfuv+Sg6T/2Cr3/0ba10Fc/df8lB0n/sFXv/AKNta6CgAooooAwPGP8AyAof+wnp/wD6WQ1visDxj/yAof8AsJ6f/wClkNb4oAKKKKACiiigArn/AAL/AMiF4f8A+wfB/wCgCugrn/Av/IheH/8AsHwf+gCgDoKKKKACuf0H/kYvFP8A1/Rf+ksNdBXP6D/yMXin/r+i/wDSWGgDoKKKKACiiigArB1y/wBVj1bTtN0o2aSXMU0ryXSM6gRmMYAUjrv/AErerBv/APkeNF/68rz/ANCgoAjEXjHP/H5oX/gJN/8AHKPK8Zf8/mhf+Ak3/wAcrohRQBzvleMv+fzQv/ASb/45VXU5/GGnaVeXzXOhyLbQPMUFrMCwVScf6z2rrKyvE/8AyKes/wDXjP8A+gGgC9Zyme0hmYAGSNWIHbIzip6q6Z/yCrP/AK4J/wCgirVABRRRQAUUUUAFFFFABRRRQAUUUUAFFFFABRRRQAUUUUAFFFFABRRRQAUUUUAFFFFABRRRQAUUUUAFFFFABRRRQBg+If8AkKeGv+wof/Saet6sHxD/AMhTw1/2FD/6TT1vUAFFFFACN2rkfEMVxd68mn6VMtvqL20dy7XFuzwOkUwKAsGUhgxPTPDHI6GuuNee/ECHTBqmnTXF1r73oikWCw0Nm82QZGXwOAB0yTzkelAGpoPh/Vo/E0mu+IdUtri/a2Ntb21pGUihi3KzYycsSQvJ9ufTrhXn3gawsBrTXkdx4livI7V4mstdkcuEZkO9M8EZTBKk9ea9BFAC0UUUAYvjD/kSde/7B1x/6LarPh//AJFvS/8Arzi/9AFVvGH/ACJOvf8AYOuP/RbVZ8P/APIt6X/15xf+gCgDRqOf/USf7p/lUlRz/wCok/3T/KgDI8Hf8iRoH/YNt/8A0WtbdYng7/kSNA/7Btv/AOi1rboAKD2ooPagDB8P/wDIX8T/APYUX/0kt63qwfD/APyF/E//AGFF/wDSS3reoAKKKKACj0oo9KAOfuv+Sg6T/wBgq9/9G2tdBXP3X/JQdJ/7BV7/AOjbWugoAKKKKAMDxj/yAof+wnp//pZDW+KwPGP/ACAof+wnp/8A6WQ1vigAooooAKKKKACuf8C/8iF4f/7B8H/oAroK5/wL/wAiF4f/AOwfB/6AKAOgooooAK5/Qf8AkYvFP/X9F/6Sw10Fc/oP/IxeKf8Ar+i/9JYaAOgooooAKKKKACsG/wD+R40X/ryvP/QoK3qwb/8A5HjRf+vK8/8AQoKAN4UUCigArK8T/wDIp6z/ANeM/wD6Aa1ayvE//Ip6z/14z/8AoBoAt6Z/yCrP/rgn/oIq1VXTP+QVZ/8AXBP/AEEVaoAKKKKACiiigAooooAKKKKACiiigAooooAKKKKACiiigAooooAKKKKACiiigAooooAKKKKACiiigAooooAKKKKAMHxD/wAhTw1/2FD/AOk09b1YPiH/AJCnhr/sKH/0mnreoAKKKKAENc5rr6vpuoDUtI02DU3miWGS1a5EMh2lmBRm+X+Jsg+g54roz2rlNfS0sPENrr19pt1epBD5VvNbxNMbRyTubYMn5gVG4A429s0AL4fk8Q6rqrajrWn22lwwRNDDZx3H2iTcxUszuPlH3RgDnk57V1K9OmK4fQNUu/EPjifVbLT7200RLHyXluoTEbubeCrKrckKu4Zx3+ldyKAFooqlZ6zpeozTQ2OpWd1LCcSpBOrtGfRgDx+NAFLxh/yJOvf9g64/9FtVnw//AMi3pf8A15xf+gCq3jAj/hCde/7B1x/6LarHh/8A5FvS/wDrzh/9AFAGlUc/+ok/3T/KpKjn/wBRJ/un+VAGR4O/5EjQP+wbb/8Aota26xPB3/IkaB/2Drf/ANFrW3QAUHtRSEjigDC8P/8AIX8T/wDYUX/0kt63qwfD/wDyF/FH/YUX/wBJLet6gAooooAKPSiigDn7r/koOk/9gq9/9G2tdBXP3X/JQdJ/7BV7/wCjbWugoAKKKKAMDxj/AMgKH/sJ6f8A+lkNb4rA8Y/8gKD/ALCen/8ApZDW8KAFooooAKKKKACuf8C/8iF4f/7B8H/oAroK5/wN/wAiF4f/AOwfB/6AKAOgooooAK5/Qf8AkYvFP/X9F/6Sw10Fc/oP/Iw+Kf8Ar+i/9JYaAOgooooAKKKKACsG/wD+R40X/ryvP/QoK3qwb/8A5HfRf+vK8/8AQoKAN4UUgpaACsrxP/yKes/9eM//AKAa1ayvE/8AyKesf9eM/wD6AaALemf8gqz/AOuCf+girVVNM/5BVn/1wT/0EVboAKKKKACiiigAooooAKKKKACiiigAooooAKKKKACiiigAooooAKKKKACiiigAooooAKKKKACiiigAoooyKACijNFAGD4h/wCQp4a/7Ch/9Jp63qwfEP8AyFPDP/YUP/pNPW9QAUUUUAZPie8m0/w1qN3bzCGeK3do5SBhHx8pOQRgHGcjpXJeKdd1Xw/Y6f4c02/fU/FOqPtilljjUQrj55SqKAFGDjIPfk4xXe3UMdzA9vNGkkMqlJEcZDKRggj0Nc3pvhDw34Ra81fT9O2XAhZmkMjSMEAzhd7HA46ZHQc8DABB4dsdc0HV4LDU9fk1mK6tpJczRBHikQoGwR/Ad/Q9MD1rr16Vz+iafaXd1D4oSe+lmvrVTGty4xHE+HCBF+VccdOuOSetdCoxQBzPxEup7L4f63cWzskq2jgMpwVzwSPwJrI1XSrHQda8FvpNvFA4ujZfuVC74DC5YHH3gCgbnvmu2vbaG9sprS5iEsE8bRyIc4ZSMEceoOK57SPBcOmaja3c+p6hqBsY2hsUu2RhbqRgkFVBY4GMsScY98gDvHlzPb+DNXEOnz3YksbhXMbooiXy2+ZtzDI9hk+1VdB13V00DT1HhHVHVbaIB1uLXDgIPmGZQefcD6Vr+L/+RJ17/sHXH/otqs+H/wDkW9L/AOvOL/0AUAUP7f1f/oT9W/8AAi0/+PUyTXNYdCo8IaqMgjm4tMdP+u1dHRQBxGhan4j0rw/puny+C9RkktbSKB3W8tcMVQKSP3vqK0P+Ej8Qf9CRqf8A4GWn/wAdrp6KAOY/4SPxB/0JGp/+Blp/8do/4SLxBx/xRGp/+Blp/wDHa6eigDi9Iv8AXrO71e4n8Iali9vBPGq3NqdqiCKPBzL1zGT+Nan9v6v/ANCfq3/gRaf/AB6ugooA5/8At/V/+hP1b/wItP8A49R/b+r/APQn6t/4EWn/AMeroKKAOf8A7f1f/oT9W/8AAi0/+PUf29q//Qn6t/4EWn/x6ugooA4i7vvED+JrLVIvB+pNHBZXFuyG6tQxMjwsMfvv+mRz9RWgPEXiAf8AMkal/wCBlp/8drp6KAOY/wCEj8Qf9CRqf/gZaf8Ax2j/AISPxB/0JGp/+Blp/wDHa6eigDhtc1DxFq1hHbJ4N1GIrd205Zru1PyxzxyN0l64Q/jWwNe1cc/8IhquT/08Wn/x6uhooA5/+39X/wChP1b/AMCLT/49R/b+r/8AQn6t/wCBFp/8eroKKAOf/t/V/wDoT9W/8CLT/wCPUf2/q/8A0J+rf+BFp/8AHq6CigDnjrurnH/FIaqPrcWmP/R1Y3h7UPEej+HNN02XwXqMklpbRws63lrhiqgE/wCt9q7qigDmP+Ej8Qf9CRqf/gZaf/HaP+Ej8Qf9CRqf/gZaf/Ha6eigDmP+Ei8QH/mSNT/8DLT/AOO1Q0m+1+z1HWLqfwhqWL65SVFW6tTtCwxx4P731Qmu2ooA5/8At/V/+hP1b/wItP8A49R/b+r/APQn6t/4EWn/AMeroKKAOf8A7f1f/oT9W/8AAi0/+PUf2/q//Qn6t/4EWn/x6ugooA5/+39X/wChP1b/AMCLT/49WVe3+vy+INP1GLwfqRS3t7iJ1a6tQSXMZGP33+wfzrtaKAOY/wCEi8Qf9CRqX/gZaf8Ax2j/AISPxB/0JGp/+Blp/wDHa6eigDmP+Ej8Qf8AQkan/wCBlp/8dqlrGreI9R0W/so/Beoo9xbSQqxvLXALKQP+WvvXaUUAcxZ6zrNvZwQt4Q1QtHGqEi4tMZAx/wA9vap/7f1f/oT9W/8AAi0/+PV0FFAHP/2/q/8A0J+rf+BFp/8AHqP7f1f/AKE/Vv8AwItP/j1dBRQBz/8Ab+r/APQn6t/4EWn/AMepG17V/wDoT9Vz2/0i0/8Aj1dDSGgDk7fxdq12ZjaeDtTlSKVoWb7Tarh1OGHMvr3qb/hI/EH/AEJGp/8AgZaf/Has+Ff+PfVP+wpdf+jDW9QBzH/CR+IP+hI1P/wMtP8A47QfEPiA4H/CE6kOev2y04/8i109FAHJReLdTkv3sZPB+qJciIS7BcWp+QkjOfN9RV3+39X/AOhQ1b/wItP/AI9Tl/5H2T/sFp/6Nat6gDn/AO39X/6E/Vv/AAItP/j1H9v6v/0J+rf+BFp/8eroKKAOf/t/V/8AoT9W/wDAi0/+PUf2/q//AEJ+rf8AgRaf/Hq6CigDlb3xZqVksPmeEdUDTSrDEDcWuGc9BxNx0PNOHiLxBj/kSNT/APA20/8AjtWvE/XRf+wpD/Jq3vWgDmP+Ej8Qf9CRqf8A4GWn/wAdo/4SPxB/0JGp/wDgZaf/AB2unooA5S48Ua3bW8lxN4K1NY4kLu32u0OFAyT/AK32qa38Sanc20VxF4R1Vo5UDoftFryCMjrN71q67/yL2pf9esv/AKAaNC/5F7Tf+vWL/wBAFAGf/b+r/wDQn6t/4EWn/wAeo/t/V/8AoT9W/wDAi0/+PV0FFAHP/wBv6v8A9Cfq3/gRaf8Ax6j+39X/AOhP1b/wItP/AI9XQUUAc8de1c/8yfqvH/Txaf8Ax6qVv4u1W7e4Fp4O1OUQSmFz9ptVw46jBl9666sDwv8Af1z/ALCs38loAr/8JH4g/wChI1P/AMDLT/47R/wkfiD/AKEjU/8AwMtP/jtdPRQBzH/CReIP+hI1P/wMtP8A47UKeLtU/tD7BJ4Q1RbnyjMsYuLU5QEAnPm+pFdbXPv/AMlBh/7BUn/o1aAD+3tXHTwhqp9/tFp/8eo/t/V/+hP1b/wItP8A49XQUUAcZqGqX95rfhyO50G+09BqLHzZ5oWUn7NPxiORjnn0xXZL9MVheIf+Qp4a/wCwof8A0mnreoAKKKKAM7XtQk0nQb/UYoPPktoHlWLON5AyFz2z0rH8PeKtK8YWdzaKJLe9RTHd6fc5jmiyMHI/qPWtDxXHPL4U1RLaF5pzaybI4xlnO04A9zWPrXhTTfGUFvqsAu9K1aIBra/SFoZ4jjoysAWHqD74PNAF6wkvNK1+00EQ2/8AZX2B3tWQMHjETRpsbJOflkXn2NdEK4Hw3c+KT4zgsPE1inmWlhcCPUrcfuboNJBg4/hf5TkcewxXfD1oAWiiigDF8Yf8iTr3/YOuP/RbVZ8P/wDIt6X/ANecX/oAqt4w/wCRJ17/ALB1x/6LarPh/wD5FvS/+vOL/wBAFAGjRRRQAUUUUAFFFFABRRRQAUUUUAFFFFABRRRQAUUUUAFFFFABRRRQAUUUUAFFFFABRRRQAUUUUAFFFFABRRRQAUUUUAFFFFABRRRQAUUUUAFFFFABSGlpDQBheFf+PfVP+wpdf+jDW9WD4V/499U/7Cl1/wCjDW9QAUUUUAYK/wDI+yf9gtP/AEa1b1YK/wDI+yf9gtP/AEa1b1ABRRRQAUUUUAYPifrov/YUh/k1b3rWD4n66L/2FIf5NW960AFFFFAGfrv/ACL2pf8AXrL/AOgGjQv+Re03/r1i/wDQBRrv/Ival/16y/8AoBo0L/kXtN/69Yv/AEAUAaFFFFABRRRQAVgeF/v65/2FZv5LW/WB4X+/rn/YVm/ktAG/RRRQAVz7/wDJQYf+wVJ/6NWugrn3/wCSgw/9gqT/ANGrQB0FFFFAGD4h/wCQp4a/7Ch/9Jp63qwfEP8AyFPDX/YUP/pNPW9QAUUUUAFFFFACEUooooAKKKKAMXxh/wAiTr3/AGDrj/0W1WfD/wDyLel/9ecX/oAqt4w/5EnXv+wdcf8Aotqs+H/+Rb0v/rzi/wDQBQBo0UUUAFFFFABRRRQAUUUUAFFFFABRRRQAUUUUAFFFFABRRRQAUUUUAFFFFABRRRQAUUUUAFFFFABRRRQAUUUUAFFFFABRRRQAUUUUAFFFFABRRRQAUhpaQ0AYXhX/AI99U/7Cl1/6MNb1YPhX/j31T/sKXX/ow1vUAFFFFAGCv/I+yf8AYLT/ANGtW9WCv/I+yf8AYLT/ANGtW9QAUUUUAFFFFAGD4n66L/2FIf5NW961g+J+ui/9hSH+TVvetABRRRQBn67/AMi9qX/XrL/6AaNC/wCRe03/AK9Yv/QBRrv/ACL2pf8AXrL/AOgGjQv+Re03/r1i/wDQBQBoUUUUAFFFFABWB4X+/rn/AGFZv5LW/WB4X+/rn/YVm/ktAG/RRRQAVz7/APJQYf8AsFSf+jVroK59/wDkoMP/AGCpP/Rq0AdBRRRQBg+If+Qp4a/7Ch/9Jp63qwfEP/IU8Nf9hQ/+k09b1ABRRRQAUUUUAFFFFABRRRQBi+MP+RJ17/sHXH/otqs+H/8AkW9L/wCvOL/0AVW8Yf8AIk69/wBg64/9FtVnw/8A8i3pf/XnF/6AKANGiiigAooooAKKKKACiiigAooooAKKKKACiiigAooooAKKKKACiiigAooooAKKKKACiiigAooooAKKKKACiiigAooooAKKKKACiiigAooooAKKKKACkNLSGgDC8K/8e+qf9hS6/wDRhrerB8K/8e+qf9hS6/8ARhreoAKKKKAMFf8AkfZP+wWn/o1q3qwV/wCR9k/7Baf+jWreoAKKKKACiiigDB8T9dF/7CkP8mre9awfE/XRf+wpD/Jq3vWgAooooAz9d/5F7Uv+vWX/ANANGhf8i9pv/XrF/wCgCjXf+Re1L/r1l/8AQDRoX/Ivab/16xf+gCgDQooooAKKKKACsDwv9/XP+wrN/Ja36wPC/wB/XP8AsKzfyWgDfooooAK59/8AkoMP/YKk/wDRq10Fc+//ACUGH/sFSf8Ao1aAOgooooAwfEP/ACFPDX/YUP8A6TT1vVg+If8AkKeGv+wof/Saet6gAooooAKKKKACiiigAooyB1NJkeooAxvGH/Ik69/2Drj/ANFtVnw//wAi3pf/AF5xf+gCq3jD/kSde/7B1x/6LarPh/8A5FvS/wDrzi/9AFAGjRRRQAUUUUAFFFFABRRRQAUUUUAFFFFABRRRQAUUUUAFFFFABRRRQAUUUUAFFFFABRRRQAUUUUAFFFFABRRRQAUUUUAFFFFABRRRQAUUUUAFFFFABSGlpGoA5rw3f2dvHqkc13BE41S5yryBT989ia2v7W03/oIWn/f5f8agm8O6LczNNc6Rp80znLySWqMzH1JI5pn/AAi/h/8A6AWmf+Akf+FAFr+1tN/6CFp/3+X/ABo/tbTf+ghaf9/l/wAaq/8ACL+H/wDoBaZ/4CR/4Uh8L+H/APoBaZ/4CR/4UAU7a6t7nx3M0E8UqrpiAmNwwB8xjjiujqlZ6Tp2nM7WOn2tqZAA5hhVCwHQHA561dFABRRRQAUUUUAYPifrov8A2FIf5NW961g+J+ui/wDYUh/k1b3rQAUUUUAZ+u/8i9qX/XrL/wCgGjQv+Re03/r1i/8AQBRrv/Ival/16y/+gGjQv+Re03/r1i/9AFAGhRRRQAUUUUAFYHhf7+uf9hWb+S1v1geF/v65/wBhWb+S0Ab9FFFABXPv/wAlBh/7BUn/AKNWugrn3/5KDD/2CpP/AEatAHQUUUUAYPiH/kKeGv8AsKH/ANJp63qwfEP/ACFPDX/YUP8A6TT1vUAFFFFABRRRQAUUU1hntmgAbnoa41db14/Em10i6tYbTTHtbiWMJIJGuNrIA7HaCvB+6PU5J4rbl8MaXLry620U5v1IIcXMoTgYHyBtp/Kqd5pV5L8QNJ1NIM2UFjcxSSbh8rM0ZUY687TyKALHjB0TwVru5lUtp9wBk9T5bVa8OSJJ4a0wo6sBaRA7TnB2Cs7xzp9ne+C9Ze7s4LhoLC4eIzRK5RhG3K5HB96teFNPsrDw5YfY7OC3822ieQwxKm9tg5bA5PvQBtUUUUAFFFFABRRRQAUUUUAFFFFABRRRQAUUUUAFFFFABRRRQAUUUUAFFFFABRRRQAUUUUAFFFFABRRRQAUUUUAFFFFABRRRQAUUUUAFFFFABRRRQAUUUUAFFFFABRRRQAUUUUAFFFFABRRRQBg+J+ui/wDYUh/k1b3rWH4nt7yW2sZ7KzkvJbW8jnMMborMoyDguQO/rUP9va0P+ZO1PH/Xza//AB2gDoqK53+39a/6E7U//Aq1/wDjtH9v61/0J2p/+BVr/wDHaANLXf8AkXtS/wCvWX/0A0aF/wAi9pv/AF6xf+gisPUtV1y90y7tU8IakrzQvGrNdWuAWBGT+9roNKgktdIs7eYYligRHGc4YKAaALlFFFABRRRQAVgeF/v65/2FZv5LW/WB4X+/rn/YVm/ktAG/RRRQAVz7/wDJQYf+wVJ/6NWugrn3/wCSgw/9gqT/ANGrQB0FFFFAGD4h/wCQp4a/7Ch/9Jp63qwfEP8AyFPDX/YUP/pNPW9QAUUUUAFFFFABRRRQAUUUUAYvjD/kSde/7B1x/wCi2qz4f/5FvS/+vOL/ANAFVvGH/Ik69/2Drj/0W1WfD/8AyLel/wDXnF/6AKANGiiigAooooAKKKKACiiigAooooAKKKKACiiigAooooAKKKKACiiigAooooAKKKKACiiigAooooAKKKKACiiigAooooAKKKKACiiigAooooAKKKKACiiigAooooAKKKKACiiigAooooAKKKKACiiigAooooAKKKKACiiigAooooAKwPC/39c/7Cs38lrfrjdF8RaJpd3rltqGs6faT/2nK3lXF0kbYIXBwSDigDsqKw/+Ez8Lf9DLo3/gfF/8VR/wmfhb/oZdG/8AA+L/AOKoA3K59/8AkoMP/YKk/wDRq1J/wmfhb/oZdG/8D4v/AIqs+y1fTdW8erJpuoWl6kemOrtbTLIFJlUgEqTg8GgDrKKKKAMHxD/yFPDX/YUP/pNPW9WD4h/5Cnhr/sKH/wBJp63qACiiigAooooAKKKKACiiigDF8Yf8iTr3/YOuP/RbVZ8P/wDIt6X/ANecX/oAqt4w/wCRJ17/ALB1x/6LarPh/wD5FvS/+vOL/wBAFAGjRRRQAUUUUAFFFFABRRRQAUUUUAFFFFABRRRQAUUUUAFFFFABRRRQAUUUUAFFFFABRRRQAUUUUAFFFFABRRRQAUUUUAFFFFABRRRQAUUUUAFFFFABRRRQAUUUUAFFFFABRRRQAUUUUAFFFFABRRRQAUUUUAFFFFABRRRQAUUUUAI3piomtoXYs8EbMepKgk1NRQBB9ktv+faL/vgUfZLb/n2i/wC+BU9FAEH2S2/59ov++BTkgijJ2RImeDtUDNS0UAIM9+tLRRQBg+If+Qp4a/7Ch/8ASaet6sHxD/yFPDX/AGFD/wCk09b1ABRRRQAUUUUAFFFFABRRRQBi+MP+RJ17/sHXH/otqs+H/wDkW9L/AOvOL/0AVW8Yf8iTr3/YOuP/AEW1WfD/APyLel/9ecX/AKAKANGiiigAooooAKKKKACiiigAooooAKKKKACiiigAooooAKKKKACiiigAooooAKKKKACiiigAooooAKKKKACiiigAooooAKKKKACiiigAooooAKKKKACiiigAooooAKKKKACiiigAooooAKKKKACiiigAooooAKKKKACiiigAooooAKKKKACiiigAooooAKKKKAMHxD/yFPDX/YUP/pNPW9WD4h/5Cnhr/sKH/wBJp63qACiiigAooooAKKKKACiiigDF8Yf8iTr3/YOuP/RbVZ8P/wDIt6X/ANecX/oAqt4w/wCRJ17/ALB1x/6LarPh/wD5FvS/+vOL/wBAFAGjRRRQAUUUUAFFFFABRRRQAUUUUAFFFFABRRRQAUUUUAFFFFABRRRQAUUUUAFFFFABRRRQAUUUUAFFFFABRRRQAUUUUAFFFFABRRRQAUUUUAFFFFABRRRQAUUUUAFFFFABRRRQAUUUUAFFFFABRRRQAUUUUAFFFFABRRRQAUUUUAFFFFABRRRQAUUUUAFFFFAGD4h/5Cnhr/sKH/0mnrerB8Q/8hTw1/2FD/6TT1vUAFFFFABRRRQAUUUjDPagAJHrXPf8Jp4d/tUab/aSeeZfIH7t/LMucbPMxs3Z7ZzViXU9VXX0sk0Gd7A4zqAuIgq8Z+4Tu46dDXINp6+IdGj8MeHbPyfDsMy+fqczZ37Jd7CEHl2LKRvOAOcEmgDrvF5z4J17/sHXH/otqs+H/wDkW9L/AOvOL/0AVU8UWeqaloF5YaXFZs93BJA7XUzRhAyFcjarZ69DiqGlReNLDTbezkstAbyI1iVlvZuQoAyf3XHSgDrKK5/zvF//AD4aH/4Gzf8AxqjzvF//AD4aH/4Gzf8AxqgDoKK5/wA7xf8A8+Gh/wDgbN/8ao87xf8A8+Gh/wDgbN/8aoA6Ciuf8/xf/wA+Oh/+Bsv/AMao8/xf/wA+Gh/+Bs3/AMaoA6Ciuf8AO8X/APPhof8A4Gzf/GqPO8X/APPhof8A4Gzf/GqAOgorn/O8X/8APhof/gbN/wDGqPO8X/8APhof/gbN/wDGqAOgorn/ADvF/wDz4aH/AOBs3/xqjzvF/wDz4aH/AOBs3/xqgDoKK5/zvF//AD4aH/4Gzf8AxqjzvF//AD4aH/4Gzf8AxqgDoKK5/wA/xf8A8+Gh/wDgbN/8aoE/i89LHQ//AANl/wDjVAHQUVz/AJ3i/wD58ND/APA2b/41R53i/wD58ND/APA2b/41QB0FFc/53i//AJ8ND/8AA2b/AONUed4v/wCfDQ//AANm/wDjVAHQUVz/AJ3i/wD58ND/APA2b/41R53i/wD58ND/APA2b/41QB0FFc/53i//AJ8ND/8AA2b/AONUed4v/wCfDQ//AANm/wDjVAHQUVz/AJ/i/wD58ND/APA2b/41R5/i/wD58dD/APA2X/41QB0FFc/5/i//AJ8ND/8AA2b/AONUed4v/wCfDQ//AANm/wDjVAHQUVz/AJ3i/wD58ND/APA2b/41R53i/wD58ND/APA2b/41QB0FFc/53i//AJ8ND/8AA2b/AONUed4v/wCfDQ//AANm/wDjVAHQUVz/AJ3i/wD58ND/APA2b/41R53i/wD58ND/APA2b/41QB0FFc/53i//AJ8ND/8AA2b/AONUef4vH/Lhof8A4Gzf/GqAOgorn/O8X/8APhof/gbN/wDGqPO8X/8APhof/gbN/wDGqAOgorn/ADvF/wDz4aH/AOBs3/xqjzvF/wDz4aH/AOBs3/xqgDoKK5/zvF//AD4aH/4Gzf8AxqjzvF//AD4aH/4Gzf8AxqgDoKK5/wA7xf8A8+Gh/wDgbN/8ao87xf8A8+Gh/wDgbN/8aoA6Ciuf87xf/wA+Gh/+Bs3/AMao87xf/wA+Gh/+Bs3/AMaoA6Ciue8/xdjP2HQsf9fsv/xql87xf/z4aH/4Gzf/ABqgDoKK5/zvF/8Az4aH/wCBs3/xqjzvF/8Az4aH/wCBs3/xqgDoKK5/zvF//Phof/gbN/8AGqPO8X/8+Gh/+Bs3/wAaoA6Ciuf87xf/AM+Gh/8AgbN/8ao87xf/AM+Gh/8AgbN/8aoA6Ciuf87xf/z4aH/4Gzf/ABqjzvF//Phof/gbN/8AGqAOgorn/O8X/wDPhof/AIGzf/GqPO8X/wDPhof/AIGzf/GqAOgorn/O8X/8+Gh/+Bs3/wAao87xf/z4aH/4Gzf/ABqgDoKK5/zvF/8Az4aH/wCBs3/xqjzvF/8Az4aH/wCBs3/xqgDoKK5/zvF//Phof/gbN/8AGqPO8X/8+Gh/+Bs3/wAaoA6Ciuf87xf/AM+Gh/8AgbN/8ao87xf/AM+Gh/8AgbN/8aoA6Ciuf8/xeP8Alx0P/wADZv8A41R5/i//AJ8dC/8AA2X/AONUAdBRXP8An+L/APnw0P8A8DZv/jVHneL/APnw0P8A8DZv/jVAHQUVz/neL/8Anw0P/wADZv8A41R53i//AJ8ND/8AA2b/AONUAO8Q/wDIU8Nf9hQ/+k09b1cw9l4i1DVNKl1CDS4bayuTcMbe4kkdj5UkYGGjA/5aZ69q6YCgBaKKKACiiigAooooAZIgddpzzwcHB/PtXKQfDbwvaxxpb2d5Ekf3FTUrkBfwElddRQA1QR1p1FFABRRRQAU1+mRwadSH2oA4DVtX8d6UbSMr4dnuryYQwW8az7nPVieeFVcsT6D1xnvkyBg9fX1rldPtbq++IOrald20yW1hDHZ2BkQqr7xvldc9edq5H90iurHSgBaKKKACiiigAooooAKKKKAKeq6lbaPps+oXj7IIF3MQMk+gA7knAA7nArG8E67f+INLvLnUrWO1uIL6W2MCHOwIcYY5OWGcEj0p3ifw/qWtXemT2OpW9sLGRpvJuLUzpJJgBGIDryvzEdeSD1ANZvw/0/WrFdb/ALVkUxy6pcOi/ZGhLZckyDcxyrdR6erdaAO1opBS0AFFFFABRRRQAUUUUANb/Jrg4fFuuajNJe6TBpc1l57RwWcsxF3dxo5R5EJOFGQ5AIOQvau9avFV8P29h4VuvDa+HbtvFC3Ti0vxZtyfM3RTLcYIRVXZn5sjBGMk0Ae0qMc06mRhgoDckAZOMZp9ABRRRQAUUUUAFFFFABWdrWoy6Xp5uIdOu7+TO0Q2oUv0PPJAx+PetGkb7p+lAGF4M1m48ReEdN1e6jijnuoRI6RZCg5I4BJ9PWt6uX+HFpc2Pw90W2u7eW3uI4MPFMhRlO48EHkV1FABRRRQAUUUUAFFFFABTX5HvTqRu3GaAOB1HxV4ltNLv/EKWFhHo1nI4+zXHmLczRo5RnDcKucEgFTkY55ru4nEiBwCAwBGRjNeXPqh13UnufEukeJHtYLgm10yLSpzAArHbJKQv7xjgNjlRnGD29SibdGrbSoIBwRgj6igB9FFFABRRRQAUUUUAFFFFAGN4ivtUtYrSDR7NLi7u5xF5kwbyYFwWLvt7cYAyMkgZql4Z1vUrzVtX0jVls2u9PMTGez3COQSAkDaxJVht5GTwRVnxNqd1pcVpKunyXunySmK+EMTSSxxlTh1UcsA2AQMnB4rn/A9hHb69q02j2F5YeHZYojFDcxvGJLjLb3RHwwGNoJxyR7UAd7RSDvS0AFFFFABRRRQAUUUUAI1cJb+I/EOp6xeQafc+HooYryW2hhunk8+QRnDHAbB5DflXdOM9M15Nrdrpl3o2q6Xb+Dri18Sz3EhhMdq7jzS+VnFyVAC/wAR+YY5GKAPWhzz7UtRWyyJAiStvkCgM2MAnHJ/OpaACiiigAooooAKKKKACiiigAooooAKKKKACiiigAooooAKKKKACiiigAooooAKKKKACiiigAooooAKKKKACiiigAooooAKKKKACiiigBDRjnPelooAQUtFFABRRRQAUVHPIIoWcq7BRkhF3H8u9ZXh7xLpvie1kutLeeSBHKF5IXjG4dR8wHSgDZooFZev69Y+HdNN/qDSLbhlTckTPyxwM7RxkkDJ45oA1KKTIHU0uR60AFFFGaACikyBjkc9KMj1oAWikyPWjI9aAFooooAKKKKACiiigAooooAKKKKACiiigAooooAQ0AYFLRQAUUUUAFFFFABRRRQAUUUUAIaMd+aWigBBS0UUAFFFFABRRRQAUUUUAFFFFABRRRQAUUUUAFFFFABRRRQAUUUUAFFFFABRRRQAUUUUAFFFFABRRRQAUUUUAFFFFABRRRQAUUUUAFFFFABRRRQAUUUUAFFFFAAelef/AAeIHgqboP8AiYXH/oVd5OJDCwhdUkI+VmXcAfcZGa43wz4Q17wvo76faa9p0qtK82+bS3LAtyek4/CgDc8QXN5bixNvdQWts9xtuZnOZAu04WNSCGYtgYwevArzzxNrd5q/wx8TpdOZHsNYjs45HTY0irNCylgMYOHwcAdDxXT3HgzV5ZtJvh4gVtVsbue4e4ktCYpRIu3b5YkBGFAUfNxye9QS/D2efSfEOmTayWg1e7F6HFqA8UuUY7juwy5jXgBeO9AEkup+IPD/AIx0my1K+g1DTtXaWNdlsITbSqu4YwTlTz1yagt/EOs6r4Bn8X6fdrGyrNcQWTQqY2hjZgFc43FiqHkMACcY456JNDuLrVrLU9VnguJrJX+zxwQmJFdxhnOWY5xwOeMnr1rOt/Bcthot/oVnqXl6PdvIViMGZYEkJ3pG+7AHLYypxk8nsAZQ8Ra3rviLT7PSr23srLUdC/tGJ3thK0LEqBnLfMRux2HJqfxHq+t6NY6xPJqUHmWNms1tFBCHM5VCZHnTBKIWBAww4HWtSPwnLbeLrHWLW7hitLSw/s9LP7MSfL3A/f38EbRj5az77wNfXl14kEetCKy12LbLG9oHkRxHsGHLY24xxj2BB5oArX1xe6h8QfCrpf3VvBdafPceTGUKo21PVTk4bHOfbHOb2n6rq3iWx1i+0u9W2NpdzW1nD5Sukhj4zJnn5mz90rgYp/8AwiGoLd+Hr5dWhF7pVu9tI/2PKTRsFHA3/IRtGDk8k8Y4qzbeFrrSrnVv7I1Fbe21OVriSOSDzDBMwwzodw64BwQcEZ6cUAc5b+MdZ16fwY+nT21pDrlvc+cHgMhjkiTkgluRuzgew5Nad1qOt6B4m8OwapqgudO1ANaTSiBIx9q25TsSA+CAAeo/Cp/+EHFrqXhqbTL2K1tNCjljit5LcyGTzE2sSwdccc9OpNM8bT6VrNjL4XF6g1icxNbwxt+9ibeCsoxyAuMk+g96AN3QLi5vIbu6mnaSCS5dbVSqjbGp25yBzlgxB9CK16gs7aOytIrWBQsMKLHGo/hUDAH5Cp6ACiiigAooooAKKKKACiiigAooooAKKKKACiiigAooooAKKKKACiiigAooooAKKKKACiiigAooooAKKKKACiiigAooooAKKKKACiiigAooooAKKKKACiiigAooooAKKKKACiiigAooooAKKKKACiiigAooooAKKKKACiiigAooooAKKKKACiiigAooooAKKKKACiiigAooooAKKKKACiiigBD1Fcw//JRE/wCvX+hoooA6cdT9aWiigAooooAKKKKACiiigAooooAKKKKACiiigAooooAKKKKACiiigAooooAKKKKACiiigAooooAKKKKACiiigAooooA//9k=')], dimensions=OCRPageDimensions(dpi=200, height=2197, width=1654)),\n",
       " OCRPageObject(index=6, markdown='Engeler C, Fouche FJ, Garcia-Orellana J, Gasco C, Gastaud J, Gudelis A, Hancock G, Holm E, Legarda F, Bäheimonen TK, Ilchmann C, Jenkinson AV, Kanisch G, Kis-Benedek G, Kleinschmidt R, Koukouliou V, Kuhar B, La Rosa J, Lee S-H, Lepetit G, Levy-Palomo I, Liong Wee Kwong L, Llaurado M, Maringer FJ, Meyer M, Michalik B, Michel H, Nies H, Nour S, Oh J-S, Oregioni B, Palomares J, Pantelic G, Pfitzner J, Pilvio R, Puskeiler L, Satake H, Schikowski J, Vitorovic G, Woodhead D, Wyse E (2008) Appl Radiat Isot 66:1711\\n8. Pham MK, Betti M, Povinec PP, Benmansour M, Bojanowski R, Bouisset P, Calvo EC, Ham GJ, Holm E, Hult M, Ilchmann C, Kloster M, Kanisch G, Köhler M, La Rosa J, Legarda F, Llauradó M, Nourredine A, Oh JS, Pellicciari M, Rieth U, Rodriguez y Baena AM, Sanchez-Cabeza JA, Satake H, Schikowski J, Takeishi M, Thébault H, Varga Z (2010) J Radioanal Nucl Chem 283:851\\n9. Povinec PP, Oregioni B, Jull AJT, Kieser WE, Zhao X-L (2000) Nucl Instrum Methods Phys Res B 172:672\\n10. Livingston HD, Povinec PP (2000) Ocean Coast Manag 43:689\\n11. Raisbeck G, Yiou F (1999) Sci Total Environ 237/238:31\\n12. Buraglio N, Aldahan A, Possnert G (2000) Nucl Instrum Methods Phys Res 172:518\\n13. Santschi PH, Schwehr KA (2004) Sci Total Environ 321:257\\n14. Povinec PP (2004) Developments in analytical technologies for marine radioactivity studies. In: Livingston HD (ed) Marine radioactivity. Elsevier, Amsterdam, pp 237-294\\n15. Jull AJT, Burr GS (2006) Earth Planet Sci Lett 243:305\\n16. Fifield LK (2008) Accelerator mass spectrometry of long-lived heavy radionuclides. In: Povinec PP (ed) Analysis of environmental radionuclides. Elsevier, Amsterdam, pp 263-295\\n17. Povinec PP, Betti M, Jull AJT, Vojtyla P (2008) Acta Phys Slovaca 58:1\\n18. Evaluated Nuclear Structure Data File (ENSDF). Datasets for ${ }^{129}$ I. National Nuclear Data Center. http://www.nndc.bnl.gov/ensdf\\n19. Edmonds HN, Zhou ZQ, Raisbeck GM, Yiou F, Kilius L (2001) J Geophys Res 106:6881\\n20. Copper LW, Hong G-H, Beasley TM, Grebmeier M (2001) Mar Pollut Bull 42:1347\\n21. Povinec PP, Lee S-H, Liong Wee Kwong L, Oregioni B, Jull AJT, Kieser WE, Morgenstern U, Top Z (2010) Nucl Instrum Methods Phys Res B 268:1214\\n22. Litherland AE (1980) Annu Rev Nucl Part Sci 30:437\\n23. Povinec PP, Pham MK, Ballestra S (1999) Report on the intercomparison run IAEA-381: radionuclides in Irish Sea water. IAEA/AL/118, IAEA/MEL/66, IAEA, Monaco, 43 pp\\n24. International Standard Organization (ISO) (2006) Guide 35 certification of reference materials-general and statistical principles. ISO, Geneva\\n25. International Standard Organization (ISO) (1993) Guide to the expression of uncertainty in measurement. ISO, Geneva\\n26. Taylor BN, Kuyatt CE (1994) Guidelines for evaluating and expressing the uncertainty of NIST measurement results. NIST Technical Note 1297, Washington, DC, 20 pp\\n27. Thompson M, Ellison SLR, Wood R (2006) J Pure Appl Chem 78:145\\n28. International Standard Organization (ISO) (1997) Guide 43 proficiency testing and interlaboratory comparisons. ISO/IEC, Geneva\\n29. Cofino WP, Wells DE (1994) Mar Pollut Bull 29:149\\n30. CIPM (1999) Guidelines for CIPM key comparisons. CIPM, Paris, 9 pp\\n31. International Atomic Energy Agency (2009) Certified reference material IAEA-418: 1-129 in Mediterranean Sea water. IAEA/ AQ/9. IAEA, Vienna, 24 pp', images=[], dimensions=OCRPageDimensions(dpi=200, height=2197, width=1654))]"
      ]
     },
     "execution_count": null,
     "metadata": {},
     "output_type": "execute_result"
    }
   ],
   "source": [
    "#| eval: false\n",
    "r.pages"
   ]
  },
  {
   "cell_type": "code",
   "execution_count": null,
   "metadata": {},
   "outputs": [
    {
     "data": {
      "text/html": [
       "<pre style=\"white-space:pre;overflow-x:auto;line-height:normal;font-family:Menlo,'DejaVu Sans Mono',consolas,'Courier New',monospace\">Table <span style=\"color: #008080; text-decoration-color: #008080; font-weight: bold\">2</span> Certified $<span style=\"font-weight: bold\">{</span> <span style=\"font-weight: bold\">}</span>^<span style=\"font-weight: bold\">{</span><span style=\"color: #008080; text-decoration-color: #008080; font-weight: bold\">129</span><span style=\"font-weight: bold\">}</span> \\mathrm<span style=\"font-weight: bold\">{</span>I<span style=\"font-weight: bold\">}</span>$ concentrations in IAEA-<span style=\"color: #008080; text-decoration-color: #008080; font-weight: bold\">418</span>: Mediterranean Sea water <span style=\"font-weight: bold\">(</span>reference date: 18th \n",
       "February <span style=\"color: #008080; text-decoration-color: #008080; font-weight: bold\">2001</span>; half-life of $<span style=\"font-weight: bold\">{</span> <span style=\"font-weight: bold\">}</span>^<span style=\"font-weight: bold\">{</span><span style=\"color: #008080; text-decoration-color: #008080; font-weight: bold\">129</span><span style=\"font-weight: bold\">}</span> \\mathrm<span style=\"font-weight: bold\">{</span>I<span style=\"font-weight: bold\">}</span>$ is $<span style=\"font-weight: bold\">(</span><span style=\"color: #008080; text-decoration-color: #008080; font-weight: bold\">1.57</span> \\pm <span style=\"color: #008080; text-decoration-color: #008080; font-weight: bold\">0.04</span><span style=\"font-weight: bold\">)</span> \\times <span style=\"color: #008080; text-decoration-color: #008080; font-weight: bold\">10</span>^<span style=\"font-weight: bold\">{</span><span style=\"color: #008080; text-decoration-color: #008080; font-weight: bold\">7</span><span style=\"font-weight: bold\">}</span>$ years<span style=\"font-weight: bold\">)</span>\n",
       "\n",
       "| Certified values | $<span style=\"font-weight: bold\">{</span> <span style=\"font-weight: bold\">}</span>^<span style=\"font-weight: bold\">{</span><span style=\"color: #008080; text-decoration-color: #008080; font-weight: bold\">129</span><span style=\"font-weight: bold\">}</span> \\mathrm<span style=\"font-weight: bold\">{</span>I<span style=\"font-weight: bold\">}</span>$ concentration |  |\n",
       "| :-- | :-- | :-- |\n",
       "|  | $\\<span style=\"color: #800080; text-decoration-color: #800080; font-weight: bold\">left</span><span style=\"font-weight: bold\">(</span><span style=\"color: #008080; text-decoration-color: #008080; font-weight: bold\">10</span>^<span style=\"font-weight: bold\">{</span><span style=\"color: #008080; text-decoration-color: #008080; font-weight: bold\">8</span><span style=\"font-weight: bold\">}</span> \\mathrm<span style=\"font-weight: bold\">{</span>atom<span style=\"font-weight: bold\">}</span> \\mathrm<span style=\"font-weight: bold\">{</span>L<span style=\"font-weight: bold\">}</span>^<span style=\"font-weight: bold\">{</span><span style=\"color: #008080; text-decoration-color: #008080; font-weight: bold\">-1</span><span style=\"font-weight: bold\">}</span>\\right<span style=\"font-weight: bold\">)</span>$ | $\\<span style=\"color: #800080; text-decoration-color: #800080; font-weight: bold\">left</span><span style=\"font-weight: bold\">(</span><span style=\"color: #008080; text-decoration-color: #008080; font-weight: bold\">10</span>^<span style=\"font-weight: bold\">{</span><span style=\"color: #008080; text-decoration-color: #008080; font-weight: bold\">-7</span><span style=\"font-weight: bold\">}</span> \\mathrm<span style=\"font-weight: bold\">{</span>~Bq<span style=\"font-weight: bold\">}</span> \\mathrm<span style=\"font-weight: bold\">{</span>~L<span style=\"font-weight: bold\">}</span>^<span style=\"font-weight: bold\">{</span><span style=\"color: #008080; text-decoration-color: #008080; font-weight: bold\">-1</span><span style=\"font-weight: bold\">}</span>\\right<span style=\"font-weight: bold\">)</span>$ |\n",
       "| Mean $\\pm <span style=\"color: #008080; text-decoration-color: #008080; font-weight: bold\">2</span>$ Std. dev. | $<span style=\"color: #008080; text-decoration-color: #008080; font-weight: bold\">2.44</span> \\pm <span style=\"color: #008080; text-decoration-color: #008080; font-weight: bold\">0.27</span>$ | $<span style=\"color: #008080; text-decoration-color: #008080; font-weight: bold\">3.41</span> \\pm <span style=\"color: #008080; text-decoration-color: #008080; font-weight: bold\">0.37</span>$ |\n",
       "| Median | <span style=\"color: #008080; text-decoration-color: #008080; font-weight: bold\">2.28</span> | <span style=\"color: #008080; text-decoration-color: #008080; font-weight: bold\">3.19</span> |\n",
       "| Confidence interval $<span style=\"font-weight: bold\">(</span>\\<span style=\"color: #808000; text-decoration-color: #808000\">alpha</span>=<span style=\"color: #008080; text-decoration-color: #008080; font-weight: bold\">0.05</span><span style=\"font-weight: bold\">)</span>$ | $<span style=\"color: #008080; text-decoration-color: #008080; font-weight: bold\">2.16</span>-<span style=\"color: #008080; text-decoration-color: #008080; font-weight: bold\">2.73</span>$ | $<span style=\"color: #008080; text-decoration-color: #008080; font-weight: bold\">3.02</span>-<span style=\"color: #008080; text-decoration-color: #008080; font-weight: bold\">3.82</span>$ |\n",
       "| Expanded uncertainty $<span style=\"font-weight: bold\">(</span><span style=\"color: #808000; text-decoration-color: #808000\">k</span>=<span style=\"color: #008080; text-decoration-color: #008080; font-weight: bold\">2</span><span style=\"font-weight: bold\">)</span>$ | <span style=\"color: #008080; text-decoration-color: #008080; font-weight: bold\">0.20</span> | <span style=\"color: #008080; text-decoration-color: #008080; font-weight: bold\">0.28</span> |\n",
       "\n",
       "Evidence on metrological traceability to the SI Units was provided by all laboratories and is summarized in Table \n",
       "<span style=\"color: #008080; text-decoration-color: #008080; font-weight: bold\">3</span>.\n",
       "\n",
       "## $Z$-score analysis\n",
       "\n",
       "Following the International Union of Pure and Applied Chemistry <span style=\"font-weight: bold\">(</span>IUPAC<span style=\"font-weight: bold\">)</span> <span style=\"font-weight: bold\">[</span><span style=\"color: #008080; text-decoration-color: #008080; font-weight: bold\">27</span><span style=\"font-weight: bold\">]</span> and the ISO <span style=\"font-weight: bold\">[</span><span style=\"color: #008080; text-decoration-color: #008080; font-weight: bold\">28</span><span style=\"font-weight: bold\">]</span> recommendations for \n",
       "assessment of laboratory performance, the Z-score methodology was used for the evaluation of the interlaboratory \n",
       "results and performance of the participating laboratories. The Z-score was calculated as following:\n",
       "$<span style=\"color: #808000; text-decoration-color: #808000\">Z</span>=\\<span style=\"color: #800080; text-decoration-color: #800080; font-weight: bold\">left</span><span style=\"font-weight: bold\">(</span>X_<span style=\"font-weight: bold\">{</span>i<span style=\"font-weight: bold\">}</span>-X_<span style=\"font-weight: bold\">{</span>\\mathrm<span style=\"font-weight: bold\">{</span>a<span style=\"font-weight: bold\">}}</span>\\right<span style=\"font-weight: bold\">)</span> <span style=\"color: #800080; text-decoration-color: #800080\">/</span> S_<span style=\"font-weight: bold\">{</span>\\mathrm<span style=\"font-weight: bold\">{</span>b<span style=\"font-weight: bold\">}}</span>$,\n",
       "where $X_<span style=\"font-weight: bold\">{</span>i<span style=\"font-weight: bold\">}</span>$ is the robust mean of activity concentration values reported by laboratory $i, X_<span style=\"font-weight: bold\">{</span>\\mathrm<span style=\"font-weight: bold\">{</span>a<span style=\"font-weight: bold\">}}</span>$ is the\n",
       "assigned value <span style=\"font-weight: bold\">(</span>a mean value of accepted results<span style=\"font-weight: bold\">)</span>, and $S_<span style=\"font-weight: bold\">{</span>\\mathrm<span style=\"font-weight: bold\">{</span>b<span style=\"font-weight: bold\">}}</span>$ is the target standard deviation. The right\n",
       "target value depends on the objective of the exercise. For radionuclide analysis, laboratories were required to \n",
       "have a relative bias below $<span style=\"color: #008080; text-decoration-color: #008080; font-weight: bold\">20</span> \\%\\<span style=\"color: #800080; text-decoration-color: #800080; font-weight: bold\">left</span><span style=\"font-weight: bold\">(</span>S_<span style=\"font-weight: bold\">{</span>\\mathrm<span style=\"font-weight: bold\">{</span>b<span style=\"font-weight: bold\">}}&lt;</span><span style=\"color: #008080; text-decoration-color: #008080; font-weight: bold\">10</span><span style=\"color: #000000; text-decoration-color: #000000\"> \\%\\right</span><span style=\"color: #000000; text-decoration-color: #000000; font-weight: bold\">)</span><span style=\"color: #000000; text-decoration-color: #000000\">$.</span>\n",
       "\n",
       "<span style=\"color: #000000; text-decoration-color: #000000\">The uncertainty of the assigned value $\\</span><span style=\"color: #800080; text-decoration-color: #800080; font-weight: bold\">left</span><span style=\"color: #000000; text-decoration-color: #000000; font-weight: bold\">(</span><span style=\"color: #000000; text-decoration-color: #000000\">S_</span><span style=\"color: #000000; text-decoration-color: #000000; font-weight: bold\">{</span><span style=\"color: #000000; text-decoration-color: #000000\">\\mathrm</span><span style=\"color: #000000; text-decoration-color: #000000; font-weight: bold\">{</span><span style=\"color: #000000; text-decoration-color: #000000\">ta</span><span style=\"color: #000000; text-decoration-color: #000000; font-weight: bold\">}}</span><span style=\"color: #000000; text-decoration-color: #000000\">\\right</span><span style=\"color: #000000; text-decoration-color: #000000; font-weight: bold\">)</span><span style=\"color: #000000; text-decoration-color: #000000\">$ was included in the target value for bias </span>\n",
       "<span style=\"color: #000000; text-decoration-color: #000000; font-weight: bold\">[</span><span style=\"color: #008080; text-decoration-color: #008080; font-weight: bold\">29</span><span style=\"color: #000000; text-decoration-color: #000000; font-weight: bold\">]</span><span style=\"color: #000000; text-decoration-color: #000000\">:</span>\n",
       "<span style=\"color: #000000; text-decoration-color: #000000\">$\\</span><span style=\"color: #800080; text-decoration-color: #800080; font-weight: bold\">left</span><span style=\"color: #000000; text-decoration-color: #000000; font-weight: bold\">(</span><span style=\"color: #000000; text-decoration-color: #000000\">X_</span><span style=\"color: #000000; text-decoration-color: #000000; font-weight: bold\">{</span><span style=\"color: #000000; text-decoration-color: #000000\">i</span><span style=\"color: #000000; text-decoration-color: #000000; font-weight: bold\">}</span><span style=\"color: #000000; text-decoration-color: #000000\">-X_</span><span style=\"color: #000000; text-decoration-color: #000000; font-weight: bold\">{</span><span style=\"color: #000000; text-decoration-color: #000000\">\\mathrm</span><span style=\"color: #000000; text-decoration-color: #000000; font-weight: bold\">{</span><span style=\"color: #000000; text-decoration-color: #000000\">a</span><span style=\"color: #000000; text-decoration-color: #000000; font-weight: bold\">}}</span><span style=\"color: #000000; text-decoration-color: #000000\">\\right</span><span style=\"color: #000000; text-decoration-color: #000000; font-weight: bold\">)</span><span style=\"color: #000000; text-decoration-color: #000000\"> </span><span style=\"color: #800080; text-decoration-color: #800080\">/</span><span style=\"color: #000000; text-decoration-color: #000000\"> \\sqrt</span><span style=\"color: #000000; text-decoration-color: #000000; font-weight: bold\">{</span><span style=\"color: #000000; text-decoration-color: #000000\">s_</span><span style=\"color: #000000; text-decoration-color: #000000; font-weight: bold\">{</span><span style=\"color: #000000; text-decoration-color: #000000\">\\mathrm</span><span style=\"color: #000000; text-decoration-color: #000000; font-weight: bold\">{</span><span style=\"color: #000000; text-decoration-color: #000000\">b</span><span style=\"color: #000000; text-decoration-color: #000000; font-weight: bold\">}}</span><span style=\"color: #000000; text-decoration-color: #000000\">^</span><span style=\"color: #000000; text-decoration-color: #000000; font-weight: bold\">{</span><span style=\"color: #008080; text-decoration-color: #008080; font-weight: bold\">2</span><span style=\"color: #000000; text-decoration-color: #000000; font-weight: bold\">}</span><span style=\"color: #000000; text-decoration-color: #000000\">+s_</span><span style=\"color: #000000; text-decoration-color: #000000; font-weight: bold\">{</span><span style=\"color: #000000; text-decoration-color: #000000\">\\mathrm</span><span style=\"color: #000000; text-decoration-color: #000000; font-weight: bold\">{</span><span style=\"color: #000000; text-decoration-color: #000000\">ta</span><span style=\"color: #000000; text-decoration-color: #000000; font-weight: bold\">}}</span><span style=\"color: #000000; text-decoration-color: #000000\">^</span><span style=\"color: #000000; text-decoration-color: #000000; font-weight: bold\">{</span><span style=\"color: #008080; text-decoration-color: #008080; font-weight: bold\">2</span><span style=\"color: #000000; text-decoration-color: #000000; font-weight: bold\">}}</span><span style=\"color: #000000; text-decoration-color: #000000\">$</span>\n",
       "<span style=\"color: #000000; text-decoration-color: #000000\">The performance of a laboratory is considered to be acceptable if the difference between the robust mean of the </span>\n",
       "<span style=\"color: #000000; text-decoration-color: #000000\">laboratory and the assigned value </span><span style=\"color: #000000; text-decoration-color: #000000; font-weight: bold\">(</span><span style=\"color: #000000; text-decoration-color: #000000\">in $S_</span><span style=\"color: #000000; text-decoration-color: #000000; font-weight: bold\">{</span><span style=\"color: #000000; text-decoration-color: #000000\">\\mathrm</span><span style=\"color: #000000; text-decoration-color: #000000; font-weight: bold\">{</span><span style=\"color: #000000; text-decoration-color: #000000\">b</span><span style=\"color: #000000; text-decoration-color: #000000; font-weight: bold\">}}</span><span style=\"color: #000000; text-decoration-color: #000000\">$ units</span><span style=\"color: #000000; text-decoration-color: #000000; font-weight: bold\">)</span><span style=\"color: #000000; text-decoration-color: #000000\"> is less than or equal to </span><span style=\"color: #008080; text-decoration-color: #008080; font-weight: bold\">2</span><span style=\"color: #000000; text-decoration-color: #000000\"> . A $Z$-score from </span><span style=\"color: #008080; text-decoration-color: #008080; font-weight: bold\">2</span><span style=\"color: #000000; text-decoration-color: #000000\"> to </span><span style=\"color: #008080; text-decoration-color: #008080; font-weight: bold\">3</span><span style=\"color: #000000; text-decoration-color: #000000\"> </span>\n",
       "<span style=\"color: #000000; text-decoration-color: #000000\">indicates that the results are of questionable quality, and the result of analysis is regarded as an outlier when </span>\n",
       "<span style=\"color: #000000; text-decoration-color: #000000\">$|Z|</span><span style=\"font-weight: bold\">&gt;</span><span style=\"color: #008080; text-decoration-color: #008080; font-weight: bold\">3</span>$. The performance of laboratories in terms of accuracy is expressed by $Z$-scores in Fig. <span style=\"color: #008080; text-decoration-color: #008080; font-weight: bold\">3</span>. The \n",
       "distribution of $Z$-scores is symmetric with their values less than <span style=\"color: #008080; text-decoration-color: #008080; font-weight: bold\">2</span> , indicating that the overall performance of \n",
       "the participating laboratories was satisfactory.\n",
       "\n",
       "## Degree of equivalence of the reported results\n",
       "\n",
       "Following the International Committee of Weights and Measures <span style=\"font-weight: bold\">(</span>CIPM<span style=\"font-weight: bold\">)</span> recommendation <span style=\"font-weight: bold\">[</span><span style=\"color: #008080; text-decoration-color: #008080; font-weight: bold\">30</span><span style=\"font-weight: bold\">]</span>, the degree of equivalence\n",
       "of reported results was also included in the data evaluation process. It permits to verify if the measurement \n",
       "reported is consistent with the key comparison reference value.\n",
       "\n",
       "To compare the relationship between the reported results and their uncertainties, an estimator $\\varepsilon$ <span style=\"font-weight: bold\">(</span>a \n",
       "degree of equivalence of a reported results<span style=\"font-weight: bold\">)</span> was calculated by rating the difference between the reported value and\n",
       "the reference value <span style=\"font-weight: bold\">(</span>median<span style=\"font-weight: bold\">)</span> to the total propagated uncertainty of this difference with a coverage factor of two <span style=\"font-weight: bold\">(</span>\n",
       "$<span style=\"color: #008080; text-decoration-color: #008080; font-weight: bold\">95</span> \\%$ confidence level<span style=\"font-weight: bold\">)</span>:\n",
       "\n",
       "Table <span style=\"color: #008080; text-decoration-color: #008080; font-weight: bold\">3</span> AMS laboratories included in the evaluation and metrological traceability of reported results\n",
       "\n",
       "| Laboratory | Instrument | Standards and calibrators |\n",
       "| :--: | :--: | :--: |\n",
       "| Japan Atomic Energy Agency, Mutsu | AMS-HVEE $<span style=\"font-weight: bold\">{</span> <span style=\"font-weight: bold\">}</span>^<span style=\"font-weight: bold\">{</span>\\mathrm<span style=\"font-weight: bold\">{</span>a<span style=\"font-weight: bold\">}}</span> <span style=\"color: #008080; text-decoration-color: #008080; font-weight: bold\">3</span>$ MV Tandetron | NIST 4949C |\n",
       "| University of Sevilla $<span style=\"font-weight: bold\">{</span> <span style=\"font-weight: bold\">}</span>^<span style=\"font-weight: bold\">{</span>\\text <span style=\"font-weight: bold\">{</span>b <span style=\"font-weight: bold\">}}</span>$ | AMS-HVEE $<span style=\"font-weight: bold\">{</span> <span style=\"font-weight: bold\">}</span>^<span style=\"font-weight: bold\">{</span>\\mathrm<span style=\"font-weight: bold\">{</span>a<span style=\"font-weight: bold\">}}</span> <span style=\"color: #008080; text-decoration-color: #008080; font-weight: bold\">1</span>$ MV Tandetron | NIST <span style=\"color: #008080; text-decoration-color: #008080; font-weight: bold\">3230</span> |\n",
       "| University of Arizona | AMS-NEC $<span style=\"font-weight: bold\">{</span> <span style=\"font-weight: bold\">}</span>^<span style=\"font-weight: bold\">{</span>\\mathrm<span style=\"font-weight: bold\">{</span>c<span style=\"font-weight: bold\">}}</span> <span style=\"color: #008080; text-decoration-color: #008080; font-weight: bold\">3</span>$ MV Pelletron | AgI standard <span style=\"font-weight: bold\">(</span>prepared by the Purdue \n",
       "University, USA<span style=\"font-weight: bold\">)</span> |\n",
       "| University of Uppsala | AMS-NEC $<span style=\"font-weight: bold\">{</span> <span style=\"font-weight: bold\">}</span>^<span style=\"font-weight: bold\">{</span>\\mathrm<span style=\"font-weight: bold\">{</span>c<span style=\"font-weight: bold\">}}</span> <span style=\"color: #008080; text-decoration-color: #008080; font-weight: bold\">5</span>$ MV Pelletron | NIST 4949C |\n",
       "| University of Toronto | AMS-GIC $<span style=\"font-weight: bold\">{</span> <span style=\"font-weight: bold\">}</span>^<span style=\"font-weight: bold\">{</span>\\text <span style=\"font-weight: bold\">{</span>d <span style=\"font-weight: bold\">}}</span> <span style=\"color: #008080; text-decoration-color: #008080; font-weight: bold\">3</span>$ MV Tandetron <span style=\"font-weight: bold\">(</span>operated at <span style=\"color: #008080; text-decoration-color: #008080; font-weight: bold\">2</span> MV for these measurements<span style=\"font-weight: bold\">)</span> | AgI\n",
       "reference material Iso-<span style=\"color: #008080; text-decoration-color: #008080; font-weight: bold\">2</span> $<span style=\"font-weight: bold\">{</span> <span style=\"font-weight: bold\">}</span>^<span style=\"font-weight: bold\">{</span>\\text <span style=\"font-weight: bold\">{</span>e <span style=\"font-weight: bold\">}}</span>$ |\n",
       "| University of Toronto $<span style=\"font-weight: bold\">{</span> <span style=\"font-weight: bold\">}</span>^<span style=\"font-weight: bold\">{</span>\\text <span style=\"font-weight: bold\">{</span>b <span style=\"font-weight: bold\">}}</span>$ | AMS-GIC $<span style=\"font-weight: bold\">{</span> <span style=\"font-weight: bold\">}</span>^<span style=\"font-weight: bold\">{</span>\\text <span style=\"font-weight: bold\">{</span>d <span style=\"font-weight: bold\">}}</span> <span style=\"color: #008080; text-decoration-color: #008080; font-weight: bold\">3</span>$ MV Tandetron <span style=\"font-weight: bold\">(</span>operated at <span style=\"color: #008080; text-decoration-color: #008080; font-weight: bold\">2</span> MV for these \n",
       "measurements<span style=\"font-weight: bold\">)</span> | AgI reference material Iso-<span style=\"color: #008080; text-decoration-color: #008080; font-weight: bold\">2</span> $<span style=\"font-weight: bold\">{</span> <span style=\"font-weight: bold\">}</span>^<span style=\"font-weight: bold\">{</span>\\text <span style=\"font-weight: bold\">{</span>e <span style=\"font-weight: bold\">}}</span>$ |\n",
       "| ETH Zürich | AMS-<span style=\"color: #008080; text-decoration-color: #008080; font-weight: bold\">0.5</span> MV Tandem accelerator | NIST 4949B |\n",
       "\n",
       "<span style=\"font-weight: bold\">[</span>^<span style=\"color: #008080; text-decoration-color: #008080; font-weight: bold\">0</span><span style=\"font-weight: bold\">]</span>\n",
       "<span style=\"font-weight: bold\">[</span>^<span style=\"color: #008080; text-decoration-color: #008080; font-weight: bold\">0</span><span style=\"font-weight: bold\">]</span>:    $<span style=\"font-weight: bold\">{</span> <span style=\"font-weight: bold\">}</span>^<span style=\"font-weight: bold\">{</span>a<span style=\"font-weight: bold\">}</span>$ High Voltage Engineering Europe, The Netherlands\n",
       "    $<span style=\"font-weight: bold\">{</span> <span style=\"font-weight: bold\">}</span>^<span style=\"font-weight: bold\">{</span>\\mathrm<span style=\"font-weight: bold\">{</span>b<span style=\"font-weight: bold\">}}</span>$ AgI samples were prepared in IAEA-MEL\n",
       "    $<span style=\"font-weight: bold\">{</span> <span style=\"font-weight: bold\">}</span>^<span style=\"font-weight: bold\">{</span>\\text <span style=\"font-weight: bold\">{</span>c <span style=\"font-weight: bold\">}}</span>$ National Electrostatic Corporation, USA\n",
       "    $<span style=\"font-weight: bold\">{</span> <span style=\"font-weight: bold\">}</span>^<span style=\"font-weight: bold\">{</span>\\text <span style=\"font-weight: bold\">{</span>d <span style=\"font-weight: bold\">}}</span>$ General Ionex Corporation, USA\n",
       "    $<span style=\"font-weight: bold\">{</span> <span style=\"font-weight: bold\">}</span>^<span style=\"font-weight: bold\">{</span>\\text <span style=\"font-weight: bold\">{</span>e <span style=\"font-weight: bold\">}}</span>$ The material was prepared by dilution from NIST 4949C and compared with the standard used at\n",
       "the University of Rochester\n",
       "</pre>\n"
      ],
      "text/plain": [
       "Table \u001b[1;36m2\u001b[0m Certified $\u001b[1m{\u001b[0m \u001b[1m}\u001b[0m^\u001b[1m{\u001b[0m\u001b[1;36m129\u001b[0m\u001b[1m}\u001b[0m \\mathrm\u001b[1m{\u001b[0mI\u001b[1m}\u001b[0m$ concentrations in IAEA-\u001b[1;36m418\u001b[0m: Mediterranean Sea water \u001b[1m(\u001b[0mreference date: 18th \n",
       "February \u001b[1;36m2001\u001b[0m; half-life of $\u001b[1m{\u001b[0m \u001b[1m}\u001b[0m^\u001b[1m{\u001b[0m\u001b[1;36m129\u001b[0m\u001b[1m}\u001b[0m \\mathrm\u001b[1m{\u001b[0mI\u001b[1m}\u001b[0m$ is $\u001b[1m(\u001b[0m\u001b[1;36m1.57\u001b[0m \\pm \u001b[1;36m0.04\u001b[0m\u001b[1m)\u001b[0m \\times \u001b[1;36m10\u001b[0m^\u001b[1m{\u001b[0m\u001b[1;36m7\u001b[0m\u001b[1m}\u001b[0m$ years\u001b[1m)\u001b[0m\n",
       "\n",
       "| Certified values | $\u001b[1m{\u001b[0m \u001b[1m}\u001b[0m^\u001b[1m{\u001b[0m\u001b[1;36m129\u001b[0m\u001b[1m}\u001b[0m \\mathrm\u001b[1m{\u001b[0mI\u001b[1m}\u001b[0m$ concentration |  |\n",
       "| :-- | :-- | :-- |\n",
       "|  | $\\\u001b[1;35mleft\u001b[0m\u001b[1m(\u001b[0m\u001b[1;36m10\u001b[0m^\u001b[1m{\u001b[0m\u001b[1;36m8\u001b[0m\u001b[1m}\u001b[0m \\mathrm\u001b[1m{\u001b[0matom\u001b[1m}\u001b[0m \\mathrm\u001b[1m{\u001b[0mL\u001b[1m}\u001b[0m^\u001b[1m{\u001b[0m\u001b[1;36m-1\u001b[0m\u001b[1m}\u001b[0m\\right\u001b[1m)\u001b[0m$ | $\\\u001b[1;35mleft\u001b[0m\u001b[1m(\u001b[0m\u001b[1;36m10\u001b[0m^\u001b[1m{\u001b[0m\u001b[1;36m-7\u001b[0m\u001b[1m}\u001b[0m \\mathrm\u001b[1m{\u001b[0m~Bq\u001b[1m}\u001b[0m \\mathrm\u001b[1m{\u001b[0m~L\u001b[1m}\u001b[0m^\u001b[1m{\u001b[0m\u001b[1;36m-1\u001b[0m\u001b[1m}\u001b[0m\\right\u001b[1m)\u001b[0m$ |\n",
       "| Mean $\\pm \u001b[1;36m2\u001b[0m$ Std. dev. | $\u001b[1;36m2.44\u001b[0m \\pm \u001b[1;36m0.27\u001b[0m$ | $\u001b[1;36m3.41\u001b[0m \\pm \u001b[1;36m0.37\u001b[0m$ |\n",
       "| Median | \u001b[1;36m2.28\u001b[0m | \u001b[1;36m3.19\u001b[0m |\n",
       "| Confidence interval $\u001b[1m(\u001b[0m\\\u001b[33malpha\u001b[0m=\u001b[1;36m0\u001b[0m\u001b[1;36m.05\u001b[0m\u001b[1m)\u001b[0m$ | $\u001b[1;36m2.16\u001b[0m-\u001b[1;36m2.73\u001b[0m$ | $\u001b[1;36m3.02\u001b[0m-\u001b[1;36m3.82\u001b[0m$ |\n",
       "| Expanded uncertainty $\u001b[1m(\u001b[0m\u001b[33mk\u001b[0m=\u001b[1;36m2\u001b[0m\u001b[1m)\u001b[0m$ | \u001b[1;36m0.20\u001b[0m | \u001b[1;36m0.28\u001b[0m |\n",
       "\n",
       "Evidence on metrological traceability to the SI Units was provided by all laboratories and is summarized in Table \n",
       "\u001b[1;36m3\u001b[0m.\n",
       "\n",
       "## $Z$-score analysis\n",
       "\n",
       "Following the International Union of Pure and Applied Chemistry \u001b[1m(\u001b[0mIUPAC\u001b[1m)\u001b[0m \u001b[1m[\u001b[0m\u001b[1;36m27\u001b[0m\u001b[1m]\u001b[0m and the ISO \u001b[1m[\u001b[0m\u001b[1;36m28\u001b[0m\u001b[1m]\u001b[0m recommendations for \n",
       "assessment of laboratory performance, the Z-score methodology was used for the evaluation of the interlaboratory \n",
       "results and performance of the participating laboratories. The Z-score was calculated as following:\n",
       "$\u001b[33mZ\u001b[0m=\\\u001b[1;35mleft\u001b[0m\u001b[1m(\u001b[0mX_\u001b[1m{\u001b[0mi\u001b[1m}\u001b[0m-X_\u001b[1m{\u001b[0m\\mathrm\u001b[1m{\u001b[0ma\u001b[1m}\u001b[0m\u001b[1m}\u001b[0m\\right\u001b[1m)\u001b[0m \u001b[35m/\u001b[0m S_\u001b[1m{\u001b[0m\\mathrm\u001b[1m{\u001b[0mb\u001b[1m}\u001b[0m\u001b[1m}\u001b[0m$,\n",
       "where $X_\u001b[1m{\u001b[0mi\u001b[1m}\u001b[0m$ is the robust mean of activity concentration values reported by laboratory $i, X_\u001b[1m{\u001b[0m\\mathrm\u001b[1m{\u001b[0ma\u001b[1m}\u001b[0m\u001b[1m}\u001b[0m$ is the\n",
       "assigned value \u001b[1m(\u001b[0ma mean value of accepted results\u001b[1m)\u001b[0m, and $S_\u001b[1m{\u001b[0m\\mathrm\u001b[1m{\u001b[0mb\u001b[1m}\u001b[0m\u001b[1m}\u001b[0m$ is the target standard deviation. The right\n",
       "target value depends on the objective of the exercise. For radionuclide analysis, laboratories were required to \n",
       "have a relative bias below $\u001b[1;36m20\u001b[0m \\%\\\u001b[1;35mleft\u001b[0m\u001b[1m(\u001b[0mS_\u001b[1m{\u001b[0m\\mathrm\u001b[1m{\u001b[0mb\u001b[1m}\u001b[0m\u001b[1m}\u001b[0m\u001b[1m<\u001b[0m\u001b[1;36m10\u001b[0m\u001b[39m \\%\\right\u001b[0m\u001b[1;39m)\u001b[0m\u001b[39m$.\u001b[0m\n",
       "\n",
       "\u001b[39mThe uncertainty of the assigned value $\\\u001b[0m\u001b[1;35mleft\u001b[0m\u001b[1;39m(\u001b[0m\u001b[39mS_\u001b[0m\u001b[1;39m{\u001b[0m\u001b[39m\\mathrm\u001b[0m\u001b[1;39m{\u001b[0m\u001b[39mta\u001b[0m\u001b[1;39m}\u001b[0m\u001b[1;39m}\u001b[0m\u001b[39m\\right\u001b[0m\u001b[1;39m)\u001b[0m\u001b[39m$ was included in the target value for bias \u001b[0m\n",
       "\u001b[1;39m[\u001b[0m\u001b[1;36m29\u001b[0m\u001b[1;39m]\u001b[0m\u001b[39m:\u001b[0m\n",
       "\u001b[39m$\\\u001b[0m\u001b[1;35mleft\u001b[0m\u001b[1;39m(\u001b[0m\u001b[39mX_\u001b[0m\u001b[1;39m{\u001b[0m\u001b[39mi\u001b[0m\u001b[1;39m}\u001b[0m\u001b[39m-X_\u001b[0m\u001b[1;39m{\u001b[0m\u001b[39m\\mathrm\u001b[0m\u001b[1;39m{\u001b[0m\u001b[39ma\u001b[0m\u001b[1;39m}\u001b[0m\u001b[1;39m}\u001b[0m\u001b[39m\\right\u001b[0m\u001b[1;39m)\u001b[0m\u001b[39m \u001b[0m\u001b[35m/\u001b[0m\u001b[39m \\sqrt\u001b[0m\u001b[1;39m{\u001b[0m\u001b[39ms_\u001b[0m\u001b[1;39m{\u001b[0m\u001b[39m\\mathrm\u001b[0m\u001b[1;39m{\u001b[0m\u001b[39mb\u001b[0m\u001b[1;39m}\u001b[0m\u001b[1;39m}\u001b[0m\u001b[39m^\u001b[0m\u001b[1;39m{\u001b[0m\u001b[1;36m2\u001b[0m\u001b[1;39m}\u001b[0m\u001b[39m+s_\u001b[0m\u001b[1;39m{\u001b[0m\u001b[39m\\mathrm\u001b[0m\u001b[1;39m{\u001b[0m\u001b[39mta\u001b[0m\u001b[1;39m}\u001b[0m\u001b[1;39m}\u001b[0m\u001b[39m^\u001b[0m\u001b[1;39m{\u001b[0m\u001b[1;36m2\u001b[0m\u001b[1;39m}\u001b[0m\u001b[1;39m}\u001b[0m\u001b[39m$\u001b[0m\n",
       "\u001b[39mThe performance of a laboratory is considered to be acceptable if the difference between the robust mean of the \u001b[0m\n",
       "\u001b[39mlaboratory and the assigned value \u001b[0m\u001b[1;39m(\u001b[0m\u001b[39min $S_\u001b[0m\u001b[1;39m{\u001b[0m\u001b[39m\\mathrm\u001b[0m\u001b[1;39m{\u001b[0m\u001b[39mb\u001b[0m\u001b[1;39m}\u001b[0m\u001b[1;39m}\u001b[0m\u001b[39m$ units\u001b[0m\u001b[1;39m)\u001b[0m\u001b[39m is less than or equal to \u001b[0m\u001b[1;36m2\u001b[0m\u001b[39m . A $Z$-score from \u001b[0m\u001b[1;36m2\u001b[0m\u001b[39m to \u001b[0m\u001b[1;36m3\u001b[0m\u001b[39m \u001b[0m\n",
       "\u001b[39mindicates that the results are of questionable quality, and the result of analysis is regarded as an outlier when \u001b[0m\n",
       "\u001b[39m$|Z|\u001b[0m\u001b[1m>\u001b[0m\u001b[1;36m3\u001b[0m$. The performance of laboratories in terms of accuracy is expressed by $Z$-scores in Fig. \u001b[1;36m3\u001b[0m. The \n",
       "distribution of $Z$-scores is symmetric with their values less than \u001b[1;36m2\u001b[0m , indicating that the overall performance of \n",
       "the participating laboratories was satisfactory.\n",
       "\n",
       "## Degree of equivalence of the reported results\n",
       "\n",
       "Following the International Committee of Weights and Measures \u001b[1m(\u001b[0mCIPM\u001b[1m)\u001b[0m recommendation \u001b[1m[\u001b[0m\u001b[1;36m30\u001b[0m\u001b[1m]\u001b[0m, the degree of equivalence\n",
       "of reported results was also included in the data evaluation process. It permits to verify if the measurement \n",
       "reported is consistent with the key comparison reference value.\n",
       "\n",
       "To compare the relationship between the reported results and their uncertainties, an estimator $\\varepsilon$ \u001b[1m(\u001b[0ma \n",
       "degree of equivalence of a reported results\u001b[1m)\u001b[0m was calculated by rating the difference between the reported value and\n",
       "the reference value \u001b[1m(\u001b[0mmedian\u001b[1m)\u001b[0m to the total propagated uncertainty of this difference with a coverage factor of two \u001b[1m(\u001b[0m\n",
       "$\u001b[1;36m95\u001b[0m \\%$ confidence level\u001b[1m)\u001b[0m:\n",
       "\n",
       "Table \u001b[1;36m3\u001b[0m AMS laboratories included in the evaluation and metrological traceability of reported results\n",
       "\n",
       "| Laboratory | Instrument | Standards and calibrators |\n",
       "| :--: | :--: | :--: |\n",
       "| Japan Atomic Energy Agency, Mutsu | AMS-HVEE $\u001b[1m{\u001b[0m \u001b[1m}\u001b[0m^\u001b[1m{\u001b[0m\\mathrm\u001b[1m{\u001b[0ma\u001b[1m}\u001b[0m\u001b[1m}\u001b[0m \u001b[1;36m3\u001b[0m$ MV Tandetron | NIST 4949C |\n",
       "| University of Sevilla $\u001b[1m{\u001b[0m \u001b[1m}\u001b[0m^\u001b[1m{\u001b[0m\\text \u001b[1m{\u001b[0mb \u001b[1m}\u001b[0m\u001b[1m}\u001b[0m$ | AMS-HVEE $\u001b[1m{\u001b[0m \u001b[1m}\u001b[0m^\u001b[1m{\u001b[0m\\mathrm\u001b[1m{\u001b[0ma\u001b[1m}\u001b[0m\u001b[1m}\u001b[0m \u001b[1;36m1\u001b[0m$ MV Tandetron | NIST \u001b[1;36m3230\u001b[0m |\n",
       "| University of Arizona | AMS-NEC $\u001b[1m{\u001b[0m \u001b[1m}\u001b[0m^\u001b[1m{\u001b[0m\\mathrm\u001b[1m{\u001b[0mc\u001b[1m}\u001b[0m\u001b[1m}\u001b[0m \u001b[1;36m3\u001b[0m$ MV Pelletron | AgI standard \u001b[1m(\u001b[0mprepared by the Purdue \n",
       "University, USA\u001b[1m)\u001b[0m |\n",
       "| University of Uppsala | AMS-NEC $\u001b[1m{\u001b[0m \u001b[1m}\u001b[0m^\u001b[1m{\u001b[0m\\mathrm\u001b[1m{\u001b[0mc\u001b[1m}\u001b[0m\u001b[1m}\u001b[0m \u001b[1;36m5\u001b[0m$ MV Pelletron | NIST 4949C |\n",
       "| University of Toronto | AMS-GIC $\u001b[1m{\u001b[0m \u001b[1m}\u001b[0m^\u001b[1m{\u001b[0m\\text \u001b[1m{\u001b[0md \u001b[1m}\u001b[0m\u001b[1m}\u001b[0m \u001b[1;36m3\u001b[0m$ MV Tandetron \u001b[1m(\u001b[0moperated at \u001b[1;36m2\u001b[0m MV for these measurements\u001b[1m)\u001b[0m | AgI\n",
       "reference material Iso-\u001b[1;36m2\u001b[0m $\u001b[1m{\u001b[0m \u001b[1m}\u001b[0m^\u001b[1m{\u001b[0m\\text \u001b[1m{\u001b[0me \u001b[1m}\u001b[0m\u001b[1m}\u001b[0m$ |\n",
       "| University of Toronto $\u001b[1m{\u001b[0m \u001b[1m}\u001b[0m^\u001b[1m{\u001b[0m\\text \u001b[1m{\u001b[0mb \u001b[1m}\u001b[0m\u001b[1m}\u001b[0m$ | AMS-GIC $\u001b[1m{\u001b[0m \u001b[1m}\u001b[0m^\u001b[1m{\u001b[0m\\text \u001b[1m{\u001b[0md \u001b[1m}\u001b[0m\u001b[1m}\u001b[0m \u001b[1;36m3\u001b[0m$ MV Tandetron \u001b[1m(\u001b[0moperated at \u001b[1;36m2\u001b[0m MV for these \n",
       "measurements\u001b[1m)\u001b[0m | AgI reference material Iso-\u001b[1;36m2\u001b[0m $\u001b[1m{\u001b[0m \u001b[1m}\u001b[0m^\u001b[1m{\u001b[0m\\text \u001b[1m{\u001b[0me \u001b[1m}\u001b[0m\u001b[1m}\u001b[0m$ |\n",
       "| ETH Zürich | AMS-\u001b[1;36m0.5\u001b[0m MV Tandem accelerator | NIST 4949B |\n",
       "\n",
       "\u001b[1m[\u001b[0m^\u001b[1;36m0\u001b[0m\u001b[1m]\u001b[0m\n",
       "\u001b[1m[\u001b[0m^\u001b[1;36m0\u001b[0m\u001b[1m]\u001b[0m:    $\u001b[1m{\u001b[0m \u001b[1m}\u001b[0m^\u001b[1m{\u001b[0ma\u001b[1m}\u001b[0m$ High Voltage Engineering Europe, The Netherlands\n",
       "    $\u001b[1m{\u001b[0m \u001b[1m}\u001b[0m^\u001b[1m{\u001b[0m\\mathrm\u001b[1m{\u001b[0mb\u001b[1m}\u001b[0m\u001b[1m}\u001b[0m$ AgI samples were prepared in IAEA-MEL\n",
       "    $\u001b[1m{\u001b[0m \u001b[1m}\u001b[0m^\u001b[1m{\u001b[0m\\text \u001b[1m{\u001b[0mc \u001b[1m}\u001b[0m\u001b[1m}\u001b[0m$ National Electrostatic Corporation, USA\n",
       "    $\u001b[1m{\u001b[0m \u001b[1m}\u001b[0m^\u001b[1m{\u001b[0m\\text \u001b[1m{\u001b[0md \u001b[1m}\u001b[0m\u001b[1m}\u001b[0m$ General Ionex Corporation, USA\n",
       "    $\u001b[1m{\u001b[0m \u001b[1m}\u001b[0m^\u001b[1m{\u001b[0m\\text \u001b[1m{\u001b[0me \u001b[1m}\u001b[0m\u001b[1m}\u001b[0m$ The material was prepared by dilution from NIST 4949C and compared with the standard used at\n",
       "the University of Rochester\n"
      ]
     },
     "metadata": {},
     "output_type": "display_data"
    }
   ],
   "source": [
    "#| eval: false\n",
    "print(r.pages[4].markdown)"
   ]
  },
  {
   "cell_type": "code",
   "execution_count": null,
   "metadata": {},
   "outputs": [
    {
     "data": {
      "text/markdown": [
       "# Certified reference material IAEA-418: ${ }^{129}$ I in Mediterranean Sea water \n",
       "\n",
       "M. K. Pham $\\cdot$ M. Betti $\\cdot$ P. P. Povinec $\\cdot$ V. Alfimov $\\cdot$ D. Biddulph $\\cdot$<br>J. Gastaud $\\cdot$ W. E. Kieser $\\cdot$ J. M. López Gutiérrez $\\cdot$ G. Possnert $\\cdot$<br>J. A. Sanchez-Cabeza $\\cdot$ T. Suzuki\n",
       "\n",
       "Received: 7 May 2010/Published online: 25 May 2010\n",
       "(c) Akadémiai Kiadó, Budapest, Hungary 2010\n",
       "\n",
       "\n",
       "#### Abstract\n",
       "\n",
       "A certified reference material designed for the determination of ${ }^{129} \\mathrm{I}$ in seawater, IAEA-418 (Mediterranean Sea water) is described and the results of certification are presented. The median of ${ }^{129} \\mathrm{I}$ concentration with $95 \\%$ confidence interval was chosen as the most reliable estimates of the true value. The median, given as the certified value, is $2.28 \\times 10^{8}$ atom $\\mathrm{L}^{-1}(95 \\%$ confidence interval is $\\left.(2.16-2.73) 10^{8} \\mathrm{atom} \\mathrm{L}^{-1}\\right)$, or $3.19 \\times 10^{-7} \\mathrm{~Bq} \\mathrm{~L}^{-1}(95 \\%$ confidence interval is $\\left.(3.02-3.82) \\times 10^{-7} \\mathrm{~Bq} \\mathrm{~L}^{-1}\\right)$. The material is intended to be used for standardization procedures applied in accelerator mass spectrometric laboratories. It is available in 1 L units and may be ordered via IAEA web side (www.iaea.org).\n",
       "\n",
       "\n",
       "[^0]Keywords ${ }^{129}$ I $\\cdot$ Seawater $\\cdot$ Certified reference material $\\cdot$ Mediterranean Sea\n",
       "\n",
       "## Introduction\n",
       "\n",
       "Principles of good laboratory practice require both internal and external procedures to verify the quality of the data produced. Internal quality is verified in a number of ways such as the use of laboratory information systems, keeping full records of equipment performance and standardization of analytical procedures. External quality can also be ascertained in a number of ways, notably accreditation by an external body under a defined quality scheme, but also by the use of internationally accepted calibration standards that are traceable to the SI international system of units, by the participation in interlaboratory comparisons and by the\n",
       "J. M. López Gutiérrez\n",
       "\n",
       "University of Sevilla, 41092 Sevilla, Spain\n",
       "G. Possnert\n",
       "\n",
       "Tandem Laboratory, Uppsala University, 75120 Uppsala, Sweden\n",
       "J. A. Sanchez-Cabeza\n",
       "\n",
       "Institut de Ciencia i Tecnologia Ambientals, y Departamento de Física, Universitat Autonoma de Barcelona, 08193 Bellaterra, Spain\n",
       "T. Suzuki\n",
       "\n",
       "AMS Management Section, Aomori Research and Development Center, Japan Atomic Energy Agency, 4-24 Minato-machi, Mutsu-shi, Aomori-ken 035-0064, Japan\n",
       "\n",
       "\n",
       "[^0]:    P. P. Povinec and J. A. Sanchez-Cabeza were formerly at the International Atomic Energy Agency, Marine Environment Laboratories, Monaco.\n",
       "    M. K. Pham ( $\\boxtimes$ ) M. Betti $\\cdot$ J. Gastaud Marine Environment Laboratories, International Atomic Energy Agency, 98000 Monaco, Monaco\n",
       "    e-mail: m.pham@iaea.org\n",
       "    P. P. Povinec\n",
       "\n",
       "    Faculty of Mathematics, Physics and Informatics, Comenius University, 84248 Bratislava, Slovakia\n",
       "    V. Alfimov\n",
       "\n",
       "    Ion Beam Physics, ETH Zurich, 8093 Zurich, Switzerland\n",
       "    D. Biddulph\n",
       "\n",
       "    NSF-AMS Facility, Physics Department, University of Arizona, Tucson, AZ 85721, USA\n",
       "    W. E. Kieser\n",
       "\n",
       "    IsoTrace Laboratory, University of Toronto, Toronto, ON M55 1A7, Canada"
      ],
      "text/plain": [
       "<IPython.core.display.Markdown object>"
      ]
     },
     "execution_count": null,
     "metadata": {},
     "output_type": "execute_result"
    }
   ],
   "source": [
    "#| eval: false\n",
    "from IPython.display import display, Markdown\n",
    "Markdown(r.pages[0].markdown)"
   ]
  },
  {
   "cell_type": "code",
   "execution_count": null,
   "metadata": {},
   "outputs": [],
   "source": [
    "#| export\n",
    "def combine_pages(r):\n",
    "    \"\"\"Combine all pages into single markdown\"\"\"\n",
    "    return \"\".join([page.markdown + \"\\n\" for page in r.pages])"
   ]
  },
  {
   "cell_type": "code",
   "execution_count": null,
   "metadata": {},
   "outputs": [],
   "source": [
    "#| export\n",
    "def save_page_images(\n",
    "    page, # OCR page object containing images\n",
    "    dest_folder: Path # Destination folder path\n",
    "): \n",
    "    \"Save all images from a page to destination folder as PNG\"\n",
    "    for img in page.images:\n",
    "        img_data = base64.b64decode(img.image_base64.split(',')[1])\n",
    "        img_bytes = BytesIO(img_data)\n",
    "        pil_img = Image.open(img_bytes)\n",
    "        output_path = dest_folder / img.id\n",
    "        pil_img.save(output_path)"
   ]
  },
  {
   "cell_type": "code",
   "execution_count": null,
   "metadata": {},
   "outputs": [],
   "source": [
    "#| eval: false\n",
    "save_page_images(r.pages[4], Path('.'))"
   ]
  },
  {
   "cell_type": "code",
   "execution_count": null,
   "metadata": {},
   "outputs": [],
   "source": [
    "# def clean_fname(fname):\n",
    "#     \"Convert filename to a folder-friendly string\"\n",
    "#     sanitized = fname.replace(' ', '_').replace('-', '_')\n",
    "#     sanitized = re.sub(r'_{2,}', '_', sanitized) \n",
    "#     sanitized = re.sub(r'[^\\w\\s]', '', sanitized)\n",
    "#     return sanitized.lower()"
   ]
  },
  {
   "cell_type": "markdown",
   "metadata": {},
   "source": [
    "## Process Pdfs"
   ]
  },
  {
   "cell_type": "code",
   "execution_count": null,
   "metadata": {},
   "outputs": [],
   "source": [
    "# def process_pdfs(\n",
    "#     pdf_files: list,  # List of PDF file paths\n",
    "#     output_dir: Union[Path, str],  # Base output directory\n",
    "#     model: str = \"mistral-ocr-latest\",  # OCR model to use\n",
    "#     api_key: str = mistral_api_key,  # Mistral API key\n",
    "#     overwrite: bool = False,  # Whether to overwrite existing files\n",
    "#     pause_seconds: float = 0  # Pause between API calls to respect rate limits\n",
    "# ):\n",
    "#     \"Process multiple PDFs through OCR and save their content and images\"\n",
    "#     output_dir = Path(output_dir)\n",
    "    \n",
    "#     for pdf_path in tqdm(pdf_files):\n",
    "#         pdf_path = Path(pdf_path)\n",
    "        \n",
    "#         pdf_output_dir = output_dir / clean_fname(pdf_path.stem)\n",
    "#         pdf_output_dir.mkdir(parents=True, exist_ok=True)\n",
    "        \n",
    "#         img_dir = pdf_output_dir / 'img'\n",
    "#         img_dir.mkdir(exist_ok=True)\n",
    "        \n",
    "#         markdown_file = pdf_output_dir / f\"{pdf_path.stem}.md\"\n",
    "        \n",
    "#         if markdown_file.exists() and not overwrite:\n",
    "#             print(f\"Skipping {pdf_path.name} - output already exists. Use overwrite=True to reprocess.\")\n",
    "#             continue\n",
    "        \n",
    "#         ocr_result = ocr_pdf(pdf_path, model=model, api_key=api_key)\n",
    "        \n",
    "#         markdown_content = combine_pages(ocr_result)\n",
    "#         markdown_file.write_text(markdown_content)\n",
    "        \n",
    "#         for page in ocr_result.pages:\n",
    "#             if hasattr(page, 'images') and page.images:\n",
    "#                 save_page_images(page, img_dir)\n",
    "        \n",
    "#         # Pause between files to respect API rate limits\n",
    "#         if pause_seconds > 0 and pdf_path != pdf_files[-1]:  # Don't pause after the last file\n",
    "#             print(f\"Pausing for {pause_seconds} seconds to respect API rate limits...\")\n",
    "#             time.sleep(pause_seconds)"
   ]
  },
  {
   "cell_type": "code",
   "execution_count": null,
   "metadata": {},
   "outputs": [],
   "source": [
    "#| export\n",
    "create_fname = lambda row: f'{row.ref_id}_{row.zot_id}'"
   ]
  },
  {
   "cell_type": "code",
   "execution_count": null,
   "metadata": {},
   "outputs": [],
   "source": [
    "#| export\n",
    "def process_pdfs(\n",
    "    data: pd.DataFrame,  # Dataframe containing each paper ref_id, zotero_id, n_pages, title, ...\n",
    "    output_dir: Union[Path, str],  # Base output directory\n",
    "    model: str = \"mistral-ocr-latest\",  # OCR model to use\n",
    "    api_key: str = mistral_api_key,  # Mistral API key\n",
    "    overwrite: bool = False,  # Whether to overwrite existing files\n",
    "    pause_seconds: float = 0  # Pause between API calls to respect rate limits\n",
    "):\n",
    "    \"Process multiple PDFs through OCR and save their content and images\"\n",
    "    output_dir = Path(output_dir)\n",
    "    \n",
    "    # for pdf_path in tqdm(pdf_files):\n",
    "    for _, row in tqdm(data.iterrows(), total=data.shape[0]):\n",
    "        # pdf_path = Path(pdf_path)\n",
    "        pdf_path = (Path(\"../_data/zotero\") / row.zot_id).ls(file_exts='.pdf')[0]\n",
    "        \n",
    "        pdf_output_dir = output_dir / create_fname(row)\n",
    "        pdf_output_dir.mkdir(parents=True, exist_ok=True)\n",
    "        \n",
    "        img_dir = pdf_output_dir / 'img'\n",
    "        img_dir.mkdir(exist_ok=True)\n",
    "        \n",
    "        # markdown_file = pdf_output_dir / f\"{pdf_path.stem}.md\"\n",
    "        markdown_file = pdf_output_dir / 'content.md'\n",
    "        \n",
    "        if markdown_file.exists() and not overwrite:\n",
    "            print(f\"Skipping {markdown_file} - output already exists. Use overwrite=True to reprocess.\")\n",
    "            continue\n",
    "        \n",
    "        ocr_result = ocr_pdf(pdf_path, model=model, api_key=api_key)\n",
    "        \n",
    "        markdown_content = combine_pages(ocr_result)\n",
    "        markdown_file.write_text(markdown_content)\n",
    "        \n",
    "        for page in ocr_result.pages:\n",
    "            if hasattr(page, 'images') and page.images:\n",
    "                save_page_images(page, img_dir)\n",
    "        \n",
    "        # Pause between files to respect API rate limits\n",
    "        if pause_seconds > 0: time.sleep(pause_seconds)"
   ]
  },
  {
   "cell_type": "code",
   "execution_count": null,
   "metadata": {},
   "outputs": [
    {
     "data": {
      "text/html": [
       "<div>\n",
       "<style scoped>\n",
       "    .dataframe tbody tr th:only-of-type {\n",
       "        vertical-align: middle;\n",
       "    }\n",
       "\n",
       "    .dataframe tbody tr th {\n",
       "        vertical-align: top;\n",
       "    }\n",
       "\n",
       "    .dataframe thead th {\n",
       "        text-align: right;\n",
       "    }\n",
       "</style>\n",
       "<table border=\"1\" class=\"dataframe\">\n",
       "  <thead>\n",
       "    <tr style=\"text-align: right;\">\n",
       "      <th></th>\n",
       "      <th>n_pages</th>\n",
       "      <th>file_size</th>\n",
       "      <th>file_name</th>\n",
       "      <th>zot_id</th>\n",
       "      <th>ref_id</th>\n",
       "      <th>creation_date</th>\n",
       "      <th>year</th>\n",
       "    </tr>\n",
       "  </thead>\n",
       "  <tbody>\n",
       "    <tr>\n",
       "      <th>0</th>\n",
       "      <td>7</td>\n",
       "      <td>0.252269</td>\n",
       "      <td>Pham et al. - 2010 - Certified reference mater...</td>\n",
       "      <td>SCKNFXRJ</td>\n",
       "      <td>160</td>\n",
       "      <td>08/27/10 18:32:24</td>\n",
       "      <td>2010.0</td>\n",
       "    </tr>\n",
       "    <tr>\n",
       "      <th>1</th>\n",
       "      <td>8</td>\n",
       "      <td>0.175163</td>\n",
       "      <td>Stepnowski and Skwarzec - 2000 - A comparison ...</td>\n",
       "      <td>BWDB6ZF9</td>\n",
       "      <td>566</td>\n",
       "      <td>02/10/00 18:42:27</td>\n",
       "      <td>2000.0</td>\n",
       "    </tr>\n",
       "    <tr>\n",
       "      <th>2</th>\n",
       "      <td>6</td>\n",
       "      <td>0.796618</td>\n",
       "      <td>Onjefu et al. - 2017 - Assessment of natural r...</td>\n",
       "      <td>59WKEWMA</td>\n",
       "      <td>366</td>\n",
       "      <td>14th November 2017</td>\n",
       "      <td>2017.0</td>\n",
       "    </tr>\n",
       "    <tr>\n",
       "      <th>3</th>\n",
       "      <td>9</td>\n",
       "      <td>0.370053</td>\n",
       "      <td>Pearson et al. - 2016 - Activity concentration...</td>\n",
       "      <td>KK88JKE6</td>\n",
       "      <td>282</td>\n",
       "      <td>12/07/15 23:33:38</td>\n",
       "      <td>2016.0</td>\n",
       "    </tr>\n",
       "    <tr>\n",
       "      <th>4</th>\n",
       "      <td>9</td>\n",
       "      <td>0.813956</td>\n",
       "      <td>Nakamura et al. - 2015 - Radiocesium contamina...</td>\n",
       "      <td>D8APJZXP</td>\n",
       "      <td>436</td>\n",
       "      <td>09/15/15 11:39:01</td>\n",
       "      <td>2015.0</td>\n",
       "    </tr>\n",
       "  </tbody>\n",
       "</table>\n",
       "</div>"
      ],
      "text/plain": [
       "   n_pages  file_size                                          file_name  \\\n",
       "0        7   0.252269  Pham et al. - 2010 - Certified reference mater...   \n",
       "1        8   0.175163  Stepnowski and Skwarzec - 2000 - A comparison ...   \n",
       "2        6   0.796618  Onjefu et al. - 2017 - Assessment of natural r...   \n",
       "3        9   0.370053  Pearson et al. - 2016 - Activity concentration...   \n",
       "4        9   0.813956  Nakamura et al. - 2015 - Radiocesium contamina...   \n",
       "\n",
       "     zot_id  ref_id       creation_date    year  \n",
       "0  SCKNFXRJ     160   08/27/10 18:32:24  2010.0  \n",
       "1  BWDB6ZF9     566   02/10/00 18:42:27  2000.0  \n",
       "2  59WKEWMA     366  14th November 2017  2017.0  \n",
       "3  KK88JKE6     282   12/07/15 23:33:38  2016.0  \n",
       "4  D8APJZXP     436   09/15/15 11:39:01  2015.0  "
      ]
     },
     "execution_count": null,
     "metadata": {},
     "output_type": "execute_result"
    }
   ],
   "source": [
    "#| eval: false\n",
    "df = get_papers_list(); df.head()"
   ]
  },
  {
   "cell_type": "code",
   "execution_count": null,
   "metadata": {},
   "outputs": [
    {
     "name": "stderr",
     "output_type": "stream",
     "text": [
      "  0%|          | 0/462 [00:00<?, ?it/s]"
     ]
    },
    {
     "data": {
      "text/html": [
       "<pre style=\"white-space:pre;overflow-x:auto;line-height:normal;font-family:Menlo,'DejaVu Sans Mono',consolas,'Courier New',monospace\">Skipping ..<span style=\"color: #800080; text-decoration-color: #800080\">/_data/output/160_SCKNFXRJ/</span><span style=\"color: #ff00ff; text-decoration-color: #ff00ff\">content.md</span> - output already exists. Use <span style=\"color: #808000; text-decoration-color: #808000\">overwrite</span>=<span style=\"color: #00ff00; text-decoration-color: #00ff00; font-style: italic\">True</span> to reprocess.\n",
       "</pre>\n"
      ],
      "text/plain": [
       "Skipping ..\u001b[35m/_data/output/160_SCKNFXRJ/\u001b[0m\u001b[95mcontent.md\u001b[0m - output already exists. Use \u001b[33moverwrite\u001b[0m=\u001b[3;92mTrue\u001b[0m to reprocess.\n"
      ]
     },
     "metadata": {},
     "output_type": "display_data"
    },
    {
     "data": {
      "text/html": [
       "<pre style=\"white-space:pre;overflow-x:auto;line-height:normal;font-family:Menlo,'DejaVu Sans Mono',consolas,'Courier New',monospace\">Skipping ..<span style=\"color: #800080; text-decoration-color: #800080\">/_data/output/566_BWDB6ZF9/</span><span style=\"color: #ff00ff; text-decoration-color: #ff00ff\">content.md</span> - output already exists. Use <span style=\"color: #808000; text-decoration-color: #808000\">overwrite</span>=<span style=\"color: #00ff00; text-decoration-color: #00ff00; font-style: italic\">True</span> to reprocess.\n",
       "</pre>\n"
      ],
      "text/plain": [
       "Skipping ..\u001b[35m/_data/output/566_BWDB6ZF9/\u001b[0m\u001b[95mcontent.md\u001b[0m - output already exists. Use \u001b[33moverwrite\u001b[0m=\u001b[3;92mTrue\u001b[0m to reprocess.\n"
      ]
     },
     "metadata": {},
     "output_type": "display_data"
    },
    {
     "data": {
      "text/html": [
       "<pre style=\"white-space:pre;overflow-x:auto;line-height:normal;font-family:Menlo,'DejaVu Sans Mono',consolas,'Courier New',monospace\">Skipping ..<span style=\"color: #800080; text-decoration-color: #800080\">/_data/output/366_59WKEWMA/</span><span style=\"color: #ff00ff; text-decoration-color: #ff00ff\">content.md</span> - output already exists. Use <span style=\"color: #808000; text-decoration-color: #808000\">overwrite</span>=<span style=\"color: #00ff00; text-decoration-color: #00ff00; font-style: italic\">True</span> to reprocess.\n",
       "</pre>\n"
      ],
      "text/plain": [
       "Skipping ..\u001b[35m/_data/output/366_59WKEWMA/\u001b[0m\u001b[95mcontent.md\u001b[0m - output already exists. Use \u001b[33moverwrite\u001b[0m=\u001b[3;92mTrue\u001b[0m to reprocess.\n"
      ]
     },
     "metadata": {},
     "output_type": "display_data"
    },
    {
     "data": {
      "text/html": [
       "<pre style=\"white-space:pre;overflow-x:auto;line-height:normal;font-family:Menlo,'DejaVu Sans Mono',consolas,'Courier New',monospace\">Skipping ..<span style=\"color: #800080; text-decoration-color: #800080\">/_data/output/282_KK88JKE6/</span><span style=\"color: #ff00ff; text-decoration-color: #ff00ff\">content.md</span> - output already exists. Use <span style=\"color: #808000; text-decoration-color: #808000\">overwrite</span>=<span style=\"color: #00ff00; text-decoration-color: #00ff00; font-style: italic\">True</span> to reprocess.\n",
       "</pre>\n"
      ],
      "text/plain": [
       "Skipping ..\u001b[35m/_data/output/282_KK88JKE6/\u001b[0m\u001b[95mcontent.md\u001b[0m - output already exists. Use \u001b[33moverwrite\u001b[0m=\u001b[3;92mTrue\u001b[0m to reprocess.\n"
      ]
     },
     "metadata": {},
     "output_type": "display_data"
    },
    {
     "data": {
      "text/html": [
       "<pre style=\"white-space:pre;overflow-x:auto;line-height:normal;font-family:Menlo,'DejaVu Sans Mono',consolas,'Courier New',monospace\">Skipping ..<span style=\"color: #800080; text-decoration-color: #800080\">/_data/output/436_D8APJZXP/</span><span style=\"color: #ff00ff; text-decoration-color: #ff00ff\">content.md</span> - output already exists. Use <span style=\"color: #808000; text-decoration-color: #808000\">overwrite</span>=<span style=\"color: #00ff00; text-decoration-color: #00ff00; font-style: italic\">True</span> to reprocess.\n",
       "</pre>\n"
      ],
      "text/plain": [
       "Skipping ..\u001b[35m/_data/output/436_D8APJZXP/\u001b[0m\u001b[95mcontent.md\u001b[0m - output already exists. Use \u001b[33moverwrite\u001b[0m=\u001b[3;92mTrue\u001b[0m to reprocess.\n"
      ]
     },
     "metadata": {},
     "output_type": "display_data"
    },
    {
     "data": {
      "text/html": [
       "<pre style=\"white-space:pre;overflow-x:auto;line-height:normal;font-family:Menlo,'DejaVu Sans Mono',consolas,'Courier New',monospace\">Skipping ..<span style=\"color: #800080; text-decoration-color: #800080\">/_data/output/382_FDJ8ETEK/</span><span style=\"color: #ff00ff; text-decoration-color: #ff00ff\">content.md</span> - output already exists. Use <span style=\"color: #808000; text-decoration-color: #808000\">overwrite</span>=<span style=\"color: #00ff00; text-decoration-color: #00ff00; font-style: italic\">True</span> to reprocess.\n",
       "</pre>\n"
      ],
      "text/plain": [
       "Skipping ..\u001b[35m/_data/output/382_FDJ8ETEK/\u001b[0m\u001b[95mcontent.md\u001b[0m - output already exists. Use \u001b[33moverwrite\u001b[0m=\u001b[3;92mTrue\u001b[0m to reprocess.\n"
      ]
     },
     "metadata": {},
     "output_type": "display_data"
    },
    {
     "name": "stderr",
     "output_type": "stream",
     "text": [
      "100%|██████████| 462/462 [1:30:28<00:00, 11.75s/it]\n"
     ]
    }
   ],
   "source": [
    "#| eval: false\n",
    "process_pdfs(df, output_dir=\"../_data/output\", pause_seconds=1, overwrite=False)"
   ]
  },
  {
   "cell_type": "code",
   "execution_count": null,
   "metadata": {},
   "outputs": [],
   "source": []
  }
 ],
 "metadata": {
  "kernelspec": {
   "display_name": "python3",
   "language": "python",
   "name": "python3"
  }
 },
 "nbformat": 4,
 "nbformat_minor": 2
}
