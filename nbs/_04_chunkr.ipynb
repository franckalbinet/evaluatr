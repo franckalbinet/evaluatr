{
 "cells": [
  {
   "cell_type": "markdown",
   "metadata": {},
   "source": [
    "# Chunker\n",
    "\n",
    "> Create clean and \"enriched\" chunks"
   ]
  },
  {
   "cell_type": "code",
   "execution_count": null,
   "metadata": {},
   "outputs": [],
   "source": [
    "#| default_exp chunkr"
   ]
  },
  {
   "cell_type": "code",
   "execution_count": null,
   "metadata": {},
   "outputs": [],
   "source": [
    "# Notes, brainstorm\n",
    "## we can fix the headings hierarchy passing the headings to an LLM\n",
    "## we can also pass the toc if found\n",
    "## we could then replace each heading with the corresponding fixed text + the page number\n",
    "## Hence we could ask an LLM to propose semantic chunks based on titles, level and numbe or pages"
   ]
  },
  {
   "cell_type": "code",
   "execution_count": null,
   "metadata": {},
   "outputs": [],
   "source": [
    "# #| eval: false\n",
    "# # Extract all lines starting with one or more # using regex\n",
    "# import re\n",
    "# # Find all markdown headings in the text\n",
    "# # ^ - matches start of line\n",
    "# # #+ - matches one or more # characters that denote heading level\n",
    "# # .* - matches any characters until end of line\n",
    "# # $ - matches end of line\n",
    "# # re.MULTILINE flag makes ^ and $ match start/end of each line rather than whole string\n",
    "# re.findall(r'^#+.*$', r_all, re.MULTILINE)"
   ]
  },
  {
   "cell_type": "code",
   "execution_count": null,
   "metadata": {},
   "outputs": [],
   "source": []
  }
 ],
 "metadata": {
  "kernelspec": {
   "display_name": ".venv",
   "language": "python",
   "name": "python3"
  },
  "language_info": {
   "name": "python",
   "version": "3.12.8"
  }
 },
 "nbformat": 4,
 "nbformat_minor": 2
}
