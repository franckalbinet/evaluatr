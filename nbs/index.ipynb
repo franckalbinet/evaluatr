{
 "cells": [
  {
   "cell_type": "markdown",
   "metadata": {},
   "source": [
    "# Evaluatr\n",
    "\n",
    "> **AI-assisted Evaluation Evidence Mapping**"
   ]
  },
  {
   "cell_type": "markdown",
   "metadata": {},
   "source": [
    "[![PyPI](https://img.shields.io/pypi/v/evaluatr)](https://pypi.org/project/evaluatr/)\n",
    "[![License](https://img.shields.io/badge/license-MIT-blue.svg)](LICENSE)\n",
    "[![Documentation](https://img.shields.io/badge/docs-GitHub%20Pages-blue)](https://franckalbinet.github.io/evaluatr/)"
   ]
  },
  {
   "cell_type": "markdown",
   "metadata": {},
   "source": [
    "## What is Evaluatr?\n",
    "\n",
    "`Evaluatr` is an AI-powered system that automates the creation of **Evidence Maps** - structured, visual tools that organize what we know (and don't know) about programs, policies, and interventions. It transforms hundreds of hours of manual document review into an automated, intelligent process."
   ]
  },
  {
   "cell_type": "markdown",
   "metadata": {},
   "source": [
    "### The Challenge We Solve\n",
    "\n",
    "Traditional evidence mapping requires hundreds of staff-hours manually reviewing and tagging evaluation documents. Evaluatr automates this process while maintaining **accuracy** through human-AI collaboration, making evidence mapping accessible and efficient."
   ]
  },
  {
   "cell_type": "markdown",
   "metadata": {},
   "source": [
    "## Key Features (WIP)\n",
    "\n",
    "### Document Processing\n",
    "- **Multi-Format Repository Reading**: Seamlessly process evaluation repositories from diverse organizations with standardized outputs\n",
    "- **OCR Processing**: Extract text from scanned PDFs and images to ensure no valuable information is missed\n",
    "- **Intelligent Document Chunking**: Break down documents into meaningful segments for optimal analysis\n",
    "\n",
    "### AI-Powered Analysis\n",
    "- **Automated Information Extraction**: Extract key program details, context, and findings using advanced AI models\n",
    "- **Smart Document Tagging**: AI-assisted categorization and labeling of evaluation reports\n",
    "- **Enhanced RAG Implementation**: Enriched chunking strategy for more accurate retrieval and generation\n",
    "\n",
    "### Flexibility & Openness  \n",
    "- **Framework Agnostic Design**: Compatible with multiple evaluation frameworks including IOM Strategic Results Framework and Global Compact on Migration\n",
    "- **Open Training Data**: Contribute to and benefit from community-curated training datasets"
   ]
  },
  {
   "cell_type": "markdown",
   "metadata": {},
   "source": [
    "## ️ Installation\n",
    "\n",
    "### From PyPI (Recommended)\n",
    "```bash\n",
    "pip install evaluatr\n",
    "```\n",
    "\n",
    "### From GitHub\n",
    "```bash\n",
    "pip install git+https://github.com/franckalbinet/evaluatr.git\n",
    "```\n",
    "\n",
    "### Development Installation\n",
    "```bash\n",
    "# Clone the repository\n",
    "git clone https://github.com/franckalbinet/evaluatr.git\n",
    "cd evaluatr\n",
    "\n",
    "# Install in development mode\n",
    "pip install -e .\n",
    "\n",
    "# Make changes in nbs/ directory, then compile:\n",
    "nbdev_prepare\n",
    "```"
   ]
  },
  {
   "cell_type": "markdown",
   "metadata": {},
   "source": [
    "## Quick Start"
   ]
  },
  {
   "cell_type": "markdown",
   "metadata": {},
   "source": [
    "### Reading an IOM Evaluation Repository"
   ]
  },
  {
   "cell_type": "code",
   "execution_count": null,
   "metadata": {},
   "outputs": [
    {
     "name": "stdout",
     "output_type": "stream",
     "text": [
      "ID: 1a57974ab89d7280988aa6b706147ce1\n",
      "Title: EX-POST EVALUATION OF THE PROJECT:  NIGERIA: STRENGTHENING REINTEGRATION FOR RETURNEES (SRARP)  - PHASE II\n",
      "Documents: 2\n",
      "---\n",
      "ID: c660e774d14854e20dc74457712b50ec\n",
      "Title: FINAL EVALUATION OF THE PROJECT: STRENGTHEN BORDER MANAGEMENT AND SECURITY IN MALI AND NIGER THROUGH CAPACITY BUILDING OF BORDER AUTHORITIES AND ENHANCED DIALOGUE WITH BORDER COMMUNITIES\n",
      "Documents: 2\n",
      "---\n",
      "ID: 2cae361c6779b561af07200e3d4e4051\n",
      "Title: Final Evaluation of the project \"SUPPORTING THE IMPLEMENTATION OF AN E RESIDENCE PLATFORM IN CABO VERDE\"\n",
      "Documents: 2\n",
      "---\n"
     ]
    }
   ],
   "source": [
    "from evaluatr.readers import IOMRepoReader\n",
    "\n",
    "# Initialize reader with your Excel file\n",
    "reader = IOMRepoReader('files/test/eval_repo_iom.xlsx')\n",
    "\n",
    "# Process the repository\n",
    "evaluations = reader()\n",
    "\n",
    "# Each evaluation is a standardized dictionary\n",
    "for eval in evaluations[:3]:  # Show first 3\n",
    "    print(f\"ID: {eval['id']}\")\n",
    "    print(f\"Title: {eval['meta']['Title']}\")\n",
    "    print(f\"Documents: {len(eval['docs'])}\")\n",
    "    print(\"---\")"
   ]
  },
  {
   "cell_type": "markdown",
   "metadata": {},
   "source": [
    "Exporting it to JSON:"
   ]
  },
  {
   "cell_type": "markdown",
   "metadata": {},
   "source": [
    "\n",
    "```\n",
    "reader.to_json('processed_evaluations.json')\n",
    "```"
   ]
  },
  {
   "cell_type": "markdown",
   "metadata": {},
   "source": [
    "## Downloading evaluation documents"
   ]
  },
  {
   "cell_type": "code",
   "execution_count": null,
   "metadata": {},
   "outputs": [
    {
     "data": {
      "text/plain": [
       "(#24) ['Downloaded Internal%20Evaluation_NG20P0516_MAY_2023_FINAL_Abderrahim%20EL%20MOULAT.pdf','Downloaded RR0163_Evaluation%20Brief_MAY_%202023_Abderrahim%20EL%20MOULAT.pdf','Downloaded IB0238_Evaluation%20Brief_FEB_%202023_Abderrahim%20EL%20MOULAT.pdf','Downloaded Internal%20Evaluation_IB0238__FEB_2023_FINAL%20RE_Abderrahim%20EL%20MOULAT.pdf','Downloaded IB0053_Evaluation%20Brief_SEP_%202022_Abderrahim%20EL%20MOULAT.pdf','Downloaded Internal%20Evaluation_IB0053_OCT_2022_FINAL_Abderrahim%20EL%20MOULAT_0.pdf','Downloaded Internal%20Evaluation_NC0030_JUNE_2022_FINAL_Abderrahim%20EL%20MOULAT_0.pdf','Downloaded NC0030_Evaluation%20Brief_June%202022_Abderrahim%20EL%20MOULAT.pdf','Downloaded CD0015_Evaluation%20Brief_May%202022_Abderrahim%20EL%20MOULAT.pdf','Downloaded Projet%20CD0015_Final%20Evaluation%20Report_May_202_Abderrahim%20EL%20MOULAT.pdf','Downloaded Internal%20Evaluation_Retour%20Vert_JUL_2021_Fina_Abderrahim%20EL%20MOULAT.pdf','Downloaded NC0012_Evaluation%20Brief_JUL%202021_Abderrahim%20EL%20MOULAT.pdf','Downloaded Nigeria%20GIZ%20Internal%20Evaluation_JANUARY_2021__Abderrahim%20EL%20MOULAT.pdf','Downloaded Nigeria%20GIZ%20Project_Evaluation%20Brief_JAN%202021_Abderrahim%20EL%20MOULAT_0.pdf','Downloaded Evaluation%20Brief_ARCO_Shiraz%20JERBI.pdF','Downloaded Final%20evaluation%20report_ARCO_Shiraz%20JERBI_1.pdf','Downloaded Management%20Response%20Matrix_ARCO_Shiraz%20JERBI.pdf','Downloaded IOM%20MANAGEMENT%20RESPONSE%20MATRIX.pdf','Downloaded IOM%20Niger%20-%20MIRAA%20III%20-%20Final%20Evaluation%20Report%20%28003%29.pdf','Downloaded CE.0369%20-%20IDEE%20-%20ANNEXE%201%20-%20Rapport%20Recherche_Joanie%20DUROCHER_0.pdf'...]"
      ]
     },
     "execution_count": null,
     "metadata": {},
     "output_type": "execute_result"
    }
   ],
   "source": [
    "from evaluatr.downloaders import download_docs\n",
    "from pathlib import Path\n",
    "\n",
    "fname = 'files/test/evaluations.json'\n",
    "base_dir = Path(\"files/test/pdf_library\")\n",
    "download_docs(fname, base_dir=base_dir, n_workers=0, overwrite=True)"
   ]
  },
  {
   "cell_type": "markdown",
   "metadata": {},
   "source": [
    "## Documentation\n",
    "\n",
    "- **Full Documentation**: [GitHub Pages](https://fr.anckalbi.net/evalstack/)\n",
    "- **API Reference**: Available in the documentation\n",
    "- **Examples**: See the `nbs/` directory for Jupyter notebooks\n",
    "\n",
    "## Contributing\n",
    "\n",
    "We welcome contributions! Here's how you can help:\n",
    "\n",
    "1. **Fork** the repository\n",
    "2. **Create** a feature branch (`git checkout -b feature/amazing-feature`)\n",
    "3. **Make** your changes in the `nbs/` directory\n",
    "4. **Compile** with `nbdev_prepare`\n",
    "5. **Commit** your changes (`git commit -m 'Add amazing feature'`)\n",
    "6. **Push** to the branch (`git push origin feature/amazing-feature`)\n",
    "7. **Open** a Pull Request\n",
    "\n",
    "### Development Setup\n",
    "\n",
    "```bash\n",
    "# Install development dependencies\n",
    "pip install -e .\n",
    "\n",
    "# Make changes in nbs/ directory\n",
    "# ...\n",
    "\n",
    "# Compile changes to evalstack package\n",
    "nbdev_prepare\n",
    "```\n",
    "\n",
    "## License\n",
    "\n",
    "This project is licensed under the MIT License - see the [LICENSE](LICENSE) file for details.\n",
    "\n",
    "##  Acknowledgments\n",
    "\n",
    "- Built with [nbdev](https://nbdev.fast.ai/) for literate programming\n",
    "- Uses [pandas](https://pandas.pydata.org/) for data processing\n",
    "- Powered by [rich](https://rich.readthedocs.io/) for beautiful terminal output\n",
    "\n",
    "## Support\n",
    "\n",
    "- **Issues**: [GitHub Issues](https://github.com/franckalbinet/evalstack/issues)\n",
    "- **Discussions**: [GitHub Discussions](https://github.com/franckalbinet/evalstack/discussions)\n",
    "- **Email**: [Your email here]"
   ]
  }
 ],
 "metadata": {
  "kernelspec": {
   "display_name": ".venv",
   "language": "python",
   "name": "python3"
  },
  "language_info": {
   "name": "python",
   "version": "3.12.8"
  }
 },
 "nbformat": 4,
 "nbformat_minor": 4
}
