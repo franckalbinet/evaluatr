{
 "cells": [
  {
   "cell_type": "markdown",
   "metadata": {},
   "source": [
    "# Evaluatr\n",
    "\n",
    "> **AI-assisted Evaluation Evidence Mapping**"
   ]
  },
  {
   "cell_type": "markdown",
   "metadata": {},
   "source": [
    "[![PyPI](https://img.shields.io/pypi/v/evalstack)](https://pypi.org/project/evalstack/)\n",
    "[![License](https://img.shields.io/badge/license-MIT-blue.svg)](LICENSE)\n",
    "[![Documentation](https://img.shields.io/badge/docs-GitHub%20Pages-blue)](https://franckalbinet.github.io/evalstack/)"
   ]
  },
  {
   "cell_type": "markdown",
   "metadata": {},
   "source": [
    "## What is Evaluatr?\n",
    "\n",
    "`Evaluatr` is an AI-powered system that automates the creation of **Evidence Maps** - structured, visual tools that organize what we know (and don't know) about programs, policies, and interventions. It transforms hundreds of hours of manual document review into an automated, intelligent process."
   ]
  },
  {
   "cell_type": "markdown",
   "metadata": {},
   "source": [
    "### The Challenge We Solve\n",
    "\n",
    "Traditional evidence mapping requires hundreds of staff-hours manually reviewing and tagging evaluation documents. EvalStack automates this process while maintaining **accuracy** through human-AI collaboration, making evidence mapping accessible and efficient."
   ]
  },
  {
   "cell_type": "markdown",
   "metadata": {},
   "source": [
    "##  Key Features\n",
    "\n",
    "- **📚 Multi-Format Repository Reading**: Standardized processing of evaluation repositories from different organizations\n",
    "- **🤖 AI-Powered Analysis**: Automated extraction of program details, context, and findings\n",
    "- **🗂️ Framework Agnostic**: Works with various evaluation frameworks (IOM Strategic Results Framework, Global Compact on Migration, etc.)\n",
    "- **Interactive Visualizations**: Generate bubble maps, heatmaps, and gap analysis\n",
    "- **🔍 Hybrid Search**: Vector database storage with semantic and keyword search capabilities"
   ]
  },
  {
   "cell_type": "markdown",
   "metadata": {},
   "source": [
    "## Workflow Overview\n",
    "\n",
    "```mermaid\n",
    "graph LR\n",
    "    A[Evaluation Repositories] --> B[Standardized Reading]\n",
    "    B --> C[Document Processing]\n",
    "    C --> D[AI Analysis]\n",
    "    D --> E[Evidence Mapping]\n",
    "    E --> F[Interactive Visualizations]\n",
    "```"
   ]
  },
  {
   "cell_type": "markdown",
   "metadata": {},
   "source": [
    "### Current Implementation ✅\n",
    "\n",
    "**Step 1: Repository Reading** - EvalStack can read and standardize evaluation repositories from different organizations:"
   ]
  },
  {
   "cell_type": "code",
   "execution_count": null,
   "metadata": {},
   "outputs": [],
   "source": [
    "from evaluatr.readers import IOMRepoReader\n",
    "\n",
    "# Read IOM evaluation repository\n",
    "reader = IOMRepoReader('files/test/eval_repo_iom.xlsx')\n",
    "evaluations = reader()  # Returns standardized format\n",
    "\n",
    "# Each evaluation contains:\n",
    "# - id: Unique identifier\n",
    "# - docs: Associated documents with URLs and descriptions\n",
    "# - meta: All metadata in standardized format"
   ]
  },
  {
   "cell_type": "markdown",
   "metadata": {},
   "source": [
    "### Coming Soon 🚧\n",
    "\n",
    "- **Step 2**: Document Processing (OCR, chunking, embeddings)\n",
    "- **Step 3**: Structured Information Extraction (AI-powered)\n",
    "- **Step 4**: Evidence Mapping & Analysis (cross-evaluation patterns)"
   ]
  },
  {
   "cell_type": "markdown",
   "metadata": {},
   "source": [
    "## ️ Installation\n",
    "\n",
    "### From PyPI (Recommended)\n",
    "```bash\n",
    "pip install evaluatr\n",
    "```\n",
    "\n",
    "### From GitHub\n",
    "```bash\n",
    "pip install git+https://github.com/franckalbinet/evaluatr.git\n",
    "```\n",
    "\n",
    "### Development Installation\n",
    "```bash\n",
    "# Clone the repository\n",
    "git clone https://github.com/franckalbinet/evaluatr.git\n",
    "cd evaluatr\n",
    "\n",
    "# Install in development mode\n",
    "pip install -e .\n",
    "\n",
    "# Make changes in nbs/ directory, then compile:\n",
    "nbdev_prepare\n",
    "```"
   ]
  },
  {
   "cell_type": "markdown",
   "metadata": {},
   "source": [
    "## Quick Start"
   ]
  },
  {
   "cell_type": "markdown",
   "metadata": {},
   "source": [
    "### Reading an IOM Evaluation Repository"
   ]
  },
  {
   "cell_type": "code",
   "execution_count": null,
   "metadata": {},
   "outputs": [
    {
     "name": "stdout",
     "output_type": "stream",
     "text": [
      "ID: 1a57974ab89d7280988aa6b706147ce1\n",
      "Title: EX-POST EVALUATION OF THE PROJECT:  NIGERIA: STRENGTHENING REINTEGRATION FOR RETURNEES (SRARP)  - PHASE II\n",
      "Documents: 2\n",
      "---\n",
      "ID: c660e774d14854e20dc74457712b50ec\n",
      "Title: FINAL EVALUATION OF THE PROJECT: STRENGTHEN BORDER MANAGEMENT AND SECURITY IN MALI AND NIGER THROUGH CAPACITY BUILDING OF BORDER AUTHORITIES AND ENHANCED DIALOGUE WITH BORDER COMMUNITIES\n",
      "Documents: 2\n",
      "---\n",
      "ID: 2cae361c6779b561af07200e3d4e4051\n",
      "Title: Final Evaluation of the project \"SUPPORTING THE IMPLEMENTATION OF AN E RESIDENCE PLATFORM IN CABO VERDE\"\n",
      "Documents: 2\n",
      "---\n"
     ]
    }
   ],
   "source": [
    "from evaluatr.readers import IOMRepoReader\n",
    "\n",
    "# Initialize reader with your Excel file\n",
    "reader = IOMRepoReader('files/test/eval_repo_iom.xlsx')\n",
    "\n",
    "# Process the repository\n",
    "evaluations = reader()\n",
    "\n",
    "# Each evaluation is a standardized dictionary\n",
    "for eval in evaluations[:3]:  # Show first 3\n",
    "    print(f\"ID: {eval['id']}\")\n",
    "    print(f\"Title: {eval['meta']['Title']}\")\n",
    "    print(f\"Documents: {len(eval['docs'])}\")\n",
    "    print(\"---\")"
   ]
  },
  {
   "cell_type": "markdown",
   "metadata": {},
   "source": [
    "### Export to JSON"
   ]
  },
  {
   "cell_type": "markdown",
   "metadata": {},
   "source": [
    "\n",
    "```\n",
    "reader.to_json('processed_evaluations.json')\n",
    "```"
   ]
  },
  {
   "cell_type": "markdown",
   "metadata": {},
   "source": [
    "## Documentation\n",
    "\n",
    "- **Full Documentation**: [GitHub Pages](https://fr.anckalbi.net/evalstack/)\n",
    "- **API Reference**: Available in the documentation\n",
    "- **Examples**: See the `nbs/` directory for Jupyter notebooks\n",
    "\n",
    "## Contributing\n",
    "\n",
    "We welcome contributions! Here's how you can help:\n",
    "\n",
    "1. **Fork** the repository\n",
    "2. **Create** a feature branch (`git checkout -b feature/amazing-feature`)\n",
    "3. **Make** your changes in the `nbs/` directory\n",
    "4. **Compile** with `nbdev_prepare`\n",
    "5. **Commit** your changes (`git commit -m 'Add amazing feature'`)\n",
    "6. **Push** to the branch (`git push origin feature/amazing-feature`)\n",
    "7. **Open** a Pull Request\n",
    "\n",
    "### Development Setup\n",
    "\n",
    "```bash\n",
    "# Install development dependencies\n",
    "pip install -e .\n",
    "\n",
    "# Make changes in nbs/ directory\n",
    "# ...\n",
    "\n",
    "# Compile changes to evalstack package\n",
    "nbdev_prepare\n",
    "```\n",
    "\n",
    "## License\n",
    "\n",
    "This project is licensed under the MIT License - see the [LICENSE](LICENSE) file for details.\n",
    "\n",
    "##  Acknowledgments\n",
    "\n",
    "- Built with [nbdev](https://nbdev.fast.ai/) for literate programming\n",
    "- Uses [pandas](https://pandas.pydata.org/) for data processing\n",
    "- Powered by [rich](https://rich.readthedocs.io/) for beautiful terminal output\n",
    "\n",
    "## Support\n",
    "\n",
    "- **Issues**: [GitHub Issues](https://github.com/franckalbinet/evalstack/issues)\n",
    "- **Discussions**: [GitHub Discussions](https://github.com/franckalbinet/evalstack/discussions)\n",
    "- **Email**: [Your email here]"
   ]
  }
 ],
 "metadata": {
  "kernelspec": {
   "display_name": "python3",
   "language": "python",
   "name": "python3"
  }
 },
 "nbformat": 4,
 "nbformat_minor": 4
}
