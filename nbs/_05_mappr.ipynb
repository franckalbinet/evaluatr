{
 "cells": [
  {
   "cell_type": "markdown",
   "metadata": {},
   "source": [
    "# Mappr\n",
    "\n",
    "> Map report to evaluation frameworks"
   ]
  },
  {
   "cell_type": "code",
   "execution_count": null,
   "metadata": {},
   "outputs": [],
   "source": [
    "#| default_exp mappr"
   ]
  },
  {
   "cell_type": "code",
   "execution_count": null,
   "metadata": {},
   "outputs": [],
   "source": [
    "from pathlib import Path\n",
    "from functools import reduce\n",
    "from toolslm.md_hier import *\n",
    "from rich import print\n"
   ]
  },
  {
   "cell_type": "code",
   "execution_count": null,
   "metadata": {},
   "outputs": [
    {
     "name": "stdout",
     "output_type": "stream",
     "text": [
      "# **PPMi** .... page 1\n",
      "\n",
      "**Final Evaluation of the EU-IOM Joint Initiative for migrant protection and reintegration in the horn of Africa**\n",
      "\n",
      "Final Evaluation Report, 17 March 2023\n",
      "\n",
      "![img-0.jpeg](img-0.jpeg)\n",
      "\n",
      "**EU-IOM** Joint Initiative for Migrant Protection and Reintegration\n",
      "\n",
      "Project funded by the European Union\n",
      "Project implemented by IOM\n",
      "This Final Evaluation Report was commissioned by IOM and developed by the evaluation team of PPMI Group, including: Loes van der Graaf, Rimantas Dumcius, Radvi\n"
     ]
    }
   ],
   "source": [
    "#| eval: false\n",
    "report = Path(\"../_data/md_library/49d2fba781b6a7c0d94577479636ee6f/fixed_eval_report.md\")\n",
    "with open(report, \"r\") as f: report = f.read()\n",
    "print(report[:500])"
   ]
  },
  {
   "cell_type": "code",
   "execution_count": null,
   "metadata": {},
   "outputs": [],
   "source": [
    "from dotenv import load_dotenv\n",
    "import os\n",
    "\n",
    "load_dotenv()\n",
    "GEMINI_API_KEY = os.getenv('GEMINI_API_KEY')"
   ]
  },
  {
   "cell_type": "code",
   "execution_count": null,
   "metadata": {},
   "outputs": [
    {
     "name": "stdout",
     "output_type": "stream",
     "text": [
      "<dspy.clients.lm.LM object>\n"
     ]
    }
   ],
   "source": [
    "import dspy\n",
    "\n",
    "# lm = dspy.LM('google/gemini-2.0-flash-exp', api_key=GEMINI_API_KEY)\n",
    "lm = dspy.LM('gemini/gemini-2.0-flash-exp', api_key=GEMINI_API_KEY)\n",
    "dspy.configure(lm=lm)\n",
    "print(dspy.settings.lm)"
   ]
  },
  {
   "cell_type": "code",
   "execution_count": null,
   "metadata": {},
   "outputs": [],
   "source": [
    "from typing import List, Dict, Optional"
   ]
  },
  {
   "cell_type": "code",
   "execution_count": null,
   "metadata": {},
   "outputs": [],
   "source": [
    "class InitialOverview(dspy.Signature):\n",
    "    \"\"\"Identify strategic sections to start theme analysis\"\"\"\n",
    "    theme: str = dspy.InputField(desc=\"Theme to analyze\")\n",
    "    all_headings: str = dspy.InputField(desc=\"Complete document structure\")\n",
    "    priority_sections: List[str] = dspy.OutputField(desc=\"Ordered list of section keys to explore first\")\n",
    "    strategy: str = dspy.OutputField(desc=\"Reasoning for this exploration strategy\")"
   ]
  },
  {
   "cell_type": "code",
   "execution_count": null,
   "metadata": {},
   "outputs": [],
   "source": [
    "overview = dspy.ChainOfThought(InitialOverview)"
   ]
  },
  {
   "cell_type": "code",
   "execution_count": null,
   "metadata": {},
   "outputs": [],
   "source": [
    "query = \"Facilitating pathways for regular migration. Channels for regular migration are sustainable and responsive to current and emerging trends. Migrants are able to return to their homes voluntarily, safely and in dignity. Member states are supported to develop or improve existing evidence-based policy and legal frameworks to facilitate effective and sustainable regular migration channels for voluntary return.\""
   ]
  },
  {
   "cell_type": "code",
   "execution_count": null,
   "metadata": {},
   "outputs": [],
   "source": [
    "# print(hdgs['**PPMi** .... page 1']['2. Background of the JI-HoA .... page 5']['2.2. External factors affecting the implementation of the JI .... page 7'].text)"
   ]
  },
  {
   "cell_type": "code",
   "execution_count": null,
   "metadata": {},
   "outputs": [
    {
     "data": {
      "text/plain": [
       "{'**PPMi** .... page 1': {'CONTENTS .... page 3': {},\n",
       "  '1. Introduction .... page 4': {},\n",
       "  '2. Background of the JI-HoA .... page 5': {'2.1. Context and design of the JI-HoA .... page 5': {},\n",
       "   '2.2. External factors affecting the implementation of the JI .... page 7': {}},\n",
       "  '3. Methodology .... page 8': {},\n",
       "  '4. Findings .... page 10': {'4.1. Relevance .... page 10': {'4.1.1. Relevance of programme activities for migrants, returnees, and communities .... page 10': {'Overall performance score for relevance: $3.9 / 5$ <br> Robustness score for the evidence: $4.5 / 5$ .... page 10': {},\n",
       "     '4.1.1.1 Needs of migrants .... page 10': {},\n",
       "     '4.1.1.2 Needs of returnees .... page 10': {},\n",
       "     '4.1.1.3 Needs of community members .... page 12': {}},\n",
       "    \"4.1.2. Programme's relevance to the needs of stakeholders .... page 12\": {'4.1.2.1 Needs of governments .... page 12': {},\n",
       "     '4.1.2.2 Needs of other stakeholders .... page 13': {}}},\n",
       "   '4.2. Coherence .... page 13': {\"4.2.1. The JI-HoA's alignment with the objectives and standards of IOM, and objectives of the EU .... page 14\": {},\n",
       "    '4.2.2. Alignment with other initiatives .... page 14': {}},\n",
       "   '4.3. Effectiveness .... page 16': {'4.3.1. Specific Objective 1: Partner countries and relevant stakeholders developed or strengthened evidence-based return and reintegration procedures .... page 16': {'4.3.1.1 Achievement of outputs and results .... page 16': {'Data availability .... page 16': {},\n",
       "      'Capacity of stakeholders .... page 17': {}},\n",
       "     '4.3.1.2 Achievement of Specific Objective 1 .... page 17': {}},\n",
       "    '4.3.2. Specific Objective 2: Safe, humane, dignified voluntary return processes are enhanced along main migration routes .... page 18': {'4.3.2.1 Achievement of outputs and results .... page 19': {'Outreach and awareness .... page 19': {},\n",
       "      'Assistance to stranded migrants .... page 19': {}},\n",
       "     '4.3.2.2 Achievement of the Objective .... page 20': {}},\n",
       "    '4.3.3. Specific Objective 3: Returnees are sustainably integrated in host communities, and host communities are better able to create living standards that address drivers of migration. .... page 20': {'4.3.3.1 Achievement of outputs and results .... page 20': {'Individual and community-based reintegration .... page 20': {},\n",
       "      'M\\\\&E systems .... page 21': {}},\n",
       "     '4.3.3.2 Achievement of Specific Objective 3 .... page 22': {'Overall achievement of reintegration .... page 22': {},\n",
       "      'Sustainability of reintegration .... page 23': {}}},\n",
       "    '4.3.4. Functioning of the Integrated Approach .... page 23': {}},\n",
       "   '4.4. Efficiency .... page 24': {'4.4.3. Did the programme receive sufficient resources to achieve its objectives? .... page 24': {},\n",
       "    '4.4.2. Cost-effectiveness and efficiency of the programme .... page 25': {}},\n",
       "   '4.5. Sustainability .... page 26': {'Overall performance score for sustainability: $2.5 / 5$ <br> Robustness score for the evidence: $4 / 5$ .... page 26': {}}},\n",
       "  '5. Conclusions and Recommendations .... page 27': {'5.1. Conclusions .... page 27': {},\n",
       "   '5.2. Recommendations .... page 28': {'3. Increase attention on building partnerships with service providers who can function without (significant) funding channelled by IOM. .... page 29': {},\n",
       "    '5. Explore opportunities to extend the scope of support provided to returnees, with a focus on longer-term integration. .... page 30': {}}}}}"
      ]
     },
     "execution_count": null,
     "metadata": {},
     "output_type": "execute_result"
    }
   ],
   "source": [
    "hdgs = create_heading_dict(report); hdgs"
   ]
  },
  {
   "cell_type": "code",
   "execution_count": null,
   "metadata": {},
   "outputs": [
    {
     "data": {
      "text/html": [
       "<pre style=\"white-space:pre;overflow-x:auto;line-height:normal;font-family:Menlo,'DejaVu Sans Mono',consolas,'Courier New',monospace\">Priority sections:\n",
       "<span style=\"font-weight: bold\">[</span>\n",
       "    <span style=\"color: #008000; text-decoration-color: #008000\">'4.1.1.1 Needs of migrants .... page 10'</span>,\n",
       "    <span style=\"color: #008000; text-decoration-color: #008000\">'4.1.1.2 Needs of returnees .... page 10'</span>,\n",
       "    <span style=\"color: #008000; text-decoration-color: #008000\">'4.1.2.1 Needs of governments .... page 12'</span>,\n",
       "    <span style=\"color: #008000; text-decoration-color: #008000\">'4.3.1.2 Achievement of Specific Objective 1 .... page 17'</span>,\n",
       "    <span style=\"color: #008000; text-decoration-color: #008000\">'4.3.2.2 Achievement of the Objective .... page 20'</span>,\n",
       "    <span style=\"color: #008000; text-decoration-color: #008000\">'4.3.3.2 Achievement of Specific Objective 3 .... page 22'</span>,\n",
       "    <span style=\"color: #008000; text-decoration-color: #008000\">'4.5. Sustainability .... page 26'</span>,\n",
       "    <span style=\"color: #008000; text-decoration-color: #008000\">'5. Conclusions and Recommendations .... page 27'</span>\n",
       "<span style=\"font-weight: bold\">]</span>\n",
       "</pre>\n"
      ],
      "text/plain": [
       "Priority sections:\n",
       "\u001b[1m[\u001b[0m\n",
       "    \u001b[32m'4.1.1.1 Needs of migrants .... page 10'\u001b[0m,\n",
       "    \u001b[32m'4.1.1.2 Needs of returnees .... page 10'\u001b[0m,\n",
       "    \u001b[32m'4.1.2.1 Needs of governments .... page 12'\u001b[0m,\n",
       "    \u001b[32m'4.3.1.2 Achievement of Specific Objective 1 .... page 17'\u001b[0m,\n",
       "    \u001b[32m'4.3.2.2 Achievement of the Objective .... page 20'\u001b[0m,\n",
       "    \u001b[32m'4.3.3.2 Achievement of Specific Objective 3 .... page 22'\u001b[0m,\n",
       "    \u001b[32m'4.5. Sustainability .... page 26'\u001b[0m,\n",
       "    \u001b[32m'5. Conclusions and Recommendations .... page 27'\u001b[0m\n",
       "\u001b[1m]\u001b[0m\n"
      ]
     },
     "metadata": {},
     "output_type": "display_data"
    },
    {
     "data": {
      "text/html": [
       "<pre style=\"white-space:pre;overflow-x:auto;line-height:normal;font-family:Menlo,'DejaVu Sans Mono',consolas,'Courier New',monospace\">Strategy: The strategy is to focus on sections that directly address the core components of the theme: the needs of\n",
       "migrants and returnees, the role of governments, the achievement of specific objectives related to return and \n",
       "reintegration, and the sustainability of the program's impact. Starting with these sections will provide a strong \n",
       "foundation for understanding the program's effectiveness and identifying areas for improvement. The conclusions and\n",
       "recommendations will then offer a summary of key findings and suggestions for future action.\n",
       "</pre>\n"
      ],
      "text/plain": [
       "Strategy: The strategy is to focus on sections that directly address the core components of the theme: the needs of\n",
       "migrants and returnees, the role of governments, the achievement of specific objectives related to return and \n",
       "reintegration, and the sustainability of the program's impact. Starting with these sections will provide a strong \n",
       "foundation for understanding the program's effectiveness and identifying areas for improvement. The conclusions and\n",
       "recommendations will then offer a summary of key findings and suggestions for future action.\n"
      ]
     },
     "metadata": {},
     "output_type": "display_data"
    }
   ],
   "source": [
    "result = overview(theme=query, all_headings=str(hdgs))\n",
    "print(\"Priority sections:\", result.priority_sections)\n",
    "print(\"Strategy:\", result.strategy)"
   ]
  },
  {
   "cell_type": "code",
   "execution_count": null,
   "metadata": {},
   "outputs": [],
   "source": [
    "class ExplorationDecision(dspy.Signature):\n",
    "    \"\"\"Decide next exploration step based on current findings\"\"\"\n",
    "    theme: str = dspy.InputField(desc=\"Theme being analyzed\")\n",
    "    current_findings: str = dspy.InputField(desc=\"Evidence found so far\")\n",
    "    available_sections: str = dspy.InputField(desc=\"Remaining sections to explore\")\n",
    "    next_section: str = dspy.OutputField(desc=\"Next section key to explore, or 'DONE' if sufficient\")\n",
    "    reasoning: str = dspy.OutputField(desc=\"Why this section or why stopping\")"
   ]
  },
  {
   "cell_type": "code",
   "execution_count": null,
   "metadata": {},
   "outputs": [],
   "source": [
    "explore = dspy.ChainOfThought(ExplorationDecision)"
   ]
  },
  {
   "cell_type": "code",
   "execution_count": null,
   "metadata": {},
   "outputs": [
    {
     "data": {
      "text/html": [
       "<pre style=\"white-space:pre;overflow-x:auto;line-height:normal;font-family:Menlo,'DejaVu Sans Mono',consolas,'Courier New',monospace\">Next section: <span style=\"color: #00ff00; text-decoration-color: #00ff00; font-weight: bold\">4.1.1.1</span> Needs of migrants <span style=\"color: #808000; text-decoration-color: #808000\">...</span>. page <span style=\"color: #008080; text-decoration-color: #008080; font-weight: bold\">10</span>\n",
       "</pre>\n"
      ],
      "text/plain": [
       "Next section: \u001b[1;92m4.1.1.1\u001b[0m Needs of migrants \u001b[33m...\u001b[0m. page \u001b[1;36m10\u001b[0m\n"
      ]
     },
     "metadata": {},
     "output_type": "display_data"
    },
    {
     "data": {
      "text/html": [
       "<pre style=\"white-space:pre;overflow-x:auto;line-height:normal;font-family:Menlo,'DejaVu Sans Mono',consolas,'Courier New',monospace\">Reasoning: Since no evidence has been collected yet, it's best to start with a section that outlines the needs of \n",
       "the involved parties. Starting with the needs of migrants seems like a logical first step.\n",
       "</pre>\n"
      ],
      "text/plain": [
       "Reasoning: Since no evidence has been collected yet, it's best to start with a section that outlines the needs of \n",
       "the involved parties. Starting with the needs of migrants seems like a logical first step.\n"
      ]
     },
     "metadata": {},
     "output_type": "display_data"
    }
   ],
   "source": [
    "decision = explore(\n",
    "    theme=query,\n",
    "    current_findings=\"No evidence collected yet\",\n",
    "    available_sections=str(result.priority_sections)\n",
    ")\n",
    "\n",
    "print(\"Next section:\", decision.next_section)\n",
    "print(\"Reasoning:\", decision.reasoning)"
   ]
  },
  {
   "cell_type": "code",
   "execution_count": null,
   "metadata": {},
   "outputs": [],
   "source": [
    "def get_content_tool(hdgs, keys_list):\n",
    "    \"Navigate through nested levels using the exact key strings\"\n",
    "    return reduce(lambda current, key: current[key], keys_list, hdgs).text"
   ]
  },
  {
   "cell_type": "code",
   "execution_count": null,
   "metadata": {},
   "outputs": [],
   "source": [
    "def find_section_path(hdgs, target_section):\n",
    "    \"\"\"Find the nested key path for a given section name\"\"\"\n",
    "    def search_recursive(current_dict, path=[]):\n",
    "        for key, value in current_dict.items():\n",
    "            current_path = path + [key]\n",
    "            if key == target_section:\n",
    "                return current_path\n",
    "            if isinstance(value, dict):\n",
    "                result = search_recursive(value, current_path)\n",
    "                if result:\n",
    "                    return result\n",
    "        return None\n",
    "    \n",
    "    return search_recursive(hdgs)"
   ]
  },
  {
   "cell_type": "code",
   "execution_count": null,
   "metadata": {},
   "outputs": [
    {
     "data": {
      "text/plain": [
       "['**PPMi** .... page 1',\n",
       " '4. Findings .... page 10',\n",
       " '4.1. Relevance .... page 10',\n",
       " '4.1.1. Relevance of programme activities for migrants, returnees, and communities .... page 10',\n",
       " '4.1.1.1 Needs of migrants .... page 10']"
      ]
     },
     "execution_count": null,
     "metadata": {},
     "output_type": "execute_result"
    }
   ],
   "source": [
    "path = find_section_path(hdgs, \"4.1.1.1 Needs of migrants .... page 10\"); path"
   ]
  },
  {
   "cell_type": "code",
   "execution_count": null,
   "metadata": {},
   "outputs": [
    {
     "data": {
      "text/html": [
       "<pre style=\"white-space:pre;overflow-x:auto;line-height:normal;font-family:Menlo,'DejaVu Sans Mono',consolas,'Courier New',monospace\">##### <span style=\"color: #00ff00; text-decoration-color: #00ff00; font-weight: bold\">4.1.1.1</span> Needs of migrants <span style=\"color: #808000; text-decoration-color: #808000\">...</span>. page <span style=\"color: #008080; text-decoration-color: #008080; font-weight: bold\">10</span>\n",
       "\n",
       "Desk research and interviews confirm that the programme responded to the most pressing needs of migrants. The \n",
       "JI-HoA enabled them to return from dangerous environments, such as detention, where no other support was available.\n",
       "Migrants shared that they suffered on their irregular migration journeys, had acutely distressing experiences $<span style=\"font-weight: bold\">{</span> \n",
       "<span style=\"font-weight: bold\">}</span>^<span style=\"font-weight: bold\">{</span><span style=\"color: #008080; text-decoration-color: #008080; font-weight: bold\">13</span><span style=\"font-weight: bold\">}</span>$, and highlighted that their families and communities could not help them $<span style=\"font-weight: bold\">{</span> <span style=\"font-weight: bold\">}</span>^<span style=\"font-weight: bold\">{</span><span style=\"color: #008080; text-decoration-color: #008080; font-weight: bold\">14</span><span style=\"font-weight: bold\">}</span>$. Stakeholders supportin\n",
       "</pre>\n"
      ],
      "text/plain": [
       "##### \u001b[1;92m4.1.1.1\u001b[0m Needs of migrants \u001b[33m...\u001b[0m. page \u001b[1;36m10\u001b[0m\n",
       "\n",
       "Desk research and interviews confirm that the programme responded to the most pressing needs of migrants. The \n",
       "JI-HoA enabled them to return from dangerous environments, such as detention, where no other support was available.\n",
       "Migrants shared that they suffered on their irregular migration journeys, had acutely distressing experiences $\u001b[1m{\u001b[0m \n",
       "\u001b[1m}\u001b[0m^\u001b[1m{\u001b[0m\u001b[1;36m13\u001b[0m\u001b[1m}\u001b[0m$, and highlighted that their families and communities could not help them $\u001b[1m{\u001b[0m \u001b[1m}\u001b[0m^\u001b[1m{\u001b[0m\u001b[1;36m14\u001b[0m\u001b[1m}\u001b[0m$. Stakeholders supportin\n"
      ]
     },
     "metadata": {},
     "output_type": "display_data"
    }
   ],
   "source": [
    "content = get_content_tool(hdgs, path)\n",
    "print(content[:500])"
   ]
  },
  {
   "cell_type": "code",
   "execution_count": null,
   "metadata": {},
   "outputs": [],
   "source": [
    "class EvidenceAssessment(dspy.Signature):\n",
    "    \"\"\"Assess if current evidence is sufficient for theme analysis\"\"\"\n",
    "    theme: str = dspy.InputField(desc=\"Theme being analyzed\")\n",
    "    evidence_so_far: str = dspy.InputField(desc=\"All evidence collected\")\n",
    "    sections_explored: str = dspy.InputField(desc=\"Sections already checked\")\n",
    "    sufficient: bool = dspy.OutputField(desc=\"Is evidence sufficient to make conclusion?\")\n",
    "    confidence_score: float = dspy.OutputField(desc=\"Confidence in current findings (0-1)\")\n",
    "    next_priority: str = dspy.OutputField(desc=\"If continuing, what type of section to prioritize\")"
   ]
  },
  {
   "cell_type": "code",
   "execution_count": null,
   "metadata": {},
   "outputs": [],
   "source": [
    "assess = dspy.ChainOfThought(EvidenceAssessment)"
   ]
  },
  {
   "cell_type": "code",
   "execution_count": null,
   "metadata": {},
   "outputs": [
    {
     "data": {
      "text/html": [
       "<pre style=\"white-space:pre;overflow-x:auto;line-height:normal;font-family:Menlo,'DejaVu Sans Mono',consolas,'Courier New',monospace\">Sufficient: <span style=\"color: #ff0000; text-decoration-color: #ff0000; font-style: italic\">False</span>\n",
       "</pre>\n"
      ],
      "text/plain": [
       "Sufficient: \u001b[3;91mFalse\u001b[0m\n"
      ]
     },
     "metadata": {},
     "output_type": "display_data"
    },
    {
     "data": {
      "text/html": [
       "<pre style=\"white-space:pre;overflow-x:auto;line-height:normal;font-family:Menlo,'DejaVu Sans Mono',consolas,'Courier New',monospace\">Confidence score: <span style=\"color: #008080; text-decoration-color: #008080; font-weight: bold\">0.4</span>\n",
       "</pre>\n"
      ],
      "text/plain": [
       "Confidence score: \u001b[1;36m0.4\u001b[0m\n"
      ]
     },
     "metadata": {},
     "output_type": "display_data"
    },
    {
     "data": {
      "text/html": [
       "<pre style=\"white-space:pre;overflow-x:auto;line-height:normal;font-family:Menlo,'DejaVu Sans Mono',consolas,'Courier New',monospace\">Next priority: Policy and legal frameworks related to regular migration channels and voluntary return.\n",
       "</pre>\n"
      ],
      "text/plain": [
       "Next priority: Policy and legal frameworks related to regular migration channels and voluntary return.\n"
      ]
     },
     "metadata": {},
     "output_type": "display_data"
    }
   ],
   "source": [
    "assessment = assess(\n",
    "    theme=query,\n",
    "    evidence_so_far=content,\n",
    "    sections_explored=\"['4.1.1.1 Needs of migrants .... page 10']\"\n",
    ")\n",
    "\n",
    "print(\"Sufficient:\", assessment.sufficient)\n",
    "print(\"Confidence score:\", assessment.confidence_score)\n",
    "print(\"Next priority:\", assessment.next_priority)"
   ]
  },
  {
   "cell_type": "code",
   "execution_count": null,
   "metadata": {},
   "outputs": [],
   "source": [
    "class FinalSynthesis(dspy.Signature):\n",
    "    \"\"\"Provide detailed rationale and synthesis of theme analysis\"\"\"\n",
    "    theme: str = dspy.InputField(desc=\"Theme being analyzed\")\n",
    "    all_evidence: str = dspy.InputField(desc=\"All collected evidence\")\n",
    "    sections_explored: str = dspy.InputField(desc=\"List of sections explored\")\n",
    "    theme_covered: bool = dspy.OutputField(desc=\"Final decision on theme coverage\")\n",
    "    confidence_explanation: str = dspy.OutputField(desc=\"Detailed explanation of confidence score\")\n",
    "    evidence_summary: str = dspy.OutputField(desc=\"Key evidence supporting the conclusion\")\n",
    "    gaps_identified: str = dspy.OutputField(desc=\"Any gaps or missing aspects\")"
   ]
  },
  {
   "cell_type": "code",
   "execution_count": null,
   "metadata": {},
   "outputs": [],
   "source": [
    "class ThemeAnalyzer(dspy.Module):\n",
    "    def __init__(self):\n",
    "        self.overview = dspy.ChainOfThought(InitialOverview)\n",
    "        self.explore = dspy.ChainOfThought(ExplorationDecision)\n",
    "        self.assess = dspy.ChainOfThought(EvidenceAssessment)\n",
    "        self.synthesize = dspy.ChainOfThought(FinalSynthesis)\n",
    "    \n",
    "    def forward(self, theme, headings, get_content_fn):\n",
    "        # Step 1: Get strategic overview\n",
    "        overview = self.overview(theme=theme, all_headings=str(headings))\n",
    "        print(\"Overview result:\", overview.priority_sections)\n",
    "        \n",
    "        evidence_collected = []\n",
    "        sections_explored = []\n",
    "        available_sections = overview.priority_sections.copy()\n",
    "        \n",
    "        # Step 2: Adaptive iterative exploration\n",
    "        for i in range(10):  # Max iterations\n",
    "            print(f\"\\n--- Iteration {i+1} ---\")\n",
    "            \n",
    "            # Decide next section\n",
    "            decision = self.explore(\n",
    "                theme=theme,\n",
    "                current_findings=\"\\n\\n\".join(evidence_collected) if evidence_collected else \"No evidence collected yet\",\n",
    "                available_sections=str(available_sections)\n",
    "            )\n",
    "            print(\"Decision:\", decision.next_section)\n",
    "            print(\"Reasoning:\", decision.reasoning)\n",
    "            \n",
    "            if decision.next_section == 'DONE':\n",
    "                print(\"Decision says DONE, breaking\")\n",
    "                break\n",
    "            \n",
    "            # Get content\n",
    "            path = find_section_path(headings, decision.next_section)\n",
    "            print(\"Path found:\", path)\n",
    "            \n",
    "            if path:\n",
    "                content = get_content_fn(headings, path)\n",
    "                print(\"Content length:\", len(content))\n",
    "                evidence_collected.append(f\"Section: {decision.next_section}\\nContent: {content}\")\n",
    "                sections_explored.append(decision.next_section)\n",
    "                if decision.next_section in available_sections:\n",
    "                    available_sections.remove(decision.next_section)\n",
    "            else:\n",
    "                print(\"No path found for section!\")\n",
    "            \n",
    "            # Assess sufficiency\n",
    "            assessment = self.assess(\n",
    "                theme=theme,\n",
    "                evidence_so_far=\"\\n\\n\".join(evidence_collected),\n",
    "                sections_explored=str(sections_explored)\n",
    "            )\n",
    "            print(\"Assessment - Sufficient:\", assessment.sufficient, \"Confidence:\", assessment.confidence_score)\n",
    "            \n",
    "            if assessment.sufficient and assessment.confidence_score > 0.8:\n",
    "                print(\"Assessment says sufficient, breaking\")\n",
    "                break\n",
    "        \n",
    "        # Final synthesis\n",
    "        synthesis = self.synthesize(\n",
    "            theme=theme,\n",
    "            all_evidence=\"\\n\\n\".join(evidence_collected),\n",
    "            sections_explored=str(sections_explored)\n",
    "        )\n",
    "        print(\"Synthesis result:\", synthesis.theme_covered)\n",
    "        print(\"Synthesis reasoning:\", synthesis.confidence_explanation)\n",
    "        print(\"Synthesis evidence:\", synthesis.evidence_summary)\n",
    "        print(\"Synthesis gaps:\", synthesis.gaps_identified)\n",
    "    "
   ]
  },
  {
   "cell_type": "code",
   "execution_count": null,
   "metadata": {},
   "outputs": [],
   "source": []
  },
  {
   "cell_type": "code",
   "execution_count": null,
   "metadata": {},
   "outputs": [
    {
     "data": {
      "text/html": [
       "<pre style=\"white-space:pre;overflow-x:auto;line-height:normal;font-family:Menlo,'DejaVu Sans Mono',consolas,'Courier New',monospace\">Overview result:\n",
       "<span style=\"font-weight: bold\">[</span>\n",
       "    <span style=\"color: #008000; text-decoration-color: #008000\">'4.1.1.1 Needs of migrants .... page 10'</span>,\n",
       "    <span style=\"color: #008000; text-decoration-color: #008000\">'4.1.1.2 Needs of returnees .... page 10'</span>,\n",
       "    <span style=\"color: #008000; text-decoration-color: #008000\">'4.1.2.1 Needs of governments .... page 12'</span>,\n",
       "    <span style=\"color: #008000; text-decoration-color: #008000\">'4.3.1.2 Achievement of Specific Objective 1 .... page 17'</span>,\n",
       "    <span style=\"color: #008000; text-decoration-color: #008000\">'4.3.2.2 Achievement of the Objective .... page 20'</span>,\n",
       "    <span style=\"color: #008000; text-decoration-color: #008000\">'4.3.3.2 Achievement of Specific Objective 3 .... page 22'</span>,\n",
       "    <span style=\"color: #008000; text-decoration-color: #008000\">'4.5. Sustainability .... page 26'</span>,\n",
       "    <span style=\"color: #008000; text-decoration-color: #008000\">'5. Conclusions and Recommendations .... page 27'</span>\n",
       "<span style=\"font-weight: bold\">]</span>\n",
       "</pre>\n"
      ],
      "text/plain": [
       "Overview result:\n",
       "\u001b[1m[\u001b[0m\n",
       "    \u001b[32m'4.1.1.1 Needs of migrants .... page 10'\u001b[0m,\n",
       "    \u001b[32m'4.1.1.2 Needs of returnees .... page 10'\u001b[0m,\n",
       "    \u001b[32m'4.1.2.1 Needs of governments .... page 12'\u001b[0m,\n",
       "    \u001b[32m'4.3.1.2 Achievement of Specific Objective 1 .... page 17'\u001b[0m,\n",
       "    \u001b[32m'4.3.2.2 Achievement of the Objective .... page 20'\u001b[0m,\n",
       "    \u001b[32m'4.3.3.2 Achievement of Specific Objective 3 .... page 22'\u001b[0m,\n",
       "    \u001b[32m'4.5. Sustainability .... page 26'\u001b[0m,\n",
       "    \u001b[32m'5. Conclusions and Recommendations .... page 27'\u001b[0m\n",
       "\u001b[1m]\u001b[0m\n"
      ]
     },
     "metadata": {},
     "output_type": "display_data"
    },
    {
     "data": {
      "text/html": [
       "<pre style=\"white-space:pre;overflow-x:auto;line-height:normal;font-family:Menlo,'DejaVu Sans Mono',consolas,'Courier New',monospace\">\n",
       "--- Iteration <span style=\"color: #008080; text-decoration-color: #008080; font-weight: bold\">1</span> ---\n",
       "</pre>\n"
      ],
      "text/plain": [
       "\n",
       "--- Iteration \u001b[1;36m1\u001b[0m ---\n"
      ]
     },
     "metadata": {},
     "output_type": "display_data"
    },
    {
     "data": {
      "text/html": [
       "<pre style=\"white-space:pre;overflow-x:auto;line-height:normal;font-family:Menlo,'DejaVu Sans Mono',consolas,'Courier New',monospace\">Decision: <span style=\"color: #00ff00; text-decoration-color: #00ff00; font-weight: bold\">4.1.1.1</span> Needs of migrants <span style=\"color: #808000; text-decoration-color: #808000\">...</span>. page <span style=\"color: #008080; text-decoration-color: #008080; font-weight: bold\">10</span>\n",
       "</pre>\n"
      ],
      "text/plain": [
       "Decision: \u001b[1;92m4.1.1.1\u001b[0m Needs of migrants \u001b[33m...\u001b[0m. page \u001b[1;36m10\u001b[0m\n"
      ]
     },
     "metadata": {},
     "output_type": "display_data"
    },
    {
     "data": {
      "text/html": [
       "<pre style=\"white-space:pre;overflow-x:auto;line-height:normal;font-family:Menlo,'DejaVu Sans Mono',consolas,'Courier New',monospace\">Reasoning: Since no evidence has been collected yet, it's best to start with a section that outlines the needs of \n",
       "the involved parties. Starting with the needs of migrants seems like a logical first step.\n",
       "</pre>\n"
      ],
      "text/plain": [
       "Reasoning: Since no evidence has been collected yet, it's best to start with a section that outlines the needs of \n",
       "the involved parties. Starting with the needs of migrants seems like a logical first step.\n"
      ]
     },
     "metadata": {},
     "output_type": "display_data"
    },
    {
     "data": {
      "text/html": [
       "<pre style=\"white-space:pre;overflow-x:auto;line-height:normal;font-family:Menlo,'DejaVu Sans Mono',consolas,'Courier New',monospace\">Path found:\n",
       "<span style=\"font-weight: bold\">[</span>\n",
       "    <span style=\"color: #008000; text-decoration-color: #008000\">'**PPMi** .... page 1'</span>,\n",
       "    <span style=\"color: #008000; text-decoration-color: #008000\">'4. Findings .... page 10'</span>,\n",
       "    <span style=\"color: #008000; text-decoration-color: #008000\">'4.1. Relevance .... page 10'</span>,\n",
       "    <span style=\"color: #008000; text-decoration-color: #008000\">'4.1.1. Relevance of programme activities for migrants, returnees, and communities .... page 10'</span>,\n",
       "    <span style=\"color: #008000; text-decoration-color: #008000\">'4.1.1.1 Needs of migrants .... page 10'</span>\n",
       "<span style=\"font-weight: bold\">]</span>\n",
       "</pre>\n"
      ],
      "text/plain": [
       "Path found:\n",
       "\u001b[1m[\u001b[0m\n",
       "    \u001b[32m'**PPMi** .... page 1'\u001b[0m,\n",
       "    \u001b[32m'4. Findings .... page 10'\u001b[0m,\n",
       "    \u001b[32m'4.1. Relevance .... page 10'\u001b[0m,\n",
       "    \u001b[32m'4.1.1. Relevance of programme activities for migrants, returnees, and communities .... page 10'\u001b[0m,\n",
       "    \u001b[32m'4.1.1.1 Needs of migrants .... page 10'\u001b[0m\n",
       "\u001b[1m]\u001b[0m\n"
      ]
     },
     "metadata": {},
     "output_type": "display_data"
    },
    {
     "data": {
      "text/html": [
       "<pre style=\"white-space:pre;overflow-x:auto;line-height:normal;font-family:Menlo,'DejaVu Sans Mono',consolas,'Courier New',monospace\">Content length: <span style=\"color: #008080; text-decoration-color: #008080; font-weight: bold\">1339</span>\n",
       "</pre>\n"
      ],
      "text/plain": [
       "Content length: \u001b[1;36m1339\u001b[0m\n"
      ]
     },
     "metadata": {},
     "output_type": "display_data"
    },
    {
     "data": {
      "text/html": [
       "<pre style=\"white-space:pre;overflow-x:auto;line-height:normal;font-family:Menlo,'DejaVu Sans Mono',consolas,'Courier New',monospace\">Assessment - Sufficient: <span style=\"color: #ff0000; text-decoration-color: #ff0000; font-style: italic\">False</span> Confidence: <span style=\"color: #008080; text-decoration-color: #008080; font-weight: bold\">0.4</span>\n",
       "</pre>\n"
      ],
      "text/plain": [
       "Assessment - Sufficient: \u001b[3;91mFalse\u001b[0m Confidence: \u001b[1;36m0.4\u001b[0m\n"
      ]
     },
     "metadata": {},
     "output_type": "display_data"
    },
    {
     "data": {
      "text/html": [
       "<pre style=\"white-space:pre;overflow-x:auto;line-height:normal;font-family:Menlo,'DejaVu Sans Mono',consolas,'Courier New',monospace\">\n",
       "--- Iteration <span style=\"color: #008080; text-decoration-color: #008080; font-weight: bold\">2</span> ---\n",
       "</pre>\n"
      ],
      "text/plain": [
       "\n",
       "--- Iteration \u001b[1;36m2\u001b[0m ---\n"
      ]
     },
     "metadata": {},
     "output_type": "display_data"
    },
    {
     "data": {
      "text/html": [
       "<pre style=\"white-space:pre;overflow-x:auto;line-height:normal;font-family:Menlo,'DejaVu Sans Mono',consolas,'Courier New',monospace\">Decision: <span style=\"color: #00ff00; text-decoration-color: #00ff00; font-weight: bold\">4.1.1.2</span> Needs of returnees <span style=\"color: #808000; text-decoration-color: #808000\">...</span>. page <span style=\"color: #008080; text-decoration-color: #008080; font-weight: bold\">10</span>\n",
       "</pre>\n"
      ],
      "text/plain": [
       "Decision: \u001b[1;92m4.1.1.2\u001b[0m Needs of returnees \u001b[33m...\u001b[0m. page \u001b[1;36m10\u001b[0m\n"
      ]
     },
     "metadata": {},
     "output_type": "display_data"
    },
    {
     "data": {
      "text/html": [
       "<pre style=\"white-space:pre;overflow-x:auto;line-height:normal;font-family:Menlo,'DejaVu Sans Mono',consolas,'Courier New',monospace\">Reasoning: The current theme focuses on facilitating pathways for regular migration and voluntary return. The \n",
       "current section discusses the needs of migrants. The next logical step is to explore the needs of returnees, as \n",
       "this directly relates to the theme of voluntary return.\n",
       "</pre>\n"
      ],
      "text/plain": [
       "Reasoning: The current theme focuses on facilitating pathways for regular migration and voluntary return. The \n",
       "current section discusses the needs of migrants. The next logical step is to explore the needs of returnees, as \n",
       "this directly relates to the theme of voluntary return.\n"
      ]
     },
     "metadata": {},
     "output_type": "display_data"
    },
    {
     "data": {
      "text/html": [
       "<pre style=\"white-space:pre;overflow-x:auto;line-height:normal;font-family:Menlo,'DejaVu Sans Mono',consolas,'Courier New',monospace\">Path found:\n",
       "<span style=\"font-weight: bold\">[</span>\n",
       "    <span style=\"color: #008000; text-decoration-color: #008000\">'**PPMi** .... page 1'</span>,\n",
       "    <span style=\"color: #008000; text-decoration-color: #008000\">'4. Findings .... page 10'</span>,\n",
       "    <span style=\"color: #008000; text-decoration-color: #008000\">'4.1. Relevance .... page 10'</span>,\n",
       "    <span style=\"color: #008000; text-decoration-color: #008000\">'4.1.1. Relevance of programme activities for migrants, returnees, and communities .... page 10'</span>,\n",
       "    <span style=\"color: #008000; text-decoration-color: #008000\">'4.1.1.2 Needs of returnees .... page 10'</span>\n",
       "<span style=\"font-weight: bold\">]</span>\n",
       "</pre>\n"
      ],
      "text/plain": [
       "Path found:\n",
       "\u001b[1m[\u001b[0m\n",
       "    \u001b[32m'**PPMi** .... page 1'\u001b[0m,\n",
       "    \u001b[32m'4. Findings .... page 10'\u001b[0m,\n",
       "    \u001b[32m'4.1. Relevance .... page 10'\u001b[0m,\n",
       "    \u001b[32m'4.1.1. Relevance of programme activities for migrants, returnees, and communities .... page 10'\u001b[0m,\n",
       "    \u001b[32m'4.1.1.2 Needs of returnees .... page 10'\u001b[0m\n",
       "\u001b[1m]\u001b[0m\n"
      ]
     },
     "metadata": {},
     "output_type": "display_data"
    },
    {
     "data": {
      "text/html": [
       "<pre style=\"white-space:pre;overflow-x:auto;line-height:normal;font-family:Menlo,'DejaVu Sans Mono',consolas,'Courier New',monospace\">Content length: <span style=\"color: #008080; text-decoration-color: #008080; font-weight: bold\">4901</span>\n",
       "</pre>\n"
      ],
      "text/plain": [
       "Content length: \u001b[1;36m4901\u001b[0m\n"
      ]
     },
     "metadata": {},
     "output_type": "display_data"
    },
    {
     "data": {
      "text/html": [
       "<pre style=\"white-space:pre;overflow-x:auto;line-height:normal;font-family:Menlo,'DejaVu Sans Mono',consolas,'Courier New',monospace\">Assessment - Sufficient: <span style=\"color: #ff0000; text-decoration-color: #ff0000; font-style: italic\">False</span> Confidence: <span style=\"color: #008080; text-decoration-color: #008080; font-weight: bold\">0.6</span>\n",
       "</pre>\n"
      ],
      "text/plain": [
       "Assessment - Sufficient: \u001b[3;91mFalse\u001b[0m Confidence: \u001b[1;36m0.6\u001b[0m\n"
      ]
     },
     "metadata": {},
     "output_type": "display_data"
    },
    {
     "data": {
      "text/html": [
       "<pre style=\"white-space:pre;overflow-x:auto;line-height:normal;font-family:Menlo,'DejaVu Sans Mono',consolas,'Courier New',monospace\">\n",
       "--- Iteration <span style=\"color: #008080; text-decoration-color: #008080; font-weight: bold\">3</span> ---\n",
       "</pre>\n"
      ],
      "text/plain": [
       "\n",
       "--- Iteration \u001b[1;36m3\u001b[0m ---\n"
      ]
     },
     "metadata": {},
     "output_type": "display_data"
    },
    {
     "data": {
      "text/html": [
       "<pre style=\"white-space:pre;overflow-x:auto;line-height:normal;font-family:Menlo,'DejaVu Sans Mono',consolas,'Courier New',monospace\">Decision: <span style=\"color: #00ff00; text-decoration-color: #00ff00; font-weight: bold\">4.1.2.1</span> Needs of governments <span style=\"color: #808000; text-decoration-color: #808000\">...</span>. page <span style=\"color: #008080; text-decoration-color: #008080; font-weight: bold\">12</span>\n",
       "</pre>\n"
      ],
      "text/plain": [
       "Decision: \u001b[1;92m4.1.2.1\u001b[0m Needs of governments \u001b[33m...\u001b[0m. page \u001b[1;36m12\u001b[0m\n"
      ]
     },
     "metadata": {},
     "output_type": "display_data"
    },
    {
     "data": {
      "text/html": [
       "<pre style=\"white-space:pre;overflow-x:auto;line-height:normal;font-family:Menlo,'DejaVu Sans Mono',consolas,'Courier New',monospace\">Reasoning: The current findings discuss the needs of migrants and returnees, highlighting the importance of \n",
       "addressing their economic, social, and psychosocial needs. The next logical step is to explore the needs of the \n",
       "governments involved in facilitating regular migration and supporting returnees. This will provide a more \n",
       "comprehensive understanding of the challenges and opportunities in establishing effective pathways for regular \n",
       "migration.\n",
       "</pre>\n"
      ],
      "text/plain": [
       "Reasoning: The current findings discuss the needs of migrants and returnees, highlighting the importance of \n",
       "addressing their economic, social, and psychosocial needs. The next logical step is to explore the needs of the \n",
       "governments involved in facilitating regular migration and supporting returnees. This will provide a more \n",
       "comprehensive understanding of the challenges and opportunities in establishing effective pathways for regular \n",
       "migration.\n"
      ]
     },
     "metadata": {},
     "output_type": "display_data"
    },
    {
     "data": {
      "text/html": [
       "<pre style=\"white-space:pre;overflow-x:auto;line-height:normal;font-family:Menlo,'DejaVu Sans Mono',consolas,'Courier New',monospace\">Path found:\n",
       "<span style=\"font-weight: bold\">[</span>\n",
       "    <span style=\"color: #008000; text-decoration-color: #008000\">'**PPMi** .... page 1'</span>,\n",
       "    <span style=\"color: #008000; text-decoration-color: #008000\">'4. Findings .... page 10'</span>,\n",
       "    <span style=\"color: #008000; text-decoration-color: #008000\">'4.1. Relevance .... page 10'</span>,\n",
       "    <span style=\"color: #008000; text-decoration-color: #008000\">\"4.1.2. Programme's relevance to the needs of stakeholders .... page 12\"</span>,\n",
       "    <span style=\"color: #008000; text-decoration-color: #008000\">'4.1.2.1 Needs of governments .... page 12'</span>\n",
       "<span style=\"font-weight: bold\">]</span>\n",
       "</pre>\n"
      ],
      "text/plain": [
       "Path found:\n",
       "\u001b[1m[\u001b[0m\n",
       "    \u001b[32m'**PPMi** .... page 1'\u001b[0m,\n",
       "    \u001b[32m'4. Findings .... page 10'\u001b[0m,\n",
       "    \u001b[32m'4.1. Relevance .... page 10'\u001b[0m,\n",
       "    \u001b[32m\"4.1.2. Programme's relevance to the needs of stakeholders .... page 12\"\u001b[0m,\n",
       "    \u001b[32m'4.1.2.1 Needs of governments .... page 12'\u001b[0m\n",
       "\u001b[1m]\u001b[0m\n"
      ]
     },
     "metadata": {},
     "output_type": "display_data"
    },
    {
     "data": {
      "text/html": [
       "<pre style=\"white-space:pre;overflow-x:auto;line-height:normal;font-family:Menlo,'DejaVu Sans Mono',consolas,'Courier New',monospace\">Content length: <span style=\"color: #008080; text-decoration-color: #008080; font-weight: bold\">1445</span>\n",
       "</pre>\n"
      ],
      "text/plain": [
       "Content length: \u001b[1;36m1445\u001b[0m\n"
      ]
     },
     "metadata": {},
     "output_type": "display_data"
    },
    {
     "data": {
      "text/html": [
       "<pre style=\"white-space:pre;overflow-x:auto;line-height:normal;font-family:Menlo,'DejaVu Sans Mono',consolas,'Courier New',monospace\">Assessment - Sufficient: <span style=\"color: #ff0000; text-decoration-color: #ff0000; font-style: italic\">False</span> Confidence: <span style=\"color: #008080; text-decoration-color: #008080; font-weight: bold\">0.6</span>\n",
       "</pre>\n"
      ],
      "text/plain": [
       "Assessment - Sufficient: \u001b[3;91mFalse\u001b[0m Confidence: \u001b[1;36m0.6\u001b[0m\n"
      ]
     },
     "metadata": {},
     "output_type": "display_data"
    },
    {
     "data": {
      "text/html": [
       "<pre style=\"white-space:pre;overflow-x:auto;line-height:normal;font-family:Menlo,'DejaVu Sans Mono',consolas,'Courier New',monospace\">\n",
       "--- Iteration <span style=\"color: #008080; text-decoration-color: #008080; font-weight: bold\">4</span> ---\n",
       "</pre>\n"
      ],
      "text/plain": [
       "\n",
       "--- Iteration \u001b[1;36m4\u001b[0m ---\n"
      ]
     },
     "metadata": {},
     "output_type": "display_data"
    },
    {
     "data": {
      "text/html": [
       "<pre style=\"white-space:pre;overflow-x:auto;line-height:normal;font-family:Menlo,'DejaVu Sans Mono',consolas,'Courier New',monospace\">Decision: <span style=\"color: #00ff00; text-decoration-color: #00ff00; font-weight: bold\">4.3.1.2</span> Achievement of Specific Objective <span style=\"color: #008080; text-decoration-color: #008080; font-weight: bold\">1</span> <span style=\"color: #808000; text-decoration-color: #808000\">...</span>. page <span style=\"color: #008080; text-decoration-color: #008080; font-weight: bold\">17</span>\n",
       "</pre>\n"
      ],
      "text/plain": [
       "Decision: \u001b[1;92m4.3.1.2\u001b[0m Achievement of Specific Objective \u001b[1;36m1\u001b[0m \u001b[33m...\u001b[0m. page \u001b[1;36m17\u001b[0m\n"
      ]
     },
     "metadata": {},
     "output_type": "display_data"
    },
    {
     "data": {
      "text/html": [
       "<pre style=\"white-space:pre;overflow-x:auto;line-height:normal;font-family:Menlo,'DejaVu Sans Mono',consolas,'Courier New',monospace\">Reasoning: The current findings discuss the needs of migrants, returnees, and governments, and how the JI-HoA \n",
       "addressed these needs. The available sections relate to the achievement of specific objectives and sustainability. \n",
       "It makes sense to explore the achievement of specific objective <span style=\"color: #008080; text-decoration-color: #008080; font-weight: bold\">1</span> next, as it directly relates to facilitating \n",
       "pathways for regular migration and voluntary return, which aligns with the theme.\n",
       "</pre>\n"
      ],
      "text/plain": [
       "Reasoning: The current findings discuss the needs of migrants, returnees, and governments, and how the JI-HoA \n",
       "addressed these needs. The available sections relate to the achievement of specific objectives and sustainability. \n",
       "It makes sense to explore the achievement of specific objective \u001b[1;36m1\u001b[0m next, as it directly relates to facilitating \n",
       "pathways for regular migration and voluntary return, which aligns with the theme.\n"
      ]
     },
     "metadata": {},
     "output_type": "display_data"
    },
    {
     "data": {
      "text/html": [
       "<pre style=\"white-space:pre;overflow-x:auto;line-height:normal;font-family:Menlo,'DejaVu Sans Mono',consolas,'Courier New',monospace\">Path found:\n",
       "<span style=\"font-weight: bold\">[</span>\n",
       "    <span style=\"color: #008000; text-decoration-color: #008000\">'**PPMi** .... page 1'</span>,\n",
       "    <span style=\"color: #008000; text-decoration-color: #008000\">'4. Findings .... page 10'</span>,\n",
       "    <span style=\"color: #008000; text-decoration-color: #008000\">'4.3. Effectiveness .... page 16'</span>,\n",
       "    <span style=\"color: #008000; text-decoration-color: #008000\">'4.3.1. Specific Objective 1: Partner countries and relevant stakeholders developed or strengthened </span>\n",
       "<span style=\"color: #008000; text-decoration-color: #008000\">evidence-based return and reintegration procedures .... page 16'</span>,\n",
       "    <span style=\"color: #008000; text-decoration-color: #008000\">'4.3.1.2 Achievement of Specific Objective 1 .... page 17'</span>\n",
       "<span style=\"font-weight: bold\">]</span>\n",
       "</pre>\n"
      ],
      "text/plain": [
       "Path found:\n",
       "\u001b[1m[\u001b[0m\n",
       "    \u001b[32m'**PPMi** .... page 1'\u001b[0m,\n",
       "    \u001b[32m'4. Findings .... page 10'\u001b[0m,\n",
       "    \u001b[32m'4.3. Effectiveness .... page 16'\u001b[0m,\n",
       "    \u001b[32m'4.3.1. Specific Objective 1: Partner countries and relevant stakeholders developed or strengthened \u001b[0m\n",
       "\u001b[32mevidence-based return and reintegration procedures .... page 16'\u001b[0m,\n",
       "    \u001b[32m'4.3.1.2 Achievement of Specific Objective 1 .... page 17'\u001b[0m\n",
       "\u001b[1m]\u001b[0m\n"
      ]
     },
     "metadata": {},
     "output_type": "display_data"
    },
    {
     "data": {
      "text/html": [
       "<pre style=\"white-space:pre;overflow-x:auto;line-height:normal;font-family:Menlo,'DejaVu Sans Mono',consolas,'Courier New',monospace\">Content length: <span style=\"color: #008080; text-decoration-color: #008080; font-weight: bold\">2459</span>\n",
       "</pre>\n"
      ],
      "text/plain": [
       "Content length: \u001b[1;36m2459\u001b[0m\n"
      ]
     },
     "metadata": {},
     "output_type": "display_data"
    },
    {
     "data": {
      "text/html": [
       "<pre style=\"white-space:pre;overflow-x:auto;line-height:normal;font-family:Menlo,'DejaVu Sans Mono',consolas,'Courier New',monospace\">Assessment - Sufficient: <span style=\"color: #ff0000; text-decoration-color: #ff0000; font-style: italic\">False</span> Confidence: <span style=\"color: #008080; text-decoration-color: #008080; font-weight: bold\">0.6</span>\n",
       "</pre>\n"
      ],
      "text/plain": [
       "Assessment - Sufficient: \u001b[3;91mFalse\u001b[0m Confidence: \u001b[1;36m0.6\u001b[0m\n"
      ]
     },
     "metadata": {},
     "output_type": "display_data"
    },
    {
     "data": {
      "text/html": [
       "<pre style=\"white-space:pre;overflow-x:auto;line-height:normal;font-family:Menlo,'DejaVu Sans Mono',consolas,'Courier New',monospace\">\n",
       "--- Iteration <span style=\"color: #008080; text-decoration-color: #008080; font-weight: bold\">5</span> ---\n",
       "</pre>\n"
      ],
      "text/plain": [
       "\n",
       "--- Iteration \u001b[1;36m5\u001b[0m ---\n"
      ]
     },
     "metadata": {},
     "output_type": "display_data"
    },
    {
     "data": {
      "text/html": [
       "<pre style=\"white-space:pre;overflow-x:auto;line-height:normal;font-family:Menlo,'DejaVu Sans Mono',consolas,'Courier New',monospace\">Decision: <span style=\"color: #00ff00; text-decoration-color: #00ff00; font-weight: bold\">4.3.2.2</span> Achievement of the Objective <span style=\"color: #808000; text-decoration-color: #808000\">...</span>. page <span style=\"color: #008080; text-decoration-color: #008080; font-weight: bold\">20</span>\n",
       "</pre>\n"
      ],
      "text/plain": [
       "Decision: \u001b[1;92m4.3.2.2\u001b[0m Achievement of the Objective \u001b[33m...\u001b[0m. page \u001b[1;36m20\u001b[0m\n"
      ]
     },
     "metadata": {},
     "output_type": "display_data"
    },
    {
     "data": {
      "text/html": [
       "<pre style=\"white-space:pre;overflow-x:auto;line-height:normal;font-family:Menlo,'DejaVu Sans Mono',consolas,'Courier New',monospace\">Reasoning: The current findings discuss the needs of migrants and returnees, the needs of governments, and the \n",
       "achievement of specific objective <span style=\"color: #008080; text-decoration-color: #008080; font-weight: bold\">1</span>, which is related to data and capacity building. The theme focuses on \n",
       "facilitating pathways for regular migration, voluntary return, and supporting member states in developing \n",
       "evidence-based policy and legal frameworks.\n",
       "\n",
       "The next logical step is to explore the achievement of the overall objective to see if the program was successful \n",
       "in achieving its intended goals related to regular migration and voluntary return.\n",
       "</pre>\n"
      ],
      "text/plain": [
       "Reasoning: The current findings discuss the needs of migrants and returnees, the needs of governments, and the \n",
       "achievement of specific objective \u001b[1;36m1\u001b[0m, which is related to data and capacity building. The theme focuses on \n",
       "facilitating pathways for regular migration, voluntary return, and supporting member states in developing \n",
       "evidence-based policy and legal frameworks.\n",
       "\n",
       "The next logical step is to explore the achievement of the overall objective to see if the program was successful \n",
       "in achieving its intended goals related to regular migration and voluntary return.\n"
      ]
     },
     "metadata": {},
     "output_type": "display_data"
    },
    {
     "data": {
      "text/html": [
       "<pre style=\"white-space:pre;overflow-x:auto;line-height:normal;font-family:Menlo,'DejaVu Sans Mono',consolas,'Courier New',monospace\">Path found:\n",
       "<span style=\"font-weight: bold\">[</span>\n",
       "    <span style=\"color: #008000; text-decoration-color: #008000\">'**PPMi** .... page 1'</span>,\n",
       "    <span style=\"color: #008000; text-decoration-color: #008000\">'4. Findings .... page 10'</span>,\n",
       "    <span style=\"color: #008000; text-decoration-color: #008000\">'4.3. Effectiveness .... page 16'</span>,\n",
       "    <span style=\"color: #008000; text-decoration-color: #008000\">'4.3.2. Specific Objective 2: Safe, humane, dignified voluntary return processes are enhanced along main </span>\n",
       "<span style=\"color: #008000; text-decoration-color: #008000\">migration routes .... page 18'</span>,\n",
       "    <span style=\"color: #008000; text-decoration-color: #008000\">'4.3.2.2 Achievement of the Objective .... page 20'</span>\n",
       "<span style=\"font-weight: bold\">]</span>\n",
       "</pre>\n"
      ],
      "text/plain": [
       "Path found:\n",
       "\u001b[1m[\u001b[0m\n",
       "    \u001b[32m'**PPMi** .... page 1'\u001b[0m,\n",
       "    \u001b[32m'4. Findings .... page 10'\u001b[0m,\n",
       "    \u001b[32m'4.3. Effectiveness .... page 16'\u001b[0m,\n",
       "    \u001b[32m'4.3.2. Specific Objective 2: Safe, humane, dignified voluntary return processes are enhanced along main \u001b[0m\n",
       "\u001b[32mmigration routes .... page 18'\u001b[0m,\n",
       "    \u001b[32m'4.3.2.2 Achievement of the Objective .... page 20'\u001b[0m\n",
       "\u001b[1m]\u001b[0m\n"
      ]
     },
     "metadata": {},
     "output_type": "display_data"
    },
    {
     "data": {
      "text/html": [
       "<pre style=\"white-space:pre;overflow-x:auto;line-height:normal;font-family:Menlo,'DejaVu Sans Mono',consolas,'Courier New',monospace\">Content length: <span style=\"color: #008080; text-decoration-color: #008080; font-weight: bold\">1627</span>\n",
       "</pre>\n"
      ],
      "text/plain": [
       "Content length: \u001b[1;36m1627\u001b[0m\n"
      ]
     },
     "metadata": {},
     "output_type": "display_data"
    },
    {
     "data": {
      "text/html": [
       "<pre style=\"white-space:pre;overflow-x:auto;line-height:normal;font-family:Menlo,'DejaVu Sans Mono',consolas,'Courier New',monospace\">Assessment - Sufficient: <span style=\"color: #ff0000; text-decoration-color: #ff0000; font-style: italic\">False</span> Confidence: <span style=\"color: #008080; text-decoration-color: #008080; font-weight: bold\">0.7</span>\n",
       "</pre>\n"
      ],
      "text/plain": [
       "Assessment - Sufficient: \u001b[3;91mFalse\u001b[0m Confidence: \u001b[1;36m0.7\u001b[0m\n"
      ]
     },
     "metadata": {},
     "output_type": "display_data"
    },
    {
     "data": {
      "text/html": [
       "<pre style=\"white-space:pre;overflow-x:auto;line-height:normal;font-family:Menlo,'DejaVu Sans Mono',consolas,'Courier New',monospace\">\n",
       "--- Iteration <span style=\"color: #008080; text-decoration-color: #008080; font-weight: bold\">6</span> ---\n",
       "</pre>\n"
      ],
      "text/plain": [
       "\n",
       "--- Iteration \u001b[1;36m6\u001b[0m ---\n"
      ]
     },
     "metadata": {},
     "output_type": "display_data"
    },
    {
     "data": {
      "text/html": [
       "<pre style=\"white-space:pre;overflow-x:auto;line-height:normal;font-family:Menlo,'DejaVu Sans Mono',consolas,'Courier New',monospace\">Decision: <span style=\"color: #00ff00; text-decoration-color: #00ff00; font-weight: bold\">4.3.3.2</span> Achievement of Specific Objective <span style=\"color: #008080; text-decoration-color: #008080; font-weight: bold\">3</span> <span style=\"color: #808000; text-decoration-color: #808000\">...</span>. page <span style=\"color: #008080; text-decoration-color: #008080; font-weight: bold\">22</span>\n",
       "</pre>\n"
      ],
      "text/plain": [
       "Decision: \u001b[1;92m4.3.3.2\u001b[0m Achievement of Specific Objective \u001b[1;36m3\u001b[0m \u001b[33m...\u001b[0m. page \u001b[1;36m22\u001b[0m\n"
      ]
     },
     "metadata": {},
     "output_type": "display_data"
    },
    {
     "data": {
      "text/html": [
       "<pre style=\"white-space:pre;overflow-x:auto;line-height:normal;font-family:Menlo,'DejaVu Sans Mono',consolas,'Courier New',monospace\">Reasoning: We have covered the needs of migrants, returnees and governments, as well as the achievement of \n",
       "objectives <span style=\"color: #008080; text-decoration-color: #008080; font-weight: bold\">1</span> and <span style=\"color: #008080; text-decoration-color: #008080; font-weight: bold\">2</span>. The next logical step is to explore the achievement of specific objective <span style=\"color: #008080; text-decoration-color: #008080; font-weight: bold\">3</span>.\n",
       "</pre>\n"
      ],
      "text/plain": [
       "Reasoning: We have covered the needs of migrants, returnees and governments, as well as the achievement of \n",
       "objectives \u001b[1;36m1\u001b[0m and \u001b[1;36m2\u001b[0m. The next logical step is to explore the achievement of specific objective \u001b[1;36m3\u001b[0m.\n"
      ]
     },
     "metadata": {},
     "output_type": "display_data"
    },
    {
     "data": {
      "text/html": [
       "<pre style=\"white-space:pre;overflow-x:auto;line-height:normal;font-family:Menlo,'DejaVu Sans Mono',consolas,'Courier New',monospace\">Path found:\n",
       "<span style=\"font-weight: bold\">[</span>\n",
       "    <span style=\"color: #008000; text-decoration-color: #008000\">'**PPMi** .... page 1'</span>,\n",
       "    <span style=\"color: #008000; text-decoration-color: #008000\">'4. Findings .... page 10'</span>,\n",
       "    <span style=\"color: #008000; text-decoration-color: #008000\">'4.3. Effectiveness .... page 16'</span>,\n",
       "    <span style=\"color: #008000; text-decoration-color: #008000\">'4.3.3. Specific Objective 3: Returnees are sustainably integrated in host communities, and host communities </span>\n",
       "<span style=\"color: #008000; text-decoration-color: #008000\">are better able to create living standards that address drivers of migration. .... page 20'</span>,\n",
       "    <span style=\"color: #008000; text-decoration-color: #008000\">'4.3.3.2 Achievement of Specific Objective 3 .... page 22'</span>\n",
       "<span style=\"font-weight: bold\">]</span>\n",
       "</pre>\n"
      ],
      "text/plain": [
       "Path found:\n",
       "\u001b[1m[\u001b[0m\n",
       "    \u001b[32m'**PPMi** .... page 1'\u001b[0m,\n",
       "    \u001b[32m'4. Findings .... page 10'\u001b[0m,\n",
       "    \u001b[32m'4.3. Effectiveness .... page 16'\u001b[0m,\n",
       "    \u001b[32m'4.3.3. Specific Objective 3: Returnees are sustainably integrated in host communities, and host communities \u001b[0m\n",
       "\u001b[32mare better able to create living standards that address drivers of migration. .... page 20'\u001b[0m,\n",
       "    \u001b[32m'4.3.3.2 Achievement of Specific Objective 3 .... page 22'\u001b[0m\n",
       "\u001b[1m]\u001b[0m\n"
      ]
     },
     "metadata": {},
     "output_type": "display_data"
    },
    {
     "data": {
      "text/html": [
       "<pre style=\"white-space:pre;overflow-x:auto;line-height:normal;font-family:Menlo,'DejaVu Sans Mono',consolas,'Courier New',monospace\">Content length: <span style=\"color: #008080; text-decoration-color: #008080; font-weight: bold\">3974</span>\n",
       "</pre>\n"
      ],
      "text/plain": [
       "Content length: \u001b[1;36m3974\u001b[0m\n"
      ]
     },
     "metadata": {},
     "output_type": "display_data"
    },
    {
     "data": {
      "text/html": [
       "<pre style=\"white-space:pre;overflow-x:auto;line-height:normal;font-family:Menlo,'DejaVu Sans Mono',consolas,'Courier New',monospace\">Assessment - Sufficient: <span style=\"color: #ff0000; text-decoration-color: #ff0000; font-style: italic\">False</span> Confidence: <span style=\"color: #008080; text-decoration-color: #008080; font-weight: bold\">0.7</span>\n",
       "</pre>\n"
      ],
      "text/plain": [
       "Assessment - Sufficient: \u001b[3;91mFalse\u001b[0m Confidence: \u001b[1;36m0.7\u001b[0m\n"
      ]
     },
     "metadata": {},
     "output_type": "display_data"
    },
    {
     "data": {
      "text/html": [
       "<pre style=\"white-space:pre;overflow-x:auto;line-height:normal;font-family:Menlo,'DejaVu Sans Mono',consolas,'Courier New',monospace\">\n",
       "--- Iteration <span style=\"color: #008080; text-decoration-color: #008080; font-weight: bold\">7</span> ---\n",
       "</pre>\n"
      ],
      "text/plain": [
       "\n",
       "--- Iteration \u001b[1;36m7\u001b[0m ---\n"
      ]
     },
     "metadata": {},
     "output_type": "display_data"
    },
    {
     "data": {
      "text/html": [
       "<pre style=\"white-space:pre;overflow-x:auto;line-height:normal;font-family:Menlo,'DejaVu Sans Mono',consolas,'Courier New',monospace\">Decision: <span style=\"color: #008080; text-decoration-color: #008080; font-weight: bold\">4.5</span>. Sustainability <span style=\"color: #808000; text-decoration-color: #808000\">...</span>. page <span style=\"color: #008080; text-decoration-color: #008080; font-weight: bold\">26</span>\n",
       "</pre>\n"
      ],
      "text/plain": [
       "Decision: \u001b[1;36m4.5\u001b[0m. Sustainability \u001b[33m...\u001b[0m. page \u001b[1;36m26\u001b[0m\n"
      ]
     },
     "metadata": {},
     "output_type": "display_data"
    },
    {
     "data": {
      "text/html": [
       "<pre style=\"white-space:pre;overflow-x:auto;line-height:normal;font-family:Menlo,'DejaVu Sans Mono',consolas,'Courier New',monospace\">Reasoning: The current findings cover the needs of migrants and returnees, the needs of governments, and the \n",
       "achievement of specific objectives related to data use, safe return, and reintegration. The theme focuses on \n",
       "facilitating pathways for regular migration, voluntary return, and supporting member states. The section on \n",
       "sustainability is crucial to understanding the long-term impact and effectiveness of the program in achieving its \n",
       "goals. Therefore, I will explore the sustainability section next.\n",
       "</pre>\n"
      ],
      "text/plain": [
       "Reasoning: The current findings cover the needs of migrants and returnees, the needs of governments, and the \n",
       "achievement of specific objectives related to data use, safe return, and reintegration. The theme focuses on \n",
       "facilitating pathways for regular migration, voluntary return, and supporting member states. The section on \n",
       "sustainability is crucial to understanding the long-term impact and effectiveness of the program in achieving its \n",
       "goals. Therefore, I will explore the sustainability section next.\n"
      ]
     },
     "metadata": {},
     "output_type": "display_data"
    },
    {
     "data": {
      "text/html": [
       "<pre style=\"white-space:pre;overflow-x:auto;line-height:normal;font-family:Menlo,'DejaVu Sans Mono',consolas,'Courier New',monospace\">Path found:\n",
       "<span style=\"font-weight: bold\">[</span><span style=\"color: #008000; text-decoration-color: #008000\">'**PPMi** .... page 1'</span>, <span style=\"color: #008000; text-decoration-color: #008000\">'4. Findings .... page 10'</span>, <span style=\"color: #008000; text-decoration-color: #008000\">'4.5. Sustainability .... page 26'</span><span style=\"font-weight: bold\">]</span>\n",
       "</pre>\n"
      ],
      "text/plain": [
       "Path found:\n",
       "\u001b[1m[\u001b[0m\u001b[32m'**PPMi** .... page 1'\u001b[0m, \u001b[32m'4. Findings .... page 10'\u001b[0m, \u001b[32m'4.5. Sustainability .... page 26'\u001b[0m\u001b[1m]\u001b[0m\n"
      ]
     },
     "metadata": {},
     "output_type": "display_data"
    },
    {
     "data": {
      "text/html": [
       "<pre style=\"white-space:pre;overflow-x:auto;line-height:normal;font-family:Menlo,'DejaVu Sans Mono',consolas,'Courier New',monospace\">Content length: <span style=\"color: #008080; text-decoration-color: #008080; font-weight: bold\">1299</span>\n",
       "</pre>\n"
      ],
      "text/plain": [
       "Content length: \u001b[1;36m1299\u001b[0m\n"
      ]
     },
     "metadata": {},
     "output_type": "display_data"
    },
    {
     "data": {
      "text/html": [
       "<pre style=\"white-space:pre;overflow-x:auto;line-height:normal;font-family:Menlo,'DejaVu Sans Mono',consolas,'Courier New',monospace\">Assessment - Sufficient: <span style=\"color: #ff0000; text-decoration-color: #ff0000; font-style: italic\">False</span> Confidence: <span style=\"color: #008080; text-decoration-color: #008080; font-weight: bold\">0.7</span>\n",
       "</pre>\n"
      ],
      "text/plain": [
       "Assessment - Sufficient: \u001b[3;91mFalse\u001b[0m Confidence: \u001b[1;36m0.7\u001b[0m\n"
      ]
     },
     "metadata": {},
     "output_type": "display_data"
    },
    {
     "data": {
      "text/html": [
       "<pre style=\"white-space:pre;overflow-x:auto;line-height:normal;font-family:Menlo,'DejaVu Sans Mono',consolas,'Courier New',monospace\">\n",
       "--- Iteration <span style=\"color: #008080; text-decoration-color: #008080; font-weight: bold\">8</span> ---\n",
       "</pre>\n"
      ],
      "text/plain": [
       "\n",
       "--- Iteration \u001b[1;36m8\u001b[0m ---\n"
      ]
     },
     "metadata": {},
     "output_type": "display_data"
    },
    {
     "data": {
      "text/html": [
       "<pre style=\"white-space:pre;overflow-x:auto;line-height:normal;font-family:Menlo,'DejaVu Sans Mono',consolas,'Courier New',monospace\">Decision: <span style=\"color: #008080; text-decoration-color: #008080; font-weight: bold\">5</span>. Conclusions and Recommendations <span style=\"color: #808000; text-decoration-color: #808000\">...</span>. page <span style=\"color: #008080; text-decoration-color: #008080; font-weight: bold\">27</span>\n",
       "</pre>\n"
      ],
      "text/plain": [
       "Decision: \u001b[1;36m5\u001b[0m. Conclusions and Recommendations \u001b[33m...\u001b[0m. page \u001b[1;36m27\u001b[0m\n"
      ]
     },
     "metadata": {},
     "output_type": "display_data"
    },
    {
     "data": {
      "text/html": [
       "<pre style=\"white-space:pre;overflow-x:auto;line-height:normal;font-family:Menlo,'DejaVu Sans Mono',consolas,'Courier New',monospace\">Reasoning: The current findings cover various aspects of the theme, including the needs of migrants and returnees, \n",
       "government involvement, achievement of objectives, and sustainability. The available section <span style=\"color: #008000; text-decoration-color: #008000\">\"5. Conclusions and </span>\n",
       "<span style=\"color: #008000; text-decoration-color: #008000\">Recommendations\"</span> will likely provide a summary of the findings and recommendations for future actions, which is \n",
       "crucial for a comprehensive understanding of the theme.\n",
       "</pre>\n"
      ],
      "text/plain": [
       "Reasoning: The current findings cover various aspects of the theme, including the needs of migrants and returnees, \n",
       "government involvement, achievement of objectives, and sustainability. The available section \u001b[32m\"5. Conclusions and \u001b[0m\n",
       "\u001b[32mRecommendations\"\u001b[0m will likely provide a summary of the findings and recommendations for future actions, which is \n",
       "crucial for a comprehensive understanding of the theme.\n"
      ]
     },
     "metadata": {},
     "output_type": "display_data"
    },
    {
     "data": {
      "text/html": [
       "<pre style=\"white-space:pre;overflow-x:auto;line-height:normal;font-family:Menlo,'DejaVu Sans Mono',consolas,'Courier New',monospace\">Path found:\n",
       "<span style=\"font-weight: bold\">[</span><span style=\"color: #008000; text-decoration-color: #008000\">'**PPMi** .... page 1'</span>, <span style=\"color: #008000; text-decoration-color: #008000\">'5. Conclusions and Recommendations .... page 27'</span><span style=\"font-weight: bold\">]</span>\n",
       "</pre>\n"
      ],
      "text/plain": [
       "Path found:\n",
       "\u001b[1m[\u001b[0m\u001b[32m'**PPMi** .... page 1'\u001b[0m, \u001b[32m'5. Conclusions and Recommendations .... page 27'\u001b[0m\u001b[1m]\u001b[0m\n"
      ]
     },
     "metadata": {},
     "output_type": "display_data"
    },
    {
     "data": {
      "text/html": [
       "<pre style=\"white-space:pre;overflow-x:auto;line-height:normal;font-family:Menlo,'DejaVu Sans Mono',consolas,'Courier New',monospace\">Content length: <span style=\"color: #008080; text-decoration-color: #008080; font-weight: bold\">13344</span>\n",
       "</pre>\n"
      ],
      "text/plain": [
       "Content length: \u001b[1;36m13344\u001b[0m\n"
      ]
     },
     "metadata": {},
     "output_type": "display_data"
    },
    {
     "data": {
      "text/html": [
       "<pre style=\"white-space:pre;overflow-x:auto;line-height:normal;font-family:Menlo,'DejaVu Sans Mono',consolas,'Courier New',monospace\">Assessment - Sufficient: <span style=\"color: #ff0000; text-decoration-color: #ff0000; font-style: italic\">False</span> Confidence: <span style=\"color: #008080; text-decoration-color: #008080; font-weight: bold\">0.75</span>\n",
       "</pre>\n"
      ],
      "text/plain": [
       "Assessment - Sufficient: \u001b[3;91mFalse\u001b[0m Confidence: \u001b[1;36m0.75\u001b[0m\n"
      ]
     },
     "metadata": {},
     "output_type": "display_data"
    },
    {
     "data": {
      "text/html": [
       "<pre style=\"white-space:pre;overflow-x:auto;line-height:normal;font-family:Menlo,'DejaVu Sans Mono',consolas,'Courier New',monospace\">\n",
       "--- Iteration <span style=\"color: #008080; text-decoration-color: #008080; font-weight: bold\">9</span> ---\n",
       "</pre>\n"
      ],
      "text/plain": [
       "\n",
       "--- Iteration \u001b[1;36m9\u001b[0m ---\n"
      ]
     },
     "metadata": {},
     "output_type": "display_data"
    },
    {
     "data": {
      "text/html": [
       "<pre style=\"white-space:pre;overflow-x:auto;line-height:normal;font-family:Menlo,'DejaVu Sans Mono',consolas,'Courier New',monospace\">Decision: DONE\n",
       "</pre>\n"
      ],
      "text/plain": [
       "Decision: DONE\n"
      ]
     },
     "metadata": {},
     "output_type": "display_data"
    },
    {
     "data": {
      "text/html": [
       "<pre style=\"white-space:pre;overflow-x:auto;line-height:normal;font-family:Menlo,'DejaVu Sans Mono',consolas,'Courier New',monospace\">Reasoning: The available sections are empty, indicating that all sections have been reviewed. Based on the current \n",
       "findings, a comprehensive overview of the theme has been established. Therefore, no further exploration is needed.\n",
       "</pre>\n"
      ],
      "text/plain": [
       "Reasoning: The available sections are empty, indicating that all sections have been reviewed. Based on the current \n",
       "findings, a comprehensive overview of the theme has been established. Therefore, no further exploration is needed.\n"
      ]
     },
     "metadata": {},
     "output_type": "display_data"
    },
    {
     "data": {
      "text/html": [
       "<pre style=\"white-space:pre;overflow-x:auto;line-height:normal;font-family:Menlo,'DejaVu Sans Mono',consolas,'Courier New',monospace\">Decision says DONE, breaking\n",
       "</pre>\n"
      ],
      "text/plain": [
       "Decision says DONE, breaking\n"
      ]
     },
     "metadata": {},
     "output_type": "display_data"
    },
    {
     "data": {
      "text/html": [
       "<pre style=\"white-space:pre;overflow-x:auto;line-height:normal;font-family:Menlo,'DejaVu Sans Mono',consolas,'Courier New',monospace\">Synthesis result: <span style=\"color: #00ff00; text-decoration-color: #00ff00; font-style: italic\">True</span>\n",
       "</pre>\n"
      ],
      "text/plain": [
       "Synthesis result: \u001b[3;92mTrue\u001b[0m\n"
      ]
     },
     "metadata": {},
     "output_type": "display_data"
    },
    {
     "data": {
      "text/html": [
       "<pre style=\"white-space:pre;overflow-x:auto;line-height:normal;font-family:Menlo,'DejaVu Sans Mono',consolas,'Courier New',monospace\">Synthesis reasoning: My confidence is at <span style=\"color: #008080; text-decoration-color: #008080; font-weight: bold\">80</span>% because the evidence provides a good overview of the program's \n",
       "activities and achievements related to facilitating regular migration and voluntary returns. The evidence includes \n",
       "data from surveys, focus group discussions, and interviews with stakeholders, providing a comprehensive picture. \n",
       "However, the evidence also highlights limitations and challenges, such as the lack of government ownership and the \n",
       "need for continued financial support, which prevent a complete and unqualified endorsement of the theme's coverage.\n",
       "</pre>\n"
      ],
      "text/plain": [
       "Synthesis reasoning: My confidence is at \u001b[1;36m80\u001b[0m% because the evidence provides a good overview of the program's \n",
       "activities and achievements related to facilitating regular migration and voluntary returns. The evidence includes \n",
       "data from surveys, focus group discussions, and interviews with stakeholders, providing a comprehensive picture. \n",
       "However, the evidence also highlights limitations and challenges, such as the lack of government ownership and the \n",
       "need for continued financial support, which prevent a complete and unqualified endorsement of the theme's coverage.\n"
      ]
     },
     "metadata": {},
     "output_type": "display_data"
    },
    {
     "data": {
      "text/html": [
       "<pre style=\"white-space:pre;overflow-x:auto;line-height:normal;font-family:Menlo,'DejaVu Sans Mono',consolas,'Courier New',monospace\">Synthesis evidence: Key evidence includes:\n",
       "*   The JI-HoA addressed the immediate needs of migrants and returnees <span style=\"font-weight: bold\">(</span>food, shelter, reintegration assistance<span style=\"font-weight: bold\">)</span>.\n",
       "*   The program contributed to capacity building for governments and increased the availability of migration data.\n",
       "*   The program facilitated safe and dignified returns.\n",
       "*   Challenges remain in ensuring the sustainability of these efforts, particularly regarding government ownership \n",
       "and financial resources.\n",
       "*   Gaps were found in the integration of psychosocial support.\n",
       "</pre>\n"
      ],
      "text/plain": [
       "Synthesis evidence: Key evidence includes:\n",
       "*   The JI-HoA addressed the immediate needs of migrants and returnees \u001b[1m(\u001b[0mfood, shelter, reintegration assistance\u001b[1m)\u001b[0m.\n",
       "*   The program contributed to capacity building for governments and increased the availability of migration data.\n",
       "*   The program facilitated safe and dignified returns.\n",
       "*   Challenges remain in ensuring the sustainability of these efforts, particularly regarding government ownership \n",
       "and financial resources.\n",
       "*   Gaps were found in the integration of psychosocial support.\n"
      ]
     },
     "metadata": {},
     "output_type": "display_data"
    },
    {
     "data": {
      "text/html": [
       "<pre style=\"white-space:pre;overflow-x:auto;line-height:normal;font-family:Menlo,'DejaVu Sans Mono',consolas,'Courier New',monospace\">Synthesis gaps: Gaps identified include:\n",
       "*   The long-term sustainability of the program's achievements without continued external support.\n",
       "*   The extent to which governments have truly taken ownership of the processes and mechanisms established by the \n",
       "JI-HoA.\n",
       "*   The integration of psychosocial support into all aspects of the program.\n",
       "*   The impact of external factors, such as economic crises and security issues, on the program's effectiveness.\n",
       "*   Deeper analysis of the specific types of regular migration pathways facilitated and their long-term impact.\n",
       "</pre>\n"
      ],
      "text/plain": [
       "Synthesis gaps: Gaps identified include:\n",
       "*   The long-term sustainability of the program's achievements without continued external support.\n",
       "*   The extent to which governments have truly taken ownership of the processes and mechanisms established by the \n",
       "JI-HoA.\n",
       "*   The integration of psychosocial support into all aspects of the program.\n",
       "*   The impact of external factors, such as economic crises and security issues, on the program's effectiveness.\n",
       "*   Deeper analysis of the specific types of regular migration pathways facilitated and their long-term impact.\n"
      ]
     },
     "metadata": {},
     "output_type": "display_data"
    }
   ],
   "source": [
    "# Usage example:\n",
    "analyzer = ThemeAnalyzer()\n",
    "result = analyzer(theme=query, headings=hdgs, get_content_fn=get_content_tool)"
   ]
  },
  {
   "cell_type": "code",
   "execution_count": null,
   "metadata": {},
   "outputs": [],
   "source": []
  }
 ],
 "metadata": {
  "kernelspec": {
   "display_name": "python3",
   "language": "python",
   "name": "python3"
  }
 },
 "nbformat": 4,
 "nbformat_minor": 2
}
