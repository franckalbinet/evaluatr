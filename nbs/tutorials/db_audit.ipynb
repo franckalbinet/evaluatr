{
 "cells": [
  {
   "cell_type": "markdown",
   "id": "82c71798",
   "metadata": {},
   "source": [
    "# Auditing the cache DB"
   ]
  },
  {
   "cell_type": "code",
   "execution_count": null,
   "id": "7ead74ca",
   "metadata": {},
   "outputs": [],
   "source": [
    "from fastlite import Database\n",
    "from pathlib import Path\n",
    "import json"
   ]
  },
  {
   "cell_type": "code",
   "execution_count": null,
   "id": "0fdfb6fd",
   "metadata": {},
   "outputs": [],
   "source": [
    "traces_dir = Path.home() / '.evaluatr' / 'traces'\n",
    "db_path = traces_dir / 'pipeline_cache.db'\n",
    "db = Database(db_path)"
   ]
  },
  {
   "cell_type": "code",
   "execution_count": null,
   "id": "7736c72b",
   "metadata": {},
   "outputs": [
    {
     "name": "stdout",
     "output_type": "stream",
     "text": [
      "Tables: sections_cache, theme_tagging_cache\n"
     ]
    }
   ],
   "source": [
    "print(\"Tables:\", db.t)"
   ]
  },
  {
   "cell_type": "code",
   "execution_count": null,
   "id": "013f2d96",
   "metadata": {},
   "outputs": [],
   "source": [
    "sections = db.t.sections_cache\n",
    "themes = db.t.theme_tagging_cache"
   ]
  },
  {
   "cell_type": "code",
   "execution_count": null,
   "id": "4eae1a06",
   "metadata": {},
   "outputs": [
    {
     "data": {
      "text/plain": [
       "[]"
      ]
     },
     "execution_count": null,
     "metadata": {},
     "output_type": "execute_result"
    }
   ],
   "source": [
    "sections()"
   ]
  },
  {
   "cell_type": "code",
   "execution_count": null,
   "id": "280da783",
   "metadata": {},
   "outputs": [
    {
     "data": {
      "text/plain": [
       "[]"
      ]
     },
     "execution_count": null,
     "metadata": {},
     "output_type": "execute_result"
    }
   ],
   "source": [
    "themes()"
   ]
  }
 ],
 "metadata": {
  "kernelspec": {
   "display_name": "python3",
   "language": "python",
   "name": "python3"
  }
 },
 "nbformat": 4,
 "nbformat_minor": 5
}
