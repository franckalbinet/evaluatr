{
 "cells": [
  {
   "cell_type": "markdown",
   "id": "82c71798",
   "metadata": {},
   "source": [
    "# Auditing the cache DB"
   ]
  },
  {
   "cell_type": "code",
   "execution_count": null,
   "id": "7ead74ca",
   "metadata": {},
   "outputs": [],
   "source": [
    "from fastlite import Database\n",
    "from pathlib import Path\n",
    "import json"
   ]
  },
  {
   "cell_type": "code",
   "execution_count": null,
   "id": "0fdfb6fd",
   "metadata": {},
   "outputs": [],
   "source": [
    "traces_dir = Path.home() / '.evaluatr' / 'traces'\n",
    "db_path = traces_dir / 'pipeline_cache.db'\n",
    "db = Database(db_path)"
   ]
  },
  {
   "cell_type": "code",
   "execution_count": null,
   "id": "7736c72b",
   "metadata": {},
   "outputs": [
    {
     "name": "stdout",
     "output_type": "stream",
     "text": [
      "Tables: sections_cache, theme_tagging_cache\n"
     ]
    }
   ],
   "source": [
    "print(\"Tables:\", db.t)"
   ]
  },
  {
   "cell_type": "code",
   "execution_count": null,
   "id": "013f2d96",
   "metadata": {},
   "outputs": [],
   "source": [
    "sections = db.t.sections_cache\n",
    "themes = db.t.theme_tagging_cache"
   ]
  },
  {
   "cell_type": "code",
   "execution_count": null,
   "id": "4eae1a06",
   "metadata": {},
   "outputs": [
    {
     "data": {
      "text/plain": [
       "[{'report_id': '49d2fba781b6a7c0d94577479636ee6f',\n",
       "  'sections_selected': '[\"Executive summary .... page 10\", \"Findings .... page 12\", \"Conclusions and recommendations .... page 16\", \"1. Introduction .... page 18\", \"4. Relevance .... page 34\", \"5. Coherence .... page 46\", \"6. Effectiveness and impact .... page 54\", \"7. Efficiency .... page 83\", \"8. Sustainability .... page 100\", \"9. Conclusions .... page 105\", \"10. Recommendations .... page 107\"]',\n",
       "  'reasoning': \"I selected sections that reveal the core themes and what matters most to the report authors:\\n\\n1. **Executive summary (page 10)** - This is the primary section where authors distill the most important findings and messages. It includes condensed findings across all evaluation criteria.\\n\\n2. **Findings (page 12)** - The summary findings section in the executive summary that highlights key results across all criteria (Relevance, Coherence, Effectiveness, Efficiency, Sustainability).\\n\\n3. **Conclusions and recommendations (page 16)** - Summary section in the executive summary where authors signal priorities.\\n\\n4. **Introduction (page 18)** - Establishes objectives and evaluation questions that frame what's important.\\n\\n5. **Sections 4-8 (pages 34-100)** - The main findings chapters covering all five OECD-DAC evaluation criteria. These are where detailed evidence and analysis are presented. Each section is substantial and contains the core analytical content.\\n\\n6. **Conclusions (page 105)** - Full conclusions section where authors synthesize what matters most from the evaluation.\\n\\n7. **Recommendations (page 107)** - Where authors explicitly state priority actions based on findings.\\n\\nThis selection totals approximately 90+ pages of core content, focusing on where the evaluation team signals importance through executive summaries, detailed findings, and synthesis sections. I excluded methodology, background context, and annexes as these are supporting rather than core thematic content.\",\n",
       "  'timestamp': '2025-10-16T11:03:02.385848'}]"
      ]
     },
     "execution_count": null,
     "metadata": {},
     "output_type": "execute_result"
    }
   ],
   "source": [
    "sections()"
   ]
  },
  {
   "cell_type": "code",
   "execution_count": null,
   "id": "8e6fb523",
   "metadata": {},
   "outputs": [
    {
     "data": {
      "text/plain": [
       "<Table sections_cache (report_id, sections_selected, reasoning, timestamp)>"
      ]
     },
     "execution_count": null,
     "metadata": {},
     "output_type": "execute_result"
    }
   ],
   "source": [
    "# To delete one item by pk\n",
    "# sections.delete('test123') "
   ]
  },
  {
   "cell_type": "code",
   "execution_count": null,
   "id": "14ab0a21",
   "metadata": {},
   "outputs": [],
   "source": [
    "# Delete all rows?\n",
    "# for row in sections(): sections.delete(row.report_id)"
   ]
  },
  {
   "cell_type": "code",
   "execution_count": null,
   "id": "f78842df",
   "metadata": {},
   "outputs": [],
   "source": [
    "def delete_themes():\n",
    "    for row in themes(): \n",
    "        themes.delete((row['report_id'], row['stage'], row['framework'], row['framework_category'], row['framework_theme_id']))"
   ]
  },
  {
   "cell_type": "code",
   "execution_count": null,
   "id": "280da783",
   "metadata": {},
   "outputs": [
    {
     "data": {
      "text/plain": [
       "[]"
      ]
     },
     "execution_count": null,
     "metadata": {},
     "output_type": "execute_result"
    }
   ],
   "source": [
    "themes()"
   ]
  },
  {
   "cell_type": "code",
   "execution_count": null,
   "id": "ec666a0e",
   "metadata": {},
   "outputs": [],
   "source": []
  }
 ],
 "metadata": {
  "kernelspec": {
   "display_name": "python3",
   "language": "python",
   "name": "python3"
  }
 },
 "nbformat": 4,
 "nbformat_minor": 5
}
