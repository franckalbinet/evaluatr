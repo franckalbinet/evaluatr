{
 "cells": [
  {
   "cell_type": "markdown",
   "id": "0b25d72c",
   "metadata": {},
   "source": [
    "# Evaluation reports EDA\n",
    "\n",
    "> IOM Reports Exploratory Data Analysis"
   ]
  },
  {
   "cell_type": "markdown",
   "id": "8da846eb",
   "metadata": {},
   "source": [
    "## Imports"
   ]
  },
  {
   "cell_type": "code",
   "execution_count": null,
   "id": "60fe8406",
   "metadata": {},
   "outputs": [],
   "source": [
    "import pandas as pd\n",
    "from evaluatr.readers import load_evals\n",
    "from pathlib import Path\n",
    "from fastcore.all import *\n",
    "from rich import print"
   ]
  },
  {
   "cell_type": "markdown",
   "id": "8ce4fb5a",
   "metadata": {},
   "source": [
    "## Utils"
   ]
  },
  {
   "cell_type": "code",
   "execution_count": null,
   "id": "db068b38",
   "metadata": {},
   "outputs": [],
   "source": [
    "def show_eval(id, path):\n",
    "    \"Get evaluation report by ID\"\n",
    "    evals = load_evals(path)\n",
    "    return print(first(evals, lambda x: x['id'] == id))"
   ]
  },
  {
   "cell_type": "markdown",
   "id": "f1540286",
   "metadata": {},
   "source": [
    "## Configs"
   ]
  },
  {
   "cell_type": "code",
   "execution_count": null,
   "id": "8d106152",
   "metadata": {},
   "outputs": [],
   "source": [
    "path = Path(\"../_data/output/evaluations.json\")"
   ]
  },
  {
   "cell_type": "markdown",
   "id": "91feeb56",
   "metadata": {},
   "source": [
    "## Accessing evaluation reports"
   ]
  },
  {
   "cell_type": "markdown",
   "id": "c9c558bc",
   "metadata": {},
   "source": [
    "### Single report by ID"
   ]
  },
  {
   "cell_type": "code",
   "execution_count": null,
   "id": "f5df99c9",
   "metadata": {},
   "outputs": [
    {
     "data": {
      "text/html": [
       "<pre style=\"white-space:pre;overflow-x:auto;line-height:normal;font-family:Menlo,'DejaVu Sans Mono',consolas,'Courier New',monospace\"><span style=\"font-weight: bold\">{</span>\n",
       "    <span style=\"color: #008000; text-decoration-color: #008000\">'id'</span>: <span style=\"color: #008000; text-decoration-color: #008000\">'1a57974ab89d7280988aa6b706147ce1'</span>,\n",
       "    <span style=\"color: #008000; text-decoration-color: #008000\">'docs'</span>: <span style=\"font-weight: bold\">[</span>\n",
       "        <span style=\"font-weight: bold\">{</span>\n",
       "            <span style=\"color: #008000; text-decoration-color: #008000\">'Document Subtype'</span>: <span style=\"color: #008000; text-decoration-color: #008000\">'Evaluation report'</span>,\n",
       "            <span style=\"color: #008000; text-decoration-color: #008000\">'File URL'</span>: \n",
       "<span style=\"color: #008000; text-decoration-color: #008000\">'https://evaluation.iom.int/sites/g/files/tmzbdl151/files/docs/resources/Internal%20Evaluation_NG20P0516_MAY_2023_F</span>\n",
       "<span style=\"color: #008000; text-decoration-color: #008000\">INAL_Abderrahim%20EL%20MOULAT.pdf'</span>,\n",
       "            <span style=\"color: #008000; text-decoration-color: #008000\">'File description'</span>: <span style=\"color: #008000; text-decoration-color: #008000\">'Evaluation Report'</span>\n",
       "        <span style=\"font-weight: bold\">}</span>,\n",
       "        <span style=\"font-weight: bold\">{</span>\n",
       "            <span style=\"color: #008000; text-decoration-color: #008000\">'Document Subtype'</span>: <span style=\"color: #008000; text-decoration-color: #008000\">'Evaluation brief'</span>,\n",
       "            <span style=\"color: #008000; text-decoration-color: #008000\">'File URL'</span>: \n",
       "<span style=\"color: #008000; text-decoration-color: #008000\">'https://evaluation.iom.int/sites/g/files/tmzbdl151/files/docs/resources/RR0163_Evaluation%20Brief_MAY_%202023_Abde</span>\n",
       "<span style=\"color: #008000; text-decoration-color: #008000\">rrahim%20EL%20MOULAT.pdf'</span>,\n",
       "            <span style=\"color: #008000; text-decoration-color: #008000\">'File description'</span>: <span style=\"color: #008000; text-decoration-color: #008000\">'Evaluation Brief'</span>\n",
       "        <span style=\"font-weight: bold\">}</span>\n",
       "    <span style=\"font-weight: bold\">]</span>,\n",
       "    <span style=\"color: #008000; text-decoration-color: #008000\">'meta'</span>: <span style=\"font-weight: bold\">{</span>\n",
       "        <span style=\"color: #008000; text-decoration-color: #008000\">'Title'</span>: <span style=\"color: #008000; text-decoration-color: #008000\">'EX-POST EVALUATION OF THE PROJECT:  NIGERIA: STRENGTHENING REINTEGRATION FOR RETURNEES (SRARP)  -</span>\n",
       "<span style=\"color: #008000; text-decoration-color: #008000\">PHASE II'</span>,\n",
       "        <span style=\"color: #008000; text-decoration-color: #008000\">'Year'</span>: <span style=\"color: #008080; text-decoration-color: #008080; font-weight: bold\">2023</span>,\n",
       "        <span style=\"color: #008000; text-decoration-color: #008000\">'Author'</span>: <span style=\"color: #008000; text-decoration-color: #008000\">'Abderrahim El Moulat'</span>,\n",
       "        <span style=\"color: #008000; text-decoration-color: #008000\">'Best Practicesor Lessons Learnt'</span>: <span style=\"color: #008000; text-decoration-color: #008000\">'Yes'</span>,\n",
       "        <span style=\"color: #008000; text-decoration-color: #008000\">'Date of Publication'</span>: <span style=\"color: #008000; text-decoration-color: #008000\">'2023-05-10'</span>,\n",
       "        <span style=\"color: #008000; text-decoration-color: #008000\">'Donor'</span>: <span style=\"color: #008000; text-decoration-color: #008000\">'Government of Germany'</span>,\n",
       "        <span style=\"color: #008000; text-decoration-color: #008000\">'Evaluation Brief'</span>: <span style=\"color: #008000; text-decoration-color: #008000\">'Yes'</span>,\n",
       "        <span style=\"color: #008000; text-decoration-color: #008000\">'Evaluation Commissioner'</span>: <span style=\"color: #008000; text-decoration-color: #008000\">'Donor, IOM'</span>,\n",
       "        <span style=\"color: #008000; text-decoration-color: #008000\">'Evaluation Coverage'</span>: <span style=\"color: #008000; text-decoration-color: #008000\">'Country'</span>,\n",
       "        <span style=\"color: #008000; text-decoration-color: #008000\">'Evaluation Period From Date'</span>: <span style=\"color: #008000; text-decoration-color: #008000\">'nan'</span>,\n",
       "        <span style=\"color: #008000; text-decoration-color: #008000\">'Evaluation Period To Date'</span>: <span style=\"color: #008000; text-decoration-color: #008000\">'NaT'</span>,\n",
       "        <span style=\"color: #008000; text-decoration-color: #008000\">'Executive Summary'</span>: <span style=\"color: #008000; text-decoration-color: #008000\">'Yes'</span>,\n",
       "        <span style=\"color: #008000; text-decoration-color: #008000\">'External Version of the Report'</span>: <span style=\"color: #008000; text-decoration-color: #008000\">'No'</span>,\n",
       "        <span style=\"color: #008000; text-decoration-color: #008000\">'Languages'</span>: <span style=\"color: #008000; text-decoration-color: #008000\">'English'</span>,\n",
       "        <span style=\"color: #008000; text-decoration-color: #008000\">'Migration Thematic Areas'</span>: <span style=\"color: #008000; text-decoration-color: #008000\">'Assistance to vulnerable migrants, Migrant training and integration (including</span>\n",
       "<span style=\"color: #008000; text-decoration-color: #008000\">community cohesion), Migration health (assessment, travel, health promotion, crisis-affected), Return and AVRR'</span>,\n",
       "        <span style=\"color: #008000; text-decoration-color: #008000\">'Name of Project(s) Being Evaluated'</span>: nan,\n",
       "        <span style=\"color: #008000; text-decoration-color: #008000\">'Number of Pages Excluding annexes'</span>: nan,\n",
       "        <span style=\"color: #008000; text-decoration-color: #008000\">'Other Documents Included'</span>: nan,\n",
       "        <span style=\"color: #008000; text-decoration-color: #008000\">'Project Code'</span>: <span style=\"color: #008000; text-decoration-color: #008000\">'RR.0163'</span>,\n",
       "        <span style=\"color: #008000; text-decoration-color: #008000\">'Countries Covered'</span>: <span style=\"font-weight: bold\">[</span><span style=\"color: #008000; text-decoration-color: #008000\">'Nigeria'</span><span style=\"font-weight: bold\">]</span>,\n",
       "        <span style=\"color: #008000; text-decoration-color: #008000\">'Regions Covered'</span>: <span style=\"color: #008000; text-decoration-color: #008000\">'RO Dakar'</span>,\n",
       "        <span style=\"color: #008000; text-decoration-color: #008000\">'Relevant Crosscutting Themes'</span>: <span style=\"color: #008000; text-decoration-color: #008000\">'Gender, Rights-based approach'</span>,\n",
       "        <span style=\"color: #008000; text-decoration-color: #008000\">'Report Published'</span>: <span style=\"color: #008000; text-decoration-color: #008000\">'Yes'</span>,\n",
       "        <span style=\"color: #008000; text-decoration-color: #008000\">'Terms of Reference'</span>: <span style=\"color: #008000; text-decoration-color: #008000\">'No'</span>,\n",
       "        <span style=\"color: #008000; text-decoration-color: #008000\">'Type of Evaluation Scope'</span>: <span style=\"color: #008000; text-decoration-color: #008000\">'Programme/Project'</span>,\n",
       "        <span style=\"color: #008000; text-decoration-color: #008000\">'Type of Evaluation Timing'</span>: <span style=\"color: #008000; text-decoration-color: #008000\">'Ex-post (after the end of the project/programme)'</span>,\n",
       "        <span style=\"color: #008000; text-decoration-color: #008000\">'Type of Evaluator'</span>: <span style=\"color: #008000; text-decoration-color: #008000\">'Internal'</span>,\n",
       "        <span style=\"color: #008000; text-decoration-color: #008000\">'Level of Evaluation'</span>: <span style=\"color: #008000; text-decoration-color: #008000\">'Decentralized'</span>,\n",
       "        <span style=\"color: #008000; text-decoration-color: #008000\">'Document Subtype'</span>: <span style=\"color: #008000; text-decoration-color: #008000\">'Evaluation report, Evaluation brief'</span>,\n",
       "        <span style=\"color: #008000; text-decoration-color: #008000\">'File URL'</span>: \n",
       "<span style=\"color: #008000; text-decoration-color: #008000\">'https://evaluation.iom.int/sites/g/files/tmzbdl151/files/docs/resources/Internal%20Evaluation_NG20P0516_MAY_2023_F</span>\n",
       "<span style=\"color: #008000; text-decoration-color: #008000\">INAL_Abderrahim%20EL%20MOULAT.pdf,   </span>\n",
       "<span style=\"color: #008000; text-decoration-color: #008000\">https://evaluation.iom.int/sites/g/files/tmzbdl151/files/docs/resources/RR0163_Evaluation%20Brief_MAY_%202023_Abder</span>\n",
       "<span style=\"color: #008000; text-decoration-color: #008000\">rahim%20EL%20MOULAT.pdf'</span>,\n",
       "        <span style=\"color: #008000; text-decoration-color: #008000\">'File description'</span>: <span style=\"color: #008000; text-decoration-color: #008000\">'Evaluation Report , Evaluation Brief'</span>,\n",
       "        <span style=\"color: #008000; text-decoration-color: #008000\">'Management response'</span>: <span style=\"color: #008000; text-decoration-color: #008000\">'No'</span>,\n",
       "        <span style=\"color: #008000; text-decoration-color: #008000\">'Date added'</span>: <span style=\"color: #008000; text-decoration-color: #008000\">'Fri, 07/07/2023 - 15:35'</span>,\n",
       "        <span style=\"color: #008000; text-decoration-color: #008000\">'Metaevaluation'</span>: <span style=\"color: #008000; text-decoration-color: #008000\">'2020-24'</span>,\n",
       "        <span style=\"color: #008000; text-decoration-color: #008000\">'exclude'</span>: nan,\n",
       "        <span style=\"color: #008000; text-decoration-color: #008000\">'reason'</span>: nan\n",
       "    <span style=\"font-weight: bold\">}</span>\n",
       "<span style=\"font-weight: bold\">}</span>\n",
       "</pre>\n"
      ],
      "text/plain": [
       "\u001b[1m{\u001b[0m\n",
       "    \u001b[32m'id'\u001b[0m: \u001b[32m'1a57974ab89d7280988aa6b706147ce1'\u001b[0m,\n",
       "    \u001b[32m'docs'\u001b[0m: \u001b[1m[\u001b[0m\n",
       "        \u001b[1m{\u001b[0m\n",
       "            \u001b[32m'Document Subtype'\u001b[0m: \u001b[32m'Evaluation report'\u001b[0m,\n",
       "            \u001b[32m'File URL'\u001b[0m: \n",
       "\u001b[32m'https://evaluation.iom.int/sites/g/files/tmzbdl151/files/docs/resources/Internal%20Evaluation_NG20P0516_MAY_2023_F\u001b[0m\n",
       "\u001b[32mINAL_Abderrahim%20EL%20MOULAT.pdf'\u001b[0m,\n",
       "            \u001b[32m'File description'\u001b[0m: \u001b[32m'Evaluation Report'\u001b[0m\n",
       "        \u001b[1m}\u001b[0m,\n",
       "        \u001b[1m{\u001b[0m\n",
       "            \u001b[32m'Document Subtype'\u001b[0m: \u001b[32m'Evaluation brief'\u001b[0m,\n",
       "            \u001b[32m'File URL'\u001b[0m: \n",
       "\u001b[32m'https://evaluation.iom.int/sites/g/files/tmzbdl151/files/docs/resources/RR0163_Evaluation%20Brief_MAY_%202023_Abde\u001b[0m\n",
       "\u001b[32mrrahim%20EL%20MOULAT.pdf'\u001b[0m,\n",
       "            \u001b[32m'File description'\u001b[0m: \u001b[32m'Evaluation Brief'\u001b[0m\n",
       "        \u001b[1m}\u001b[0m\n",
       "    \u001b[1m]\u001b[0m,\n",
       "    \u001b[32m'meta'\u001b[0m: \u001b[1m{\u001b[0m\n",
       "        \u001b[32m'Title'\u001b[0m: \u001b[32m'EX-POST EVALUATION OF THE PROJECT:  NIGERIA: STRENGTHENING REINTEGRATION FOR RETURNEES \u001b[0m\u001b[32m(\u001b[0m\u001b[32mSRARP\u001b[0m\u001b[32m)\u001b[0m\u001b[32m  -\u001b[0m\n",
       "\u001b[32mPHASE II'\u001b[0m,\n",
       "        \u001b[32m'Year'\u001b[0m: \u001b[1;36m2023\u001b[0m,\n",
       "        \u001b[32m'Author'\u001b[0m: \u001b[32m'Abderrahim El Moulat'\u001b[0m,\n",
       "        \u001b[32m'Best Practicesor Lessons Learnt'\u001b[0m: \u001b[32m'Yes'\u001b[0m,\n",
       "        \u001b[32m'Date of Publication'\u001b[0m: \u001b[32m'2023-05-10'\u001b[0m,\n",
       "        \u001b[32m'Donor'\u001b[0m: \u001b[32m'Government of Germany'\u001b[0m,\n",
       "        \u001b[32m'Evaluation Brief'\u001b[0m: \u001b[32m'Yes'\u001b[0m,\n",
       "        \u001b[32m'Evaluation Commissioner'\u001b[0m: \u001b[32m'Donor, IOM'\u001b[0m,\n",
       "        \u001b[32m'Evaluation Coverage'\u001b[0m: \u001b[32m'Country'\u001b[0m,\n",
       "        \u001b[32m'Evaluation Period From Date'\u001b[0m: \u001b[32m'nan'\u001b[0m,\n",
       "        \u001b[32m'Evaluation Period To Date'\u001b[0m: \u001b[32m'NaT'\u001b[0m,\n",
       "        \u001b[32m'Executive Summary'\u001b[0m: \u001b[32m'Yes'\u001b[0m,\n",
       "        \u001b[32m'External Version of the Report'\u001b[0m: \u001b[32m'No'\u001b[0m,\n",
       "        \u001b[32m'Languages'\u001b[0m: \u001b[32m'English'\u001b[0m,\n",
       "        \u001b[32m'Migration Thematic Areas'\u001b[0m: \u001b[32m'Assistance to vulnerable migrants, Migrant training and integration \u001b[0m\u001b[32m(\u001b[0m\u001b[32mincluding\u001b[0m\n",
       "\u001b[32mcommunity cohesion\u001b[0m\u001b[32m)\u001b[0m\u001b[32m, Migration health \u001b[0m\u001b[32m(\u001b[0m\u001b[32massessment, travel, health promotion, crisis-affected\u001b[0m\u001b[32m)\u001b[0m\u001b[32m, Return and AVRR'\u001b[0m,\n",
       "        \u001b[32m'Name of Project\u001b[0m\u001b[32m(\u001b[0m\u001b[32ms\u001b[0m\u001b[32m)\u001b[0m\u001b[32m Being Evaluated'\u001b[0m: nan,\n",
       "        \u001b[32m'Number of Pages Excluding annexes'\u001b[0m: nan,\n",
       "        \u001b[32m'Other Documents Included'\u001b[0m: nan,\n",
       "        \u001b[32m'Project Code'\u001b[0m: \u001b[32m'RR.0163'\u001b[0m,\n",
       "        \u001b[32m'Countries Covered'\u001b[0m: \u001b[1m[\u001b[0m\u001b[32m'Nigeria'\u001b[0m\u001b[1m]\u001b[0m,\n",
       "        \u001b[32m'Regions Covered'\u001b[0m: \u001b[32m'RO Dakar'\u001b[0m,\n",
       "        \u001b[32m'Relevant Crosscutting Themes'\u001b[0m: \u001b[32m'Gender, Rights-based approach'\u001b[0m,\n",
       "        \u001b[32m'Report Published'\u001b[0m: \u001b[32m'Yes'\u001b[0m,\n",
       "        \u001b[32m'Terms of Reference'\u001b[0m: \u001b[32m'No'\u001b[0m,\n",
       "        \u001b[32m'Type of Evaluation Scope'\u001b[0m: \u001b[32m'Programme/Project'\u001b[0m,\n",
       "        \u001b[32m'Type of Evaluation Timing'\u001b[0m: \u001b[32m'Ex-post \u001b[0m\u001b[32m(\u001b[0m\u001b[32mafter the end of the project/programme\u001b[0m\u001b[32m)\u001b[0m\u001b[32m'\u001b[0m,\n",
       "        \u001b[32m'Type of Evaluator'\u001b[0m: \u001b[32m'Internal'\u001b[0m,\n",
       "        \u001b[32m'Level of Evaluation'\u001b[0m: \u001b[32m'Decentralized'\u001b[0m,\n",
       "        \u001b[32m'Document Subtype'\u001b[0m: \u001b[32m'Evaluation report, Evaluation brief'\u001b[0m,\n",
       "        \u001b[32m'File URL'\u001b[0m: \n",
       "\u001b[32m'https://evaluation.iom.int/sites/g/files/tmzbdl151/files/docs/resources/Internal%20Evaluation_NG20P0516_MAY_2023_F\u001b[0m\n",
       "\u001b[32mINAL_Abderrahim%20EL%20MOULAT.pdf,   \u001b[0m\n",
       "\u001b[32mhttps://evaluation.iom.int/sites/g/files/tmzbdl151/files/docs/resources/RR0163_Evaluation%20Brief_MAY_%202023_Abder\u001b[0m\n",
       "\u001b[32mrahim%20EL%20MOULAT.pdf'\u001b[0m,\n",
       "        \u001b[32m'File description'\u001b[0m: \u001b[32m'Evaluation Report , Evaluation Brief'\u001b[0m,\n",
       "        \u001b[32m'Management response'\u001b[0m: \u001b[32m'No'\u001b[0m,\n",
       "        \u001b[32m'Date added'\u001b[0m: \u001b[32m'Fri, 07/07/2023 - 15:35'\u001b[0m,\n",
       "        \u001b[32m'Metaevaluation'\u001b[0m: \u001b[32m'2020-24'\u001b[0m,\n",
       "        \u001b[32m'exclude'\u001b[0m: nan,\n",
       "        \u001b[32m'reason'\u001b[0m: nan\n",
       "    \u001b[1m}\u001b[0m\n",
       "\u001b[1m}\u001b[0m\n"
      ]
     },
     "metadata": {},
     "output_type": "display_data"
    }
   ],
   "source": [
    "show_eval('1a57974ab89d7280988aa6b706147ce1', path)"
   ]
  },
  {
   "cell_type": "code",
   "execution_count": null,
   "id": "4a38ce26",
   "metadata": {},
   "outputs": [],
   "source": []
  }
 ],
 "metadata": {
  "kernelspec": {
   "display_name": "python3",
   "language": "python",
   "name": "python3"
  }
 },
 "nbformat": 4,
 "nbformat_minor": 5
}
