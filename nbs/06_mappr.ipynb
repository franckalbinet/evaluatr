{
 "cells": [
  {
   "cell_type": "markdown",
   "metadata": {},
   "source": [
    "# Mappr\n",
    "\n",
    "> Scale up evaluation report mapping against evaluation frameworks using agentic workflows\n"
   ]
  },
  {
   "cell_type": "markdown",
   "metadata": {},
   "source": [
    "::: {.callout-warning}\n",
    "This notebook is a work in progress.\n",
    ":::"
   ]
  },
  {
   "cell_type": "markdown",
   "metadata": {},
   "source": [
    "## Approach\n",
    "\n",
    "**Problem**: Manually mapping evaluation reports against IOM's Strategic Results Framework (SRF) is time-consuming and resource-intensive with ~150 outputs to analyze.\n",
    "\n",
    "**Solution**: Three-stage pipeline leveraging Global Compact for Migration (GCM) as a SRF Outputs pruning mechanism:\n",
    "\n",
    "### Stage 1: SRF Enablers & Cross-cutting Analysis\n",
    "- **Parallel analysis** of Enablers (7 categories) and Cross-cutting Priorities (4 categories)\n",
    "- **Purpose**: Identify if report is primarily meta-evaluation/transversal in nature\n",
    "- **Fast processing**: ~11 items total, provides context for subsequent stages\n",
    "\n",
    "### Stage 2: Informed GCM Analysis\n",
    "- **GCM Objectives analysis** (23 items) informed by Stage 1 results\n",
    "- **Condensed representations**: UN General Assembly Resolution formulation simplified for retrieval efficiency\n",
    "\n",
    "### Stage 3: Targeted SRF Analysis  \n",
    "- **SRF Filtering**: Use GCM results + `gcm_srf_lut` lookup table to prune ~150 SRF outputs to ~20-50 relevant ones\n",
    "- **Deep analysis**: Full hierarchy context (objective → outcome → output → indicators)\n",
    "- **Parallel processing**: Final targeted analysis of pruned SRF outputs"
   ]
  },
  {
   "cell_type": "markdown",
   "metadata": {},
   "source": [
    "::: {.column-body}\n",
    "![Overall Pipeline Diagram](img/mapping-pipeline.png){fig-align=\"center\" width=\"800px\"}\n",
    ":::"
   ]
  },
  {
   "cell_type": "markdown",
   "metadata": {},
   "source": [
    "\n",
    "### Key Features\n",
    "- **Agentic workflow (ReAct pattern)**: LLM navigates document headings, explores sections iteratively until confident\n",
    "- **DSPy signatures**: Structured reasoning with built-in tracing for evaluation\n",
    "- **Rate-limited parallelization**: Respects API constraints (15 RPM) using fastcore\n",
    "- **False positive bias**: Better to over-include than miss relevant mappings"
   ]
  },
  {
   "cell_type": "code",
   "execution_count": null,
   "metadata": {},
   "outputs": [],
   "source": [
    "#| default_exp mappr"
   ]
  },
  {
   "cell_type": "code",
   "execution_count": null,
   "metadata": {},
   "outputs": [],
   "source": [
    "#| exports\n",
    "from pathlib import Path\n",
    "from functools import reduce\n",
    "from toolslm.md_hier import *\n",
    "from rich import print\n",
    "import json\n",
    "from fastcore.all import *\n",
    "\n",
    "from typing import List\n",
    "import dspy\n",
    "\n",
    "from evaluatr.frameworks import IOMEvalData"
   ]
  },
  {
   "cell_type": "code",
   "execution_count": null,
   "metadata": {},
   "outputs": [],
   "source": [
    "#| exports\n",
    "from dotenv import load_dotenv\n",
    "import os\n",
    "\n",
    "load_dotenv()\n",
    "GEMINI_API_KEY = os.getenv('GEMINI_API_KEY')"
   ]
  },
  {
   "cell_type": "code",
   "execution_count": null,
   "metadata": {},
   "outputs": [],
   "source": [
    "#| exports\n",
    "cfg = AttrDict({\n",
    "    'lm': 'gemini/gemini-2.0-flash-exp',\n",
    "    'api_key': GEMINI_API_KEY,\n",
    "    'max_tokens': 8192,\n",
    "    'track_usage': False,\n",
    "})"
   ]
  },
  {
   "cell_type": "code",
   "execution_count": null,
   "metadata": {},
   "outputs": [],
   "source": [
    "#| exports\n",
    "lm = dspy.LM(cfg.lm, api_key=cfg.api_key)\n",
    "dspy.configure(lm=lm)"
   ]
  },
  {
   "cell_type": "code",
   "execution_count": null,
   "metadata": {},
   "outputs": [
    {
     "data": {
      "text/html": [
       "<pre style=\"white-space:pre;overflow-x:auto;line-height:normal;font-family:Menlo,'DejaVu Sans Mono',consolas,'Courier New',monospace\"># PPMi <span style=\"color: #808000; text-decoration-color: #808000\">...</span>. page <span style=\"color: #008080; text-decoration-color: #008080; font-weight: bold\">1</span>\n",
       "\n",
       "**Final Evaluation of the EU-IOM Joint Initiative for migrant protection and reintegration in the horn of Africa**\n",
       "\n",
       "Final Evaluation Report, <span style=\"color: #008080; text-decoration-color: #008080; font-weight: bold\">17</span> March <span style=\"color: #008080; text-decoration-color: #008080; font-weight: bold\">2023</span>\n",
       "\n",
       "!<span style=\"font-weight: bold\">(</span>img-<span style=\"color: #008080; text-decoration-color: #008080; font-weight: bold\">0.j</span>peg<span style=\"font-weight: bold\">)</span>\n",
       "\n",
       "**EU-IOM** Joint Initiative for Migrant Protection and Reintegration\n",
       "\n",
       "Project funded by the European Union\n",
       "Project implemented by IOM\n",
       "\n",
       "---\n",
       "\n",
       "This Final Evaluation Report was commissioned by IOM and developed by the evaluation team of PPMI Group, including:\n",
       "Loes van der Graaf, Rimantas Dumcius, Radvilė Bankauskaitė, Anna Kiss-Pal and Laura Daukšaitė, as well as by \n",
       "external expert Anthony Roger Plant. The evaluation team is grateful to all IOM staff and stakeholders to the \n",
       "JI-HoA for their time taken to participate in interviews. The team is especially grateful to the returnees, \n",
       "migrants, and community members who participated in Focus Group Discussions.\n",
       "\n",
       "This publication was funded by the European Union. Its contents are the sole responsibility of PPMI Group and do \n",
       "not necessarily reflect\n",
       "</pre>\n"
      ],
      "text/plain": [
       "# PPMi \u001b[33m...\u001b[0m. page \u001b[1;36m1\u001b[0m\n",
       "\n",
       "**Final Evaluation of the EU-IOM Joint Initiative for migrant protection and reintegration in the horn of Africa**\n",
       "\n",
       "Final Evaluation Report, \u001b[1;36m17\u001b[0m March \u001b[1;36m2023\u001b[0m\n",
       "\n",
       "!\u001b[1m(\u001b[0mimg-\u001b[1;36m0.j\u001b[0mpeg\u001b[1m)\u001b[0m\n",
       "\n",
       "**EU-IOM** Joint Initiative for Migrant Protection and Reintegration\n",
       "\n",
       "Project funded by the European Union\n",
       "Project implemented by IOM\n",
       "\n",
       "---\n",
       "\n",
       "This Final Evaluation Report was commissioned by IOM and developed by the evaluation team of PPMI Group, including:\n",
       "Loes van der Graaf, Rimantas Dumcius, Radvilė Bankauskaitė, Anna Kiss-Pal and Laura Daukšaitė, as well as by \n",
       "external expert Anthony Roger Plant. The evaluation team is grateful to all IOM staff and stakeholders to the \n",
       "JI-HoA for their time taken to participate in interviews. The team is especially grateful to the returnees, \n",
       "migrants, and community members who participated in Focus Group Discussions.\n",
       "\n",
       "This publication was funded by the European Union. Its contents are the sole responsibility of PPMI Group and do \n",
       "not necessarily reflect\n"
      ]
     },
     "metadata": {},
     "output_type": "display_data"
    }
   ],
   "source": [
    "#| eval: false\n",
    "doc = Path(\"../_data/md_library/49d2fba781b6a7c0d94577479636ee6f/abridged_evaluation_report_final_olta_ndoja_pdf/enriched\")\n",
    "pages = doc.ls(file_exts=\".md\").sorted(key=lambda p: int(p.stem.split('_')[1]))\n",
    "report = '\\n\\n---\\n\\n'.join(page.read_text() for page in pages)\n",
    "print(report[:1000])"
   ]
  },
  {
   "cell_type": "markdown",
   "metadata": {},
   "source": [
    "## Language Model Tools"
   ]
  },
  {
   "cell_type": "markdown",
   "metadata": {},
   "source": [
    "### Hierarchical report navigation"
   ]
  },
  {
   "cell_type": "markdown",
   "metadata": {},
   "source": [
    "Thanks to `toolslm.md_hier` and a clean markdown structure of a `report` markdown, we can create a nested dictionary of section, subsection, ... as follows:"
   ]
  },
  {
   "cell_type": "code",
   "execution_count": null,
   "metadata": {},
   "outputs": [
    {
     "data": {
      "text/plain": [
       "{'PPMi .... page 1': {},\n",
       " 'CONTENTS .... page 3': {},\n",
       " '1. Introduction .... page 4': {},\n",
       " '2. Background of the JI-HoA .... page 5': {'2.1. Context and design of the JI-HoA .... page 5': {},\n",
       "  '2.2. External factors affecting the implementation of the JI .... page 7': {}},\n",
       " '3. Methodology .... page 8': {},\n",
       " '4. Findings .... page 10': {'4.1. Relevance .... page 10': {'4.1.1. Relevance of programme activities for migrants, returnees, and communities .... page 10': {}},\n",
       "  'Overall performance score for relevance: $3.9 / 5$ <br> Robustness score for the evidence: $4.5 / 5$': {'4.1.1.1 Needs of migrants .... page 10': {},\n",
       "   '4.1.1.2 Needs of returnees .... page 10': {},\n",
       "   '4.1.1.3 Needs of community members .... page 12': {},\n",
       "   \"4.1.2. Programme's relevance to the needs of stakeholders .... page 12\": {'4.1.2.1 Needs of governments .... page 12': {},\n",
       "    '4.1.2.2 Needs of other stakeholders .... page 13': {}},\n",
       "   '4.2. Coherence .... page 13': {\"4.2.1. The JI-HoA's alignment with the objectives and standards of IOM, and objectives of the EU .... page 14\": {},\n",
       "    '4.2.2. Alignment with other initiatives .... page 14': {}}}},\n",
       " '4.3. Effectiveness .... page 16': {'4.3.1. Specific Objective 1: Partner countries and relevant stakeholders developed or strengthened evidence-based return and reintegration procedures .... page 16': {'4.3.1.1 Achievement of outputs and results .... page 16': {}},\n",
       "  'Data availability .... page 16': {'4.3.1.2 Achievement of Specific Objective 1 .... page 17': {'4.3.1.2 Achievement of Specific Objective 1 .... page 17': {}}}},\n",
       " '4.3.2. Specific Objective 2: Safe, humane, dignified voluntary return processes are enhanced along main migration routes .... page 18': {'4.3.2.1 Achievement of outputs and results .... page 19': {},\n",
       "  'Outreach and awareness .... page 19': {},\n",
       "  'Assistance to stranded migrants .... page 19': {'4.3.2.2 Achievement of the Objective .... page 20': {},\n",
       "   '4.3.3. Specific Objective 3: Returnees are sustainably integrated in host communities, and host communities are better able to create living standards that address drivers of migration. .... page 20': {'4.3.3.1 Achievement of outputs and results .... page 20': {}}},\n",
       "  'Individual and community-based reintegration .... page 20': {'4.3.3.2 Achievement of Specific Objective 3 .... page 21': {}}},\n",
       " '4.3.3.2 Achievement of Specific Objective 3': {'Overall achievement of reintegration .... page 22': {'4.3.4. Functioning of the Integrated Approach .... page 23': {'4.3.4. Functioning of the Integrated Approach .... page 23': {}}}},\n",
       " '4.4. Efficiency .... page 24': {'4.4.3. Did the programme receive sufficient resources to achieve its objectives? .... page 24': {},\n",
       "  '4.4.2. Cost-effectiveness and efficiency of the programme .... page 25': {}},\n",
       " '4.5. Sustainability .... page 26': {'Overall performance score for sustainability: $2.5 / 5$ <br> Robustness score for the evidence: $4 / 5$ .... page 26': {}},\n",
       " '5. Conclusions and Recommendations .... page 27': {'5.1. Conclusions .... page 27': {},\n",
       "  '5.2. Recommendations .... page 28': {'5.2.1. Increase attention on building partnerships with service providers who can function without (significant) funding channelled by IOM. .... page 29': {},\n",
       "   '5.2.2. Explore opportunities to extend the scope of support provided to returnees, with a focus on longer-term integration. .... page 30': {}}}}"
      ]
     },
     "execution_count": null,
     "metadata": {},
     "output_type": "execute_result"
    }
   ],
   "source": [
    "#| eval: false\n",
    "hdgs = create_heading_dict(report); hdgs"
   ]
  },
  {
   "cell_type": "code",
   "execution_count": null,
   "metadata": {},
   "outputs": [],
   "source": [
    "#| exports\n",
    "def find_section_path(\n",
    "    hdgs: dict, # The nested dictionary structure\n",
    "    target_section: str # The section name to find\n",
    "):\n",
    "    \"Find the nested key path for a given section name\"\n",
    "    def search_recursive(current_dict, path=[]):\n",
    "        for key, value in current_dict.items():\n",
    "            current_path = path + [key]\n",
    "            if key == target_section:\n",
    "                return current_path\n",
    "            if isinstance(value, dict):\n",
    "                result = search_recursive(value, current_path)\n",
    "                if result:\n",
    "                    return result\n",
    "        return None\n",
    "    \n",
    "    return search_recursive(hdgs)"
   ]
  },
  {
   "cell_type": "markdown",
   "metadata": {},
   "source": [
    "Then we can retrieve the subsection path (list of nested headings to reach this specific section) in this nested `hdgs` dict :"
   ]
  },
  {
   "cell_type": "code",
   "execution_count": null,
   "metadata": {},
   "outputs": [
    {
     "data": {
      "text/plain": [
       "['4. Findings .... page 10',\n",
       " 'Overall performance score for relevance: $3.9 / 5$ <br> Robustness score for the evidence: $4.5 / 5$',\n",
       " '4.1.1.1 Needs of migrants .... page 10']"
      ]
     },
     "execution_count": null,
     "metadata": {},
     "output_type": "execute_result"
    }
   ],
   "source": [
    "#| eval: false\n",
    "path = find_section_path(hdgs, \"4.1.1.1 Needs of migrants .... page 10\"); path"
   ]
  },
  {
   "cell_type": "markdown",
   "metadata": {},
   "source": [
    "Then retrieve the specific subsection content:"
   ]
  },
  {
   "cell_type": "code",
   "execution_count": null,
   "metadata": {},
   "outputs": [],
   "source": [
    "#| exports\n",
    "def get_content_tool(hdgs, keys_list):\n",
    "    \"Navigate through nested levels using the exact key strings\"\n",
    "    return reduce(lambda current, key: current[key], keys_list, hdgs).text"
   ]
  },
  {
   "cell_type": "code",
   "execution_count": null,
   "metadata": {},
   "outputs": [
    {
     "data": {
      "text/html": [
       "<pre style=\"white-space:pre;overflow-x:auto;line-height:normal;font-family:Menlo,'DejaVu Sans Mono',consolas,'Courier New',monospace\">##### <span style=\"color: #00ff00; text-decoration-color: #00ff00; font-weight: bold\">4.1.1.1</span> Needs of migrants <span style=\"color: #808000; text-decoration-color: #808000\">...</span>. page <span style=\"color: #008080; text-decoration-color: #008080; font-weight: bold\">10</span>\n",
       "\n",
       "Desk research and interviews confirm that the programme responded to the most pressing needs of migrants. The \n",
       "JI-HoA enabled them to return from dangerous environments, such as detention, where no other support was available.\n",
       "Migrants shared that they suffered on their irregular migration journeys, had acutely distressing experiences $<span style=\"font-weight: bold\">{</span> \n",
       "<span style=\"font-weight: bold\">}</span>^<span style=\"font-weight: bold\">{</span><span style=\"color: #008080; text-decoration-color: #008080; font-weight: bold\">13</span><span style=\"font-weight: bold\">}</span>$, and highlighted that their families and communities could not help them $<span style=\"font-weight: bold\">{</span> <span style=\"font-weight: bold\">}</span>^<span style=\"font-weight: bold\">{</span><span style=\"color: #008080; text-decoration-color: #008080; font-weight: bold\">14</span><span style=\"font-weight: bold\">}</span>$. Stakeholders supportin\n",
       "</pre>\n"
      ],
      "text/plain": [
       "##### \u001b[1;92m4.1.1.1\u001b[0m Needs of migrants \u001b[33m...\u001b[0m. page \u001b[1;36m10\u001b[0m\n",
       "\n",
       "Desk research and interviews confirm that the programme responded to the most pressing needs of migrants. The \n",
       "JI-HoA enabled them to return from dangerous environments, such as detention, where no other support was available.\n",
       "Migrants shared that they suffered on their irregular migration journeys, had acutely distressing experiences $\u001b[1m{\u001b[0m \n",
       "\u001b[1m}\u001b[0m^\u001b[1m{\u001b[0m\u001b[1;36m13\u001b[0m\u001b[1m}\u001b[0m$, and highlighted that their families and communities could not help them $\u001b[1m{\u001b[0m \u001b[1m}\u001b[0m^\u001b[1m{\u001b[0m\u001b[1;36m14\u001b[0m\u001b[1m}\u001b[0m$. Stakeholders supportin\n"
      ]
     },
     "metadata": {},
     "output_type": "display_data"
    }
   ],
   "source": [
    "#| eval: false\n",
    "content = get_content_tool(hdgs, path)\n",
    "print(content[:500])"
   ]
  },
  {
   "cell_type": "markdown",
   "metadata": {},
   "source": [
    "## ReAct (Reasoning & Acting)"
   ]
  },
  {
   "cell_type": "markdown",
   "metadata": {},
   "source": [
    "**Why We Built a Custom Iterative Analyzer Instead of Using DSPy ReAct?**\n",
    "\n",
    "We could have leveraged DSPy's built-in [`ReAct` module](https://dspy.ai/api/modules/ReAct), which provides an agent-based approach where the LLM automatically decides when and how to use exploration tools. The \"ReAct\" concept has been introduced in [this paper](https://arxiv.org/pdf/2210.03629). However, we chose to implement our own iterative analyzer from scratch for several critical reasons:\n",
    "\n",
    "**Open-ended vs. Structured Nature**: DSPy's ReAct is designed for open-ended problem solving where the agent explores freely using available tools. Our use case requires a more structured, methodical approach to document analysis with predictable exploration patterns.\n",
    "\n",
    "**Document-Specific Control**: Our approach is tailored specifically for structured document exploration with hierarchical headings, allowing us to implement domain-specific logic for section navigation and content retrieval.\n",
    "\n",
    "**Evaluator Requirements**: Since traces will be reviewed by human evaluators for error analysis, we needed explicit, step-by-step decision logging rather than the more implicit reasoning chains that ReAct provides."
   ]
  },
  {
   "cell_type": "markdown",
   "metadata": {},
   "source": [
    "### Formatters"
   ]
  },
  {
   "cell_type": "markdown",
   "metadata": {},
   "source": [
    "We define here a set of function formatting both evaluation frameworks themes to analyze (SRF enablers, objectives, GCM objectives, ...) and traces."
   ]
  },
  {
   "cell_type": "code",
   "execution_count": null,
   "metadata": {},
   "outputs": [],
   "source": [
    "#| exports\n",
    "def format_enabler_theme(theme):\n",
    "    parts = [\n",
    "        f'## Enabler {theme.id}: {theme.title}',\n",
    "        '### Description', \n",
    "        theme.description\n",
    "    ]\n",
    "    return '\\n'.join(parts)"
   ]
  },
  {
   "cell_type": "markdown",
   "metadata": {},
   "source": [
    "For instance: "
   ]
  },
  {
   "cell_type": "code",
   "execution_count": null,
   "metadata": {},
   "outputs": [
    {
     "data": {
      "text/html": [
       "<pre style=\"white-space:pre;overflow-x:auto;line-height:normal;font-family:Menlo,'DejaVu Sans Mono',consolas,'Courier New',monospace\">## Enabler <span style=\"color: #008080; text-decoration-color: #008080; font-weight: bold\">4</span>: Data and evidence\n",
       "### Description\n",
       "IOM will be the pre-eminent source of migration and displacement data for action, which help save lives and deliver\n",
       "solutions; data for insight, which help facilitate regular migration pathways; and data for foresight, which help \n",
       "drive anticipatory action. IOM will have the systems and data fluency to collect, safely store, analyze, share and \n",
       "apply disaggregated data and evidence across the mobility spectrum. Our extensive data and research repositories \n",
       "will underpin evidence-based policies and practices. Data will be central to the internal decision-making and \n",
       "management of the Organization.\n",
       "</pre>\n"
      ],
      "text/plain": [
       "## Enabler \u001b[1;36m4\u001b[0m: Data and evidence\n",
       "### Description\n",
       "IOM will be the pre-eminent source of migration and displacement data for action, which help save lives and deliver\n",
       "solutions; data for insight, which help facilitate regular migration pathways; and data for foresight, which help \n",
       "drive anticipatory action. IOM will have the systems and data fluency to collect, safely store, analyze, share and \n",
       "apply disaggregated data and evidence across the mobility spectrum. Our extensive data and research repositories \n",
       "will underpin evidence-based policies and practices. Data will be central to the internal decision-making and \n",
       "management of the Organization.\n"
      ]
     },
     "metadata": {},
     "output_type": "display_data"
    }
   ],
   "source": [
    "#| eval: false\n",
    "eval_data = IOMEvalData()\n",
    "data_evidence = eval_data.srf_enablers[3]  # \"Data and evidence\" is at index 3\n",
    "print(format_enabler_theme(data_evidence))"
   ]
  },
  {
   "cell_type": "code",
   "execution_count": null,
   "metadata": {},
   "outputs": [],
   "source": [
    "#| exports\n",
    "def format_evidence(theme):\n",
    "    parts = [\n",
    "        f'## Enabler {theme.id}: {theme.title}',\n",
    "        '### Description', \n",
    "        theme.description\n",
    "    ]\n",
    "    return '\\n'.join(parts)"
   ]
  },
  {
   "cell_type": "markdown",
   "metadata": {},
   "source": [
    "### Signatures"
   ]
  },
  {
   "cell_type": "markdown",
   "metadata": {},
   "source": [
    "A [DSPy signature](https://dspy.ai/learn/programming/signatures) is a declarative specification of input/output behavior of a DSPy module. Signatures allow you to tell the LM (Language Model) what it needs to do, rather than specify how we should ask the LM to do it."
   ]
  },
  {
   "cell_type": "code",
   "execution_count": null,
   "metadata": {},
   "outputs": [],
   "source": [
    "#| exports\n",
    "class Overview(dspy.Signature):\n",
    "    \"\"\"Identify sections relevant to enabler/cross-cutting category\"\"\"\n",
    "    theme: str = dspy.InputField(desc=\"Theme being analyzed\")\n",
    "    all_headings: str = dspy.InputField(desc=\"Complete document structure\")\n",
    "    priority_sections: List[str] = dspy.OutputField(desc=\"Ordered list of section keys to explore first\")\n",
    "    strategy: str = dspy.OutputField(desc=\"Reasoning for this exploration strategy\")\n"
   ]
  },
  {
   "cell_type": "markdown",
   "metadata": {},
   "source": [
    "For instance on \"Data and evidence\" SRF Enabler:"
   ]
  },
  {
   "cell_type": "code",
   "execution_count": null,
   "metadata": {},
   "outputs": [
    {
     "data": {
      "text/html": [
       "<pre style=\"white-space:pre;overflow-x:auto;line-height:normal;font-family:Menlo,'DejaVu Sans Mono',consolas,'Courier New',monospace\">Priority sections: <span style=\"font-weight: bold\">[</span><span style=\"color: #008000; text-decoration-color: #008000\">'3. Methodology .... page 8'</span>, <span style=\"color: #008000; text-decoration-color: #008000\">'4. Findings .... page 10'</span>, <span style=\"color: #008000; text-decoration-color: #008000\">'4.3.1. Specific Objective 1: Partner</span>\n",
       "<span style=\"color: #008000; text-decoration-color: #008000\">countries and relevant stakeholders developed or strengthened evidence-based return and reintegration procedures </span>\n",
       "<span style=\"color: #008000; text-decoration-color: #008000\">.... page 16'</span>, <span style=\"color: #008000; text-decoration-color: #008000\">'Data availability .... page 16'</span>, <span style=\"color: #008000; text-decoration-color: #008000\">'5. Conclusions and Recommendations .... page 27'</span><span style=\"font-weight: bold\">]</span>\n",
       "</pre>\n"
      ],
      "text/plain": [
       "Priority sections: \u001b[1m[\u001b[0m\u001b[32m'3. Methodology .... page 8'\u001b[0m, \u001b[32m'4. Findings .... page 10'\u001b[0m, \u001b[32m'4.3.1. Specific Objective 1: Partner\u001b[0m\n",
       "\u001b[32mcountries and relevant stakeholders developed or strengthened evidence-based return and reintegration procedures \u001b[0m\n",
       "\u001b[32m.... page 16'\u001b[0m, \u001b[32m'Data availability .... page 16'\u001b[0m, \u001b[32m'5. Conclusions and Recommendations .... page 27'\u001b[0m\u001b[1m]\u001b[0m\n"
      ]
     },
     "metadata": {},
     "output_type": "display_data"
    },
    {
     "data": {
      "text/html": [
       "<pre style=\"white-space:pre;overflow-x:auto;line-height:normal;font-family:Menlo,'DejaVu Sans Mono',consolas,'Courier New',monospace\">Strategy: The strategy is to prioritize sections that explicitly mention data, evidence, methodology, findings, \n",
       "conclusions, and recommendations. This is because the theme is centered around data and evidence.\n",
       "</pre>\n"
      ],
      "text/plain": [
       "Strategy: The strategy is to prioritize sections that explicitly mention data, evidence, methodology, findings, \n",
       "conclusions, and recommendations. This is because the theme is centered around data and evidence.\n"
      ]
     },
     "metadata": {},
     "output_type": "display_data"
    }
   ],
   "source": [
    "#| eval: false\n",
    "overview_analyzer = dspy.ChainOfThought(Overview)\n",
    "result_overview = overview_analyzer(\n",
    "    theme = format_enabler_theme(data_evidence),\n",
    "    all_headings=str(hdgs),\n",
    ")\n",
    "\n",
    "print(f'Priority sections: {result_overview.priority_sections}')\n",
    "print(f'Strategy: {result_overview.strategy}')"
   ]
  },
  {
   "cell_type": "code",
   "execution_count": null,
   "metadata": {},
   "outputs": [],
   "source": [
    "#| exports\n",
    "class Exploration(dspy.Signature):\n",
    "    \"\"\"Decide next exploration step for enabler/cross-cutting analysis\"\"\"\n",
    "    theme: str = dspy.InputField(desc=\"Theme being analyzed\")\n",
    "    current_findings: str = dspy.InputField(desc=\"Evidence found so far\")\n",
    "    available_sections: str = dspy.InputField(desc=\"Remaining sections to explore\")\n",
    "    next_section: str = dspy.OutputField(desc=\"Next section key to explore, or 'DONE' if sufficient\")\n",
    "    reasoning: str = dspy.OutputField(desc=\"Why this section or why stopping\")"
   ]
  },
  {
   "cell_type": "code",
   "execution_count": null,
   "metadata": {},
   "outputs": [
    {
     "data": {
      "text/html": [
       "<pre style=\"white-space:pre;overflow-x:auto;line-height:normal;font-family:Menlo,'DejaVu Sans Mono',consolas,'Courier New',monospace\">Next section: <span style=\"color: #008080; text-decoration-color: #008080; font-weight: bold\">4</span>. Findings <span style=\"color: #808000; text-decoration-color: #808000\">...</span>. page <span style=\"color: #008080; text-decoration-color: #008080; font-weight: bold\">10</span>\n",
       "</pre>\n"
      ],
      "text/plain": [
       "Next section: \u001b[1;36m4\u001b[0m. Findings \u001b[33m...\u001b[0m. page \u001b[1;36m10\u001b[0m\n"
      ]
     },
     "metadata": {},
     "output_type": "display_data"
    },
    {
     "data": {
      "text/html": [
       "<pre style=\"white-space:pre;overflow-x:auto;line-height:normal;font-family:Menlo,'DejaVu Sans Mono',consolas,'Courier New',monospace\">Reasoning: Since no evidence has been collected yet, it's best to start with the main findings section to get an \n",
       "overview of the data and evidence related to the theme.\n",
       "</pre>\n"
      ],
      "text/plain": [
       "Reasoning: Since no evidence has been collected yet, it's best to start with the main findings section to get an \n",
       "overview of the data and evidence related to the theme.\n"
      ]
     },
     "metadata": {},
     "output_type": "display_data"
    }
   ],
   "source": [
    "#| eval: false\n",
    "exploration = dspy.ChainOfThought(Exploration)\n",
    "\n",
    "result_exploration = exploration(\n",
    "    theme = format_enabler_theme(data_evidence),\n",
    "    current_findings=\"No evidence collected yet\",\n",
    "    available_sections=str(result_overview.priority_sections)\n",
    ")\n",
    "\n",
    "print(\"Next section:\", result_exploration.next_section)\n",
    "print(\"Reasoning:\", result_exploration.reasoning)"
   ]
  },
  {
   "cell_type": "code",
   "execution_count": null,
   "metadata": {},
   "outputs": [],
   "source": [
    "#| exports\n",
    "class Assessment(dspy.Signature):\n",
    "    \"\"\"Assess if current evidence is sufficient for enabler analysis\"\"\"\n",
    "    theme: str = dspy.InputField(desc=\"Theme being analyzed\")\n",
    "    evidence_so_far: str = dspy.InputField(desc=\"All evidence collected\")\n",
    "    sections_explored: str = dspy.InputField(desc=\"Sections already checked\")\n",
    "    sufficient: bool = dspy.OutputField(desc=\"Is evidence sufficient to make conclusion?\")\n",
    "    confidence_score: float = dspy.OutputField(desc=\"Confidence in current findings (0-1)\")\n",
    "    next_priority: str = dspy.OutputField(desc=\"If continuing, what type of section to prioritize\")"
   ]
  },
  {
   "cell_type": "code",
   "execution_count": null,
   "metadata": {},
   "outputs": [],
   "source": [
    "#| exports\n",
    "class Synthesis(dspy.Signature):\n",
    "    \"\"\"Provide detailed rationale and synthesis of enabler analysis\"\"\"\n",
    "    theme: str = dspy.InputField(desc=\"Theme being analyzed\")\n",
    "    all_evidence: str = dspy.InputField(desc=\"All collected evidence\")\n",
    "    sections_explored: str = dspy.InputField(desc=\"List of sections explored\")\n",
    "    theme_covered: bool = dspy.OutputField(desc=\"Final decision on theme coverage\")\n",
    "    confidence_explanation: str = dspy.OutputField(desc=\"Detailed explanation of confidence score\")\n",
    "    evidence_summary: str = dspy.OutputField(desc=\"Key evidence supporting the conclusion\")\n",
    "    gaps_identified: str = dspy.OutputField(desc=\"Any gaps or missing aspects\")"
   ]
  },
  {
   "cell_type": "markdown",
   "metadata": {},
   "source": [
    "### Evidence Collection Pipeline"
   ]
  },
  {
   "cell_type": "code",
   "execution_count": null,
   "metadata": {},
   "outputs": [],
   "source": [
    "#| exports\n",
    "class ThemeAnalyzer(dspy.Module):\n",
    "    \"Full pipeline for theme analysis\"\n",
    "    def __init__(self, overview_sig, exploration_sig, assessment_sig, synthesis_sig, max_iter=10):\n",
    "        self.overview = dspy.ChainOfThought(overview_sig)\n",
    "        self.explore = dspy.ChainOfThought(exploration_sig)\n",
    "        self.assess = dspy.ChainOfThought(assessment_sig)\n",
    "        self.synthesize = dspy.ChainOfThought(synthesis_sig)\n",
    "        self.max_iter = max_iter"
   ]
  },
  {
   "cell_type": "code",
   "execution_count": null,
   "metadata": {},
   "outputs": [],
   "source": [
    "#| exports\n",
    "@patch\n",
    "def forward(self:ThemeAnalyzer, theme, headings, get_content_fn=get_content_tool):\n",
    "    priority_sections = self.get_overview(theme, headings)\n",
    "    evidence = self.explore_iteratively(theme, priority_sections, headings, get_content_fn)\n",
    "    return self.synthesize_findings(theme, evidence)"
   ]
  },
  {
   "cell_type": "code",
   "execution_count": null,
   "metadata": {},
   "outputs": [],
   "source": [
    "#| exports\n",
    "@patch\n",
    "def get_overview(self:ThemeAnalyzer, theme, headings):\n",
    "    overview = self.overview(theme=theme, all_headings=str(headings))\n",
    "    print(\"Overview priority sections:\", overview.priority_sections)\n",
    "    print(\"Overview strategy:\", overview.strategy)\n",
    "    return overview.priority_sections\n"
   ]
  },
  {
   "cell_type": "code",
   "execution_count": null,
   "metadata": {},
   "outputs": [],
   "source": [
    "#| exports\n",
    "@patch\n",
    "def explore_iteratively(self:ThemeAnalyzer, theme, priority_sections, headings, get_content_fn):\n",
    "    evidence_collected = []\n",
    "    sections_explored = []\n",
    "    available_sections = priority_sections.copy()\n",
    "    \n",
    "    for i in range(self.max_iter):\n",
    "        print(f\"\\n--- Iteration {i+1} ---\")\n",
    "        if not available_sections:\n",
    "            print(\"No more sections to explore, stopping\")\n",
    "            break\n",
    "        if self.should_stop_exploring(theme, evidence_collected, sections_explored):\n",
    "            break\n",
    "        decision = self.make_exploration_decision(theme, evidence_collected, available_sections)\n",
    "        if decision.next_section == 'DONE':\n",
    "            print(\"Decision says DONE, breaking\")\n",
    "            break\n",
    "        evidence_collected, sections_explored = self.process_section(decision, \n",
    "                                                                     headings, \n",
    "                                                                     get_content_fn, \n",
    "                                                                     evidence_collected, \n",
    "                                                                     sections_explored, \n",
    "                                                                     available_sections)\n",
    "    \n",
    "    return {\"evidence\": evidence_collected, \"sections\": sections_explored}\n"
   ]
  },
  {
   "cell_type": "code",
   "execution_count": null,
   "metadata": {},
   "outputs": [],
   "source": [
    "#| exports\n",
    "@patch\n",
    "def make_exploration_decision(self:ThemeAnalyzer, theme, evidence_collected, available_sections):\n",
    "    decision = self.explore(\n",
    "        theme=theme,\n",
    "        current_findings=\"\\n\\n\".join(evidence_collected) if evidence_collected else \"No evidence collected yet\",\n",
    "        available_sections=str(available_sections)\n",
    "    )\n",
    "    print(\"Decision:\", decision.next_section)\n",
    "    print(\"Reasoning:\", decision.reasoning)\n",
    "    return decision\n"
   ]
  },
  {
   "cell_type": "code",
   "execution_count": null,
   "metadata": {},
   "outputs": [],
   "source": [
    "#| exports\n",
    "@patch\n",
    "def should_stop_exploring(self:ThemeAnalyzer, theme, evidence_collected, sections_explored):\n",
    "    if not evidence_collected:\n",
    "        return False\n",
    "        \n",
    "    assessment = self.assess(\n",
    "        theme=theme,\n",
    "        evidence_so_far=\"\\n\\n\".join(evidence_collected),\n",
    "        sections_explored=str(sections_explored)\n",
    "    )\n",
    "    print(\"Assessment - Sufficient:\", assessment.sufficient, \"Confidence:\", assessment.confidence_score)\n",
    "    \n",
    "    return assessment.sufficient and assessment.confidence_score > 0.8\n"
   ]
  },
  {
   "cell_type": "code",
   "execution_count": null,
   "metadata": {},
   "outputs": [],
   "source": [
    "#| exports\n",
    "@patch\n",
    "def process_section(self:ThemeAnalyzer, decision, headings, get_content_fn, evidence_collected, sections_explored, available_sections):\n",
    "    path = find_section_path(headings, decision.next_section)\n",
    "    print(\"Path found:\", path)\n",
    "    \n",
    "    if path:\n",
    "        content = get_content_fn(headings, path)\n",
    "        print(\"Content length:\", len(content))\n",
    "        evidence_collected.append(f\"# Section: {decision.next_section}\\n## Content\\n{content}\")\n",
    "        sections_explored.append(decision.next_section)\n",
    "        if decision.next_section in available_sections:\n",
    "            available_sections.remove(decision.next_section)\n",
    "    else:\n",
    "        print(\"No path found for section!\")\n",
    "    \n",
    "    return evidence_collected, sections_explored\n"
   ]
  },
  {
   "cell_type": "code",
   "execution_count": null,
   "metadata": {},
   "outputs": [],
   "source": [
    "#| exports\n",
    "@patch\n",
    "def synthesize_findings(self:ThemeAnalyzer, theme, evidence):\n",
    "    synthesis = self.synthesize(\n",
    "        theme=theme,\n",
    "        all_evidence=\"\\n\\n\".join(evidence[\"evidence\"]),\n",
    "        sections_explored=str(evidence[\"sections\"])\n",
    "    )\n",
    "    print(\"Synthesis result:\", synthesis.theme_covered)\n",
    "    print(\"Synthesis reasoning:\", synthesis.confidence_explanation)\n",
    "    print(\"Synthesis evidence:\", synthesis.evidence_summary)\n",
    "    print(\"Synthesis gaps:\", synthesis.gaps_identified)\n",
    "    return synthesis\n"
   ]
  },
  {
   "cell_type": "markdown",
   "metadata": {},
   "source": [
    "For instance:\n",
    "\n",
    "- create the analyzer"
   ]
  },
  {
   "cell_type": "code",
   "execution_count": null,
   "metadata": {},
   "outputs": [],
   "source": [
    "#| eval: false\n",
    "analyzer = ThemeAnalyzer(Overview, Exploration, Assessment, Synthesis)"
   ]
  },
  {
   "cell_type": "markdown",
   "metadata": {},
   "source": [
    "- pick a theme"
   ]
  },
  {
   "cell_type": "code",
   "execution_count": null,
   "metadata": {},
   "outputs": [
    {
     "data": {
      "text/html": [
       "<pre style=\"white-space:pre;overflow-x:auto;line-height:normal;font-family:Menlo,'DejaVu Sans Mono',consolas,'Courier New',monospace\">## Enabler <span style=\"color: #008080; text-decoration-color: #008080; font-weight: bold\">4</span>: Data and evidence\n",
       "### Description\n",
       "IOM will be the pre-eminent source of migration and displacement data for action, which help save lives and deliver\n",
       "solutions; data for insight, which help facilitate regular migration pathways; and data for foresight, which help \n",
       "drive anticipatory action. IOM will have the systems and data fluency to collect, safely store, analyze, share and \n",
       "apply disaggregated data and evidence across the mobility spectrum. Our extensive data and research repositories \n",
       "will underpin evidence-based policies and practices. Data will be central to the internal decision-making and \n",
       "management of the Organization.\n",
       "</pre>\n"
      ],
      "text/plain": [
       "## Enabler \u001b[1;36m4\u001b[0m: Data and evidence\n",
       "### Description\n",
       "IOM will be the pre-eminent source of migration and displacement data for action, which help save lives and deliver\n",
       "solutions; data for insight, which help facilitate regular migration pathways; and data for foresight, which help \n",
       "drive anticipatory action. IOM will have the systems and data fluency to collect, safely store, analyze, share and \n",
       "apply disaggregated data and evidence across the mobility spectrum. Our extensive data and research repositories \n",
       "will underpin evidence-based policies and practices. Data will be central to the internal decision-making and \n",
       "management of the Organization.\n"
      ]
     },
     "metadata": {},
     "output_type": "display_data"
    }
   ],
   "source": [
    "#| eval: false\n",
    "theme = format_enabler_theme(eval_data.srf_enablers[3])  # \"Data and evidence\"\n",
    "print(theme)"
   ]
  },
  {
   "cell_type": "code",
   "execution_count": null,
   "metadata": {},
   "outputs": [
    {
     "data": {
      "text/html": [
       "<pre style=\"white-space:pre;overflow-x:auto;line-height:normal;font-family:Menlo,'DejaVu Sans Mono',consolas,'Courier New',monospace\">Overview priority sections:\n",
       "<span style=\"font-weight: bold\">[</span>\n",
       "    <span style=\"color: #008000; text-decoration-color: #008000\">'3. Methodology .... page 8'</span>,\n",
       "    <span style=\"color: #008000; text-decoration-color: #008000\">'4. Findings .... page 10'</span>,\n",
       "    <span style=\"color: #008000; text-decoration-color: #008000\">'4.3.1. Specific Objective 1: Partner countries and relevant stakeholders developed or strengthened </span>\n",
       "<span style=\"color: #008000; text-decoration-color: #008000\">evidence-based return and reintegration procedures .... page 16'</span>,\n",
       "    <span style=\"color: #008000; text-decoration-color: #008000\">'Data availability .... page 16'</span>,\n",
       "    <span style=\"color: #008000; text-decoration-color: #008000\">'5. Conclusions and Recommendations .... page 27'</span>\n",
       "<span style=\"font-weight: bold\">]</span>\n",
       "</pre>\n"
      ],
      "text/plain": [
       "Overview priority sections:\n",
       "\u001b[1m[\u001b[0m\n",
       "    \u001b[32m'3. Methodology .... page 8'\u001b[0m,\n",
       "    \u001b[32m'4. Findings .... page 10'\u001b[0m,\n",
       "    \u001b[32m'4.3.1. Specific Objective 1: Partner countries and relevant stakeholders developed or strengthened \u001b[0m\n",
       "\u001b[32mevidence-based return and reintegration procedures .... page 16'\u001b[0m,\n",
       "    \u001b[32m'Data availability .... page 16'\u001b[0m,\n",
       "    \u001b[32m'5. Conclusions and Recommendations .... page 27'\u001b[0m\n",
       "\u001b[1m]\u001b[0m\n"
      ]
     },
     "metadata": {},
     "output_type": "display_data"
    },
    {
     "data": {
      "text/html": [
       "<pre style=\"white-space:pre;overflow-x:auto;line-height:normal;font-family:Menlo,'DejaVu Sans Mono',consolas,'Courier New',monospace\">Overview strategy: The strategy is to prioritize sections that explicitly mention data, evidence, methodology, \n",
       "findings, conclusions, and recommendations. This is because the theme is centered around data and evidence.\n",
       "</pre>\n"
      ],
      "text/plain": [
       "Overview strategy: The strategy is to prioritize sections that explicitly mention data, evidence, methodology, \n",
       "findings, conclusions, and recommendations. This is because the theme is centered around data and evidence.\n"
      ]
     },
     "metadata": {},
     "output_type": "display_data"
    },
    {
     "data": {
      "text/html": [
       "<pre style=\"white-space:pre;overflow-x:auto;line-height:normal;font-family:Menlo,'DejaVu Sans Mono',consolas,'Courier New',monospace\">\n",
       "--- Iteration <span style=\"color: #008080; text-decoration-color: #008080; font-weight: bold\">1</span> ---\n",
       "</pre>\n"
      ],
      "text/plain": [
       "\n",
       "--- Iteration \u001b[1;36m1\u001b[0m ---\n"
      ]
     },
     "metadata": {},
     "output_type": "display_data"
    },
    {
     "data": {
      "text/html": [
       "<pre style=\"white-space:pre;overflow-x:auto;line-height:normal;font-family:Menlo,'DejaVu Sans Mono',consolas,'Courier New',monospace\">Decision: <span style=\"color: #008080; text-decoration-color: #008080; font-weight: bold\">4</span>. Findings <span style=\"color: #808000; text-decoration-color: #808000\">...</span>. page <span style=\"color: #008080; text-decoration-color: #008080; font-weight: bold\">10</span>\n",
       "</pre>\n"
      ],
      "text/plain": [
       "Decision: \u001b[1;36m4\u001b[0m. Findings \u001b[33m...\u001b[0m. page \u001b[1;36m10\u001b[0m\n"
      ]
     },
     "metadata": {},
     "output_type": "display_data"
    },
    {
     "data": {
      "text/html": [
       "<pre style=\"white-space:pre;overflow-x:auto;line-height:normal;font-family:Menlo,'DejaVu Sans Mono',consolas,'Courier New',monospace\">Reasoning: Since no evidence has been collected yet, it's best to start with the main findings section to get an \n",
       "overview of the data and evidence related to the theme.\n",
       "</pre>\n"
      ],
      "text/plain": [
       "Reasoning: Since no evidence has been collected yet, it's best to start with the main findings section to get an \n",
       "overview of the data and evidence related to the theme.\n"
      ]
     },
     "metadata": {},
     "output_type": "display_data"
    },
    {
     "data": {
      "text/html": [
       "<pre style=\"white-space:pre;overflow-x:auto;line-height:normal;font-family:Menlo,'DejaVu Sans Mono',consolas,'Courier New',monospace\">Path found:\n",
       "<span style=\"font-weight: bold\">[</span><span style=\"color: #008000; text-decoration-color: #008000\">'4. Findings .... page 10'</span><span style=\"font-weight: bold\">]</span>\n",
       "</pre>\n"
      ],
      "text/plain": [
       "Path found:\n",
       "\u001b[1m[\u001b[0m\u001b[32m'4. Findings .... page 10'\u001b[0m\u001b[1m]\u001b[0m\n"
      ]
     },
     "metadata": {},
     "output_type": "display_data"
    },
    {
     "data": {
      "text/html": [
       "<pre style=\"white-space:pre;overflow-x:auto;line-height:normal;font-family:Menlo,'DejaVu Sans Mono',consolas,'Courier New',monospace\">Content length: <span style=\"color: #008080; text-decoration-color: #008080; font-weight: bold\">19083</span>\n",
       "</pre>\n"
      ],
      "text/plain": [
       "Content length: \u001b[1;36m19083\u001b[0m\n"
      ]
     },
     "metadata": {},
     "output_type": "display_data"
    },
    {
     "data": {
      "text/html": [
       "<pre style=\"white-space:pre;overflow-x:auto;line-height:normal;font-family:Menlo,'DejaVu Sans Mono',consolas,'Courier New',monospace\">\n",
       "--- Iteration <span style=\"color: #008080; text-decoration-color: #008080; font-weight: bold\">2</span> ---\n",
       "</pre>\n"
      ],
      "text/plain": [
       "\n",
       "--- Iteration \u001b[1;36m2\u001b[0m ---\n"
      ]
     },
     "metadata": {},
     "output_type": "display_data"
    },
    {
     "data": {
      "text/html": [
       "<pre style=\"white-space:pre;overflow-x:auto;line-height:normal;font-family:Menlo,'DejaVu Sans Mono',consolas,'Courier New',monospace\">Assessment - Sufficient: <span style=\"color: #ff0000; text-decoration-color: #ff0000; font-style: italic\">False</span> Confidence: <span style=\"color: #008080; text-decoration-color: #008080; font-weight: bold\">0.3</span>\n",
       "</pre>\n"
      ],
      "text/plain": [
       "Assessment - Sufficient: \u001b[3;91mFalse\u001b[0m Confidence: \u001b[1;36m0.3\u001b[0m\n"
      ]
     },
     "metadata": {},
     "output_type": "display_data"
    },
    {
     "data": {
      "text/html": [
       "<pre style=\"white-space:pre;overflow-x:auto;line-height:normal;font-family:Menlo,'DejaVu Sans Mono',consolas,'Courier New',monospace\">Decision: <span style=\"color: #008080; text-decoration-color: #008080; font-weight: bold\">4.3</span>.<span style=\"color: #008080; text-decoration-color: #008080; font-weight: bold\">1</span>. Specific Objective <span style=\"color: #008080; text-decoration-color: #008080; font-weight: bold\">1</span>: Partner countries and relevant stakeholders developed or strengthened \n",
       "evidence-based return and reintegration procedures <span style=\"color: #808000; text-decoration-color: #808000\">...</span>. page <span style=\"color: #008080; text-decoration-color: #008080; font-weight: bold\">16</span>\n",
       "</pre>\n"
      ],
      "text/plain": [
       "Decision: \u001b[1;36m4.3\u001b[0m.\u001b[1;36m1\u001b[0m. Specific Objective \u001b[1;36m1\u001b[0m: Partner countries and relevant stakeholders developed or strengthened \n",
       "evidence-based return and reintegration procedures \u001b[33m...\u001b[0m. page \u001b[1;36m16\u001b[0m\n"
      ]
     },
     "metadata": {},
     "output_type": "display_data"
    },
    {
     "data": {
      "text/html": [
       "<pre style=\"white-space:pre;overflow-x:auto;line-height:normal;font-family:Menlo,'DejaVu Sans Mono',consolas,'Courier New',monospace\">Reasoning: The current findings cover relevance and coherence, which are important aspects of the evaluation. \n",
       "However, to assess the enabler of <span style=\"color: #008000; text-decoration-color: #008000\">\"Data and evidence\"</span> more thoroughly, it's crucial to examine how the program \n",
       "specifically contributed to developing or strengthening evidence-based return and reintegration procedures. This \n",
       "section will likely provide direct insights into the program's impact on data collection, analysis, and utilization\n",
       "for informed decision-making.\n",
       "</pre>\n"
      ],
      "text/plain": [
       "Reasoning: The current findings cover relevance and coherence, which are important aspects of the evaluation. \n",
       "However, to assess the enabler of \u001b[32m\"Data and evidence\"\u001b[0m more thoroughly, it's crucial to examine how the program \n",
       "specifically contributed to developing or strengthening evidence-based return and reintegration procedures. This \n",
       "section will likely provide direct insights into the program's impact on data collection, analysis, and utilization\n",
       "for informed decision-making.\n"
      ]
     },
     "metadata": {},
     "output_type": "display_data"
    },
    {
     "data": {
      "text/html": [
       "<pre style=\"white-space:pre;overflow-x:auto;line-height:normal;font-family:Menlo,'DejaVu Sans Mono',consolas,'Courier New',monospace\">Path found:\n",
       "<span style=\"font-weight: bold\">[</span>\n",
       "    <span style=\"color: #008000; text-decoration-color: #008000\">'4.3. Effectiveness .... page 16'</span>,\n",
       "    <span style=\"color: #008000; text-decoration-color: #008000\">'4.3.1. Specific Objective 1: Partner countries and relevant stakeholders developed or strengthened </span>\n",
       "<span style=\"color: #008000; text-decoration-color: #008000\">evidence-based return and reintegration procedures .... page 16'</span>\n",
       "<span style=\"font-weight: bold\">]</span>\n",
       "</pre>\n"
      ],
      "text/plain": [
       "Path found:\n",
       "\u001b[1m[\u001b[0m\n",
       "    \u001b[32m'4.3. Effectiveness .... page 16'\u001b[0m,\n",
       "    \u001b[32m'4.3.1. Specific Objective 1: Partner countries and relevant stakeholders developed or strengthened \u001b[0m\n",
       "\u001b[32mevidence-based return and reintegration procedures .... page 16'\u001b[0m\n",
       "\u001b[1m]\u001b[0m\n"
      ]
     },
     "metadata": {},
     "output_type": "display_data"
    },
    {
     "data": {
      "text/html": [
       "<pre style=\"white-space:pre;overflow-x:auto;line-height:normal;font-family:Menlo,'DejaVu Sans Mono',consolas,'Courier New',monospace\">Content length: <span style=\"color: #008080; text-decoration-color: #008080; font-weight: bold\">561</span>\n",
       "</pre>\n"
      ],
      "text/plain": [
       "Content length: \u001b[1;36m561\u001b[0m\n"
      ]
     },
     "metadata": {},
     "output_type": "display_data"
    },
    {
     "data": {
      "text/html": [
       "<pre style=\"white-space:pre;overflow-x:auto;line-height:normal;font-family:Menlo,'DejaVu Sans Mono',consolas,'Courier New',monospace\">\n",
       "--- Iteration <span style=\"color: #008080; text-decoration-color: #008080; font-weight: bold\">3</span> ---\n",
       "</pre>\n"
      ],
      "text/plain": [
       "\n",
       "--- Iteration \u001b[1;36m3\u001b[0m ---\n"
      ]
     },
     "metadata": {},
     "output_type": "display_data"
    },
    {
     "data": {
      "text/html": [
       "<pre style=\"white-space:pre;overflow-x:auto;line-height:normal;font-family:Menlo,'DejaVu Sans Mono',consolas,'Courier New',monospace\">Assessment - Sufficient: <span style=\"color: #ff0000; text-decoration-color: #ff0000; font-style: italic\">False</span> Confidence: <span style=\"color: #008080; text-decoration-color: #008080; font-weight: bold\">0.6</span>\n",
       "</pre>\n"
      ],
      "text/plain": [
       "Assessment - Sufficient: \u001b[3;91mFalse\u001b[0m Confidence: \u001b[1;36m0.6\u001b[0m\n"
      ]
     },
     "metadata": {},
     "output_type": "display_data"
    },
    {
     "data": {
      "text/html": [
       "<pre style=\"white-space:pre;overflow-x:auto;line-height:normal;font-family:Menlo,'DejaVu Sans Mono',consolas,'Courier New',monospace\">Decision: Data availability <span style=\"color: #808000; text-decoration-color: #808000\">...</span>. page <span style=\"color: #008080; text-decoration-color: #008080; font-weight: bold\">16</span>\n",
       "</pre>\n"
      ],
      "text/plain": [
       "Decision: Data availability \u001b[33m...\u001b[0m. page \u001b[1;36m16\u001b[0m\n"
      ]
     },
     "metadata": {},
     "output_type": "display_data"
    },
    {
     "data": {
      "text/html": [
       "<pre style=\"white-space:pre;overflow-x:auto;line-height:normal;font-family:Menlo,'DejaVu Sans Mono',consolas,'Courier New',monospace\">Reasoning: The current findings extensively cover relevance and coherence, and the beginning of effectiveness \n",
       "<span style=\"font-weight: bold\">(</span>Specific Objective <span style=\"color: #008080; text-decoration-color: #008080; font-weight: bold\">1</span><span style=\"font-weight: bold\">)</span>. The next logical step is to delve deeper into the data and evidence aspect of the enabler \n",
       "by exploring <span style=\"color: #008000; text-decoration-color: #008000\">\"Data availability .... page 16\"</span> to understand how the program strengthened evidence-based return and \n",
       "reintegration procedures.\n",
       "</pre>\n"
      ],
      "text/plain": [
       "Reasoning: The current findings extensively cover relevance and coherence, and the beginning of effectiveness \n",
       "\u001b[1m(\u001b[0mSpecific Objective \u001b[1;36m1\u001b[0m\u001b[1m)\u001b[0m. The next logical step is to delve deeper into the data and evidence aspect of the enabler \n",
       "by exploring \u001b[32m\"Data availability .... page 16\"\u001b[0m to understand how the program strengthened evidence-based return and \n",
       "reintegration procedures.\n"
      ]
     },
     "metadata": {},
     "output_type": "display_data"
    },
    {
     "data": {
      "text/html": [
       "<pre style=\"white-space:pre;overflow-x:auto;line-height:normal;font-family:Menlo,'DejaVu Sans Mono',consolas,'Courier New',monospace\">Path found:\n",
       "<span style=\"font-weight: bold\">[</span><span style=\"color: #008000; text-decoration-color: #008000\">'4.3. Effectiveness .... page 16'</span>, <span style=\"color: #008000; text-decoration-color: #008000\">'Data availability .... page 16'</span><span style=\"font-weight: bold\">]</span>\n",
       "</pre>\n"
      ],
      "text/plain": [
       "Path found:\n",
       "\u001b[1m[\u001b[0m\u001b[32m'4.3. Effectiveness .... page 16'\u001b[0m, \u001b[32m'Data availability .... page 16'\u001b[0m\u001b[1m]\u001b[0m\n"
      ]
     },
     "metadata": {},
     "output_type": "display_data"
    },
    {
     "data": {
      "text/html": [
       "<pre style=\"white-space:pre;overflow-x:auto;line-height:normal;font-family:Menlo,'DejaVu Sans Mono',consolas,'Courier New',monospace\">Content length: <span style=\"color: #008080; text-decoration-color: #008080; font-weight: bold\">6003</span>\n",
       "</pre>\n"
      ],
      "text/plain": [
       "Content length: \u001b[1;36m6003\u001b[0m\n"
      ]
     },
     "metadata": {},
     "output_type": "display_data"
    },
    {
     "data": {
      "text/html": [
       "<pre style=\"white-space:pre;overflow-x:auto;line-height:normal;font-family:Menlo,'DejaVu Sans Mono',consolas,'Courier New',monospace\">\n",
       "--- Iteration <span style=\"color: #008080; text-decoration-color: #008080; font-weight: bold\">4</span> ---\n",
       "</pre>\n"
      ],
      "text/plain": [
       "\n",
       "--- Iteration \u001b[1;36m4\u001b[0m ---\n"
      ]
     },
     "metadata": {},
     "output_type": "display_data"
    },
    {
     "data": {
      "text/html": [
       "<pre style=\"white-space:pre;overflow-x:auto;line-height:normal;font-family:Menlo,'DejaVu Sans Mono',consolas,'Courier New',monospace\">Assessment - Sufficient: <span style=\"color: #ff0000; text-decoration-color: #ff0000; font-style: italic\">False</span> Confidence: <span style=\"color: #008080; text-decoration-color: #008080; font-weight: bold\">0.6</span>\n",
       "</pre>\n"
      ],
      "text/plain": [
       "Assessment - Sufficient: \u001b[3;91mFalse\u001b[0m Confidence: \u001b[1;36m0.6\u001b[0m\n"
      ]
     },
     "metadata": {},
     "output_type": "display_data"
    },
    {
     "data": {
      "text/html": [
       "<pre style=\"white-space:pre;overflow-x:auto;line-height:normal;font-family:Menlo,'DejaVu Sans Mono',consolas,'Courier New',monospace\">Decision: <span style=\"color: #008080; text-decoration-color: #008080; font-weight: bold\">5</span>. Conclusions and Recommendations <span style=\"color: #808000; text-decoration-color: #808000\">...</span>. page <span style=\"color: #008080; text-decoration-color: #008080; font-weight: bold\">27</span>\n",
       "</pre>\n"
      ],
      "text/plain": [
       "Decision: \u001b[1;36m5\u001b[0m. Conclusions and Recommendations \u001b[33m...\u001b[0m. page \u001b[1;36m27\u001b[0m\n"
      ]
     },
     "metadata": {},
     "output_type": "display_data"
    },
    {
     "data": {
      "text/html": [
       "<pre style=\"white-space:pre;overflow-x:auto;line-height:normal;font-family:Menlo,'DejaVu Sans Mono',consolas,'Courier New',monospace\">Reasoning: The current findings extensively cover the relevance, coherence, and effectiveness of the program, \n",
       "particularly focusing on data availability and capacity building. Since the analysis of <span style=\"color: #008000; text-decoration-color: #008000\">\"Data and evidence\"</span> is \n",
       "already integrated within the findings, and the available sections include methodology and \n",
       "conclusions/recommendations, it makes sense to move to the conclusions and recommendations to see how the \n",
       "evaluation synthesizes the findings related to data and evidence and what recommendations are made.\n",
       "</pre>\n"
      ],
      "text/plain": [
       "Reasoning: The current findings extensively cover the relevance, coherence, and effectiveness of the program, \n",
       "particularly focusing on data availability and capacity building. Since the analysis of \u001b[32m\"Data and evidence\"\u001b[0m is \n",
       "already integrated within the findings, and the available sections include methodology and \n",
       "conclusions/recommendations, it makes sense to move to the conclusions and recommendations to see how the \n",
       "evaluation synthesizes the findings related to data and evidence and what recommendations are made.\n"
      ]
     },
     "metadata": {},
     "output_type": "display_data"
    },
    {
     "data": {
      "text/html": [
       "<pre style=\"white-space:pre;overflow-x:auto;line-height:normal;font-family:Menlo,'DejaVu Sans Mono',consolas,'Courier New',monospace\">Path found:\n",
       "<span style=\"font-weight: bold\">[</span><span style=\"color: #008000; text-decoration-color: #008000\">'5. Conclusions and Recommendations .... page 27'</span><span style=\"font-weight: bold\">]</span>\n",
       "</pre>\n"
      ],
      "text/plain": [
       "Path found:\n",
       "\u001b[1m[\u001b[0m\u001b[32m'5. Conclusions and Recommendations .... page 27'\u001b[0m\u001b[1m]\u001b[0m\n"
      ]
     },
     "metadata": {},
     "output_type": "display_data"
    },
    {
     "data": {
      "text/html": [
       "<pre style=\"white-space:pre;overflow-x:auto;line-height:normal;font-family:Menlo,'DejaVu Sans Mono',consolas,'Courier New',monospace\">Content length: <span style=\"color: #008080; text-decoration-color: #008080; font-weight: bold\">13375</span>\n",
       "</pre>\n"
      ],
      "text/plain": [
       "Content length: \u001b[1;36m13375\u001b[0m\n"
      ]
     },
     "metadata": {},
     "output_type": "display_data"
    },
    {
     "data": {
      "text/html": [
       "<pre style=\"white-space:pre;overflow-x:auto;line-height:normal;font-family:Menlo,'DejaVu Sans Mono',consolas,'Courier New',monospace\">\n",
       "--- Iteration <span style=\"color: #008080; text-decoration-color: #008080; font-weight: bold\">5</span> ---\n",
       "</pre>\n"
      ],
      "text/plain": [
       "\n",
       "--- Iteration \u001b[1;36m5\u001b[0m ---\n"
      ]
     },
     "metadata": {},
     "output_type": "display_data"
    },
    {
     "data": {
      "text/html": [
       "<pre style=\"white-space:pre;overflow-x:auto;line-height:normal;font-family:Menlo,'DejaVu Sans Mono',consolas,'Courier New',monospace\">Assessment - Sufficient: <span style=\"color: #ff0000; text-decoration-color: #ff0000; font-style: italic\">False</span> Confidence: <span style=\"color: #008080; text-decoration-color: #008080; font-weight: bold\">0.7</span>\n",
       "</pre>\n"
      ],
      "text/plain": [
       "Assessment - Sufficient: \u001b[3;91mFalse\u001b[0m Confidence: \u001b[1;36m0.7\u001b[0m\n"
      ]
     },
     "metadata": {},
     "output_type": "display_data"
    },
    {
     "data": {
      "text/html": [
       "<pre style=\"white-space:pre;overflow-x:auto;line-height:normal;font-family:Menlo,'DejaVu Sans Mono',consolas,'Courier New',monospace\">Decision: DONE\n",
       "</pre>\n"
      ],
      "text/plain": [
       "Decision: DONE\n"
      ]
     },
     "metadata": {},
     "output_type": "display_data"
    },
    {
     "data": {
      "text/html": [
       "<pre style=\"white-space:pre;overflow-x:auto;line-height:normal;font-family:Menlo,'DejaVu Sans Mono',consolas,'Courier New',monospace\">Reasoning: The current findings extensively cover the relevance, coherence, and effectiveness of the JI-HoA \n",
       "program, particularly concerning data availability and its impact on return and reintegration procedures. The \n",
       "analysis delves into the program's alignment with IOM and EU objectives, its coordination with other initiatives, \n",
       "and its specific achievements in data collection and capacity building. The document also provides conclusions and \n",
       "recommendations for future programming. Given the comprehensive nature of the existing findings and the focus on \n",
       "data and evidence, further exploration of the methodology section is unlikely to yield significant new insights \n",
       "directly relevant to the enabler analysis. Therefore, I will mark this section as DONE.\n",
       "</pre>\n"
      ],
      "text/plain": [
       "Reasoning: The current findings extensively cover the relevance, coherence, and effectiveness of the JI-HoA \n",
       "program, particularly concerning data availability and its impact on return and reintegration procedures. The \n",
       "analysis delves into the program's alignment with IOM and EU objectives, its coordination with other initiatives, \n",
       "and its specific achievements in data collection and capacity building. The document also provides conclusions and \n",
       "recommendations for future programming. Given the comprehensive nature of the existing findings and the focus on \n",
       "data and evidence, further exploration of the methodology section is unlikely to yield significant new insights \n",
       "directly relevant to the enabler analysis. Therefore, I will mark this section as DONE.\n"
      ]
     },
     "metadata": {},
     "output_type": "display_data"
    },
    {
     "data": {
      "text/html": [
       "<pre style=\"white-space:pre;overflow-x:auto;line-height:normal;font-family:Menlo,'DejaVu Sans Mono',consolas,'Courier New',monospace\">Decision says DONE, breaking\n",
       "</pre>\n"
      ],
      "text/plain": [
       "Decision says DONE, breaking\n"
      ]
     },
     "metadata": {},
     "output_type": "display_data"
    },
    {
     "data": {
      "text/html": [
       "<pre style=\"white-space:pre;overflow-x:auto;line-height:normal;font-family:Menlo,'DejaVu Sans Mono',consolas,'Courier New',monospace\">Synthesis result: <span style=\"color: #00ff00; text-decoration-color: #00ff00; font-style: italic\">True</span>\n",
       "</pre>\n"
      ],
      "text/plain": [
       "Synthesis result: \u001b[3;92mTrue\u001b[0m\n"
      ]
     },
     "metadata": {},
     "output_type": "display_data"
    },
    {
     "data": {
      "text/html": [
       "<pre style=\"white-space:pre;overflow-x:auto;line-height:normal;font-family:Menlo,'DejaVu Sans Mono',consolas,'Courier New',monospace\">Synthesis reasoning: Confidence: <span style=\"color: #008080; text-decoration-color: #008080; font-weight: bold\">90</span>%\n",
       "Explanation: The evaluation report provides substantial evidence of the program's efforts to improve data \n",
       "availability and promote evidence-based practices. The report includes quantitative data on the number of studies \n",
       "conducted, stakeholders trained, and the use of data in policymaking. It also acknowledges the challenges and \n",
       "limitations in translating data into policy changes, providing a balanced assessment. The high robustness scores \n",
       "for relevance and coherence further support the confidence level.\n",
       "</pre>\n"
      ],
      "text/plain": [
       "Synthesis reasoning: Confidence: \u001b[1;36m90\u001b[0m%\n",
       "Explanation: The evaluation report provides substantial evidence of the program's efforts to improve data \n",
       "availability and promote evidence-based practices. The report includes quantitative data on the number of studies \n",
       "conducted, stakeholders trained, and the use of data in policymaking. It also acknowledges the challenges and \n",
       "limitations in translating data into policy changes, providing a balanced assessment. The high robustness scores \n",
       "for relevance and coherence further support the confidence level.\n"
      ]
     },
     "metadata": {},
     "output_type": "display_data"
    },
    {
     "data": {
      "text/html": [
       "<pre style=\"white-space:pre;overflow-x:auto;line-height:normal;font-family:Menlo,'DejaVu Sans Mono',consolas,'Courier New',monospace\">Synthesis evidence: Key evidence includes:\n",
       "*   The program exceeded targets for field studies and surveys.\n",
       "*   The Regional Data Hub played a crucial role in producing and publishing migration data.\n",
       "*   Stakeholders generally acknowledged increased knowledge on return and reintegration issues.\n",
       "*   The program contributed to an increase in the number of actors involved in return and reintegration assistance.\n",
       "*   Challenges remain in translating increased data availability and capacity into tangible policy changes due to \n",
       "staff turnover, financial constraints, and the COVID-<span style=\"color: #008080; text-decoration-color: #008080; font-weight: bold\">19</span> pandemic.\n",
       "</pre>\n"
      ],
      "text/plain": [
       "Synthesis evidence: Key evidence includes:\n",
       "*   The program exceeded targets for field studies and surveys.\n",
       "*   The Regional Data Hub played a crucial role in producing and publishing migration data.\n",
       "*   Stakeholders generally acknowledged increased knowledge on return and reintegration issues.\n",
       "*   The program contributed to an increase in the number of actors involved in return and reintegration assistance.\n",
       "*   Challenges remain in translating increased data availability and capacity into tangible policy changes due to \n",
       "staff turnover, financial constraints, and the COVID-\u001b[1;36m19\u001b[0m pandemic.\n"
      ]
     },
     "metadata": {},
     "output_type": "display_data"
    },
    {
     "data": {
      "text/html": [
       "<pre style=\"white-space:pre;overflow-x:auto;line-height:normal;font-family:Menlo,'DejaVu Sans Mono',consolas,'Courier New',monospace\">Synthesis gaps: The evaluation could benefit from more in-depth analysis of the specific types of data collected \n",
       "and their impact on policy decisions. Additionally, further investigation into the reasons behind the challenges in\n",
       "translating data into policy changes would be valuable. More information on the long-term sustainability of the \n",
       "data collection and analysis efforts would also be beneficial.\n",
       "</pre>\n"
      ],
      "text/plain": [
       "Synthesis gaps: The evaluation could benefit from more in-depth analysis of the specific types of data collected \n",
       "and their impact on policy decisions. Additionally, further investigation into the reasons behind the challenges in\n",
       "translating data into policy changes would be valuable. More information on the long-term sustainability of the \n",
       "data collection and analysis efforts would also be beneficial.\n"
      ]
     },
     "metadata": {},
     "output_type": "display_data"
    }
   ],
   "source": [
    "#| eval: false\n",
    "result = analyzer(theme, hdgs, get_content_tool)"
   ]
  },
  {
   "cell_type": "markdown",
   "metadata": {},
   "source": [
    "### In progress ..."
   ]
  },
  {
   "cell_type": "code",
   "execution_count": null,
   "metadata": {},
   "outputs": [],
   "source": [
    "#| eval: false\n",
    "condensed_gcm = {\n",
    "    \"7\": {\n",
    "        \"title\": \"Address and reduce vulnerabilities in migration\",\n",
    "        \"core_theme\": \"Protect migrants in vulnerable situations through comprehensive support and rights-based approaches\",\n",
    "        \"key_principles\": [\"Human rights-based approach\", \"Best interests of the child\", \"Gender-responsive policies\", \"Non-discrimination\"],\n",
    "        \"target_groups\": [\"Unaccompanied children\", \"Women at risk\", \"Trafficking victims\", \"Workers facing exploitation\", \"Persons with disabilities\"],\n",
    "        \"main_activities\": [\"Identification and assistance\", \"Legal protection and remedies\", \"Child protection systems\", \"Status regularization procedures\", \"Crisis response\"]\n",
    "    },\n",
    "    \"21\": {\n",
    "        \"title\": \"Cooperate in facilitating safe and dignified return and readmission, as well as sustainable reintegration\",\n",
    "        \"core_theme\": \"Safe and dignified return, readmission, and sustainable reintegration of migrants\",\n",
    "        \"key_principles\": [\"Due process and individual assessment\", \"Prohibition of collective expulsion\", \"Non-refoulement\", \"Human right to return\"],\n",
    "        \"target_groups\": [\"Returning migrants\", \"Children in return processes\", \"Communities of origin\"],\n",
    "        \"main_activities\": [\"Cooperation frameworks\", \"Travel documents and identification\", \"Consular assistance\", \"Reintegration support\", \"Monitoring mechanisms\"]\n",
    "    }\n",
    "}"
   ]
  }
 ],
 "metadata": {
  "kernelspec": {
   "display_name": "python3",
   "language": "python",
   "name": "python3"
  }
 },
 "nbformat": 4,
 "nbformat_minor": 2
}
