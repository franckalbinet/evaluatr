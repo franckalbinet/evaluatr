{
 "cells": [
  {
   "cell_type": "markdown",
   "metadata": {},
   "source": [
    "# Mappr\n",
    "\n",
    "> Scale up evaluation report mapping against evaluation frameworks using agentic workflows\n"
   ]
  },
  {
   "cell_type": "markdown",
   "metadata": {},
   "source": [
    "::: {.callout-warning}\n",
    "This notebook is a work in progress.\n",
    ":::"
   ]
  },
  {
   "cell_type": "markdown",
   "metadata": {},
   "source": [
    "## Approach\n",
    "\n",
    "**Problem**: Manually mapping evaluation reports against IOM's Strategic Results Framework (SRF) is time-consuming and resource-intensive with ~150 outputs to analyze.\n",
    "\n",
    "**Solution**: Multi-stage pipeline leveraging Global Compact for Migration (GCM) as a pruning mechanism:\n",
    "\n",
    "### Stage 1: Sequential Classification\n",
    "1. **Enablers & Cross-cutting Priorities** (11 items) - Fast parallel analysis to identify meta-evaluation nature\n",
    "2. **GCM Objectives** (23 items) - Informed by Stage 1 results, uses condensed representations for efficiency\n",
    "\n",
    "### Stage 2: Targeted SRF Analysis  \n",
    "- Use GCM results + `gcm_srf_lut` to prune ~150 SRF outputs to ~20-50 relevant ones\n",
    "- Deep analysis with full hierarchy context (objective → outcome → output → indicators)\n",
    "\n",
    "### Key Features\n",
    "- **Agentic workflow**: LLM navigates document headings, explores sections iteratively until confident\n",
    "- **DSPy signatures**: Structured reasoning with built-in tracing for evaluation\n",
    "- **Rate-limited parallelization**: Respects API constraints (15 RPM) using fastcore\n",
    "- **False positive bias**: Better to over-include than miss relevant mappings"
   ]
  },
  {
   "cell_type": "code",
   "execution_count": null,
   "metadata": {},
   "outputs": [],
   "source": [
    "#| default_exp mappr"
   ]
  },
  {
   "cell_type": "code",
   "execution_count": null,
   "metadata": {},
   "outputs": [],
   "source": [
    "\n",
    "#| exports\n",
    "from pathlib import Path\n",
    "from functools import reduce\n",
    "from toolslm.md_hier import *\n",
    "from rich import print\n",
    "import json\n",
    "from fastcore.all import *\n",
    "\n",
    "from typing import List\n",
    "import dspy\n",
    "\n",
    "from evaluatr.frameworks import IOMEvalData"
   ]
  },
  {
   "cell_type": "code",
   "execution_count": null,
   "metadata": {},
   "outputs": [],
   "source": [
    "#| exports\n",
    "from dotenv import load_dotenv\n",
    "import os\n",
    "\n",
    "load_dotenv()\n",
    "GEMINI_API_KEY = os.getenv('GEMINI_API_KEY')"
   ]
  },
  {
   "cell_type": "code",
   "execution_count": null,
   "metadata": {},
   "outputs": [],
   "source": [
    "#| exports\n",
    "cfg = AttrDict({\n",
    "    'lm': 'gemini/gemini-2.0-flash-exp',\n",
    "    'api_key': GEMINI_API_KEY,\n",
    "    'max_tokens': 8192,\n",
    "    'track_usage': False,\n",
    "})"
   ]
  },
  {
   "cell_type": "code",
   "execution_count": null,
   "metadata": {},
   "outputs": [
    {
     "data": {
      "text/html": [
       "<pre style=\"white-space:pre;overflow-x:auto;line-height:normal;font-family:Menlo,'DejaVu Sans Mono',consolas,'Courier New',monospace\"># PPMi <span style=\"color: #808000; text-decoration-color: #808000\">...</span>. page <span style=\"color: #008080; text-decoration-color: #008080; font-weight: bold\">1</span>\n",
       "\n",
       "**Final Evaluation of the EU-IOM Joint Initiative for migrant protection and reintegration in the horn of Africa**\n",
       "\n",
       "Final Evaluation Report, <span style=\"color: #008080; text-decoration-color: #008080; font-weight: bold\">17</span> March <span style=\"color: #008080; text-decoration-color: #008080; font-weight: bold\">2023</span>\n",
       "\n",
       "!<span style=\"font-weight: bold\">(</span>img-<span style=\"color: #008080; text-decoration-color: #008080; font-weight: bold\">0.j</span>peg<span style=\"font-weight: bold\">)</span>\n",
       "\n",
       "**EU-IOM** Joint Initiative for Migrant Protection and Reintegration\n",
       "\n",
       "Project funded by the European Union\n",
       "Project implemented by IOM\n",
       "\n",
       "---\n",
       "\n",
       "This Final Evaluation Report was commissioned by IOM and developed by the evaluation team of PPMI Group, including:\n",
       "Loes van der Graaf, Rimantas Dumcius, Radvilė Bankauskaitė, Anna Kiss-Pal and Laura Daukšaitė, as well as by \n",
       "external expert Anthony Roger Plant. The evaluation team is grateful to all IOM staff and stakeholders to the \n",
       "JI-HoA for their time taken to participate in interviews. The team is especially grateful to the returnees, \n",
       "migrants, and community members who participated in Focus Group Discussions.\n",
       "\n",
       "This publication was funded by the European Union. Its contents are the sole responsibility of PPMI Group and do \n",
       "not necessarily reflect\n",
       "</pre>\n"
      ],
      "text/plain": [
       "# PPMi \u001b[33m...\u001b[0m. page \u001b[1;36m1\u001b[0m\n",
       "\n",
       "**Final Evaluation of the EU-IOM Joint Initiative for migrant protection and reintegration in the horn of Africa**\n",
       "\n",
       "Final Evaluation Report, \u001b[1;36m17\u001b[0m March \u001b[1;36m2023\u001b[0m\n",
       "\n",
       "!\u001b[1m(\u001b[0mimg-\u001b[1;36m0.j\u001b[0mpeg\u001b[1m)\u001b[0m\n",
       "\n",
       "**EU-IOM** Joint Initiative for Migrant Protection and Reintegration\n",
       "\n",
       "Project funded by the European Union\n",
       "Project implemented by IOM\n",
       "\n",
       "---\n",
       "\n",
       "This Final Evaluation Report was commissioned by IOM and developed by the evaluation team of PPMI Group, including:\n",
       "Loes van der Graaf, Rimantas Dumcius, Radvilė Bankauskaitė, Anna Kiss-Pal and Laura Daukšaitė, as well as by \n",
       "external expert Anthony Roger Plant. The evaluation team is grateful to all IOM staff and stakeholders to the \n",
       "JI-HoA for their time taken to participate in interviews. The team is especially grateful to the returnees, \n",
       "migrants, and community members who participated in Focus Group Discussions.\n",
       "\n",
       "This publication was funded by the European Union. Its contents are the sole responsibility of PPMI Group and do \n",
       "not necessarily reflect\n"
      ]
     },
     "metadata": {},
     "output_type": "display_data"
    }
   ],
   "source": [
    "#| eval: false\n",
    "doc = Path(\"../_data/md_library/49d2fba781b6a7c0d94577479636ee6f/abridged_evaluation_report_final_olta_ndoja_pdf/enriched\")\n",
    "pages = doc.ls(file_exts=\".md\").sorted(key=lambda p: int(p.stem.split('_')[1]))\n",
    "report = '\\n\\n---\\n\\n'.join(page.read_text() for page in pages)\n",
    "print(report[:1000])"
   ]
  },
  {
   "cell_type": "markdown",
   "metadata": {},
   "source": [
    "## Hierarchical report navigation"
   ]
  },
  {
   "cell_type": "markdown",
   "metadata": {},
   "source": [
    "Thanks to `toolslm.md_hier` and a clean markdown structure of a `report` markdown, we can create a nested dictionary of section, subsection, ... as follows:"
   ]
  },
  {
   "cell_type": "code",
   "execution_count": null,
   "metadata": {},
   "outputs": [
    {
     "data": {
      "text/plain": [
       "{'PPMi .... page 1': {},\n",
       " 'CONTENTS .... page 3': {},\n",
       " '1. Introduction .... page 4': {},\n",
       " '2. Background of the JI-HoA .... page 5': {'2.1. Context and design of the JI-HoA .... page 5': {},\n",
       "  '2.2. External factors affecting the implementation of the JI .... page 7': {}},\n",
       " '3. Methodology .... page 8': {},\n",
       " '4. Findings .... page 10': {'4.1. Relevance .... page 10': {'4.1.1. Relevance of programme activities for migrants, returnees, and communities .... page 10': {}},\n",
       "  'Overall performance score for relevance: $3.9 / 5$ <br> Robustness score for the evidence: $4.5 / 5$': {'4.1.1.1 Needs of migrants .... page 10': {},\n",
       "   '4.1.1.2 Needs of returnees .... page 10': {},\n",
       "   '4.1.1.3 Needs of community members .... page 12': {},\n",
       "   \"4.1.2. Programme's relevance to the needs of stakeholders .... page 12\": {'4.1.2.1 Needs of governments .... page 12': {},\n",
       "    '4.1.2.2 Needs of other stakeholders .... page 13': {}},\n",
       "   '4.2. Coherence .... page 13': {\"4.2.1. The JI-HoA's alignment with the objectives and standards of IOM, and objectives of the EU .... page 14\": {},\n",
       "    '4.2.2. Alignment with other initiatives .... page 14': {}}}},\n",
       " '4.3. Effectiveness .... page 16': {'4.3.1. Specific Objective 1: Partner countries and relevant stakeholders developed or strengthened evidence-based return and reintegration procedures .... page 16': {'4.3.1.1 Achievement of outputs and results .... page 16': {}},\n",
       "  'Data availability .... page 16': {'4.3.1.2 Achievement of Specific Objective 1 .... page 17': {'4.3.1.2 Achievement of Specific Objective 1 .... page 17': {}}}},\n",
       " '4.3.2. Specific Objective 2: Safe, humane, dignified voluntary return processes are enhanced along main migration routes .... page 18': {'4.3.2.1 Achievement of outputs and results .... page 19': {},\n",
       "  'Outreach and awareness .... page 19': {},\n",
       "  'Assistance to stranded migrants .... page 19': {'4.3.2.2 Achievement of the Objective .... page 20': {},\n",
       "   '4.3.3. Specific Objective 3: Returnees are sustainably integrated in host communities, and host communities are better able to create living standards that address drivers of migration. .... page 20': {'4.3.3.1 Achievement of outputs and results .... page 20': {}}},\n",
       "  'Individual and community-based reintegration .... page 20': {'4.3.3.2 Achievement of Specific Objective 3 .... page 21': {}}},\n",
       " '4.3.3.2 Achievement of Specific Objective 3': {'Overall achievement of reintegration .... page 22': {'4.3.4. Functioning of the Integrated Approach .... page 23': {'4.3.4. Functioning of the Integrated Approach .... page 23': {}}}},\n",
       " '4.4. Efficiency .... page 24': {'4.4.3. Did the programme receive sufficient resources to achieve its objectives? .... page 24': {},\n",
       "  '4.4.2. Cost-effectiveness and efficiency of the programme .... page 25': {}},\n",
       " '4.5. Sustainability .... page 26': {'Overall performance score for sustainability: $2.5 / 5$ <br> Robustness score for the evidence: $4 / 5$ .... page 26': {}},\n",
       " '5. Conclusions and Recommendations .... page 27': {'5.1. Conclusions .... page 27': {},\n",
       "  '5.2. Recommendations .... page 28': {'5.2.1. Increase attention on building partnerships with service providers who can function without (significant) funding channelled by IOM. .... page 29': {},\n",
       "   '5.2.2. Explore opportunities to extend the scope of support provided to returnees, with a focus on longer-term integration. .... page 30': {}}}}"
      ]
     },
     "execution_count": null,
     "metadata": {},
     "output_type": "execute_result"
    }
   ],
   "source": [
    "#| eval: false\n",
    "hdgs = create_heading_dict(report); hdgs"
   ]
  },
  {
   "cell_type": "code",
   "execution_count": null,
   "metadata": {},
   "outputs": [],
   "source": [
    "#| exports\n",
    "def find_section_path(\n",
    "    hdgs: dict, # The nested dictionary structure\n",
    "    target_section: str # The section name to find\n",
    "):\n",
    "    \"Find the nested key path for a given section name\"\n",
    "    def search_recursive(current_dict, path=[]):\n",
    "        for key, value in current_dict.items():\n",
    "            current_path = path + [key]\n",
    "            if key == target_section:\n",
    "                return current_path\n",
    "            if isinstance(value, dict):\n",
    "                result = search_recursive(value, current_path)\n",
    "                if result:\n",
    "                    return result\n",
    "        return None\n",
    "    \n",
    "    return search_recursive(hdgs)"
   ]
  },
  {
   "cell_type": "markdown",
   "metadata": {},
   "source": [
    "Then we can retrieve the subsection path (list of nested headings to reach this specific section) in this nested `hdgs` dict :"
   ]
  },
  {
   "cell_type": "code",
   "execution_count": null,
   "metadata": {},
   "outputs": [
    {
     "data": {
      "text/plain": [
       "['4. Findings .... page 10',\n",
       " 'Overall performance score for relevance: $3.9 / 5$ <br> Robustness score for the evidence: $4.5 / 5$',\n",
       " '4.1.1.1 Needs of migrants .... page 10']"
      ]
     },
     "execution_count": null,
     "metadata": {},
     "output_type": "execute_result"
    }
   ],
   "source": [
    "#| eval: false\n",
    "path = find_section_path(hdgs, \"4.1.1.1 Needs of migrants .... page 10\"); path"
   ]
  },
  {
   "cell_type": "markdown",
   "metadata": {},
   "source": [
    "Then retrieve the specific subsection content:"
   ]
  },
  {
   "cell_type": "code",
   "execution_count": null,
   "metadata": {},
   "outputs": [],
   "source": [
    "#| exports\n",
    "def get_content_tool(hdgs, keys_list):\n",
    "    \"Navigate through nested levels using the exact key strings\"\n",
    "    return reduce(lambda current, key: current[key], keys_list, hdgs).text"
   ]
  },
  {
   "cell_type": "code",
   "execution_count": null,
   "metadata": {},
   "outputs": [
    {
     "data": {
      "text/html": [
       "<pre style=\"white-space:pre;overflow-x:auto;line-height:normal;font-family:Menlo,'DejaVu Sans Mono',consolas,'Courier New',monospace\">##### <span style=\"color: #00ff00; text-decoration-color: #00ff00; font-weight: bold\">4.1.1.1</span> Needs of migrants <span style=\"color: #808000; text-decoration-color: #808000\">...</span>. page <span style=\"color: #008080; text-decoration-color: #008080; font-weight: bold\">10</span>\n",
       "\n",
       "Desk research and interviews confirm that the programme responded to the most pressing needs of migrants. The \n",
       "JI-HoA enabled them to return from dangerous environments, such as detention, where no other support was available.\n",
       "Migrants shared that they suffered on their irregular migration journeys, had acutely distressing experiences $<span style=\"font-weight: bold\">{</span> \n",
       "<span style=\"font-weight: bold\">}</span>^<span style=\"font-weight: bold\">{</span><span style=\"color: #008080; text-decoration-color: #008080; font-weight: bold\">13</span><span style=\"font-weight: bold\">}</span>$, and highlighted that their families and communities could not help them $<span style=\"font-weight: bold\">{</span> <span style=\"font-weight: bold\">}</span>^<span style=\"font-weight: bold\">{</span><span style=\"color: #008080; text-decoration-color: #008080; font-weight: bold\">14</span><span style=\"font-weight: bold\">}</span>$. Stakeholders supportin\n",
       "</pre>\n"
      ],
      "text/plain": [
       "##### \u001b[1;92m4.1.1.1\u001b[0m Needs of migrants \u001b[33m...\u001b[0m. page \u001b[1;36m10\u001b[0m\n",
       "\n",
       "Desk research and interviews confirm that the programme responded to the most pressing needs of migrants. The \n",
       "JI-HoA enabled them to return from dangerous environments, such as detention, where no other support was available.\n",
       "Migrants shared that they suffered on their irregular migration journeys, had acutely distressing experiences $\u001b[1m{\u001b[0m \n",
       "\u001b[1m}\u001b[0m^\u001b[1m{\u001b[0m\u001b[1;36m13\u001b[0m\u001b[1m}\u001b[0m$, and highlighted that their families and communities could not help them $\u001b[1m{\u001b[0m \u001b[1m}\u001b[0m^\u001b[1m{\u001b[0m\u001b[1;36m14\u001b[0m\u001b[1m}\u001b[0m$. Stakeholders supportin\n"
      ]
     },
     "metadata": {},
     "output_type": "display_data"
    }
   ],
   "source": [
    "#| eval: false\n",
    "content = get_content_tool(hdgs, path)\n",
    "print(content[:500])"
   ]
  },
  {
   "cell_type": "markdown",
   "metadata": {},
   "source": [
    "## Signatures"
   ]
  },
  {
   "cell_type": "markdown",
   "metadata": {},
   "source": [
    "A [DSPy signature](https://dspy.ai/learn/programming/signatures) is a declarative specification of input/output behavior of a DSPy module. Signatures allow you to tell the LM (Language Model) what it needs to do, rather than specify how we should ask the LM to do it."
   ]
  },
  {
   "cell_type": "markdown",
   "metadata": {},
   "source": [
    "### Stage 1"
   ]
  },
  {
   "cell_type": "code",
   "execution_count": null,
   "metadata": {},
   "outputs": [],
   "source": [
    "#| exports\n",
    "class EnablersCrossCuttingOverview(dspy.Signature):\n",
    "    \"\"\"Identify sections relevant to enabler/cross-cutting category\"\"\"\n",
    "    category_title: str = dspy.InputField(desc=\"Category title\")\n",
    "    category_description: str = dspy.InputField(desc=\"Category description\")\n",
    "    all_headings: str = dspy.InputField(desc=\"Complete document structure\")\n",
    "    priority_sections: List[str] = dspy.OutputField(desc=\"Ordered list of section keys to explore first\")\n",
    "    strategy: str = dspy.OutputField(desc=\"Reasoning for this exploration strategy\")\n",
    "    # confidence: float = dspy.OutputField(desc=\"Confidence 0-1\")\n"
   ]
  },
  {
   "cell_type": "markdown",
   "metadata": {},
   "source": [
    "For instance on \"Data and evidence\" SRF Enabler number 4:"
   ]
  },
  {
   "cell_type": "code",
   "execution_count": null,
   "metadata": {},
   "outputs": [
    {
     "data": {
      "text/html": [
       "<pre style=\"white-space:pre;overflow-x:auto;line-height:normal;font-family:Menlo,'DejaVu Sans Mono',consolas,'Courier New',monospace\">Analyzing: Data and evidence\n",
       "</pre>\n"
      ],
      "text/plain": [
       "Analyzing: Data and evidence\n"
      ]
     },
     "metadata": {},
     "output_type": "display_data"
    },
    {
     "data": {
      "text/html": [
       "<pre style=\"white-space:pre;overflow-x:auto;line-height:normal;font-family:Menlo,'DejaVu Sans Mono',consolas,'Courier New',monospace\">Description:IOM will be the pre-eminent source of migration and displacement data for action, which help save lives\n",
       "and deliver solutions; data for insight, which help facilitate regular migration pathways; and data for foresight, \n",
       "which help drive anticipatory action. IOM will have the systems and data fluency to collect, safely store, analyze,\n",
       "share and apply disaggregated data and evidence across the mobility spectrum. Our extensive data and research \n",
       "repositories will underpin evidence-based policies and practices. Data will be central to the internal \n",
       "decision-making and management of the Organization.\n",
       "\n",
       "</pre>\n"
      ],
      "text/plain": [
       "Description:IOM will be the pre-eminent source of migration and displacement data for action, which help save lives\n",
       "and deliver solutions; data for insight, which help facilitate regular migration pathways; and data for foresight, \n",
       "which help drive anticipatory action. IOM will have the systems and data fluency to collect, safely store, analyze,\n",
       "share and apply disaggregated data and evidence across the mobility spectrum. Our extensive data and research \n",
       "repositories will underpin evidence-based policies and practices. Data will be central to the internal \n",
       "decision-making and management of the Organization.\n",
       "\n"
      ]
     },
     "metadata": {},
     "output_type": "display_data"
    }
   ],
   "source": [
    "#| eval: false\n",
    "lm = dspy.LM(cfg.lm, api_key=cfg.api_key)\n",
    "dspy.configure(lm=lm)\n",
    "overview_analyzer = dspy.ChainOfThought(EnablersCrossCuttingOverview)\n",
    "\n",
    "eval_data = IOMEvalData()\n",
    "data_evidence = eval_data.srf_enablers[3]  # \"Data and evidence\" is at index 3\n",
    "print(f\"Analyzing: {data_evidence.title}\")\n",
    "print(f\"Description:{data_evidence.description}\\n\")"
   ]
  },
  {
   "cell_type": "code",
   "execution_count": null,
   "metadata": {},
   "outputs": [
    {
     "data": {
      "text/html": [
       "<pre style=\"white-space:pre;overflow-x:auto;line-height:normal;font-family:Menlo,'DejaVu Sans Mono',consolas,'Courier New',monospace\">Priority sections: <span style=\"font-weight: bold\">[</span><span style=\"color: #008000; text-decoration-color: #008000\">'4.3.1. Specific Objective 1: Partner countries and relevant stakeholders developed or </span>\n",
       "<span style=\"color: #008000; text-decoration-color: #008000\">strengthened evidence-based return and reintegration procedures .... page 16'</span>, <span style=\"color: #008000; text-decoration-color: #008000\">'Data availability .... page 16'</span>, \n",
       "<span style=\"color: #008000; text-decoration-color: #008000\">'5. Conclusions and Recommendations .... page 27'</span>, <span style=\"color: #008000; text-decoration-color: #008000\">'3. Methodology .... page 8'</span><span style=\"font-weight: bold\">]</span>\n",
       "</pre>\n"
      ],
      "text/plain": [
       "Priority sections: \u001b[1m[\u001b[0m\u001b[32m'4.3.1. Specific Objective 1: Partner countries and relevant stakeholders developed or \u001b[0m\n",
       "\u001b[32mstrengthened evidence-based return and reintegration procedures .... page 16'\u001b[0m, \u001b[32m'Data availability .... page 16'\u001b[0m, \n",
       "\u001b[32m'5. Conclusions and Recommendations .... page 27'\u001b[0m, \u001b[32m'3. Methodology .... page 8'\u001b[0m\u001b[1m]\u001b[0m\n"
      ]
     },
     "metadata": {},
     "output_type": "display_data"
    },
    {
     "data": {
      "text/html": [
       "<pre style=\"white-space:pre;overflow-x:auto;line-height:normal;font-family:Menlo,'DejaVu Sans Mono',consolas,'Courier New',monospace\">Strategy: The strategy is to prioritize sections explicitly mentioning <span style=\"color: #008000; text-decoration-color: #008000\">\"data\"</span>, <span style=\"color: #008000; text-decoration-color: #008000\">\"evidence\"</span>, or related terms. \n",
       "<span style=\"color: #008000; text-decoration-color: #008000\">\"Methodology\"</span> is included as it describes how data is collected and analyzed. <span style=\"color: #008000; text-decoration-color: #008000\">\"Conclusions and Recommendations\"</span> is \n",
       "included as it may contain insights on data gaps or improvements.\n",
       "</pre>\n"
      ],
      "text/plain": [
       "Strategy: The strategy is to prioritize sections explicitly mentioning \u001b[32m\"data\"\u001b[0m, \u001b[32m\"evidence\"\u001b[0m, or related terms. \n",
       "\u001b[32m\"Methodology\"\u001b[0m is included as it describes how data is collected and analyzed. \u001b[32m\"Conclusions and Recommendations\"\u001b[0m is \n",
       "included as it may contain insights on data gaps or improvements.\n"
      ]
     },
     "metadata": {},
     "output_type": "display_data"
    }
   ],
   "source": [
    "#| eval: false\n",
    "result = overview_analyzer(\n",
    "    category_title=data_evidence.title,\n",
    "    category_description=data_evidence.description,\n",
    "    all_headings=str(hdgs),\n",
    ")\n",
    "\n",
    "print(f'Priority sections: {result.priority_sections}')\n",
    "print(f'Strategy: {result.strategy}')"
   ]
  },
  {
   "cell_type": "code",
   "execution_count": null,
   "metadata": {},
   "outputs": [],
   "source": [
    "#| eval: false\n",
    "condensed_gcm = {\n",
    "    \"7\": {\n",
    "        \"title\": \"Address and reduce vulnerabilities in migration\",\n",
    "        \"core_theme\": \"Protect migrants in vulnerable situations through comprehensive support and rights-based approaches\",\n",
    "        \"key_principles\": [\"Human rights-based approach\", \"Best interests of the child\", \"Gender-responsive policies\", \"Non-discrimination\"],\n",
    "        \"target_groups\": [\"Unaccompanied children\", \"Women at risk\", \"Trafficking victims\", \"Workers facing exploitation\", \"Persons with disabilities\"],\n",
    "        \"main_activities\": [\"Identification and assistance\", \"Legal protection and remedies\", \"Child protection systems\", \"Status regularization procedures\", \"Crisis response\"]\n",
    "    },\n",
    "    \"21\": {\n",
    "        \"title\": \"Cooperate in facilitating safe and dignified return and readmission, as well as sustainable reintegration\",\n",
    "        \"core_theme\": \"Safe and dignified return, readmission, and sustainable reintegration of migrants\",\n",
    "        \"key_principles\": [\"Due process and individual assessment\", \"Prohibition of collective expulsion\", \"Non-refoulement\", \"Human right to return\"],\n",
    "        \"target_groups\": [\"Returning migrants\", \"Children in return processes\", \"Communities of origin\"],\n",
    "        \"main_activities\": [\"Cooperation frameworks\", \"Travel documents and identification\", \"Consular assistance\", \"Reintegration support\", \"Monitoring mechanisms\"]\n",
    "    }\n",
    "}"
   ]
  }
 ],
 "metadata": {
  "kernelspec": {
   "display_name": "python3",
   "language": "python",
   "name": "python3"
  }
 },
 "nbformat": 4,
 "nbformat_minor": 2
}
