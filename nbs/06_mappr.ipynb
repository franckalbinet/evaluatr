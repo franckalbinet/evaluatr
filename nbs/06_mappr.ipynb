{
 "cells": [
  {
   "cell_type": "markdown",
   "metadata": {},
   "source": [
    "# Mappr\n",
    "\n",
    "> Scale up evaluation report mapping against evaluation frameworks using agentic workflows\n"
   ]
  },
  {
   "cell_type": "markdown",
   "metadata": {},
   "source": [
    "::: {.callout-warning}\n",
    "This notebook is a work in progress.\n",
    ":::"
   ]
  },
  {
   "cell_type": "markdown",
   "metadata": {},
   "source": [
    "Manually mapping evaluation reports against IOM's [Strategic Results Framework (SRF)](https://srf.iom.int) is time-consuming and resource-intensive with ~150 outputs to analyze. Additionally, the mapping process needs transparent and human-readable traces of LLM decision flows that both reflect natural reasoning patterns and allow human evaluators to audit the mapping logic.\n",
    "\n",
    "A three-stage async pipeline leveraging [Global Compact for Migration (GCM) UN General Assembly Resolution](https://www.un.org/en/development/desa/population/migration/generalassembly/docs/globalcompact/A_RES_73_195.pdf) objectives as SRF Outputs pruning mechanism:\n",
    "\n",
    "\n",
    "\n",
    "**Stage 1**: SRF Enablers & Cross-cutting Analysis\n",
    "\n",
    "- **Async parallel analysis** of Enablers (7 categories) and Cross-cutting Priorities (4 categories) using shared semaphore for rate limiting\n",
    "- **Purpose**: Identify if report is primarily meta-evaluation/transversal in nature\n",
    "- **Fast processing**: ~11 items total with concurrent execution, provides context for subsequent stages\n",
    "\n",
    "**Stage 2**: Informed GCM Analysis\n",
    "\n",
    "- **Rate-limited parallel processing** of GCM Objectives (23 items) informed by Stage 1 results\n",
    "- **Condensed representations**: UN General Assembly Resolution formulation simplified for retrieval efficiency\n",
    "- **Concurrent theme analysis** with API quota management\n",
    "\n",
    "**Stage 3**: Targeted SRF Analysis\n",
    "\n",
    "- **SRF Filtering**: Use GCM results + `gcm_srf_lut` lookup table to prune ~150 SRF outputs to ~20-50 relevant ones\n",
    "- **Deep parallel analysis**: Full hierarchy context (objective → outcome → output → indicators)\n",
    "- **Async batch processing**: Final targeted analysis of pruned SRF outputs with retry logic and error handling"
   ]
  },
  {
   "cell_type": "markdown",
   "metadata": {},
   "source": [
    "::: {.column-body}\n",
    "![Three-stage Pipeline Overview](img/three-stage-pipeline-overview.png){fig-align=\"center\" width=\"800px\"}\n",
    ":::"
   ]
  },
  {
   "cell_type": "code",
   "execution_count": null,
   "metadata": {},
   "outputs": [],
   "source": [
    "#| default_exp mappr"
   ]
  },
  {
   "cell_type": "code",
   "execution_count": null,
   "metadata": {},
   "outputs": [],
   "source": [
    "#| exports\n",
    "from pathlib import Path\n",
    "from functools import reduce\n",
    "from toolslm.md_hier import *\n",
    "from rich import print\n",
    "import json\n",
    "from fastcore.all import *\n",
    "from enum import Enum\n",
    "import logging\n",
    "import uuid\n",
    "from datetime import datetime\n",
    "from typing import List, Callable\n",
    "import dspy\n",
    "from asyncio import Semaphore, gather, sleep\n",
    "import time\n",
    "from collections import defaultdict\n",
    "import copy\n",
    "\n",
    "from evaluatr.frameworks import (EvalData, \n",
    "                                 IOMEvalData, \n",
    "                                 FrameworkInfo, \n",
    "                                 Framework,\n",
    "                                 FrameworkCat)"
   ]
  },
  {
   "cell_type": "code",
   "execution_count": null,
   "metadata": {},
   "outputs": [],
   "source": [
    "#| exports\n",
    "from dotenv import load_dotenv\n",
    "import os\n",
    "\n",
    "load_dotenv()\n",
    "GEMINI_API_KEY = os.getenv('GEMINI_API_KEY')"
   ]
  },
  {
   "cell_type": "code",
   "execution_count": null,
   "metadata": {},
   "outputs": [],
   "source": [
    "#| exports\n",
    "cfg = AttrDict({\n",
    "    'lm': 'gemini/gemini-2.0-flash-exp',\n",
    "    'api_key': GEMINI_API_KEY,\n",
    "    'max_tokens': 8192,\n",
    "    'track_usage': False,\n",
    "    'rpm_limit': 15, \n",
    "    'call_delay': 6,\n",
    "    'dirs': AttrDict({\n",
    "        'data': '.evaluator',\n",
    "        'trace': 'traces'\n",
    "    }),\n",
    "    'verbosity': 1,\n",
    "    'cache': AttrDict({\n",
    "        'is_active': True,\n",
    "        'delay': 0.1 # threshold in seconds below which we consider the response is cached\n",
    "    })\n",
    "})"
   ]
  },
  {
   "cell_type": "code",
   "execution_count": null,
   "metadata": {},
   "outputs": [],
   "source": [
    "#| exports\n",
    "lm = dspy.LM(cfg.lm, api_key=cfg.api_key, cache=cfg.cache.is_active)\n",
    "dspy.configure(lm=lm)"
   ]
  },
  {
   "cell_type": "code",
   "execution_count": null,
   "metadata": {},
   "outputs": [
    {
     "data": {
      "text/html": [
       "<pre style=\"white-space:pre;overflow-x:auto;line-height:normal;font-family:Menlo,'DejaVu Sans Mono',consolas,'Courier New',monospace\"># PPMi <span style=\"color: #808000; text-decoration-color: #808000\">...</span>. page <span style=\"color: #008080; text-decoration-color: #008080; font-weight: bold\">1</span>\n",
       "\n",
       "**Final Evaluation of the EU-IOM Joint Initiative for migrant protection and reintegration in the horn of Africa**\n",
       "\n",
       "Final Evaluation Report, <span style=\"color: #008080; text-decoration-color: #008080; font-weight: bold\">17</span> March <span style=\"color: #008080; text-decoration-color: #008080; font-weight: bold\">2023</span>\n",
       "\n",
       "!<span style=\"font-weight: bold\">(</span>img-<span style=\"color: #008080; text-decoration-color: #008080; font-weight: bold\">0.j</span>peg<span style=\"font-weight: bold\">)</span>\n",
       "\n",
       "**EU-IOM** Joint Initiative for Migrant Protection and Reintegration\n",
       "\n",
       "Project funded by the European Union\n",
       "Project implemented by IOM\n",
       "\n",
       "---\n",
       "\n",
       "This Final Evaluation Report was commissioned by IOM and developed by the evaluation team of PPMI Group, including:\n",
       "Loes van der Graaf, Rimantas Dumcius, Radvilė Bankauskaitė, Anna Kiss-Pal and Laura Daukšaitė, as well as by \n",
       "external expert Anthony Roger Plant. The evaluation team is grateful to all IOM staff and stakeholders to the \n",
       "JI-HoA for their time taken to participate in interviews. The team is especially grateful to the returnees, \n",
       "migrants, and community members who participated in Focus Group Discussions.\n",
       "\n",
       "This publication was funded by the European Union. Its contents are the sole responsibility of PPMI Group and do \n",
       "not necessarily reflect\n",
       "</pre>\n"
      ],
      "text/plain": [
       "# PPMi \u001b[33m...\u001b[0m. page \u001b[1;36m1\u001b[0m\n",
       "\n",
       "**Final Evaluation of the EU-IOM Joint Initiative for migrant protection and reintegration in the horn of Africa**\n",
       "\n",
       "Final Evaluation Report, \u001b[1;36m17\u001b[0m March \u001b[1;36m2023\u001b[0m\n",
       "\n",
       "!\u001b[1m(\u001b[0mimg-\u001b[1;36m0.j\u001b[0mpeg\u001b[1m)\u001b[0m\n",
       "\n",
       "**EU-IOM** Joint Initiative for Migrant Protection and Reintegration\n",
       "\n",
       "Project funded by the European Union\n",
       "Project implemented by IOM\n",
       "\n",
       "---\n",
       "\n",
       "This Final Evaluation Report was commissioned by IOM and developed by the evaluation team of PPMI Group, including:\n",
       "Loes van der Graaf, Rimantas Dumcius, Radvilė Bankauskaitė, Anna Kiss-Pal and Laura Daukšaitė, as well as by \n",
       "external expert Anthony Roger Plant. The evaluation team is grateful to all IOM staff and stakeholders to the \n",
       "JI-HoA for their time taken to participate in interviews. The team is especially grateful to the returnees, \n",
       "migrants, and community members who participated in Focus Group Discussions.\n",
       "\n",
       "This publication was funded by the European Union. Its contents are the sole responsibility of PPMI Group and do \n",
       "not necessarily reflect\n"
      ]
     },
     "metadata": {},
     "output_type": "display_data"
    }
   ],
   "source": [
    "#| eval: false\n",
    "doc = Path(\"../_data/md_library/49d2fba781b6a7c0d94577479636ee6f/abridged_evaluation_report_final_olta_ndoja_pdf/enriched\")\n",
    "pages = doc.ls(file_exts=\".md\").sorted(key=lambda p: int(p.stem.split('_')[1]))\n",
    "report = '\\n\\n---\\n\\n'.join(page.read_text() for page in pages)\n",
    "print(report[:1000])"
   ]
  },
  {
   "cell_type": "markdown",
   "metadata": {},
   "source": [
    "## Hierarchical report navigation"
   ]
  },
  {
   "cell_type": "markdown",
   "metadata": {},
   "source": [
    "Thanks to `toolslm.md_hier` and a clean markdown structure of a `report` markdown, we can create a nested dictionary of section, subsection, ... as follows:"
   ]
  },
  {
   "cell_type": "code",
   "execution_count": null,
   "metadata": {},
   "outputs": [
    {
     "data": {
      "text/plain": [
       "{'PPMi .... page 1': {},\n",
       " 'CONTENTS .... page 3': {},\n",
       " '1. Introduction .... page 4': {},\n",
       " '2. Background of the JI-HoA .... page 5': {'2.1. Context and design of the JI-HoA .... page 5': {},\n",
       "  '2.2. External factors affecting the implementation of the JI .... page 7': {}},\n",
       " '3. Methodology .... page 8': {},\n",
       " '4. Findings .... page 10': {'4.1. Relevance .... page 10': {'4.1.1. Relevance of programme activities for migrants, returnees, and communities .... page 10': {}},\n",
       "  'Overall performance score for relevance: $3.9 / 5$ <br> Robustness score for the evidence: $4.5 / 5$': {'4.1.1.1 Needs of migrants .... page 10': {},\n",
       "   '4.1.1.2 Needs of returnees .... page 10': {},\n",
       "   '4.1.1.3 Needs of community members .... page 12': {},\n",
       "   \"4.1.2. Programme's relevance to the needs of stakeholders .... page 12\": {'4.1.2.1 Needs of governments .... page 12': {},\n",
       "    '4.1.2.2 Needs of other stakeholders .... page 13': {}},\n",
       "   '4.2. Coherence .... page 13': {\"4.2.1. The JI-HoA's alignment with the objectives and standards of IOM, and objectives of the EU .... page 14\": {},\n",
       "    '4.2.2. Alignment with other initiatives .... page 14': {}}}},\n",
       " '4.3. Effectiveness .... page 16': {'4.3.1. Specific Objective 1: Partner countries and relevant stakeholders developed or strengthened evidence-based return and reintegration procedures .... page 16': {'4.3.1.1 Achievement of outputs and results .... page 16': {}},\n",
       "  'Data availability .... page 16': {'4.3.1.2 Achievement of Specific Objective 1 .... page 17': {'4.3.1.2 Achievement of Specific Objective 1 .... page 17': {}}}},\n",
       " '4.3.2. Specific Objective 2: Safe, humane, dignified voluntary return processes are enhanced along main migration routes .... page 18': {'4.3.2.1 Achievement of outputs and results .... page 19': {},\n",
       "  'Outreach and awareness .... page 19': {},\n",
       "  'Assistance to stranded migrants .... page 19': {'4.3.2.2 Achievement of the Objective .... page 20': {},\n",
       "   '4.3.3. Specific Objective 3: Returnees are sustainably integrated in host communities, and host communities are better able to create living standards that address drivers of migration. .... page 20': {'4.3.3.1 Achievement of outputs and results .... page 20': {}}},\n",
       "  'Individual and community-based reintegration .... page 20': {'4.3.3.2 Achievement of Specific Objective 3 .... page 21': {}}},\n",
       " '4.3.3.2 Achievement of Specific Objective 3': {'Overall achievement of reintegration .... page 22': {'4.3.4. Functioning of the Integrated Approach .... page 23': {'4.3.4. Functioning of the Integrated Approach .... page 23': {}}}},\n",
       " '4.4. Efficiency .... page 24': {'4.4.3. Did the programme receive sufficient resources to achieve its objectives? .... page 24': {},\n",
       "  '4.4.2. Cost-effectiveness and efficiency of the programme .... page 25': {}},\n",
       " '4.5. Sustainability .... page 26': {'Overall performance score for sustainability: $2.5 / 5$ <br> Robustness score for the evidence: $4 / 5$ .... page 26': {}},\n",
       " '5. Conclusions and Recommendations .... page 27': {'5.1. Conclusions .... page 27': {},\n",
       "  '5.2. Recommendations .... page 28': {'5.2.1. Increase attention on building partnerships with service providers who can function without (significant) funding channelled by IOM. .... page 29': {},\n",
       "   '5.2.2. Explore opportunities to extend the scope of support provided to returnees, with a focus on longer-term integration. .... page 30': {}}}}"
      ]
     },
     "execution_count": null,
     "metadata": {},
     "output_type": "execute_result"
    }
   ],
   "source": [
    "#| eval: false\n",
    "hdgs = create_heading_dict(report); hdgs"
   ]
  },
  {
   "cell_type": "code",
   "execution_count": null,
   "metadata": {},
   "outputs": [],
   "source": [
    "#| exports\n",
    "def find_section_path(\n",
    "    hdgs: dict, # The nested dictionary structure\n",
    "    target_section: str # The section name to find\n",
    ") -> list: # The nested key path for the given section name\n",
    "    \"Find the nested key path for a given section name.\"\n",
    "    def search_recursive(current_dict, path=[]):\n",
    "        for key, value in current_dict.items():\n",
    "            current_path = path + [key]\n",
    "            if key == target_section:\n",
    "                return current_path\n",
    "            if isinstance(value, dict):\n",
    "                result = search_recursive(value, current_path)\n",
    "                if result:\n",
    "                    return result\n",
    "        return None\n",
    "    \n",
    "    return search_recursive(hdgs)"
   ]
  },
  {
   "cell_type": "markdown",
   "metadata": {},
   "source": [
    "Then we can retrieve the subsection path (list of nested headings to reach this specific section) in this nested `hdgs` dict :"
   ]
  },
  {
   "cell_type": "code",
   "execution_count": null,
   "metadata": {},
   "outputs": [
    {
     "data": {
      "text/plain": [
       "['4. Findings .... page 10',\n",
       " 'Overall performance score for relevance: $3.9 / 5$ <br> Robustness score for the evidence: $4.5 / 5$',\n",
       " '4.1.1.1 Needs of migrants .... page 10']"
      ]
     },
     "execution_count": null,
     "metadata": {},
     "output_type": "execute_result"
    }
   ],
   "source": [
    "#| eval: false\n",
    "path = find_section_path(hdgs, \"4.1.1.1 Needs of migrants .... page 10\"); path"
   ]
  },
  {
   "cell_type": "markdown",
   "metadata": {},
   "source": [
    "Then retrieve the specific subsection content:"
   ]
  },
  {
   "cell_type": "code",
   "execution_count": null,
   "metadata": {},
   "outputs": [],
   "source": [
    "#| exports\n",
    "def get_content_tool(\n",
    "    hdgs: dict, # The nested dictionary structure\n",
    "    keys_list: list, # The list of keys to navigate through\n",
    "    ) -> str: # The content of the section\n",
    "    \"Navigate through nested levels using the exact key strings.\"\n",
    "    return reduce(lambda current, key: current[key], keys_list, hdgs).text"
   ]
  },
  {
   "cell_type": "code",
   "execution_count": null,
   "metadata": {},
   "outputs": [
    {
     "data": {
      "text/html": [
       "<pre style=\"white-space:pre;overflow-x:auto;line-height:normal;font-family:Menlo,'DejaVu Sans Mono',consolas,'Courier New',monospace\">##### <span style=\"color: #00ff00; text-decoration-color: #00ff00; font-weight: bold\">4.1.1.1</span> Needs of migrants <span style=\"color: #808000; text-decoration-color: #808000\">...</span>. page <span style=\"color: #008080; text-decoration-color: #008080; font-weight: bold\">10</span>\n",
       "\n",
       "Desk research and interviews confirm that the programme responded to the most pressing needs of migrants. The \n",
       "JI-HoA enabled them to return from dangerous environments, such as detention, where no other support was available.\n",
       "Migrants shared that they suffered on their irregular migration journeys, had acutely distressing experiences $<span style=\"font-weight: bold\">{</span> \n",
       "<span style=\"font-weight: bold\">}</span>^<span style=\"font-weight: bold\">{</span><span style=\"color: #008080; text-decoration-color: #008080; font-weight: bold\">13</span><span style=\"font-weight: bold\">}</span>$, and highlighted that their families and communities could not help them $<span style=\"font-weight: bold\">{</span> <span style=\"font-weight: bold\">}</span>^<span style=\"font-weight: bold\">{</span><span style=\"color: #008080; text-decoration-color: #008080; font-weight: bold\">14</span><span style=\"font-weight: bold\">}</span>$. Stakeholders supportin\n",
       "</pre>\n"
      ],
      "text/plain": [
       "##### \u001b[1;92m4.1.1.1\u001b[0m Needs of migrants \u001b[33m...\u001b[0m. page \u001b[1;36m10\u001b[0m\n",
       "\n",
       "Desk research and interviews confirm that the programme responded to the most pressing needs of migrants. The \n",
       "JI-HoA enabled them to return from dangerous environments, such as detention, where no other support was available.\n",
       "Migrants shared that they suffered on their irregular migration journeys, had acutely distressing experiences $\u001b[1m{\u001b[0m \n",
       "\u001b[1m}\u001b[0m^\u001b[1m{\u001b[0m\u001b[1;36m13\u001b[0m\u001b[1m}\u001b[0m$, and highlighted that their families and communities could not help them $\u001b[1m{\u001b[0m \u001b[1m}\u001b[0m^\u001b[1m{\u001b[0m\u001b[1;36m14\u001b[0m\u001b[1m}\u001b[0m$. Stakeholders supportin\n"
      ]
     },
     "metadata": {},
     "output_type": "display_data"
    }
   ],
   "source": [
    "#| eval: false\n",
    "content = get_content_tool(hdgs, path)\n",
    "print(content[:500])"
   ]
  },
  {
   "cell_type": "markdown",
   "metadata": {},
   "source": [
    "## Formatters"
   ]
  },
  {
   "cell_type": "markdown",
   "metadata": {},
   "source": [
    "We define here a set of function formatting both evaluation frameworks themes to analyze (SRF enablers, objectives, GCM objectives, ...) and traces."
   ]
  },
  {
   "cell_type": "code",
   "execution_count": null,
   "metadata": {},
   "outputs": [],
   "source": [
    "#| exports\n",
    "def format_enabler_theme(\n",
    "    theme: EvalData # The theme object\n",
    "    ) -> str: # The formatted theme string\n",
    "    \"Format SRF enabler into structured text for LM processing.\"\n",
    "    parts = [\n",
    "        f'## Enabler {theme.id}: {theme.title}',\n",
    "        '### Description', \n",
    "        theme.description\n",
    "    ]\n",
    "    return '\\n'.join(parts)"
   ]
  },
  {
   "cell_type": "markdown",
   "metadata": {},
   "source": [
    "For instance: "
   ]
  },
  {
   "cell_type": "code",
   "execution_count": null,
   "metadata": {},
   "outputs": [
    {
     "data": {
      "text/html": [
       "<pre style=\"white-space:pre;overflow-x:auto;line-height:normal;font-family:Menlo,'DejaVu Sans Mono',consolas,'Courier New',monospace\">## Enabler <span style=\"color: #008080; text-decoration-color: #008080; font-weight: bold\">4</span>: Data and evidence\n",
       "### Description\n",
       "IOM will be the pre-eminent source of migration and displacement data for action, which help save lives and deliver\n",
       "solutions; data for insight, which help facilitate regular migration pathways; and data for foresight, which help \n",
       "drive anticipatory action. IOM will have the systems and data fluency to collect, safely store, analyze, share and \n",
       "apply disaggregated data and evidence across the mobility spectrum. Our extensive data and research repositories \n",
       "will underpin evidence-based policies and practices. Data will be central to the internal decision-making and \n",
       "management of the Organization.\n",
       "</pre>\n"
      ],
      "text/plain": [
       "## Enabler \u001b[1;36m4\u001b[0m: Data and evidence\n",
       "### Description\n",
       "IOM will be the pre-eminent source of migration and displacement data for action, which help save lives and deliver\n",
       "solutions; data for insight, which help facilitate regular migration pathways; and data for foresight, which help \n",
       "drive anticipatory action. IOM will have the systems and data fluency to collect, safely store, analyze, share and \n",
       "apply disaggregated data and evidence across the mobility spectrum. Our extensive data and research repositories \n",
       "will underpin evidence-based policies and practices. Data will be central to the internal decision-making and \n",
       "management of the Organization.\n"
      ]
     },
     "metadata": {},
     "output_type": "display_data"
    }
   ],
   "source": [
    "#| eval: false\n",
    "eval_data = IOMEvalData()\n",
    "data_evidence = eval_data.srf_enablers[3]  # \"Data and evidence\" is at index 3\n",
    "print(format_enabler_theme(data_evidence))"
   ]
  },
  {
   "cell_type": "code",
   "execution_count": null,
   "metadata": {},
   "outputs": [],
   "source": [
    "#| exports\n",
    "def format_crosscutting_theme(\n",
    "    theme: EvalData # The theme object\n",
    "    ) -> str: # The formatted theme string\n",
    "    \"Format SRF cross-cutting into structured text for LM processing.\"\n",
    "    parts = [\n",
    "        f'## Cross-cutting {theme.id}: {theme.title}',\n",
    "        '### Description', \n",
    "        theme.description\n",
    "    ]\n",
    "    return '\\n'.join(parts)"
   ]
  },
  {
   "cell_type": "markdown",
   "metadata": {},
   "source": [
    "## Signatures"
   ]
  },
  {
   "cell_type": "markdown",
   "metadata": {},
   "source": [
    "A [DSPy signature](https://dspy.ai/learn/programming/signatures) is a declarative specification of input/output behavior of a DSPy module. Signatures allow you to tell the LM (Language Model) what it needs to do, rather than specify how we should ask the LM to do it."
   ]
  },
  {
   "cell_type": "code",
   "execution_count": null,
   "metadata": {},
   "outputs": [],
   "source": [
    "#| exports\n",
    "class Overview(dspy.Signature):\n",
    "    \"Based on framework theme to map and report's TOC determine the sections to explore first.\"\n",
    "    theme: str = dspy.InputField(desc=\"Theme being analyzed\")\n",
    "    all_headings: str = dspy.InputField(desc=\"Complete document structure\")\n",
    "    priority_sections: List[str] = dspy.OutputField(desc=\"Ordered list of section keys to explore first\")\n",
    "    strategy: str = dspy.OutputField(desc=\"Reasoning for this exploration strategy\")"
   ]
  },
  {
   "cell_type": "markdown",
   "metadata": {},
   "source": [
    "For instance on \"Data and evidence\" SRF Enabler:"
   ]
  },
  {
   "cell_type": "code",
   "execution_count": null,
   "metadata": {},
   "outputs": [
    {
     "data": {
      "text/html": [
       "<pre style=\"white-space:pre;overflow-x:auto;line-height:normal;font-family:Menlo,'DejaVu Sans Mono',consolas,'Courier New',monospace\">Priority sections: <span style=\"font-weight: bold\">[</span><span style=\"color: #008000; text-decoration-color: #008000\">'3. Methodology .... page 8'</span>, <span style=\"color: #008000; text-decoration-color: #008000\">'4. Findings .... page 10'</span>, <span style=\"color: #008000; text-decoration-color: #008000\">'4.1. Relevance .... page 10'</span>, <span style=\"color: #008000; text-decoration-color: #008000\">'4.3. </span>\n",
       "<span style=\"color: #008000; text-decoration-color: #008000\">Effectiveness .... page 16'</span>, <span style=\"color: #008000; text-decoration-color: #008000\">'Data availability .... page 16'</span>, <span style=\"color: #008000; text-decoration-color: #008000\">'5. Conclusions and Recommendations .... page 27'</span><span style=\"font-weight: bold\">]</span>\n",
       "</pre>\n"
      ],
      "text/plain": [
       "Priority sections: \u001b[1m[\u001b[0m\u001b[32m'3. Methodology .... page 8'\u001b[0m, \u001b[32m'4. Findings .... page 10'\u001b[0m, \u001b[32m'4.1. Relevance .... page 10'\u001b[0m, \u001b[32m'4.3. \u001b[0m\n",
       "\u001b[32mEffectiveness .... page 16'\u001b[0m, \u001b[32m'Data availability .... page 16'\u001b[0m, \u001b[32m'5. Conclusions and Recommendations .... page 27'\u001b[0m\u001b[1m]\u001b[0m\n"
      ]
     },
     "metadata": {},
     "output_type": "display_data"
    },
    {
     "data": {
      "text/html": [
       "<pre style=\"white-space:pre;overflow-x:auto;line-height:normal;font-family:Menlo,'DejaVu Sans Mono',consolas,'Courier New',monospace\">Strategy: The strategy is to prioritize sections that directly relate to data collection, analysis, and the \n",
       "presentation of findings. This includes sections on methodology, findings, effectiveness <span style=\"font-weight: bold\">(</span>which often relies on \n",
       "data<span style=\"font-weight: bold\">)</span>, and conclusions.\n",
       "</pre>\n"
      ],
      "text/plain": [
       "Strategy: The strategy is to prioritize sections that directly relate to data collection, analysis, and the \n",
       "presentation of findings. This includes sections on methodology, findings, effectiveness \u001b[1m(\u001b[0mwhich often relies on \n",
       "data\u001b[1m)\u001b[0m, and conclusions.\n"
      ]
     },
     "metadata": {},
     "output_type": "display_data"
    }
   ],
   "source": [
    "#| eval: false\n",
    "overview_analyzer = dspy.ChainOfThought(Overview)\n",
    "result_overview = overview_analyzer(\n",
    "    theme = format_enabler_theme(data_evidence),\n",
    "    all_headings=str(hdgs),\n",
    ")\n",
    "\n",
    "print(f'Priority sections: {result_overview.priority_sections}')\n",
    "print(f'Strategy: {result_overview.strategy}')"
   ]
  },
  {
   "cell_type": "code",
   "execution_count": null,
   "metadata": {},
   "outputs": [],
   "source": [
    "#| exports\n",
    "class Exploration(dspy.Signature):\n",
    "    \"Decide next exploration step for theme to be mapped based on current findings and available sections.\"\n",
    "    theme: str = dspy.InputField(desc=\"Theme being analyzed\")\n",
    "    current_findings: str = dspy.InputField(desc=\"Evidence found so far\")\n",
    "    available_sections: str = dspy.InputField(desc=\"Remaining sections to explore\")\n",
    "    next_section: str = dspy.OutputField(desc=\"Next section key to explore, or 'DONE' if sufficient\")\n",
    "    reasoning: str = dspy.OutputField(desc=\"Why this section or why stopping\")"
   ]
  },
  {
   "cell_type": "code",
   "execution_count": null,
   "metadata": {},
   "outputs": [
    {
     "data": {
      "text/html": [
       "<pre style=\"white-space:pre;overflow-x:auto;line-height:normal;font-family:Menlo,'DejaVu Sans Mono',consolas,'Courier New',monospace\">Next section: <span style=\"color: #008080; text-decoration-color: #008080; font-weight: bold\">4</span>. Findings <span style=\"color: #808000; text-decoration-color: #808000\">...</span>. page <span style=\"color: #008080; text-decoration-color: #008080; font-weight: bold\">10</span>\n",
       "</pre>\n"
      ],
      "text/plain": [
       "Next section: \u001b[1;36m4\u001b[0m. Findings \u001b[33m...\u001b[0m. page \u001b[1;36m10\u001b[0m\n"
      ]
     },
     "metadata": {},
     "output_type": "display_data"
    },
    {
     "data": {
      "text/html": [
       "<pre style=\"white-space:pre;overflow-x:auto;line-height:normal;font-family:Menlo,'DejaVu Sans Mono',consolas,'Courier New',monospace\">Reasoning: To understand how the theme of <span style=\"color: #008000; text-decoration-color: #008000\">\"Data and evidence\"</span> is addressed in the document, I should start by \n",
       "looking at the main findings section. This will give a general overview of how data and evidence are used or \n",
       "discussed in the document.\n",
       "</pre>\n"
      ],
      "text/plain": [
       "Reasoning: To understand how the theme of \u001b[32m\"Data and evidence\"\u001b[0m is addressed in the document, I should start by \n",
       "looking at the main findings section. This will give a general overview of how data and evidence are used or \n",
       "discussed in the document.\n"
      ]
     },
     "metadata": {},
     "output_type": "display_data"
    }
   ],
   "source": [
    "#| eval: false\n",
    "exploration = dspy.ChainOfThought(Exploration)\n",
    "\n",
    "result_exploration = exploration(\n",
    "    theme = format_enabler_theme(data_evidence),\n",
    "    current_findings=\"No evidence collected yet\",\n",
    "    available_sections=str(result_overview.priority_sections)\n",
    ")\n",
    "\n",
    "print(\"Next section:\", result_exploration.next_section)\n",
    "print(\"Reasoning:\", result_exploration.reasoning)"
   ]
  },
  {
   "cell_type": "code",
   "execution_count": null,
   "metadata": {},
   "outputs": [],
   "source": [
    "#| exports\n",
    "class Assessment(dspy.Signature):\n",
    "    \"Assess if current evidence is sufficient for theme analysis.\"\n",
    "    theme: str = dspy.InputField(desc=\"Theme being analyzed\")\n",
    "    evidence_so_far: str = dspy.InputField(desc=\"All evidence collected\")\n",
    "    sections_explored: str = dspy.InputField(desc=\"Sections already checked\")\n",
    "    sufficient: bool = dspy.OutputField(desc=\"Is evidence sufficient to make conclusion?\")\n",
    "    confidence_score: float = dspy.OutputField(desc=\"Confidence in current findings (0-1)\")\n",
    "    next_priority: str = dspy.OutputField(desc=\"If continuing, what type of section to prioritize\")\n",
    "    reasoning: str = dspy.OutputField(desc=\"Why this assessment was made\")"
   ]
  },
  {
   "cell_type": "markdown",
   "metadata": {},
   "source": [
    "\n",
    "We treat observability and LLM evaluation as core requirements for our mapping pipeline. While DSPy's built-in `dspy.inspect_history()` provides valuable reasoning chains, we enhance it with structured metadata (`report_id`, `phase`, `framework`) to create comprehensive audit trails. This enriched tracing enables systematic evaluation of mapping accuracy, supports human evaluator annotation workflows, and provides the detailed context necessary for debugging and improving our LLM-based document analysis system. \n",
    "\n",
    "We define below enum and configuration classes for pipeline tracing and validation. These provide structured metadata for audit trails and evaluation."
   ]
  },
  {
   "cell_type": "code",
   "execution_count": null,
   "metadata": {},
   "outputs": [],
   "source": [
    "#| exports\n",
    "class Phase(Enum):\n",
    "    \"Pipeline phase number.\"\n",
    "    STAGE1 = \"stage1\"\n",
    "    STAGE2 = \"stage2\"\n",
    "    STAGE3 = \"stage3\"\n",
    "    def __str__(self): return self.value"
   ]
  },
  {
   "cell_type": "code",
   "execution_count": null,
   "metadata": {},
   "outputs": [],
   "source": [
    "#| exports\n",
    "class TraceContext(AttrDict):\n",
    "    \"Context for tracing the mapping process\"\n",
    "    def __init__(self, \n",
    "                 report_id:str,  # Report identifier\n",
    "                 phase:Phase,  # Pipeline phase number\n",
    "                 framework:FrameworkInfo,  # Framework info (name, category, theme_id)\n",
    "                 ): \n",
    "        # self.run_id = str(uuid.uuid4())[:8]  # Short unique ID\n",
    "        store_attr()\n",
    "\n",
    "    def __repr__(self):\n",
    "        return f\"TraceContext(report_id={self.report_id}, phase={self.phase}, framework={self.framework})\""
   ]
  },
  {
   "cell_type": "code",
   "execution_count": null,
   "metadata": {},
   "outputs": [
    {
     "data": {
      "text/markdown": [
       "```json\n",
       "TraceContext(report_id=49d2fba781b6a7c0d94577479636ee6f, phase=stage1, framework={'category': 'Enablers', 'theme_id': '4', 'name': 'SRF'})\n",
       "```"
      ],
      "text/plain": [
       "TraceContext(report_id=49d2fba781b6a7c0d94577479636ee6f, phase=stage1, framework={'category': 'Enablers', 'theme_id': '4', 'name': 'SRF'})"
      ]
     },
     "execution_count": null,
     "metadata": {},
     "output_type": "execute_result"
    }
   ],
   "source": [
    "#| eval: false\n",
    "tr_ctx = TraceContext(\n",
    "    report_id='49d2fba781b6a7c0d94577479636ee6f', \n",
    "    phase=Phase.STAGE1, \n",
    "    framework=FrameworkInfo(Framework.SRF, FrameworkCat.ENABLERS, \"4\")\n",
    "    )\n",
    "\n",
    "tr_ctx"
   ]
  },
  {
   "cell_type": "code",
   "execution_count": null,
   "metadata": {},
   "outputs": [],
   "source": [
    "#| exports\n",
    "class Synthesis(dspy.Signature):\n",
    "    \"Provide detailed rationale and synthesis of theme analysis.\"\n",
    "    trace_ctx: str = dspy.InputField(desc=\"Trace context\")\n",
    "    theme: str = dspy.InputField(desc=\"Theme being analyzed\")\n",
    "    all_evidence: str = dspy.InputField(desc=\"All collected evidence\")\n",
    "    sections_explored: str = dspy.InputField(desc=\"List of sections explored\")\n",
    "    theme_covered: bool = dspy.OutputField(desc=\"Final decision on theme coverage\")\n",
    "    confidence_explanation: str = dspy.OutputField(desc=\"Detailed explanation of confidence score\")\n",
    "    evidence_summary: str = dspy.OutputField(desc=\"Key evidence supporting the conclusion\")\n",
    "    gaps_identified: str = dspy.OutputField(desc=\"Any gaps or missing aspects\")"
   ]
  },
  {
   "cell_type": "markdown",
   "metadata": {},
   "source": [
    "## Reasoning & Acting (ReAct)"
   ]
  },
  {
   "cell_type": "markdown",
   "metadata": {},
   "source": [
    "**Why We Built a Custom Iterative Analyzer Instead of Using DSPy ReAct?**\n",
    "\n",
    "We could have leveraged DSPy's built-in [`ReAct` module](https://dspy.ai/api/modules/ReAct), which provides an agent-based approach where the LLM automatically decides when and how to use exploration tools. The \"ReAct\" concept has been introduced in [this paper](https://arxiv.org/pdf/2210.03629). However, we chose to implement our own iterative analyzer from scratch for several critical reasons:\n",
    "\n",
    "- **Open-ended vs. Structured Nature**: DSPy's ReAct is designed for open-ended problem solving where the agent explores freely using available tools. Our use case requires a more structured, methodical approach to document analysis with predictable exploration patterns.\n",
    "\n",
    "- **Document-Specific Control**: Our approach is tailored specifically for structured document exploration with hierarchical headings, allowing us to implement domain-specific logic for section navigation and content retrieval.\n",
    "\n",
    "- **Evaluator Requirements**: Since traces will be reviewed by human evaluators for error analysis, we needed explicit, step-by-step decision logging rather than the more implicit reasoning chains that ReAct provides."
   ]
  },
  {
   "cell_type": "code",
   "execution_count": null,
   "metadata": {},
   "outputs": [],
   "source": [
    "#| exports\n",
    "traces_dir = Path.home() / cfg.dirs.data / cfg.dirs.trace\n",
    "traces_dir.mkdir(parents=True, exist_ok=True)"
   ]
  },
  {
   "cell_type": "code",
   "execution_count": null,
   "metadata": {},
   "outputs": [],
   "source": [
    "#| exports\n",
    "def setup_logger(name, handler, level=logging.INFO, **kwargs):\n",
    "    \"Helper function to setup a logger with common configuration\"\n",
    "    logger = logging.getLogger(name)\n",
    "    logger.handlers.clear()\n",
    "    logger.addHandler(handler)\n",
    "    logger.setLevel(level)\n",
    "    for k,v in kwargs.items(): setattr(logger, k, v)\n",
    "    return logger"
   ]
  },
  {
   "cell_type": "code",
   "execution_count": null,
   "metadata": {},
   "outputs": [],
   "source": [
    "#| exports\n",
    "def setup_trace_logging(report_id, verbosity=cfg.verbosity):\n",
    "    \"Setup the trace logging (verbosity and report_id)\"\n",
    "    file_handler = logging.FileHandler(traces_dir / f'{report_id}.jsonl', mode='w')\n",
    "    setup_logger('trace.file', file_handler)    \n",
    "    console_handler = logging.StreamHandler()\n",
    "    setup_logger('trace.console', console_handler, verbosity=verbosity)"
   ]
  },
  {
   "cell_type": "code",
   "execution_count": null,
   "metadata": {},
   "outputs": [],
   "source": [
    "#| exports\n",
    "class ThemeAnalyzer(dspy.Module):\n",
    "    \"\"\"\n",
    "    Analyzes a theme across a document by iteratively exploring sections, collecting evidence, and synthesizing findings. \n",
    "    Uses a structured pipeline of overview -> exploration -> assessment -> synthesis.\n",
    "    \"\"\"\n",
    "    def __init__(self, \n",
    "                 overview_sig:dspy.Signature, # Overview signature\n",
    "                 exploration_sig:dspy.Signature, # Exploration signature\n",
    "                 assessment_sig:dspy.Signature, # Assessment signature\n",
    "                 synthesis_sig:dspy.Signature, # Synthesis signature\n",
    "                 trace_ctx:TraceContext, # Trace context\n",
    "                 confidence_threshold:float=0.8, # Confidence threshold\n",
    "                 max_iter:int=10, # Maximum number of iterations in the ReAct loop\n",
    "                 semaphore=None # Semaphore for rate limiting\n",
    "                 ):\n",
    "        self.overview = dspy.ChainOfThought(overview_sig)\n",
    "        self.explore = dspy.ChainOfThought(exploration_sig)\n",
    "        self.assess = dspy.ChainOfThought(assessment_sig)\n",
    "        self.synthesize = dspy.ChainOfThought(synthesis_sig)\n",
    "        self.max_iter = max_iter\n",
    "        self.trace_ctx = trace_ctx\n",
    "        self.confidence_threshold = confidence_threshold\n",
    "        self.semaphore = semaphore"
   ]
  },
  {
   "cell_type": "code",
   "execution_count": null,
   "metadata": {},
   "outputs": [],
   "source": [
    "#| exports\n",
    "@patch\n",
    "def _log_trace(self:ThemeAnalyzer, event, **extra_data):\n",
    "    file_logger = logging.getLogger('trace.file')\n",
    "    console_logger = logging.getLogger('trace.console')\n",
    "    \n",
    "    base_data = {\n",
    "        \"timestamp\": datetime.now().isoformat(),\n",
    "        \"event\": event,\n",
    "        \"report_id\": self.trace_ctx.report_id,\n",
    "        \"phase\": str(self.trace_ctx.phase),\n",
    "        \"framework\": str(self.trace_ctx.framework.name),\n",
    "        \"framework_category\": str(self.trace_ctx.framework.category),\n",
    "        \"framework_theme_id\": str(self.trace_ctx.framework.theme_id),\n",
    "    }\n",
    "    base_data.update(extra_data)\n",
    "    \n",
    "    # File logger - always full JSON\n",
    "    file_logger.info(json.dumps(base_data, indent=2))\n",
    "    \n",
    "    # Console logger - verbosity-based formatting\n",
    "    if hasattr(console_logger, 'verbosity'):\n",
    "        if console_logger.verbosity == 1:\n",
    "            console_msg = f\"{base_data['report_id']} - {base_data['phase']}\"\n",
    "        elif console_logger.verbosity == 2:\n",
    "            console_msg = f\"{base_data['report_id']} - {base_data['phase']} - {base_data['framework']} - {base_data['framework_category']} - {base_data['framework_theme_id']} - {base_data['event']}\"\n",
    "        else:  # verbosity == 3\n",
    "            console_msg = json.dumps(base_data, indent=2)\n",
    "        \n",
    "        console_logger.info(console_msg)"
   ]
  },
  {
   "cell_type": "code",
   "execution_count": null,
   "metadata": {},
   "outputs": [],
   "source": [
    "#| exports\n",
    "@patch    \n",
    "async def _rate_limited_fn(self:ThemeAnalyzer, mod, **kwargs):\n",
    "    async with self.semaphore:\n",
    "        start = time.time()\n",
    "        result = await mod.acall(**kwargs)\n",
    "        \n",
    "        # Check if cached (fast response + no usage)\n",
    "        elapsed = time.time() - start\n",
    "        if elapsed > cfg.cache.delay: await sleep(cfg.call_delay)\n",
    "        return result"
   ]
  },
  {
   "cell_type": "code",
   "execution_count": null,
   "metadata": {},
   "outputs": [],
   "source": [
    "#| exports\n",
    "@patch\n",
    "async def aforward(\n",
    "    self:ThemeAnalyzer, \n",
    "    theme: str, # The formatted theme to analyze\n",
    "    headings: dict, # The headings TOC of the document\n",
    "    get_content_fn:Callable=get_content_tool, # The function to get the content of a section using `hdgs[keys_list].text` for instance\n",
    "    ) -> Synthesis: # Synthesized analysis results including theme coverage, confidence, evidence and gaps\n",
    "    \"Executes a structured analysis process.\"\n",
    "    self._log_trace(event=\"Starting Analysis\", theme=theme)\n",
    "    priority_sections = await self.get_overview(theme, headings)\n",
    "    evidence = await self.explore_iteratively(theme, priority_sections, headings, get_content_fn)\n",
    "    return await self.synthesize_findings(theme, evidence)"
   ]
  },
  {
   "cell_type": "code",
   "execution_count": null,
   "metadata": {},
   "outputs": [],
   "source": [
    "#| exports\n",
    "@patch\n",
    "async def get_overview(\n",
    "    self:ThemeAnalyzer, \n",
    "    theme: str, # The formatted theme to analyze\n",
    "    headings: dict, # The headings TOC of the document\n",
    "    ) -> Overview:\n",
    "    \"Based on framework theme to map and report's TOC determine the sections to explore first.\"\n",
    "    overview = await self._rate_limited_fn(self.overview, theme=theme, all_headings=str(headings))\n",
    "    self._log_trace(\n",
    "        event=\"Overview\", \n",
    "        priority_sections=overview.priority_sections, \n",
    "        strategy=overview.strategy)\n",
    "    return overview.priority_sections"
   ]
  },
  {
   "cell_type": "code",
   "execution_count": null,
   "metadata": {},
   "outputs": [],
   "source": [
    "#| exports\n",
    "@patch\n",
    "async def explore_iteratively(\n",
    "    self:ThemeAnalyzer, \n",
    "    theme: str, # The formatted theme to analyze\n",
    "    priority_sections: list, # The sections to explore first\n",
    "    headings: dict, # The headings TOC of the document\n",
    "    get_content_fn: Callable, # The function to get the content of a section using `hdgs[keys_list].text` for instance\n",
    "    ) -> dict:\n",
    "    \"Iteratively explore the sections to collect evidence.\"\n",
    "    evidence_collected = []\n",
    "    sections_explored = []\n",
    "    available_sections = priority_sections.copy()\n",
    "    \n",
    "    for i in range(self.max_iter):\n",
    "        if not available_sections:\n",
    "            self._log_trace(event=\"Iterative Exploration\", iteration_nb=i+1, decision=\"No more sections to explore, stopping\")\n",
    "            break\n",
    "            \n",
    "        if await self.should_stop_exploring(theme, evidence_collected, sections_explored):   \n",
    "            break\n",
    "        \n",
    "        decision = await self.make_exploration_decision(theme, evidence_collected, available_sections)\n",
    "        self._log_trace(\n",
    "            event=\"Iterative Exploration\", \n",
    "            iteration_nb=i+1, \n",
    "            decision=decision.next_section, \n",
    "            reasoning=decision.reasoning)\n",
    "        \n",
    "        if decision.next_section == 'DONE':\n",
    "            self._log_trace(event=\"Iterative Exploration\", iteration_nb=i+1, decision=\"Done\")\n",
    "            break\n",
    "        \n",
    "        evidence_collected, sections_explored = self.process_section(decision, \n",
    "                                                                     headings, \n",
    "                                                                     get_content_fn, \n",
    "                                                                     evidence_collected, \n",
    "                                                                     sections_explored, \n",
    "                                                                     available_sections)\n",
    "    \n",
    "    return {\"evidence\": evidence_collected, \"sections\": sections_explored}\n"
   ]
  },
  {
   "cell_type": "code",
   "execution_count": null,
   "metadata": {},
   "outputs": [],
   "source": [
    "#| exports\n",
    "@patch\n",
    "async def make_exploration_decision(\n",
    "    self:ThemeAnalyzer, \n",
    "    theme: str, # The formatted theme to analyze\n",
    "    evidence_collected: list, # The evidence collected so far\n",
    "    available_sections: list # The sections to explore\n",
    "    ):    \n",
    "    \"Make a decision on the next section to explore.\"\n",
    "    decision = await self._rate_limited_fn(\n",
    "        self.explore, \n",
    "        theme=theme, \n",
    "        current_findings=\"\\n\\n\".join(evidence_collected) if evidence_collected else \"No evidence collected yet\", available_sections=str(available_sections))\n",
    "    \n",
    "    return decision\n"
   ]
  },
  {
   "cell_type": "code",
   "execution_count": null,
   "metadata": {},
   "outputs": [],
   "source": [
    "#| exports\n",
    "@patch\n",
    "async def should_stop_exploring(\n",
    "    self:ThemeAnalyzer, \n",
    "    theme: str, # The formatted theme to analyze\n",
    "    evidence_collected: list, # The evidence collected so far\n",
    "    sections_explored: list # The sections explored so far\n",
    "    ):\n",
    "    \"Check if the exploration should stop based on the evidence collected and the sections explored.\"\n",
    "    if not evidence_collected:\n",
    "        return False\n",
    "    assessment = await self._rate_limited_fn(\n",
    "        self.assess, \n",
    "        theme=theme,\n",
    "        evidence_so_far=\"\\n\\n\".join(evidence_collected),\n",
    "        sections_explored=str(sections_explored)\n",
    "    )\n",
    "    \n",
    "    self._log_trace(\n",
    "        \"Should stop exploring\", \n",
    "        assessment=assessment.sufficient, \n",
    "        confidence=assessment.confidence_score,\n",
    "        reasoning=assessment.reasoning\n",
    "        )\n",
    "    \n",
    "    return assessment.sufficient and assessment.confidence_score > self.confidence_threshold"
   ]
  },
  {
   "cell_type": "code",
   "execution_count": null,
   "metadata": {},
   "outputs": [],
   "source": [
    "#| exports\n",
    "@patch\n",
    "def process_section(self:ThemeAnalyzer, decision, headings, get_content_fn, evidence_collected, sections_explored, available_sections):\n",
    "    path = find_section_path(headings, decision.next_section)\n",
    "    \n",
    "    if path:\n",
    "        content = get_content_fn(headings, path)\n",
    "        evidence_collected.append(f\"# Section: {decision.next_section}\\n## Content\\n{content}\")\n",
    "        sections_explored.append(decision.next_section)\n",
    "        if decision.next_section in available_sections:\n",
    "            available_sections.remove(decision.next_section)\n",
    "    else:\n",
    "        # No path found for section! TBD\n",
    "        pass\n",
    "    \n",
    "    return evidence_collected, sections_explored"
   ]
  },
  {
   "cell_type": "code",
   "execution_count": null,
   "metadata": {},
   "outputs": [],
   "source": [
    "#| exports\n",
    "@patch\n",
    "async def synthesize_findings(self:ThemeAnalyzer, theme, evidence):\n",
    "    synthesis = await self._rate_limited_fn(\n",
    "        self.synthesize, \n",
    "        trace_ctx=str(self.trace_ctx),\n",
    "        theme=theme,\n",
    "        all_evidence=\"\\n\\n\".join(evidence[\"evidence\"]),\n",
    "        sections_explored=str(evidence[\"sections\"])\n",
    "    )\n",
    "    \n",
    "    self._log_trace(\"Synthesis\", \n",
    "                    theme=theme, \n",
    "                    reasoning=synthesis.reasoning,\n",
    "                    theme_covered=synthesis.theme_covered,\n",
    "                    confidence_explanation=synthesis.confidence_explanation,\n",
    "                    evidence_summary=synthesis.evidence_summary,\n",
    "                    gaps_identified=synthesis.gaps_identified\n",
    "                    )\n",
    "    \n",
    "    synthesis.framework_name = self.trace_ctx.framework.name\n",
    "    synthesis.framework_category = self.trace_ctx.framework.category  \n",
    "    synthesis.framework_theme_id = self.trace_ctx.framework.theme_id\n",
    "    return synthesis"
   ]
  },
  {
   "cell_type": "markdown",
   "metadata": {},
   "source": [
    "To use it:"
   ]
  },
  {
   "cell_type": "markdown",
   "metadata": {},
   "source": [
    "#### Single theme"
   ]
  },
  {
   "cell_type": "markdown",
   "metadata": {},
   "source": [
    "Setup the trace logging (verbosity and report_id):"
   ]
  },
  {
   "cell_type": "code",
   "execution_count": null,
   "metadata": {},
   "outputs": [],
   "source": [
    "#| eval: false\n",
    "setup_trace_logging(report_id=\"49d2fba781b6a7c0d94577479636ee6f\", verbosity=2)"
   ]
  },
  {
   "cell_type": "code",
   "execution_count": null,
   "metadata": {},
   "outputs": [],
   "source": [
    "#| eval: false\n",
    "# Number of concurrent requests to the LM to avoid rate limiting\n",
    "stage1_semaphore = Semaphore(3)"
   ]
  },
  {
   "cell_type": "markdown",
   "metadata": {},
   "source": [
    "Create the analyzer:"
   ]
  },
  {
   "cell_type": "code",
   "execution_count": null,
   "metadata": {},
   "outputs": [
    {
     "data": {
      "text/html": [
       "<pre style=\"white-space:pre;overflow-x:auto;line-height:normal;font-family:Menlo,'DejaVu Sans Mono',consolas,'Courier New',monospace\">Trace Context:\n",
       "<span style=\"color: #800080; text-decoration-color: #800080; font-weight: bold\">TraceContext</span><span style=\"font-weight: bold\">(</span><span style=\"color: #808000; text-decoration-color: #808000\">report_id</span>=<span style=\"color: #800080; text-decoration-color: #800080\">49d2fba781b6a7c0d94577479636ee6f</span>, <span style=\"color: #808000; text-decoration-color: #808000\">phase</span>=<span style=\"color: #800080; text-decoration-color: #800080\">stage1</span>, <span style=\"color: #808000; text-decoration-color: #808000\">framework</span>=<span style=\"font-weight: bold\">{</span><span style=\"color: #008000; text-decoration-color: #008000\">'category'</span>: <span style=\"color: #008000; text-decoration-color: #008000\">'Enablers'</span>, \n",
       "<span style=\"color: #008000; text-decoration-color: #008000\">'theme_id'</span>: <span style=\"color: #008000; text-decoration-color: #008000\">'4'</span>, <span style=\"color: #008000; text-decoration-color: #008000\">'name'</span>: <span style=\"color: #008000; text-decoration-color: #008000\">'SRF'</span><span style=\"font-weight: bold\">})</span>\n",
       "</pre>\n"
      ],
      "text/plain": [
       "Trace Context:\n",
       "\u001b[1;35mTraceContext\u001b[0m\u001b[1m(\u001b[0m\u001b[33mreport_id\u001b[0m=\u001b[35m49d2fba781b6a7c0d94577479636ee6f\u001b[0m, \u001b[33mphase\u001b[0m=\u001b[35mstage1\u001b[0m, \u001b[33mframework\u001b[0m=\u001b[1m{\u001b[0m\u001b[32m'category'\u001b[0m: \u001b[32m'Enablers'\u001b[0m, \n",
       "\u001b[32m'theme_id'\u001b[0m: \u001b[32m'4'\u001b[0m, \u001b[32m'name'\u001b[0m: \u001b[32m'SRF'\u001b[0m\u001b[1m}\u001b[0m\u001b[1m)\u001b[0m\n"
      ]
     },
     "metadata": {},
     "output_type": "display_data"
    },
    {
     "data": {
      "text/html": [
       "<pre style=\"white-space:pre;overflow-x:auto;line-height:normal;font-family:Menlo,'DejaVu Sans Mono',consolas,'Courier New',monospace\">Test theme:\n",
       "## Enabler <span style=\"color: #008080; text-decoration-color: #008080; font-weight: bold\">4</span>: Data and evidence\n",
       "### Description\n",
       "IOM will be the pre-eminent source of migration and displacement data for action, which help save lives and deliver\n",
       "solutions; data for insight, which help facilitate regular migration pathways; and data for foresight, which help \n",
       "drive anticipatory action. IOM will have the systems and data fluency to collect, safely store, analyze, share and \n",
       "apply disaggregated data and evidence across the mobility spectrum. Our extensive data and research repositories \n",
       "will underpin evidence-based policies and practices. Data will be central to the internal decision-making and \n",
       "management of the Organization.\n",
       "</pre>\n"
      ],
      "text/plain": [
       "Test theme:\n",
       "## Enabler \u001b[1;36m4\u001b[0m: Data and evidence\n",
       "### Description\n",
       "IOM will be the pre-eminent source of migration and displacement data for action, which help save lives and deliver\n",
       "solutions; data for insight, which help facilitate regular migration pathways; and data for foresight, which help \n",
       "drive anticipatory action. IOM will have the systems and data fluency to collect, safely store, analyze, share and \n",
       "apply disaggregated data and evidence across the mobility spectrum. Our extensive data and research repositories \n",
       "will underpin evidence-based policies and practices. Data will be central to the internal decision-making and \n",
       "management of the Organization.\n"
      ]
     },
     "metadata": {},
     "output_type": "display_data"
    }
   ],
   "source": [
    "#| eval: false\n",
    "print(f\"Trace Context:\\n{tr_ctx}\")\n",
    "theme = format_enabler_theme(eval_data.srf_enablers[3])  # \"Data and evidence\"\n",
    "print(f\"Test theme:\\n{theme}\")\n",
    "analyzer = ThemeAnalyzer(Overview, Exploration, Assessment, Synthesis, tr_ctx, semaphore=stage1_semaphore)"
   ]
  },
  {
   "cell_type": "markdown",
   "metadata": {},
   "source": [
    "Then analyze the framework's theme of choice:"
   ]
  },
  {
   "cell_type": "code",
   "execution_count": null,
   "metadata": {},
   "outputs": [
    {
     "name": "stderr",
     "output_type": "stream",
     "text": [
      "49d2fba781b6a7c0d94577479636ee6f - stage1 - SRF - Enablers - 4 - Starting Analysis\n",
      "49d2fba781b6a7c0d94577479636ee6f - stage1 - SRF - Enablers - 4 - Overview\n",
      "49d2fba781b6a7c0d94577479636ee6f - stage1 - SRF - Enablers - 4 - Iterative Exploration\n",
      "49d2fba781b6a7c0d94577479636ee6f - stage1 - SRF - Enablers - 4 - Should stop exploring\n",
      "49d2fba781b6a7c0d94577479636ee6f - stage1 - SRF - Enablers - 4 - Iterative Exploration\n",
      "49d2fba781b6a7c0d94577479636ee6f - stage1 - SRF - Enablers - 4 - Should stop exploring\n",
      "49d2fba781b6a7c0d94577479636ee6f - stage1 - SRF - Enablers - 4 - Iterative Exploration\n",
      "49d2fba781b6a7c0d94577479636ee6f - stage1 - SRF - Enablers - 4 - Should stop exploring\n",
      "49d2fba781b6a7c0d94577479636ee6f - stage1 - SRF - Enablers - 4 - Iterative Exploration\n",
      "49d2fba781b6a7c0d94577479636ee6f - stage1 - SRF - Enablers - 4 - Should stop exploring\n",
      "49d2fba781b6a7c0d94577479636ee6f - stage1 - SRF - Enablers - 4 - Iterative Exploration\n",
      "49d2fba781b6a7c0d94577479636ee6f - stage1 - SRF - Enablers - 4 - Should stop exploring\n",
      "49d2fba781b6a7c0d94577479636ee6f - stage1 - SRF - Enablers - 4 - Iterative Exploration\n",
      "49d2fba781b6a7c0d94577479636ee6f - stage1 - SRF - Enablers - 4 - Iterative Exploration\n",
      "49d2fba781b6a7c0d94577479636ee6f - stage1 - SRF - Enablers - 4 - Synthesis\n"
     ]
    }
   ],
   "source": [
    "#| eval: false\n",
    "result = await analyzer.acall(theme, hdgs, get_content_tool)"
   ]
  },
  {
   "cell_type": "markdown",
   "metadata": {},
   "source": [
    "#### Multiple themes in parallel"
   ]
  },
  {
   "cell_type": "code",
   "execution_count": null,
   "metadata": {},
   "outputs": [],
   "source": [
    "#| eval: false\n",
    "setup_trace_logging(report_id=\"49d2fba781b6a7c0d94577479636ee6f\", verbosity=2)"
   ]
  },
  {
   "cell_type": "markdown",
   "metadata": {},
   "source": [
    "Let's use two SRF enablers:"
   ]
  },
  {
   "cell_type": "code",
   "execution_count": null,
   "metadata": {},
   "outputs": [
    {
     "data": {
      "text/html": [
       "<pre style=\"white-space:pre;overflow-x:auto;line-height:normal;font-family:Menlo,'DejaVu Sans Mono',consolas,'Courier New',monospace\"><span style=\"color: #800080; text-decoration-color: #800080; font-weight: bold\">TraceContext</span><span style=\"font-weight: bold\">(</span><span style=\"color: #808000; text-decoration-color: #808000\">report_id</span>=<span style=\"color: #800080; text-decoration-color: #800080\">49d2fba781b6a7c0d94577479636ee6f</span>, <span style=\"color: #808000; text-decoration-color: #808000\">phase</span>=<span style=\"color: #800080; text-decoration-color: #800080\">stage1</span>, <span style=\"color: #808000; text-decoration-color: #808000\">framework</span>=<span style=\"font-weight: bold\">{</span><span style=\"color: #008000; text-decoration-color: #008000\">'category'</span>: <span style=\"color: #008000; text-decoration-color: #008000\">'Enablers'</span>, \n",
       "<span style=\"color: #008000; text-decoration-color: #008000\">'theme_id'</span>: <span style=\"color: #008000; text-decoration-color: #008000\">'1'</span>, <span style=\"color: #008000; text-decoration-color: #008000\">'name'</span>: <span style=\"color: #008000; text-decoration-color: #008000\">'SRF'</span><span style=\"font-weight: bold\">})</span>\n",
       "<span style=\"color: #800080; text-decoration-color: #800080; font-weight: bold\">TraceContext</span><span style=\"font-weight: bold\">(</span><span style=\"color: #808000; text-decoration-color: #808000\">report_id</span>=<span style=\"color: #800080; text-decoration-color: #800080\">49d2fba781b6a7c0d94577479636ee6f</span>, <span style=\"color: #808000; text-decoration-color: #808000\">phase</span>=<span style=\"color: #800080; text-decoration-color: #800080\">stage1</span>, <span style=\"color: #808000; text-decoration-color: #808000\">framework</span>=<span style=\"font-weight: bold\">{</span><span style=\"color: #008000; text-decoration-color: #008000\">'category'</span>: <span style=\"color: #008000; text-decoration-color: #008000\">'Enablers'</span>, \n",
       "<span style=\"color: #008000; text-decoration-color: #008000\">'theme_id'</span>: <span style=\"color: #008000; text-decoration-color: #008000\">'4'</span>, <span style=\"color: #008000; text-decoration-color: #008000\">'name'</span>: <span style=\"color: #008000; text-decoration-color: #008000\">'SRF'</span><span style=\"font-weight: bold\">})</span>\n",
       "</pre>\n"
      ],
      "text/plain": [
       "\u001b[1;35mTraceContext\u001b[0m\u001b[1m(\u001b[0m\u001b[33mreport_id\u001b[0m=\u001b[35m49d2fba781b6a7c0d94577479636ee6f\u001b[0m, \u001b[33mphase\u001b[0m=\u001b[35mstage1\u001b[0m, \u001b[33mframework\u001b[0m=\u001b[1m{\u001b[0m\u001b[32m'category'\u001b[0m: \u001b[32m'Enablers'\u001b[0m, \n",
       "\u001b[32m'theme_id'\u001b[0m: \u001b[32m'1'\u001b[0m, \u001b[32m'name'\u001b[0m: \u001b[32m'SRF'\u001b[0m\u001b[1m}\u001b[0m\u001b[1m)\u001b[0m\n",
       "\u001b[1;35mTraceContext\u001b[0m\u001b[1m(\u001b[0m\u001b[33mreport_id\u001b[0m=\u001b[35m49d2fba781b6a7c0d94577479636ee6f\u001b[0m, \u001b[33mphase\u001b[0m=\u001b[35mstage1\u001b[0m, \u001b[33mframework\u001b[0m=\u001b[1m{\u001b[0m\u001b[32m'category'\u001b[0m: \u001b[32m'Enablers'\u001b[0m, \n",
       "\u001b[32m'theme_id'\u001b[0m: \u001b[32m'4'\u001b[0m, \u001b[32m'name'\u001b[0m: \u001b[32m'SRF'\u001b[0m\u001b[1m}\u001b[0m\u001b[1m)\u001b[0m\n"
      ]
     },
     "metadata": {},
     "output_type": "display_data"
    }
   ],
   "source": [
    "#| eval: false\n",
    "tr_ctx1 = TraceContext(\n",
    "    report_id='49d2fba781b6a7c0d94577479636ee6f', \n",
    "    phase=Phase.STAGE1, \n",
    "    framework=FrameworkInfo(Framework.SRF, FrameworkCat.ENABLERS, \"1\")\n",
    ")\n",
    "tr_ctx2 = TraceContext(\n",
    "    report_id='49d2fba781b6a7c0d94577479636ee6f', \n",
    "    phase=Phase.STAGE1, \n",
    "    framework=FrameworkInfo(Framework.SRF, FrameworkCat.ENABLERS, \"4\")\n",
    "    )   \n",
    "print(tr_ctx1, tr_ctx2)"
   ]
  },
  {
   "cell_type": "markdown",
   "metadata": {},
   "source": [
    "Create analyzers with shared semaphore:"
   ]
  },
  {
   "cell_type": "code",
   "execution_count": null,
   "metadata": {},
   "outputs": [],
   "source": [
    "#| eval: false\n",
    "stage_semaphore = Semaphore(3)\n",
    "analyzer1 = ThemeAnalyzer(Overview, Exploration, Assessment, Synthesis, tr_ctx1,semaphore=stage_semaphore)\n",
    "analyzer2 = ThemeAnalyzer(Overview, Exploration, Assessment, Synthesis, tr_ctx2,semaphore=stage_semaphore)"
   ]
  },
  {
   "cell_type": "code",
   "execution_count": null,
   "metadata": {},
   "outputs": [
    {
     "data": {
      "text/html": [
       "<pre style=\"white-space:pre;overflow-x:auto;line-height:normal;font-family:Menlo,'DejaVu Sans Mono',consolas,'Courier New',monospace\">Theme <span style=\"color: #008080; text-decoration-color: #008080; font-weight: bold\">1</span>:\n",
       "## Enabler <span style=\"color: #008080; text-decoration-color: #008080; font-weight: bold\">1</span>: Workforce\n",
       "### Description\n",
       "IOM’s diverse and capable people are our most valued asset. Through investing in better workforce planning and \n",
       "people management, we will facilitate their professional development and improve their daily workplace experience. \n",
       "IOM will have flexible systems and procedures in place to ensure it can adapt to the future of work while ensuring \n",
       "the safety, security and well-being of its staff. IOM will strengthen its security posture and foster an inclusive \n",
       "and enabling work environment. Our leadership will have the ability to connect, motivate and inspire a sense of our\n",
       "shared vision and values.\n",
       "\n",
       "Theme <span style=\"color: #008080; text-decoration-color: #008080; font-weight: bold\">2</span>:\n",
       "## Enabler <span style=\"color: #008080; text-decoration-color: #008080; font-weight: bold\">4</span>: Data and evidence\n",
       "### Description\n",
       "IOM will be the pre-eminent source of migration and displacement data for action, which help save lives and deliver\n",
       "solutions; data for insight, which help facilitate regular migration pathways; and data for foresight, which help \n",
       "drive anticipatory action. IOM will have the systems and data fluency to collect, safely store, analyze, share and \n",
       "apply disaggregated data and evidence across the mobility spectrum. Our extensive data and research repositories \n",
       "will underpin evidence-based policies and practices. Data will be central to the internal decision-making and \n",
       "management of the Organization.\n",
       "</pre>\n"
      ],
      "text/plain": [
       "Theme \u001b[1;36m1\u001b[0m:\n",
       "## Enabler \u001b[1;36m1\u001b[0m: Workforce\n",
       "### Description\n",
       "IOM’s diverse and capable people are our most valued asset. Through investing in better workforce planning and \n",
       "people management, we will facilitate their professional development and improve their daily workplace experience. \n",
       "IOM will have flexible systems and procedures in place to ensure it can adapt to the future of work while ensuring \n",
       "the safety, security and well-being of its staff. IOM will strengthen its security posture and foster an inclusive \n",
       "and enabling work environment. Our leadership will have the ability to connect, motivate and inspire a sense of our\n",
       "shared vision and values.\n",
       "\n",
       "Theme \u001b[1;36m2\u001b[0m:\n",
       "## Enabler \u001b[1;36m4\u001b[0m: Data and evidence\n",
       "### Description\n",
       "IOM will be the pre-eminent source of migration and displacement data for action, which help save lives and deliver\n",
       "solutions; data for insight, which help facilitate regular migration pathways; and data for foresight, which help \n",
       "drive anticipatory action. IOM will have the systems and data fluency to collect, safely store, analyze, share and \n",
       "apply disaggregated data and evidence across the mobility spectrum. Our extensive data and research repositories \n",
       "will underpin evidence-based policies and practices. Data will be central to the internal decision-making and \n",
       "management of the Organization.\n"
      ]
     },
     "metadata": {},
     "output_type": "display_data"
    }
   ],
   "source": [
    "#| eval: false\n",
    "theme1 = format_enabler_theme(eval_data.srf_enablers[0]) # Workforce\n",
    "theme2 = format_enabler_theme(eval_data.srf_enablers[3]) # Data and evidence\n",
    "print(f\"Theme 1:\\n{theme1}\\n\\nTheme 2:\\n{theme2}\")"
   ]
  },
  {
   "cell_type": "code",
   "execution_count": null,
   "metadata": {},
   "outputs": [
    {
     "name": "stderr",
     "output_type": "stream",
     "text": [
      "49d2fba781b6a7c0d94577479636ee6f - stage1 - SRF - Enablers - 1 - Starting Analysis\n",
      "49d2fba781b6a7c0d94577479636ee6f - stage1 - SRF - Enablers - 1 - Overview\n",
      "49d2fba781b6a7c0d94577479636ee6f - stage1 - SRF - Enablers - 1 - Iterative Exploration\n",
      "49d2fba781b6a7c0d94577479636ee6f - stage1 - SRF - Enablers - 1 - Should stop exploring\n",
      "49d2fba781b6a7c0d94577479636ee6f - stage1 - SRF - Enablers - 1 - Iterative Exploration\n",
      "49d2fba781b6a7c0d94577479636ee6f - stage1 - SRF - Enablers - 1 - Iterative Exploration\n",
      "49d2fba781b6a7c0d94577479636ee6f - stage1 - SRF - Enablers - 1 - Synthesis\n",
      "49d2fba781b6a7c0d94577479636ee6f - stage1 - SRF - Enablers - 4 - Starting Analysis\n",
      "49d2fba781b6a7c0d94577479636ee6f - stage1 - SRF - Enablers - 4 - Overview\n",
      "49d2fba781b6a7c0d94577479636ee6f - stage1 - SRF - Enablers - 4 - Iterative Exploration\n",
      "49d2fba781b6a7c0d94577479636ee6f - stage1 - SRF - Enablers - 4 - Should stop exploring\n",
      "49d2fba781b6a7c0d94577479636ee6f - stage1 - SRF - Enablers - 4 - Iterative Exploration\n",
      "49d2fba781b6a7c0d94577479636ee6f - stage1 - SRF - Enablers - 4 - Should stop exploring\n",
      "49d2fba781b6a7c0d94577479636ee6f - stage1 - SRF - Enablers - 4 - Iterative Exploration\n",
      "49d2fba781b6a7c0d94577479636ee6f - stage1 - SRF - Enablers - 4 - Should stop exploring\n",
      "49d2fba781b6a7c0d94577479636ee6f - stage1 - SRF - Enablers - 4 - Iterative Exploration\n",
      "49d2fba781b6a7c0d94577479636ee6f - stage1 - SRF - Enablers - 4 - Should stop exploring\n",
      "49d2fba781b6a7c0d94577479636ee6f - stage1 - SRF - Enablers - 4 - Iterative Exploration\n",
      "49d2fba781b6a7c0d94577479636ee6f - stage1 - SRF - Enablers - 4 - Should stop exploring\n",
      "49d2fba781b6a7c0d94577479636ee6f - stage1 - SRF - Enablers - 4 - Iterative Exploration\n",
      "49d2fba781b6a7c0d94577479636ee6f - stage1 - SRF - Enablers - 4 - Iterative Exploration\n",
      "49d2fba781b6a7c0d94577479636ee6f - stage1 - SRF - Enablers - 4 - Synthesis\n"
     ]
    }
   ],
   "source": [
    "#| eval: false\n",
    "results = await gather(\n",
    "    analyzer1.acall(theme1, hdgs, get_content_tool),\n",
    "    analyzer2.acall(theme2, hdgs, get_content_tool)\n",
    ")"
   ]
  },
  {
   "cell_type": "code",
   "execution_count": null,
   "metadata": {},
   "outputs": [
    {
     "data": {
      "text/plain": [
       "[Prediction(\n",
       "     reasoning='The provided evidence touches upon several aspects related to the \"Workforce\" enabler theme. The evaluation highlights capacity building efforts for stakeholders, increased data availability for policymaking, and the importance of IOM\\'s work in supporting migrants and returnees. The recommendations also emphasize the need to enhance capacity and ownership among national, regional, and local stakeholders, as well as building partnerships with service providers. While the evidence doesn\\'t directly address internal IOM workforce development, the focus on capacity building of external stakeholders and the need for continued support suggests an indirect link to the theme. The discussion of staff turnover impacting capacity building also hints at workforce-related challenges. However, the primary focus is on external stakeholders rather than IOM\\'s internal workforce. Therefore, while there are tangential connections, the evidence doesn\\'t fully cover the theme.',\n",
       "     theme_covered=False,\n",
       "     confidence_explanation='My confidence is moderate (60%) because the evidence primarily focuses on external stakeholders and the impact of the Joint Initiative on them. While there are mentions of capacity building and staff turnover, these are in the context of external partners, not IOM\\'s internal workforce. The core aspects of the \"Workforce\" theme, such as internal professional development, workplace experience, and staff well-being, are not directly addressed.',\n",
       "     evidence_summary=\"The evidence highlights:\\n*   Capacity building efforts for stakeholders involved in return and reintegration.\\n*   Increased data availability for policymaking.\\n*   The importance of IOM's work in supporting migrants and returnees.\\n*   Recommendations to enhance capacity and ownership among stakeholders.\\n*   Challenges related to staff turnover impacting capacity building.\",\n",
       "     gaps_identified=\"The main gaps are:\\n*   Lack of direct evidence on IOM's internal workforce development initiatives.\\n*   Absence of information on improving the daily workplace experience for IOM staff.\\n*   No discussion of flexible systems and procedures to adapt to the future of work within IOM.\\n*   Limited information on fostering an inclusive and enabling work environment within IOM.\\n*   No specific details on leadership's ability to connect, motivate, and inspire IOM staff.\",\n",
       "     framework_name='SRF',\n",
       "     framework_category='Enablers',\n",
       "     framework_theme_id='1'\n",
       " ),\n",
       " Prediction(\n",
       "     reasoning='The evaluation report provides substantial evidence related to the theme of \"Data and evidence.\" Specific Objective 1 focuses on strengthening evidence-based return and reintegration procedures through data development, collection, training, and dialogue. The report highlights the progress made in data availability, exceeding targets for field studies and research. It also acknowledges challenges in using data for policymaking due to factors like staff turnover and financial constraints. The report further emphasizes the importance of the Regional Data Hub and its contributions to data production and capacity building. The recommendations also highlight the importance of continuing to test and adjust tools to measure reintegration sustainability and conducting additional impact evaluations on key elements of AVRR. Overall, the evidence strongly supports the coverage of this theme.',\n",
       "     theme_covered=True,\n",
       "     confidence_explanation='Confidence is high (90%) due to the direct and explicit discussion of data availability, data collection methodologies, and the use of data in policymaking within the evaluation report. The report provides specific examples, targets, and stakeholder perspectives, strengthening the assessment. The recommendations also reinforce the importance of data and evidence in improving migrant protection, return, and reintegration programming.',\n",
       "     evidence_summary=\"Key evidence includes:\\n*   The JI exceeded targets for the number of field studies and research conducted.\\n*   Stakeholders reported increased knowledge on return and reintegration issues.\\n*   136 stakeholders reported that data produced supported evidence-based policies.\\n*   The Regional Data Hub's work was appreciated for enhancing knowledge on migration.\\n*   Recommendations emphasize continued investment in impact studies and data collection.\",\n",
       "     gaps_identified=\"While the report highlights the progress in data availability and capacity building, it also identifies gaps in the effective use of data for policymaking due to staff turnover, financial constraints, and other contextual factors. The report also mentions the need for continued support in capacity building and socio-economic development to ensure the sustainability of data-driven initiatives. Further exploration of the specific types of data collected, the methodologies used, and the impact of data-driven policies could provide a more comprehensive understanding of the theme's coverage.\",\n",
       "     framework_name='SRF',\n",
       "     framework_category='Enablers',\n",
       "     framework_theme_id='4'\n",
       " )]"
      ]
     },
     "execution_count": null,
     "metadata": {},
     "output_type": "execute_result"
    }
   ],
   "source": [
    "#| eval: false\n",
    "results"
   ]
  },
  {
   "cell_type": "markdown",
   "metadata": {},
   "source": [
    "## Pipeline Orchestrator"
   ]
  },
  {
   "cell_type": "code",
   "execution_count": null,
   "metadata": {},
   "outputs": [],
   "source": [
    "#| exports\n",
    "class PipelineResults(dict):\n",
    "    def __init__(self):\n",
    "        super().__init__()\n",
    "        self[Phase.STAGE1] = defaultdict(lambda: defaultdict(dict))\n",
    "        self[Phase.STAGE2] = defaultdict(lambda: defaultdict(dict))\n",
    "        self[Phase.STAGE3] = defaultdict(lambda: defaultdict(dict))"
   ]
  },
  {
   "cell_type": "code",
   "execution_count": null,
   "metadata": {},
   "outputs": [],
   "source": [
    "#| exports\n",
    "@patch\n",
    "def __call__(self:PipelineResults, stage=Phase.STAGE1, filter_type=\"all\"):\n",
    "    themes = []\n",
    "    for frameworks in self[stage].values():\n",
    "        for categories in frameworks.values():\n",
    "            for theme in categories.values():\n",
    "                if filter_type == \"all\" or \\\n",
    "                   (filter_type == \"covered\" and theme.theme_covered) or \\\n",
    "                   (filter_type == \"uncovered\" and not theme.theme_covered):\n",
    "                    themes.append(theme)\n",
    "    return themes"
   ]
  },
  {
   "cell_type": "code",
   "execution_count": null,
   "metadata": {},
   "outputs": [],
   "source": [
    "#| exports\n",
    "class PipelineOrchestrator:\n",
    "    \"Orchestrator for the IOM evaluation report mapping pipeline\"\n",
    "    def __init__(self, \n",
    "                 report_id:str, # Report identifier\n",
    "                 headings:dict, # Report headings\n",
    "                 get_content_fn:Callable, # Function to get the content of a section\n",
    "                 eval_data:EvalData, # Evaluation data\n",
    "                 verbosity:int=2, # Verbosity level\n",
    "                 ):\n",
    "        store_attr()\n",
    "        setup_trace_logging(report_id, verbosity)\n",
    "        self.results = PipelineResults()"
   ]
  },
  {
   "cell_type": "code",
   "execution_count": null,
   "metadata": {},
   "outputs": [],
   "source": [
    "#| exports\n",
    "@patch\n",
    "async def run_stage1(self:PipelineOrchestrator, semaphore):\n",
    "    \"Run stage 1 of the pipeline\"\n",
    "    analyzers = []\n",
    "    \n",
    "    collections = [\n",
    "        (self.eval_data.srf_enablers, FrameworkCat.ENABLERS, format_enabler_theme),\n",
    "        (self.eval_data.srf_crosscutting_priorities, FrameworkCat.CROSSCUT, format_crosscutting_theme)\n",
    "    ]\n",
    "\n",
    "    for items, framework_cat, format_fn in collections:\n",
    "        for item in items:\n",
    "            trace_ctx = TraceContext(self.report_id, Phase.STAGE1, FrameworkInfo(Framework.SRF, framework_cat, item.id))\n",
    "            theme = format_fn(item)\n",
    "            analyzer = ThemeAnalyzer(Overview, Exploration, Assessment, Synthesis, trace_ctx, semaphore=semaphore)\n",
    "            analyzers.append((analyzer, theme))\n",
    "\n",
    "    results = await gather(*[analyzer.acall(theme, self.headings, self.get_content_fn) \n",
    "                             for analyzer, theme in analyzers])\n",
    "    for result in results: \n",
    "        self.results[Phase.STAGE1][result.framework_name][result.framework_category][result.framework_theme_id] = result"
   ]
  },
  {
   "cell_type": "code",
   "execution_count": null,
   "metadata": {},
   "outputs": [],
   "source": [
    "#| eval: false\n",
    "report_id = \"49d2fba781b6a7c0d94577479636ee6f\"\n",
    "hdgs = create_heading_dict(report)\n",
    "get_content_fn = get_content_tool\n",
    "eval_data = IOMEvalData()\n",
    "\n",
    "orchestrator = PipelineOrchestrator(report_id, hdgs, get_content_fn, eval_data)"
   ]
  },
  {
   "cell_type": "code",
   "execution_count": null,
   "metadata": {},
   "outputs": [
    {
     "name": "stderr",
     "output_type": "stream",
     "text": [
      "49d2fba781b6a7c0d94577479636ee6f - stage1 - SRF - Enablers - 1 - Starting Analysis\n",
      "49d2fba781b6a7c0d94577479636ee6f - stage1 - SRF - Enablers - 1 - Overview\n",
      "49d2fba781b6a7c0d94577479636ee6f - stage1 - SRF - Enablers - 1 - Iterative Exploration\n",
      "49d2fba781b6a7c0d94577479636ee6f - stage1 - SRF - Enablers - 1 - Should stop exploring\n",
      "49d2fba781b6a7c0d94577479636ee6f - stage1 - SRF - Enablers - 1 - Iterative Exploration\n",
      "49d2fba781b6a7c0d94577479636ee6f - stage1 - SRF - Enablers - 1 - Iterative Exploration\n",
      "49d2fba781b6a7c0d94577479636ee6f - stage1 - SRF - Enablers - 1 - Synthesis\n",
      "49d2fba781b6a7c0d94577479636ee6f - stage1 - SRF - Enablers - 2 - Starting Analysis\n",
      "49d2fba781b6a7c0d94577479636ee6f - stage1 - SRF - Enablers - 2 - Overview\n",
      "49d2fba781b6a7c0d94577479636ee6f - stage1 - SRF - Enablers - 2 - Iterative Exploration\n",
      "49d2fba781b6a7c0d94577479636ee6f - stage1 - SRF - Enablers - 2 - Should stop exploring\n",
      "49d2fba781b6a7c0d94577479636ee6f - stage1 - SRF - Enablers - 2 - Iterative Exploration\n",
      "49d2fba781b6a7c0d94577479636ee6f - stage1 - SRF - Enablers - 2 - Should stop exploring\n",
      "49d2fba781b6a7c0d94577479636ee6f - stage1 - SRF - Enablers - 2 - Iterative Exploration\n",
      "49d2fba781b6a7c0d94577479636ee6f - stage1 - SRF - Enablers - 2 - Should stop exploring\n",
      "49d2fba781b6a7c0d94577479636ee6f - stage1 - SRF - Enablers - 2 - Iterative Exploration\n",
      "49d2fba781b6a7c0d94577479636ee6f - stage1 - SRF - Enablers - 2 - Iterative Exploration\n",
      "49d2fba781b6a7c0d94577479636ee6f - stage1 - SRF - Enablers - 2 - Synthesis\n",
      "49d2fba781b6a7c0d94577479636ee6f - stage1 - SRF - Enablers - 3 - Starting Analysis\n",
      "49d2fba781b6a7c0d94577479636ee6f - stage1 - SRF - Enablers - 3 - Overview\n",
      "49d2fba781b6a7c0d94577479636ee6f - stage1 - SRF - Enablers - 3 - Iterative Exploration\n",
      "49d2fba781b6a7c0d94577479636ee6f - stage1 - SRF - Enablers - 3 - Iterative Exploration\n",
      "49d2fba781b6a7c0d94577479636ee6f - stage1 - SRF - Enablers - 3 - Iterative Exploration\n",
      "49d2fba781b6a7c0d94577479636ee6f - stage1 - SRF - Enablers - 3 - Iterative Exploration\n",
      "49d2fba781b6a7c0d94577479636ee6f - stage1 - SRF - Enablers - 3 - Iterative Exploration\n",
      "49d2fba781b6a7c0d94577479636ee6f - stage1 - SRF - Enablers - 3 - Iterative Exploration\n",
      "49d2fba781b6a7c0d94577479636ee6f - stage1 - SRF - Enablers - 3 - Iterative Exploration\n",
      "49d2fba781b6a7c0d94577479636ee6f - stage1 - SRF - Enablers - 3 - Iterative Exploration\n",
      "49d2fba781b6a7c0d94577479636ee6f - stage1 - SRF - Enablers - 3 - Iterative Exploration\n",
      "49d2fba781b6a7c0d94577479636ee6f - stage1 - SRF - Enablers - 3 - Iterative Exploration\n",
      "49d2fba781b6a7c0d94577479636ee6f - stage1 - SRF - Enablers - 3 - Synthesis\n",
      "49d2fba781b6a7c0d94577479636ee6f - stage1 - SRF - Enablers - 4 - Starting Analysis\n",
      "49d2fba781b6a7c0d94577479636ee6f - stage1 - SRF - Enablers - 4 - Overview\n",
      "49d2fba781b6a7c0d94577479636ee6f - stage1 - SRF - Enablers - 4 - Iterative Exploration\n",
      "49d2fba781b6a7c0d94577479636ee6f - stage1 - SRF - Enablers - 4 - Should stop exploring\n",
      "49d2fba781b6a7c0d94577479636ee6f - stage1 - SRF - Enablers - 4 - Iterative Exploration\n",
      "49d2fba781b6a7c0d94577479636ee6f - stage1 - SRF - Enablers - 4 - Should stop exploring\n",
      "49d2fba781b6a7c0d94577479636ee6f - stage1 - SRF - Enablers - 4 - Iterative Exploration\n",
      "49d2fba781b6a7c0d94577479636ee6f - stage1 - SRF - Enablers - 4 - Should stop exploring\n",
      "49d2fba781b6a7c0d94577479636ee6f - stage1 - SRF - Enablers - 4 - Iterative Exploration\n",
      "49d2fba781b6a7c0d94577479636ee6f - stage1 - SRF - Enablers - 4 - Should stop exploring\n",
      "49d2fba781b6a7c0d94577479636ee6f - stage1 - SRF - Enablers - 4 - Iterative Exploration\n",
      "49d2fba781b6a7c0d94577479636ee6f - stage1 - SRF - Enablers - 4 - Should stop exploring\n",
      "49d2fba781b6a7c0d94577479636ee6f - stage1 - SRF - Enablers - 4 - Iterative Exploration\n",
      "49d2fba781b6a7c0d94577479636ee6f - stage1 - SRF - Enablers - 4 - Iterative Exploration\n",
      "49d2fba781b6a7c0d94577479636ee6f - stage1 - SRF - Enablers - 4 - Synthesis\n",
      "49d2fba781b6a7c0d94577479636ee6f - stage1 - SRF - Enablers - 5 - Starting Analysis\n",
      "49d2fba781b6a7c0d94577479636ee6f - stage1 - SRF - Enablers - 5 - Overview\n",
      "49d2fba781b6a7c0d94577479636ee6f - stage1 - SRF - Enablers - 5 - Iterative Exploration\n",
      "49d2fba781b6a7c0d94577479636ee6f - stage1 - SRF - Enablers - 5 - Should stop exploring\n",
      "49d2fba781b6a7c0d94577479636ee6f - stage1 - SRF - Enablers - 5 - Iterative Exploration\n",
      "49d2fba781b6a7c0d94577479636ee6f - stage1 - SRF - Enablers - 5 - Should stop exploring\n"
     ]
    },
    {
     "name": "stderr",
     "output_type": "stream",
     "text": [
      "49d2fba781b6a7c0d94577479636ee6f - stage1 - SRF - Enablers - 5 - Iterative Exploration\n",
      "49d2fba781b6a7c0d94577479636ee6f - stage1 - SRF - Enablers - 5 - Iterative Exploration\n",
      "49d2fba781b6a7c0d94577479636ee6f - stage1 - SRF - Enablers - 5 - Synthesis\n",
      "49d2fba781b6a7c0d94577479636ee6f - stage1 - SRF - Enablers - 6 - Starting Analysis\n",
      "49d2fba781b6a7c0d94577479636ee6f - stage1 - SRF - Enablers - 6 - Overview\n",
      "49d2fba781b6a7c0d94577479636ee6f - stage1 - SRF - Enablers - 6 - Iterative Exploration\n",
      "49d2fba781b6a7c0d94577479636ee6f - stage1 - SRF - Enablers - 6 - Iterative Exploration\n",
      "49d2fba781b6a7c0d94577479636ee6f - stage1 - SRF - Enablers - 6 - Iterative Exploration\n",
      "49d2fba781b6a7c0d94577479636ee6f - stage1 - SRF - Enablers - 6 - Iterative Exploration\n",
      "49d2fba781b6a7c0d94577479636ee6f - stage1 - SRF - Enablers - 6 - Iterative Exploration\n",
      "49d2fba781b6a7c0d94577479636ee6f - stage1 - SRF - Enablers - 6 - Iterative Exploration\n",
      "49d2fba781b6a7c0d94577479636ee6f - stage1 - SRF - Enablers - 6 - Iterative Exploration\n",
      "49d2fba781b6a7c0d94577479636ee6f - stage1 - SRF - Enablers - 6 - Iterative Exploration\n",
      "49d2fba781b6a7c0d94577479636ee6f - stage1 - SRF - Enablers - 6 - Iterative Exploration\n",
      "49d2fba781b6a7c0d94577479636ee6f - stage1 - SRF - Enablers - 6 - Iterative Exploration\n",
      "49d2fba781b6a7c0d94577479636ee6f - stage1 - SRF - Enablers - 6 - Synthesis\n",
      "49d2fba781b6a7c0d94577479636ee6f - stage1 - SRF - Enablers - 7 - Starting Analysis\n",
      "49d2fba781b6a7c0d94577479636ee6f - stage1 - SRF - Enablers - 7 - Overview\n",
      "49d2fba781b6a7c0d94577479636ee6f - stage1 - SRF - Enablers - 7 - Iterative Exploration\n",
      "49d2fba781b6a7c0d94577479636ee6f - stage1 - SRF - Enablers - 7 - Should stop exploring\n",
      "49d2fba781b6a7c0d94577479636ee6f - stage1 - SRF - Enablers - 7 - Iterative Exploration\n",
      "49d2fba781b6a7c0d94577479636ee6f - stage1 - SRF - Enablers - 7 - Should stop exploring\n",
      "49d2fba781b6a7c0d94577479636ee6f - stage1 - SRF - Enablers - 7 - Iterative Exploration\n",
      "49d2fba781b6a7c0d94577479636ee6f - stage1 - SRF - Enablers - 7 - Iterative Exploration\n",
      "49d2fba781b6a7c0d94577479636ee6f - stage1 - SRF - Enablers - 7 - Synthesis\n",
      "49d2fba781b6a7c0d94577479636ee6f - stage1 - SRF - Crosscutting Priorities - 1 - Starting Analysis\n",
      "49d2fba781b6a7c0d94577479636ee6f - stage1 - SRF - Crosscutting Priorities - 1 - Overview\n",
      "49d2fba781b6a7c0d94577479636ee6f - stage1 - SRF - Crosscutting Priorities - 1 - Iterative Exploration\n",
      "49d2fba781b6a7c0d94577479636ee6f - stage1 - SRF - Crosscutting Priorities - 1 - Should stop exploring\n",
      "49d2fba781b6a7c0d94577479636ee6f - stage1 - SRF - Crosscutting Priorities - 1 - Iterative Exploration\n",
      "49d2fba781b6a7c0d94577479636ee6f - stage1 - SRF - Crosscutting Priorities - 1 - Should stop exploring\n",
      "49d2fba781b6a7c0d94577479636ee6f - stage1 - SRF - Crosscutting Priorities - 1 - Iterative Exploration\n",
      "49d2fba781b6a7c0d94577479636ee6f - stage1 - SRF - Crosscutting Priorities - 1 - Should stop exploring\n",
      "49d2fba781b6a7c0d94577479636ee6f - stage1 - SRF - Crosscutting Priorities - 1 - Iterative Exploration\n",
      "49d2fba781b6a7c0d94577479636ee6f - stage1 - SRF - Crosscutting Priorities - 1 - Should stop exploring\n",
      "49d2fba781b6a7c0d94577479636ee6f - stage1 - SRF - Crosscutting Priorities - 1 - Iterative Exploration\n",
      "49d2fba781b6a7c0d94577479636ee6f - stage1 - SRF - Crosscutting Priorities - 1 - Should stop exploring\n",
      "49d2fba781b6a7c0d94577479636ee6f - stage1 - SRF - Crosscutting Priorities - 1 - Iterative Exploration\n",
      "49d2fba781b6a7c0d94577479636ee6f - stage1 - SRF - Crosscutting Priorities - 1 - Iterative Exploration\n",
      "49d2fba781b6a7c0d94577479636ee6f - stage1 - SRF - Crosscutting Priorities - 1 - Synthesis\n",
      "49d2fba781b6a7c0d94577479636ee6f - stage1 - SRF - Crosscutting Priorities - 2 - Starting Analysis\n",
      "49d2fba781b6a7c0d94577479636ee6f - stage1 - SRF - Crosscutting Priorities - 2 - Overview\n",
      "49d2fba781b6a7c0d94577479636ee6f - stage1 - SRF - Crosscutting Priorities - 2 - Iterative Exploration\n",
      "49d2fba781b6a7c0d94577479636ee6f - stage1 - SRF - Crosscutting Priorities - 2 - Should stop exploring\n",
      "49d2fba781b6a7c0d94577479636ee6f - stage1 - SRF - Crosscutting Priorities - 2 - Iterative Exploration\n",
      "49d2fba781b6a7c0d94577479636ee6f - stage1 - SRF - Crosscutting Priorities - 2 - Should stop exploring\n",
      "49d2fba781b6a7c0d94577479636ee6f - stage1 - SRF - Crosscutting Priorities - 2 - Iterative Exploration\n",
      "49d2fba781b6a7c0d94577479636ee6f - stage1 - SRF - Crosscutting Priorities - 2 - Should stop exploring\n",
      "49d2fba781b6a7c0d94577479636ee6f - stage1 - SRF - Crosscutting Priorities - 2 - Iterative Exploration\n",
      "49d2fba781b6a7c0d94577479636ee6f - stage1 - SRF - Crosscutting Priorities - 2 - Should stop exploring\n",
      "49d2fba781b6a7c0d94577479636ee6f - stage1 - SRF - Crosscutting Priorities - 2 - Iterative Exploration\n",
      "49d2fba781b6a7c0d94577479636ee6f - stage1 - SRF - Crosscutting Priorities - 2 - Should stop exploring\n",
      "49d2fba781b6a7c0d94577479636ee6f - stage1 - SRF - Crosscutting Priorities - 2 - Iterative Exploration\n",
      "49d2fba781b6a7c0d94577479636ee6f - stage1 - SRF - Crosscutting Priorities - 2 - Iterative Exploration\n",
      "49d2fba781b6a7c0d94577479636ee6f - stage1 - SRF - Crosscutting Priorities - 2 - Synthesis\n",
      "49d2fba781b6a7c0d94577479636ee6f - stage1 - SRF - Crosscutting Priorities - 3 - Starting Analysis\n",
      "49d2fba781b6a7c0d94577479636ee6f - stage1 - SRF - Crosscutting Priorities - 3 - Overview\n",
      "49d2fba781b6a7c0d94577479636ee6f - stage1 - SRF - Crosscutting Priorities - 3 - Iterative Exploration\n",
      "49d2fba781b6a7c0d94577479636ee6f - stage1 - SRF - Crosscutting Priorities - 3 - Should stop exploring\n",
      "49d2fba781b6a7c0d94577479636ee6f - stage1 - SRF - Crosscutting Priorities - 3 - Iterative Exploration\n",
      "49d2fba781b6a7c0d94577479636ee6f - stage1 - SRF - Crosscutting Priorities - 3 - Should stop exploring\n",
      "49d2fba781b6a7c0d94577479636ee6f - stage1 - SRF - Crosscutting Priorities - 3 - Iterative Exploration\n",
      "49d2fba781b6a7c0d94577479636ee6f - stage1 - SRF - Crosscutting Priorities - 3 - Should stop exploring\n",
      "49d2fba781b6a7c0d94577479636ee6f - stage1 - SRF - Crosscutting Priorities - 3 - Iterative Exploration\n",
      "49d2fba781b6a7c0d94577479636ee6f - stage1 - SRF - Crosscutting Priorities - 3 - Should stop exploring\n",
      "49d2fba781b6a7c0d94577479636ee6f - stage1 - SRF - Crosscutting Priorities - 3 - Iterative Exploration\n",
      "49d2fba781b6a7c0d94577479636ee6f - stage1 - SRF - Crosscutting Priorities - 3 - Iterative Exploration\n",
      "49d2fba781b6a7c0d94577479636ee6f - stage1 - SRF - Crosscutting Priorities - 3 - Synthesis\n",
      "49d2fba781b6a7c0d94577479636ee6f - stage1 - SRF - Crosscutting Priorities - 4 - Starting Analysis\n",
      "49d2fba781b6a7c0d94577479636ee6f - stage1 - SRF - Crosscutting Priorities - 4 - Overview\n",
      "49d2fba781b6a7c0d94577479636ee6f - stage1 - SRF - Crosscutting Priorities - 4 - Iterative Exploration\n",
      "49d2fba781b6a7c0d94577479636ee6f - stage1 - SRF - Crosscutting Priorities - 4 - Iterative Exploration\n",
      "49d2fba781b6a7c0d94577479636ee6f - stage1 - SRF - Crosscutting Priorities - 4 - Iterative Exploration\n",
      "49d2fba781b6a7c0d94577479636ee6f - stage1 - SRF - Crosscutting Priorities - 4 - Iterative Exploration\n",
      "49d2fba781b6a7c0d94577479636ee6f - stage1 - SRF - Crosscutting Priorities - 4 - Iterative Exploration\n",
      "49d2fba781b6a7c0d94577479636ee6f - stage1 - SRF - Crosscutting Priorities - 4 - Iterative Exploration\n",
      "49d2fba781b6a7c0d94577479636ee6f - stage1 - SRF - Crosscutting Priorities - 4 - Iterative Exploration\n",
      "49d2fba781b6a7c0d94577479636ee6f - stage1 - SRF - Crosscutting Priorities - 4 - Iterative Exploration\n",
      "49d2fba781b6a7c0d94577479636ee6f - stage1 - SRF - Crosscutting Priorities - 4 - Iterative Exploration\n",
      "49d2fba781b6a7c0d94577479636ee6f - stage1 - SRF - Crosscutting Priorities - 4 - Iterative Exploration\n",
      "49d2fba781b6a7c0d94577479636ee6f - stage1 - SRF - Crosscutting Priorities - 4 - Synthesis\n"
     ]
    }
   ],
   "source": [
    "#| eval: false\n",
    "await orchestrator.run_stage1(Semaphore(1))"
   ]
  },
  {
   "cell_type": "code",
   "execution_count": null,
   "metadata": {},
   "outputs": [
    {
     "data": {
      "text/plain": [
       "[Prediction(\n",
       "     reasoning='The evidence suggests that the JI-HoA program actively fostered partnerships with various stakeholders, including governments, other international organizations, and service providers. The program addressed the needs of governments by providing capacity building and tools for migration management. It also collaborated with other organizations to avoid duplication and create complementary support initiatives. The program\\'s alignment with regional frameworks like IGAD and the African Union further demonstrates its commitment to partnerships. While some partners expressed concerns about IOM\\'s guidance, the overall assessment indicates a strong emphasis on building and maintaining partnerships. The evidence supports the theme of \"Partnership\" as an enabler for the program\\'s success.',\n",
       "     theme_covered=True,\n",
       "     confidence_explanation=\"High confidence. The evaluation report explicitly mentions the importance of partnerships and provides several examples of how the JI-HoA program engaged with different stakeholders to achieve its objectives. The coherence section further reinforces this by highlighting the program's alignment with regional frameworks and its efforts to avoid duplication.\",\n",
       "     evidence_summary=\"Key evidence includes:\\n*   The program addressed the needs of governments by providing capacity building and tools for migration management.\\n*   The program collaborated with other organizations to avoid duplication and create complementary support initiatives.\\n*   The program's alignment with regional frameworks like IGAD and the African Union.\\n*   The survey of partners showed that 82% of partners believed IOM's local capacity building activities were useful.\",\n",
       "     gaps_identified='While the evidence suggests a strong emphasis on partnerships, there is limited information on the specific types of partnerships established and the challenges faced in maintaining them. Further details on the long-term sustainability of these partnerships would also be beneficial.',\n",
       "     framework_name='SRF',\n",
       "     framework_category='Enablers',\n",
       "     framework_theme_id='2'\n",
       " ),\n",
       " Prediction(\n",
       "     reasoning='The evaluation report provides substantial evidence related to the theme of \"Data and evidence.\" Specific Objective 1 focuses on strengthening evidence-based return and reintegration procedures through data development, collection, training, and dialogue. The report highlights the progress made in data availability, exceeding targets for field studies and research. It also acknowledges challenges in using data for policymaking due to factors like staff turnover and financial constraints. The report further emphasizes the importance of the Regional Data Hub and its contributions to data production and capacity building. The recommendations also highlight the importance of continuing to test and adjust tools to measure reintegration sustainability and conducting additional impact evaluations on key elements of AVRR. Overall, the evidence strongly supports the coverage of this theme.',\n",
       "     theme_covered=True,\n",
       "     confidence_explanation='Confidence is high (90%) due to the direct and explicit discussion of data availability, data collection methodologies, and the use of data in policymaking within the evaluation report. The report provides specific examples, targets, and stakeholder perspectives, strengthening the assessment. The recommendations also reinforce the importance of data and evidence in improving migrant protection, return, and reintegration programming.',\n",
       "     evidence_summary=\"Key evidence includes:\\n*   The JI exceeded targets for the number of field studies and research conducted.\\n*   Stakeholders reported increased knowledge on return and reintegration issues.\\n*   136 stakeholders reported that data produced supported evidence-based policies.\\n*   The Regional Data Hub's work was appreciated for enhancing knowledge on migration.\\n*   Recommendations emphasize continued investment in impact studies and data collection.\",\n",
       "     gaps_identified=\"While the report highlights the progress in data availability and capacity building, it also identifies gaps in the effective use of data for policymaking due to staff turnover, financial constraints, and other contextual factors. The report also mentions the need for continued support in capacity building and socio-economic development to ensure the sustainability of data-driven initiatives. Further exploration of the specific types of data collected, the methodologies used, and the impact of data-driven policies could provide a more comprehensive understanding of the theme's coverage.\",\n",
       "     framework_name='SRF',\n",
       "     framework_category='Enablers',\n",
       "     framework_theme_id='4'\n",
       " ),\n",
       " Prediction(\n",
       "     reasoning='The provided evidence strongly supports the theme of \"Protection-centred\" operations. The JI-HoA program demonstrably prioritized the needs and rights of migrants and returnees, particularly those in vulnerable situations. This is evident in the provision of life-saving assistance (food, water, shelter), efforts to ensure safe and dignified return processes, and the focus on addressing psychosocial needs. While gaps exist, particularly in the consistency and long-term impact of reintegration support, the program\\'s core objective aligns with the protection-centered approach. The evidence highlights IOM\\'s commitment to involving communities, safeguarding children, and protecting individuals from exploitation and abuse, as described in the theme description. The recommendations also emphasize the need to continue supporting safe migration pathways and providing direct support to migrants in distress.',\n",
       "     theme_covered=True,\n",
       "     confidence_explanation='Confidence is high (90%) due to the substantial evidence from multiple sections of the report. The evidence includes direct quotes from stakeholders and returnees, statistical data on satisfaction levels, and specific examples of program activities designed to protect and assist vulnerable migrants. The identified gaps do not negate the overall commitment to a protection-centered approach, but rather highlight areas for improvement.',\n",
       "     evidence_summary='Key evidence includes:\\n*   Provision of life-saving assistance to migrants in transit (food, water, shelter).\\n*   Efforts to enhance safe, humane, and dignified voluntary return processes.\\n*   Focus on addressing the psychosocial needs of returnees, including MHPSS.\\n*   Awareness raising activities on sexual and gender-based violence.\\n*   Community-based reintegration projects aimed at reducing stigma and promoting social cohesion.\\n*   Recommendations to continue supporting safe migration pathways and providing direct support to migrants in distress.',\n",
       "     gaps_identified='Gaps identified include:\\n*   Inconsistencies in the quality and effectiveness of reintegration support across different countries.\\n*   Insufficient economic support for returnees to achieve sustainable livelihoods.\\n*   Gaps in post-return psychosocial support and integration of MHPSS into program documents.\\n*   Lack of harmonized approach to awareness raising across countries.\\n*   Sustainability concerns regarding government ownership and capacity to independently manage return and reintegration processes.',\n",
       "     framework_name='SRF',\n",
       "     framework_category='Crosscutting Priorities',\n",
       "     framework_theme_id='3'\n",
       " )]"
      ]
     },
     "execution_count": null,
     "metadata": {},
     "output_type": "execute_result"
    }
   ],
   "source": [
    "#| eval: false\n",
    "orchestrator.results(Phase.STAGE1, filter_type=\"covered\")"
   ]
  },
  {
   "cell_type": "markdown",
   "metadata": {},
   "source": [
    "**Stage 2 [TODO]**"
   ]
  },
  {
   "cell_type": "code",
   "execution_count": null,
   "metadata": {},
   "outputs": [],
   "source": [
    "# gcm_small = IOMEvalData().gcm_objectives_small"
   ]
  },
  {
   "cell_type": "code",
   "execution_count": null,
   "metadata": {},
   "outputs": [
    {
     "data": {
      "text/plain": [
       "[EvalDict({'id': '1', 'title': 'Collect and utilize accurate and disaggregated dat...', 'core_theme': 'Strengthen global evidence base on migration throu...', 'key_principles': [4 items], 'target_groups': [4 items], ...}),\n",
       " EvalDict({'id': '2', 'title': 'Minimize the adverse drivers and structural factor...', 'core_theme': 'Address root causes of migration through sustainab...', 'key_principles': [4 items], 'target_groups': [4 items], ...}),\n",
       " EvalDict({'id': '3', 'title': 'Provide accurate and timely information at all sta...', 'core_theme': 'Ensure migrants have access to reliable informatio...', 'key_principles': [4 items], 'target_groups': [4 items], ...}),\n",
       " EvalDict({'id': '4', 'title': 'Ensure that all migrants have proof of legal ident...', 'core_theme': 'Strengthen civil registry systems and ensure migra...', 'key_principles': [4 items], 'target_groups': [4 items], ...}),\n",
       " EvalDict({'id': '5', 'title': 'Enhance availability and flexibility of pathways f...', 'core_theme': 'Expand and diversify safe, orderly and regular mig...', 'key_principles': [4 items], 'target_groups': [4 items], ...}),\n",
       " EvalDict({'id': '6', 'title': 'Facilitate fair and ethical recruitment and safegu...', 'core_theme': 'Protect migrant workers from exploitation through ...', 'key_principles': [4 items], 'target_groups': [4 items], ...}),\n",
       " EvalDict({'id': '7', 'title': 'Address and reduce vulnerabilities in migration', 'core_theme': 'Protect migrants in vulnerable situations through ...', 'key_principles': [4 items], 'target_groups': [5 items], ...}),\n",
       " EvalDict({'id': '8', 'title': 'Save lives and establish coordinated international...', 'core_theme': 'Prevent migrant deaths and establish systems to id...', 'key_principles': [4 items], 'target_groups': [4 items], ...}),\n",
       " EvalDict({'id': '9', 'title': 'Strengthen the transnational response to smuggling...', 'core_theme': 'Combat migrant smuggling networks while protecting...', 'key_principles': [4 items], 'target_groups': [4 items], ...}),\n",
       " EvalDict({'id': '10', 'title': 'Prevent, combat and eradicate trafficking in perso...', 'core_theme': 'Strengthen efforts to prevent trafficking and prot...', 'key_principles': [4 items], 'target_groups': [4 items], ...}),\n",
       " EvalDict({'id': '11', 'title': 'Manage borders in an integrated, secure and coordi...', 'core_theme': 'Implement coordinated border management that ensur...', 'key_principles': [4 items], 'target_groups': [4 items], ...}),\n",
       " EvalDict({'id': '12', 'title': 'Strengthen certainty and predictability in migrati...', 'core_theme': 'Establish clear, efficient migration procedures wi...', 'key_principles': [4 items], 'target_groups': [4 items], ...}),\n",
       " EvalDict({'id': '13', 'title': 'Use immigration detention only as a measure of las...', 'core_theme': 'Minimize immigration detention and promote communi...', 'key_principles': [4 items], 'target_groups': [4 items], ...}),\n",
       " EvalDict({'id': '14', 'title': 'Enhance consular protection, assistance and cooper...', 'core_theme': 'Strengthen consular services and cooperation to pr...', 'key_principles': [4 items], 'target_groups': [4 items], ...}),\n",
       " EvalDict({'id': '15', 'title': 'Provide access to basic services for migrants', 'core_theme': 'Ensure migrants can access essential services rega...', 'key_principles': [4 items], 'target_groups': [4 items], ...}),\n",
       " EvalDict({'id': '16', 'title': 'Empower migrants and societies to realize full inc...', 'core_theme': 'Promote migrant integration and social cohesion in...', 'key_principles': [4 items], 'target_groups': [4 items], ...}),\n",
       " EvalDict({'id': '17', 'title': 'Eliminate all forms of discrimination and promote ...', 'core_theme': 'Combat discrimination and xenophobia while promoti...', 'key_principles': [4 items], 'target_groups': [4 items], ...}),\n",
       " EvalDict({'id': '18', 'title': 'Invest in skills development and facilitate mutual...', 'core_theme': 'Optimize migrant contributions through skills deve...', 'key_principles': [4 items], 'target_groups': [4 items], ...}),\n",
       " EvalDict({'id': '19', 'title': 'Create conditions for migrants and diasporas to fu...', 'core_theme': 'Harness migrant and diaspora contributions to sust...', 'key_principles': [4 items], 'target_groups': [4 items], ...}),\n",
       " EvalDict({'id': '20', 'title': 'Promote faster, safer and cheaper transfer of remi...', 'core_theme': 'Reduce remittance costs and enhance financial incl...', 'key_principles': [4 items], 'target_groups': [4 items], ...}),\n",
       " EvalDict({'id': '21', 'title': 'Cooperate in facilitating safe and dignified retur...', 'core_theme': 'Safe and dignified return, readmission, and sustai...', 'key_principles': [4 items], 'target_groups': [3 items], ...}),\n",
       " EvalDict({'id': '22', 'title': 'Establish mechanisms for the portability of social...', 'core_theme': 'Ensure migrants can access and transfer social pro...', 'key_principles': [4 items], 'target_groups': [4 items], ...}),\n",
       " EvalDict({'id': '23', 'title': 'Strengthen international cooperation and global pa...', 'core_theme': 'Enhance international cooperation and partnerships...', 'key_principles': [4 items], 'target_groups': [4 items], ...})]"
      ]
     },
     "execution_count": null,
     "metadata": {},
     "output_type": "execute_result"
    }
   ],
   "source": [
    "# gcm_small"
   ]
  },
  {
   "cell_type": "code",
   "execution_count": null,
   "metadata": {},
   "outputs": [
    {
     "data": {
      "text/html": [
       "<pre style=\"white-space:pre;overflow-x:auto;line-height:normal;font-family:Menlo,'DejaVu Sans Mono',consolas,'Courier New',monospace\">GCM Small structure:\n",
       "</pre>\n"
      ],
      "text/plain": [
       "GCM Small structure:\n"
      ]
     },
     "metadata": {},
     "output_type": "display_data"
    },
    {
     "data": {
      "text/html": [
       "<pre style=\"white-space:pre;overflow-x:auto;line-height:normal;font-family:Menlo,'DejaVu Sans Mono',consolas,'Courier New',monospace\">Type: <span style=\"font-weight: bold\">&lt;</span><span style=\"color: #ff00ff; text-decoration-color: #ff00ff; font-weight: bold\">class</span><span style=\"color: #000000; text-decoration-color: #000000\"> </span><span style=\"color: #008000; text-decoration-color: #008000\">'evaluatr.frameworks.EvalDict'</span><span style=\"font-weight: bold\">&gt;</span>\n",
       "</pre>\n"
      ],
      "text/plain": [
       "Type: \u001b[1m<\u001b[0m\u001b[1;95mclass\u001b[0m\u001b[39m \u001b[0m\u001b[32m'evaluatr.frameworks.EvalDict'\u001b[0m\u001b[1m>\u001b[0m\n"
      ]
     },
     "metadata": {},
     "output_type": "display_data"
    },
    {
     "data": {
      "text/html": [
       "<pre style=\"white-space:pre;overflow-x:auto;line-height:normal;font-family:Menlo,'DejaVu Sans Mono',consolas,'Courier New',monospace\">Keys: <span style=\"font-weight: bold\">[</span><span style=\"color: #008000; text-decoration-color: #008000\">'1'</span>, <span style=\"color: #008000; text-decoration-color: #008000\">'2'</span>, <span style=\"color: #008000; text-decoration-color: #008000\">'3'</span>, <span style=\"color: #008000; text-decoration-color: #008000\">'4'</span>, <span style=\"color: #008000; text-decoration-color: #008000\">'5'</span><span style=\"font-weight: bold\">]</span><span style=\"color: #808000; text-decoration-color: #808000\">...</span>\n",
       "</pre>\n"
      ],
      "text/plain": [
       "Keys: \u001b[1m[\u001b[0m\u001b[32m'1'\u001b[0m, \u001b[32m'2'\u001b[0m, \u001b[32m'3'\u001b[0m, \u001b[32m'4'\u001b[0m, \u001b[32m'5'\u001b[0m\u001b[1m]\u001b[0m\u001b[33m...\u001b[0m\n"
      ]
     },
     "metadata": {},
     "output_type": "display_data"
    },
    {
     "data": {
      "text/html": [
       "<pre style=\"white-space:pre;overflow-x:auto;line-height:normal;font-family:Menlo,'DejaVu Sans Mono',consolas,'Courier New',monospace\">Sample entry: <span style=\"font-weight: bold\">{</span><span style=\"color: #008000; text-decoration-color: #008000\">'title'</span>: <span style=\"color: #008000; text-decoration-color: #008000\">'Collect and utilize accurate and disaggregated data as a basis for evidence-based </span>\n",
       "<span style=\"color: #008000; text-decoration-color: #008000\">policies'</span>, <span style=\"color: #008000; text-decoration-color: #008000\">'core_theme'</span>: <span style=\"color: #008000; text-decoration-color: #008000\">'Strengthen global evidence base on migration through improved data collection, analysis </span>\n",
       "<span style=\"color: #008000; text-decoration-color: #008000\">and dissemination'</span>, <span style=\"color: #008000; text-decoration-color: #008000\">'key_principles'</span>: <span style=\"font-weight: bold\">[</span><span style=\"color: #008000; text-decoration-color: #008000\">'Evidence-based policymaking'</span>, <span style=\"color: #008000; text-decoration-color: #008000\">'Data harmonization'</span>, <span style=\"color: #008000; text-decoration-color: #008000\">'Statistical </span>\n",
       "<span style=\"color: #008000; text-decoration-color: #008000\">standards'</span>, <span style=\"color: #008000; text-decoration-color: #008000\">'Privacy protection'</span><span style=\"font-weight: bold\">]</span>, <span style=\"color: #008000; text-decoration-color: #008000\">'target_groups'</span>: <span style=\"font-weight: bold\">[</span><span style=\"color: #008000; text-decoration-color: #008000\">'National statistical offices'</span>, <span style=\"color: #008000; text-decoration-color: #008000\">'Researchers'</span>, <span style=\"color: #008000; text-decoration-color: #008000\">'Policymakers'</span>,\n",
       "<span style=\"color: #008000; text-decoration-color: #008000\">'International organizations'</span><span style=\"font-weight: bold\">]</span>, <span style=\"color: #008000; text-decoration-color: #008000\">'main_activities'</span>: <span style=\"font-weight: bold\">[</span><span style=\"color: #008000; text-decoration-color: #008000\">'Data collection methodologies'</span>, <span style=\"color: #008000; text-decoration-color: #008000\">'Migration statistics'</span>, \n",
       "<span style=\"color: #008000; text-decoration-color: #008000\">'Research capacity building'</span>, <span style=\"color: #008000; text-decoration-color: #008000\">'Data sharing platforms'</span><span style=\"font-weight: bold\">]}</span>\n",
       "</pre>\n"
      ],
      "text/plain": [
       "Sample entry: \u001b[1m{\u001b[0m\u001b[32m'title'\u001b[0m: \u001b[32m'Collect and utilize accurate and disaggregated data as a basis for evidence-based \u001b[0m\n",
       "\u001b[32mpolicies'\u001b[0m, \u001b[32m'core_theme'\u001b[0m: \u001b[32m'Strengthen global evidence base on migration through improved data collection, analysis \u001b[0m\n",
       "\u001b[32mand dissemination'\u001b[0m, \u001b[32m'key_principles'\u001b[0m: \u001b[1m[\u001b[0m\u001b[32m'Evidence-based policymaking'\u001b[0m, \u001b[32m'Data harmonization'\u001b[0m, \u001b[32m'Statistical \u001b[0m\n",
       "\u001b[32mstandards'\u001b[0m, \u001b[32m'Privacy protection'\u001b[0m\u001b[1m]\u001b[0m, \u001b[32m'target_groups'\u001b[0m: \u001b[1m[\u001b[0m\u001b[32m'National statistical offices'\u001b[0m, \u001b[32m'Researchers'\u001b[0m, \u001b[32m'Policymakers'\u001b[0m,\n",
       "\u001b[32m'International organizations'\u001b[0m\u001b[1m]\u001b[0m, \u001b[32m'main_activities'\u001b[0m: \u001b[1m[\u001b[0m\u001b[32m'Data collection methodologies'\u001b[0m, \u001b[32m'Migration statistics'\u001b[0m, \n",
       "\u001b[32m'Research capacity building'\u001b[0m, \u001b[32m'Data sharing platforms'\u001b[0m\u001b[1m]\u001b[0m\u001b[1m}\u001b[0m\n"
      ]
     },
     "metadata": {},
     "output_type": "display_data"
    }
   ],
   "source": [
    "# print(\"GCM Small structure:\")\n",
    "# print(f\"Type: {type(gcm_small)}\")\n",
    "# print(f\"Keys: {list(gcm_small.keys())[:5]}...\")  # First 5 keys\n",
    "# print(f\"Sample entry: {gcm_small[list(gcm_small.keys())[0]]}\")"
   ]
  },
  {
   "cell_type": "code",
   "execution_count": null,
   "metadata": {},
   "outputs": [],
   "source": [
    "# def format_gcm_theme(\n",
    "#     theme: EvalData, # The GCM theme object\n",
    "#     stage1_context: str = \"\" # Context from Stage 1 covered themes\n",
    "#     ) -> str: # The formatted theme string\n",
    "#     \"Format GCM objective into structured text for LM processing with Stage 1 context.\"\n",
    "#     parts = [\n",
    "#         f'## GCM Objective {theme.id}: {theme.title}',\n",
    "#         '### Core Theme', \n",
    "#         theme.core_theme\n",
    "#     ]\n",
    "    \n",
    "#     if theme.key_principles:\n",
    "#         parts.extend(['### Key Principles', ', '.join(theme.key_principles)])\n",
    "    \n",
    "#     if theme.target_groups:\n",
    "#         parts.extend(['### Target Groups', ', '.join(theme.target_groups)])\n",
    "        \n",
    "#     if theme.main_activities:\n",
    "#         parts.extend(['### Main Activities', ', '.join(theme.main_activities)])\n",
    "        \n",
    "#     if stage1_context:\n",
    "#         parts.extend(['### Stage 1 Context', stage1_context])\n",
    "    \n",
    "#     return '\\n'.join(parts)"
   ]
  },
  {
   "cell_type": "code",
   "execution_count": null,
   "metadata": {},
   "outputs": [],
   "source": [
    "# format_gcm_theme(gcm_small[\"1\"])"
   ]
  },
  {
   "cell_type": "code",
   "execution_count": null,
   "metadata": {},
   "outputs": [],
   "source": []
  }
 ],
 "metadata": {
  "kernelspec": {
   "display_name": "python3",
   "language": "python",
   "name": "python3"
  }
 },
 "nbformat": 4,
 "nbformat_minor": 2
}
