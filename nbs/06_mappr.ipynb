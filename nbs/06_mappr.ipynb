{
 "cells": [
  {
   "cell_type": "markdown",
   "metadata": {},
   "source": [
    "# Mappr\n",
    "\n",
    "> Scale up evaluation report mapping against evaluation frameworks using agentic workflows\n"
   ]
  },
  {
   "cell_type": "markdown",
   "metadata": {},
   "source": [
    "::: {.callout-warning}\n",
    "This notebook is a work in progress.\n",
    ":::"
   ]
  },
  {
   "cell_type": "markdown",
   "metadata": {},
   "source": [
    "Manually mapping evaluation reports against IOM's [Strategic Results Framework (SRF)](https://srf.iom.int) is time-consuming and resource-intensive with ~150 outputs to analyze. Additionally, the mapping process needs transparent and human-readable traces of LLM decision flows that both reflect natural reasoning patterns and allow human evaluators to audit the mapping logic.\n",
    "\n",
    "A three-stage pipeline leveraging [Global Compact for Migration (GCM) UN General Assembly Resolution](https://www.iom.int/sites/g/files/tmzbdl2616/files/ny_declaration.pdf) objectives as SRF  Outputs pruning mechanism:\n",
    "\n",
    "**Stage 1**: SRF Enablers & Cross-cutting Analysis\n",
    "\n",
    "- **Parallel analysis** of Enablers (7 categories) and Cross-cutting Priorities (4 categories)\n",
    "- **Purpose**: Identify if report is primarily meta-evaluation/transversal in nature\n",
    "- **Fast processing**: ~11 items total, provides context for subsequent stages\n",
    "\n",
    "**Stage 2**: Informed GCM Analysis\n",
    "\n",
    "- **GCM Objectives analysis** (23 items) informed by Stage 1 results\n",
    "- **Condensed representations**: UN General Assembly Resolution formulation simplified for retrieval efficiency\n",
    "\n",
    "**Stage 3**: Targeted SRF Analysis\n",
    "\n",
    "- **SRF Filtering**: Use GCM results + `gcm_srf_lut` lookup table to prune ~150 SRF outputs to ~20-50 relevant ones\n",
    "- **Deep analysis**: Full hierarchy context (objective → outcome → output → indicators)\n",
    "- **Parallel processing**: Final targeted analysis of pruned SRF outputs"
   ]
  },
  {
   "cell_type": "markdown",
   "metadata": {},
   "source": [
    "::: {.column-body}\n",
    "![Three-stage Pipeline Overview](img/three-stage-pipeline-overview.png){fig-align=\"center\" width=\"800px\"}\n",
    ":::"
   ]
  },
  {
   "cell_type": "code",
   "execution_count": null,
   "metadata": {},
   "outputs": [],
   "source": [
    "#| default_exp mappr"
   ]
  },
  {
   "cell_type": "code",
   "execution_count": null,
   "metadata": {},
   "outputs": [],
   "source": [
    "#| exports\n",
    "from pathlib import Path\n",
    "from functools import reduce\n",
    "from toolslm.md_hier import *\n",
    "from rich import print\n",
    "import json\n",
    "from fastcore.all import *\n",
    "from enum import Enum\n",
    "\n",
    "from typing import List\n",
    "import dspy\n",
    "\n",
    "from evaluatr.frameworks import EvalData, IOMEvalData, FrameworkInfo"
   ]
  },
  {
   "cell_type": "code",
   "execution_count": null,
   "metadata": {},
   "outputs": [],
   "source": [
    "#| exports\n",
    "from dotenv import load_dotenv\n",
    "import os\n",
    "\n",
    "load_dotenv()\n",
    "GEMINI_API_KEY = os.getenv('GEMINI_API_KEY')"
   ]
  },
  {
   "cell_type": "code",
   "execution_count": null,
   "metadata": {},
   "outputs": [],
   "source": [
    "#| exports\n",
    "cfg = AttrDict({\n",
    "    'lm': 'gemini/gemini-2.0-flash-exp',\n",
    "    'api_key': GEMINI_API_KEY,\n",
    "    'max_tokens': 8192,\n",
    "    'track_usage': False,\n",
    "})"
   ]
  },
  {
   "cell_type": "code",
   "execution_count": null,
   "metadata": {},
   "outputs": [],
   "source": [
    "#| exports\n",
    "lm = dspy.LM(cfg.lm, api_key=cfg.api_key)\n",
    "dspy.configure(lm=lm)"
   ]
  },
  {
   "cell_type": "code",
   "execution_count": null,
   "metadata": {},
   "outputs": [
    {
     "data": {
      "text/html": [
       "<pre style=\"white-space:pre;overflow-x:auto;line-height:normal;font-family:Menlo,'DejaVu Sans Mono',consolas,'Courier New',monospace\"># PPMi <span style=\"color: #808000; text-decoration-color: #808000\">...</span>. page <span style=\"color: #008080; text-decoration-color: #008080; font-weight: bold\">1</span>\n",
       "\n",
       "**Final Evaluation of the EU-IOM Joint Initiative for migrant protection and reintegration in the horn of Africa**\n",
       "\n",
       "Final Evaluation Report, <span style=\"color: #008080; text-decoration-color: #008080; font-weight: bold\">17</span> March <span style=\"color: #008080; text-decoration-color: #008080; font-weight: bold\">2023</span>\n",
       "\n",
       "!<span style=\"font-weight: bold\">(</span>img-<span style=\"color: #008080; text-decoration-color: #008080; font-weight: bold\">0.j</span>peg<span style=\"font-weight: bold\">)</span>\n",
       "\n",
       "**EU-IOM** Joint Initiative for Migrant Protection and Reintegration\n",
       "\n",
       "Project funded by the European Union\n",
       "Project implemented by IOM\n",
       "\n",
       "---\n",
       "\n",
       "This Final Evaluation Report was commissioned by IOM and developed by the evaluation team of PPMI Group, including:\n",
       "Loes van der Graaf, Rimantas Dumcius, Radvilė Bankauskaitė, Anna Kiss-Pal and Laura Daukšaitė, as well as by \n",
       "external expert Anthony Roger Plant. The evaluation team is grateful to all IOM staff and stakeholders to the \n",
       "JI-HoA for their time taken to participate in interviews. The team is especially grateful to the returnees, \n",
       "migrants, and community members who participated in Focus Group Discussions.\n",
       "\n",
       "This publication was funded by the European Union. Its contents are the sole responsibility of PPMI Group and do \n",
       "not necessarily reflect\n",
       "</pre>\n"
      ],
      "text/plain": [
       "# PPMi \u001b[33m...\u001b[0m. page \u001b[1;36m1\u001b[0m\n",
       "\n",
       "**Final Evaluation of the EU-IOM Joint Initiative for migrant protection and reintegration in the horn of Africa**\n",
       "\n",
       "Final Evaluation Report, \u001b[1;36m17\u001b[0m March \u001b[1;36m2023\u001b[0m\n",
       "\n",
       "!\u001b[1m(\u001b[0mimg-\u001b[1;36m0.j\u001b[0mpeg\u001b[1m)\u001b[0m\n",
       "\n",
       "**EU-IOM** Joint Initiative for Migrant Protection and Reintegration\n",
       "\n",
       "Project funded by the European Union\n",
       "Project implemented by IOM\n",
       "\n",
       "---\n",
       "\n",
       "This Final Evaluation Report was commissioned by IOM and developed by the evaluation team of PPMI Group, including:\n",
       "Loes van der Graaf, Rimantas Dumcius, Radvilė Bankauskaitė, Anna Kiss-Pal and Laura Daukšaitė, as well as by \n",
       "external expert Anthony Roger Plant. The evaluation team is grateful to all IOM staff and stakeholders to the \n",
       "JI-HoA for their time taken to participate in interviews. The team is especially grateful to the returnees, \n",
       "migrants, and community members who participated in Focus Group Discussions.\n",
       "\n",
       "This publication was funded by the European Union. Its contents are the sole responsibility of PPMI Group and do \n",
       "not necessarily reflect\n"
      ]
     },
     "metadata": {},
     "output_type": "display_data"
    }
   ],
   "source": [
    "#| eval: false\n",
    "doc = Path(\"../_data/md_library/49d2fba781b6a7c0d94577479636ee6f/abridged_evaluation_report_final_olta_ndoja_pdf/enriched\")\n",
    "pages = doc.ls(file_exts=\".md\").sorted(key=lambda p: int(p.stem.split('_')[1]))\n",
    "report = '\\n\\n---\\n\\n'.join(page.read_text() for page in pages)\n",
    "print(report[:1000])"
   ]
  },
  {
   "cell_type": "markdown",
   "metadata": {},
   "source": [
    "## Hierarchical report navigation"
   ]
  },
  {
   "cell_type": "markdown",
   "metadata": {},
   "source": [
    "Thanks to `toolslm.md_hier` and a clean markdown structure of a `report` markdown, we can create a nested dictionary of section, subsection, ... as follows:"
   ]
  },
  {
   "cell_type": "code",
   "execution_count": null,
   "metadata": {},
   "outputs": [
    {
     "data": {
      "text/plain": [
       "{'PPMi .... page 1': {},\n",
       " 'CONTENTS .... page 3': {},\n",
       " '1. Introduction .... page 4': {},\n",
       " '2. Background of the JI-HoA .... page 5': {'2.1. Context and design of the JI-HoA .... page 5': {},\n",
       "  '2.2. External factors affecting the implementation of the JI .... page 7': {}},\n",
       " '3. Methodology .... page 8': {},\n",
       " '4. Findings .... page 10': {'4.1. Relevance .... page 10': {'4.1.1. Relevance of programme activities for migrants, returnees, and communities .... page 10': {}},\n",
       "  'Overall performance score for relevance: $3.9 / 5$ <br> Robustness score for the evidence: $4.5 / 5$': {'4.1.1.1 Needs of migrants .... page 10': {},\n",
       "   '4.1.1.2 Needs of returnees .... page 10': {},\n",
       "   '4.1.1.3 Needs of community members .... page 12': {},\n",
       "   \"4.1.2. Programme's relevance to the needs of stakeholders .... page 12\": {'4.1.2.1 Needs of governments .... page 12': {},\n",
       "    '4.1.2.2 Needs of other stakeholders .... page 13': {}},\n",
       "   '4.2. Coherence .... page 13': {\"4.2.1. The JI-HoA's alignment with the objectives and standards of IOM, and objectives of the EU .... page 14\": {},\n",
       "    '4.2.2. Alignment with other initiatives .... page 14': {}}}},\n",
       " '4.3. Effectiveness .... page 16': {'4.3.1. Specific Objective 1: Partner countries and relevant stakeholders developed or strengthened evidence-based return and reintegration procedures .... page 16': {'4.3.1.1 Achievement of outputs and results .... page 16': {}},\n",
       "  'Data availability .... page 16': {'4.3.1.2 Achievement of Specific Objective 1 .... page 17': {'4.3.1.2 Achievement of Specific Objective 1 .... page 17': {}}}},\n",
       " '4.3.2. Specific Objective 2: Safe, humane, dignified voluntary return processes are enhanced along main migration routes .... page 18': {'4.3.2.1 Achievement of outputs and results .... page 19': {},\n",
       "  'Outreach and awareness .... page 19': {},\n",
       "  'Assistance to stranded migrants .... page 19': {'4.3.2.2 Achievement of the Objective .... page 20': {},\n",
       "   '4.3.3. Specific Objective 3: Returnees are sustainably integrated in host communities, and host communities are better able to create living standards that address drivers of migration. .... page 20': {'4.3.3.1 Achievement of outputs and results .... page 20': {}}},\n",
       "  'Individual and community-based reintegration .... page 20': {'4.3.3.2 Achievement of Specific Objective 3 .... page 21': {}}},\n",
       " '4.3.3.2 Achievement of Specific Objective 3': {'Overall achievement of reintegration .... page 22': {'4.3.4. Functioning of the Integrated Approach .... page 23': {'4.3.4. Functioning of the Integrated Approach .... page 23': {}}}},\n",
       " '4.4. Efficiency .... page 24': {'4.4.3. Did the programme receive sufficient resources to achieve its objectives? .... page 24': {},\n",
       "  '4.4.2. Cost-effectiveness and efficiency of the programme .... page 25': {}},\n",
       " '4.5. Sustainability .... page 26': {'Overall performance score for sustainability: $2.5 / 5$ <br> Robustness score for the evidence: $4 / 5$ .... page 26': {}},\n",
       " '5. Conclusions and Recommendations .... page 27': {'5.1. Conclusions .... page 27': {},\n",
       "  '5.2. Recommendations .... page 28': {'5.2.1. Increase attention on building partnerships with service providers who can function without (significant) funding channelled by IOM. .... page 29': {},\n",
       "   '5.2.2. Explore opportunities to extend the scope of support provided to returnees, with a focus on longer-term integration. .... page 30': {}}}}"
      ]
     },
     "execution_count": null,
     "metadata": {},
     "output_type": "execute_result"
    }
   ],
   "source": [
    "#| eval: false\n",
    "hdgs = create_heading_dict(report); hdgs"
   ]
  },
  {
   "cell_type": "code",
   "execution_count": null,
   "metadata": {},
   "outputs": [],
   "source": [
    "#| exports\n",
    "def find_section_path(\n",
    "    hdgs: dict, # The nested dictionary structure\n",
    "    target_section: str # The section name to find\n",
    ") -> list: # The nested key path for the given section name\n",
    "    \"Find the nested key path for a given section name.\"\n",
    "    def search_recursive(current_dict, path=[]):\n",
    "        for key, value in current_dict.items():\n",
    "            current_path = path + [key]\n",
    "            if key == target_section:\n",
    "                return current_path\n",
    "            if isinstance(value, dict):\n",
    "                result = search_recursive(value, current_path)\n",
    "                if result:\n",
    "                    return result\n",
    "        return None\n",
    "    \n",
    "    return search_recursive(hdgs)"
   ]
  },
  {
   "cell_type": "markdown",
   "metadata": {},
   "source": [
    "Then we can retrieve the subsection path (list of nested headings to reach this specific section) in this nested `hdgs` dict :"
   ]
  },
  {
   "cell_type": "code",
   "execution_count": null,
   "metadata": {},
   "outputs": [
    {
     "data": {
      "text/plain": [
       "['4. Findings .... page 10',\n",
       " 'Overall performance score for relevance: $3.9 / 5$ <br> Robustness score for the evidence: $4.5 / 5$',\n",
       " '4.1.1.1 Needs of migrants .... page 10']"
      ]
     },
     "execution_count": null,
     "metadata": {},
     "output_type": "execute_result"
    }
   ],
   "source": [
    "#| eval: false\n",
    "path = find_section_path(hdgs, \"4.1.1.1 Needs of migrants .... page 10\"); path"
   ]
  },
  {
   "cell_type": "markdown",
   "metadata": {},
   "source": [
    "Then retrieve the specific subsection content:"
   ]
  },
  {
   "cell_type": "code",
   "execution_count": null,
   "metadata": {},
   "outputs": [],
   "source": [
    "#| exports\n",
    "def get_content_tool(\n",
    "    hdgs: dict, # The nested dictionary structure\n",
    "    keys_list: list, # The list of keys to navigate through\n",
    "    ) -> str: # The content of the section\n",
    "    \"Navigate through nested levels using the exact key strings.\"\n",
    "    return reduce(lambda current, key: current[key], keys_list, hdgs).text"
   ]
  },
  {
   "cell_type": "code",
   "execution_count": null,
   "metadata": {},
   "outputs": [
    {
     "data": {
      "text/html": [
       "<pre style=\"white-space:pre;overflow-x:auto;line-height:normal;font-family:Menlo,'DejaVu Sans Mono',consolas,'Courier New',monospace\">##### <span style=\"color: #00ff00; text-decoration-color: #00ff00; font-weight: bold\">4.1.1.1</span> Needs of migrants <span style=\"color: #808000; text-decoration-color: #808000\">...</span>. page <span style=\"color: #008080; text-decoration-color: #008080; font-weight: bold\">10</span>\n",
       "\n",
       "Desk research and interviews confirm that the programme responded to the most pressing needs of migrants. The \n",
       "JI-HoA enabled them to return from dangerous environments, such as detention, where no other support was available.\n",
       "Migrants shared that they suffered on their irregular migration journeys, had acutely distressing experiences $<span style=\"font-weight: bold\">{</span> \n",
       "<span style=\"font-weight: bold\">}</span>^<span style=\"font-weight: bold\">{</span><span style=\"color: #008080; text-decoration-color: #008080; font-weight: bold\">13</span><span style=\"font-weight: bold\">}</span>$, and highlighted that their families and communities could not help them $<span style=\"font-weight: bold\">{</span> <span style=\"font-weight: bold\">}</span>^<span style=\"font-weight: bold\">{</span><span style=\"color: #008080; text-decoration-color: #008080; font-weight: bold\">14</span><span style=\"font-weight: bold\">}</span>$. Stakeholders supportin\n",
       "</pre>\n"
      ],
      "text/plain": [
       "##### \u001b[1;92m4.1.1.1\u001b[0m Needs of migrants \u001b[33m...\u001b[0m. page \u001b[1;36m10\u001b[0m\n",
       "\n",
       "Desk research and interviews confirm that the programme responded to the most pressing needs of migrants. The \n",
       "JI-HoA enabled them to return from dangerous environments, such as detention, where no other support was available.\n",
       "Migrants shared that they suffered on their irregular migration journeys, had acutely distressing experiences $\u001b[1m{\u001b[0m \n",
       "\u001b[1m}\u001b[0m^\u001b[1m{\u001b[0m\u001b[1;36m13\u001b[0m\u001b[1m}\u001b[0m$, and highlighted that their families and communities could not help them $\u001b[1m{\u001b[0m \u001b[1m}\u001b[0m^\u001b[1m{\u001b[0m\u001b[1;36m14\u001b[0m\u001b[1m}\u001b[0m$. Stakeholders supportin\n"
      ]
     },
     "metadata": {},
     "output_type": "display_data"
    }
   ],
   "source": [
    "#| eval: false\n",
    "content = get_content_tool(hdgs, path)\n",
    "print(content[:500])"
   ]
  },
  {
   "cell_type": "markdown",
   "metadata": {},
   "source": [
    "## Formatters"
   ]
  },
  {
   "cell_type": "markdown",
   "metadata": {},
   "source": [
    "We define here a set of function formatting both evaluation frameworks themes to analyze (SRF enablers, objectives, GCM objectives, ...) and traces."
   ]
  },
  {
   "cell_type": "code",
   "execution_count": null,
   "metadata": {},
   "outputs": [],
   "source": [
    "#| exports\n",
    "def format_enabler_theme(\n",
    "    theme: EvalData # The theme object\n",
    "    ) -> str: # The formatted theme string\n",
    "    \"Format SRF enabler into structured text for LM processing.\"\n",
    "    parts = [\n",
    "        f'## Enabler {theme.id}: {theme.title}',\n",
    "        '### Description', \n",
    "        theme.description\n",
    "    ]\n",
    "    return '\\n'.join(parts)"
   ]
  },
  {
   "cell_type": "markdown",
   "metadata": {},
   "source": [
    "For instance: "
   ]
  },
  {
   "cell_type": "code",
   "execution_count": null,
   "metadata": {},
   "outputs": [
    {
     "data": {
      "text/html": [
       "<pre style=\"white-space:pre;overflow-x:auto;line-height:normal;font-family:Menlo,'DejaVu Sans Mono',consolas,'Courier New',monospace\">## Enabler <span style=\"color: #008080; text-decoration-color: #008080; font-weight: bold\">4</span>: Data and evidence\n",
       "### Description\n",
       "IOM will be the pre-eminent source of migration and displacement data for action, which help save lives and deliver\n",
       "solutions; data for insight, which help facilitate regular migration pathways; and data for foresight, which help \n",
       "drive anticipatory action. IOM will have the systems and data fluency to collect, safely store, analyze, share and \n",
       "apply disaggregated data and evidence across the mobility spectrum. Our extensive data and research repositories \n",
       "will underpin evidence-based policies and practices. Data will be central to the internal decision-making and \n",
       "management of the Organization.\n",
       "</pre>\n"
      ],
      "text/plain": [
       "## Enabler \u001b[1;36m4\u001b[0m: Data and evidence\n",
       "### Description\n",
       "IOM will be the pre-eminent source of migration and displacement data for action, which help save lives and deliver\n",
       "solutions; data for insight, which help facilitate regular migration pathways; and data for foresight, which help \n",
       "drive anticipatory action. IOM will have the systems and data fluency to collect, safely store, analyze, share and \n",
       "apply disaggregated data and evidence across the mobility spectrum. Our extensive data and research repositories \n",
       "will underpin evidence-based policies and practices. Data will be central to the internal decision-making and \n",
       "management of the Organization.\n"
      ]
     },
     "metadata": {},
     "output_type": "display_data"
    }
   ],
   "source": [
    "#| eval: false\n",
    "eval_data = IOMEvalData()\n",
    "data_evidence = eval_data.srf_enablers[3]  # \"Data and evidence\" is at index 3\n",
    "print(format_enabler_theme(data_evidence))"
   ]
  },
  {
   "cell_type": "markdown",
   "metadata": {},
   "source": [
    "## Signatures"
   ]
  },
  {
   "cell_type": "markdown",
   "metadata": {},
   "source": [
    "A [DSPy signature](https://dspy.ai/learn/programming/signatures) is a declarative specification of input/output behavior of a DSPy module. Signatures allow you to tell the LM (Language Model) what it needs to do, rather than specify how we should ask the LM to do it."
   ]
  },
  {
   "cell_type": "code",
   "execution_count": null,
   "metadata": {},
   "outputs": [],
   "source": [
    "#| exports\n",
    "class Overview(dspy.Signature):\n",
    "    \"Based on framework theme to map and report's TOC determine the sections to explore first.\"\n",
    "    theme: str = dspy.InputField(desc=\"Theme being analyzed\")\n",
    "    all_headings: str = dspy.InputField(desc=\"Complete document structure\")\n",
    "    priority_sections: List[str] = dspy.OutputField(desc=\"Ordered list of section keys to explore first\")\n",
    "    strategy: str = dspy.OutputField(desc=\"Reasoning for this exploration strategy\")"
   ]
  },
  {
   "cell_type": "markdown",
   "metadata": {},
   "source": [
    "For instance on \"Data and evidence\" SRF Enabler:"
   ]
  },
  {
   "cell_type": "code",
   "execution_count": null,
   "metadata": {},
   "outputs": [
    {
     "data": {
      "text/html": [
       "<pre style=\"white-space:pre;overflow-x:auto;line-height:normal;font-family:Menlo,'DejaVu Sans Mono',consolas,'Courier New',monospace\">Priority sections: <span style=\"font-weight: bold\">[</span><span style=\"color: #008000; text-decoration-color: #008000\">'3. Methodology .... page 8'</span>, <span style=\"color: #008000; text-decoration-color: #008000\">'4. Findings .... page 10'</span>, <span style=\"color: #008000; text-decoration-color: #008000\">'4.1. Relevance .... page 10'</span>, <span style=\"color: #008000; text-decoration-color: #008000\">'4.3. </span>\n",
       "<span style=\"color: #008000; text-decoration-color: #008000\">Effectiveness .... page 16'</span>, <span style=\"color: #008000; text-decoration-color: #008000\">'Data availability .... page 16'</span>, <span style=\"color: #008000; text-decoration-color: #008000\">'5. Conclusions and Recommendations .... page 27'</span><span style=\"font-weight: bold\">]</span>\n",
       "</pre>\n"
      ],
      "text/plain": [
       "Priority sections: \u001b[1m[\u001b[0m\u001b[32m'3. Methodology .... page 8'\u001b[0m, \u001b[32m'4. Findings .... page 10'\u001b[0m, \u001b[32m'4.1. Relevance .... page 10'\u001b[0m, \u001b[32m'4.3. \u001b[0m\n",
       "\u001b[32mEffectiveness .... page 16'\u001b[0m, \u001b[32m'Data availability .... page 16'\u001b[0m, \u001b[32m'5. Conclusions and Recommendations .... page 27'\u001b[0m\u001b[1m]\u001b[0m\n"
      ]
     },
     "metadata": {},
     "output_type": "display_data"
    },
    {
     "data": {
      "text/html": [
       "<pre style=\"white-space:pre;overflow-x:auto;line-height:normal;font-family:Menlo,'DejaVu Sans Mono',consolas,'Courier New',monospace\">Strategy: The strategy is to prioritize sections that directly relate to data collection, analysis, and the \n",
       "presentation of findings. This includes sections on methodology, findings, effectiveness <span style=\"font-weight: bold\">(</span>which often relies on \n",
       "data<span style=\"font-weight: bold\">)</span>, and conclusions.\n",
       "</pre>\n"
      ],
      "text/plain": [
       "Strategy: The strategy is to prioritize sections that directly relate to data collection, analysis, and the \n",
       "presentation of findings. This includes sections on methodology, findings, effectiveness \u001b[1m(\u001b[0mwhich often relies on \n",
       "data\u001b[1m)\u001b[0m, and conclusions.\n"
      ]
     },
     "metadata": {},
     "output_type": "display_data"
    }
   ],
   "source": [
    "#| eval: false\n",
    "overview_analyzer = dspy.ChainOfThought(Overview)\n",
    "result_overview = overview_analyzer(\n",
    "    theme = format_enabler_theme(data_evidence),\n",
    "    all_headings=str(hdgs),\n",
    ")\n",
    "\n",
    "print(f'Priority sections: {result_overview.priority_sections}')\n",
    "print(f'Strategy: {result_overview.strategy}')"
   ]
  },
  {
   "cell_type": "code",
   "execution_count": null,
   "metadata": {},
   "outputs": [],
   "source": [
    "#| exports\n",
    "class Exploration(dspy.Signature):\n",
    "    \"Decide next exploration step for theme to be mapped based on current findings and available sections.\"\n",
    "    theme: str = dspy.InputField(desc=\"Theme being analyzed\")\n",
    "    current_findings: str = dspy.InputField(desc=\"Evidence found so far\")\n",
    "    available_sections: str = dspy.InputField(desc=\"Remaining sections to explore\")\n",
    "    next_section: str = dspy.OutputField(desc=\"Next section key to explore, or 'DONE' if sufficient\")\n",
    "    reasoning: str = dspy.OutputField(desc=\"Why this section or why stopping\")"
   ]
  },
  {
   "cell_type": "code",
   "execution_count": null,
   "metadata": {},
   "outputs": [
    {
     "data": {
      "text/html": [
       "<pre style=\"white-space:pre;overflow-x:auto;line-height:normal;font-family:Menlo,'DejaVu Sans Mono',consolas,'Courier New',monospace\">Next section: <span style=\"color: #008080; text-decoration-color: #008080; font-weight: bold\">4</span>. Findings <span style=\"color: #808000; text-decoration-color: #808000\">...</span>. page <span style=\"color: #008080; text-decoration-color: #008080; font-weight: bold\">10</span>\n",
       "</pre>\n"
      ],
      "text/plain": [
       "Next section: \u001b[1;36m4\u001b[0m. Findings \u001b[33m...\u001b[0m. page \u001b[1;36m10\u001b[0m\n"
      ]
     },
     "metadata": {},
     "output_type": "display_data"
    },
    {
     "data": {
      "text/html": [
       "<pre style=\"white-space:pre;overflow-x:auto;line-height:normal;font-family:Menlo,'DejaVu Sans Mono',consolas,'Courier New',monospace\">Reasoning: To understand how the theme of <span style=\"color: #008000; text-decoration-color: #008000\">\"Data and evidence\"</span> is addressed in the document, I should start by \n",
       "looking at the main findings section. This will give a general overview of how data and evidence are used or \n",
       "discussed in the document.\n",
       "</pre>\n"
      ],
      "text/plain": [
       "Reasoning: To understand how the theme of \u001b[32m\"Data and evidence\"\u001b[0m is addressed in the document, I should start by \n",
       "looking at the main findings section. This will give a general overview of how data and evidence are used or \n",
       "discussed in the document.\n"
      ]
     },
     "metadata": {},
     "output_type": "display_data"
    }
   ],
   "source": [
    "#| eval: false\n",
    "exploration = dspy.ChainOfThought(Exploration)\n",
    "\n",
    "result_exploration = exploration(\n",
    "    theme = format_enabler_theme(data_evidence),\n",
    "    current_findings=\"No evidence collected yet\",\n",
    "    available_sections=str(result_overview.priority_sections)\n",
    ")\n",
    "\n",
    "print(\"Next section:\", result_exploration.next_section)\n",
    "print(\"Reasoning:\", result_exploration.reasoning)"
   ]
  },
  {
   "cell_type": "code",
   "execution_count": null,
   "metadata": {},
   "outputs": [],
   "source": [
    "#| exports\n",
    "class Assessment(dspy.Signature):\n",
    "    \"Assess if current evidence is sufficient for theme analysis.\"\n",
    "    theme: str = dspy.InputField(desc=\"Theme being analyzed\")\n",
    "    evidence_so_far: str = dspy.InputField(desc=\"All evidence collected\")\n",
    "    sections_explored: str = dspy.InputField(desc=\"Sections already checked\")\n",
    "    sufficient: bool = dspy.OutputField(desc=\"Is evidence sufficient to make conclusion?\")\n",
    "    confidence_score: float = dspy.OutputField(desc=\"Confidence in current findings (0-1)\")\n",
    "    next_priority: str = dspy.OutputField(desc=\"If continuing, what type of section to prioritize\")"
   ]
  },
  {
   "cell_type": "markdown",
   "metadata": {},
   "source": [
    "\n",
    "We treat observability and LLM evaluation as core requirements for our mapping pipeline. While DSPy's built-in `dspy.inspect_history()` provides valuable reasoning chains, we enhance it with structured metadata (`report_id`, `phase_nb`, `framework`) to create comprehensive audit trails. This enriched tracing enables systematic evaluation of mapping accuracy, supports human evaluator annotation workflows, and provides the detailed context necessary for debugging and improving our LLM-based document analysis system. \n",
    "\n",
    "We define below enum and configuration classes for pipeline tracing and validation. These provide structured metadata for audit trails and evaluation."
   ]
  },
  {
   "cell_type": "code",
   "execution_count": null,
   "metadata": {},
   "outputs": [],
   "source": [
    "#| exports\n",
    "class Phase(Enum):\n",
    "    \"Pipeline phase number.\"\n",
    "    STAGE1 = 1\n",
    "    STAGE2 = 2\n",
    "    STAGE3 = 3"
   ]
  },
  {
   "cell_type": "code",
   "execution_count": null,
   "metadata": {},
   "outputs": [],
   "source": [
    "#| exports\n",
    "class TraceContext(AttrDict):\n",
    "    \"Context for tracing the mapping process\"\n",
    "    def __init__(self, \n",
    "                 report_id:str,  # Report identifier\n",
    "                 phase_nb:Phase,  # Pipeline phase number\n",
    "                 framework:FrameworkInfo,  # Framework info (name, category, theme_id)\n",
    "                 ): \n",
    "        store_attr()\n",
    "    \n",
    "    def __repr__(self):\n",
    "        return f\"TraceContext(report_id={self.report_id}, phase_nb={self.phase_nb}, framework={self.framework})\""
   ]
  },
  {
   "cell_type": "code",
   "execution_count": null,
   "metadata": {},
   "outputs": [
    {
     "data": {
      "text/markdown": [
       "```json\n",
       "TraceContext(report_id=49d2fba781b6a7c0d94577479636ee6f, phase_nb=Phase.STAGE1, framework={'name': 'SRF', 'category': 'Enablers', 'theme_id': '4'})\n",
       "```"
      ],
      "text/plain": [
       "TraceContext(report_id=49d2fba781b6a7c0d94577479636ee6f, phase_nb=Phase.STAGE1, framework={'name': 'SRF', 'category': 'Enablers', 'theme_id': '4'})"
      ]
     },
     "execution_count": null,
     "metadata": {},
     "output_type": "execute_result"
    }
   ],
   "source": [
    "#| eval: false\n",
    "tr_ctx = TraceContext(\n",
    "    report_id='49d2fba781b6a7c0d94577479636ee6f', \n",
    "    phase_nb=Phase.STAGE1, \n",
    "    framework=FrameworkInfo(\"SRF\",\"Enablers\",\"4\")\n",
    "    )\n",
    "\n",
    "tr_ctx"
   ]
  },
  {
   "cell_type": "code",
   "execution_count": null,
   "metadata": {},
   "outputs": [],
   "source": [
    "#| exports\n",
    "class Synthesis(dspy.Signature):\n",
    "    \"Provide detailed rationale and synthesis of theme analysis.\"\n",
    "    trace_ctx: str = dspy.InputField(desc=\"Trace context\")\n",
    "    theme: str = dspy.InputField(desc=\"Theme being analyzed\")\n",
    "    all_evidence: str = dspy.InputField(desc=\"All collected evidence\")\n",
    "    sections_explored: str = dspy.InputField(desc=\"List of sections explored\")\n",
    "    theme_covered: bool = dspy.OutputField(desc=\"Final decision on theme coverage\")\n",
    "    confidence_explanation: str = dspy.OutputField(desc=\"Detailed explanation of confidence score\")\n",
    "    evidence_summary: str = dspy.OutputField(desc=\"Key evidence supporting the conclusion\")\n",
    "    gaps_identified: str = dspy.OutputField(desc=\"Any gaps or missing aspects\")"
   ]
  },
  {
   "cell_type": "markdown",
   "metadata": {},
   "source": [
    "## Reasoning & Acting (ReAct)"
   ]
  },
  {
   "cell_type": "markdown",
   "metadata": {},
   "source": [
    "**Why We Built a Custom Iterative Analyzer Instead of Using DSPy ReAct?**\n",
    "\n",
    "We could have leveraged DSPy's built-in [`ReAct` module](https://dspy.ai/api/modules/ReAct), which provides an agent-based approach where the LLM automatically decides when and how to use exploration tools. The \"ReAct\" concept has been introduced in [this paper](https://arxiv.org/pdf/2210.03629). However, we chose to implement our own iterative analyzer from scratch for several critical reasons:\n",
    "\n",
    "- **Open-ended vs. Structured Nature**: DSPy's ReAct is designed for open-ended problem solving where the agent explores freely using available tools. Our use case requires a more structured, methodical approach to document analysis with predictable exploration patterns.\n",
    "\n",
    "- **Document-Specific Control**: Our approach is tailored specifically for structured document exploration with hierarchical headings, allowing us to implement domain-specific logic for section navigation and content retrieval.\n",
    "\n",
    "- **Evaluator Requirements**: Since traces will be reviewed by human evaluators for error analysis, we needed explicit, step-by-step decision logging rather than the more implicit reasoning chains that ReAct provides."
   ]
  },
  {
   "cell_type": "code",
   "execution_count": null,
   "metadata": {},
   "outputs": [],
   "source": [
    "#| exports\n",
    "class ThemeAnalyzer(dspy.Module):\n",
    "    \"\"\"\n",
    "    Analyzes a theme across a document by iteratively exploring sections, collecting evidence, and synthesizing findings. \n",
    "    Uses a structured pipeline of overview -> exploration -> assessment -> synthesis.\n",
    "    \"\"\"\n",
    "    def __init__(self, \n",
    "                 overview_sig:dspy.Signature, # Overview signature\n",
    "                 exploration_sig:dspy.Signature, # Exploration signature\n",
    "                 assessment_sig:dspy.Signature, # Assessment signature\n",
    "                 synthesis_sig:dspy.Signature, # Synthesis signature\n",
    "                 max_iter:int=10 # Maximum number of iterations in the ReAct loop\n",
    "                 ):\n",
    "        self.overview = dspy.ChainOfThought(overview_sig)\n",
    "        self.explore = dspy.ChainOfThought(exploration_sig)\n",
    "        self.assess = dspy.ChainOfThought(assessment_sig)\n",
    "        self.synthesize = dspy.ChainOfThought(synthesis_sig)\n",
    "        self.max_iter = max_iter"
   ]
  },
  {
   "cell_type": "code",
   "execution_count": null,
   "metadata": {},
   "outputs": [],
   "source": [
    "#| exports\n",
    "@patch\n",
    "def forward(\n",
    "    self:ThemeAnalyzer, \n",
    "    theme: str, # The formatted theme to analyze\n",
    "    headings: dict, # The headings TOC of the document\n",
    "    trace_ctx:TraceContext, # Trace report and pipeline context\n",
    "    get_content_fn=get_content_tool, # The function to get the content of a section using `hdgs[keys_list].text` for instance\n",
    "    ) -> Synthesis: # Synthesized analysis results including theme coverage, confidence, evidence and gaps\n",
    "    \"Executes a structured analysis process.\"\n",
    "    priority_sections = self.get_overview(theme, headings)\n",
    "    evidence = self.explore_iteratively(theme, priority_sections, headings, get_content_fn)\n",
    "    return self.synthesize_findings(theme, evidence, trace_ctx)"
   ]
  },
  {
   "cell_type": "code",
   "execution_count": null,
   "metadata": {},
   "outputs": [],
   "source": [
    "#| exports\n",
    "@patch\n",
    "def get_overview(self:ThemeAnalyzer, theme, headings) -> Overview:\n",
    "    overview = self.overview(theme=theme, all_headings=str(headings))\n",
    "    print(\"Overview priority sections:\", overview.priority_sections)\n",
    "    print(\"Overview strategy:\", overview.strategy)\n",
    "    return overview.priority_sections\n"
   ]
  },
  {
   "cell_type": "code",
   "execution_count": null,
   "metadata": {},
   "outputs": [],
   "source": [
    "#| exports\n",
    "@patch\n",
    "def explore_iteratively(self:ThemeAnalyzer, theme, priority_sections, headings, get_content_fn):\n",
    "    evidence_collected = []\n",
    "    sections_explored = []\n",
    "    available_sections = priority_sections.copy()\n",
    "    \n",
    "    for i in range(self.max_iter):\n",
    "        print(f\"\\n--- Iteration {i+1} ---\")\n",
    "        if not available_sections:\n",
    "            print(\"No more sections to explore, stopping\")\n",
    "            break\n",
    "        if self.should_stop_exploring(theme, evidence_collected, sections_explored):\n",
    "            break\n",
    "        decision = self.make_exploration_decision(theme, evidence_collected, available_sections)\n",
    "        if decision.next_section == 'DONE':\n",
    "            print(\"Decision says DONE, breaking\")\n",
    "            break\n",
    "        evidence_collected, sections_explored = self.process_section(decision, \n",
    "                                                                     headings, \n",
    "                                                                     get_content_fn, \n",
    "                                                                     evidence_collected, \n",
    "                                                                     sections_explored, \n",
    "                                                                     available_sections)\n",
    "    \n",
    "    return {\"evidence\": evidence_collected, \"sections\": sections_explored}\n"
   ]
  },
  {
   "cell_type": "code",
   "execution_count": null,
   "metadata": {},
   "outputs": [],
   "source": [
    "#| exports\n",
    "@patch\n",
    "def make_exploration_decision(self:ThemeAnalyzer, theme, evidence_collected, available_sections):\n",
    "    decision = self.explore(\n",
    "        theme=theme,\n",
    "        current_findings=\"\\n\\n\".join(evidence_collected) if evidence_collected else \"No evidence collected yet\",\n",
    "        available_sections=str(available_sections)\n",
    "    )\n",
    "    print(\"Decision:\", decision.next_section)\n",
    "    print(\"Reasoning:\", decision.reasoning)\n",
    "    return decision\n"
   ]
  },
  {
   "cell_type": "code",
   "execution_count": null,
   "metadata": {},
   "outputs": [],
   "source": [
    "#| exports\n",
    "@patch\n",
    "def should_stop_exploring(self:ThemeAnalyzer, theme, evidence_collected, sections_explored):\n",
    "    if not evidence_collected:\n",
    "        return False\n",
    "        \n",
    "    assessment = self.assess(\n",
    "        theme=theme,\n",
    "        evidence_so_far=\"\\n\\n\".join(evidence_collected),\n",
    "        sections_explored=str(sections_explored)\n",
    "    )\n",
    "    print(\"Assessment - Sufficient:\", assessment.sufficient, \"Confidence:\", assessment.confidence_score)\n",
    "    \n",
    "    return assessment.sufficient and assessment.confidence_score > 0.8\n"
   ]
  },
  {
   "cell_type": "code",
   "execution_count": null,
   "metadata": {},
   "outputs": [],
   "source": [
    "#| exports\n",
    "@patch\n",
    "def process_section(self:ThemeAnalyzer, decision, headings, get_content_fn, evidence_collected, sections_explored, available_sections):\n",
    "    path = find_section_path(headings, decision.next_section)\n",
    "    print(\"Path found:\", path)\n",
    "    \n",
    "    if path:\n",
    "        content = get_content_fn(headings, path)\n",
    "        print(\"Content length:\", len(content))\n",
    "        evidence_collected.append(f\"# Section: {decision.next_section}\\n## Content\\n{content}\")\n",
    "        sections_explored.append(decision.next_section)\n",
    "        if decision.next_section in available_sections:\n",
    "            available_sections.remove(decision.next_section)\n",
    "    else:\n",
    "        print(\"No path found for section!\")\n",
    "    \n",
    "    return evidence_collected, sections_explored\n"
   ]
  },
  {
   "cell_type": "code",
   "execution_count": null,
   "metadata": {},
   "outputs": [],
   "source": [
    "#| exports\n",
    "@patch\n",
    "def synthesize_findings(self:ThemeAnalyzer, theme, evidence, trace_ctx):\n",
    "    synthesis = self.synthesize(\n",
    "        trace_ctx=str(trace_ctx),\n",
    "        theme=theme,\n",
    "        all_evidence=\"\\n\\n\".join(evidence[\"evidence\"]),\n",
    "        sections_explored=str(evidence[\"sections\"])\n",
    "    )\n",
    "    print(\"Synthesis result:\", synthesis.theme_covered)\n",
    "    print(\"Synthesis reasoning:\", synthesis.confidence_explanation)\n",
    "    print(\"Synthesis evidence:\", synthesis.evidence_summary)\n",
    "    print(\"Synthesis gaps:\", synthesis.gaps_identified)\n",
    "    return synthesis\n"
   ]
  },
  {
   "cell_type": "markdown",
   "metadata": {},
   "source": [
    "For instance:\n",
    "\n",
    "- create the analyzer"
   ]
  },
  {
   "cell_type": "code",
   "execution_count": null,
   "metadata": {},
   "outputs": [],
   "source": [
    "#| eval: false\n",
    "analyzer = ThemeAnalyzer(Overview, Exploration, Assessment, Synthesis)"
   ]
  },
  {
   "cell_type": "markdown",
   "metadata": {},
   "source": [
    "- pick a theme"
   ]
  },
  {
   "cell_type": "code",
   "execution_count": null,
   "metadata": {},
   "outputs": [
    {
     "data": {
      "text/html": [
       "<pre style=\"white-space:pre;overflow-x:auto;line-height:normal;font-family:Menlo,'DejaVu Sans Mono',consolas,'Courier New',monospace\">## Enabler <span style=\"color: #008080; text-decoration-color: #008080; font-weight: bold\">4</span>: Data and evidence\n",
       "### Description\n",
       "IOM will be the pre-eminent source of migration and displacement data for action, which help save lives and deliver\n",
       "solutions; data for insight, which help facilitate regular migration pathways; and data for foresight, which help \n",
       "drive anticipatory action. IOM will have the systems and data fluency to collect, safely store, analyze, share and \n",
       "apply disaggregated data and evidence across the mobility spectrum. Our extensive data and research repositories \n",
       "will underpin evidence-based policies and practices. Data will be central to the internal decision-making and \n",
       "management of the Organization.\n",
       "</pre>\n"
      ],
      "text/plain": [
       "## Enabler \u001b[1;36m4\u001b[0m: Data and evidence\n",
       "### Description\n",
       "IOM will be the pre-eminent source of migration and displacement data for action, which help save lives and deliver\n",
       "solutions; data for insight, which help facilitate regular migration pathways; and data for foresight, which help \n",
       "drive anticipatory action. IOM will have the systems and data fluency to collect, safely store, analyze, share and \n",
       "apply disaggregated data and evidence across the mobility spectrum. Our extensive data and research repositories \n",
       "will underpin evidence-based policies and practices. Data will be central to the internal decision-making and \n",
       "management of the Organization.\n"
      ]
     },
     "metadata": {},
     "output_type": "display_data"
    }
   ],
   "source": [
    "#| eval: false\n",
    "theme = format_enabler_theme(eval_data.srf_enablers[3])  # \"Data and evidence\"\n",
    "print(theme)"
   ]
  },
  {
   "cell_type": "code",
   "execution_count": null,
   "metadata": {},
   "outputs": [
    {
     "data": {
      "text/markdown": [
       "```json\n",
       "TraceContext(report_id=49d2fba781b6a7c0d94577479636ee6f, phase_nb=Phase.STAGE1, framework={'name': 'SRF', 'category': 'Enablers', 'theme_id': '4'})\n",
       "```"
      ],
      "text/plain": [
       "TraceContext(report_id=49d2fba781b6a7c0d94577479636ee6f, phase_nb=Phase.STAGE1, framework={'name': 'SRF', 'category': 'Enablers', 'theme_id': '4'})"
      ]
     },
     "execution_count": null,
     "metadata": {},
     "output_type": "execute_result"
    }
   ],
   "source": [
    "#| eval: false\n",
    "tr_ctx"
   ]
  },
  {
   "cell_type": "code",
   "execution_count": null,
   "metadata": {},
   "outputs": [
    {
     "data": {
      "text/html": [
       "<pre style=\"white-space:pre;overflow-x:auto;line-height:normal;font-family:Menlo,'DejaVu Sans Mono',consolas,'Courier New',monospace\">Overview priority sections:\n",
       "<span style=\"font-weight: bold\">[</span>\n",
       "    <span style=\"color: #008000; text-decoration-color: #008000\">'3. Methodology .... page 8'</span>,\n",
       "    <span style=\"color: #008000; text-decoration-color: #008000\">'4. Findings .... page 10'</span>,\n",
       "    <span style=\"color: #008000; text-decoration-color: #008000\">'4.1. Relevance .... page 10'</span>,\n",
       "    <span style=\"color: #008000; text-decoration-color: #008000\">'4.3. Effectiveness .... page 16'</span>,\n",
       "    <span style=\"color: #008000; text-decoration-color: #008000\">'Data availability .... page 16'</span>,\n",
       "    <span style=\"color: #008000; text-decoration-color: #008000\">'5. Conclusions and Recommendations .... page 27'</span>\n",
       "<span style=\"font-weight: bold\">]</span>\n",
       "</pre>\n"
      ],
      "text/plain": [
       "Overview priority sections:\n",
       "\u001b[1m[\u001b[0m\n",
       "    \u001b[32m'3. Methodology .... page 8'\u001b[0m,\n",
       "    \u001b[32m'4. Findings .... page 10'\u001b[0m,\n",
       "    \u001b[32m'4.1. Relevance .... page 10'\u001b[0m,\n",
       "    \u001b[32m'4.3. Effectiveness .... page 16'\u001b[0m,\n",
       "    \u001b[32m'Data availability .... page 16'\u001b[0m,\n",
       "    \u001b[32m'5. Conclusions and Recommendations .... page 27'\u001b[0m\n",
       "\u001b[1m]\u001b[0m\n"
      ]
     },
     "metadata": {},
     "output_type": "display_data"
    },
    {
     "data": {
      "text/html": [
       "<pre style=\"white-space:pre;overflow-x:auto;line-height:normal;font-family:Menlo,'DejaVu Sans Mono',consolas,'Courier New',monospace\">Overview strategy: The strategy is to prioritize sections that directly relate to data collection, analysis, and \n",
       "the presentation of findings. This includes sections on methodology, findings, effectiveness <span style=\"font-weight: bold\">(</span>which often relies on\n",
       "data<span style=\"font-weight: bold\">)</span>, and conclusions.\n",
       "</pre>\n"
      ],
      "text/plain": [
       "Overview strategy: The strategy is to prioritize sections that directly relate to data collection, analysis, and \n",
       "the presentation of findings. This includes sections on methodology, findings, effectiveness \u001b[1m(\u001b[0mwhich often relies on\n",
       "data\u001b[1m)\u001b[0m, and conclusions.\n"
      ]
     },
     "metadata": {},
     "output_type": "display_data"
    },
    {
     "data": {
      "text/html": [
       "<pre style=\"white-space:pre;overflow-x:auto;line-height:normal;font-family:Menlo,'DejaVu Sans Mono',consolas,'Courier New',monospace\">\n",
       "--- Iteration <span style=\"color: #008080; text-decoration-color: #008080; font-weight: bold\">1</span> ---\n",
       "</pre>\n"
      ],
      "text/plain": [
       "\n",
       "--- Iteration \u001b[1;36m1\u001b[0m ---\n"
      ]
     },
     "metadata": {},
     "output_type": "display_data"
    },
    {
     "data": {
      "text/html": [
       "<pre style=\"white-space:pre;overflow-x:auto;line-height:normal;font-family:Menlo,'DejaVu Sans Mono',consolas,'Courier New',monospace\">Decision: <span style=\"color: #008080; text-decoration-color: #008080; font-weight: bold\">4</span>. Findings <span style=\"color: #808000; text-decoration-color: #808000\">...</span>. page <span style=\"color: #008080; text-decoration-color: #008080; font-weight: bold\">10</span>\n",
       "</pre>\n"
      ],
      "text/plain": [
       "Decision: \u001b[1;36m4\u001b[0m. Findings \u001b[33m...\u001b[0m. page \u001b[1;36m10\u001b[0m\n"
      ]
     },
     "metadata": {},
     "output_type": "display_data"
    },
    {
     "data": {
      "text/html": [
       "<pre style=\"white-space:pre;overflow-x:auto;line-height:normal;font-family:Menlo,'DejaVu Sans Mono',consolas,'Courier New',monospace\">Reasoning: To understand how the theme of <span style=\"color: #008000; text-decoration-color: #008000\">\"Data and evidence\"</span> is addressed in the document, I should start by \n",
       "looking at the main findings section. This will give a general overview of how data and evidence are used or \n",
       "discussed in the document.\n",
       "</pre>\n"
      ],
      "text/plain": [
       "Reasoning: To understand how the theme of \u001b[32m\"Data and evidence\"\u001b[0m is addressed in the document, I should start by \n",
       "looking at the main findings section. This will give a general overview of how data and evidence are used or \n",
       "discussed in the document.\n"
      ]
     },
     "metadata": {},
     "output_type": "display_data"
    },
    {
     "data": {
      "text/html": [
       "<pre style=\"white-space:pre;overflow-x:auto;line-height:normal;font-family:Menlo,'DejaVu Sans Mono',consolas,'Courier New',monospace\">Path found:\n",
       "<span style=\"font-weight: bold\">[</span><span style=\"color: #008000; text-decoration-color: #008000\">'4. Findings .... page 10'</span><span style=\"font-weight: bold\">]</span>\n",
       "</pre>\n"
      ],
      "text/plain": [
       "Path found:\n",
       "\u001b[1m[\u001b[0m\u001b[32m'4. Findings .... page 10'\u001b[0m\u001b[1m]\u001b[0m\n"
      ]
     },
     "metadata": {},
     "output_type": "display_data"
    },
    {
     "data": {
      "text/html": [
       "<pre style=\"white-space:pre;overflow-x:auto;line-height:normal;font-family:Menlo,'DejaVu Sans Mono',consolas,'Courier New',monospace\">Content length: <span style=\"color: #008080; text-decoration-color: #008080; font-weight: bold\">19083</span>\n",
       "</pre>\n"
      ],
      "text/plain": [
       "Content length: \u001b[1;36m19083\u001b[0m\n"
      ]
     },
     "metadata": {},
     "output_type": "display_data"
    },
    {
     "data": {
      "text/html": [
       "<pre style=\"white-space:pre;overflow-x:auto;line-height:normal;font-family:Menlo,'DejaVu Sans Mono',consolas,'Courier New',monospace\">\n",
       "--- Iteration <span style=\"color: #008080; text-decoration-color: #008080; font-weight: bold\">2</span> ---\n",
       "</pre>\n"
      ],
      "text/plain": [
       "\n",
       "--- Iteration \u001b[1;36m2\u001b[0m ---\n"
      ]
     },
     "metadata": {},
     "output_type": "display_data"
    },
    {
     "data": {
      "text/html": [
       "<pre style=\"white-space:pre;overflow-x:auto;line-height:normal;font-family:Menlo,'DejaVu Sans Mono',consolas,'Courier New',monospace\">Assessment - Sufficient: <span style=\"color: #ff0000; text-decoration-color: #ff0000; font-style: italic\">False</span> Confidence: <span style=\"color: #008080; text-decoration-color: #008080; font-weight: bold\">0.3</span>\n",
       "</pre>\n"
      ],
      "text/plain": [
       "Assessment - Sufficient: \u001b[3;91mFalse\u001b[0m Confidence: \u001b[1;36m0.3\u001b[0m\n"
      ]
     },
     "metadata": {},
     "output_type": "display_data"
    },
    {
     "data": {
      "text/html": [
       "<pre style=\"white-space:pre;overflow-x:auto;line-height:normal;font-family:Menlo,'DejaVu Sans Mono',consolas,'Courier New',monospace\">Decision: <span style=\"color: #008080; text-decoration-color: #008080; font-weight: bold\">4.3</span>. Effectiveness <span style=\"color: #808000; text-decoration-color: #808000\">...</span>. page <span style=\"color: #008080; text-decoration-color: #008080; font-weight: bold\">16</span>\n",
       "</pre>\n"
      ],
      "text/plain": [
       "Decision: \u001b[1;36m4.3\u001b[0m. Effectiveness \u001b[33m...\u001b[0m. page \u001b[1;36m16\u001b[0m\n"
      ]
     },
     "metadata": {},
     "output_type": "display_data"
    },
    {
     "data": {
      "text/html": [
       "<pre style=\"white-space:pre;overflow-x:auto;line-height:normal;font-family:Menlo,'DejaVu Sans Mono',consolas,'Courier New',monospace\">Reasoning: The current findings cover relevance and coherence, but not effectiveness. Since the theme is data and \n",
       "evidence, and the current findings are focused on relevance and coherence, it is important to explore the \n",
       "effectiveness section to see how data and evidence played a role in the effectiveness of the program.\n",
       "</pre>\n"
      ],
      "text/plain": [
       "Reasoning: The current findings cover relevance and coherence, but not effectiveness. Since the theme is data and \n",
       "evidence, and the current findings are focused on relevance and coherence, it is important to explore the \n",
       "effectiveness section to see how data and evidence played a role in the effectiveness of the program.\n"
      ]
     },
     "metadata": {},
     "output_type": "display_data"
    },
    {
     "data": {
      "text/html": [
       "<pre style=\"white-space:pre;overflow-x:auto;line-height:normal;font-family:Menlo,'DejaVu Sans Mono',consolas,'Courier New',monospace\">Path found:\n",
       "<span style=\"font-weight: bold\">[</span><span style=\"color: #008000; text-decoration-color: #008000\">'4.3. Effectiveness .... page 16'</span><span style=\"font-weight: bold\">]</span>\n",
       "</pre>\n"
      ],
      "text/plain": [
       "Path found:\n",
       "\u001b[1m[\u001b[0m\u001b[32m'4.3. Effectiveness .... page 16'\u001b[0m\u001b[1m]\u001b[0m\n"
      ]
     },
     "metadata": {},
     "output_type": "display_data"
    },
    {
     "data": {
      "text/html": [
       "<pre style=\"white-space:pre;overflow-x:auto;line-height:normal;font-family:Menlo,'DejaVu Sans Mono',consolas,'Courier New',monospace\">Content length: <span style=\"color: #008080; text-decoration-color: #008080; font-weight: bold\">7681</span>\n",
       "</pre>\n"
      ],
      "text/plain": [
       "Content length: \u001b[1;36m7681\u001b[0m\n"
      ]
     },
     "metadata": {},
     "output_type": "display_data"
    },
    {
     "data": {
      "text/html": [
       "<pre style=\"white-space:pre;overflow-x:auto;line-height:normal;font-family:Menlo,'DejaVu Sans Mono',consolas,'Courier New',monospace\">\n",
       "--- Iteration <span style=\"color: #008080; text-decoration-color: #008080; font-weight: bold\">3</span> ---\n",
       "</pre>\n"
      ],
      "text/plain": [
       "\n",
       "--- Iteration \u001b[1;36m3\u001b[0m ---\n"
      ]
     },
     "metadata": {},
     "output_type": "display_data"
    },
    {
     "data": {
      "text/html": [
       "<pre style=\"white-space:pre;overflow-x:auto;line-height:normal;font-family:Menlo,'DejaVu Sans Mono',consolas,'Courier New',monospace\">Assessment - Sufficient: <span style=\"color: #ff0000; text-decoration-color: #ff0000; font-style: italic\">False</span> Confidence: <span style=\"color: #008080; text-decoration-color: #008080; font-weight: bold\">0.6</span>\n",
       "</pre>\n"
      ],
      "text/plain": [
       "Assessment - Sufficient: \u001b[3;91mFalse\u001b[0m Confidence: \u001b[1;36m0.6\u001b[0m\n"
      ]
     },
     "metadata": {},
     "output_type": "display_data"
    },
    {
     "data": {
      "text/html": [
       "<pre style=\"white-space:pre;overflow-x:auto;line-height:normal;font-family:Menlo,'DejaVu Sans Mono',consolas,'Courier New',monospace\">Decision: <span style=\"color: #008080; text-decoration-color: #008080; font-weight: bold\">5</span>. Conclusions and Recommendations <span style=\"color: #808000; text-decoration-color: #808000\">...</span>. page <span style=\"color: #008080; text-decoration-color: #008080; font-weight: bold\">27</span>\n",
       "</pre>\n"
      ],
      "text/plain": [
       "Decision: \u001b[1;36m5\u001b[0m. Conclusions and Recommendations \u001b[33m...\u001b[0m. page \u001b[1;36m27\u001b[0m\n"
      ]
     },
     "metadata": {},
     "output_type": "display_data"
    },
    {
     "data": {
      "text/html": [
       "<pre style=\"white-space:pre;overflow-x:auto;line-height:normal;font-family:Menlo,'DejaVu Sans Mono',consolas,'Courier New',monospace\">Reasoning: The current findings cover sections <span style=\"color: #008080; text-decoration-color: #008080; font-weight: bold\">4.1</span>, <span style=\"color: #008080; text-decoration-color: #008080; font-weight: bold\">4.2</span>, and <span style=\"color: #008080; text-decoration-color: #008080; font-weight: bold\">4.3</span>, which discuss the relevance, coherence, and \n",
       "effectiveness of the program. The theme is <span style=\"color: #008000; text-decoration-color: #008000\">\"Enabler 4: Data and evidence\"</span>. The current findings already touch upon \n",
       "data availability under section <span style=\"color: #00ff00; text-decoration-color: #00ff00; font-weight: bold\">4.3.1.1</span>. Since section <span style=\"color: #008080; text-decoration-color: #008080; font-weight: bold\">4.1</span> is already covered, and the next logical step is to \n",
       "explore the conclusions and recommendations to see how the data and evidence enabler is viewed in the overall \n",
       "context of the evaluation.\n",
       "</pre>\n"
      ],
      "text/plain": [
       "Reasoning: The current findings cover sections \u001b[1;36m4.1\u001b[0m, \u001b[1;36m4.2\u001b[0m, and \u001b[1;36m4.3\u001b[0m, which discuss the relevance, coherence, and \n",
       "effectiveness of the program. The theme is \u001b[32m\"Enabler 4: Data and evidence\"\u001b[0m. The current findings already touch upon \n",
       "data availability under section \u001b[1;92m4.3.1.1\u001b[0m. Since section \u001b[1;36m4.1\u001b[0m is already covered, and the next logical step is to \n",
       "explore the conclusions and recommendations to see how the data and evidence enabler is viewed in the overall \n",
       "context of the evaluation.\n"
      ]
     },
     "metadata": {},
     "output_type": "display_data"
    },
    {
     "data": {
      "text/html": [
       "<pre style=\"white-space:pre;overflow-x:auto;line-height:normal;font-family:Menlo,'DejaVu Sans Mono',consolas,'Courier New',monospace\">Path found:\n",
       "<span style=\"font-weight: bold\">[</span><span style=\"color: #008000; text-decoration-color: #008000\">'5. Conclusions and Recommendations .... page 27'</span><span style=\"font-weight: bold\">]</span>\n",
       "</pre>\n"
      ],
      "text/plain": [
       "Path found:\n",
       "\u001b[1m[\u001b[0m\u001b[32m'5. Conclusions and Recommendations .... page 27'\u001b[0m\u001b[1m]\u001b[0m\n"
      ]
     },
     "metadata": {},
     "output_type": "display_data"
    },
    {
     "data": {
      "text/html": [
       "<pre style=\"white-space:pre;overflow-x:auto;line-height:normal;font-family:Menlo,'DejaVu Sans Mono',consolas,'Courier New',monospace\">Content length: <span style=\"color: #008080; text-decoration-color: #008080; font-weight: bold\">13375</span>\n",
       "</pre>\n"
      ],
      "text/plain": [
       "Content length: \u001b[1;36m13375\u001b[0m\n"
      ]
     },
     "metadata": {},
     "output_type": "display_data"
    },
    {
     "data": {
      "text/html": [
       "<pre style=\"white-space:pre;overflow-x:auto;line-height:normal;font-family:Menlo,'DejaVu Sans Mono',consolas,'Courier New',monospace\">\n",
       "--- Iteration <span style=\"color: #008080; text-decoration-color: #008080; font-weight: bold\">4</span> ---\n",
       "</pre>\n"
      ],
      "text/plain": [
       "\n",
       "--- Iteration \u001b[1;36m4\u001b[0m ---\n"
      ]
     },
     "metadata": {},
     "output_type": "display_data"
    },
    {
     "data": {
      "text/html": [
       "<pre style=\"white-space:pre;overflow-x:auto;line-height:normal;font-family:Menlo,'DejaVu Sans Mono',consolas,'Courier New',monospace\">Assessment - Sufficient: <span style=\"color: #ff0000; text-decoration-color: #ff0000; font-style: italic\">False</span> Confidence: <span style=\"color: #008080; text-decoration-color: #008080; font-weight: bold\">0.75</span>\n",
       "</pre>\n"
      ],
      "text/plain": [
       "Assessment - Sufficient: \u001b[3;91mFalse\u001b[0m Confidence: \u001b[1;36m0.75\u001b[0m\n"
      ]
     },
     "metadata": {},
     "output_type": "display_data"
    },
    {
     "data": {
      "text/html": [
       "<pre style=\"white-space:pre;overflow-x:auto;line-height:normal;font-family:Menlo,'DejaVu Sans Mono',consolas,'Courier New',monospace\">Decision: DONE\n",
       "</pre>\n"
      ],
      "text/plain": [
       "Decision: DONE\n"
      ]
     },
     "metadata": {},
     "output_type": "display_data"
    },
    {
     "data": {
      "text/html": [
       "<pre style=\"white-space:pre;overflow-x:auto;line-height:normal;font-family:Menlo,'DejaVu Sans Mono',consolas,'Courier New',monospace\">Reasoning: The current findings provide a comprehensive overview of the JI-HoA program, including its relevance, \n",
       "coherence, and effectiveness. The analysis covers various aspects, such as the needs of migrants, returnees, and \n",
       "communities, as well as the program's alignment with IOM and EU objectives. The effectiveness section delves into \n",
       "data availability and the achievement of specific objectives. The conclusion and recommendation sections summarize \n",
       "the program's impact and provide suggestions for future programming.\n",
       "\n",
       "Given the depth of the current findings, further exploration of the available sections is unlikely to yield \n",
       "significant new insights. Therefore, it is appropriate to conclude the analysis at this point.\n",
       "</pre>\n"
      ],
      "text/plain": [
       "Reasoning: The current findings provide a comprehensive overview of the JI-HoA program, including its relevance, \n",
       "coherence, and effectiveness. The analysis covers various aspects, such as the needs of migrants, returnees, and \n",
       "communities, as well as the program's alignment with IOM and EU objectives. The effectiveness section delves into \n",
       "data availability and the achievement of specific objectives. The conclusion and recommendation sections summarize \n",
       "the program's impact and provide suggestions for future programming.\n",
       "\n",
       "Given the depth of the current findings, further exploration of the available sections is unlikely to yield \n",
       "significant new insights. Therefore, it is appropriate to conclude the analysis at this point.\n"
      ]
     },
     "metadata": {},
     "output_type": "display_data"
    },
    {
     "data": {
      "text/html": [
       "<pre style=\"white-space:pre;overflow-x:auto;line-height:normal;font-family:Menlo,'DejaVu Sans Mono',consolas,'Courier New',monospace\">Decision says DONE, breaking\n",
       "</pre>\n"
      ],
      "text/plain": [
       "Decision says DONE, breaking\n"
      ]
     },
     "metadata": {},
     "output_type": "display_data"
    },
    {
     "data": {
      "text/html": [
       "<pre style=\"white-space:pre;overflow-x:auto;line-height:normal;font-family:Menlo,'DejaVu Sans Mono',consolas,'Courier New',monospace\">Synthesis result: <span style=\"color: #00ff00; text-decoration-color: #00ff00; font-style: italic\">True</span>\n",
       "</pre>\n"
      ],
      "text/plain": [
       "Synthesis result: \u001b[3;92mTrue\u001b[0m\n"
      ]
     },
     "metadata": {},
     "output_type": "display_data"
    },
    {
     "data": {
      "text/html": [
       "<pre style=\"white-space:pre;overflow-x:auto;line-height:normal;font-family:Menlo,'DejaVu Sans Mono',consolas,'Courier New',monospace\">Synthesis reasoning: My confidence in assessing the coverage of the theme <span style=\"color: #008000; text-decoration-color: #008000\">\"Data and evidence\"</span> is high <span style=\"font-weight: bold\">(</span><span style=\"color: #008080; text-decoration-color: #008080; font-weight: bold\">9</span>/<span style=\"color: #008080; text-decoration-color: #008080; font-weight: bold\">10</span><span style=\"font-weight: bold\">)</span>. The \n",
       "evaluation report explicitly discusses the program's objectives and achievements related to data collection, \n",
       "analysis, and utilization. The report provides quantitative data <span style=\"font-weight: bold\">(</span>e.g., number of studies conducted, stakeholders \n",
       "trained<span style=\"font-weight: bold\">)</span> and qualitative evidence <span style=\"font-weight: bold\">(</span>e.g., stakeholder interviews<span style=\"font-weight: bold\">)</span> to support its claims. The challenges and \n",
       "limitations are also acknowledged, providing a balanced assessment. The recommendations section reinforces the \n",
       "importance of data and evidence in future programming.\n",
       "</pre>\n"
      ],
      "text/plain": [
       "Synthesis reasoning: My confidence in assessing the coverage of the theme \u001b[32m\"Data and evidence\"\u001b[0m is high \u001b[1m(\u001b[0m\u001b[1;36m9\u001b[0m/\u001b[1;36m10\u001b[0m\u001b[1m)\u001b[0m. The \n",
       "evaluation report explicitly discusses the program's objectives and achievements related to data collection, \n",
       "analysis, and utilization. The report provides quantitative data \u001b[1m(\u001b[0me.g., number of studies conducted, stakeholders \n",
       "trained\u001b[1m)\u001b[0m and qualitative evidence \u001b[1m(\u001b[0me.g., stakeholder interviews\u001b[1m)\u001b[0m to support its claims. The challenges and \n",
       "limitations are also acknowledged, providing a balanced assessment. The recommendations section reinforces the \n",
       "importance of data and evidence in future programming.\n"
      ]
     },
     "metadata": {},
     "output_type": "display_data"
    },
    {
     "data": {
      "text/html": [
       "<pre style=\"white-space:pre;overflow-x:auto;line-height:normal;font-family:Menlo,'DejaVu Sans Mono',consolas,'Courier New',monospace\">Synthesis evidence: Key evidence includes:\n",
       "*   The JI exceeded targets for the number of field studies, surveys, and other research conducted.\n",
       "*   Increased availability of migration data through the Regional Data Hub <span style=\"font-weight: bold\">(</span>RDH<span style=\"font-weight: bold\">)</span>.\n",
       "*   The program exceeded the targeted number of stakeholders strengthened through capacity building or operational \n",
       "support on reintegration.\n",
       "*   Stakeholders reported that data produced has supported evidence-based policies, procedures, and program design.\n",
       "*   The number of stakeholders involved in return and reintegration assistance has increased significantly.\n",
       "*   Stakeholders explicitly appreciated the work of the Regional Data Hub in terms of data production and capacity \n",
       "building.\n",
       "</pre>\n"
      ],
      "text/plain": [
       "Synthesis evidence: Key evidence includes:\n",
       "*   The JI exceeded targets for the number of field studies, surveys, and other research conducted.\n",
       "*   Increased availability of migration data through the Regional Data Hub \u001b[1m(\u001b[0mRDH\u001b[1m)\u001b[0m.\n",
       "*   The program exceeded the targeted number of stakeholders strengthened through capacity building or operational \n",
       "support on reintegration.\n",
       "*   Stakeholders reported that data produced has supported evidence-based policies, procedures, and program design.\n",
       "*   The number of stakeholders involved in return and reintegration assistance has increased significantly.\n",
       "*   Stakeholders explicitly appreciated the work of the Regional Data Hub in terms of data production and capacity \n",
       "building.\n"
      ]
     },
     "metadata": {},
     "output_type": "display_data"
    },
    {
     "data": {
      "text/html": [
       "<pre style=\"white-space:pre;overflow-x:auto;line-height:normal;font-family:Menlo,'DejaVu Sans Mono',consolas,'Courier New',monospace\">Synthesis gaps: While the evaluation covers the availability and use of data, it could benefit from a more in-depth\n",
       "analysis of the *quality* of the data collected and the *specific ways* in which it has influenced policy \n",
       "decisions. More concrete examples of how data has led to improved outcomes for migrants and returnees would further\n",
       "strengthen the assessment. Additionally, a discussion of the ethical considerations related to data collection and \n",
       "sharing would be valuable.\n",
       "</pre>\n"
      ],
      "text/plain": [
       "Synthesis gaps: While the evaluation covers the availability and use of data, it could benefit from a more in-depth\n",
       "analysis of the *quality* of the data collected and the *specific ways* in which it has influenced policy \n",
       "decisions. More concrete examples of how data has led to improved outcomes for migrants and returnees would further\n",
       "strengthen the assessment. Additionally, a discussion of the ethical considerations related to data collection and \n",
       "sharing would be valuable.\n"
      ]
     },
     "metadata": {},
     "output_type": "display_data"
    }
   ],
   "source": [
    "#| eval: false\n",
    "result = analyzer(theme, hdgs, tr_ctx, get_content_tool)"
   ]
  },
  {
   "cell_type": "code",
   "execution_count": null,
   "metadata": {},
   "outputs": [
    {
     "name": "stdout",
     "output_type": "stream",
     "text": [
      "\n",
      "\n",
      "\n",
      "\n",
      "\u001b[34m[2025-09-19T11:55:53.817005]\u001b[0m\n",
      "\n",
      "\u001b[31mSystem message:\u001b[0m\n",
      "\n",
      "Your input fields are:\n",
      "1. `theme` (str): Theme being analyzed\n",
      "2. `all_evidence` (str): All collected evidence\n",
      "3. `sections_explored` (str): List of sections explored\n",
      "Your output fields are:\n",
      "1. `reasoning` (str): \n",
      "2. `theme_covered` (bool): Final decision on theme coverage\n",
      "3. `confidence_explanation` (str): Detailed explanation of confidence score\n",
      "4. `evidence_summary` (str): Key evidence supporting the conclusion\n",
      "5. `gaps_identified` (str): Any gaps or missing aspects\n",
      "All interactions will be structured in the following way, with the appropriate values filled in.\n",
      "\n",
      "[[ ## theme ## ]]\n",
      "{theme}\n",
      "\n",
      "[[ ## all_evidence ## ]]\n",
      "{all_evidence}\n",
      "\n",
      "[[ ## sections_explored ## ]]\n",
      "{sections_explored}\n",
      "\n",
      "[[ ## reasoning ## ]]\n",
      "{reasoning}\n",
      "\n",
      "[[ ## theme_covered ## ]]\n",
      "{theme_covered}        # note: the value you produce must be True or False\n",
      "\n",
      "[[ ## confidence_explanation ## ]]\n",
      "{confidence_explanation}\n",
      "\n",
      "[[ ## evidence_summary ## ]]\n",
      "{evidence_summary}\n",
      "\n",
      "[[ ## gaps_identified ## ]]\n",
      "{gaps_identified}\n",
      "\n",
      "[[ ## completed ## ]]\n",
      "In adhering to this structure, your objective is: \n",
      "        Provide detailed rationale and synthesis of theme analysis.\n",
      "\n",
      "\n",
      "\u001b[31mUser message:\u001b[0m\n",
      "\n",
      "[[ ## theme ## ]]\n",
      "## Enabler 4: Data and evidence\n",
      "### Description\n",
      "IOM will be the pre-eminent source of migration and displacement data for action, which help save lives and deliver solutions; data for insight, which help facilitate regular migration pathways; and data for foresight, which help drive anticipatory action. IOM will have the systems and data fluency to collect, safely store, analyze, share and apply disaggregated data and evidence across the mobility spectrum. Our extensive data and research repositories will underpin evidence-based policies and practices. Data will be central to the internal decision-making and management of the Organization.\n",
      "\n",
      "[[ ## all_evidence ## ]]\n",
      "# Section: 4. Findings .... page 10\n",
      "## Content\n",
      "# 4. Findings .... page 10\n",
      "\n",
      "### 4.1. Relevance .... page 10\n",
      "\n",
      "#### 4.1.1. Relevance of programme activities for migrants, returnees, and communities .... page 10\n",
      "\n",
      "## Overall performance score for relevance: $3.9 / 5$ <br> Robustness score for the evidence: $4.5 / 5$\n",
      "\n",
      "##### 4.1.1.1 Needs of migrants .... page 10\n",
      "\n",
      "Desk research and interviews confirm that the programme responded to the most pressing needs of migrants. The JI-HoA enabled them to return from dangerous environments, such as detention, where no other support was available. Migrants shared that they suffered on their irregular migration journeys, had acutely distressing experiences ${ }^{13}$, and highlighted that their families and communities could not help them ${ }^{14}$. Stakeholders supporting migrants in Djibouti stressed in this regard that the most urgent problems were prioritised, such as hunger, thirst, and fatigue. The JI-HoA, first of all, tried to save their lives by providing the necessary means to survive, such as food, water, clothing and shelter ${ }^{15}$.\n",
      "\n",
      "However, the survey among migrants in MRC indicated that, while $68 \\%$ of respondents were satisfied with the MRC services, only $39 \\%$ reported that the MRCs met all or almost all their needs. IOM explained this number by noting that a large majority of respondents were surveyed while still waiting for their Assisted Voluntary Return and Reintegration (AVRR), which suggests that the support was not provided immediately. Therefore, quicker service provision and AVRR were among the most listed elements for improvement by the respondents. ${ }^{16}$\n",
      "\n",
      "##### 4.1.1.2 Needs of returnees .... page 10\n",
      "\n",
      "The JI-HoA responded to a large extent to the needs of returnees in terms of their reintegration. Namely, upon arrival, returnees are faced with a lack of economic resources to sustain themselves, face stigma and exclusion from community members and experience effects of their distressing migration experiences that affect their ability to rebuild their lives. Therefore, the integrated approach to economic, social, and psychosocial support was of a great relevance to the challenges faced by returnees.\n",
      "\n",
      "[^0]\n",
      "[^0]:    ${ }^{13}$ Kan, Merve. (2022). EU-IOM Joint Initiative Horn of Africa Mental Health and Psychosocial Support (MHPSS) Research Report. Pg. 40-49 and FGDs with returnees in programme countries\n",
      "    ${ }^{14}$ Covid-19 Natural Experiment Report, pg. 63 and FGDs with returnees in programme countries\n",
      "    ${ }^{15}$ Interviews with stakeholders from Djibouti\n",
      "    ${ }^{16}$ IOM MRCs Regional Dashboard, May 2022\n",
      "\n",
      "---\n",
      "\n",
      "According to the RA Monitoring and Satisfaction surveys, 56\\% of the surveyed returnees were satisfied or very satisfied with the reintegration assistance support provided by the JI-HoA ${ }^{17}$.\n",
      "\n",
      "Focus Group Discussions highlighted the importance of the economic assistance to enable returnees to develop sources of income (e.g. through start-up businesses or employment). Since returnees are coming back usually \"empty-handed\", they are experiencing shame, guilt, and are stigmatised by their communities and relatives. The economic support offered by the JI-HoA not only provides them with resources to start their business but also restores their dignity and self-trust ${ }^{18}$.\n",
      "\n",
      "In the Focus Group Discussions (FGDs), some returnees pointed out that the overall value of the economic assistance was not enough. ${ }^{19}$ This was also confirmed by a stakeholder from Sudan, who suggested that returnees needed more money to satisfy their livelihood during the time of planting, growing and harvesting, since they put most of the microbusiness support into the producing and often have no other sources of income ${ }^{20}$. The microbusiness assistance did not always correspond to the knowledge of the recipient or the local context. Namely, a few of the returnees revealed that they were not consulted or received different support than they selected, so they had no other option, but just to accept the support ${ }^{21}$.\n",
      "\n",
      "In terms of psychosocial needs, research results presented at the Research and Evidence Facility (REF) conference of June 2022 indicated that the incidence of Common Mental Disorders (CMD) is significantly higher among JI-HoA beneficiaries in Ethiopia when compared with non-migrant control group ${ }^{22}$. The high prevalence of CMD among returned migrants from the Middle East was also found in another study ${ }^{23}$. This indicates that irregular migrants are much more affected by the CMD compared to people who do not migrate. The specific focus of the JI-HoA on MHPSS therefore addresses key difficulties faced by migrants.\n",
      "\n",
      "However, in the execution, some gaps were found in the correspondence of specific activities to returnees' psychosocial needs. The JI-HoA Programme's Lessons Learned from the Psychosocial Support Component Report noted gaps in the post-return psychosocial support (e.g., lack of MHPSS service, unclear information about compensation of the treatment, high cost, stigma, and low awareness about MHPSS needs among communities) ${ }^{24}$. The post-return psychosocial support was not wellintegrated into the main documents of the JI-HoA programme ${ }^{25}$. This lack of attention led to the lack of\n",
      "\n",
      "[^0]\n",
      "[^0]:    ${ }^{17}$ Interim Narrative Report \\#4 to the European Union, pg. 59.\n",
      "    ${ }^{18}$ Kan, Merve. (2022). EU-IOM Joint Initiative Horn of Africa Mental Health and Psychosocial Support (MHPSS) Research Report. Pg. 51-52\n",
      "    ${ }^{19}$ FGD in Somalia\n",
      "    ${ }^{20}$ Interview with a stakeholder from Sudan\n",
      "    ${ }^{21}$ Covid-19 Natural Experiment Report, pg. 72, FGD with returnees in Ethiopia\n",
      "    ${ }^{22}$ IOM RDH. (2022) Partnerships for Migrant Reintegration, pg. 7.\n",
      "    ${ }^{23}$ Tilahun, M., Workicho, A., \\& Angaw, D. A. (2020). Common mental disorders and its associated factors and mental health care services for Ethiopian labor migrants returned from Middle East countries in Addis Ababa, Ethiopia BMC Health Services Research 20:681 doi: https://doi.org/10.1186/s12913-020-05502-0\n",
      "    ${ }^{24}$ Kan, Merve. (2022). \"Lessons Learned from the Psychosocial Support (PSS) Component of the EU-IOM Joint Initiative Programme in Ethiopia, Sudan and Somalia\"\n",
      "    ${ }^{25}$ Mid-Term Review of EU-IOM Joint Initiative for Migrant Protection and Reintegration in the Horn of Africa, pg. 15.\n",
      "\n",
      "---\n",
      "\n",
      "guidance and tools for the MHPSS in each programme country, which in turn led to the unclear monitoring of the MHPSS interventions. ${ }^{26}$\n",
      "\n",
      "##### 4.1.1.3 Needs of community members .... page 12\n",
      "\n",
      "The interviews and the desk research analysis revealed that the programme addressed many priorities of communities in terms of reintegration and livelihoods support. One of the main drivers of migration is the lack of economic opportunities to secure a livelihood, combined with the prevailing perception that jobs are available elsewhere. The creation of economic opportunities within the community reduces the risk of social conflict (e.g. negative attitudes to returnees who receive financial support as described above), while simultaneously decreasing the drive to migrate out of economic necessity among other community members.\n",
      "\n",
      "According to the community participation survey administered to 1,232 community members (221 in Ethiopia, 745 in Somalia, and 266 in Sudan) between November 2019 and July 2022, the majority of the respondents believed that the community projects under the EU-IOM JI-HoA addressed the needs of the community and of returnees. ${ }^{27}$\n",
      "\n",
      "FIGURE 3. PERCEPTION OF COMMUNITIES ON THE RELEVANCE OF THE JI-HOA\n",
      "Figure 3 presents community perceptions on the relevance of the JI-HoA projects, using horizontal bar graphs to display the percentage of agreement. The main topic is the perceived effectiveness of the EU-IOM JI-HoA projects in addressing community needs and the needs of returnees. Key statistics show that 95% of community members agreed that the projects addressed community needs, while 92% agreed that the projects addressed the needs of returnees. The overall trend indicates a high level of perceived relevance and effectiveness of the projects, suggesting that the JI-HoA projects are generally viewed as beneficial by the communities surveyed and also for returnees. However, the slight difference between the two percentage may indicate that it would be beneficial to the returnees to find more avenues to ensure that the reintegration of returnees is as smooth as possible and that their needs are addressed.\n",
      "\n",
      "\n",
      "Source: JI-HoA's Community-Based Reintegration survey, administered to 809 (476 male, 333 female) respondents..\n",
      "The evaluation revealed that not all targeted communities received the same support from the IOM while implementing their projects. There were some communities where a needs assessment was conducted with the local government and not community members directly (which would take a large amount of time). ${ }^{28}$ As a result, some interviewees revealed that they \"needed to work on projects that were not based on our skills or that were more beneficial to the government\". ${ }^{29}$\n",
      "\n",
      "### 4.1.2. Programme's relevance to the needs of stakeholders .... page 12\n",
      "\n",
      "#### 4.1.2.1 Needs of governments .... page 12\n",
      "\n",
      "Overall, most of the relevant interviewees indicated that the governments of participating countries were highly interested in the JI-HoA and committed to its objectives although urgent problems such\n",
      "\n",
      "[^0]\n",
      "[^0]:    ${ }^{26}$ Covid-19 Natural Experiment Report, pg. 65, multiple interviews from Sudan\n",
      "    ${ }^{27}$ Interim Narrative Report \\#4 to the European Union.\n",
      "    ${ }^{28}$ FGDs with returnees and IPs from Ethiopia\n",
      "    ${ }^{29}$ FGDs with returnees from Ethiopia\n",
      "\n",
      "---\n",
      "\n",
      "as COVID-19, security issues and economic crises prevented them from treating return migration as a priority throughout the implementation of the JI-HoA. Before the implementation of the JI-HoA programme, in most countries, there were limited frameworks or mechanism for migration, governments had no tools, and no national capacity building strategies which in turn led to limited capacity to facilitate return and reintegration. The JI-HoA programme addressed this gap through capacity building activities and tools such as the SOPs and various guidelines. ${ }^{29}$\n",
      "\n",
      "Interviews revealed that the efforts of the JI-HoA regarding migration data were of particular relevance and importance to the stakeholders. Namely, there was a clear lack of data on migration and existing tools and methods to collect such data were not harmonized across the region. Therefore, data between countries could not be compared. ${ }^{31}$\n",
      "\n",
      "#### 4.1.2.2 Needs of other stakeholders .... page 13\n",
      "\n",
      "Generally, the interview analysis revealed that the needs of the other national stakeholders were identified and addressed by the programme. The survey of partners, presented in the Partnership Analysis assessment that was conducted under the programme, showed that $82 \\%$ of partners believed IOM's local capacity building activities were useful. ${ }^{33}$ The partnership analysis report concluded that the differences between implementing partners (IPs) on \"technical capacity, work experience with international organisations, and reporting ability\" were prominent from the beginning of the programme. Therefore, IOM's training for IPs on various topics were necessary to mitigate these differences ${ }^{33}$.\n",
      "\n",
      "However, despite this support, some partners identified areas where the programme could improve. Some of the IPs found the active guidance of the IOM less relevant, as they perceived themselves as having more experience and knowledge than the $\\mathrm{IOM}^{34}$ or that the capacity building was not necessary since they already had enough capacity ${ }^{35}$.\n",
      "\n",
      "### 4.2. Coherence .... page 13\n",
      "\n",
      "Overall performance score for coherence: $4.3 / 5$\n",
      "Robustness score for the evidence: $4 / 5$\n",
      "\n",
      "[^0]\n",
      "[^0]:    ${ }^{30}$ Multiple interviews across the participating countries\n",
      "    ${ }^{31}$ Interview with a stakeholder\n",
      "    ${ }^{32}$ IOM RDH. (2022) Partnerships for Migrant Reintegration, pg. 29-30.\n",
      "    ${ }^{33}$ IOM RDH. (2022) Partnerships for Migrant Reintegration, pg. 40.\n",
      "    ${ }^{34}$ IOM RDH. (2022) Partnerships for Migrant Reintegration, pg. 41.\n",
      "    ${ }^{35}$ Interview with a stakeholder from Somalia\n",
      "\n",
      "---\n",
      "\n",
      "#### 4.2.1. The JI-HoA's alignment with the objectives and standards of IOM, and objectives of the EU .... page 14\n",
      "\n",
      "The EU-IOM JI-HoA aligns with the purpose of IOM as described in its constitution. Providing assistance services for voluntary return migration is a core function of the organisation to ensure safe, orderly and dignified migration ${ }^{36}$. IOM's international norms and standards regarding AVRR are centred around protecting migrants' rights (to a safe and dignified return) and achieving sustainable reintegration. One of the main principles for IOM regarding AVRR, namely voluntariness, was followed by organizing information sessions of the AVRR programme. ${ }^{37}$.\n",
      "\n",
      "The JI-HoA corresponds to the existing EU foreign policy documents and political trajectories. The EUIOM JI-HoA contributed to the objectives of the EU Trust Fund for Africa to emphasise greater economic and employment opportunities and improve migration management in countries of origin and transit. The JI-HoA is also aligned with the Valletta Action Plan, a framework for migration governance between Europe and Africa specifically addressing irregular migration in three regions, including the Horn of Africa, aimed at tackling migrant smugglers, fostering safe return and reintegration, migrant protection and effective governance of irregular migration ${ }^{38}$.\n",
      "\n",
      "Similarly, the JI-HoA contributed to the European Agenda on Migration's objectives, namely the focus on reducing incentives for irregular migration. The objective aims to track and eliminate the causes of irregular migration by developing regional cooperation frameworks, such as the Khartoum Process. A specific objective of the European Agenda, addressed by the JI-HoA, is the improvement of the EU's return system through the sustainable approach to assisting return migration. ${ }^{39}$\n",
      "\n",
      "Lastly, while the project countries did not have comprehensive return and reintegration policies in place for the JI-HoA to strengthen/align with, national governments had developed broader strategies such as development plans, poverty reduction strategies and similar documents, to which objectives the JIHoA would also ultimately contribute.\n",
      "\n",
      "#### 4.2.2. Alignment with other initiatives .... page 14\n",
      "\n",
      "The analysis of interviews with IOM staff, stakeholders and desk research revealed that IOM put sufficient efforts in mapping activities of different actors in each country to avoid duplication. Therefore, generally there were no duplication across different projects, rather examples of complementary support initiatives.\n",
      "\n",
      "[^0]\n",
      "[^0]:    ${ }^{36}$ IOM. (2017). Constitution and Basic Texts. Geneva: IOM, link: https://www.iom.int/iom-constitution, IOM. Migration Governance Framework Brochure, link https://www.iom.int/sites/g/files/tmzbdl486/files/about-iom/migof_brochure_a4_en.pdf\n",
      "    ${ }^{37}$ Itad. (2021). Methodological Report. Impact Evaluation of the EU-IOM Joint Initiative for Migrant Protection and Rewintegration in the Horn of Africa region, link https://www.Itad.com/wp-content/uploads/2020/12/IOM-METHODOLOGICAL-REPORT-26-052021_Itad.pdf\n",
      "    ${ }^{38}$ Valletta Summit on Migration. (2015). Joint Valletta Action Plan (JVAP).\n",
      "    ${ }^{39}$ European Commission. (2015). Communication From the Commision to the European Parliament, the Council, The European and Social Committee and the Committee of the Regions. \"A European Agenda on Migration\".\n",
      "\n",
      "---\n",
      "\n",
      "The JI-HoA programme is well aligned with the objectives of the key regional actors, such as IGAD and African Union and their frameworks and activities.\n",
      "\n",
      "The IGAD adopted a Regional Migration Policy Framework that aimed to comprehensively address the variety of issues related to unsupported migration in the IGAD region. The main goal of this framework was to provide advice and further strategies to support comprehensive migration management, to harmonise policies between countries, and to recommend and support formulating good policies in migration. The JI-HoA was aligned with the work of IGAD mainly in two pillars: gathering and disseminating quality data on migration and capacity building of the national governments ${ }^{40}$.\n",
      "\n",
      "Another important framework is the Intergovernmental Authority on Development Regional Consultative Process on Migration (IGAD-RCP). In this joint work, the organizations involved worked on policy harmonization, policy development and capacity building ${ }^{41}$. Also, under the JI-HoA, IGAD started discussions about new initiatives on developing a child policy and regional AVRR framework ${ }^{42}$.\n",
      "\n",
      "The JI-HoA was created on the basis of the commitments made by European and African leaders and is built on a partnership between the EU, the African Union (AU) and the UN ${ }^{43}$. The JI-HoA mostly corresponds to two main pillars of the Migration policy framework for Africa and Plan of Action (2018-2030) developed by the AUC, namely, 1) migration governance; and 2) irregular migration (including returns).\n",
      "\n",
      "Overall, coordination between IOM and other UN agencies and NGOs led to a lack of duplications and created opportunities for complementarity. Interviewees mostly agree that duplication is hardly possible due to the scope of support needed for the return migration and the fact that the JI-HoA programme has a unique integrated approach to the return and reintegration processes.\n",
      "\n",
      "An IOM regional representative shared the procedure how they were structuring the process of avoiding potential duplication across different initiatives in each country:\n",
      "\n",
      "We would map out the developmental activities carried out in a given country by NGO's, other UN agencies, etc., and try to create the link between our returnees and activities of other actors so that they could be inserted within ongoing activities. We were not just replicating, but also trying to avoid duplicating what was already was already going on.\n",
      "\n",
      "Source: Interview with the IOM staff\n",
      "In short, the JI-HoA was able to build partnerships and complementarity with other development and aid organisations in the region, while avoiding duplication. This has also affected, to some extent, the cost-effectiveness of the JI-HoA, which is presented in the efficiency chapter.\n",
      "\n",
      "[^0]\n",
      "[^0]:    ${ }^{40}$ IGAD. (2012). IGAD Regional Migration Policy Framework. Adopted by the 45th Ordinary Session of the IGAD Council of Ministers.\n",
      "    ${ }^{41}$ IOM website: https://www.iom.int/intergovernmental-authority-development-regional-consultative-process-migration-igadrcp\n",
      "    ${ }^{42}$ Interview with IOM staff\n",
      "    ${ }^{43}$ IOM. (2022). Towards Sustainable Reintegration: EU-IOM Joint Initiative for Migrant Protection and Reintegration - Five Years on. Key Achievements. Pg. 2.\n",
      "\n",
      "---\n",
      "\n",
      "# Section: 4.3. Effectiveness .... page 16\n",
      "## Content\n",
      "# 4.3. Effectiveness .... page 16\n",
      "\n",
      "Overall performance score for effectiveness: $3.8 / 5$\n",
      "Overall score on IOM's achievements: $3.4 / 5$\n",
      "Robustness score for the evidence: $4 / 5$\n",
      "\n",
      "The effectiveness of the JI was measured through one overarching objective and three Specific Objectives (each is discussed in a dedicated section below) with several result areas per Specific Objective. Indicators and targets were developed for the overall objective, outcomes, and result areas. According to the 2019 mid-term evaluation of the programme, the implementation of all pillars of the programme was \"on good track\" and some initial results were noted (e.g. effectiveness in reaching its target groups, provision of AVRR assistance). ${ }^{44}$\n",
      "\n",
      "The current evaluation found that the targets for the overall objective were surpassed and that the achievements towards the three specific outcomes are supporting the achievement of the overall objective. Namely, the Programme has in general met the targets for the specific objectives and their associated result areas, and at times even surpassing the targets ${ }^{45}$.\n",
      "\n",
      "### 4.3.1. Specific Objective 1: Partner countries and relevant stakeholders developed or strengthened evidence-based return and reintegration procedures .... page 16\n",
      "\n",
      "The first Specific Objective considers that the development of data and data collection methodologies, combined with trainings and dialogue, will contribute to increased data availability and strengthened capacity of stakeholders, which subsequently results in the development of evidence-based return and reintegration procedures.\n",
      "\n",
      "#### 4.3.1.1 Achievement of outputs and results .... page 16\n",
      "\n",
      "## Data availability .... page 16\n",
      "\n",
      "The current evaluation concludes that the Horn of Africa faced significant gaps in data on human migration, towards which the JI made substantial progress. The IOM logframe shows that the JI exceeded the targets set for the \"number of field studies, surveys and other research conducted under the programme\" ( 20 instead of 19). ${ }^{45}$ The increased availability of migration data (result 1.1.) was achieved mainly through the production and the publication of migration data and research outputs by the Regional Data Hub and the RDH's engagement with National Statistical Offices (NSOs) and key\n",
      "\n",
      "[^0]\n",
      "[^0]:    ${ }^{44}$ Mid Term Review of EU-IOM Joint Initiative for Migrant Protection and Reintegration in the Horn of Africa\n",
      "    ${ }^{45}$ Except the indicator on satisfaction with reintegration assistance.\n",
      "    ${ }^{46}$ JI HoA Programme Monitoring Data\n",
      "\n",
      "---\n",
      "\n",
      "regional migration data stakeholders including the Intergovernmental Authority for Development (IGAD). ${ }^{47}$\n",
      "\n",
      "Despite these achievements, stakeholders in Djibouti noted that additional steps still need to be taken to improve data gathering capacities. ${ }^{48}$ Similarly, a Sudanese stakeholder noted that \"all data needed for policymaking is now available to them, although capacity to use this data could still be strengthened further\". ${ }^{49}$\n",
      "\n",
      "### 4.3.1.2 Achievement of Specific Objective 1 .... page 17\n",
      "\n",
      "The IOM logframe shows that the programme exceeded the targeted number of stakeholders \"strengthened through capacity building or operational support on reintegration\" (665 instead of 434). ${ }^{50}$ The IOM logframe and surveys show that in each country, the majority of surveyed stakeholders declared increased knowledge on return and reintegration issues ( $97 \\%$ average across the four countries). ${ }^{51}$ The JI also met its target set for the \"number of national/regional/local networks and dialogues on migration related issues newly established or functionally enhanced\" (namely 29).\n",
      "\n",
      "While an increase in capacity is identified by stakeholders themselves, this does not necessarily reflect their actual capacity. For example, the 2021 stakeholder survey noted that $22 \\%$ of stakeholders perceive that they now have larger financial allocations of their institutional budget for migration issues than that of their budget prior to their engagement in the EU-IOM Joint Initiative. ${ }^{52}$ This also demonstrates that in $78 \\%$ of the cases, no additional budget or resources has been allocated (likely to a large extent due to COVID, conflict, etc.). This is a key finding, as capacity alone is not sufficient for governments and stakeholders to continue working on, and improving, return and reintegration policies and processes.\n",
      "\n",
      "#### 4.3.1.2 Achievement of Specific Objective 1 .... page 17\n",
      "\n",
      "This evaluation has found various examples of the increased use of data in policymaking, strategies, processes and plans for return and reintegration. However, various challenges were found that hinder stakeholders from optimally benefitting from increased data and capacity.\n",
      "\n",
      "According to IOM's survey of stakeholders, 136 stakeholders reported that data produced has supported evidence-based policies, procedures, and programme design, which exceeds the original target of $42 .{ }^{53}$ There are some examples where the migration data is already used by legal entities (e.g., Women and Social Affairs Ministry in Ethiopia has initiated a mandate to work with the national returnee database ${ }^{54}$ ), however in most cases local governments are not ready yet to overtake the task of\n",
      "\n",
      "[^0]\n",
      "[^0]:    ${ }^{47}$ JI HoA Interim Narrative Report \\#4 to the European Union, pg. 7.\n",
      "    ${ }^{48}$ Interview with a stakeholder from Djibouti\n",
      "    ${ }^{49}$ Interview with a stakeholder from Sudan\n",
      "    ${ }^{50}$ JI HoA Logical Framework\n",
      "    ${ }^{51}$ JI HoA Logical Framework\n",
      "    ${ }^{52}$ JI HoA Interim Narrative Report \\#4 to the European Union, pg. 7.\n",
      "    ${ }^{53}$ IOM Stakeholder Survey (n=266)\n",
      "    ${ }^{54}$ Interview with IOM staff from Ethiopia\n",
      "\n",
      "---\n",
      "\n",
      "national migration data management, but the initiative to be involved in its coordination processes is visible ${ }^{55}$.\n",
      "\n",
      "The number of stakeholders (state and non-state) involved in return and reintegration assistance has also increased from 25 (baseline in 2017) to 180 by the end of the project in 2022.56\n",
      "\n",
      "FIGURE 4. NUMBER OF ACTORS INVOLVED IN RETURN AND REINTEGRATION ASSISTANCE\n",
      "Figure 4 is a bar chart illustrating the number of actors involved in return and reintegration assistance across four countries: Djibouti, Ethiopia, Somalia, and Sudan. The chart compares baseline numbers from 2017 with figures from September 2022.  Across all four countries, there is a significant increase in the number of actors involved in return and reintegration assistance. Ethiopia shows the largest increase, with a rise from 6 actors at baseline to 83 by September 2022, while Djibouti and Sudan show small but significant increases. Somalia shows an increase from 17 actors at baseline to 58 in September 2022.  The key takeaway is a substantial increase in the engagement of various stakeholders in return and reintegration efforts in these countries over the project period.\n",
      "\n",
      "\n",
      "Source: Interim Report 2 and project monitoring data\n",
      "However, progress towards the outcome was met by various challenges that prevented the JI from ensuring that new data and capacity could be used for policymaking. For example, the contextual factors presented in section 2.2 caused turnover of government staff, which undoes the positive results of trainings. This is elaborated in the chapter on sustainability. Some stakeholders from Sudan and Somalia noted that shortage of finance and (qualified) staff prevent the government from actively using increased capacities for policymaking. ${ }^{57}$ COVID-19 was also mentioned as factor preventing the organization of workshops to design or validate mechanisms. ${ }^{58}$\n",
      "\n",
      "# Section: 5. Conclusions and Recommendations .... page 27\n",
      "## Content\n",
      "# 5. Conclusions and Recommendations .... page 27\n",
      "\n",
      "### 5.1. Conclusions .... page 27\n",
      "\n",
      "The EU-IOM Joint Initiative for Migrant Protection and Reintegration in the Horn of Africa was a unique effort to support return and reintegration in a highly complex political and economic context. The scope of the support provided (e.g. considering all dimensions of the integrated approach) required extensive investment of resources by IOM and stakeholders, but created valuable, even life-saving benefits for beneficiaries.\n",
      "\n",
      "Despite the challenges, the JI-HoA has created important results and impact on the individual level. Desk research, interviews, and Focus Group Discussions point out that the EU-IOM Joint Initiative has been of crucial importance to address the needs of migrants and returnees facing dire situations (including abuse, violence, and exploitation) in their host countries.\n",
      "\n",
      "Continuous contact between IOM and returnees ensured that returnees' needs were identified and monitored from the moment of their identification in the host/transit country. Extensive evidence was found of efforts made by MRCs and IOM staff to identify vulnerabilities and provide individualized support in terms of economic support, social support, and psychosocial support.\n",
      "\n",
      "Similarly, community-based reintegration projects were helpful in creating business and employment opportunities (although their impact was still affected by the overall economic decline) and various community members noted this support as important factor reducing their need to migrate for economic reasons. Additionally, CBR projects have also shown clear value for social cohesion and reduction of stigmas towards returnees, which in turn supported their reintegration. Various examples were found regarding the link between social cohesion and economic self-sufficiency of returnees.\n",
      "\n",
      "Additionally, the JI-HoA has made important contributions to the availability of data and research on migration trends in the region. The impact in this regard is twofold. Firstly, stakeholders explicitly appreciated the work of the Regional Data Hub in terms of data production and capacity building. The dissemination and subsequent use of data in decision-making can have a long-term positive impact on return and reintegration, by providing governments and stakeholders with tools and capacity to use these data in there policy- and decision-making.\n",
      "\n",
      "Secondly, the research done by the JI-HoA itself as part of its monitoring and evaluation has provided important evidence for programming. It allowed the IOM and its partners and stakeholders to learn about the diverse needs of returnees, which needs can be addressed, and what approaches are more or less effective. This knowledge is of great importance to inform migrant protection, return and reintegration programming in the region.\n",
      "\n",
      "---\n",
      "\n",
      "The complexity of the JI-HoA and the integrated approach, and the fragility of existing systems in the Horn of Africa countries, leads to the conclusion that ownership and sustainability of the programme cannot be expected after five years of implementation. Important progress has been made, but continued support is needed in terms of capacity-building, but also for wider socio-economic development and security in the four countries in general.\n",
      "\n",
      "Namely, the vast majority of challenges and barriers to the achievements of the JI-HoA are linked to the context in which it takes place, and to external factors. Capacity-building efforts were undermined by political priorities and staff turnover; referral systems and service provision for migrants and returnees were hindered by a lack of a structure national referral mechanism, well-functioning health and social security systems, and economic support lost value in the face of a deteriorating economic situation and inflation. Activities of the JI were furthermore hindered by civil conflict and security issues. Therefore, the situation of returnees cannot be addressed without simultaneously addressing the wider socio-economic context.\n",
      "\n",
      "### 5.2. Recommendations .... page 28\n",
      "\n",
      "Based on the conclusions of the evaluation, the evaluation team has designed the following recommendations towards migrant protection, return and reintegration programming.\n",
      "\n",
      "1. Enhance efforts with national, regional, and local stakeholders to build capacity and ownership (while continuing provision of funding).\n",
      "\n",
      "The EU-IOM Joint Initiative has put visible effort in building the capacity of national actors to support return and reintegration. However, political priorities did not always ensure ownership and commitment of governments to take the JI results forward. Additionally, turnover of staff has removed trained staff and therefore undone some of the work of the JI in this regard.\n",
      "\n",
      "Two important steps need to be taken to enhance the capacity and ownership of key stakeholders, which would set the scene for sustainability and impact. Firstly, capacity building should be expanded to a wider scope of persons. This should include the entire relevant organisational departments, ensuring the participation of top and middle management as well as their staff.\n",
      "\n",
      "Secondly, capacity alone is not sufficient to ensure impact and sustainability of the work on return and reintegration. Therefore, migrant protection, return and reintegration programming should focus also on enhancing ownership and commitment of stakeholders towards these topics. Possible steps include the gradual integration of MRCs with the relevant public sector organizations, or coownership/management of the MRCs by local governments (along with IOM) where some of the employees are funded by the local government. In addition, the migrant protection, return and reintegration programming should continue to support the integration of return and reintegration into policy documents and development plans\n",
      "\n",
      "However, sustainability and independent work by governments and stakeholders is not something that should be expected in the near future. Therefore, financial resources from donors will still need to be allocated to governments and stakeholders to implement their policies and services for returnees.\n",
      "\n",
      "---\n",
      "\n",
      "2. Strengthen community-based reintegration efforts to address drivers of irregular migration and provide economic opportunities that reduce the necessity to migrate.\n",
      "\n",
      "The current evaluation has demonstrated the great importance of CBR projects as a component of the integrated approach. However, gaps were found in the design, M\\&E, and relevance of some of the projects. Therefore, migrant protection, return and reintegration programming should be focused on enhancing the quality of the CBR projects in relation to the needs of the community members. Possibly, this may require larger-scale projects by a smaller sample of Implementing Partners, to ensure IOM can keep a better oversight of the project design, needs analysis and implementation.\n",
      "\n",
      "Additionally, the CBR projects are an important occasion to ensure the involvement of local authorities. In line with Recommendation 1, IOM should continue focusing on enhancing ownership by local authorities through their increased engagement in CBR projects.\n",
      "\n",
      "#### 5.2.1. Increase attention on building partnerships with service providers who can function without (significant) funding channelled by IOM. .... page 29\n",
      "\n",
      "The use of service providers not funded under the JI has multiple benefits to strengthen the work done under the JI. Namely, it can contribute to the capacity of service providers to support returnees; it contributes to the development and strengthening of referral systems; it contributes to policies on social security, insurance, and budgeting for service provisions; and finally, it reduces the costs of IOM. Therefore, capacity building of such existing service providers, who can function without significant financial support, can be a crucial element contributing to long-term impact and sustainability.\n",
      "\n",
      "To continue strengthening partnerships, the IOM should also explore complementarity with other organisations which are focused on strengthening service provision. Namely, there is a need not only to strengthen partnerships and referrals but also to strengthen the quality of service provision in general (e.g. considering the lack of psychiatrists in Djibouti and lack of attention to mental health in most countries). Current efforts to build referral systems are not sustainable unless the service providers are able to function effectively themselves.\n",
      "4. Explore opportunities for the continued (co-)funding of key, effective, and relevant activities in line with those supported under the JI-HOA. These activities include direct and specialized assistance in transit, including AVR assistance for migrants along all key migration routes from the HOA (including the Eastern, Southern, and Northern Route), an integrated approach to reintegration (individual reintegration support, CBR projects, structural level interventions) as well as support to the Regional Data Hub.\n",
      "\n",
      "The work of IOM in countries of transit and destination has been noted as most relevant and important, as it directly involves the saving of lives. Therefore, the continuation of AVR support to migrants is directly linked to rescue and protection. A termination of this component, even if partial to specific migration routes, has detrimental consequences for migrants.\n",
      "\n",
      "The evaluation found that the community-level approach to reintegration has been crucial for the achievements of the JI-HoA, both as standalone activities to enhance livelihoods, but also as integral component of the Integrated Approach. The effectiveness of the CBR projects to support reintegration and address drivers of irregular migration has been underlined and substantiated in this evaluation. Additionally, the evaluation found that the integrated approach itself is of great importance to link all\n",
      "\n",
      "---\n",
      "\n",
      "components of support for reintegration, and would be significantly weakened if certain components were removed.\n",
      "\n",
      "The work of the Regional Data Hub was highly appreciated by stakeholders and the activities of the hub were effective in enhancing knowledge on migration, harmonizing methodologies and indicators, and building capacities for data collection and management. There is a clear interest of stakeholders to continue working with the RDH on improving research and data in the region.\n",
      "\n",
      "It is strongly recommended that IOM explores funding sources to ensure the continuation of the aforementioned activities. IOM should explore, for example, opportunities for funding and cooperation under the inter-agency framework established under the Migrant Response Plan for the Horn of Africa and Yemen.\n",
      "\n",
      "#### 5.2.2. Explore opportunities to extend the scope of support provided to returnees, with a focus on longer-term integration. .... page 30\n",
      "\n",
      "While the emergency support on arrival (cash, medical services, MHPSS) was deemed highly relevant, important, and effective, the evaluation has shown that returnees still struggle with sustainable reintegration. This relates in particular to their ability to sustain themselves and their families economically.\n",
      "\n",
      "In this regard, additional gains could be made by enrolling returnees back into formal education (for those who did not complete it), possibly with some allowance, and by focusing more attention to the development of entrepreneurial skills as foundation for starting sustainable (micro-)businesses. This requires additional research into the factors influencing the success of the businesses initiated by returnees under the JI.\n",
      "6. Continue supporting and strengthening safe, humane, and orderly migration pathways, by providing direct support to migrants in distress, and engaging and building the capacities of key stakeholders involved in the process.\n",
      "\n",
      "The most visible and important achievement of the JI-HoA has been the immediate, life-saving support provided to migrants who suffered various forms of abuse and trauma, and who did not have any other chance of returning. Currently, this evaluation believes that governments and stakeholders do not have the capacity to continue this work independently, although irregular migration continues to take place.\n",
      "\n",
      "Human trafficking and abuse take place in all migration directions out of the Horn of Africa (North, East, and South) and therefore requires a continued investment in AVR in Djibouti and other transit countries from where migrants return to the HoA. Any gaps in provision of AVR has direct consequences for stranded migrants.\n",
      "7. Build on the results of the IMPACT evaluation conducted under the JI-HoA by continuing to test and adjust the tools to measure reintegration sustainability and by conducting additional impact evaluations on key elements of AVRR.\n",
      "\n",
      "The JI-HoA has commissioned the development of an IMPACT study which measured the sustainability of reintegration according to a predetermined methodology (RSS+). As the report mentions, the measurement of reintegration sustainability through preset indicators is rather new and\n",
      "\n",
      "---\n",
      "\n",
      "discussion on the threshold were ongoing under the JI-HoA. Therefore, to improve migrant protection, return and reintegration programming should continue investing in impact studies to closely monitor the impact of the integrated approach and adjust the RSS+ methodology accordingly.\n",
      "\n",
      "[[ ## sections_explored ## ]]\n",
      "['4. Findings .... page 10', '4.3. Effectiveness .... page 16', '5. Conclusions and Recommendations .... page 27']\n",
      "\n",
      "Respond with the corresponding output fields, starting with the field `[[ ## reasoning ## ]]`, then `[[ ## theme_covered ## ]]` (must be formatted as a valid Python bool), then `[[ ## confidence_explanation ## ]]`, then `[[ ## evidence_summary ## ]]`, then `[[ ## gaps_identified ## ]]`, and then ending with the marker for `[[ ## completed ## ]]`.\n",
      "\n",
      "\n",
      "\u001b[31mResponse:\u001b[0m\n",
      "\n",
      "\u001b[32m[[ ## reasoning ## ]]\n",
      "The provided evidence directly addresses the theme of \"Data and evidence\" within the context of the EU-IOM Joint Initiative for Migrant Protection and Reintegration in the Horn of Africa (JI-HoA). The evaluation highlights the program's efforts in increasing data availability, strengthening stakeholder capacity in data collection and analysis, and promoting the use of data in policymaking. Specific examples are provided, such as the Regional Data Hub's activities, the number of field studies conducted, and the increased involvement of stakeholders in return and reintegration assistance. While challenges remain, such as staff turnover and financial constraints, the evidence suggests a significant positive impact on the availability and use of migration data in the region. The conclusion and recommendations further emphasize the importance of data-driven approaches and the need for continued support in this area.\n",
      "\n",
      "[[ ## theme_covered ## ]]\n",
      "True\n",
      "\n",
      "[[ ## confidence_explanation ## ]]\n",
      "My confidence in assessing the coverage of the theme \"Data and evidence\" is high (9/10). The evaluation report explicitly discusses the program's objectives and achievements related to data collection, analysis, and utilization. The report provides quantitative data (e.g., number of studies conducted, stakeholders trained) and qualitative evidence (e.g., stakeholder interviews) to support its claims. The challenges and limitations are also acknowledged, providing a balanced assessment. The recommendations section reinforces the importance of data and evidence in future programming.\n",
      "\n",
      "[[ ## evidence_summary ## ]]\n",
      "Key evidence includes:\n",
      "*   The JI exceeded targets for the number of field studies, surveys, and other research conducted.\n",
      "*   Increased availability of migration data through the Regional Data Hub (RDH).\n",
      "*   The program exceeded the targeted number of stakeholders strengthened through capacity building or operational support on reintegration.\n",
      "*   Stakeholders reported that data produced has supported evidence-based policies, procedures, and program design.\n",
      "*   The number of stakeholders involved in return and reintegration assistance has increased significantly.\n",
      "*   Stakeholders explicitly appreciated the work of the Regional Data Hub in terms of data production and capacity building.\n",
      "\n",
      "[[ ## gaps_identified ## ]]\n",
      "While the evaluation covers the availability and use of data, it could benefit from a more in-depth analysis of the *quality* of the data collected and the *specific ways* in which it has influenced policy decisions. More concrete examples of how data has led to improved outcomes for migrants and returnees would further strengthen the assessment. Additionally, a discussion of the ethical considerations related to data collection and sharing would be valuable.\n",
      "\n",
      "[[ ## completed ## ]]\u001b[0m\n",
      "\n",
      "\n",
      "\n",
      "\n",
      "\n"
     ]
    }
   ],
   "source": [
    "dspy.inspect_history()"
   ]
  },
  {
   "cell_type": "markdown",
   "metadata": {},
   "source": [
    "## In progress ..."
   ]
  },
  {
   "cell_type": "code",
   "execution_count": null,
   "metadata": {},
   "outputs": [],
   "source": [
    "#| eval: false\n",
    "condensed_gcm = {\n",
    "    \"7\": {\n",
    "        \"title\": \"Address and reduce vulnerabilities in migration\",\n",
    "        \"core_theme\": \"Protect migrants in vulnerable situations through comprehensive support and rights-based approaches\",\n",
    "        \"key_principles\": [\"Human rights-based approach\", \"Best interests of the child\", \"Gender-responsive policies\", \"Non-discrimination\"],\n",
    "        \"target_groups\": [\"Unaccompanied children\", \"Women at risk\", \"Trafficking victims\", \"Workers facing exploitation\", \"Persons with disabilities\"],\n",
    "        \"main_activities\": [\"Identification and assistance\", \"Legal protection and remedies\", \"Child protection systems\", \"Status regularization procedures\", \"Crisis response\"]\n",
    "    },\n",
    "    \"21\": {\n",
    "        \"title\": \"Cooperate in facilitating safe and dignified return and readmission, as well as sustainable reintegration\",\n",
    "        \"core_theme\": \"Safe and dignified return, readmission, and sustainable reintegration of migrants\",\n",
    "        \"key_principles\": [\"Due process and individual assessment\", \"Prohibition of collective expulsion\", \"Non-refoulement\", \"Human right to return\"],\n",
    "        \"target_groups\": [\"Returning migrants\", \"Children in return processes\", \"Communities of origin\"],\n",
    "        \"main_activities\": [\"Cooperation frameworks\", \"Travel documents and identification\", \"Consular assistance\", \"Reintegration support\", \"Monitoring mechanisms\"]\n",
    "    }\n",
    "}"
   ]
  }
 ],
 "metadata": {
  "kernelspec": {
   "display_name": "python3",
   "language": "python",
   "name": "python3"
  }
 },
 "nbformat": 4,
 "nbformat_minor": 2
}
