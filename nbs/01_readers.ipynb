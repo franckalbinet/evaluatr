{
 "cells": [
  {
   "cell_type": "markdown",
   "metadata": {},
   "source": [
    "# Readers\n",
    "\n",
    "> Readers are responsible for loading evaluation repositories and providing a unified interface for accessing their contents."
   ]
  },
  {
   "cell_type": "code",
   "execution_count": null,
   "metadata": {},
   "outputs": [],
   "source": [
    "#| default_exp readers"
   ]
  },
  {
   "cell_type": "code",
   "execution_count": null,
   "metadata": {},
   "outputs": [],
   "source": [
    "#| export\n",
    "from pathlib import Path\n",
    "from rich import print\n",
    "from abc import ABC, abstractmethod\n",
    "import json\n",
    "import hashlib\n",
    "\n",
    "import pandas as pd\n",
    "from fastcore.all import *"
   ]
  },
  {
   "cell_type": "markdown",
   "metadata": {},
   "source": [
    "The `EvalReader` interface defines a common contract that all evaluation repository readers (e.g. IOM, UNHCR) must implement:"
   ]
  },
  {
   "cell_type": "code",
   "execution_count": null,
   "metadata": {},
   "outputs": [],
   "source": [
    "#| exports\n",
    "class EvalReader(ABC):\n",
    "    def __init__(self, cfg): \n",
    "        self.cfg = cfg\n",
    "    \n",
    "    @abstractmethod\n",
    "    def read(self): pass\n",
    "    \n",
    "    @abstractmethod\n",
    "    def tfm(self, df): pass\n",
    "    \n",
    "    @abstractmethod\n",
    "    def to_json(self, output_path): pass\n",
    "    \n",
    "    def __call__(self):\n",
    "        df = self.read()\n",
    "        return self.tfm(df)"
   ]
  },
  {
   "cell_type": "markdown",
   "metadata": {},
   "source": [
    "## IOM Reader"
   ]
  },
  {
   "cell_type": "code",
   "execution_count": null,
   "metadata": {},
   "outputs": [],
   "source": [
    "#| exports\n",
    "def iom_input_cfg():\n",
    "    return {\n",
    "        'sheet_name': 'extract from 2005 to Aug 2024',\n",
    "        'date_cols': ['Date of Publication', 'Evaluation Period From Date', 'Evaluation Period To Date'],\n",
    "        'string_cols': ['Year'],\n",
    "        'list_fields': {\n",
    "            'Countries Covered': {'separator': ',', 'clean': True}\n",
    "        },\n",
    "        'document_fields': ['Document Subtype', 'File URL', 'File description'],\n",
    "        'id_gen': {\n",
    "            'method': 'md5',\n",
    "            'fields': ['Title', 'Year', 'Project Code']  # fields to hash\n",
    "        },\n",
    "        'field_mappings': {\n",
    "            'Title': 'title',\n",
    "            'Year': 'year',\n",
    "            # other mappings\n",
    "        }\n",
    "    }"
   ]
  },
  {
   "cell_type": "code",
   "execution_count": null,
   "metadata": {},
   "outputs": [
    {
     "data": {
      "text/html": [
       "<div>\n",
       "<style scoped>\n",
       "    .dataframe tbody tr th:only-of-type {\n",
       "        vertical-align: middle;\n",
       "    }\n",
       "\n",
       "    .dataframe tbody tr th {\n",
       "        vertical-align: top;\n",
       "    }\n",
       "\n",
       "    .dataframe thead th {\n",
       "        text-align: right;\n",
       "    }\n",
       "</style>\n",
       "<table border=\"1\" class=\"dataframe\">\n",
       "  <thead>\n",
       "    <tr style=\"text-align: right;\">\n",
       "      <th></th>\n",
       "      <th>Title</th>\n",
       "      <th>Year</th>\n",
       "      <th>Author</th>\n",
       "      <th>Best Practicesor Lessons Learnt</th>\n",
       "      <th>Date of Publication</th>\n",
       "      <th>Donor</th>\n",
       "      <th>Evaluation Brief</th>\n",
       "      <th>Evaluation Commissioner</th>\n",
       "      <th>Evaluation Coverage</th>\n",
       "      <th>Evaluation Period From Date</th>\n",
       "      <th>...</th>\n",
       "      <th>Type of Evaluator</th>\n",
       "      <th>Level of Evaluation</th>\n",
       "      <th>Document Subtype</th>\n",
       "      <th>File URL</th>\n",
       "      <th>File description</th>\n",
       "      <th>Management response</th>\n",
       "      <th>Date added</th>\n",
       "      <th>Metaevaluation</th>\n",
       "      <th>exclude</th>\n",
       "      <th>reason</th>\n",
       "    </tr>\n",
       "  </thead>\n",
       "  <tbody>\n",
       "    <tr>\n",
       "      <th>0</th>\n",
       "      <td>EX-POST EVALUATION OF THE PROJECT:  NIGERIA: S...</td>\n",
       "      <td>2023</td>\n",
       "      <td>Abderrahim El Moulat</td>\n",
       "      <td>Yes</td>\n",
       "      <td>2023-05-10</td>\n",
       "      <td>Government of Germany</td>\n",
       "      <td>Yes</td>\n",
       "      <td>Donor, IOM</td>\n",
       "      <td>Country</td>\n",
       "      <td>NaT</td>\n",
       "      <td>...</td>\n",
       "      <td>Internal</td>\n",
       "      <td>Decentralized</td>\n",
       "      <td>Evaluation report, Evaluation brief</td>\n",
       "      <td>https://evaluation.iom.int/sites/g/files/tmzbd...</td>\n",
       "      <td>Evaluation Report , Evaluation Brief</td>\n",
       "      <td>No</td>\n",
       "      <td>Fri, 07/07/2023 - 15:35</td>\n",
       "      <td>2020-24</td>\n",
       "      <td>NaN</td>\n",
       "      <td>NaN</td>\n",
       "    </tr>\n",
       "    <tr>\n",
       "      <th>1</th>\n",
       "      <td>FINAL EVALUATION OF THE PROJECT: STRENGTHEN BO...</td>\n",
       "      <td>2023</td>\n",
       "      <td>Abderrahim El Moulat</td>\n",
       "      <td>Yes</td>\n",
       "      <td>2023-02-14</td>\n",
       "      <td>Government of Canada</td>\n",
       "      <td>Yes</td>\n",
       "      <td>Donor, IOM</td>\n",
       "      <td>Multi-country</td>\n",
       "      <td>NaT</td>\n",
       "      <td>...</td>\n",
       "      <td>Internal</td>\n",
       "      <td>Decentralized</td>\n",
       "      <td>Evaluation report, Evaluation brief</td>\n",
       "      <td>https://evaluation.iom.int/sites/g/files/tmzbd...</td>\n",
       "      <td>Evaluation Report , Evaluation Brief</td>\n",
       "      <td>No</td>\n",
       "      <td>Fri, 05/19/2023 - 16:49</td>\n",
       "      <td>2020-24</td>\n",
       "      <td>NaN</td>\n",
       "      <td>NaN</td>\n",
       "    </tr>\n",
       "  </tbody>\n",
       "</table>\n",
       "<p>2 rows × 36 columns</p>\n",
       "</div>"
      ],
      "text/plain": [
       "                                               Title  Year  \\\n",
       "0  EX-POST EVALUATION OF THE PROJECT:  NIGERIA: S...  2023   \n",
       "1  FINAL EVALUATION OF THE PROJECT: STRENGTHEN BO...  2023   \n",
       "\n",
       "                 Author Best Practicesor Lessons Learnt Date of Publication  \\\n",
       "0  Abderrahim El Moulat                             Yes          2023-05-10   \n",
       "1  Abderrahim El Moulat                             Yes          2023-02-14   \n",
       "\n",
       "                   Donor Evaluation Brief Evaluation Commissioner  \\\n",
       "0  Government of Germany              Yes              Donor, IOM   \n",
       "1   Government of Canada              Yes              Donor, IOM   \n",
       "\n",
       "  Evaluation Coverage Evaluation Period From Date  ... Type of Evaluator  \\\n",
       "0             Country                         NaT  ...          Internal   \n",
       "1       Multi-country                         NaT  ...          Internal   \n",
       "\n",
       "  Level of Evaluation                     Document Subtype  \\\n",
       "0       Decentralized  Evaluation report, Evaluation brief   \n",
       "1       Decentralized  Evaluation report, Evaluation brief   \n",
       "\n",
       "                                            File URL  \\\n",
       "0  https://evaluation.iom.int/sites/g/files/tmzbd...   \n",
       "1  https://evaluation.iom.int/sites/g/files/tmzbd...   \n",
       "\n",
       "                       File description  Management response  \\\n",
       "0  Evaluation Report , Evaluation Brief                   No   \n",
       "1  Evaluation Report , Evaluation Brief                   No   \n",
       "\n",
       "                Date added  Metaevaluation exclude reason  \n",
       "0  Fri, 07/07/2023 - 15:35         2020-24     NaN    NaN  \n",
       "1  Fri, 05/19/2023 - 16:49         2020-24     NaN    NaN  \n",
       "\n",
       "[2 rows x 36 columns]"
      ]
     },
     "execution_count": null,
     "metadata": {},
     "output_type": "execute_result"
    }
   ],
   "source": [
    "#| eval: false\n",
    "cfg = iom_input_cfg()\n",
    "fname = Path('files/test/eval_repo_iom.xlsx')\n",
    "df = pd.read_excel(fname, sheet_name=cfg['sheet_name'])\n",
    "df.head(2)"
   ]
  },
  {
   "cell_type": "code",
   "execution_count": null,
   "metadata": {},
   "outputs": [],
   "source": [
    "#| exports\n",
    "class IOMRepoReader(EvalReader):\n",
    "    def __init__(self, \n",
    "                 fname, # path to the excel file\n",
    "                 max_n=None): # max number of rows to read\n",
    "        cfg = iom_input_cfg()  \n",
    "        super().__init__(cfg)\n",
    "        self.fname = fname\n",
    "        self.max_n = max_n\n",
    "    \n",
    "    def read(self): \n",
    "        \"\"\"Read the excel file and return a dataframe\"\"\"\n",
    "        df = pd.read_excel(self.fname, sheet_name=self.cfg['sheet_name'])\n",
    "        if self.max_n:\n",
    "            df = df.head(self.max_n)\n",
    "        return df\n",
    "    \n",
    "    def tfm(self, df):\n",
    "        \"\"\"Transform the dataframe into a list of evaluations\"\"\"\n",
    "        df_proc = df.copy()\n",
    "\n",
    "        # Process dates\n",
    "        date_cols = self.cfg['date_cols']\n",
    "        df_proc[date_cols] = df_proc[date_cols].astype(str)\n",
    "        \n",
    "        # Process list fields\n",
    "        for fname, fcfg in self.cfg['list_fields'].items():\n",
    "            df_proc[fname] = (\n",
    "                df_proc[fname]\n",
    "                .astype(str)\n",
    "                .str.split(fcfg['separator'])\n",
    "                .apply(lambda x: [item.strip() for item in x if item.strip()])\n",
    "            )\n",
    "        \n",
    "        # Generate IDs\n",
    "        df_proc['id'] = df_proc.apply(self._mk_id, axis=1)\n",
    "        \n",
    "        # Process documents\n",
    "        df_proc['docs'] = df_proc.apply(self._mk_docs, axis=1)\n",
    "        \n",
    "        # Collect metadata\n",
    "        meta_cols = [col for col in df_proc.columns if col not in ['id', 'docs']]\n",
    "        \n",
    "        # Create final structure\n",
    "        res = []\n",
    "        for _, row in df_proc.iterrows():\n",
    "            res.append({\n",
    "                'id': row['id'],\n",
    "                'docs': row['docs'],\n",
    "                'meta': {field: row[field] for field in meta_cols}\n",
    "            })\n",
    "        \n",
    "        return res\n",
    "    \n",
    "    def to_json(self, out_path):  \n",
    "        evals = self()\n",
    "        with open(out_path, 'w', encoding='utf-8') as f:\n",
    "            json.dump(evals, f, indent=4, ensure_ascii=False)\n",
    "    \n",
    "    def _mk_docs(self, row):\n",
    "        try:\n",
    "            stypes = [s.strip() for s in str(row['Document Subtype']).split(', ')]\n",
    "            urls = [u.strip() for u in str(row['File URL']).split(', ')]\n",
    "            descs = [d.strip() for d in str(row['File description']).split(', ')]\n",
    "            \n",
    "            docs = []\n",
    "            for stype, url, desc in zip(stypes, urls, descs):\n",
    "                if url.strip():\n",
    "                    docs.append({\n",
    "                        'Document Subtype': stype,\n",
    "                        'File URL': url,\n",
    "                        'File description': desc\n",
    "                    })\n",
    "            return docs\n",
    "        except Exception as e:\n",
    "            print(f\"Error processing documents for row: {e}\")\n",
    "            return []\n",
    "    \n",
    "    def _mk_id(self, row):\n",
    "        \"\"\"Generate MD5 hash from specified fields\"\"\"\n",
    "        id_cfg = self.cfg['id_gen']\n",
    "        fields = id_cfg['fields']\n",
    "        \n",
    "        # Concatenate the specified fields\n",
    "        id_str = ''.join(str(row[field]) for field in fields)\n",
    "        \n",
    "        # Generate MD5 hash\n",
    "        return hashlib.md5(id_str.encode('utf-8')).hexdigest()"
   ]
  },
  {
   "cell_type": "markdown",
   "metadata": {},
   "source": [
    "To use the reader:"
   ]
  },
  {
   "cell_type": "code",
   "execution_count": null,
   "metadata": {},
   "outputs": [],
   "source": [
    "#| eval: false\n",
    "fname = '../_data/input/Evaluation repository extract 22 Oct 2024.xlsx'\n",
    "reader = IOMRepoReader(fname)\n",
    "evaluations = reader()"
   ]
  },
  {
   "cell_type": "markdown",
   "metadata": {},
   "source": [
    "The reader produces a list of JSON objects, where each object represents an evaluation with:\n",
    "\n",
    "- `id`: A unique MD5 hash identifier generated from specified fields\n",
    "- `docs`: A list of associated documents, each containing:\n",
    "  - `Document Subtype`: Type of evaluation document (e.g. report, brief)\n",
    "  - `File URL`: Direct link to download the document\n",
    "  - `File description`: Brief description of the document contents\n",
    "- `meta`: Additional metadata about the evaluation"
   ]
  },
  {
   "cell_type": "markdown",
   "metadata": {},
   "source": [
    "Then serialize as `json` for further use:"
   ]
  },
  {
   "cell_type": "code",
   "execution_count": null,
   "metadata": {},
   "outputs": [],
   "source": [
    "#| eval: false\n",
    "reader.to_json('../_data/output/evaluations.json')"
   ]
  },
  {
   "cell_type": "markdown",
   "metadata": {},
   "source": [
    "## Utils"
   ]
  },
  {
   "cell_type": "code",
   "execution_count": null,
   "metadata": {},
   "outputs": [],
   "source": [
    "#| exports\n",
    "default_config = {\n",
    "    'id_field': 'id',\n",
    "    'docs_field': 'docs', \n",
    "    'url_field': 'File URL'\n",
    "}"
   ]
  },
  {
   "cell_type": "code",
   "execution_count": null,
   "metadata": {},
   "outputs": [],
   "source": [
    "#| exports\n",
    "def load_evals(\n",
    "    json_file: str, # path to the JSON file\n",
    "    ) -> L:\n",
    "    \"Load evaluations from JSON file and return flattened list of (eval_id, url) tuples\"    \n",
    "    with open(json_file) as f:\n",
    "        evals = json.load(f)\n",
    "    return L(evals)"
   ]
  },
  {
   "cell_type": "code",
   "execution_count": null,
   "metadata": {},
   "outputs": [
    {
     "data": {
      "text/plain": [
       "(#10) [{'id': '1a57974ab89d7280988aa6b706147ce1', 'docs': [{'Document Subtype': 'Evaluation report', 'File URL': 'https://evaluation.iom.int/sites/g/files/tmzbdl151/files/docs/resources/Internal%20Evaluation_NG20P0516_MAY_2023_FINAL_Abderrahim%20EL%20MOULAT.pdf', 'File description': 'Evaluation Report'}, {'Document Subtype': 'Evaluation brief', 'File URL': 'https://evaluation.iom.int/sites/g/files/tmzbdl151/files/docs/resources/RR0163_Evaluation%20Brief_MAY_%202023_Abderrahim%20EL%20MOULAT.pdf', 'File description': 'Evaluation Brief'}], 'meta': {'Title': 'EX-POST EVALUATION OF THE PROJECT:  NIGERIA: STRENGTHENING REINTEGRATION FOR RETURNEES (SRARP)  - PHASE II', 'Year': 2023, 'Author': 'Abderrahim El Moulat', 'Best Practicesor Lessons Learnt': 'Yes', 'Date of Publication': '2023-05-10', 'Donor': 'Government of Germany', 'Evaluation Brief': 'Yes', 'Evaluation Commissioner': 'Donor, IOM', 'Evaluation Coverage': 'Country', 'Evaluation Period From Date': 'NaT', 'Evaluation Period To Date': 'nan', 'Executive Summary': 'Yes', 'External Version of the Report': 'No', 'Languages': 'English', 'Migration Thematic Areas': 'Assistance to vulnerable migrants, Migrant training and integration (including community cohesion), Migration health (assessment, travel, health promotion, crisis-affected), Return and AVRR', 'Name of Project(s) Being Evaluated': nan, 'Number of Pages Excluding annexes': nan, 'Other Documents Included': nan, 'Project Code': 'RR.0163', 'Countries Covered': ['Nigeria'], 'Regions Covered': 'RO Dakar', 'Relevant Crosscutting Themes': 'Gender, Rights-based approach', 'Report Published': 'Yes', 'Terms of Reference': 'No', 'Type of Evaluation Scope': 'Programme/Project', 'Type of Evaluation Timing': 'Ex-post (after the end of the project/programme)', 'Type of Evaluator': 'Internal', 'Level of Evaluation': 'Decentralized', 'Document Subtype': 'Evaluation report, Evaluation brief', 'File URL': 'https://evaluation.iom.int/sites/g/files/tmzbdl151/files/docs/resources/Internal%20Evaluation_NG20P0516_MAY_2023_FINAL_Abderrahim%20EL%20MOULAT.pdf,   https://evaluation.iom.int/sites/g/files/tmzbdl151/files/docs/resources/RR0163_Evaluation%20Brief_MAY_%202023_Abderrahim%20EL%20MOULAT.pdf', 'File description': 'Evaluation Report , Evaluation Brief', 'Management response': 'No', 'Date added': 'Fri, 07/07/2023 - 15:35', 'Metaevaluation': '2020-24', 'exclude': nan, 'reason': nan}},{'id': 'c660e774d14854e20dc74457712b50ec', 'docs': [{'Document Subtype': 'Evaluation report', 'File URL': 'https://evaluation.iom.int/sites/g/files/tmzbdl151/files/docs/resources/IB0238_Evaluation%20Brief_FEB_%202023_Abderrahim%20EL%20MOULAT.pdf', 'File description': 'Evaluation Report'}, {'Document Subtype': 'Evaluation brief', 'File URL': 'https://evaluation.iom.int/sites/g/files/tmzbdl151/files/docs/resources/Internal%20Evaluation_IB0238__FEB_2023_FINAL%20RE_Abderrahim%20EL%20MOULAT.pdf', 'File description': 'Evaluation Brief'}], 'meta': {'Title': 'FINAL EVALUATION OF THE PROJECT: STRENGTHEN BORDER MANAGEMENT AND SECURITY IN MALI AND NIGER THROUGH CAPACITY BUILDING OF BORDER AUTHORITIES AND ENHANCED DIALOGUE WITH BORDER COMMUNITIES', 'Year': 2023, 'Author': 'Abderrahim El Moulat', 'Best Practicesor Lessons Learnt': 'Yes', 'Date of Publication': '2023-02-14', 'Donor': 'Government of Canada', 'Evaluation Brief': 'Yes', 'Evaluation Commissioner': 'Donor, IOM', 'Evaluation Coverage': 'Multi-country', 'Evaluation Period From Date': 'NaT', 'Evaluation Period To Date': 'nan', 'Executive Summary': 'Yes', 'External Version of the Report': 'No', 'Languages': 'English', 'Migration Thematic Areas': 'Border and identity solutions (border management, security, border assessment etc), Transition Recovery - community stabilisation, Transition Recovery - preventing violent extremism', 'Name of Project(s) Being Evaluated': nan, 'Number of Pages Excluding annexes': 37.0, 'Other Documents Included': nan, 'Project Code': 'IB.0238', 'Countries Covered': ['Mali', 'Niger'], 'Regions Covered': 'RO Dakar', 'Relevant Crosscutting Themes': 'Gender, Rights-based approach', 'Report Published': 'Yes', 'Terms of Reference': 'No', 'Type of Evaluation Scope': 'Programme/Project', 'Type of Evaluation Timing': 'Final (at the end of the project/programme)', 'Type of Evaluator': 'Internal', 'Level of Evaluation': 'Decentralized', 'Document Subtype': 'Evaluation report, Evaluation brief', 'File URL': 'https://evaluation.iom.int/sites/g/files/tmzbdl151/files/docs/resources/IB0238_Evaluation%20Brief_FEB_%202023_Abderrahim%20EL%20MOULAT.pdf,   https://evaluation.iom.int/sites/g/files/tmzbdl151/files/docs/resources/Internal%20Evaluation_IB0238__FEB_2023_FINAL%20RE_Abderrahim%20EL%20MOULAT.pdf', 'File description': 'Evaluation Report , Evaluation Brief', 'Management response': 'No', 'Date added': 'Fri, 05/19/2023 - 16:49', 'Metaevaluation': '2020-24', 'exclude': nan, 'reason': nan}},{'id': '2cae361c6779b561af07200e3d4e4051', 'docs': [{'Document Subtype': 'Evaluation report', 'File URL': 'https://evaluation.iom.int/sites/g/files/tmzbdl151/files/docs/resources/IB0053_Evaluation%20Brief_SEP_%202022_Abderrahim%20EL%20MOULAT.pdf', 'File description': 'Evaluation Report'}, {'Document Subtype': 'Evaluation brief', 'File URL': 'https://evaluation.iom.int/sites/g/files/tmzbdl151/files/docs/resources/Internal%20Evaluation_IB0053_OCT_2022_FINAL_Abderrahim%20EL%20MOULAT_0.pdf', 'File description': 'Evaluation Brief'}], 'meta': {'Title': 'Final Evaluation of the project \"SUPPORTING THE IMPLEMENTATION OF AN E RESIDENCE PLATFORM IN CABO VERDE\"', 'Year': 2022, 'Author': 'Abderrahim El Moulat', 'Best Practicesor Lessons Learnt': 'Yes', 'Date of Publication': '2022-09-15', 'Donor': 'IOM Development Fund', 'Evaluation Brief': 'Yes', 'Evaluation Commissioner': 'IOM', 'Evaluation Coverage': 'Country', 'Evaluation Period From Date': 'NaT', 'Evaluation Period To Date': 'nan', 'Executive Summary': 'Yes', 'External Version of the Report': 'No', 'Languages': 'English', 'Migration Thematic Areas': 'Border and identity solutions (border management, security, border assessment etc)', 'Name of Project(s) Being Evaluated': nan, 'Number of Pages Excluding annexes': 20.0, 'Other Documents Included': nan, 'Project Code': 'IB.0053', 'Countries Covered': ['Cabo Verde'], 'Regions Covered': 'RO Dakar', 'Relevant Crosscutting Themes': 'Gender', 'Report Published': 'Yes', 'Terms of Reference': 'No', 'Type of Evaluation Scope': 'Programme/Project', 'Type of Evaluation Timing': 'Ex-post (after the end of the project/programme)', 'Type of Evaluator': 'Internal', 'Level of Evaluation': 'Decentralized', 'Document Subtype': 'Evaluation report, Evaluation brief', 'File URL': 'https://evaluation.iom.int/sites/g/files/tmzbdl151/files/docs/resources/IB0053_Evaluation%20Brief_SEP_%202022_Abderrahim%20EL%20MOULAT.pdf,   https://evaluation.iom.int/sites/g/files/tmzbdl151/files/docs/resources/Internal%20Evaluation_IB0053_OCT_2022_FINAL_Abderrahim%20EL%20MOULAT_0.pdf', 'File description': 'Evaluation Report , Evaluation Brief', 'Management response': 'No', 'Date added': 'Thu, 02/23/2023 - 11:43', 'Metaevaluation': '2020-24', 'exclude': nan, 'reason': nan}},{'id': 'a9dea21fd254df7759b3936903e0a885', 'docs': [{'Document Subtype': 'Evaluation brief', 'File URL': 'https://evaluation.iom.int/sites/g/files/tmzbdl151/files/docs/resources/Internal%20Evaluation_NC0030_JUNE_2022_FINAL_Abderrahim%20EL%20MOULAT_0.pdf', 'File description': 'Evaluation brief'}, {'Document Subtype': 'Evaluation report', 'File URL': 'https://evaluation.iom.int/sites/g/files/tmzbdl151/files/docs/resources/NC0030_Evaluation%20Brief_June%202022_Abderrahim%20EL%20MOULAT.pdf', 'File description': 'Evaluation Report'}], 'meta': {'Title': 'Finale Internal Evluation: ENHANCING THE CAPACITY TO MAINSTREAM ENVIRONMENT AND CLIMATE CHANGE WITHIN WIDER FRAMEWORK OF MIGRATION MANAGEMENT IN WEST AND CENTRAL AFRICA', 'Year': 2022, 'Author': 'Abderrahim El Moulat', 'Best Practicesor Lessons Learnt': 'Yes', 'Date of Publication': '2022-06-22', 'Donor': 'IOM Development Fund', 'Evaluation Brief': 'Yes', 'Evaluation Commissioner': 'Donor, IOM', 'Evaluation Coverage': 'Country', 'Evaluation Period From Date': 'NaT', 'Evaluation Period To Date': 'nan', 'Executive Summary': 'Yes', 'External Version of the Report': 'No', 'Languages': 'English', 'Migration Thematic Areas': 'Migration and climate change', 'Name of Project(s) Being Evaluated': nan, 'Number of Pages Excluding annexes': 20.0, 'Other Documents Included': nan, 'Project Code': 'NC.0030', 'Countries Covered': ['Senegal'], 'Regions Covered': 'RO Dakar', 'Relevant Crosscutting Themes': 'Gender', 'Report Published': 'Yes', 'Terms of Reference': 'No', 'Type of Evaluation Scope': 'Programme/Project', 'Type of Evaluation Timing': 'Ex-post (after the end of the project/programme)', 'Type of Evaluator': 'Internal', 'Level of Evaluation': 'Decentralized', 'Document Subtype': 'Evaluation brief, Evaluation report', 'File URL': 'https://evaluation.iom.int/sites/g/files/tmzbdl151/files/docs/resources/Internal%20Evaluation_NC0030_JUNE_2022_FINAL_Abderrahim%20EL%20MOULAT_0.pdf,   https://evaluation.iom.int/sites/g/files/tmzbdl151/files/docs/resources/NC0030_Evaluation%20Brief_June%202022_Abderrahim%20EL%20MOULAT.pdf', 'File description': 'Evaluation brief , Evaluation Report', 'Management response': 'No', 'Date added': 'Mon, 08/08/2022 - 11:37', 'Metaevaluation': '2020-24', 'exclude': nan, 'reason': nan}},{'id': 'f0b09b92ea8ad6dddd9623de68a8d278', 'docs': [{'Document Subtype': 'Evaluation brief', 'File URL': 'https://evaluation.iom.int/sites/g/files/tmzbdl151/files/docs/resources/CD0015_Evaluation%20Brief_May%202022_Abderrahim%20EL%20MOULAT.pdf', 'File description': 'Evaluation Brief'}, {'Document Subtype': 'Evaluation report', 'File URL': 'https://evaluation.iom.int/sites/g/files/tmzbdl151/files/docs/resources/Projet%20CD0015_Final%20Evaluation%20Report_May_202_Abderrahim%20EL%20MOULAT.pdf', 'File description': 'Evaluation Report'}], 'meta': {'Title': 'Evaluation Finale Interne du Projet \"ENGAGEMENT DE LA DIASPORA POUR LE RENFORCEMENT DU SYSTEME DE SANTE EN GUINEE\"', 'Year': 2022, 'Author': 'Abderrahim El Moulat', 'Best Practicesor Lessons Learnt': 'Yes', 'Date of Publication': '2022-05-17', 'Donor': 'IOM Development Fund', 'Evaluation Brief': 'Yes', 'Evaluation Commissioner': 'Donor, IOM', 'Evaluation Coverage': 'Country', 'Evaluation Period From Date': '2019-01-01', 'Evaluation Period To Date': '#########', 'Executive Summary': 'Yes', 'External Version of the Report': 'No', 'Languages': 'French', 'Migration Thematic Areas': 'Migration and Development - diaspora, Migration health (assessment, travel, health promotion, crisis-affected), Migration health policy and partnerships', 'Name of Project(s) Being Evaluated': nan, 'Number of Pages Excluding annexes': 23.0, 'Other Documents Included': nan, 'Project Code': 'CD.0015', 'Countries Covered': ['Guinea'], 'Regions Covered': 'RO Dakar', 'Relevant Crosscutting Themes': 'Gender', 'Report Published': 'Yes', 'Terms of Reference': 'Yes', 'Type of Evaluation Scope': 'Programme/Project', 'Type of Evaluation Timing': 'Ex-post (after the end of the project/programme)', 'Type of Evaluator': 'Internal', 'Level of Evaluation': 'Decentralized', 'Document Subtype': 'Evaluation brief, Evaluation report', 'File URL': 'https://evaluation.iom.int/sites/g/files/tmzbdl151/files/docs/resources/CD0015_Evaluation%20Brief_May%202022_Abderrahim%20EL%20MOULAT.pdf,   https://evaluation.iom.int/sites/g/files/tmzbdl151/files/docs/resources/Projet%20CD0015_Final%20Evaluation%20Report_May_202_Abderrahim%20EL%20MOULAT.pdf', 'File description': 'Evaluation Brief, Evaluation Report', 'Management response': 'No', 'Date added': 'Fri, 08/05/2022 - 15:00', 'Metaevaluation': '2020-24', 'exclude': nan, 'reason': nan}},{'id': '0456b0faaea16715afdb96969c337bc1', 'docs': [{'Document Subtype': 'Evaluation report', 'File URL': 'https://evaluation.iom.int/sites/g/files/tmzbdl151/files/docs/resources/Internal%20Evaluation_Retour%20Vert_JUL_2021_Fina_Abderrahim%20EL%20MOULAT.pdf', 'File description': 'Evaluation Report'}, {'Document Subtype': 'Evaluation brief', 'File URL': 'https://evaluation.iom.int/sites/g/files/tmzbdl151/files/docs/resources/NC0012_Evaluation%20Brief_JUL%202021_Abderrahim%20EL%20MOULAT.pdf', 'File description': 'Evaluation Brief'}], 'meta': {'Title': 'EVALUATION FINALE DU PROJET \"VERS UNE DIMENSION ENVIRONNEMENTALE DE L’AIDE À LA RÉINTÉGRATION POUR RÉDUIRE LA PRESSION DU CHANGEMENT CLIMATIQUE SUR LA MIGRATION EN AFRIQUE DE L’OUEST PROJET PILOTE DE L’OIM POUR L’AFRIQUE DE L’OUEST\"', 'Year': 2021, 'Author': 'Abderrahim El Moulat', 'Best Practicesor Lessons Learnt': 'Yes', 'Date of Publication': '2021-07-14', 'Donor': 'Government of France', 'Evaluation Brief': 'Yes', 'Evaluation Commissioner': 'Donor, IOM', 'Evaluation Coverage': 'Country', 'Evaluation Period From Date': '2018-06-01', 'Evaluation Period To Date': '#########', 'Executive Summary': 'Yes', 'External Version of the Report': 'Yes', 'Languages': 'French', 'Migration Thematic Areas': 'Migrant training and integration (including community cohesion), Migration and climate change, Migration and Development - community development, Return and AVRR', 'Name of Project(s) Being Evaluated': nan, 'Number of Pages Excluding annexes': 38.0, 'Other Documents Included': nan, 'Project Code': 'NC.0012', 'Countries Covered': ['Senegal'], 'Regions Covered': 'RO Dakar', 'Relevant Crosscutting Themes': 'Environment', 'Report Published': 'Yes', 'Terms of Reference': 'No', 'Type of Evaluation Scope': 'Programme/Project', 'Type of Evaluation Timing': 'Final (at the end of the project/programme)', 'Type of Evaluator': 'Internal', 'Level of Evaluation': 'Decentralized', 'Document Subtype': 'Evaluation report, Evaluation brief', 'File URL': 'https://evaluation.iom.int/sites/g/files/tmzbdl151/files/docs/resources/Internal%20Evaluation_Retour%20Vert_JUL_2021_Fina_Abderrahim%20EL%20MOULAT.pdf,   https://evaluation.iom.int/sites/g/files/tmzbdl151/files/docs/resources/NC0012_Evaluation%20Brief_JUL%202021_Abderrahim%20EL%20MOULAT.pdf', 'File description': 'Evaluation Report , Evaluation Brief', 'Management response': 'No', 'Date added': 'Mon, 11/15/2021 - 14:21', 'Metaevaluation': '2020-24', 'exclude': nan, 'reason': nan}},{'id': 'd5d71db805eeae249d7a2cf381be05cb', 'docs': [{'Document Subtype': 'Evaluation report', 'File URL': 'https://evaluation.iom.int/sites/g/files/tmzbdl151/files/docs/resources/Nigeria%20GIZ%20Internal%20Evaluation_JANUARY_2021__Abderrahim%20EL%20MOULAT.pdf', 'File description': 'Evaluation Report'}, {'Document Subtype': 'Evaluation brief', 'File URL': 'https://evaluation.iom.int/sites/g/files/tmzbdl151/files/docs/resources/Nigeria%20GIZ%20Project_Evaluation%20Brief_JAN%202021_Abderrahim%20EL%20MOULAT_0.pdf', 'File description': 'Evaluation Brief'}], 'meta': {'Title': 'NIGERIA: STRENGTHENING ASSISTANCE FOR RETURNEES AND POTENTIAL MIGRANTS AND PROMOTING SAFE MIGRATION PRACTICES IN COMMUNITES OF ORIGIN', 'Year': 2021, 'Author': 'Abderrahim El Moulat', 'Best Practicesor Lessons Learnt': 'Yes', 'Date of Publication': '2021-01-01', 'Donor': 'Government of Germany', 'Evaluation Brief': 'Yes', 'Evaluation Commissioner': 'Donor, IOM', 'Evaluation Coverage': 'Country', 'Evaluation Period From Date': '2019-01-01', 'Evaluation Period To Date': '#########', 'Executive Summary': 'Yes', 'External Version of the Report': 'No', 'Languages': 'English', 'Migration Thematic Areas': 'Assistance to vulnerable migrants, Return and AVRR', 'Name of Project(s) Being Evaluated': nan, 'Number of Pages Excluding annexes': 40.0, 'Other Documents Included': nan, 'Project Code': 'RR.0043', 'Countries Covered': ['Nigeria'], 'Regions Covered': 'RO Dakar', 'Relevant Crosscutting Themes': 'Gender', 'Report Published': 'Yes', 'Terms of Reference': 'No', 'Type of Evaluation Scope': 'Programme/Project', 'Type of Evaluation Timing': 'Final (at the end of the project/programme)', 'Type of Evaluator': 'Internal', 'Level of Evaluation': 'Decentralized', 'Document Subtype': 'Evaluation report, Evaluation brief', 'File URL': 'https://evaluation.iom.int/sites/g/files/tmzbdl151/files/docs/resources/Nigeria%20GIZ%20Internal%20Evaluation_JANUARY_2021__Abderrahim%20EL%20MOULAT.pdf,   https://evaluation.iom.int/sites/g/files/tmzbdl151/files/docs/resources/Nigeria%20GIZ%20Project_Evaluation%20Brief_JAN%202021_Abderrahim%20EL%20MOULAT_0.pdf', 'File description': 'Evaluation Report , Evaluation Brief', 'Management response': 'No', 'Date added': 'Mon, 11/15/2021 - 16:29', 'Metaevaluation': '2020-24', 'exclude': nan, 'reason': nan}},{'id': 'f365264e3f69efb4c61b0cecb374e0f4', 'docs': [{'Document Subtype': 'Evaluation report', 'File URL': 'https://evaluation.iom.int/sites/g/files/tmzbdl151/files/docs/resources/Evaluation%20Brief_ARCO_Shiraz%20JERBI.pdF', 'File description': 'Evaluation Report'}, {'Document Subtype': 'Evaluation brief', 'File URL': 'https://evaluation.iom.int/sites/g/files/tmzbdl151/files/docs/resources/Final%20evaluation%20report_ARCO_Shiraz%20JERBI_1.pdf', 'File description': 'Evaluation Brief'}, {'Document Subtype': 'Management response', 'File URL': 'https://evaluation.iom.int/sites/g/files/tmzbdl151/files/docs/resources/Management%20Response%20Matrix_ARCO_Shiraz%20JERBI.pdf', 'File description': 'Management Response'}], 'meta': {'Title': 'Local Authorities Network for Migration and Development', 'Year': 2022, 'Author': 'Action Research for CO-development (ARCO)', 'Best Practicesor Lessons Learnt': 'No', 'Date of Publication': '2022-02-01', 'Donor': 'Government of Italy', 'Evaluation Brief': 'No', 'Evaluation Commissioner': 'IOM', 'Evaluation Coverage': 'Multi-country', 'Evaluation Period From Date': '2020-07-06', 'Evaluation Period To Date': '#########', 'Executive Summary': 'Yes', 'External Version of the Report': 'No', 'Languages': 'English', 'Migration Thematic Areas': 'Migration and Development - diaspora', 'Name of Project(s) Being Evaluated': nan, 'Number of Pages Excluding annexes': 37.0, 'Other Documents Included': nan, 'Project Code': 'MD.0003', 'Countries Covered': ['Albania', 'Italy'], 'Regions Covered': 'RO Brussels', 'Relevant Crosscutting Themes': 'Gender, Rights-based approach', 'Report Published': 'No', 'Terms of Reference': 'Yes', 'Type of Evaluation Scope': 'Programme/Project', 'Type of Evaluation Timing': 'Final (at the end of the project/programme)', 'Type of Evaluator': 'External', 'Level of Evaluation': 'Decentralized', 'Document Subtype': 'Evaluation report, Evaluation brief, Management response', 'File URL': 'https://evaluation.iom.int/sites/g/files/tmzbdl151/files/docs/resources/Evaluation%20Brief_ARCO_Shiraz%20JERBI.pdF,   https://evaluation.iom.int/sites/g/files/tmzbdl151/files/docs/resources/Final%20evaluation%20report_ARCO_Shiraz%20JERBI_1.pdf,   https://evaluation.iom.int/sites/g/files/tmzbdl151/files/docs/resources/Management%20Response%20Matrix_ARCO_Shiraz%20JERBI.pdf', 'File description': 'Evaluation Report , Evaluation Brief, Management Response', 'Management response': 'Yes', 'Date added': 'Fri, 08/05/2022 - 11:50', 'Metaevaluation': '2020-24', 'exclude': nan, 'reason': nan}},{'id': '93e51fcbedaaddd6a7e38fd8ee039614', 'docs': [{'Document Subtype': 'Evaluation report', 'File URL': 'https://evaluation.iom.int/sites/g/files/tmzbdl151/files/docs/resources/IOM%20MANAGEMENT%20RESPONSE%20MATRIX.pdf', 'File description': 'Evaluation Report'}, {'Document Subtype': 'Management response', 'File URL': 'https://evaluation.iom.int/sites/g/files/tmzbdl151/files/docs/resources/IOM%20Niger%20-%20MIRAA%20III%20-%20Final%20Evaluation%20Report%20%28003%29.pdf', 'File description': 'Management Response'}], 'meta': {'Title': 'MIGRANTS RESCUE AND ASSISTANCE IN AGADEZ REGION (MIRAA) – PHASE III', 'Year': 2022, 'Author': 'Africa Research Network', 'Best Practicesor Lessons Learnt': 'No', 'Date of Publication': '2022-03-31', 'Donor': 'Government  of the Netherlands', 'Evaluation Brief': 'No', 'Evaluation Commissioner': 'IOM', 'Evaluation Coverage': 'Country', 'Evaluation Period From Date': 'NaT', 'Evaluation Period To Date': 'nan', 'Executive Summary': 'Yes', 'External Version of the Report': 'No', 'Languages': 'English', 'Migration Thematic Areas': 'Assistance to vulnerable migrants, Return and AVRR', 'Name of Project(s) Being Evaluated': nan, 'Number of Pages Excluding annexes': 36.0, 'Other Documents Included': nan, 'Project Code': 'RR.0017', 'Countries Covered': ['Niger'], 'Regions Covered': 'RO Dakar', 'Relevant Crosscutting Themes': 'Gender', 'Report Published': 'Yes', 'Terms of Reference': 'No', 'Type of Evaluation Scope': 'Programme/Project', 'Type of Evaluation Timing': 'Final (at the end of the project/programme)', 'Type of Evaluator': 'External', 'Level of Evaluation': 'Decentralized', 'Document Subtype': 'Evaluation report, Management response', 'File URL': 'https://evaluation.iom.int/sites/g/files/tmzbdl151/files/docs/resources/IOM%20MANAGEMENT%20RESPONSE%20MATRIX.pdf,   https://evaluation.iom.int/sites/g/files/tmzbdl151/files/docs/resources/IOM%20Niger%20-%20MIRAA%20III%20-%20Final%20Evaluation%20Report%20%28003%29.pdf', 'File description': 'Evaluation Report , Management Response', 'Management response': 'Yes', 'Date added': 'Tue, 08/02/2022 - 14:39', 'Metaevaluation': '2020-24', 'exclude': nan, 'reason': nan}},{'id': '5efee25fe816456e0af729cb91896a38', 'docs': [{'Document Subtype': 'Evaluation report', 'File URL': 'https://evaluation.iom.int/sites/g/files/tmzbdl151/files/docs/resources/CE.0369%20-%20IDEE%20-%20ANNEXE%201%20-%20Rapport%20Recherche_Joanie%20DUROCHER_0.pdf', 'File description': 'Evaluation Report'}, {'Document Subtype': 'Evaluation brief', 'File URL': 'https://evaluation.iom.int/sites/g/files/tmzbdl151/files/docs/resources/CE.0369%20-%20IDEE%20-%20ANNEXE%202%20-%20Rapport%20Recherche_Joanie%20DUROCHER_0.pdf', 'File description': 'Evaluation Brief'}, {'Document Subtype': 'Annexes', 'File URL': 'https://evaluation.iom.int/sites/g/files/tmzbdl151/files/docs/resources/CE.0369%20-%20IDEE%20-%20ANNEXE%203%20-%20Rapport%20Recherche_Joanie%20DUROCHER.pdf', 'File description': 'Annexes'}, {'Document Subtype': 'Annexes', 'File URL': 'https://evaluation.iom.int/sites/g/files/tmzbdl151/files/docs/resources/CE.0369%20-%20IDEE%20-%20EVALUATION%20FINALE%20%28DEC%202020%29_Joanie%20DUROCHER_0.pdf', 'File description': 'annexes'}, {'Document Subtype': 'Annexes', 'File URL': 'https://evaluation.iom.int/sites/g/files/tmzbdl151/files/docs/resources/CE.0369%20-%20IDEE%20-%20EVALUATION%20FINALE%20-%20BREVE%20%28F_Joanie%20DUROCHER_0.pdf', 'File description': 'annexes'}], 'meta': {'Title': 'ÉVALUATION EXTERNE FINALE DU PROJET IDEE– INITIATIVE POUR LE DÉVELOPPEMENT DE L’ENTREPRISE- DANS LES VILLES DE NIAMEY, DE TAHOUA ET DE ZINDER AU NIGER.', 'Year': 2020, 'Author': 'Agence Internationale d’Ingénierie d’Etudes et de Réalisations (AIIER)', 'Best Practicesor Lessons Learnt': 'No', 'Date of Publication': '2020-10-30', 'Donor': 'Government of Italy', 'Evaluation Brief': 'Yes', 'Evaluation Commissioner': 'IOM', 'Evaluation Coverage': 'Country', 'Evaluation Period From Date': '2017-06-01', 'Evaluation Period To Date': '#########', 'Executive Summary': 'No', 'External Version of the Report': 'No', 'Languages': 'French', 'Migration Thematic Areas': 'Labour migration (ethical recruitment, labour market etc)', 'Name of Project(s) Being Evaluated': nan, 'Number of Pages Excluding annexes': 56.0, 'Other Documents Included': nan, 'Project Code': 'CE.0369', 'Countries Covered': ['Niger'], 'Regions Covered': 'RO Dakar', 'Relevant Crosscutting Themes': nan, 'Report Published': 'Yes', 'Terms of Reference': 'No', 'Type of Evaluation Scope': 'Programme/Project', 'Type of Evaluation Timing': 'Final (at the end of the project/programme)', 'Type of Evaluator': 'External', 'Level of Evaluation': 'Decentralized', 'Document Subtype': 'Evaluation report, Evaluation brief, Annexes, Annexes, Annexes', 'File URL': 'https://evaluation.iom.int/sites/g/files/tmzbdl151/files/docs/resources/CE.0369%20-%20IDEE%20-%20ANNEXE%201%20-%20Rapport%20Recherche_Joanie%20DUROCHER_0.pdf,   https://evaluation.iom.int/sites/g/files/tmzbdl151/files/docs/resources/CE.0369%20-%20IDEE%20-%20ANNEXE%202%20-%20Rapport%20Recherche_Joanie%20DUROCHER_0.pdf,   https://evaluation.iom.int/sites/g/files/tmzbdl151/files/docs/resources/CE.0369%20-%20IDEE%20-%20ANNEXE%203%20-%20Rapport%20Recherche_Joanie%20DUROCHER.pdf,   https://evaluation.iom.int/sites/g/files/tmzbdl151/files/docs/resources/CE.0369%20-%20IDEE%20-%20EVALUATION%20FINALE%20%28DEC%202020%29_Joanie%20DUROCHER_0.pdf,   https://evaluation.iom.int/sites/g/files/tmzbdl151/files/docs/resources/CE.0369%20-%20IDEE%20-%20EVALUATION%20FINALE%20-%20BREVE%20%28F_Joanie%20DUROCHER_0.pdf', 'File description': 'Evaluation Report , Evaluation Brief, Annexes, annexes, annexes', 'Management response': 'No', 'Date added': 'Thu, 04/29/2021 - 17:51', 'Metaevaluation': '2020-24', 'exclude': nan, 'reason': nan}}]"
      ]
     },
     "execution_count": null,
     "metadata": {},
     "output_type": "execute_result"
    }
   ],
   "source": [
    "#| eval: false\n",
    "fname = 'files/test/evaluations.json'\n",
    "evals = load_evals(fname); evals"
   ]
  }
 ],
 "metadata": {
  "kernelspec": {
   "display_name": "python3",
   "language": "python",
   "name": "python3"
  }
 },
 "nbformat": 4,
 "nbformat_minor": 4
}
