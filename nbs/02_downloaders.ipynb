{
 "cells": [
  {
   "cell_type": "markdown",
   "metadata": {},
   "source": [
    "# Downloaders\n",
    "\n",
    "> Downloaders are responsible for downloading evaluation repositories from various sources (e.g. IOM, UNHCR)."
   ]
  },
  {
   "cell_type": "code",
   "execution_count": null,
   "metadata": {},
   "outputs": [],
   "source": [
    "#| default_exp downloaders"
   ]
  },
  {
   "cell_type": "code",
   "execution_count": null,
   "metadata": {},
   "outputs": [],
   "source": [
    "#| export\n",
    "from pathlib import Path\n",
    "from rich import print\n",
    "from fastcore.all import *\n",
    "from urllib.parse import urlparse\n",
    "import requests\n",
    "from functools import partial\n",
    "\n",
    "from evaluatr.readers import load_evals, default_config"
   ]
  },
  {
   "cell_type": "code",
   "execution_count": null,
   "metadata": {},
   "outputs": [],
   "source": [
    "#| exports\n",
    "def flatten_evals_id_doc(\n",
    "    evals: L,  # List of evaluation records\n",
    "    cfg: dict = default_config  # Config dict with field names\n",
    ") -> L:  # Returns list of (id, url) tuples\n",
    "    \"Flatten evaluation records into list of (id, url) tuples\"\n",
    "    return L((eval_data[cfg['id_field']], doc[cfg['url_field']]) \n",
    "             for eval_data in evals \n",
    "             for doc in eval_data[cfg['docs_field']])"
   ]
  },
  {
   "cell_type": "code",
   "execution_count": null,
   "metadata": {},
   "outputs": [
    {
     "data": {
      "text/plain": [
       "(#24) [('1a57974ab89d7280988aa6b706147ce1', 'https://evaluation.iom.int/sites/g/files/tmzbdl151/files/docs/resources/Internal%20Evaluation_NG20P0516_MAY_2023_FINAL_Abderrahim%20EL%20MOULAT.pdf'),('1a57974ab89d7280988aa6b706147ce1', 'https://evaluation.iom.int/sites/g/files/tmzbdl151/files/docs/resources/RR0163_Evaluation%20Brief_MAY_%202023_Abderrahim%20EL%20MOULAT.pdf'),('c660e774d14854e20dc74457712b50ec', 'https://evaluation.iom.int/sites/g/files/tmzbdl151/files/docs/resources/IB0238_Evaluation%20Brief_FEB_%202023_Abderrahim%20EL%20MOULAT.pdf'),('c660e774d14854e20dc74457712b50ec', 'https://evaluation.iom.int/sites/g/files/tmzbdl151/files/docs/resources/Internal%20Evaluation_IB0238__FEB_2023_FINAL%20RE_Abderrahim%20EL%20MOULAT.pdf'),('2cae361c6779b561af07200e3d4e4051', 'https://evaluation.iom.int/sites/g/files/tmzbdl151/files/docs/resources/IB0053_Evaluation%20Brief_SEP_%202022_Abderrahim%20EL%20MOULAT.pdf'),('2cae361c6779b561af07200e3d4e4051', 'https://evaluation.iom.int/sites/g/files/tmzbdl151/files/docs/resources/Internal%20Evaluation_IB0053_OCT_2022_FINAL_Abderrahim%20EL%20MOULAT_0.pdf'),('a9dea21fd254df7759b3936903e0a885', 'https://evaluation.iom.int/sites/g/files/tmzbdl151/files/docs/resources/Internal%20Evaluation_NC0030_JUNE_2022_FINAL_Abderrahim%20EL%20MOULAT_0.pdf'),('a9dea21fd254df7759b3936903e0a885', 'https://evaluation.iom.int/sites/g/files/tmzbdl151/files/docs/resources/NC0030_Evaluation%20Brief_June%202022_Abderrahim%20EL%20MOULAT.pdf'),('f0b09b92ea8ad6dddd9623de68a8d278', 'https://evaluation.iom.int/sites/g/files/tmzbdl151/files/docs/resources/CD0015_Evaluation%20Brief_May%202022_Abderrahim%20EL%20MOULAT.pdf'),('f0b09b92ea8ad6dddd9623de68a8d278', 'https://evaluation.iom.int/sites/g/files/tmzbdl151/files/docs/resources/Projet%20CD0015_Final%20Evaluation%20Report_May_202_Abderrahim%20EL%20MOULAT.pdf'),('0456b0faaea16715afdb96969c337bc1', 'https://evaluation.iom.int/sites/g/files/tmzbdl151/files/docs/resources/Internal%20Evaluation_Retour%20Vert_JUL_2021_Fina_Abderrahim%20EL%20MOULAT.pdf'),('0456b0faaea16715afdb96969c337bc1', 'https://evaluation.iom.int/sites/g/files/tmzbdl151/files/docs/resources/NC0012_Evaluation%20Brief_JUL%202021_Abderrahim%20EL%20MOULAT.pdf'),('d5d71db805eeae249d7a2cf381be05cb', 'https://evaluation.iom.int/sites/g/files/tmzbdl151/files/docs/resources/Nigeria%20GIZ%20Internal%20Evaluation_JANUARY_2021__Abderrahim%20EL%20MOULAT.pdf'),('d5d71db805eeae249d7a2cf381be05cb', 'https://evaluation.iom.int/sites/g/files/tmzbdl151/files/docs/resources/Nigeria%20GIZ%20Project_Evaluation%20Brief_JAN%202021_Abderrahim%20EL%20MOULAT_0.pdf'),('f365264e3f69efb4c61b0cecb374e0f4', 'https://evaluation.iom.int/sites/g/files/tmzbdl151/files/docs/resources/Evaluation%20Brief_ARCO_Shiraz%20JERBI.pdF'),('f365264e3f69efb4c61b0cecb374e0f4', 'https://evaluation.iom.int/sites/g/files/tmzbdl151/files/docs/resources/Final%20evaluation%20report_ARCO_Shiraz%20JERBI_1.pdf'),('f365264e3f69efb4c61b0cecb374e0f4', 'https://evaluation.iom.int/sites/g/files/tmzbdl151/files/docs/resources/Management%20Response%20Matrix_ARCO_Shiraz%20JERBI.pdf'),('93e51fcbedaaddd6a7e38fd8ee039614', 'https://evaluation.iom.int/sites/g/files/tmzbdl151/files/docs/resources/IOM%20MANAGEMENT%20RESPONSE%20MATRIX.pdf'),('93e51fcbedaaddd6a7e38fd8ee039614', 'https://evaluation.iom.int/sites/g/files/tmzbdl151/files/docs/resources/IOM%20Niger%20-%20MIRAA%20III%20-%20Final%20Evaluation%20Report%20%28003%29.pdf'),('5efee25fe816456e0af729cb91896a38', 'https://evaluation.iom.int/sites/g/files/tmzbdl151/files/docs/resources/CE.0369%20-%20IDEE%20-%20ANNEXE%201%20-%20Rapport%20Recherche_Joanie%20DUROCHER_0.pdf')...]"
      ]
     },
     "execution_count": null,
     "metadata": {},
     "output_type": "execute_result"
    }
   ],
   "source": [
    "#| eval: false\n",
    "fname = 'files/test/evaluations.json'\n",
    "docs_to_download = flatten_evals_id_doc(load_evals(fname)); docs_to_download"
   ]
  },
  {
   "cell_type": "code",
   "execution_count": null,
   "metadata": {},
   "outputs": [],
   "source": [
    "#| exports\n",
    "def mk_dirs(\n",
    "    docs_to_download: L, # list of (eval_id, url) tuples\n",
    "    base_dir: Path # path to the base directory\n",
    "    ) -> None:\n",
    "    \"Create directories for each unique evaluation ID\"\n",
    "    unique_eval_ids = set(eval_id for eval_id, url in docs_to_download)\n",
    "    for eval_id in unique_eval_ids:\n",
    "        (base_dir / eval_id).mkdir(parents=True, exist_ok=True)"
   ]
  },
  {
   "cell_type": "code",
   "execution_count": null,
   "metadata": {},
   "outputs": [],
   "source": [
    "#| eval: false\n",
    "base_dir = Path(\"files/test/pdf_library\")\n",
    "mk_dirs(docs_to_download[:2], base_dir)"
   ]
  },
  {
   "cell_type": "code",
   "execution_count": null,
   "metadata": {},
   "outputs": [],
   "source": [
    "#| exports\n",
    "def extract_fname(url: str) -> str: \n",
    "    parsed_url = urlparse(url)\n",
    "    fname = Path(parsed_url.path).name\n",
    "    return fname"
   ]
  },
  {
   "cell_type": "code",
   "execution_count": null,
   "metadata": {},
   "outputs": [],
   "source": [
    "#| exports\n",
    "def download_doc(\n",
    "    doc_info: tuple[str, str],  # (eval_id, url) for the document to download\n",
    "    base_dir: Path, # Base directory to save files to\n",
    "    overwrite: bool = True # If True, overwrite existing file\n",
    ") -> str:\n",
    "    \"Download a document from a given URL and save it to a specified directory.\"\n",
    "    eval_id, url = doc_info    \n",
    "    \n",
    "    fname = extract_fname(url)\n",
    "    path = base_dir / eval_id / fname\n",
    "    \n",
    "    if path.exists() and not overwrite: \n",
    "        return f\"Skipped {fname} (already exists)\"\n",
    "    \n",
    "    try:\n",
    "        r = requests.get(url, timeout=15)\n",
    "        r.raise_for_status()\n",
    "        \n",
    "        with open(path, 'wb') as f:\n",
    "            f.write(r.content)\n",
    "            \n",
    "        return f\"Downloaded {fname}\"\n",
    "    except Exception as e:\n",
    "        return f\"Failed to download {fname}: {e}\""
   ]
  },
  {
   "cell_type": "code",
   "execution_count": null,
   "metadata": {},
   "outputs": [
    {
     "data": {
      "text/html": [
       "<pre style=\"white-space:pre;overflow-x:auto;line-height:normal;font-family:Menlo,'DejaVu Sans Mono',consolas,'Courier New',monospace\"><span style=\"font-weight: bold\">[(</span><span style=\"color: #008000; text-decoration-color: #008000\">'1a57974ab89d7280988aa6b706147ce1'</span>, \n",
       "<span style=\"color: #008000; text-decoration-color: #008000\">'https://evaluation.iom.int/sites/g/files/tmzbdl151/files/docs/resources/Internal%20Evaluation_NG20P0516_MAY_2023_F</span>\n",
       "<span style=\"color: #008000; text-decoration-color: #008000\">INAL_Abderrahim%20EL%20MOULAT.pdf'</span><span style=\"font-weight: bold\">)</span>, <span style=\"font-weight: bold\">(</span><span style=\"color: #008000; text-decoration-color: #008000\">'1a57974ab89d7280988aa6b706147ce1'</span>, \n",
       "<span style=\"color: #008000; text-decoration-color: #008000\">'https://evaluation.iom.int/sites/g/files/tmzbdl151/files/docs/resources/RR0163_Evaluation%20Brief_MAY_%202023_Abde</span>\n",
       "<span style=\"color: #008000; text-decoration-color: #008000\">rrahim%20EL%20MOULAT.pdf'</span><span style=\"font-weight: bold\">)]</span>\n",
       "</pre>\n"
      ],
      "text/plain": [
       "\u001b[1m[\u001b[0m\u001b[1m(\u001b[0m\u001b[32m'1a57974ab89d7280988aa6b706147ce1'\u001b[0m, \n",
       "\u001b[32m'https://evaluation.iom.int/sites/g/files/tmzbdl151/files/docs/resources/Internal%20Evaluation_NG20P0516_MAY_2023_F\u001b[0m\n",
       "\u001b[32mINAL_Abderrahim%20EL%20MOULAT.pdf'\u001b[0m\u001b[1m)\u001b[0m, \u001b[1m(\u001b[0m\u001b[32m'1a57974ab89d7280988aa6b706147ce1'\u001b[0m, \n",
       "\u001b[32m'https://evaluation.iom.int/sites/g/files/tmzbdl151/files/docs/resources/RR0163_Evaluation%20Brief_MAY_%202023_Abde\u001b[0m\n",
       "\u001b[32mrrahim%20EL%20MOULAT.pdf'\u001b[0m\u001b[1m)\u001b[0m\u001b[1m]\u001b[0m\n"
      ]
     },
     "metadata": {},
     "output_type": "display_data"
    }
   ],
   "source": [
    "#| eval: false\n",
    "docs_to_download = flatten_evals_id_doc(load_evals(fname))\n",
    "print(docs_to_download[:2])"
   ]
  },
  {
   "cell_type": "code",
   "execution_count": null,
   "metadata": {},
   "outputs": [
    {
     "data": {
      "text/plain": [
       "'Downloaded Internal%20Evaluation_NG20P0516_MAY_2023_FINAL_Abderrahim%20EL%20MOULAT.pdf'"
      ]
     },
     "execution_count": null,
     "metadata": {},
     "output_type": "execute_result"
    }
   ],
   "source": [
    "#| eval: false\n",
    "eval_id, url = docs_to_download[0]\n",
    "download_doc((eval_id, url), base_dir=base_dir, overwrite=False)"
   ]
  },
  {
   "cell_type": "code",
   "execution_count": null,
   "metadata": {},
   "outputs": [],
   "source": [
    "#| exports\n",
    "def download_docs(\n",
    "    json_file: str, # path to the JSON file\n",
    "    base_dir: Path = Path(\"./PDF_Library\"), # path to the base directory\n",
    "    n_workers: int = 5, # number of workers\n",
    "    overwrite: bool = False, # if True, overwrite existing files\n",
    "    cfg: dict = default_config # config for the JSON file\n",
    ") -> list:\n",
    "    \"Download all evaluation documents from a JSON file in parallel\"\n",
    "    docs_to_download = flatten_evals_id_doc(load_evals(json_file))\n",
    "    mk_dirs(docs_to_download, base_dir)\n",
    "    download_func = partial(download_doc, base_dir=base_dir, overwrite=overwrite)\n",
    "    results = parallel(download_func, \n",
    "                      docs_to_download, \n",
    "                      n_workers=n_workers,\n",
    "                      total=len(docs_to_download),\n",
    "                      progress=True)\n",
    "    \n",
    "    return results"
   ]
  },
  {
   "cell_type": "code",
   "execution_count": null,
   "metadata": {},
   "outputs": [
    {
     "name": "stdout",
     "output_type": "stream",
     "text": [
      "                                                                       \r"
     ]
    },
    {
     "data": {
      "text/plain": [
       "(#24) ['Downloaded Internal%20Evaluation_NG20P0516_MAY_2023_FINAL_Abderrahim%20EL%20MOULAT.pdf','Downloaded RR0163_Evaluation%20Brief_MAY_%202023_Abderrahim%20EL%20MOULAT.pdf','Downloaded IB0238_Evaluation%20Brief_FEB_%202023_Abderrahim%20EL%20MOULAT.pdf','Downloaded Internal%20Evaluation_IB0238__FEB_2023_FINAL%20RE_Abderrahim%20EL%20MOULAT.pdf','Downloaded IB0053_Evaluation%20Brief_SEP_%202022_Abderrahim%20EL%20MOULAT.pdf','Downloaded Internal%20Evaluation_IB0053_OCT_2022_FINAL_Abderrahim%20EL%20MOULAT_0.pdf','Downloaded Internal%20Evaluation_NC0030_JUNE_2022_FINAL_Abderrahim%20EL%20MOULAT_0.pdf','Downloaded NC0030_Evaluation%20Brief_June%202022_Abderrahim%20EL%20MOULAT.pdf','Downloaded CD0015_Evaluation%20Brief_May%202022_Abderrahim%20EL%20MOULAT.pdf','Downloaded Projet%20CD0015_Final%20Evaluation%20Report_May_202_Abderrahim%20EL%20MOULAT.pdf','Downloaded Internal%20Evaluation_Retour%20Vert_JUL_2021_Fina_Abderrahim%20EL%20MOULAT.pdf','Downloaded NC0012_Evaluation%20Brief_JUL%202021_Abderrahim%20EL%20MOULAT.pdf','Downloaded Nigeria%20GIZ%20Internal%20Evaluation_JANUARY_2021__Abderrahim%20EL%20MOULAT.pdf','Downloaded Nigeria%20GIZ%20Project_Evaluation%20Brief_JAN%202021_Abderrahim%20EL%20MOULAT_0.pdf','Downloaded Evaluation%20Brief_ARCO_Shiraz%20JERBI.pdF','Downloaded Final%20evaluation%20report_ARCO_Shiraz%20JERBI_1.pdf','Downloaded Management%20Response%20Matrix_ARCO_Shiraz%20JERBI.pdf','Downloaded IOM%20MANAGEMENT%20RESPONSE%20MATRIX.pdf','Downloaded IOM%20Niger%20-%20MIRAA%20III%20-%20Final%20Evaluation%20Report%20%28003%29.pdf','Downloaded CE.0369%20-%20IDEE%20-%20ANNEXE%201%20-%20Rapport%20Recherche_Joanie%20DUROCHER_0.pdf'...]"
      ]
     },
     "execution_count": null,
     "metadata": {},
     "output_type": "execute_result"
    }
   ],
   "source": [
    "#| eval: false\n",
    "fname = 'files/test/evaluations.json'\n",
    "base_dir = Path(\"files/test/pdf_library\")\n",
    "download_docs(fname, base_dir=base_dir, n_workers=0, overwrite=True)"
   ]
  }
 ],
 "metadata": {
  "kernelspec": {
   "display_name": "python3",
   "language": "python",
   "name": "python3"
  }
 },
 "nbformat": 4,
 "nbformat_minor": 4
}
