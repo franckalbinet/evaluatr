{
 "cells": [
  {
   "cell_type": "markdown",
   "metadata": {},
   "source": [
    "# Enrichr\n",
    "\n",
    "> Fix, clean markdown headings and enrich it with figures description, ..."
   ]
  },
  {
   "cell_type": "markdown",
   "metadata": {},
   "source": [
    "This module aims to fix and enrich markdown headings from OCR'd PDF files by:\n",
    "\n",
    "1. Fixing heading hierarchy that was corrupted during OCR\n",
    "2. Adding page numbers to headings for better navigation\n",
    "3. Enriching figure references with descriptive text and creating a table of figures"
   ]
  },
  {
   "cell_type": "code",
   "execution_count": null,
   "metadata": {},
   "outputs": [],
   "source": [
    "#| default_exp enrichr"
   ]
  },
  {
   "cell_type": "code",
   "execution_count": null,
   "metadata": {},
   "outputs": [],
   "source": [
    "#| export\n",
    "from pathlib import Path\n",
    "import os\n",
    "import re\n",
    "from dotenv import load_dotenv\n",
    "from fastcore.all import *\n",
    "import dspy\n",
    "from pydantic import BaseModel\n",
    "from typing import List"
   ]
  },
  {
   "cell_type": "code",
   "execution_count": null,
   "metadata": {},
   "outputs": [],
   "source": [
    "#| export\n",
    "load_dotenv()\n",
    "GEMINI_API_KEY = os.getenv('GEMINI_API_KEY')"
   ]
  },
  {
   "cell_type": "code",
   "execution_count": null,
   "metadata": {},
   "outputs": [],
   "source": [
    "#| exports\n",
    "cfg = AttrDict({\n",
    "    'fixed_suffix': '_fixed',\n",
    "    'lm': 'gemini/gemini-2.0-flash-exp',\n",
    "    'api_key': GEMINI_API_KEY,\n",
    "    'max_tokens': 8192,\n",
    "    'track_usage': False\n",
    "})"
   ]
  },
  {
   "cell_type": "code",
   "execution_count": null,
   "metadata": {},
   "outputs": [],
   "source": [
    "#| export\n",
    "src_dir = Path(\"../_data/md_library/49d2fba781b6a7c0d94577479636ee6f\")"
   ]
  },
  {
   "cell_type": "markdown",
   "metadata": {},
   "source": [
    "## Fixing Markdown Headings"
   ]
  },
  {
   "cell_type": "code",
   "execution_count": null,
   "metadata": {},
   "outputs": [
    {
     "data": {
      "text/plain": [
       "(#31) [Path('../_data/md_library/49d2fba781b6a7c0d94577479636ee6f/abridged_evaluation_report_final_olta_ndoja_pdf/page_1.md'),Path('../_data/md_library/49d2fba781b6a7c0d94577479636ee6f/abridged_evaluation_report_final_olta_ndoja_pdf/page_2.md'),Path('../_data/md_library/49d2fba781b6a7c0d94577479636ee6f/abridged_evaluation_report_final_olta_ndoja_pdf/page_3.md'),Path('../_data/md_library/49d2fba781b6a7c0d94577479636ee6f/abridged_evaluation_report_final_olta_ndoja_pdf/page_4.md'),Path('../_data/md_library/49d2fba781b6a7c0d94577479636ee6f/abridged_evaluation_report_final_olta_ndoja_pdf/page_5.md'),Path('../_data/md_library/49d2fba781b6a7c0d94577479636ee6f/abridged_evaluation_report_final_olta_ndoja_pdf/page_6.md'),Path('../_data/md_library/49d2fba781b6a7c0d94577479636ee6f/abridged_evaluation_report_final_olta_ndoja_pdf/page_7.md'),Path('../_data/md_library/49d2fba781b6a7c0d94577479636ee6f/abridged_evaluation_report_final_olta_ndoja_pdf/page_8.md'),Path('../_data/md_library/49d2fba781b6a7c0d94577479636ee6f/abridged_evaluation_report_final_olta_ndoja_pdf/page_9.md'),Path('../_data/md_library/49d2fba781b6a7c0d94577479636ee6f/abridged_evaluation_report_final_olta_ndoja_pdf/page_10.md'),Path('../_data/md_library/49d2fba781b6a7c0d94577479636ee6f/abridged_evaluation_report_final_olta_ndoja_pdf/page_11.md'),Path('../_data/md_library/49d2fba781b6a7c0d94577479636ee6f/abridged_evaluation_report_final_olta_ndoja_pdf/page_12.md'),Path('../_data/md_library/49d2fba781b6a7c0d94577479636ee6f/abridged_evaluation_report_final_olta_ndoja_pdf/page_13.md'),Path('../_data/md_library/49d2fba781b6a7c0d94577479636ee6f/abridged_evaluation_report_final_olta_ndoja_pdf/page_14.md'),Path('../_data/md_library/49d2fba781b6a7c0d94577479636ee6f/abridged_evaluation_report_final_olta_ndoja_pdf/page_15.md'),Path('../_data/md_library/49d2fba781b6a7c0d94577479636ee6f/abridged_evaluation_report_final_olta_ndoja_pdf/page_16.md'),Path('../_data/md_library/49d2fba781b6a7c0d94577479636ee6f/abridged_evaluation_report_final_olta_ndoja_pdf/page_17.md'),Path('../_data/md_library/49d2fba781b6a7c0d94577479636ee6f/abridged_evaluation_report_final_olta_ndoja_pdf/page_18.md'),Path('../_data/md_library/49d2fba781b6a7c0d94577479636ee6f/abridged_evaluation_report_final_olta_ndoja_pdf/page_19.md'),Path('../_data/md_library/49d2fba781b6a7c0d94577479636ee6f/abridged_evaluation_report_final_olta_ndoja_pdf/page_20.md')...]"
      ]
     },
     "execution_count": null,
     "metadata": {},
     "output_type": "execute_result"
    }
   ],
   "source": [
    "#| eval: false\n",
    "doc = src_dir / 'abridged_evaluation_report_final_olta_ndoja_pdf'\n",
    "pages = [p for p in doc.ls(file_exts=\".md\") if cfg.fixed_suffix not in p.stem] \n",
    "pages = L(pages).sorted(key=lambda p: int(p.stem.split('_')[1])); pages"
   ]
  },
  {
   "cell_type": "code",
   "execution_count": null,
   "metadata": {},
   "outputs": [],
   "source": [
    "#| exports\n",
    "def get_hdgs(md_txt): return re.findall(r'^#+.*$', md_txt, re.MULTILINE)"
   ]
  },
  {
   "cell_type": "code",
   "execution_count": null,
   "metadata": {},
   "outputs": [],
   "source": [
    "#| exports\n",
    "def get_hdgs_with_pages(\n",
    "    pages: list[Path] # List of pages\n",
    "    ):\n",
    "    \"Get headings and the page number they are on\"\n",
    "    headings = []\n",
    "    for i, page in enumerate(pages, 1):  # page numbers start at 1\n",
    "        page_headings = get_hdgs(page.read_text())\n",
    "        # add each heading with its page number\n",
    "        for o in page_headings:\n",
    "            headings.append({'heading': o, 'page': i})\n",
    "    return headings"
   ]
  },
  {
   "cell_type": "code",
   "execution_count": null,
   "metadata": {},
   "outputs": [
    {
     "data": {
      "text/plain": [
       "[{'heading': '# **PPMi**', 'page': 1},\n",
       " {'heading': '# CONTENTS ', 'page': 3},\n",
       " {'heading': '# 1. Introduction ', 'page': 4},\n",
       " {'heading': '# 2. Background of the JI-HoA ', 'page': 5},\n",
       " {'heading': '### 2.1. Context and design of the JI-HoA', 'page': 5}]"
      ]
     },
     "execution_count": null,
     "metadata": {},
     "output_type": "execute_result"
    }
   ],
   "source": [
    "#| eval: false\n",
    "hdgs = get_hdgs_with_pages(pages); hdgs[:5]"
   ]
  },
  {
   "cell_type": "code",
   "execution_count": null,
   "metadata": {},
   "outputs": [
    {
     "data": {
      "text/plain": [
       "(#5) ['# **PPMi**','# CONTENTS ','# 1. Introduction ','# 2. Background of the JI-HoA ','### 2.1. Context and design of the JI-HoA']"
      ]
     },
     "execution_count": null,
     "metadata": {},
     "output_type": "execute_result"
    }
   ],
   "source": [
    "#| eval: false\n",
    "toc = L([get_hdgs(p.read_text()) for p in pages]).concat(); toc[:5]"
   ]
  },
  {
   "cell_type": "code",
   "execution_count": null,
   "metadata": {},
   "outputs": [],
   "source": [
    "#| exports\n",
    "def format_hdgs(\n",
    "    hdgs: list[dict] # List of headings with page numbers\n",
    "    ):\n",
    "    \"Format headings with page numbers\"\n",
    "    formatted = []\n",
    "    page_positions = {}\n",
    "    \n",
    "    for item in hdgs:\n",
    "        page = item['page']\n",
    "        page_positions[page] = page_positions.get(page, 0) + 1\n",
    "        formatted.append(f\"{item['heading']} (Page {page}, Position {page_positions[page]})\")\n",
    "    \n",
    "    return \"\\n\".join(formatted)"
   ]
  },
  {
   "cell_type": "code",
   "execution_count": null,
   "metadata": {},
   "outputs": [
    {
     "name": "stdout",
     "output_type": "stream",
     "text": [
      "# **PPMi** (Page 1, Position 1)\n",
      "# CONTENTS  (Page 3, Position 1)\n",
      "# 1. Introduction  (Page 4, Position 1)\n",
      "# 2. Background of the JI-HoA  (Page 5, Position 1)\n",
      "### 2.1. Context and design of the JI-HoA (Page 5, Position 2)\n",
      "# 2.2. External factors affecting the implementation of the JI  (Page 7, Position 1)\n",
      "# 3. Methodology  (Page 8, Position 1)\n",
      "# 4. Findings  (Page 10, Position 1)\n",
      "### 4.1. Relevance (Page 10, Position 2)\n",
      "### 4.1.1. Relevance of programme activities for migrants, returnees, and comm\n"
     ]
    }
   ],
   "source": [
    "#| eval: false\n",
    "print(format_hdgs(hdgs)[:500])"
   ]
  },
  {
   "cell_type": "code",
   "execution_count": null,
   "metadata": {},
   "outputs": [],
   "source": [
    "#| exports\n",
    "lm = dspy.LM(cfg.lm, api_key=cfg.api_key)\n",
    "dspy.configure(lm=lm)\n",
    "dspy.settings.configure(track_usage=cfg.track_usage)"
   ]
  },
  {
   "cell_type": "code",
   "execution_count": null,
   "metadata": {},
   "outputs": [],
   "source": [
    "#| exports\n",
    "class HeadingResult(BaseModel):\n",
    "    old: str\n",
    "    page: int\n",
    "    position: int\n",
    "    new: str\n",
    "    changed: bool  # True if correction was made"
   ]
  },
  {
   "cell_type": "code",
   "execution_count": null,
   "metadata": {},
   "outputs": [],
   "source": [
    "#| exports\n",
    "class FixHeadingHierarchy(dspy.Signature):\n",
    "    \"\"\"Fix markdown heading hierarchy by analyzing the document's numbering patterns:\n",
    "    - Detect numbering scheme (1.2.3, I.A.1, A.1.a, etc.)\n",
    "    - Apply hierarchy levels based on nesting depth: # for top level, ## for second level, ### for third level\n",
    "    - When a section number is lower than a previously seen number at the same level (e.g., seeing '2.' after '3.1'), it's likely a subsection or list item, not a main section\n",
    "    - Unnumbered headings: keep as-is if at document boundaries, treat as subsections if within numbered sections\n",
    "    - Return ALL headings with their corrected form\n",
    "    \"\"\"\n",
    "    \n",
    "    headings_with_pages: str = dspy.InputField(desc=\"List of headings with page numbers\")\n",
    "    results: List[HeadingResult] = dspy.OutputField(desc=\"All headings with corrections and change status\")"
   ]
  },
  {
   "cell_type": "code",
   "execution_count": null,
   "metadata": {},
   "outputs": [],
   "source": [
    "#| exports\n",
    "def fix_md(\n",
    "    hdgs: list[dict], # List of headings with page numbers\n",
    "    track_usage: bool=cfg.track_usage,\n",
    "    ):\n",
    "    \"Fix markdown headings\"\n",
    "    lm = dspy.LM(cfg.lm, api_key=cfg.api_key, max_tokens=cfg.max_tokens)\n",
    "    dspy.configure(lm=lm)\n",
    "    dspy.settings.configure(track_usage=track_usage)\n",
    "\n",
    "    inp = format_hdgs(hdgs)\n",
    "    fix_hdgs = dspy.ChainOfThought(FixHeadingHierarchy)\n",
    "    result = fix_hdgs(headings_with_pages=inp)\n",
    "    return result"
   ]
  },
  {
   "cell_type": "code",
   "execution_count": null,
   "metadata": {},
   "outputs": [
    {
     "name": "stdout",
     "output_type": "stream",
     "text": [
      "Result: Prediction(\n",
      "    reasoning='The provided headings have inconsistent hierarchy. I will correct the hierarchy based on the numbering and content. The numbering scheme appears to be a mix of numbered sections (1, 2, 3, etc.) and subsections (2.1, 2.1.1, etc.). I will use this numbering to determine the appropriate heading level. Unnumbered headings within numbered sections will be treated as subsections. Headings that appear to be list items (e.g., \"3. Increase attention...\") will be treated as top-level headings.',\n",
      "    results=[HeadingResult(old='# **PPMi**', page=1, position=1, new='# **PPMi**', changed=False), HeadingResult(old='# CONTENTS', page=3, position=1, new='# CONTENTS', changed=False), HeadingResult(old='# 1. Introduction', page=4, position=1, new='# 1. Introduction', changed=False), HeadingResult(old='# 2. Background of the JI-HoA', page=5, position=1, new='# 2. Background of the JI-HoA', changed=False), HeadingResult(old='### 2.1. Context and design of the JI-HoA', page=5, position=2, new='## 2.1. Context and design of the JI-HoA', changed=False), HeadingResult(old='# 2.2. External factors affecting the implementation of the JI', page=7, position=1, new='## 2.2. External factors affecting the implementation of the JI', changed=True), HeadingResult(old='# 3. Methodology', page=8, position=1, new='# 3. Methodology', changed=False), HeadingResult(old='# 4. Findings', page=10, position=1, new='# 4. Findings', changed=False), HeadingResult(old='### 4.1. Relevance', page=10, position=2, new='## 4.1. Relevance', changed=False), HeadingResult(old='### 4.1.1. Relevance of programme activities for migrants, returnees, and communities', page=10, position=3, new='### 4.1.1. Relevance of programme activities for migrants, returnees, and communities', changed=False), HeadingResult(old='## Overall performance score for relevance: $3.9 / 5$ <br> Robustness score for the evidence: $4.5 / 5$', page=10, position=4, new='#### Overall performance score for relevance: $3.9 / 5$ <br> Robustness score for the evidence: $4.5 / 5$', changed=True), HeadingResult(old='### 4.1.1.1 Needs of migrants', page=10, position=5, new='#### 4.1.1.1 Needs of migrants', changed=False), HeadingResult(old='### 4.1.1.2 Needs of returnees', page=10, position=6, new='#### 4.1.1.2 Needs of returnees', changed=False), HeadingResult(old='# 4.1.1.3 Needs of community members', page=12, position=1, new='#### 4.1.1.3 Needs of community members', changed=True), HeadingResult(old=\"### 4.1.2. Programme's relevance to the needs of stakeholders\", page=12, position=2, new=\"### 4.1.2. Programme's relevance to the needs of stakeholders\", changed=False), HeadingResult(old='### 4.1.2.1 Needs of governments', page=12, position=3, new='#### 4.1.2.1 Needs of governments', changed=False), HeadingResult(old='# 4.1.2.2 Needs of other stakeholders', page=13, position=1, new='#### 4.1.2.2 Needs of other stakeholders', changed=True), HeadingResult(old='### 4.2. Coherence', page=13, position=2, new='## 4.2. Coherence', changed=False), HeadingResult(old=\"# 4.2.1. The JI-HoA's alignment with the objectives and standards of IOM, and objectives of the EU\", page=14, position=1, new=\"### 4.2.1. The JI-HoA's alignment with the objectives and standards of IOM, and objectives of the EU\", changed=True), HeadingResult(old='### 4.2.2. Alignment with other initiatives', page=14, position=2, new='### 4.2.2. Alignment with other initiatives', changed=False), HeadingResult(old='# 4.3. Effectiveness', page=16, position=1, new='## 4.3. Effectiveness', changed=True), HeadingResult(old='### 4.3.1. Specific Objective 1: Partner countries and relevant stakeholders developed or strengthened evidence-based return and reintegration procedures', page=16, position=2, new='### 4.3.1. Specific Objective 1: Partner countries and relevant stakeholders developed or strengthened evidence-based return and reintegration procedures', changed=False), HeadingResult(old='### 4.3.1.1 Achievement of outputs and results', page=16, position=3, new='#### 4.3.1.1 Achievement of outputs and results', changed=False), HeadingResult(old='## Data availability', page=16, position=4, new='##### Data availability', changed=True), HeadingResult(old='# Capacity of stakeholders', page=17, position=1, new='##### Capacity of stakeholders', changed=True), HeadingResult(old='### 4.3.1.2 Achievement of Specific Objective 1', page=17, position=2, new='#### 4.3.1.2 Achievement of Specific Objective 1', changed=False), HeadingResult(old='# 4.3.2. Specific Objective 2: Safe, humane, dignified voluntary return processes are enhanced along main migration routes', page=18, position=1, new='### 4.3.2. Specific Objective 2: Safe, humane, dignified voluntary return processes are enhanced along main migration routes', changed=True), HeadingResult(old='# 4.3.2.1 Achievement of outputs and results', page=19, position=1, new='#### 4.3.2.1 Achievement of outputs and results', changed=True), HeadingResult(old='## Outreach and awareness', page=19, position=2, new='##### Outreach and awareness', changed=True), HeadingResult(old='## Assistance to stranded migrants', page=19, position=3, new='##### Assistance to stranded migrants', changed=True), HeadingResult(old='# 4.3.2.2 Achievement of the Objective', page=20, position=1, new='#### 4.3.2.2 Achievement of the Objective', changed=True), HeadingResult(old='### 4.3.3. Specific Objective 3: Returnees are sustainably integrated in host communities, and host communities are better able to create living standards that address drivers of migration.', page=20, position=2, new='### 4.3.3. Specific Objective 3: Returnees are sustainably integrated in host communities, and host communities are better able to create living standards that address drivers of migration.', changed=False), HeadingResult(old='### 4.3.3.1 Achievement of outputs and results', page=20, position=3, new='#### 4.3.3.1 Achievement of outputs and results', changed=False), HeadingResult(old='## Individual and community-based reintegration', page=20, position=4, new='##### Individual and community-based reintegration', changed=True), HeadingResult(old='# M\\\\&E systems', page=21, position=1, new='##### M\\\\&E systems', changed=True), HeadingResult(old='# 4.3.3.2 Achievement of Specific Objective 3', page=22, position=1, new='#### 4.3.3.2 Achievement of Specific Objective 3', changed=True), HeadingResult(old='## Overall achievement of reintegration', page=22, position=2, new='##### Overall achievement of reintegration', changed=True), HeadingResult(old='# Sustainability of reintegration', page=23, position=1, new='##### Sustainability of reintegration', changed=True), HeadingResult(old='### 4.3.4. Functioning of the Integrated Approach', page=23, position=2, new='### 4.3.4. Functioning of the Integrated Approach', changed=False), HeadingResult(old='# 4.4. Efficiency', page=24, position=1, new='## 4.4. Efficiency', changed=True), HeadingResult(old='### 4.4.3. Did the programme receive sufficient resources to achieve its objectives?', page=24, position=2, new='### 4.4.3. Did the programme receive sufficient resources to achieve its objectives?', changed=False), HeadingResult(old='# 4.4.2. Cost-effectiveness and efficiency of the programme', page=25, position=1, new='### 4.4.2. Cost-effectiveness and efficiency of the programme', changed=True), HeadingResult(old='# 4.5. Sustainability', page=26, position=1, new='## 4.5. Sustainability', changed=True), HeadingResult(old='## Overall performance score for sustainability: $2.5 / 5$ <br> Robustness score for the evidence: $4 / 5$', page=26, position=2, new='#### Overall performance score for sustainability: $2.5 / 5$ <br> Robustness score for the evidence: $4 / 5$', changed=True), HeadingResult(old='# 5. Conclusions and Recommendations', page=27, position=1, new='# 5. Conclusions and Recommendations', changed=False), HeadingResult(old='### 5.1. Conclusions', page=27, position=2, new='## 5.1. Conclusions', changed=False), HeadingResult(old='# 5.2. Recommendations', page=28, position=1, new='## 5.2. Recommendations', changed=True), HeadingResult(old='# 3. Increase attention on building partnerships with service providers who can function without (significant) funding channelled by IOM.', page=29, position=1, new='# 3. Increase attention on building partnerships with service providers who can function without (significant) funding channelled by IOM.', changed=True), HeadingResult(old='# 5. Explore opportunities to extend the scope of support provided to returnees, with a focus on longer-term integration.', page=30, position=1, new='# 5. Explore opportunities to extend the scope of support provided to returnees, with a focus on longer-term integration.', changed=True)]\n",
      ")\n",
      "Usage: {}\n"
     ]
    }
   ],
   "source": [
    "#| eval: false\n",
    "result = fix_md(hdgs, track_usage=True)\n",
    "print(\"Result:\", result)\n",
    "print(\"Usage:\", result.get_lm_usage())"
   ]
  },
  {
   "cell_type": "code",
   "execution_count": null,
   "metadata": {},
   "outputs": [],
   "source": [
    "#| exports\n",
    "def group_corrections_by_page(\n",
    "    results: list[HeadingResult], # List of headings with corrections and change status\n",
    "    ):\n",
    "    \"Group HeadingResult corrections by page number into dict with page nums as keys\"\n",
    "    page_groups = {}\n",
    "    for result in results:\n",
    "        page = result.page\n",
    "        if page not in page_groups:\n",
    "            page_groups[page] = []\n",
    "        page_groups[page].append(result)\n",
    "    return page_groups"
   ]
  },
  {
   "cell_type": "code",
   "execution_count": null,
   "metadata": {},
   "outputs": [
    {
     "data": {
      "text/plain": [
       "{1: [HeadingResult(old='# **PPMi**', page=1, position=1, new='# **PPMi**', changed=False)],\n",
       " 3: [HeadingResult(old='# CONTENTS', page=3, position=1, new='# CONTENTS', changed=False)],\n",
       " 4: [HeadingResult(old='# 1. Introduction', page=4, position=1, new='# 1. Introduction', changed=False)],\n",
       " 5: [HeadingResult(old='# 2. Background of the JI-HoA', page=5, position=1, new='# 2. Background of the JI-HoA', changed=False),\n",
       "  HeadingResult(old='### 2.1. Context and design of the JI-HoA', page=5, position=2, new='## 2.1. Context and design of the JI-HoA', changed=False)],\n",
       " 7: [HeadingResult(old='# 2.2. External factors affecting the implementation of the JI', page=7, position=1, new='## 2.2. External factors affecting the implementation of the JI', changed=True)],\n",
       " 8: [HeadingResult(old='# 3. Methodology', page=8, position=1, new='# 3. Methodology', changed=False)],\n",
       " 10: [HeadingResult(old='# 4. Findings', page=10, position=1, new='# 4. Findings', changed=False),\n",
       "  HeadingResult(old='### 4.1. Relevance', page=10, position=2, new='## 4.1. Relevance', changed=False),\n",
       "  HeadingResult(old='### 4.1.1. Relevance of programme activities for migrants, returnees, and communities', page=10, position=3, new='### 4.1.1. Relevance of programme activities for migrants, returnees, and communities', changed=False),\n",
       "  HeadingResult(old='## Overall performance score for relevance: $3.9 / 5$ <br> Robustness score for the evidence: $4.5 / 5$', page=10, position=4, new='#### Overall performance score for relevance: $3.9 / 5$ <br> Robustness score for the evidence: $4.5 / 5$', changed=True),\n",
       "  HeadingResult(old='### 4.1.1.1 Needs of migrants', page=10, position=5, new='#### 4.1.1.1 Needs of migrants', changed=False),\n",
       "  HeadingResult(old='### 4.1.1.2 Needs of returnees', page=10, position=6, new='#### 4.1.1.2 Needs of returnees', changed=False)],\n",
       " 12: [HeadingResult(old='# 4.1.1.3 Needs of community members', page=12, position=1, new='#### 4.1.1.3 Needs of community members', changed=True),\n",
       "  HeadingResult(old=\"### 4.1.2. Programme's relevance to the needs of stakeholders\", page=12, position=2, new=\"### 4.1.2. Programme's relevance to the needs of stakeholders\", changed=False),\n",
       "  HeadingResult(old='### 4.1.2.1 Needs of governments', page=12, position=3, new='#### 4.1.2.1 Needs of governments', changed=False)],\n",
       " 13: [HeadingResult(old='# 4.1.2.2 Needs of other stakeholders', page=13, position=1, new='#### 4.1.2.2 Needs of other stakeholders', changed=True),\n",
       "  HeadingResult(old='### 4.2. Coherence', page=13, position=2, new='## 4.2. Coherence', changed=False)],\n",
       " 14: [HeadingResult(old=\"# 4.2.1. The JI-HoA's alignment with the objectives and standards of IOM, and objectives of the EU\", page=14, position=1, new=\"### 4.2.1. The JI-HoA's alignment with the objectives and standards of IOM, and objectives of the EU\", changed=True),\n",
       "  HeadingResult(old='### 4.2.2. Alignment with other initiatives', page=14, position=2, new='### 4.2.2. Alignment with other initiatives', changed=False)],\n",
       " 16: [HeadingResult(old='# 4.3. Effectiveness', page=16, position=1, new='## 4.3. Effectiveness', changed=True),\n",
       "  HeadingResult(old='### 4.3.1. Specific Objective 1: Partner countries and relevant stakeholders developed or strengthened evidence-based return and reintegration procedures', page=16, position=2, new='### 4.3.1. Specific Objective 1: Partner countries and relevant stakeholders developed or strengthened evidence-based return and reintegration procedures', changed=False),\n",
       "  HeadingResult(old='### 4.3.1.1 Achievement of outputs and results', page=16, position=3, new='#### 4.3.1.1 Achievement of outputs and results', changed=False),\n",
       "  HeadingResult(old='## Data availability', page=16, position=4, new='##### Data availability', changed=True)],\n",
       " 17: [HeadingResult(old='# Capacity of stakeholders', page=17, position=1, new='##### Capacity of stakeholders', changed=True),\n",
       "  HeadingResult(old='### 4.3.1.2 Achievement of Specific Objective 1', page=17, position=2, new='#### 4.3.1.2 Achievement of Specific Objective 1', changed=False)],\n",
       " 18: [HeadingResult(old='# 4.3.2. Specific Objective 2: Safe, humane, dignified voluntary return processes are enhanced along main migration routes', page=18, position=1, new='### 4.3.2. Specific Objective 2: Safe, humane, dignified voluntary return processes are enhanced along main migration routes', changed=True)],\n",
       " 19: [HeadingResult(old='# 4.3.2.1 Achievement of outputs and results', page=19, position=1, new='#### 4.3.2.1 Achievement of outputs and results', changed=True),\n",
       "  HeadingResult(old='## Outreach and awareness', page=19, position=2, new='##### Outreach and awareness', changed=True),\n",
       "  HeadingResult(old='## Assistance to stranded migrants', page=19, position=3, new='##### Assistance to stranded migrants', changed=True)],\n",
       " 20: [HeadingResult(old='# 4.3.2.2 Achievement of the Objective', page=20, position=1, new='#### 4.3.2.2 Achievement of the Objective', changed=True),\n",
       "  HeadingResult(old='### 4.3.3. Specific Objective 3: Returnees are sustainably integrated in host communities, and host communities are better able to create living standards that address drivers of migration.', page=20, position=2, new='### 4.3.3. Specific Objective 3: Returnees are sustainably integrated in host communities, and host communities are better able to create living standards that address drivers of migration.', changed=False),\n",
       "  HeadingResult(old='### 4.3.3.1 Achievement of outputs and results', page=20, position=3, new='#### 4.3.3.1 Achievement of outputs and results', changed=False),\n",
       "  HeadingResult(old='## Individual and community-based reintegration', page=20, position=4, new='##### Individual and community-based reintegration', changed=True)],\n",
       " 21: [HeadingResult(old='# M\\\\&E systems', page=21, position=1, new='##### M\\\\&E systems', changed=True)],\n",
       " 22: [HeadingResult(old='# 4.3.3.2 Achievement of Specific Objective 3', page=22, position=1, new='#### 4.3.3.2 Achievement of Specific Objective 3', changed=True),\n",
       "  HeadingResult(old='## Overall achievement of reintegration', page=22, position=2, new='##### Overall achievement of reintegration', changed=True)],\n",
       " 23: [HeadingResult(old='# Sustainability of reintegration', page=23, position=1, new='##### Sustainability of reintegration', changed=True),\n",
       "  HeadingResult(old='### 4.3.4. Functioning of the Integrated Approach', page=23, position=2, new='### 4.3.4. Functioning of the Integrated Approach', changed=False)],\n",
       " 24: [HeadingResult(old='# 4.4. Efficiency', page=24, position=1, new='## 4.4. Efficiency', changed=True),\n",
       "  HeadingResult(old='### 4.4.3. Did the programme receive sufficient resources to achieve its objectives?', page=24, position=2, new='### 4.4.3. Did the programme receive sufficient resources to achieve its objectives?', changed=False)],\n",
       " 25: [HeadingResult(old='# 4.4.2. Cost-effectiveness and efficiency of the programme', page=25, position=1, new='### 4.4.2. Cost-effectiveness and efficiency of the programme', changed=True)],\n",
       " 26: [HeadingResult(old='# 4.5. Sustainability', page=26, position=1, new='## 4.5. Sustainability', changed=True),\n",
       "  HeadingResult(old='## Overall performance score for sustainability: $2.5 / 5$ <br> Robustness score for the evidence: $4 / 5$', page=26, position=2, new='#### Overall performance score for sustainability: $2.5 / 5$ <br> Robustness score for the evidence: $4 / 5$', changed=True)],\n",
       " 27: [HeadingResult(old='# 5. Conclusions and Recommendations', page=27, position=1, new='# 5. Conclusions and Recommendations', changed=False),\n",
       "  HeadingResult(old='### 5.1. Conclusions', page=27, position=2, new='## 5.1. Conclusions', changed=False)],\n",
       " 28: [HeadingResult(old='# 5.2. Recommendations', page=28, position=1, new='## 5.2. Recommendations', changed=True)],\n",
       " 29: [HeadingResult(old='# 3. Increase attention on building partnerships with service providers who can function without (significant) funding channelled by IOM.', page=29, position=1, new='# 3. Increase attention on building partnerships with service providers who can function without (significant) funding channelled by IOM.', changed=True)],\n",
       " 30: [HeadingResult(old='# 5. Explore opportunities to extend the scope of support provided to returnees, with a focus on longer-term integration.', page=30, position=1, new='# 5. Explore opportunities to extend the scope of support provided to returnees, with a focus on longer-term integration.', changed=True)]}"
      ]
     },
     "execution_count": null,
     "metadata": {},
     "output_type": "execute_result"
    }
   ],
   "source": [
    "#| eval: false\n",
    "group_corrections_by_page(result.results)"
   ]
  },
  {
   "cell_type": "code",
   "execution_count": null,
   "metadata": {},
   "outputs": [],
   "source": [
    "#| exports\n",
    "def apply_corrections_to_page(\n",
    "    page_nb, # Page number\n",
    "    corrections, # List of corrections\n",
    "    pages_list, # List of pages\n",
    "    suffix=cfg.fixed_suffix, # Suffix for the new file\n",
    "    ):\n",
    "    \"Apply corrections to a page by replacing original headings with corrected versions and page numbers\"\n",
    "    page_file = pages_list[page_nb - 1]\n",
    "    lines = page_file.read_text().splitlines()\n",
    "    corrections_copy = corrections.copy()\n",
    "    \n",
    "    for i, line in enumerate(lines):\n",
    "        for correction in corrections_copy:\n",
    "            if line.strip() == correction.old.strip():\n",
    "                lines[i] = f\"{correction.new} .... page {page_nb}\"\n",
    "                corrections_copy.remove(correction)\n",
    "                break\n",
    "            \n",
    "    new_file = page_file.with_stem(f\"{page_file.stem}{suffix}\")\n",
    "    new_file.write_text('\\n'.join(lines))"
   ]
  },
  {
   "cell_type": "code",
   "execution_count": null,
   "metadata": {},
   "outputs": [],
   "source": [
    "#| eval: false\n",
    "apply_corrections_to_page(5, result.results, pages)"
   ]
  },
  {
   "cell_type": "code",
   "execution_count": null,
   "metadata": {},
   "outputs": [],
   "source": [
    "#| exports\n",
    "def apply_all_corrections(\n",
    "    results, # List of headings with corrections and change status\n",
    "    pages_list, # List of pages\n",
    "    ):\n",
    "    \"Apply all corrections to the pages\"\n",
    "    grouped = group_corrections_by_page(results)\n",
    "    for page_nb, corrections in grouped.items(): \n",
    "        apply_corrections_to_page(page_nb, corrections, pages_list)"
   ]
  },
  {
   "cell_type": "code",
   "execution_count": null,
   "metadata": {},
   "outputs": [],
   "source": [
    "#| eval: false\n",
    "apply_all_corrections(result.results, pages)"
   ]
  },
  {
   "cell_type": "code",
   "execution_count": null,
   "metadata": {},
   "outputs": [],
   "source": [
    "#| exports\n",
    "def fix_doc_hdgs(\n",
    "    src_dir, # Path to the folder containing the document\n",
    "    force=False, # Whether to overwrite the existing files\n",
    "    ):\n",
    "    \"Process the document directory\"\n",
    "    folder = Path(src_dir)\n",
    "    fixed_files = list(folder.glob(f\"*{cfg.fixed_suffix}.md\"))\n",
    "    if fixed_files and not force:\n",
    "        print(f\"Found {len(fixed_files)} {cfg.fixed_suffix} files. Use force=True to overwrite.\")\n",
    "        return\n",
    "    if fixed_files and force: [f.delete() for f in fixed_files]\n",
    "    pages = folder.ls(file_exts=\".md\").sorted(key=lambda p: int(p.stem.split('_')[1]))\n",
    "    result = fix_md(get_hdgs_with_pages(pages))\n",
    "    apply_all_corrections(result.results, pages)"
   ]
  },
  {
   "cell_type": "code",
   "execution_count": null,
   "metadata": {},
   "outputs": [
    {
     "name": "stdout",
     "output_type": "stream",
     "text": [
      "../_data/md_library/49d2fba781b6a7c0d94577479636ee6f/abridged_evaluation_report_final_olta_ndoja_pdf\n"
     ]
    }
   ],
   "source": [
    "#| eval: false\n",
    "print(doc)\n",
    "fix_doc_hdgs(doc, force=True)"
   ]
  },
  {
   "cell_type": "markdown",
   "metadata": {},
   "source": [
    "## Enrich with figures description"
   ]
  },
  {
   "cell_type": "code",
   "execution_count": null,
   "metadata": {},
   "outputs": [],
   "source": []
  }
 ],
 "metadata": {
  "kernelspec": {
   "display_name": "python3",
   "language": "python",
   "name": "python3"
  }
 },
 "nbformat": 4,
 "nbformat_minor": 2
}
