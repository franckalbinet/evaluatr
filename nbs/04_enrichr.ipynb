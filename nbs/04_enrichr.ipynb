{
 "cells": [
  {
   "cell_type": "markdown",
   "metadata": {},
   "source": [
    "# Enrichr\n",
    "\n",
    "> Fix, clean markdown headings and enrich it with figures description, ..."
   ]
  },
  {
   "cell_type": "markdown",
   "metadata": {},
   "source": [
    "This module aims to fix and enrich markdown headings from OCR'd PDF files by:\n",
    "\n",
    "1. Fixing heading hierarchy that was corrupted during OCR\n",
    "2. Adding page numbers to headings for better navigation\n",
    "3. Enriching figure references with descriptive text and creating a table of figures"
   ]
  },
  {
   "cell_type": "code",
   "execution_count": null,
   "metadata": {},
   "outputs": [],
   "source": [
    "#| default_exp enrichr"
   ]
  },
  {
   "cell_type": "code",
   "execution_count": null,
   "metadata": {},
   "outputs": [],
   "source": [
    "#| export\n",
    "from pathlib import Path\n",
    "import os\n",
    "import re\n",
    "import json\n",
    "import shutil\n",
    "import time\n",
    "from functools import partial\n",
    "from tqdm import tqdm\n",
    "from dotenv import load_dotenv\n",
    "from fastcore.all import *\n",
    "import dspy\n",
    "from pydantic import BaseModel\n",
    "from typing import List\n",
    "from litellm import completion\n",
    "import base64\n",
    "from rich import print"
   ]
  },
  {
   "cell_type": "code",
   "execution_count": null,
   "metadata": {},
   "outputs": [],
   "source": [
    "#| export\n",
    "load_dotenv()\n",
    "GEMINI_API_KEY = os.getenv('GEMINI_API_KEY')"
   ]
  },
  {
   "cell_type": "code",
   "execution_count": null,
   "metadata": {},
   "outputs": [],
   "source": [
    "#| exports\n",
    "cfg = AttrDict({\n",
    "    'enhanced_dir': 'enhanced',\n",
    "    'enriched_dir': 'enriched',\n",
    "    'lm': 'gemini/gemini-2.0-flash-exp',\n",
    "    'api_key': GEMINI_API_KEY,\n",
    "    'max_tokens': 8192,\n",
    "    'track_usage': False,\n",
    "    'img_dir': 'img'\n",
    "})"
   ]
  },
  {
   "cell_type": "code",
   "execution_count": null,
   "metadata": {},
   "outputs": [],
   "source": [
    "#| export\n",
    "src_dir = Path(\"../_data/md_library/49d2fba781b6a7c0d94577479636ee6f\")"
   ]
  },
  {
   "cell_type": "markdown",
   "metadata": {},
   "source": [
    "## Fixing Markdown Headings"
   ]
  },
  {
   "cell_type": "code",
   "execution_count": null,
   "metadata": {},
   "outputs": [
    {
     "data": {
      "text/plain": [
       "(#142) [Path('../_data/md_library/49d2fba781b6a7c0d94577479636ee6f/final_evaluation_report_final_olta_ndoja_pdf/page_1.md'),Path('../_data/md_library/49d2fba781b6a7c0d94577479636ee6f/final_evaluation_report_final_olta_ndoja_pdf/page_2.md'),Path('../_data/md_library/49d2fba781b6a7c0d94577479636ee6f/final_evaluation_report_final_olta_ndoja_pdf/page_3.md'),Path('../_data/md_library/49d2fba781b6a7c0d94577479636ee6f/final_evaluation_report_final_olta_ndoja_pdf/page_4.md'),Path('../_data/md_library/49d2fba781b6a7c0d94577479636ee6f/final_evaluation_report_final_olta_ndoja_pdf/page_5.md'),Path('../_data/md_library/49d2fba781b6a7c0d94577479636ee6f/final_evaluation_report_final_olta_ndoja_pdf/page_6.md'),Path('../_data/md_library/49d2fba781b6a7c0d94577479636ee6f/final_evaluation_report_final_olta_ndoja_pdf/page_7.md'),Path('../_data/md_library/49d2fba781b6a7c0d94577479636ee6f/final_evaluation_report_final_olta_ndoja_pdf/page_8.md'),Path('../_data/md_library/49d2fba781b6a7c0d94577479636ee6f/final_evaluation_report_final_olta_ndoja_pdf/page_9.md'),Path('../_data/md_library/49d2fba781b6a7c0d94577479636ee6f/final_evaluation_report_final_olta_ndoja_pdf/page_10.md'),Path('../_data/md_library/49d2fba781b6a7c0d94577479636ee6f/final_evaluation_report_final_olta_ndoja_pdf/page_11.md'),Path('../_data/md_library/49d2fba781b6a7c0d94577479636ee6f/final_evaluation_report_final_olta_ndoja_pdf/page_12.md'),Path('../_data/md_library/49d2fba781b6a7c0d94577479636ee6f/final_evaluation_report_final_olta_ndoja_pdf/page_13.md'),Path('../_data/md_library/49d2fba781b6a7c0d94577479636ee6f/final_evaluation_report_final_olta_ndoja_pdf/page_14.md'),Path('../_data/md_library/49d2fba781b6a7c0d94577479636ee6f/final_evaluation_report_final_olta_ndoja_pdf/page_15.md'),Path('../_data/md_library/49d2fba781b6a7c0d94577479636ee6f/final_evaluation_report_final_olta_ndoja_pdf/page_16.md'),Path('../_data/md_library/49d2fba781b6a7c0d94577479636ee6f/final_evaluation_report_final_olta_ndoja_pdf/page_17.md'),Path('../_data/md_library/49d2fba781b6a7c0d94577479636ee6f/final_evaluation_report_final_olta_ndoja_pdf/page_18.md'),Path('../_data/md_library/49d2fba781b6a7c0d94577479636ee6f/final_evaluation_report_final_olta_ndoja_pdf/page_19.md'),Path('../_data/md_library/49d2fba781b6a7c0d94577479636ee6f/final_evaluation_report_final_olta_ndoja_pdf/page_20.md')...]"
      ]
     },
     "execution_count": null,
     "metadata": {},
     "output_type": "execute_result"
    }
   ],
   "source": [
    "#| eval: false\n",
    "# doc = src_dir / 'abridged_evaluation_report_final_olta_ndoja_pdf'\n",
    "doc = src_dir / 'final_evaluation_report_final_olta_ndoja_pdf'\n",
    "pages = doc.ls(file_exts=\".md\").sorted(key=lambda p: int(p.stem.split('_')[1])); pages"
   ]
  },
  {
   "cell_type": "code",
   "execution_count": null,
   "metadata": {},
   "outputs": [],
   "source": [
    "#| exports\n",
    "def setup_enhanced_dir(\n",
    "    src_dir, # Source directory path\n",
    "    enhanced_dir_name=cfg.enhanced_dir # Name of enhanced subdirectory\n",
    "    ):\n",
    "    \"Create enhanced directory and copy all markdown files to it\"\n",
    "    src_path = Path(src_dir)\n",
    "    enhanced_path = src_path / enhanced_dir_name\n",
    "    enhanced_path.mkdir(exist_ok=True)\n",
    "    for f in src_path.ls(file_exts=\".md\"): shutil.copy(f, enhanced_path)\n",
    "    return enhanced_path"
   ]
  },
  {
   "cell_type": "markdown",
   "metadata": {},
   "source": [
    "For instance:"
   ]
  },
  {
   "cell_type": "code",
   "execution_count": null,
   "metadata": {},
   "outputs": [
    {
     "data": {
      "text/plain": [
       "Path('../_data/md_library/49d2fba781b6a7c0d94577479636ee6f/final_evaluation_report_final_olta_ndoja_pdf/enhanced')"
      ]
     },
     "execution_count": null,
     "metadata": {},
     "output_type": "execute_result"
    }
   ],
   "source": [
    "#| eval: false\n",
    "setup_enhanced_dir(doc, 'enhanced')"
   ]
  },
  {
   "cell_type": "code",
   "execution_count": null,
   "metadata": {},
   "outputs": [],
   "source": [
    "#| exports\n",
    "def get_hdgs(md_txt): return re.findall(r'^#+.*$', md_txt, re.MULTILINE)"
   ]
  },
  {
   "cell_type": "code",
   "execution_count": null,
   "metadata": {},
   "outputs": [],
   "source": [
    "#| exports\n",
    "def get_hdgs_with_pages(\n",
    "    pages: list[Path] # List of pages\n",
    "    ):\n",
    "    \"Get headings and the page number they are on\"\n",
    "    headings = []\n",
    "    for i, page in enumerate(pages, 1):  # page numbers start at 1\n",
    "        page_headings = get_hdgs(page.read_text())\n",
    "        # add each heading with its page number\n",
    "        for o in page_headings:\n",
    "            headings.append({'heading': o, 'page': i})\n",
    "    return headings"
   ]
  },
  {
   "cell_type": "code",
   "execution_count": null,
   "metadata": {},
   "outputs": [
    {
     "data": {
      "text/plain": [
       "[{'heading': '# **PPMi**', 'page': 1},\n",
       " {'heading': '# LIST OF FIGURES ', 'page': 5},\n",
       " {'heading': '# Abbreviations and terminology ', 'page': 6},\n",
       " {'heading': '# Key terminology ', 'page': 8},\n",
       " {'heading': '# Executive summary ', 'page': 10}]"
      ]
     },
     "execution_count": null,
     "metadata": {},
     "output_type": "execute_result"
    }
   ],
   "source": [
    "#| eval: false\n",
    "hdgs = get_hdgs_with_pages(pages); hdgs[:5]"
   ]
  },
  {
   "cell_type": "code",
   "execution_count": null,
   "metadata": {},
   "outputs": [
    {
     "data": {
      "text/plain": [
       "(#5) ['# **PPMi**','# LIST OF FIGURES ','# Abbreviations and terminology ','# Key terminology ','# Executive summary ']"
      ]
     },
     "execution_count": null,
     "metadata": {},
     "output_type": "execute_result"
    }
   ],
   "source": [
    "#| eval: false\n",
    "toc = L([get_hdgs(p.read_text()) for p in pages]).concat(); toc[:5]"
   ]
  },
  {
   "cell_type": "code",
   "execution_count": null,
   "metadata": {},
   "outputs": [],
   "source": [
    "#| exports\n",
    "def format_hdgs(\n",
    "    hdgs: list[dict] # List of headings with page numbers\n",
    "    ):\n",
    "    \"Format headings with page numbers\"\n",
    "    formatted = []\n",
    "    page_positions = {}\n",
    "    \n",
    "    for item in hdgs:\n",
    "        page = item['page']\n",
    "        page_positions[page] = page_positions.get(page, 0) + 1\n",
    "        formatted.append(f\"{item['heading']} (Page {page}, Position {page_positions[page]})\")\n",
    "    \n",
    "    return \"\\n\".join(formatted)"
   ]
  },
  {
   "cell_type": "code",
   "execution_count": null,
   "metadata": {},
   "outputs": [
    {
     "data": {
      "text/html": [
       "<pre style=\"white-space:pre;overflow-x:auto;line-height:normal;font-family:Menlo,'DejaVu Sans Mono',consolas,'Courier New',monospace\"># **PPMi** <span style=\"font-weight: bold\">(</span>Page <span style=\"color: #008080; text-decoration-color: #008080; font-weight: bold\">1</span>, Position <span style=\"color: #008080; text-decoration-color: #008080; font-weight: bold\">1</span><span style=\"font-weight: bold\">)</span>\n",
       "# LIST OF FIGURES  <span style=\"font-weight: bold\">(</span>Page <span style=\"color: #008080; text-decoration-color: #008080; font-weight: bold\">5</span>, Position <span style=\"color: #008080; text-decoration-color: #008080; font-weight: bold\">1</span><span style=\"font-weight: bold\">)</span>\n",
       "# Abbreviations and terminology  <span style=\"font-weight: bold\">(</span>Page <span style=\"color: #008080; text-decoration-color: #008080; font-weight: bold\">6</span>, Position <span style=\"color: #008080; text-decoration-color: #008080; font-weight: bold\">1</span><span style=\"font-weight: bold\">)</span>\n",
       "# Key terminology  <span style=\"font-weight: bold\">(</span>Page <span style=\"color: #008080; text-decoration-color: #008080; font-weight: bold\">8</span>, Position <span style=\"color: #008080; text-decoration-color: #008080; font-weight: bold\">1</span><span style=\"font-weight: bold\">)</span>\n",
       "# Executive summary  <span style=\"font-weight: bold\">(</span>Page <span style=\"color: #008080; text-decoration-color: #008080; font-weight: bold\">10</span>, Position <span style=\"color: #008080; text-decoration-color: #008080; font-weight: bold\">1</span><span style=\"font-weight: bold\">)</span>\n",
       "## Background <span style=\"font-weight: bold\">(</span>Page <span style=\"color: #008080; text-decoration-color: #008080; font-weight: bold\">10</span>, Position <span style=\"color: #008080; text-decoration-color: #008080; font-weight: bold\">2</span><span style=\"font-weight: bold\">)</span>\n",
       "# Methodology  <span style=\"font-weight: bold\">(</span>Page <span style=\"color: #008080; text-decoration-color: #008080; font-weight: bold\">11</span>, Position <span style=\"color: #008080; text-decoration-color: #008080; font-weight: bold\">1</span><span style=\"font-weight: bold\">)</span>\n",
       "# Findings  <span style=\"font-weight: bold\">(</span>Page <span style=\"color: #008080; text-decoration-color: #008080; font-weight: bold\">12</span>, Position <span style=\"color: #008080; text-decoration-color: #008080; font-weight: bold\">1</span><span style=\"font-weight: bold\">)</span>\n",
       "## Relevance <span style=\"font-weight: bold\">(</span>Page <span style=\"color: #008080; text-decoration-color: #008080; font-weight: bold\">12</span>, Position <span style=\"color: #008080; text-decoration-color: #008080; font-weight: bold\">2</span><span style=\"font-weight: bold\">)</span>\n",
       "# Coherence  <span style=\"font-weight: bold\">(</span>Page <span style=\"color: #008080; text-decoration-color: #008080; font-weight: bold\">13</span>, Position <span style=\"color: #008080; text-decoration-color: #008080; font-weight: bold\">1</span><span style=\"font-weight: bold\">)</span>\n",
       "## $<span style=\"color: #008080; text-decoration-color: #008080; font-weight: bold\">4.3</span> <span style=\"color: #800080; text-decoration-color: #800080\">/</span> <span style=\"color: #008080; text-decoration-color: #008080; font-weight: bold\">5</span>$ <span style=\"font-weight: bold\">(</span>Page <span style=\"color: #008080; text-decoration-color: #008080; font-weight: bold\">13</span>, Position <span style=\"color: #008080; text-decoration-color: #008080; font-weight: bold\">2</span><span style=\"font-weight: bold\">)</span>\n",
       "# Effectiveness  <span style=\"font-weight: bold\">(</span>Page <span style=\"color: #008080; text-decoration-color: #008080; font-weight: bold\">14</span>, Position <span style=\"color: #008080; text-decoration-color: #008080; font-weight: bold\">1</span><span style=\"font-weight: bold\">)</span>\n",
       "## Specific Outcome <span style=\"color: #008080; text-decoration-color: #008080; font-weight: bold\">1</span>: <span style=\"font-weight: bold\">(</span>Page <span style=\"color: #008080; text-decoration-color: #008080; font-weight: bold\">14</span>, Positio\n",
       "</pre>\n"
      ],
      "text/plain": [
       "# **PPMi** \u001b[1m(\u001b[0mPage \u001b[1;36m1\u001b[0m, Position \u001b[1;36m1\u001b[0m\u001b[1m)\u001b[0m\n",
       "# LIST OF FIGURES  \u001b[1m(\u001b[0mPage \u001b[1;36m5\u001b[0m, Position \u001b[1;36m1\u001b[0m\u001b[1m)\u001b[0m\n",
       "# Abbreviations and terminology  \u001b[1m(\u001b[0mPage \u001b[1;36m6\u001b[0m, Position \u001b[1;36m1\u001b[0m\u001b[1m)\u001b[0m\n",
       "# Key terminology  \u001b[1m(\u001b[0mPage \u001b[1;36m8\u001b[0m, Position \u001b[1;36m1\u001b[0m\u001b[1m)\u001b[0m\n",
       "# Executive summary  \u001b[1m(\u001b[0mPage \u001b[1;36m10\u001b[0m, Position \u001b[1;36m1\u001b[0m\u001b[1m)\u001b[0m\n",
       "## Background \u001b[1m(\u001b[0mPage \u001b[1;36m10\u001b[0m, Position \u001b[1;36m2\u001b[0m\u001b[1m)\u001b[0m\n",
       "# Methodology  \u001b[1m(\u001b[0mPage \u001b[1;36m11\u001b[0m, Position \u001b[1;36m1\u001b[0m\u001b[1m)\u001b[0m\n",
       "# Findings  \u001b[1m(\u001b[0mPage \u001b[1;36m12\u001b[0m, Position \u001b[1;36m1\u001b[0m\u001b[1m)\u001b[0m\n",
       "## Relevance \u001b[1m(\u001b[0mPage \u001b[1;36m12\u001b[0m, Position \u001b[1;36m2\u001b[0m\u001b[1m)\u001b[0m\n",
       "# Coherence  \u001b[1m(\u001b[0mPage \u001b[1;36m13\u001b[0m, Position \u001b[1;36m1\u001b[0m\u001b[1m)\u001b[0m\n",
       "## $\u001b[1;36m4.3\u001b[0m \u001b[35m/\u001b[0m \u001b[1;36m5\u001b[0m$ \u001b[1m(\u001b[0mPage \u001b[1;36m13\u001b[0m, Position \u001b[1;36m2\u001b[0m\u001b[1m)\u001b[0m\n",
       "# Effectiveness  \u001b[1m(\u001b[0mPage \u001b[1;36m14\u001b[0m, Position \u001b[1;36m1\u001b[0m\u001b[1m)\u001b[0m\n",
       "## Specific Outcome \u001b[1;36m1\u001b[0m: \u001b[1m(\u001b[0mPage \u001b[1;36m14\u001b[0m, Positio\n"
      ]
     },
     "metadata": {},
     "output_type": "display_data"
    }
   ],
   "source": [
    "#| eval: false\n",
    "print(format_hdgs(hdgs)[:500])"
   ]
  },
  {
   "cell_type": "code",
   "execution_count": null,
   "metadata": {},
   "outputs": [],
   "source": [
    "#| exports\n",
    "lm = dspy.LM(cfg.lm, api_key=cfg.api_key)\n",
    "dspy.configure(lm=lm)\n",
    "dspy.settings.configure(track_usage=cfg.track_usage)"
   ]
  },
  {
   "cell_type": "code",
   "execution_count": null,
   "metadata": {},
   "outputs": [],
   "source": [
    "#| exports\n",
    "class HeadingResult(BaseModel):\n",
    "    old: str\n",
    "    page: int\n",
    "    position: int\n",
    "    new: str\n",
    "    changed: bool  # True if correction was made"
   ]
  },
  {
   "cell_type": "code",
   "execution_count": null,
   "metadata": {},
   "outputs": [],
   "source": [
    "#| exports\n",
    "class FixHeadingHierarchy(dspy.Signature):\n",
    "    \"\"\"Fix markdown heading hierarchy by analyzing the document's numbering patterns:\n",
    "    - Detect numbering scheme (1.2.3, I.A.1, A.1.a, etc.)\n",
    "    - Apply hierarchy levels based on nesting depth: # for top level, ## for second level, ### for third level\n",
    "    - When a section number is lower than a previously seen number at the same level (e.g., seeing '2.' after '3.1'), it's likely a subsection or list item, not a main section\n",
    "    - Unnumbered headings: keep as-is if at document boundaries, treat as subsections if within numbered sections\n",
    "    - Return ALL headings with their corrected form\n",
    "    \"\"\"\n",
    "    \n",
    "    headings_with_pages: str = dspy.InputField(desc=\"List of headings with page numbers\")\n",
    "    results: List[HeadingResult] = dspy.OutputField(desc=\"All headings with corrections and change status\")"
   ]
  },
  {
   "cell_type": "code",
   "execution_count": null,
   "metadata": {},
   "outputs": [],
   "source": [
    "#| exports\n",
    "def fix_md(\n",
    "    hdgs: list[dict], # List of headings with page numbers\n",
    "    track_usage: bool=cfg.track_usage,\n",
    "    ):\n",
    "    \"Fix markdown headings\"\n",
    "    lm = dspy.LM(cfg.lm, api_key=cfg.api_key, max_tokens=cfg.max_tokens)\n",
    "    dspy.configure(lm=lm)\n",
    "    dspy.settings.configure(track_usage=track_usage)\n",
    "\n",
    "    inp = format_hdgs(hdgs)\n",
    "    fix_hdgs = dspy.ChainOfThought(FixHeadingHierarchy)\n",
    "    result = fix_hdgs(headings_with_pages=inp)\n",
    "    return result"
   ]
  },
  {
   "cell_type": "code",
   "execution_count": null,
   "metadata": {},
   "outputs": [
    {
     "data": {
      "text/html": [
       "<pre style=\"white-space:pre;overflow-x:auto;line-height:normal;font-family:Menlo,'DejaVu Sans Mono',consolas,'Courier New',monospace\">Result: <span style=\"color: #800080; text-decoration-color: #800080; font-weight: bold\">Prediction</span><span style=\"font-weight: bold\">(</span>\n",
       "    <span style=\"color: #808000; text-decoration-color: #808000\">reasoning</span>=<span style=\"color: #008000; text-decoration-color: #008000\">'The document uses a combination of numbered and unnumbered headings. The numbered headings follow a </span>\n",
       "<span style=\"color: #008000; text-decoration-color: #008000\">hierarchical structure (e.g., 2, 2.1, 2.1.1). I will use this numbering to determine the appropriate heading level.</span>\n",
       "<span style=\"color: #008000; text-decoration-color: #008000\">Unnumbered headings will be assigned a level based on their context within the numbered headings. Headings like </span>\n",
       "<span style=\"color: #008000; text-decoration-color: #008000\">\"LIST OF FIGURES\", \"Abbreviations and terminology\", \"Key terminology\", and \"Executive summary\" at the beginning </span>\n",
       "<span style=\"color: #008000; text-decoration-color: #008000\">will be treated as top-level headings. \"Part\" headings will also be top-level headings.'</span>,\n",
       "    <span style=\"color: #808000; text-decoration-color: #808000\">results</span>=<span style=\"font-weight: bold\">[</span><span style=\"color: #800080; text-decoration-color: #800080; font-weight: bold\">HeadingResult</span><span style=\"font-weight: bold\">(</span><span style=\"color: #808000; text-decoration-color: #808000\">old</span>=<span style=\"color: #008000; text-decoration-color: #008000\">'# **PPMi**'</span>, <span style=\"color: #808000; text-decoration-color: #808000\">page</span>=<span style=\"color: #008080; text-decoration-color: #008080; font-weight: bold\">1</span>, <span style=\"color: #808000; text-decoration-color: #808000\">position</span>=<span style=\"color: #008080; text-decoration-color: #008080; font-weight: bold\">1</span>, <span style=\"color: #808000; text-decoration-color: #808000\">new</span>=<span style=\"color: #008000; text-decoration-color: #008000\">'# **PPMi**'</span>, <span style=\"color: #808000; text-decoration-color: #808000\">changed</span>=<span style=\"color: #ff0000; text-decoration-color: #ff0000; font-style: italic\">False</span><span style=\"font-weight: bold\">)</span>, \n",
       "<span style=\"color: #800080; text-decoration-color: #800080; font-weight: bold\">HeadingResult</span><span style=\"font-weight: bold\">(</span><span style=\"color: #808000; text-decoration-color: #808000\">old</span>=<span style=\"color: #008000; text-decoration-color: #008000\">'# LIST OF FIGURES'</span>, <span style=\"color: #808000; text-decoration-color: #808000\">page</span>=<span style=\"color: #008080; text-decoration-color: #008080; font-weight: bold\">5</span>, <span style=\"color: #808000; text-decoration-color: #808000\">position</span>=<span style=\"color: #008080; text-decoration-color: #008080; font-weight: bold\">1</span>, <span style=\"color: #808000; text-decoration-color: #808000\">new</span>=<span style=\"color: #008000; text-decoration-color: #008000\">'# LIST OF FIGURES'</span>, <span style=\"color: #808000; text-decoration-color: #808000\">changed</span>=<span style=\"color: #ff0000; text-decoration-color: #ff0000; font-style: italic\">False</span><span style=\"font-weight: bold\">)</span>, \n",
       "<span style=\"color: #800080; text-decoration-color: #800080; font-weight: bold\">HeadingResult</span><span style=\"font-weight: bold\">(</span><span style=\"color: #808000; text-decoration-color: #808000\">old</span>=<span style=\"color: #008000; text-decoration-color: #008000\">'# Abbreviations and terminology'</span>, <span style=\"color: #808000; text-decoration-color: #808000\">page</span>=<span style=\"color: #008080; text-decoration-color: #008080; font-weight: bold\">6</span>, <span style=\"color: #808000; text-decoration-color: #808000\">position</span>=<span style=\"color: #008080; text-decoration-color: #008080; font-weight: bold\">1</span>, <span style=\"color: #808000; text-decoration-color: #808000\">new</span>=<span style=\"color: #008000; text-decoration-color: #008000\">'# Abbreviations and terminology'</span>, \n",
       "<span style=\"color: #808000; text-decoration-color: #808000\">changed</span>=<span style=\"color: #ff0000; text-decoration-color: #ff0000; font-style: italic\">False</span><span style=\"font-weight: bold\">)</span>, <span style=\"color: #800080; text-decoration-color: #800080; font-weight: bold\">HeadingResult</span><span style=\"font-weight: bold\">(</span><span style=\"color: #808000; text-decoration-color: #808000\">old</span>=<span style=\"color: #008000; text-decoration-color: #008000\">'# Key terminology'</span>, <span style=\"color: #808000; text-decoration-color: #808000\">page</span>=<span style=\"color: #008080; text-decoration-color: #008080; font-weight: bold\">8</span>, <span style=\"color: #808000; text-decoration-color: #808000\">position</span>=<span style=\"color: #008080; text-decoration-color: #008080; font-weight: bold\">1</span>, <span style=\"color: #808000; text-decoration-color: #808000\">new</span>=<span style=\"color: #008000; text-decoration-color: #008000\">'# Key terminology'</span>, <span style=\"color: #808000; text-decoration-color: #808000\">changed</span>=<span style=\"color: #ff0000; text-decoration-color: #ff0000; font-style: italic\">False</span><span style=\"font-weight: bold\">)</span>,\n",
       "<span style=\"color: #800080; text-decoration-color: #800080; font-weight: bold\">HeadingResult</span><span style=\"font-weight: bold\">(</span><span style=\"color: #808000; text-decoration-color: #808000\">old</span>=<span style=\"color: #008000; text-decoration-color: #008000\">'# Executive summary'</span>, <span style=\"color: #808000; text-decoration-color: #808000\">page</span>=<span style=\"color: #008080; text-decoration-color: #008080; font-weight: bold\">10</span>, <span style=\"color: #808000; text-decoration-color: #808000\">position</span>=<span style=\"color: #008080; text-decoration-color: #008080; font-weight: bold\">1</span>, <span style=\"color: #808000; text-decoration-color: #808000\">new</span>=<span style=\"color: #008000; text-decoration-color: #008000\">'# Executive summary'</span>, <span style=\"color: #808000; text-decoration-color: #808000\">changed</span>=<span style=\"color: #ff0000; text-decoration-color: #ff0000; font-style: italic\">False</span><span style=\"font-weight: bold\">)</span>, \n",
       "<span style=\"color: #800080; text-decoration-color: #800080; font-weight: bold\">HeadingResult</span><span style=\"font-weight: bold\">(</span><span style=\"color: #808000; text-decoration-color: #808000\">old</span>=<span style=\"color: #008000; text-decoration-color: #008000\">'## Background'</span>, <span style=\"color: #808000; text-decoration-color: #808000\">page</span>=<span style=\"color: #008080; text-decoration-color: #008080; font-weight: bold\">10</span>, <span style=\"color: #808000; text-decoration-color: #808000\">position</span>=<span style=\"color: #008080; text-decoration-color: #008080; font-weight: bold\">2</span>, <span style=\"color: #808000; text-decoration-color: #808000\">new</span>=<span style=\"color: #008000; text-decoration-color: #008000\">'## Background'</span>, <span style=\"color: #808000; text-decoration-color: #808000\">changed</span>=<span style=\"color: #ff0000; text-decoration-color: #ff0000; font-style: italic\">False</span><span style=\"font-weight: bold\">)</span>, <span style=\"color: #800080; text-decoration-color: #800080; font-weight: bold\">HeadingResult</span><span style=\"font-weight: bold\">(</span><span style=\"color: #808000; text-decoration-color: #808000\">old</span>=<span style=\"color: #008000; text-decoration-color: #008000\">'# </span>\n",
       "<span style=\"color: #008000; text-decoration-color: #008000\">Methodology'</span>, <span style=\"color: #808000; text-decoration-color: #808000\">page</span>=<span style=\"color: #008080; text-decoration-color: #008080; font-weight: bold\">11</span>, <span style=\"color: #808000; text-decoration-color: #808000\">position</span>=<span style=\"color: #008080; text-decoration-color: #008080; font-weight: bold\">1</span>, <span style=\"color: #808000; text-decoration-color: #808000\">new</span>=<span style=\"color: #008000; text-decoration-color: #008000\">'# Methodology'</span>, <span style=\"color: #808000; text-decoration-color: #808000\">changed</span>=<span style=\"color: #ff0000; text-decoration-color: #ff0000; font-style: italic\">False</span><span style=\"font-weight: bold\">)</span>, <span style=\"color: #800080; text-decoration-color: #800080; font-weight: bold\">HeadingResult</span><span style=\"font-weight: bold\">(</span><span style=\"color: #808000; text-decoration-color: #808000\">old</span>=<span style=\"color: #008000; text-decoration-color: #008000\">'# Findings'</span>, <span style=\"color: #808000; text-decoration-color: #808000\">page</span>=<span style=\"color: #008080; text-decoration-color: #008080; font-weight: bold\">12</span>, \n",
       "<span style=\"color: #808000; text-decoration-color: #808000\">position</span>=<span style=\"color: #008080; text-decoration-color: #008080; font-weight: bold\">1</span>, <span style=\"color: #808000; text-decoration-color: #808000\">new</span>=<span style=\"color: #008000; text-decoration-color: #008000\">'# Findings'</span>, <span style=\"color: #808000; text-decoration-color: #808000\">changed</span>=<span style=\"color: #ff0000; text-decoration-color: #ff0000; font-style: italic\">False</span><span style=\"font-weight: bold\">)</span>, <span style=\"color: #800080; text-decoration-color: #800080; font-weight: bold\">HeadingResult</span><span style=\"font-weight: bold\">(</span><span style=\"color: #808000; text-decoration-color: #808000\">old</span>=<span style=\"color: #008000; text-decoration-color: #008000\">'## Relevance'</span>, <span style=\"color: #808000; text-decoration-color: #808000\">page</span>=<span style=\"color: #008080; text-decoration-color: #008080; font-weight: bold\">12</span>, <span style=\"color: #808000; text-decoration-color: #808000\">position</span>=<span style=\"color: #008080; text-decoration-color: #008080; font-weight: bold\">2</span>, <span style=\"color: #808000; text-decoration-color: #808000\">new</span>=<span style=\"color: #008000; text-decoration-color: #008000\">'## </span>\n",
       "<span style=\"color: #008000; text-decoration-color: #008000\">Relevance'</span>, <span style=\"color: #808000; text-decoration-color: #808000\">changed</span>=<span style=\"color: #ff0000; text-decoration-color: #ff0000; font-style: italic\">False</span><span style=\"font-weight: bold\">)</span>, <span style=\"color: #800080; text-decoration-color: #800080; font-weight: bold\">HeadingResult</span><span style=\"font-weight: bold\">(</span><span style=\"color: #808000; text-decoration-color: #808000\">old</span>=<span style=\"color: #008000; text-decoration-color: #008000\">'# Coherence'</span>, <span style=\"color: #808000; text-decoration-color: #808000\">page</span>=<span style=\"color: #008080; text-decoration-color: #008080; font-weight: bold\">13</span>, <span style=\"color: #808000; text-decoration-color: #808000\">position</span>=<span style=\"color: #008080; text-decoration-color: #008080; font-weight: bold\">1</span>, <span style=\"color: #808000; text-decoration-color: #808000\">new</span>=<span style=\"color: #008000; text-decoration-color: #008000\">'# Coherence'</span>, \n",
       "<span style=\"color: #808000; text-decoration-color: #808000\">changed</span>=<span style=\"color: #ff0000; text-decoration-color: #ff0000; font-style: italic\">False</span><span style=\"font-weight: bold\">)</span>, <span style=\"color: #800080; text-decoration-color: #800080; font-weight: bold\">HeadingResult</span><span style=\"font-weight: bold\">(</span><span style=\"color: #808000; text-decoration-color: #808000\">old</span>=<span style=\"color: #008000; text-decoration-color: #008000\">'## $4.3 / 5$'</span>, <span style=\"color: #808000; text-decoration-color: #808000\">page</span>=<span style=\"color: #008080; text-decoration-color: #008080; font-weight: bold\">13</span>, <span style=\"color: #808000; text-decoration-color: #808000\">position</span>=<span style=\"color: #008080; text-decoration-color: #008080; font-weight: bold\">2</span>, <span style=\"color: #808000; text-decoration-color: #808000\">new</span>=<span style=\"color: #008000; text-decoration-color: #008000\">'## $4.3 / 5$'</span>, <span style=\"color: #808000; text-decoration-color: #808000\">changed</span>=<span style=\"color: #00ff00; text-decoration-color: #00ff00; font-style: italic\">True</span><span style=\"font-weight: bold\">)</span>, \n",
       "<span style=\"color: #800080; text-decoration-color: #800080; font-weight: bold\">HeadingResult</span><span style=\"font-weight: bold\">(</span><span style=\"color: #808000; text-decoration-color: #808000\">old</span>=<span style=\"color: #008000; text-decoration-color: #008000\">'# Effectiveness'</span>, <span style=\"color: #808000; text-decoration-color: #808000\">page</span>=<span style=\"color: #008080; text-decoration-color: #008080; font-weight: bold\">14</span>, <span style=\"color: #808000; text-decoration-color: #808000\">position</span>=<span style=\"color: #008080; text-decoration-color: #008080; font-weight: bold\">1</span>, <span style=\"color: #808000; text-decoration-color: #808000\">new</span>=<span style=\"color: #008000; text-decoration-color: #008000\">'# Effectiveness'</span>, <span style=\"color: #808000; text-decoration-color: #808000\">changed</span>=<span style=\"color: #ff0000; text-decoration-color: #ff0000; font-style: italic\">False</span><span style=\"font-weight: bold\">)</span>, \n",
       "<span style=\"color: #800080; text-decoration-color: #800080; font-weight: bold\">HeadingResult</span><span style=\"font-weight: bold\">(</span><span style=\"color: #808000; text-decoration-color: #808000\">old</span>=<span style=\"color: #008000; text-decoration-color: #008000\">'## Specific Outcome 1:'</span>, <span style=\"color: #808000; text-decoration-color: #808000\">page</span>=<span style=\"color: #008080; text-decoration-color: #008080; font-weight: bold\">14</span>, <span style=\"color: #808000; text-decoration-color: #808000\">position</span>=<span style=\"color: #008080; text-decoration-color: #008080; font-weight: bold\">2</span>, <span style=\"color: #808000; text-decoration-color: #808000\">new</span>=<span style=\"color: #008000; text-decoration-color: #008000\">'## Specific Outcome 1:'</span>, <span style=\"color: #808000; text-decoration-color: #808000\">changed</span>=<span style=\"color: #ff0000; text-decoration-color: #ff0000; font-style: italic\">False</span><span style=\"font-weight: bold\">)</span>, \n",
       "<span style=\"color: #800080; text-decoration-color: #800080; font-weight: bold\">HeadingResult</span><span style=\"font-weight: bold\">(</span><span style=\"color: #808000; text-decoration-color: #808000\">old</span>=<span style=\"color: #008000; text-decoration-color: #008000\">'## Specific Outcome 2:'</span>, <span style=\"color: #808000; text-decoration-color: #808000\">page</span>=<span style=\"color: #008080; text-decoration-color: #008080; font-weight: bold\">14</span>, <span style=\"color: #808000; text-decoration-color: #808000\">position</span>=<span style=\"color: #008080; text-decoration-color: #008080; font-weight: bold\">3</span>, <span style=\"color: #808000; text-decoration-color: #808000\">new</span>=<span style=\"color: #008000; text-decoration-color: #008000\">'## Specific Outcome 2:'</span>, <span style=\"color: #808000; text-decoration-color: #808000\">changed</span>=<span style=\"color: #ff0000; text-decoration-color: #ff0000; font-style: italic\">False</span><span style=\"font-weight: bold\">)</span>, \n",
       "<span style=\"color: #800080; text-decoration-color: #800080; font-weight: bold\">HeadingResult</span><span style=\"font-weight: bold\">(</span><span style=\"color: #808000; text-decoration-color: #808000\">old</span>=<span style=\"color: #008000; text-decoration-color: #008000\">'# Specific Outcome 3:'</span>, <span style=\"color: #808000; text-decoration-color: #808000\">page</span>=<span style=\"color: #008080; text-decoration-color: #008080; font-weight: bold\">15</span>, <span style=\"color: #808000; text-decoration-color: #808000\">position</span>=<span style=\"color: #008080; text-decoration-color: #008080; font-weight: bold\">1</span>, <span style=\"color: #808000; text-decoration-color: #808000\">new</span>=<span style=\"color: #008000; text-decoration-color: #008000\">'# Specific Outcome 3:'</span>, <span style=\"color: #808000; text-decoration-color: #808000\">changed</span>=<span style=\"color: #ff0000; text-decoration-color: #ff0000; font-style: italic\">False</span><span style=\"font-weight: bold\">)</span>, \n",
       "<span style=\"color: #800080; text-decoration-color: #800080; font-weight: bold\">HeadingResult</span><span style=\"font-weight: bold\">(</span><span style=\"color: #808000; text-decoration-color: #808000\">old</span>=<span style=\"color: #008000; text-decoration-color: #008000\">'## Efficiency'</span>, <span style=\"color: #808000; text-decoration-color: #808000\">page</span>=<span style=\"color: #008080; text-decoration-color: #008080; font-weight: bold\">15</span>, <span style=\"color: #808000; text-decoration-color: #808000\">position</span>=<span style=\"color: #008080; text-decoration-color: #008080; font-weight: bold\">2</span>, <span style=\"color: #808000; text-decoration-color: #808000\">new</span>=<span style=\"color: #008000; text-decoration-color: #008000\">'## Efficiency'</span>, <span style=\"color: #808000; text-decoration-color: #808000\">changed</span>=<span style=\"color: #ff0000; text-decoration-color: #ff0000; font-style: italic\">False</span><span style=\"font-weight: bold\">)</span>, <span style=\"color: #800080; text-decoration-color: #800080; font-weight: bold\">HeadingResult</span><span style=\"font-weight: bold\">(</span><span style=\"color: #808000; text-decoration-color: #808000\">old</span>=<span style=\"color: #008000; text-decoration-color: #008000\">'# </span>\n",
       "<span style=\"color: #008000; text-decoration-color: #008000\">Sustainability'</span>, <span style=\"color: #808000; text-decoration-color: #808000\">page</span>=<span style=\"color: #008080; text-decoration-color: #008080; font-weight: bold\">16</span>, <span style=\"color: #808000; text-decoration-color: #808000\">position</span>=<span style=\"color: #008080; text-decoration-color: #008080; font-weight: bold\">1</span>, <span style=\"color: #808000; text-decoration-color: #808000\">new</span>=<span style=\"color: #008000; text-decoration-color: #008000\">'# Sustainability'</span>, <span style=\"color: #808000; text-decoration-color: #808000\">changed</span>=<span style=\"color: #ff0000; text-decoration-color: #ff0000; font-style: italic\">False</span><span style=\"font-weight: bold\">)</span>, <span style=\"color: #800080; text-decoration-color: #800080; font-weight: bold\">HeadingResult</span><span style=\"font-weight: bold\">(</span><span style=\"color: #808000; text-decoration-color: #808000\">old</span>=<span style=\"color: #008000; text-decoration-color: #008000\">'## Conclusions and</span>\n",
       "<span style=\"color: #008000; text-decoration-color: #008000\">recommendations'</span>, <span style=\"color: #808000; text-decoration-color: #808000\">page</span>=<span style=\"color: #008080; text-decoration-color: #008080; font-weight: bold\">16</span>, <span style=\"color: #808000; text-decoration-color: #808000\">position</span>=<span style=\"color: #008080; text-decoration-color: #008080; font-weight: bold\">2</span>, <span style=\"color: #808000; text-decoration-color: #808000\">new</span>=<span style=\"color: #008000; text-decoration-color: #008000\">'## Conclusions and recommendations'</span>, <span style=\"color: #808000; text-decoration-color: #808000\">changed</span>=<span style=\"color: #ff0000; text-decoration-color: #ff0000; font-style: italic\">False</span><span style=\"font-weight: bold\">)</span>, \n",
       "<span style=\"color: #800080; text-decoration-color: #800080; font-weight: bold\">HeadingResult</span><span style=\"font-weight: bold\">(</span><span style=\"color: #808000; text-decoration-color: #808000\">old</span>=<span style=\"color: #008000; text-decoration-color: #008000\">'# 1. Introduction'</span>, <span style=\"color: #808000; text-decoration-color: #808000\">page</span>=<span style=\"color: #008080; text-decoration-color: #008080; font-weight: bold\">18</span>, <span style=\"color: #808000; text-decoration-color: #808000\">position</span>=<span style=\"color: #008080; text-decoration-color: #008080; font-weight: bold\">1</span>, <span style=\"color: #808000; text-decoration-color: #808000\">new</span>=<span style=\"color: #008000; text-decoration-color: #008000\">'# 1. Introduction'</span>, <span style=\"color: #808000; text-decoration-color: #808000\">changed</span>=<span style=\"color: #ff0000; text-decoration-color: #ff0000; font-style: italic\">False</span><span style=\"font-weight: bold\">)</span>, \n",
       "<span style=\"color: #800080; text-decoration-color: #800080; font-weight: bold\">HeadingResult</span><span style=\"font-weight: bold\">(</span><span style=\"color: #808000; text-decoration-color: #808000\">old</span>=<span style=\"color: #008000; text-decoration-color: #008000\">'# Part 1: Background and methodology'</span>, <span style=\"color: #808000; text-decoration-color: #808000\">page</span>=<span style=\"color: #008080; text-decoration-color: #008080; font-weight: bold\">19</span>, <span style=\"color: #808000; text-decoration-color: #808000\">position</span>=<span style=\"color: #008080; text-decoration-color: #008080; font-weight: bold\">1</span>, <span style=\"color: #808000; text-decoration-color: #808000\">new</span>=<span style=\"color: #008000; text-decoration-color: #008000\">'# Part 1: Background and </span>\n",
       "<span style=\"color: #008000; text-decoration-color: #008000\">methodology'</span>, <span style=\"color: #808000; text-decoration-color: #808000\">changed</span>=<span style=\"color: #ff0000; text-decoration-color: #ff0000; font-style: italic\">False</span><span style=\"font-weight: bold\">)</span>, <span style=\"color: #800080; text-decoration-color: #800080; font-weight: bold\">HeadingResult</span><span style=\"font-weight: bold\">(</span><span style=\"color: #808000; text-decoration-color: #808000\">old</span>=<span style=\"color: #008000; text-decoration-color: #008000\">'# 2. Background to the JI-HoA'</span>, <span style=\"color: #808000; text-decoration-color: #808000\">page</span>=<span style=\"color: #008080; text-decoration-color: #008080; font-weight: bold\">20</span>, <span style=\"color: #808000; text-decoration-color: #808000\">position</span>=<span style=\"color: #008080; text-decoration-color: #008080; font-weight: bold\">1</span>, <span style=\"color: #808000; text-decoration-color: #808000\">new</span>=<span style=\"color: #008000; text-decoration-color: #008000\">'# 2. </span>\n",
       "<span style=\"color: #008000; text-decoration-color: #008000\">Background to the JI-HoA'</span>, <span style=\"color: #808000; text-decoration-color: #808000\">changed</span>=<span style=\"color: #ff0000; text-decoration-color: #ff0000; font-style: italic\">False</span><span style=\"font-weight: bold\">)</span>, <span style=\"color: #800080; text-decoration-color: #800080; font-weight: bold\">HeadingResult</span><span style=\"font-weight: bold\">(</span><span style=\"color: #808000; text-decoration-color: #808000\">old</span>=<span style=\"color: #008000; text-decoration-color: #008000\">'### 2.1. Context and design of the JI-HoA'</span>, <span style=\"color: #808000; text-decoration-color: #808000\">page</span>=<span style=\"color: #008080; text-decoration-color: #008080; font-weight: bold\">20</span>, \n",
       "<span style=\"color: #808000; text-decoration-color: #808000\">position</span>=<span style=\"color: #008080; text-decoration-color: #008080; font-weight: bold\">2</span>, <span style=\"color: #808000; text-decoration-color: #808000\">new</span>=<span style=\"color: #008000; text-decoration-color: #008000\">'## 2.1. Context and design of the JI-HoA'</span>, <span style=\"color: #808000; text-decoration-color: #808000\">changed</span>=<span style=\"color: #ff0000; text-decoration-color: #ff0000; font-style: italic\">False</span><span style=\"font-weight: bold\">)</span>, <span style=\"color: #800080; text-decoration-color: #800080; font-weight: bold\">HeadingResult</span><span style=\"font-weight: bold\">(</span><span style=\"color: #808000; text-decoration-color: #808000\">old</span>=<span style=\"color: #008000; text-decoration-color: #008000\">'# 2.2. External </span>\n",
       "<span style=\"color: #008000; text-decoration-color: #008000\">factors affecting the implementation of the JI-HoA'</span>, <span style=\"color: #808000; text-decoration-color: #808000\">page</span>=<span style=\"color: #008080; text-decoration-color: #008080; font-weight: bold\">23</span>, <span style=\"color: #808000; text-decoration-color: #808000\">position</span>=<span style=\"color: #008080; text-decoration-color: #008080; font-weight: bold\">1</span>, <span style=\"color: #808000; text-decoration-color: #808000\">new</span>=<span style=\"color: #008000; text-decoration-color: #008000\">'# 2.2. External factors affecting </span>\n",
       "<span style=\"color: #008000; text-decoration-color: #008000\">the implementation of the JI-HoA'</span>, <span style=\"color: #808000; text-decoration-color: #808000\">changed</span>=<span style=\"color: #ff0000; text-decoration-color: #ff0000; font-style: italic\">False</span><span style=\"font-weight: bold\">)</span>, <span style=\"color: #800080; text-decoration-color: #800080; font-weight: bold\">HeadingResult</span><span style=\"font-weight: bold\">(</span><span style=\"color: #808000; text-decoration-color: #808000\">old</span>=<span style=\"color: #008000; text-decoration-color: #008000\">'# 3. Methodology of the evaluation'</span>, <span style=\"color: #808000; text-decoration-color: #808000\">page</span>=<span style=\"color: #008080; text-decoration-color: #008080; font-weight: bold\">26</span>,\n",
       "<span style=\"color: #808000; text-decoration-color: #808000\">position</span>=<span style=\"color: #008080; text-decoration-color: #008080; font-weight: bold\">1</span>, <span style=\"color: #808000; text-decoration-color: #808000\">new</span>=<span style=\"color: #008000; text-decoration-color: #008000\">'# 3. Methodology of the evaluation'</span>, <span style=\"color: #808000; text-decoration-color: #808000\">changed</span>=<span style=\"color: #ff0000; text-decoration-color: #ff0000; font-style: italic\">False</span><span style=\"font-weight: bold\">)</span>, <span style=\"color: #800080; text-decoration-color: #800080; font-weight: bold\">HeadingResult</span><span style=\"font-weight: bold\">(</span><span style=\"color: #808000; text-decoration-color: #808000\">old</span>=<span style=\"color: #008000; text-decoration-color: #008000\">'### 3.1. Evaluation </span>\n",
       "<span style=\"color: #008000; text-decoration-color: #008000\">framework'</span>, <span style=\"color: #808000; text-decoration-color: #808000\">page</span>=<span style=\"color: #008080; text-decoration-color: #008080; font-weight: bold\">26</span>, <span style=\"color: #808000; text-decoration-color: #808000\">position</span>=<span style=\"color: #008080; text-decoration-color: #008080; font-weight: bold\">2</span>, <span style=\"color: #808000; text-decoration-color: #808000\">new</span>=<span style=\"color: #008000; text-decoration-color: #008000\">'## 3.1. Evaluation framework'</span>, <span style=\"color: #808000; text-decoration-color: #808000\">changed</span>=<span style=\"color: #ff0000; text-decoration-color: #ff0000; font-style: italic\">False</span><span style=\"font-weight: bold\">)</span>, <span style=\"color: #800080; text-decoration-color: #800080; font-weight: bold\">HeadingResult</span><span style=\"font-weight: bold\">(</span><span style=\"color: #808000; text-decoration-color: #808000\">old</span>=<span style=\"color: #008000; text-decoration-color: #008000\">'# TABLE 2. </span>\n",
       "<span style=\"color: #008000; text-decoration-color: #008000\">INTERVENTION LOGIC'</span>, <span style=\"color: #808000; text-decoration-color: #808000\">page</span>=<span style=\"color: #008080; text-decoration-color: #008080; font-weight: bold\">27</span>, <span style=\"color: #808000; text-decoration-color: #808000\">position</span>=<span style=\"color: #008080; text-decoration-color: #008080; font-weight: bold\">1</span>, <span style=\"color: #808000; text-decoration-color: #808000\">new</span>=<span style=\"color: #008000; text-decoration-color: #008000\">'# TABLE 2. INTERVENTION LOGIC'</span>, <span style=\"color: #808000; text-decoration-color: #808000\">changed</span>=<span style=\"color: #ff0000; text-decoration-color: #ff0000; font-style: italic\">False</span><span style=\"font-weight: bold\">)</span>, <span style=\"color: #800080; text-decoration-color: #800080; font-weight: bold\">HeadingResult</span><span style=\"font-weight: bold\">(</span><span style=\"color: #808000; text-decoration-color: #808000\">old</span>=<span style=\"color: #008000; text-decoration-color: #008000\">'#</span>\n",
       "<span style=\"color: #008000; text-decoration-color: #008000\">3.2. Evaluation matrix'</span>, <span style=\"color: #808000; text-decoration-color: #808000\">page</span>=<span style=\"color: #008080; text-decoration-color: #008080; font-weight: bold\">29</span>, <span style=\"color: #808000; text-decoration-color: #808000\">position</span>=<span style=\"color: #008080; text-decoration-color: #008080; font-weight: bold\">1</span>, <span style=\"color: #808000; text-decoration-color: #808000\">new</span>=<span style=\"color: #008000; text-decoration-color: #008000\">'# 3.2. Evaluation matrix'</span>, <span style=\"color: #808000; text-decoration-color: #808000\">changed</span>=<span style=\"color: #ff0000; text-decoration-color: #ff0000; font-style: italic\">False</span><span style=\"font-weight: bold\">)</span>, \n",
       "<span style=\"color: #800080; text-decoration-color: #800080; font-weight: bold\">HeadingResult</span><span style=\"font-weight: bold\">(</span><span style=\"color: #808000; text-decoration-color: #808000\">old</span>=<span style=\"color: #008000; text-decoration-color: #008000\">'### 3.3. Data collection'</span>, <span style=\"color: #808000; text-decoration-color: #808000\">page</span>=<span style=\"color: #008080; text-decoration-color: #008080; font-weight: bold\">29</span>, <span style=\"color: #808000; text-decoration-color: #808000\">position</span>=<span style=\"color: #008080; text-decoration-color: #008080; font-weight: bold\">2</span>, <span style=\"color: #808000; text-decoration-color: #808000\">new</span>=<span style=\"color: #008000; text-decoration-color: #008000\">'## 3.3. Data collection'</span>, <span style=\"color: #808000; text-decoration-color: #808000\">changed</span>=<span style=\"color: #ff0000; text-decoration-color: #ff0000; font-style: italic\">False</span><span style=\"font-weight: bold\">)</span>, \n",
       "<span style=\"color: #800080; text-decoration-color: #800080; font-weight: bold\">HeadingResult</span><span style=\"font-weight: bold\">(</span><span style=\"color: #808000; text-decoration-color: #808000\">old</span>=<span style=\"color: #008000; text-decoration-color: #008000\">'# 3.4. Scoring system'</span>, <span style=\"color: #808000; text-decoration-color: #808000\">page</span>=<span style=\"color: #008080; text-decoration-color: #008080; font-weight: bold\">30</span>, <span style=\"color: #808000; text-decoration-color: #808000\">position</span>=<span style=\"color: #008080; text-decoration-color: #008080; font-weight: bold\">1</span>, <span style=\"color: #808000; text-decoration-color: #808000\">new</span>=<span style=\"color: #008000; text-decoration-color: #008000\">'# 3.4. Scoring system'</span>, <span style=\"color: #808000; text-decoration-color: #808000\">changed</span>=<span style=\"color: #ff0000; text-decoration-color: #ff0000; font-style: italic\">False</span><span style=\"font-weight: bold\">)</span>, \n",
       "<span style=\"color: #800080; text-decoration-color: #800080; font-weight: bold\">HeadingResult</span><span style=\"font-weight: bold\">(</span><span style=\"color: #808000; text-decoration-color: #808000\">old</span>=<span style=\"color: #008000; text-decoration-color: #008000\">'# 3.5. Limitations'</span>, <span style=\"color: #808000; text-decoration-color: #808000\">page</span>=<span style=\"color: #008080; text-decoration-color: #008080; font-weight: bold\">32</span>, <span style=\"color: #808000; text-decoration-color: #808000\">position</span>=<span style=\"color: #008080; text-decoration-color: #008080; font-weight: bold\">1</span>, <span style=\"color: #808000; text-decoration-color: #808000\">new</span>=<span style=\"color: #008000; text-decoration-color: #008000\">'# 3.5. Limitations'</span>, <span style=\"color: #808000; text-decoration-color: #808000\">changed</span>=<span style=\"color: #ff0000; text-decoration-color: #ff0000; font-style: italic\">False</span><span style=\"font-weight: bold\">)</span>, \n",
       "<span style=\"color: #800080; text-decoration-color: #800080; font-weight: bold\">HeadingResult</span><span style=\"font-weight: bold\">(</span><span style=\"color: #808000; text-decoration-color: #808000\">old</span>=<span style=\"color: #008000; text-decoration-color: #008000\">'# Part 2: Findings'</span>, <span style=\"color: #808000; text-decoration-color: #808000\">page</span>=<span style=\"color: #008080; text-decoration-color: #008080; font-weight: bold\">33</span>, <span style=\"color: #808000; text-decoration-color: #808000\">position</span>=<span style=\"color: #008080; text-decoration-color: #008080; font-weight: bold\">1</span>, <span style=\"color: #808000; text-decoration-color: #808000\">new</span>=<span style=\"color: #008000; text-decoration-color: #008000\">'# Part 2: Findings'</span>, <span style=\"color: #808000; text-decoration-color: #808000\">changed</span>=<span style=\"color: #ff0000; text-decoration-color: #ff0000; font-style: italic\">False</span><span style=\"font-weight: bold\">)</span>, \n",
       "<span style=\"color: #800080; text-decoration-color: #800080; font-weight: bold\">HeadingResult</span><span style=\"font-weight: bold\">(</span><span style=\"color: #808000; text-decoration-color: #808000\">old</span>=<span style=\"color: #008000; text-decoration-color: #008000\">'# 4. Relevance'</span>, <span style=\"color: #808000; text-decoration-color: #808000\">page</span>=<span style=\"color: #008080; text-decoration-color: #008080; font-weight: bold\">34</span>, <span style=\"color: #808000; text-decoration-color: #808000\">position</span>=<span style=\"color: #008080; text-decoration-color: #008080; font-weight: bold\">1</span>, <span style=\"color: #808000; text-decoration-color: #808000\">new</span>=<span style=\"color: #008000; text-decoration-color: #008000\">'# 4. Relevance'</span>, <span style=\"color: #808000; text-decoration-color: #808000\">changed</span>=<span style=\"color: #ff0000; text-decoration-color: #ff0000; font-style: italic\">False</span><span style=\"font-weight: bold\">)</span>, \n",
       "<span style=\"color: #800080; text-decoration-color: #800080; font-weight: bold\">HeadingResult</span><span style=\"font-weight: bold\">(</span><span style=\"color: #808000; text-decoration-color: #808000\">old</span>=<span style=\"color: #008000; text-decoration-color: #008000\">'## Overall performance score for relevance: 3.9/5.'</span>, <span style=\"color: #808000; text-decoration-color: #808000\">page</span>=<span style=\"color: #008080; text-decoration-color: #008080; font-weight: bold\">34</span>, <span style=\"color: #808000; text-decoration-color: #808000\">position</span>=<span style=\"color: #008080; text-decoration-color: #008080; font-weight: bold\">2</span>, <span style=\"color: #808000; text-decoration-color: #808000\">new</span>=<span style=\"color: #008000; text-decoration-color: #008000\">'## Overall </span>\n",
       "<span style=\"color: #008000; text-decoration-color: #008000\">performance score for relevance: 3.9/5.'</span>, <span style=\"color: #808000; text-decoration-color: #808000\">changed</span>=<span style=\"color: #ff0000; text-decoration-color: #ff0000; font-style: italic\">False</span><span style=\"font-weight: bold\">)</span>, <span style=\"color: #800080; text-decoration-color: #800080; font-weight: bold\">HeadingResult</span><span style=\"font-weight: bold\">(</span><span style=\"color: #808000; text-decoration-color: #808000\">old</span>=<span style=\"color: #008000; text-decoration-color: #008000\">'## Robustness score for the evidence: </span>\n",
       "<span style=\"color: #008000; text-decoration-color: #008000\">4.5/5.'</span>, <span style=\"color: #808000; text-decoration-color: #808000\">page</span>=<span style=\"color: #008080; text-decoration-color: #008080; font-weight: bold\">34</span>, <span style=\"color: #808000; text-decoration-color: #808000\">position</span>=<span style=\"color: #008080; text-decoration-color: #008080; font-weight: bold\">3</span>, <span style=\"color: #808000; text-decoration-color: #808000\">new</span>=<span style=\"color: #008000; text-decoration-color: #008000\">'## Robustness score for the evidence: 4.5/5.'</span>, <span style=\"color: #808000; text-decoration-color: #808000\">changed</span>=<span style=\"color: #ff0000; text-decoration-color: #ff0000; font-style: italic\">False</span><span style=\"font-weight: bold\">)</span>, \n",
       "<span style=\"color: #800080; text-decoration-color: #800080; font-weight: bold\">HeadingResult</span><span style=\"font-weight: bold\">(</span><span style=\"color: #808000; text-decoration-color: #808000\">old</span>=<span style=\"color: #008000; text-decoration-color: #008000\">'### 4.1. Relevance of programme activities for migrants, returnees, and communities'</span>, <span style=\"color: #808000; text-decoration-color: #808000\">page</span>=<span style=\"color: #008080; text-decoration-color: #008080; font-weight: bold\">34</span>, \n",
       "<span style=\"color: #808000; text-decoration-color: #808000\">position</span>=<span style=\"color: #008080; text-decoration-color: #008080; font-weight: bold\">4</span>, <span style=\"color: #808000; text-decoration-color: #808000\">new</span>=<span style=\"color: #008000; text-decoration-color: #008000\">'### 4.1. Relevance of programme activities for migrants, returnees, and communities'</span>, \n",
       "<span style=\"color: #808000; text-decoration-color: #808000\">changed</span>=<span style=\"color: #ff0000; text-decoration-color: #ff0000; font-style: italic\">False</span><span style=\"font-weight: bold\">)</span>, <span style=\"color: #800080; text-decoration-color: #800080; font-weight: bold\">HeadingResult</span><span style=\"font-weight: bold\">(</span><span style=\"color: #808000; text-decoration-color: #808000\">old</span>=<span style=\"color: #008000; text-decoration-color: #008000\">'### 4.1.1. Needs of migrants'</span>, <span style=\"color: #808000; text-decoration-color: #808000\">page</span>=<span style=\"color: #008080; text-decoration-color: #008080; font-weight: bold\">34</span>, <span style=\"color: #808000; text-decoration-color: #808000\">position</span>=<span style=\"color: #008080; text-decoration-color: #008080; font-weight: bold\">5</span>, <span style=\"color: #808000; text-decoration-color: #808000\">new</span>=<span style=\"color: #008000; text-decoration-color: #008000\">'#### 4.1.1. Needs of </span>\n",
       "<span style=\"color: #008000; text-decoration-color: #008000\">migrants'</span>, <span style=\"color: #808000; text-decoration-color: #808000\">changed</span>=<span style=\"color: #ff0000; text-decoration-color: #ff0000; font-style: italic\">False</span><span style=\"font-weight: bold\">)</span>, <span style=\"color: #800080; text-decoration-color: #800080; font-weight: bold\">HeadingResult</span><span style=\"font-weight: bold\">(</span><span style=\"color: #808000; text-decoration-color: #808000\">old</span>=<span style=\"color: #008000; text-decoration-color: #008000\">'# 4.1.2. Needs of returnees'</span>, <span style=\"color: #808000; text-decoration-color: #808000\">page</span>=<span style=\"color: #008080; text-decoration-color: #008080; font-weight: bold\">35</span>, <span style=\"color: #808000; text-decoration-color: #808000\">position</span>=<span style=\"color: #008080; text-decoration-color: #008080; font-weight: bold\">1</span>, <span style=\"color: #808000; text-decoration-color: #808000\">new</span>=<span style=\"color: #008000; text-decoration-color: #008000\">'# 4.1.2. </span>\n",
       "<span style=\"color: #008000; text-decoration-color: #008000\">Needs of returnees'</span>, <span style=\"color: #808000; text-decoration-color: #808000\">changed</span>=<span style=\"color: #ff0000; text-decoration-color: #ff0000; font-style: italic\">False</span><span style=\"font-weight: bold\">)</span>, <span style=\"color: #800080; text-decoration-color: #800080; font-weight: bold\">HeadingResult</span><span style=\"font-weight: bold\">(</span><span style=\"color: #808000; text-decoration-color: #808000\">old</span>=<span style=\"color: #008000; text-decoration-color: #008000\">'# 4.1.3. Needs of community members'</span>, <span style=\"color: #808000; text-decoration-color: #808000\">page</span>=<span style=\"color: #008080; text-decoration-color: #008080; font-weight: bold\">38</span>, <span style=\"color: #808000; text-decoration-color: #808000\">position</span>=<span style=\"color: #008080; text-decoration-color: #008080; font-weight: bold\">1</span>, \n",
       "<span style=\"color: #808000; text-decoration-color: #808000\">new</span>=<span style=\"color: #008000; text-decoration-color: #008000\">'# 4.1.3. Needs of community members'</span>, <span style=\"color: #808000; text-decoration-color: #808000\">changed</span>=<span style=\"color: #ff0000; text-decoration-color: #ff0000; font-style: italic\">False</span><span style=\"font-weight: bold\">)</span>, <span style=\"color: #800080; text-decoration-color: #800080; font-weight: bold\">HeadingResult</span><span style=\"font-weight: bold\">(</span><span style=\"color: #808000; text-decoration-color: #808000\">old</span>=<span style=\"color: #008000; text-decoration-color: #008000\">\"# 4.2. Programme's relevance to the </span>\n",
       "<span style=\"color: #008000; text-decoration-color: #008000\">needs of stakeholders\"</span>, <span style=\"color: #808000; text-decoration-color: #808000\">page</span>=<span style=\"color: #008080; text-decoration-color: #008080; font-weight: bold\">39</span>, <span style=\"color: #808000; text-decoration-color: #808000\">position</span>=<span style=\"color: #008080; text-decoration-color: #008080; font-weight: bold\">1</span>, <span style=\"color: #808000; text-decoration-color: #808000\">new</span>=<span style=\"color: #008000; text-decoration-color: #008000\">\"# 4.2. Programme's relevance to the needs of stakeholders\"</span>, \n",
       "<span style=\"color: #808000; text-decoration-color: #808000\">changed</span>=<span style=\"color: #ff0000; text-decoration-color: #ff0000; font-style: italic\">False</span><span style=\"font-weight: bold\">)</span>, <span style=\"color: #800080; text-decoration-color: #800080; font-weight: bold\">HeadingResult</span><span style=\"font-weight: bold\">(</span><span style=\"color: #808000; text-decoration-color: #808000\">old</span>=<span style=\"color: #008000; text-decoration-color: #008000\">'### 4.2.1. Needs of governments'</span>, <span style=\"color: #808000; text-decoration-color: #808000\">page</span>=<span style=\"color: #008080; text-decoration-color: #008080; font-weight: bold\">39</span>, <span style=\"color: #808000; text-decoration-color: #808000\">position</span>=<span style=\"color: #008080; text-decoration-color: #008080; font-weight: bold\">2</span>, <span style=\"color: #808000; text-decoration-color: #808000\">new</span>=<span style=\"color: #008000; text-decoration-color: #008000\">'### 4.2.1. Needs of </span>\n",
       "<span style=\"color: #008000; text-decoration-color: #008000\">governments'</span>, <span style=\"color: #808000; text-decoration-color: #808000\">changed</span>=<span style=\"color: #ff0000; text-decoration-color: #ff0000; font-style: italic\">False</span><span style=\"font-weight: bold\">)</span>, <span style=\"color: #800080; text-decoration-color: #800080; font-weight: bold\">HeadingResult</span><span style=\"font-weight: bold\">(</span><span style=\"color: #808000; text-decoration-color: #808000\">old</span>=<span style=\"color: #008000; text-decoration-color: #008000\">'# 4.2.2. Needs of other stakeholders'</span>, <span style=\"color: #808000; text-decoration-color: #808000\">page</span>=<span style=\"color: #008080; text-decoration-color: #008080; font-weight: bold\">40</span>, <span style=\"color: #808000; text-decoration-color: #808000\">position</span>=<span style=\"color: #008080; text-decoration-color: #008080; font-weight: bold\">1</span>, <span style=\"color: #808000; text-decoration-color: #808000\">new</span>=<span style=\"color: #008000; text-decoration-color: #008000\">'#</span>\n",
       "<span style=\"color: #008000; text-decoration-color: #008000\">4.2.2. Needs of other stakeholders'</span>, <span style=\"color: #808000; text-decoration-color: #808000\">changed</span>=<span style=\"color: #ff0000; text-decoration-color: #ff0000; font-style: italic\">False</span><span style=\"font-weight: bold\">)</span>, <span style=\"color: #800080; text-decoration-color: #800080; font-weight: bold\">HeadingResult</span><span style=\"font-weight: bold\">(</span><span style=\"color: #808000; text-decoration-color: #808000\">old</span>=<span style=\"color: #008000; text-decoration-color: #008000\">'# 4.3. Involvement of stakeholders in the </span>\n",
       "<span style=\"color: #008000; text-decoration-color: #008000\">design, implementation and monitoring of the programme'</span>, <span style=\"color: #808000; text-decoration-color: #808000\">page</span>=<span style=\"color: #008080; text-decoration-color: #008080; font-weight: bold\">41</span>, <span style=\"color: #808000; text-decoration-color: #808000\">position</span>=<span style=\"color: #008080; text-decoration-color: #008080; font-weight: bold\">1</span>, <span style=\"color: #808000; text-decoration-color: #808000\">new</span>=<span style=\"color: #008000; text-decoration-color: #008000\">'# 4.3. Involvement of </span>\n",
       "<span style=\"color: #008000; text-decoration-color: #008000\">stakeholders in the design, implementation and monitoring of the programme'</span>, <span style=\"color: #808000; text-decoration-color: #808000\">changed</span>=<span style=\"color: #ff0000; text-decoration-color: #ff0000; font-style: italic\">False</span><span style=\"font-weight: bold\">)</span>, <span style=\"color: #800080; text-decoration-color: #800080; font-weight: bold\">HeadingResult</span><span style=\"font-weight: bold\">(</span><span style=\"color: #808000; text-decoration-color: #808000\">old</span>=<span style=\"color: #008000; text-decoration-color: #008000\">'# </span>\n",
       "<span style=\"color: #008000; text-decoration-color: #008000\">4.4. Horizontal priorities'</span>, <span style=\"color: #808000; text-decoration-color: #808000\">page</span>=<span style=\"color: #008080; text-decoration-color: #008080; font-weight: bold\">42</span>, <span style=\"color: #808000; text-decoration-color: #808000\">position</span>=<span style=\"color: #008080; text-decoration-color: #008080; font-weight: bold\">1</span>, <span style=\"color: #808000; text-decoration-color: #808000\">new</span>=<span style=\"color: #008000; text-decoration-color: #008000\">'# 4.4. Horizontal priorities'</span>, <span style=\"color: #808000; text-decoration-color: #808000\">changed</span>=<span style=\"color: #ff0000; text-decoration-color: #ff0000; font-style: italic\">False</span><span style=\"font-weight: bold\">)</span>, \n",
       "<span style=\"color: #800080; text-decoration-color: #800080; font-weight: bold\">HeadingResult</span><span style=\"font-weight: bold\">(</span><span style=\"color: #808000; text-decoration-color: #808000\">old</span>=<span style=\"color: #008000; text-decoration-color: #008000\">'### 4.4.1. Gender equality'</span>, <span style=\"color: #808000; text-decoration-color: #808000\">page</span>=<span style=\"color: #008080; text-decoration-color: #008080; font-weight: bold\">42</span>, <span style=\"color: #808000; text-decoration-color: #808000\">position</span>=<span style=\"color: #008080; text-decoration-color: #008080; font-weight: bold\">2</span>, <span style=\"color: #808000; text-decoration-color: #808000\">new</span>=<span style=\"color: #008000; text-decoration-color: #008000\">'### 4.4.1. Gender equality'</span>, \n",
       "<span style=\"color: #808000; text-decoration-color: #808000\">changed</span>=<span style=\"color: #ff0000; text-decoration-color: #ff0000; font-style: italic\">False</span><span style=\"font-weight: bold\">)</span>, <span style=\"color: #800080; text-decoration-color: #800080; font-weight: bold\">HeadingResult</span><span style=\"font-weight: bold\">(</span><span style=\"color: #808000; text-decoration-color: #808000\">old</span>=<span style=\"color: #008000; text-decoration-color: #008000\">'# 4.4.2. Persons with disabilities'</span>, <span style=\"color: #808000; text-decoration-color: #808000\">page</span>=<span style=\"color: #008080; text-decoration-color: #008080; font-weight: bold\">43</span>, <span style=\"color: #808000; text-decoration-color: #808000\">position</span>=<span style=\"color: #008080; text-decoration-color: #008080; font-weight: bold\">1</span>, <span style=\"color: #808000; text-decoration-color: #808000\">new</span>=<span style=\"color: #008000; text-decoration-color: #008000\">'# 4.4.2. Persons </span>\n",
       "<span style=\"color: #008000; text-decoration-color: #008000\">with disabilities'</span>, <span style=\"color: #808000; text-decoration-color: #808000\">changed</span>=<span style=\"color: #ff0000; text-decoration-color: #ff0000; font-style: italic\">False</span><span style=\"font-weight: bold\">)</span>, <span style=\"color: #800080; text-decoration-color: #800080; font-weight: bold\">HeadingResult</span><span style=\"font-weight: bold\">(</span><span style=\"color: #808000; text-decoration-color: #808000\">old</span>=<span style=\"color: #008000; text-decoration-color: #008000\">'### 4.4.3. Protection'</span>, <span style=\"color: #808000; text-decoration-color: #808000\">page</span>=<span style=\"color: #008080; text-decoration-color: #008080; font-weight: bold\">43</span>, <span style=\"color: #808000; text-decoration-color: #808000\">position</span>=<span style=\"color: #008080; text-decoration-color: #008080; font-weight: bold\">2</span>, <span style=\"color: #808000; text-decoration-color: #808000\">new</span>=<span style=\"color: #008000; text-decoration-color: #008000\">'### 4.4.3.</span>\n",
       "<span style=\"color: #008000; text-decoration-color: #008000\">Protection'</span>, <span style=\"color: #808000; text-decoration-color: #808000\">changed</span>=<span style=\"color: #ff0000; text-decoration-color: #ff0000; font-style: italic\">False</span><span style=\"font-weight: bold\">)</span>, <span style=\"color: #800080; text-decoration-color: #800080; font-weight: bold\">HeadingResult</span><span style=\"font-weight: bold\">(</span><span style=\"color: #808000; text-decoration-color: #808000\">old</span>=<span style=\"color: #008000; text-decoration-color: #008000\">'# 4.4.4. Environmental sustainability'</span>, <span style=\"color: #808000; text-decoration-color: #808000\">page</span>=<span style=\"color: #008080; text-decoration-color: #008080; font-weight: bold\">44</span>, <span style=\"color: #808000; text-decoration-color: #808000\">position</span>=<span style=\"color: #008080; text-decoration-color: #008080; font-weight: bold\">1</span>, <span style=\"color: #808000; text-decoration-color: #808000\">new</span>=<span style=\"color: #008000; text-decoration-color: #008000\">'#</span>\n",
       "<span style=\"color: #008000; text-decoration-color: #008000\">4.4.4. Environmental sustainability'</span>, <span style=\"color: #808000; text-decoration-color: #808000\">changed</span>=<span style=\"color: #ff0000; text-decoration-color: #ff0000; font-style: italic\">False</span><span style=\"font-weight: bold\">)</span>, <span style=\"color: #800080; text-decoration-color: #800080; font-weight: bold\">HeadingResult</span><span style=\"font-weight: bold\">(</span><span style=\"color: #808000; text-decoration-color: #808000\">old</span>=<span style=\"color: #008000; text-decoration-color: #008000\">'# 5. Coherence'</span>, <span style=\"color: #808000; text-decoration-color: #808000\">page</span>=<span style=\"color: #008080; text-decoration-color: #008080; font-weight: bold\">46</span>, <span style=\"color: #808000; text-decoration-color: #808000\">position</span>=<span style=\"color: #008080; text-decoration-color: #008080; font-weight: bold\">1</span>, \n",
       "<span style=\"color: #808000; text-decoration-color: #808000\">new</span>=<span style=\"color: #008000; text-decoration-color: #008000\">'# 5. Coherence'</span>, <span style=\"color: #808000; text-decoration-color: #808000\">changed</span>=<span style=\"color: #ff0000; text-decoration-color: #ff0000; font-style: italic\">False</span><span style=\"font-weight: bold\">)</span>, <span style=\"color: #800080; text-decoration-color: #800080; font-weight: bold\">HeadingResult</span><span style=\"font-weight: bold\">(</span><span style=\"color: #808000; text-decoration-color: #808000\">old</span>=<span style=\"color: #008000; text-decoration-color: #008000\">'## Overall performance score for coherence: $4.3 / 5$.'</span>, \n",
       "<span style=\"color: #808000; text-decoration-color: #808000\">page</span>=<span style=\"color: #008080; text-decoration-color: #008080; font-weight: bold\">46</span>, <span style=\"color: #808000; text-decoration-color: #808000\">position</span>=<span style=\"color: #008080; text-decoration-color: #008080; font-weight: bold\">2</span>, <span style=\"color: #808000; text-decoration-color: #808000\">new</span>=<span style=\"color: #008000; text-decoration-color: #008000\">'## Overall performance score for coherence: $4.3 / 5$.'</span>, <span style=\"color: #808000; text-decoration-color: #808000\">changed</span>=<span style=\"color: #ff0000; text-decoration-color: #ff0000; font-style: italic\">False</span><span style=\"font-weight: bold\">)</span>, \n",
       "<span style=\"color: #800080; text-decoration-color: #800080; font-weight: bold\">HeadingResult</span><span style=\"font-weight: bold\">(</span><span style=\"color: #808000; text-decoration-color: #808000\">old</span>=<span style=\"color: #008000; text-decoration-color: #008000\">'## Robustness score for the evidence: $4 / 5$.'</span>, <span style=\"color: #808000; text-decoration-color: #808000\">page</span>=<span style=\"color: #008080; text-decoration-color: #008080; font-weight: bold\">46</span>, <span style=\"color: #808000; text-decoration-color: #808000\">position</span>=<span style=\"color: #008080; text-decoration-color: #008080; font-weight: bold\">3</span>, <span style=\"color: #808000; text-decoration-color: #808000\">new</span>=<span style=\"color: #008000; text-decoration-color: #008000\">'## Robustness score </span>\n",
       "<span style=\"color: #008000; text-decoration-color: #008000\">for the evidence: $4 / 5$.'</span>, <span style=\"color: #808000; text-decoration-color: #808000\">changed</span>=<span style=\"color: #ff0000; text-decoration-color: #ff0000; font-style: italic\">False</span><span style=\"font-weight: bold\">)</span>, <span style=\"color: #800080; text-decoration-color: #800080; font-weight: bold\">HeadingResult</span><span style=\"font-weight: bold\">(</span><span style=\"color: #808000; text-decoration-color: #808000\">old</span>=<span style=\"color: #008000; text-decoration-color: #008000\">\"### 5.1. The JI-HoA's alignment with the objectives</span>\n",
       "<span style=\"color: #008000; text-decoration-color: #008000\">and standards of IOM, and the objectives of the EU\"</span>, <span style=\"color: #808000; text-decoration-color: #808000\">page</span>=<span style=\"color: #008080; text-decoration-color: #008080; font-weight: bold\">46</span>, <span style=\"color: #808000; text-decoration-color: #808000\">position</span>=<span style=\"color: #008080; text-decoration-color: #008080; font-weight: bold\">4</span>, <span style=\"color: #808000; text-decoration-color: #808000\">new</span>=<span style=\"color: #008000; text-decoration-color: #008000\">\"### 5.1. The JI-HoA's alignment with</span>\n",
       "<span style=\"color: #008000; text-decoration-color: #008000\">the objectives and standards of IOM, and the objectives of the EU\"</span>, <span style=\"color: #808000; text-decoration-color: #808000\">changed</span>=<span style=\"color: #ff0000; text-decoration-color: #ff0000; font-style: italic\">False</span><span style=\"font-weight: bold\">)</span>, <span style=\"color: #800080; text-decoration-color: #800080; font-weight: bold\">HeadingResult</span><span style=\"font-weight: bold\">(</span><span style=\"color: #808000; text-decoration-color: #808000\">old</span>=<span style=\"color: #008000; text-decoration-color: #008000\">'### 5.1.1. </span>\n",
       "<span style=\"color: #008000; text-decoration-color: #008000\">Objectives of the IOM'</span>, <span style=\"color: #808000; text-decoration-color: #808000\">page</span>=<span style=\"color: #008080; text-decoration-color: #008080; font-weight: bold\">46</span>, <span style=\"color: #808000; text-decoration-color: #808000\">position</span>=<span style=\"color: #008080; text-decoration-color: #008080; font-weight: bold\">5</span>, <span style=\"color: #808000; text-decoration-color: #808000\">new</span>=<span style=\"color: #008000; text-decoration-color: #008000\">'#### 5.1.1. Objectives of the IOM'</span>, <span style=\"color: #808000; text-decoration-color: #808000\">changed</span>=<span style=\"color: #ff0000; text-decoration-color: #ff0000; font-style: italic\">False</span><span style=\"font-weight: bold\">)</span>, \n",
       "<span style=\"color: #800080; text-decoration-color: #800080; font-weight: bold\">HeadingResult</span><span style=\"font-weight: bold\">(</span><span style=\"color: #808000; text-decoration-color: #808000\">old</span>=<span style=\"color: #008000; text-decoration-color: #008000\">'# 5.1.2. Objectives of the EU'</span>, <span style=\"color: #808000; text-decoration-color: #808000\">page</span>=<span style=\"color: #008080; text-decoration-color: #008080; font-weight: bold\">48</span>, <span style=\"color: #808000; text-decoration-color: #808000\">position</span>=<span style=\"color: #008080; text-decoration-color: #008080; font-weight: bold\">1</span>, <span style=\"color: #808000; text-decoration-color: #808000\">new</span>=<span style=\"color: #008000; text-decoration-color: #008000\">'# 5.1.2. Objectives of the EU'</span>, \n",
       "<span style=\"color: #808000; text-decoration-color: #808000\">changed</span>=<span style=\"color: #ff0000; text-decoration-color: #ff0000; font-style: italic\">False</span><span style=\"font-weight: bold\">)</span>, <span style=\"color: #800080; text-decoration-color: #800080; font-weight: bold\">HeadingResult</span><span style=\"font-weight: bold\">(</span><span style=\"color: #808000; text-decoration-color: #808000\">old</span>=<span style=\"color: #008000; text-decoration-color: #008000\">'# 5.1.3. Government initiatives'</span>, <span style=\"color: #808000; text-decoration-color: #808000\">page</span>=<span style=\"color: #008080; text-decoration-color: #008080; font-weight: bold\">49</span>, <span style=\"color: #808000; text-decoration-color: #808000\">position</span>=<span style=\"color: #008080; text-decoration-color: #008080; font-weight: bold\">1</span>, <span style=\"color: #808000; text-decoration-color: #808000\">new</span>=<span style=\"color: #008000; text-decoration-color: #008000\">'# 5.1.3. Government </span>\n",
       "<span style=\"color: #008000; text-decoration-color: #008000\">initiatives'</span>, <span style=\"color: #808000; text-decoration-color: #808000\">changed</span>=<span style=\"color: #ff0000; text-decoration-color: #ff0000; font-style: italic\">False</span><span style=\"font-weight: bold\">)</span>, <span style=\"color: #800080; text-decoration-color: #800080; font-weight: bold\">HeadingResult</span><span style=\"font-weight: bold\">(</span><span style=\"color: #808000; text-decoration-color: #808000\">old</span>=<span style=\"color: #008000; text-decoration-color: #008000\">'# 5.2. Alignment with other initiatives'</span>, <span style=\"color: #808000; text-decoration-color: #808000\">page</span>=<span style=\"color: #008080; text-decoration-color: #008080; font-weight: bold\">50</span>, <span style=\"color: #808000; text-decoration-color: #808000\">position</span>=<span style=\"color: #008080; text-decoration-color: #008080; font-weight: bold\">1</span>, \n",
       "<span style=\"color: #808000; text-decoration-color: #808000\">new</span>=<span style=\"color: #008000; text-decoration-color: #008000\">'# 5.2. Alignment with other initiatives'</span>, <span style=\"color: #808000; text-decoration-color: #808000\">changed</span>=<span style=\"color: #ff0000; text-decoration-color: #ff0000; font-style: italic\">False</span><span style=\"font-weight: bold\">)</span>, <span style=\"color: #800080; text-decoration-color: #800080; font-weight: bold\">HeadingResult</span><span style=\"font-weight: bold\">(</span><span style=\"color: #808000; text-decoration-color: #808000\">old</span>=<span style=\"color: #008000; text-decoration-color: #008000\">'### 5.2.1. Initiatives of </span>\n",
       "<span style=\"color: #008000; text-decoration-color: #008000\">regional and continental institutions'</span>, <span style=\"color: #808000; text-decoration-color: #808000\">page</span>=<span style=\"color: #008080; text-decoration-color: #008080; font-weight: bold\">50</span>, <span style=\"color: #808000; text-decoration-color: #808000\">position</span>=<span style=\"color: #008080; text-decoration-color: #008080; font-weight: bold\">2</span>, <span style=\"color: #808000; text-decoration-color: #808000\">new</span>=<span style=\"color: #008000; text-decoration-color: #008000\">'### 5.2.1. Initiatives of regional and </span>\n",
       "<span style=\"color: #008000; text-decoration-color: #008000\">continental institutions'</span>, <span style=\"color: #808000; text-decoration-color: #808000\">changed</span>=<span style=\"color: #ff0000; text-decoration-color: #ff0000; font-style: italic\">False</span><span style=\"font-weight: bold\">)</span>, <span style=\"color: #800080; text-decoration-color: #800080; font-weight: bold\">HeadingResult</span><span style=\"font-weight: bold\">(</span><span style=\"color: #808000; text-decoration-color: #808000\">old</span>=<span style=\"color: #008000; text-decoration-color: #008000\">'# 5.2.2. Initiatives by other (UN) organisations'</span>, \n",
       "<span style=\"color: #808000; text-decoration-color: #808000\">page</span>=<span style=\"color: #008080; text-decoration-color: #008080; font-weight: bold\">51</span>, <span style=\"color: #808000; text-decoration-color: #808000\">position</span>=<span style=\"color: #008080; text-decoration-color: #008080; font-weight: bold\">1</span>, <span style=\"color: #808000; text-decoration-color: #808000\">new</span>=<span style=\"color: #008000; text-decoration-color: #008000\">'# 5.2.2. Initiatives by other (UN) organisations'</span>, <span style=\"color: #808000; text-decoration-color: #808000\">changed</span>=<span style=\"color: #ff0000; text-decoration-color: #ff0000; font-style: italic\">False</span><span style=\"font-weight: bold\">)</span>, <span style=\"color: #800080; text-decoration-color: #800080; font-weight: bold\">HeadingResult</span><span style=\"font-weight: bold\">(</span><span style=\"color: #808000; text-decoration-color: #808000\">old</span>=<span style=\"color: #008000; text-decoration-color: #008000\">'# </span>\n",
       "<span style=\"color: #008000; text-decoration-color: #008000\">6. Effectiveness and impact'</span>, <span style=\"color: #808000; text-decoration-color: #808000\">page</span>=<span style=\"color: #008080; text-decoration-color: #008080; font-weight: bold\">54</span>, <span style=\"color: #808000; text-decoration-color: #808000\">position</span>=<span style=\"color: #008080; text-decoration-color: #008080; font-weight: bold\">1</span>, <span style=\"color: #808000; text-decoration-color: #808000\">new</span>=<span style=\"color: #008000; text-decoration-color: #008000\">'# 6. Effectiveness and impact'</span>, <span style=\"color: #808000; text-decoration-color: #808000\">changed</span>=<span style=\"color: #ff0000; text-decoration-color: #ff0000; font-style: italic\">False</span><span style=\"font-weight: bold\">)</span>, \n",
       "<span style=\"color: #800080; text-decoration-color: #800080; font-weight: bold\">HeadingResult</span><span style=\"font-weight: bold\">(</span><span style=\"color: #808000; text-decoration-color: #808000\">old</span>=<span style=\"color: #008000; text-decoration-color: #008000\">'## Overall performance score for effectiveness: 3.8/5.'</span>, <span style=\"color: #808000; text-decoration-color: #808000\">page</span>=<span style=\"color: #008080; text-decoration-color: #008080; font-weight: bold\">54</span>, <span style=\"color: #808000; text-decoration-color: #808000\">position</span>=<span style=\"color: #008080; text-decoration-color: #008080; font-weight: bold\">2</span>, <span style=\"color: #808000; text-decoration-color: #808000\">new</span>=<span style=\"color: #008000; text-decoration-color: #008000\">'## Overall </span>\n",
       "<span style=\"color: #008000; text-decoration-color: #008000\">performance score for effectiveness: 3.8/5.'</span>, <span style=\"color: #808000; text-decoration-color: #808000\">changed</span>=<span style=\"color: #ff0000; text-decoration-color: #ff0000; font-style: italic\">False</span><span style=\"font-weight: bold\">)</span>, <span style=\"color: #800080; text-decoration-color: #800080; font-weight: bold\">HeadingResult</span><span style=\"font-weight: bold\">(</span><span style=\"color: #808000; text-decoration-color: #808000\">old</span>=<span style=\"color: #008000; text-decoration-color: #008000\">\"## Overall score on IOM's </span>\n",
       "<span style=\"color: #008000; text-decoration-color: #008000\">achievements: 3.4/5.\"</span>, <span style=\"color: #808000; text-decoration-color: #808000\">page</span>=<span style=\"color: #008080; text-decoration-color: #008080; font-weight: bold\">54</span>, <span style=\"color: #808000; text-decoration-color: #808000\">position</span>=<span style=\"color: #008080; text-decoration-color: #008080; font-weight: bold\">3</span>, <span style=\"color: #808000; text-decoration-color: #808000\">new</span>=<span style=\"color: #008000; text-decoration-color: #008000\">\"## Overall score on IOM's achievements: 3.4/5.\"</span>, <span style=\"color: #808000; text-decoration-color: #808000\">changed</span>=<span style=\"color: #ff0000; text-decoration-color: #ff0000; font-style: italic\">False</span><span style=\"font-weight: bold\">)</span>, \n",
       "<span style=\"color: #800080; text-decoration-color: #800080; font-weight: bold\">HeadingResult</span><span style=\"font-weight: bold\">(</span><span style=\"color: #808000; text-decoration-color: #808000\">old</span>=<span style=\"color: #008000; text-decoration-color: #008000\">'## Robustness score for the evidence: $4 / 5$.'</span>, <span style=\"color: #808000; text-decoration-color: #808000\">page</span>=<span style=\"color: #008080; text-decoration-color: #008080; font-weight: bold\">54</span>, <span style=\"color: #808000; text-decoration-color: #808000\">position</span>=<span style=\"color: #008080; text-decoration-color: #008080; font-weight: bold\">4</span>, <span style=\"color: #808000; text-decoration-color: #808000\">new</span>=<span style=\"color: #008000; text-decoration-color: #008000\">'## Robustness score </span>\n",
       "<span style=\"color: #008000; text-decoration-color: #008000\">for the evidence: $4 / 5$.'</span>, <span style=\"color: #808000; text-decoration-color: #808000\">changed</span>=<span style=\"color: #ff0000; text-decoration-color: #ff0000; font-style: italic\">False</span><span style=\"font-weight: bold\">)</span>, <span style=\"color: #800080; text-decoration-color: #800080; font-weight: bold\">HeadingResult</span><span style=\"font-weight: bold\">(</span><span style=\"color: #808000; text-decoration-color: #808000\">old</span>=<span style=\"color: #008000; text-decoration-color: #008000\">\"### 6.1. Design and achievement of targets for the </span>\n",
       "<span style=\"color: #008000; text-decoration-color: #008000\">programme's indicators\"</span>, <span style=\"color: #808000; text-decoration-color: #808000\">page</span>=<span style=\"color: #008080; text-decoration-color: #008080; font-weight: bold\">54</span>, <span style=\"color: #808000; text-decoration-color: #808000\">position</span>=<span style=\"color: #008080; text-decoration-color: #008080; font-weight: bold\">5</span>, <span style=\"color: #808000; text-decoration-color: #808000\">new</span>=<span style=\"color: #008000; text-decoration-color: #008000\">\"### 6.1. Design and achievement of targets for the programme's </span>\n",
       "<span style=\"color: #008000; text-decoration-color: #008000\">indicators\"</span>, <span style=\"color: #808000; text-decoration-color: #808000\">changed</span>=<span style=\"color: #ff0000; text-decoration-color: #ff0000; font-style: italic\">False</span><span style=\"font-weight: bold\">)</span>, <span style=\"color: #800080; text-decoration-color: #800080; font-weight: bold\">HeadingResult</span><span style=\"font-weight: bold\">(</span><span style=\"color: #808000; text-decoration-color: #808000\">old</span>=<span style=\"color: #008000; text-decoration-color: #008000\">'# 6.2. Specific Objective 1: partner countries and relevant </span>\n",
       "<span style=\"color: #008000; text-decoration-color: #008000\">stakeholders developed or strengthened evidence-based return and reintegration procedures'</span>, <span style=\"color: #808000; text-decoration-color: #808000\">page</span>=<span style=\"color: #008080; text-decoration-color: #008080; font-weight: bold\">57</span>, <span style=\"color: #808000; text-decoration-color: #808000\">position</span>=<span style=\"color: #008080; text-decoration-color: #008080; font-weight: bold\">1</span>, \n",
       "<span style=\"color: #808000; text-decoration-color: #808000\">new</span>=<span style=\"color: #008000; text-decoration-color: #008000\">'# 6.2. Specific Objective 1: partner countries and relevant stakeholders developed or strengthened </span>\n",
       "<span style=\"color: #008000; text-decoration-color: #008000\">evidence-based return and reintegration procedures'</span>, <span style=\"color: #808000; text-decoration-color: #808000\">changed</span>=<span style=\"color: #ff0000; text-decoration-color: #ff0000; font-style: italic\">False</span><span style=\"font-weight: bold\">)</span>, <span style=\"color: #800080; text-decoration-color: #800080; font-weight: bold\">HeadingResult</span><span style=\"font-weight: bold\">(</span><span style=\"color: #808000; text-decoration-color: #808000\">old</span>=<span style=\"color: #008000; text-decoration-color: #008000\">'### 6.2.1. Achievement of </span>\n",
       "<span style=\"color: #008000; text-decoration-color: #008000\">outputs and results'</span>, <span style=\"color: #808000; text-decoration-color: #808000\">page</span>=<span style=\"color: #008080; text-decoration-color: #008080; font-weight: bold\">57</span>, <span style=\"color: #808000; text-decoration-color: #808000\">position</span>=<span style=\"color: #008080; text-decoration-color: #008080; font-weight: bold\">2</span>, <span style=\"color: #808000; text-decoration-color: #808000\">new</span>=<span style=\"color: #008000; text-decoration-color: #008000\">'### 6.2.1. Achievement of outputs and results'</span>, <span style=\"color: #808000; text-decoration-color: #808000\">changed</span>=<span style=\"color: #ff0000; text-decoration-color: #ff0000; font-style: italic\">False</span><span style=\"font-weight: bold\">)</span>, \n",
       "<span style=\"color: #800080; text-decoration-color: #800080; font-weight: bold\">HeadingResult</span><span style=\"font-weight: bold\">(</span><span style=\"color: #808000; text-decoration-color: #808000\">old</span>=<span style=\"color: #008000; text-decoration-color: #008000\">'## Data availability'</span>, <span style=\"color: #808000; text-decoration-color: #808000\">page</span>=<span style=\"color: #008080; text-decoration-color: #008080; font-weight: bold\">57</span>, <span style=\"color: #808000; text-decoration-color: #808000\">position</span>=<span style=\"color: #008080; text-decoration-color: #008080; font-weight: bold\">3</span>, <span style=\"color: #808000; text-decoration-color: #808000\">new</span>=<span style=\"color: #008000; text-decoration-color: #008000\">'#### Data availability'</span>, <span style=\"color: #808000; text-decoration-color: #808000\">changed</span>=<span style=\"color: #00ff00; text-decoration-color: #00ff00; font-style: italic\">True</span><span style=\"font-weight: bold\">)</span>, \n",
       "<span style=\"color: #800080; text-decoration-color: #800080; font-weight: bold\">HeadingResult</span><span style=\"font-weight: bold\">(</span><span style=\"color: #808000; text-decoration-color: #808000\">old</span>=<span style=\"color: #008000; text-decoration-color: #008000\">'# Capacity of stakeholders'</span>, <span style=\"color: #808000; text-decoration-color: #808000\">page</span>=<span style=\"color: #008080; text-decoration-color: #008080; font-weight: bold\">58</span>, <span style=\"color: #808000; text-decoration-color: #808000\">position</span>=<span style=\"color: #008080; text-decoration-color: #008080; font-weight: bold\">1</span>, <span style=\"color: #808000; text-decoration-color: #808000\">new</span>=<span style=\"color: #008000; text-decoration-color: #008000\">'### Capacity of stakeholders'</span>, \n",
       "<span style=\"color: #808000; text-decoration-color: #808000\">changed</span>=<span style=\"color: #00ff00; text-decoration-color: #00ff00; font-style: italic\">True</span><span style=\"font-weight: bold\">)</span>, <span style=\"color: #800080; text-decoration-color: #800080; font-weight: bold\">HeadingResult</span><span style=\"font-weight: bold\">(</span><span style=\"color: #808000; text-decoration-color: #808000\">old</span>=<span style=\"color: #008000; text-decoration-color: #008000\">'# Capacity of the African Union Commission'</span>, <span style=\"color: #808000; text-decoration-color: #808000\">page</span>=<span style=\"color: #008080; text-decoration-color: #008080; font-weight: bold\">61</span>, <span style=\"color: #808000; text-decoration-color: #808000\">position</span>=<span style=\"color: #008080; text-decoration-color: #008080; font-weight: bold\">1</span>, <span style=\"color: #808000; text-decoration-color: #808000\">new</span>=<span style=\"color: #008000; text-decoration-color: #008000\">'### </span>\n",
       "<span style=\"color: #008000; text-decoration-color: #008000\">Capacity of the African Union Commission'</span>, <span style=\"color: #808000; text-decoration-color: #808000\">changed</span>=<span style=\"color: #00ff00; text-decoration-color: #00ff00; font-style: italic\">True</span><span style=\"font-weight: bold\">)</span>, <span style=\"color: #800080; text-decoration-color: #800080; font-weight: bold\">HeadingResult</span><span style=\"font-weight: bold\">(</span><span style=\"color: #808000; text-decoration-color: #808000\">old</span>=<span style=\"color: #008000; text-decoration-color: #008000\">'# 6.2.2. Achievement of Specific </span>\n",
       "<span style=\"color: #008000; text-decoration-color: #008000\">Objective 1'</span>, <span style=\"color: #808000; text-decoration-color: #808000\">page</span>=<span style=\"color: #008080; text-decoration-color: #008080; font-weight: bold\">62</span>, <span style=\"color: #808000; text-decoration-color: #808000\">position</span>=<span style=\"color: #008080; text-decoration-color: #008080; font-weight: bold\">1</span>, <span style=\"color: #808000; text-decoration-color: #808000\">new</span>=<span style=\"color: #008000; text-decoration-color: #008000\">'# 6.2.2. Achievement of Specific Objective 1'</span>, <span style=\"color: #808000; text-decoration-color: #808000\">changed</span>=<span style=\"color: #ff0000; text-decoration-color: #ff0000; font-style: italic\">False</span><span style=\"font-weight: bold\">)</span>, \n",
       "<span style=\"color: #800080; text-decoration-color: #800080; font-weight: bold\">HeadingResult</span><span style=\"font-weight: bold\">(</span><span style=\"color: #808000; text-decoration-color: #808000\">old</span>=<span style=\"color: #008000; text-decoration-color: #008000\">'# 6.3. Specific Objective 2: safe, humane, dignified voluntary return processes are enhanced </span>\n",
       "<span style=\"color: #008000; text-decoration-color: #008000\">along main migration routes'</span>, <span style=\"color: #808000; text-decoration-color: #808000\">page</span>=<span style=\"color: #008080; text-decoration-color: #008080; font-weight: bold\">64</span>, <span style=\"color: #808000; text-decoration-color: #808000\">position</span>=<span style=\"color: #008080; text-decoration-color: #008080; font-weight: bold\">1</span>, <span style=\"color: #808000; text-decoration-color: #808000\">new</span>=<span style=\"color: #008000; text-decoration-color: #008000\">'# 6.3. Specific Objective 2: safe, humane, dignified </span>\n",
       "<span style=\"color: #008000; text-decoration-color: #008000\">voluntary return processes are enhanced along main migration routes'</span>, <span style=\"color: #808000; text-decoration-color: #808000\">changed</span>=<span style=\"color: #ff0000; text-decoration-color: #ff0000; font-style: italic\">False</span><span style=\"font-weight: bold\">)</span>, <span style=\"color: #800080; text-decoration-color: #800080; font-weight: bold\">HeadingResult</span><span style=\"font-weight: bold\">(</span><span style=\"color: #808000; text-decoration-color: #808000\">old</span>=<span style=\"color: #008000; text-decoration-color: #008000\">'### 6.3.1.</span>\n",
       "<span style=\"color: #008000; text-decoration-color: #008000\">Achievement of outputs and results'</span>, <span style=\"color: #808000; text-decoration-color: #808000\">page</span>=<span style=\"color: #008080; text-decoration-color: #008080; font-weight: bold\">64</span>, <span style=\"color: #808000; text-decoration-color: #808000\">position</span>=<span style=\"color: #008080; text-decoration-color: #008080; font-weight: bold\">2</span>, <span style=\"color: #808000; text-decoration-color: #808000\">new</span>=<span style=\"color: #008000; text-decoration-color: #008000\">'### 6.3.1. Achievement of outputs and results'</span>, \n",
       "<span style=\"color: #808000; text-decoration-color: #808000\">changed</span>=<span style=\"color: #ff0000; text-decoration-color: #ff0000; font-style: italic\">False</span><span style=\"font-weight: bold\">)</span>, <span style=\"color: #800080; text-decoration-color: #800080; font-weight: bold\">HeadingResult</span><span style=\"font-weight: bold\">(</span><span style=\"color: #808000; text-decoration-color: #808000\">old</span>=<span style=\"color: #008000; text-decoration-color: #008000\">'## Outreach and awareness'</span>, <span style=\"color: #808000; text-decoration-color: #808000\">page</span>=<span style=\"color: #008080; text-decoration-color: #008080; font-weight: bold\">64</span>, <span style=\"color: #808000; text-decoration-color: #808000\">position</span>=<span style=\"color: #008080; text-decoration-color: #008080; font-weight: bold\">3</span>, <span style=\"color: #808000; text-decoration-color: #808000\">new</span>=<span style=\"color: #008000; text-decoration-color: #008000\">'#### Outreach and </span>\n",
       "<span style=\"color: #008000; text-decoration-color: #008000\">awareness'</span>, <span style=\"color: #808000; text-decoration-color: #808000\">changed</span>=<span style=\"color: #00ff00; text-decoration-color: #00ff00; font-style: italic\">True</span><span style=\"font-weight: bold\">)</span>, <span style=\"color: #800080; text-decoration-color: #800080; font-weight: bold\">HeadingResult</span><span style=\"font-weight: bold\">(</span><span style=\"color: #808000; text-decoration-color: #808000\">old</span>=<span style=\"color: #008000; text-decoration-color: #008000\">'# Assistance to stranded migrants'</span>, <span style=\"color: #808000; text-decoration-color: #808000\">page</span>=<span style=\"color: #008080; text-decoration-color: #008080; font-weight: bold\">66</span>, <span style=\"color: #808000; text-decoration-color: #808000\">position</span>=<span style=\"color: #008080; text-decoration-color: #008080; font-weight: bold\">1</span>, <span style=\"color: #808000; text-decoration-color: #808000\">new</span>=<span style=\"color: #008000; text-decoration-color: #008000\">'### </span>\n",
       "<span style=\"color: #008000; text-decoration-color: #008000\">Assistance to stranded migrants'</span>, <span style=\"color: #808000; text-decoration-color: #808000\">changed</span>=<span style=\"color: #00ff00; text-decoration-color: #00ff00; font-style: italic\">True</span><span style=\"font-weight: bold\">)</span>, <span style=\"color: #800080; text-decoration-color: #800080; font-weight: bold\">HeadingResult</span><span style=\"font-weight: bold\">(</span><span style=\"color: #808000; text-decoration-color: #808000\">old</span>=<span style=\"color: #008000; text-decoration-color: #008000\">'# 6.3.2. Achievement of Specific Objective 2'</span>, \n",
       "<span style=\"color: #808000; text-decoration-color: #808000\">page</span>=<span style=\"color: #008080; text-decoration-color: #008080; font-weight: bold\">67</span>, <span style=\"color: #808000; text-decoration-color: #808000\">position</span>=<span style=\"color: #008080; text-decoration-color: #008080; font-weight: bold\">1</span>, <span style=\"color: #808000; text-decoration-color: #808000\">new</span>=<span style=\"color: #008000; text-decoration-color: #008000\">'# 6.3.2. Achievement of Specific Objective 2'</span>, <span style=\"color: #808000; text-decoration-color: #808000\">changed</span>=<span style=\"color: #ff0000; text-decoration-color: #ff0000; font-style: italic\">False</span><span style=\"font-weight: bold\">)</span>, <span style=\"color: #800080; text-decoration-color: #800080; font-weight: bold\">HeadingResult</span><span style=\"font-weight: bold\">(</span><span style=\"color: #808000; text-decoration-color: #808000\">old</span>=<span style=\"color: #008000; text-decoration-color: #008000\">'## 6.4.</span>\n",
       "<span style=\"color: #008000; text-decoration-color: #008000\">Specific Objective 3: returnees are sustainably integrated in host communities, and host communities are better </span>\n",
       "<span style=\"color: #008000; text-decoration-color: #008000\">able to create living standards that address drivers of migration.'</span>, <span style=\"color: #808000; text-decoration-color: #808000\">page</span>=<span style=\"color: #008080; text-decoration-color: #008080; font-weight: bold\">67</span>, <span style=\"color: #808000; text-decoration-color: #808000\">position</span>=<span style=\"color: #008080; text-decoration-color: #008080; font-weight: bold\">2</span>, <span style=\"color: #808000; text-decoration-color: #808000\">new</span>=<span style=\"color: #008000; text-decoration-color: #008000\">'## 6.4. Specific </span>\n",
       "<span style=\"color: #008000; text-decoration-color: #008000\">Objective 3: returnees are sustainably integrated in host communities, and host communities are better able to </span>\n",
       "<span style=\"color: #008000; text-decoration-color: #008000\">create living standards that address drivers of migration.'</span>, <span style=\"color: #808000; text-decoration-color: #808000\">changed</span>=<span style=\"color: #ff0000; text-decoration-color: #ff0000; font-style: italic\">False</span><span style=\"font-weight: bold\">)</span>, <span style=\"color: #800080; text-decoration-color: #800080; font-weight: bold\">HeadingResult</span><span style=\"font-weight: bold\">(</span><span style=\"color: #808000; text-decoration-color: #808000\">old</span>=<span style=\"color: #008000; text-decoration-color: #008000\">'# 6.4.1. </span>\n",
       "<span style=\"color: #008000; text-decoration-color: #008000\">Achievement of outputs and results'</span>, <span style=\"color: #808000; text-decoration-color: #808000\">page</span>=<span style=\"color: #008080; text-decoration-color: #008080; font-weight: bold\">68</span>, <span style=\"color: #808000; text-decoration-color: #808000\">position</span>=<span style=\"color: #008080; text-decoration-color: #008080; font-weight: bold\">1</span>, <span style=\"color: #808000; text-decoration-color: #808000\">new</span>=<span style=\"color: #008000; text-decoration-color: #008000\">'# 6.4.1. Achievement of outputs and results'</span>, \n",
       "<span style=\"color: #808000; text-decoration-color: #808000\">changed</span>=<span style=\"color: #00ff00; text-decoration-color: #00ff00; font-style: italic\">True</span><span style=\"font-weight: bold\">)</span>, <span style=\"color: #800080; text-decoration-color: #800080; font-weight: bold\">HeadingResult</span><span style=\"font-weight: bold\">(</span><span style=\"color: #808000; text-decoration-color: #808000\">old</span>=<span style=\"color: #008000; text-decoration-color: #008000\">'## Individual and community-based reintegration'</span>, <span style=\"color: #808000; text-decoration-color: #808000\">page</span>=<span style=\"color: #008080; text-decoration-color: #008080; font-weight: bold\">68</span>, <span style=\"color: #808000; text-decoration-color: #808000\">position</span>=<span style=\"color: #008080; text-decoration-color: #008080; font-weight: bold\">2</span>, <span style=\"color: #808000; text-decoration-color: #808000\">new</span>=<span style=\"color: #008000; text-decoration-color: #008000\">'## </span>\n",
       "<span style=\"color: #008000; text-decoration-color: #008000\">Individual and community-based reintegration'</span>, <span style=\"color: #808000; text-decoration-color: #808000\">changed</span>=<span style=\"color: #00ff00; text-decoration-color: #00ff00; font-style: italic\">True</span><span style=\"font-weight: bold\">)</span>, <span style=\"color: #800080; text-decoration-color: #800080; font-weight: bold\">HeadingResult</span><span style=\"font-weight: bold\">(</span><span style=\"color: #808000; text-decoration-color: #808000\">old</span>=<span style=\"color: #008000; text-decoration-color: #008000\">'# M\\\\&amp;E systems'</span>, <span style=\"color: #808000; text-decoration-color: #808000\">page</span>=<span style=\"color: #008080; text-decoration-color: #008080; font-weight: bold\">70</span>, \n",
       "<span style=\"color: #808000; text-decoration-color: #808000\">position</span>=<span style=\"color: #008080; text-decoration-color: #008080; font-weight: bold\">1</span>, <span style=\"color: #808000; text-decoration-color: #808000\">new</span>=<span style=\"color: #008000; text-decoration-color: #008000\">'### M&amp;E systems'</span>, <span style=\"color: #808000; text-decoration-color: #808000\">changed</span>=<span style=\"color: #00ff00; text-decoration-color: #00ff00; font-style: italic\">True</span><span style=\"font-weight: bold\">)</span>, <span style=\"color: #800080; text-decoration-color: #800080; font-weight: bold\">HeadingResult</span><span style=\"font-weight: bold\">(</span><span style=\"color: #808000; text-decoration-color: #808000\">old</span>=<span style=\"color: #008000; text-decoration-color: #008000\">'# 6.4.2. Achievement of Specific Objective 3'</span>,\n",
       "<span style=\"color: #808000; text-decoration-color: #808000\">page</span>=<span style=\"color: #008080; text-decoration-color: #008080; font-weight: bold\">71</span>, <span style=\"color: #808000; text-decoration-color: #808000\">position</span>=<span style=\"color: #008080; text-decoration-color: #008080; font-weight: bold\">1</span>, <span style=\"color: #808000; text-decoration-color: #808000\">new</span>=<span style=\"color: #008000; text-decoration-color: #008000\">'# 6.4.2. Achievement of Specific Objective 3'</span>, <span style=\"color: #808000; text-decoration-color: #808000\">changed</span>=<span style=\"color: #ff0000; text-decoration-color: #ff0000; font-style: italic\">False</span><span style=\"font-weight: bold\">)</span>, <span style=\"color: #800080; text-decoration-color: #800080; font-weight: bold\">HeadingResult</span><span style=\"font-weight: bold\">(</span><span style=\"color: #808000; text-decoration-color: #808000\">old</span>=<span style=\"color: #008000; text-decoration-color: #008000\">'## </span>\n",
       "<span style=\"color: #008000; text-decoration-color: #008000\">Overall achievement of reintegration'</span>, <span style=\"color: #808000; text-decoration-color: #808000\">page</span>=<span style=\"color: #008080; text-decoration-color: #008080; font-weight: bold\">71</span>, <span style=\"color: #808000; text-decoration-color: #808000\">position</span>=<span style=\"color: #008080; text-decoration-color: #008080; font-weight: bold\">2</span>, <span style=\"color: #808000; text-decoration-color: #808000\">new</span>=<span style=\"color: #008000; text-decoration-color: #008000\">'## Overall achievement of reintegration'</span>, \n",
       "<span style=\"color: #808000; text-decoration-color: #808000\">changed</span>=<span style=\"color: #00ff00; text-decoration-color: #00ff00; font-style: italic\">True</span><span style=\"font-weight: bold\">)</span>, <span style=\"color: #800080; text-decoration-color: #800080; font-weight: bold\">HeadingResult</span><span style=\"font-weight: bold\">(</span><span style=\"color: #808000; text-decoration-color: #808000\">old</span>=<span style=\"color: #008000; text-decoration-color: #008000\">'# 6.5. Assessing vulnerabilities'</span>, <span style=\"color: #808000; text-decoration-color: #808000\">page</span>=<span style=\"color: #008080; text-decoration-color: #008080; font-weight: bold\">77</span>, <span style=\"color: #808000; text-decoration-color: #808000\">position</span>=<span style=\"color: #008080; text-decoration-color: #008080; font-weight: bold\">1</span>, <span style=\"color: #808000; text-decoration-color: #808000\">new</span>=<span style=\"color: #008000; text-decoration-color: #008000\">'### 6.5. Assessing </span>\n",
       "<span style=\"color: #008000; text-decoration-color: #008000\">vulnerabilities'</span>, <span style=\"color: #808000; text-decoration-color: #808000\">changed</span>=<span style=\"color: #00ff00; text-decoration-color: #00ff00; font-style: italic\">True</span><span style=\"font-weight: bold\">)</span>, <span style=\"color: #800080; text-decoration-color: #800080; font-weight: bold\">HeadingResult</span><span style=\"font-weight: bold\">(</span><span style=\"color: #808000; text-decoration-color: #808000\">old</span>=<span style=\"color: #008000; text-decoration-color: #008000\">'### 6.5.1. Achievements and challenges in screening migrant </span>\n",
       "<span style=\"color: #008000; text-decoration-color: #008000\">vulnerabilities and assessing eligibility for support'</span>, <span style=\"color: #808000; text-decoration-color: #808000\">page</span>=<span style=\"color: #008080; text-decoration-color: #008080; font-weight: bold\">77</span>, <span style=\"color: #808000; text-decoration-color: #808000\">position</span>=<span style=\"color: #008080; text-decoration-color: #008080; font-weight: bold\">2</span>, <span style=\"color: #808000; text-decoration-color: #808000\">new</span>=<span style=\"color: #008000; text-decoration-color: #008000\">'#### 6.5.1. Achievements and </span>\n",
       "<span style=\"color: #008000; text-decoration-color: #008000\">challenges in screening migrant vulnerabilities and assessing eligibility for support'</span>, <span style=\"color: #808000; text-decoration-color: #808000\">changed</span>=<span style=\"color: #ff0000; text-decoration-color: #ff0000; font-style: italic\">False</span><span style=\"font-weight: bold\">)</span>, \n",
       "<span style=\"color: #800080; text-decoration-color: #800080; font-weight: bold\">HeadingResult</span><span style=\"font-weight: bold\">(</span><span style=\"color: #808000; text-decoration-color: #808000\">old</span>=<span style=\"color: #008000; text-decoration-color: #008000\">'# 6.5.2. Contact and communication with beneficiaries'</span>, <span style=\"color: #808000; text-decoration-color: #808000\">page</span>=<span style=\"color: #008080; text-decoration-color: #008080; font-weight: bold\">79</span>, <span style=\"color: #808000; text-decoration-color: #808000\">position</span>=<span style=\"color: #008080; text-decoration-color: #008080; font-weight: bold\">1</span>, <span style=\"color: #808000; text-decoration-color: #808000\">new</span>=<span style=\"color: #008000; text-decoration-color: #008000\">'# 6.5.2. </span>\n",
       "<span style=\"color: #008000; text-decoration-color: #008000\">Contact and communication with beneficiaries'</span>, <span style=\"color: #808000; text-decoration-color: #808000\">changed</span>=<span style=\"color: #ff0000; text-decoration-color: #ff0000; font-style: italic\">False</span><span style=\"font-weight: bold\">)</span>, <span style=\"color: #800080; text-decoration-color: #800080; font-weight: bold\">HeadingResult</span><span style=\"font-weight: bold\">(</span><span style=\"color: #808000; text-decoration-color: #808000\">old</span>=<span style=\"color: #008000; text-decoration-color: #008000\">'# 6.6. Functioning of the </span>\n",
       "<span style=\"color: #008000; text-decoration-color: #008000\">integrated approach'</span>, <span style=\"color: #808000; text-decoration-color: #808000\">page</span>=<span style=\"color: #008080; text-decoration-color: #008080; font-weight: bold\">81</span>, <span style=\"color: #808000; text-decoration-color: #808000\">position</span>=<span style=\"color: #008080; text-decoration-color: #008080; font-weight: bold\">1</span>, <span style=\"color: #808000; text-decoration-color: #808000\">new</span>=<span style=\"color: #008000; text-decoration-color: #008000\">'# 6.6. Functioning of the integrated approach'</span>, <span style=\"color: #808000; text-decoration-color: #808000\">changed</span>=<span style=\"color: #ff0000; text-decoration-color: #ff0000; font-style: italic\">False</span><span style=\"font-weight: bold\">)</span>, \n",
       "<span style=\"color: #800080; text-decoration-color: #800080; font-weight: bold\">HeadingResult</span><span style=\"font-weight: bold\">(</span><span style=\"color: #808000; text-decoration-color: #808000\">old</span>=<span style=\"color: #008000; text-decoration-color: #008000\">'# 7. Efficiency'</span>, <span style=\"color: #808000; text-decoration-color: #808000\">page</span>=<span style=\"color: #008080; text-decoration-color: #008080; font-weight: bold\">83</span>, <span style=\"color: #808000; text-decoration-color: #808000\">position</span>=<span style=\"color: #008080; text-decoration-color: #008080; font-weight: bold\">1</span>, <span style=\"color: #808000; text-decoration-color: #808000\">new</span>=<span style=\"color: #008000; text-decoration-color: #008000\">'# 7. Efficiency'</span>, <span style=\"color: #808000; text-decoration-color: #808000\">changed</span>=<span style=\"color: #ff0000; text-decoration-color: #ff0000; font-style: italic\">False</span><span style=\"font-weight: bold\">)</span>, \n",
       "<span style=\"color: #800080; text-decoration-color: #800080; font-weight: bold\">HeadingResult</span><span style=\"font-weight: bold\">(</span><span style=\"color: #808000; text-decoration-color: #808000\">old</span>=<span style=\"color: #008000; text-decoration-color: #008000\">'## Overall performance score for efficiency: 4.3/5.'</span>, <span style=\"color: #808000; text-decoration-color: #808000\">page</span>=<span style=\"color: #008080; text-decoration-color: #008080; font-weight: bold\">83</span>, <span style=\"color: #808000; text-decoration-color: #808000\">position</span>=<span style=\"color: #008080; text-decoration-color: #008080; font-weight: bold\">2</span>, <span style=\"color: #808000; text-decoration-color: #808000\">new</span>=<span style=\"color: #008000; text-decoration-color: #008000\">'## Overall </span>\n",
       "<span style=\"color: #008000; text-decoration-color: #008000\">performance score for efficiency: 4.3/5.'</span>, <span style=\"color: #808000; text-decoration-color: #808000\">changed</span>=<span style=\"color: #ff0000; text-decoration-color: #ff0000; font-style: italic\">False</span><span style=\"font-weight: bold\">)</span>, <span style=\"color: #800080; text-decoration-color: #800080; font-weight: bold\">HeadingResult</span><span style=\"font-weight: bold\">(</span><span style=\"color: #808000; text-decoration-color: #808000\">old</span>=<span style=\"color: #008000; text-decoration-color: #008000\">'## Robustness score for the evidence:</span>\n",
       "<span style=\"color: #008000; text-decoration-color: #008000\">3.5/5.'</span>, <span style=\"color: #808000; text-decoration-color: #808000\">page</span>=<span style=\"color: #008080; text-decoration-color: #008080; font-weight: bold\">83</span>, <span style=\"color: #808000; text-decoration-color: #808000\">position</span>=<span style=\"color: #008080; text-decoration-color: #008080; font-weight: bold\">3</span>, <span style=\"color: #808000; text-decoration-color: #808000\">new</span>=<span style=\"color: #008000; text-decoration-color: #008000\">'## Robustness score for the evidence: 3.5/5.'</span>, <span style=\"color: #808000; text-decoration-color: #808000\">changed</span>=<span style=\"color: #ff0000; text-decoration-color: #ff0000; font-style: italic\">False</span><span style=\"font-weight: bold\">)</span>, \n",
       "<span style=\"color: #800080; text-decoration-color: #800080; font-weight: bold\">HeadingResult</span><span style=\"font-weight: bold\">(</span><span style=\"color: #808000; text-decoration-color: #808000\">old</span>=<span style=\"color: #008000; text-decoration-color: #008000\">'### 7.1. Did the programme receive sufficient resources to achieve its objectives?'</span>, <span style=\"color: #808000; text-decoration-color: #808000\">page</span>=<span style=\"color: #008080; text-decoration-color: #008080; font-weight: bold\">83</span>, \n",
       "<span style=\"color: #808000; text-decoration-color: #808000\">position</span>=<span style=\"color: #008080; text-decoration-color: #008080; font-weight: bold\">4</span>, <span style=\"color: #808000; text-decoration-color: #808000\">new</span>=<span style=\"color: #008000; text-decoration-color: #008000\">'### 7.1. Did the programme receive sufficient resources to achieve its objectives?'</span>, \n",
       "<span style=\"color: #808000; text-decoration-color: #808000\">changed</span>=<span style=\"color: #ff0000; text-decoration-color: #ff0000; font-style: italic\">False</span><span style=\"font-weight: bold\">)</span>, <span style=\"color: #800080; text-decoration-color: #800080; font-weight: bold\">HeadingResult</span><span style=\"font-weight: bold\">(</span><span style=\"color: #808000; text-decoration-color: #808000\">old</span>=<span style=\"color: #008000; text-decoration-color: #008000\">\"### 7.1.1. To what extent were financial resources sufficient to meet the </span>\n",
       "<span style=\"color: #008000; text-decoration-color: #008000\">programme's objectives?\"</span>, <span style=\"color: #808000; text-decoration-color: #808000\">page</span>=<span style=\"color: #008080; text-decoration-color: #008080; font-weight: bold\">83</span>, <span style=\"color: #808000; text-decoration-color: #808000\">position</span>=<span style=\"color: #008080; text-decoration-color: #008080; font-weight: bold\">5</span>, <span style=\"color: #808000; text-decoration-color: #808000\">new</span>=<span style=\"color: #008000; text-decoration-color: #008000\">\"#### 7.1.1. To what extent were financial resources sufficient </span>\n",
       "<span style=\"color: #008000; text-decoration-color: #008000\">to meet the programme's objectives?\"</span>, <span style=\"color: #808000; text-decoration-color: #808000\">changed</span>=<span style=\"color: #ff0000; text-decoration-color: #ff0000; font-style: italic\">False</span><span style=\"font-weight: bold\">)</span>, <span style=\"color: #800080; text-decoration-color: #800080; font-weight: bold\">HeadingResult</span><span style=\"font-weight: bold\">(</span><span style=\"color: #808000; text-decoration-color: #808000\">old</span>=<span style=\"color: #008000; text-decoration-color: #008000\">'# 7.1.2. To what extent was the \"top-up\" </span>\n",
       "<span style=\"color: #008000; text-decoration-color: #008000\">funding system efficient for planning and budgeting?'</span>, <span style=\"color: #808000; text-decoration-color: #808000\">page</span>=<span style=\"color: #008080; text-decoration-color: #008080; font-weight: bold\">86</span>, <span style=\"color: #808000; text-decoration-color: #808000\">position</span>=<span style=\"color: #008080; text-decoration-color: #008080; font-weight: bold\">1</span>, <span style=\"color: #808000; text-decoration-color: #808000\">new</span>=<span style=\"color: #008000; text-decoration-color: #008000\">'# 7.1.2. To what extent was the </span>\n",
       "<span style=\"color: #008000; text-decoration-color: #008000\">\"top-up\" funding system efficient for planning and budgeting?'</span>, <span style=\"color: #808000; text-decoration-color: #808000\">changed</span>=<span style=\"color: #ff0000; text-decoration-color: #ff0000; font-style: italic\">False</span><span style=\"font-weight: bold\">)</span>, <span style=\"color: #800080; text-decoration-color: #800080; font-weight: bold\">HeadingResult</span><span style=\"font-weight: bold\">(</span><span style=\"color: #808000; text-decoration-color: #808000\">old</span>=<span style=\"color: #008000; text-decoration-color: #008000\">\"# 7.1.3. To what</span>\n",
       "<span style=\"color: #008000; text-decoration-color: #008000\">extent were human resources sufficient to meet the programme's objectives?\"</span>, <span style=\"color: #808000; text-decoration-color: #808000\">page</span>=<span style=\"color: #008080; text-decoration-color: #008080; font-weight: bold\">87</span>, <span style=\"color: #808000; text-decoration-color: #808000\">position</span>=<span style=\"color: #008080; text-decoration-color: #008080; font-weight: bold\">1</span>, <span style=\"color: #808000; text-decoration-color: #808000\">new</span>=<span style=\"color: #008000; text-decoration-color: #008000\">\"# 7.1.3. To </span>\n",
       "<span style=\"color: #008000; text-decoration-color: #008000\">what extent were human resources sufficient to meet the programme's objectives?\"</span>, <span style=\"color: #808000; text-decoration-color: #808000\">changed</span>=<span style=\"color: #ff0000; text-decoration-color: #ff0000; font-style: italic\">False</span><span style=\"font-weight: bold\">)</span>, \n",
       "<span style=\"color: #800080; text-decoration-color: #800080; font-weight: bold\">HeadingResult</span><span style=\"font-weight: bold\">(</span><span style=\"color: #808000; text-decoration-color: #808000\">old</span>=<span style=\"color: #008000; text-decoration-color: #008000\">'# 7.1.4. To what extent were the programme activities implemented according to the initial </span>\n",
       "<span style=\"color: #008000; text-decoration-color: #008000\">timeline?'</span>, <span style=\"color: #808000; text-decoration-color: #808000\">page</span>=<span style=\"color: #008080; text-decoration-color: #008080; font-weight: bold\">88</span>, <span style=\"color: #808000; text-decoration-color: #808000\">position</span>=<span style=\"color: #008080; text-decoration-color: #008080; font-weight: bold\">1</span>, <span style=\"color: #808000; text-decoration-color: #808000\">new</span>=<span style=\"color: #008000; text-decoration-color: #008000\">'# 7.1.4. To what extent were the programme activities implemented according </span>\n",
       "<span style=\"color: #008000; text-decoration-color: #008000\">to the initial timeline?'</span>, <span style=\"color: #808000; text-decoration-color: #808000\">changed</span>=<span style=\"color: #ff0000; text-decoration-color: #ff0000; font-style: italic\">False</span><span style=\"font-weight: bold\">)</span>, <span style=\"color: #800080; text-decoration-color: #800080; font-weight: bold\">HeadingResult</span><span style=\"font-weight: bold\">(</span><span style=\"color: #808000; text-decoration-color: #808000\">old</span>=<span style=\"color: #008000; text-decoration-color: #008000\">'# 7.2. Cost-effectiveness and efficiency of the </span>\n",
       "<span style=\"color: #008000; text-decoration-color: #008000\">programme'</span>, <span style=\"color: #808000; text-decoration-color: #808000\">page</span>=<span style=\"color: #008080; text-decoration-color: #008080; font-weight: bold\">89</span>, <span style=\"color: #808000; text-decoration-color: #808000\">position</span>=<span style=\"color: #008080; text-decoration-color: #008080; font-weight: bold\">1</span>, <span style=\"color: #808000; text-decoration-color: #808000\">new</span>=<span style=\"color: #008000; text-decoration-color: #008000\">'# 7.2. Cost-effectiveness and efficiency of the programme'</span>, <span style=\"color: #808000; text-decoration-color: #808000\">changed</span>=<span style=\"color: #ff0000; text-decoration-color: #ff0000; font-style: italic\">False</span><span style=\"font-weight: bold\">)</span>, \n",
       "<span style=\"color: #800080; text-decoration-color: #800080; font-weight: bold\">HeadingResult</span><span style=\"font-weight: bold\">(</span><span style=\"color: #808000; text-decoration-color: #808000\">old</span>=<span style=\"color: #008000; text-decoration-color: #008000\">'### 7.2.1. How well were the resources (funds, expertise and time) converted into results?'</span>, \n",
       "<span style=\"color: #808000; text-decoration-color: #808000\">page</span>=<span style=\"color: #008080; text-decoration-color: #008080; font-weight: bold\">89</span>, <span style=\"color: #808000; text-decoration-color: #808000\">position</span>=<span style=\"color: #008080; text-decoration-color: #008080; font-weight: bold\">2</span>, <span style=\"color: #808000; text-decoration-color: #808000\">new</span>=<span style=\"color: #008000; text-decoration-color: #008000\">'### 7.2.1. How well were the resources (funds, expertise and time) converted into </span>\n",
       "<span style=\"color: #008000; text-decoration-color: #008000\">results?'</span>, <span style=\"color: #808000; text-decoration-color: #808000\">changed</span>=<span style=\"color: #ff0000; text-decoration-color: #ff0000; font-style: italic\">False</span><span style=\"font-weight: bold\">)</span>, <span style=\"color: #800080; text-decoration-color: #800080; font-weight: bold\">HeadingResult</span><span style=\"font-weight: bold\">(</span><span style=\"color: #808000; text-decoration-color: #808000\">old</span>=<span style=\"color: #008000; text-decoration-color: #008000\">'# Increased efficiency through partnerships and capacity building'</span>, \n",
       "<span style=\"color: #808000; text-decoration-color: #808000\">page</span>=<span style=\"color: #008080; text-decoration-color: #008080; font-weight: bold\">90</span>, <span style=\"color: #808000; text-decoration-color: #808000\">position</span>=<span style=\"color: #008080; text-decoration-color: #008080; font-weight: bold\">1</span>, <span style=\"color: #808000; text-decoration-color: #808000\">new</span>=<span style=\"color: #008000; text-decoration-color: #008000\">'### Increased efficiency through partnerships and capacity building'</span>, <span style=\"color: #808000; text-decoration-color: #808000\">changed</span>=<span style=\"color: #00ff00; text-decoration-color: #00ff00; font-style: italic\">True</span><span style=\"font-weight: bold\">)</span>, \n",
       "<span style=\"color: #800080; text-decoration-color: #800080; font-weight: bold\">HeadingResult</span><span style=\"font-weight: bold\">(</span><span style=\"color: #808000; text-decoration-color: #808000\">old</span>=<span style=\"color: #008000; text-decoration-color: #008000\">'# 7.2.2. Could the programme have been implemented in a more cost-effective manner? If so, </span>\n",
       "<span style=\"color: #008000; text-decoration-color: #008000\">how?'</span>, <span style=\"color: #808000; text-decoration-color: #808000\">page</span>=<span style=\"color: #008080; text-decoration-color: #008080; font-weight: bold\">91</span>, <span style=\"color: #808000; text-decoration-color: #808000\">position</span>=<span style=\"color: #008080; text-decoration-color: #008080; font-weight: bold\">1</span>, <span style=\"color: #808000; text-decoration-color: #808000\">new</span>=<span style=\"color: #008000; text-decoration-color: #008000\">'# 7.2.2. Could the programme have been implemented in a more cost-effective </span>\n",
       "<span style=\"color: #008000; text-decoration-color: #008000\">manner? If so, how?'</span>, <span style=\"color: #808000; text-decoration-color: #808000\">changed</span>=<span style=\"color: #ff0000; text-decoration-color: #ff0000; font-style: italic\">False</span><span style=\"font-weight: bold\">)</span>, <span style=\"color: #800080; text-decoration-color: #800080; font-weight: bold\">HeadingResult</span><span style=\"font-weight: bold\">(</span><span style=\"color: #808000; text-decoration-color: #808000\">old</span>=<span style=\"color: #008000; text-decoration-color: #008000\">'## Improved efficiency of some activities'</span>, <span style=\"color: #808000; text-decoration-color: #808000\">page</span>=<span style=\"color: #008080; text-decoration-color: #008080; font-weight: bold\">91</span>, \n",
       "<span style=\"color: #808000; text-decoration-color: #808000\">position</span>=<span style=\"color: #008080; text-decoration-color: #008080; font-weight: bold\">2</span>, <span style=\"color: #808000; text-decoration-color: #808000\">new</span>=<span style=\"color: #008000; text-decoration-color: #008000\">'## Improved efficiency of some activities'</span>, <span style=\"color: #808000; text-decoration-color: #808000\">changed</span>=<span style=\"color: #00ff00; text-decoration-color: #00ff00; font-style: italic\">True</span><span style=\"font-weight: bold\">)</span>, <span style=\"color: #800080; text-decoration-color: #800080; font-weight: bold\">HeadingResult</span><span style=\"font-weight: bold\">(</span><span style=\"color: #808000; text-decoration-color: #808000\">old</span>=<span style=\"color: #008000; text-decoration-color: #008000\">'# Decreased </span>\n",
       "<span style=\"color: #008000; text-decoration-color: #008000\">efficiency of some activities'</span>, <span style=\"color: #808000; text-decoration-color: #808000\">page</span>=<span style=\"color: #008080; text-decoration-color: #008080; font-weight: bold\">92</span>, <span style=\"color: #808000; text-decoration-color: #808000\">position</span>=<span style=\"color: #008080; text-decoration-color: #008080; font-weight: bold\">1</span>, <span style=\"color: #808000; text-decoration-color: #808000\">new</span>=<span style=\"color: #008000; text-decoration-color: #008000\">'### Decreased efficiency of some activities'</span>, \n",
       "<span style=\"color: #808000; text-decoration-color: #808000\">changed</span>=<span style=\"color: #00ff00; text-decoration-color: #00ff00; font-style: italic\">True</span><span style=\"font-weight: bold\">)</span>, <span style=\"color: #800080; text-decoration-color: #800080; font-weight: bold\">HeadingResult</span><span style=\"font-weight: bold\">(</span><span style=\"color: #808000; text-decoration-color: #808000\">old</span>=<span style=\"color: #008000; text-decoration-color: #008000\">'# Examples of cost reduction'</span>, <span style=\"color: #808000; text-decoration-color: #808000\">page</span>=<span style=\"color: #008080; text-decoration-color: #008080; font-weight: bold\">93</span>, <span style=\"color: #808000; text-decoration-color: #808000\">position</span>=<span style=\"color: #008080; text-decoration-color: #008080; font-weight: bold\">1</span>, <span style=\"color: #808000; text-decoration-color: #808000\">new</span>=<span style=\"color: #008000; text-decoration-color: #008000\">'### Examples of cost </span>\n",
       "<span style=\"color: #008000; text-decoration-color: #008000\">reduction'</span>, <span style=\"color: #808000; text-decoration-color: #808000\">changed</span>=<span style=\"color: #00ff00; text-decoration-color: #00ff00; font-style: italic\">True</span><span style=\"font-weight: bold\">)</span>, <span style=\"color: #800080; text-decoration-color: #800080; font-weight: bold\">HeadingResult</span><span style=\"font-weight: bold\">(</span><span style=\"color: #808000; text-decoration-color: #808000\">old</span>=<span style=\"color: #008000; text-decoration-color: #008000\">'# Lessons learned in relation to cost-effectiveness'</span>, <span style=\"color: #808000; text-decoration-color: #808000\">page</span>=<span style=\"color: #008080; text-decoration-color: #008080; font-weight: bold\">94</span>, \n",
       "<span style=\"color: #808000; text-decoration-color: #808000\">position</span>=<span style=\"color: #008080; text-decoration-color: #008080; font-weight: bold\">1</span>, <span style=\"color: #808000; text-decoration-color: #808000\">new</span>=<span style=\"color: #008000; text-decoration-color: #008000\">'### Lessons learned in relation to cost-effectiveness'</span>, <span style=\"color: #808000; text-decoration-color: #808000\">changed</span>=<span style=\"color: #00ff00; text-decoration-color: #00ff00; font-style: italic\">True</span><span style=\"font-weight: bold\">)</span>, <span style=\"color: #800080; text-decoration-color: #800080; font-weight: bold\">HeadingResult</span><span style=\"font-weight: bold\">(</span><span style=\"color: #808000; text-decoration-color: #808000\">old</span>=<span style=\"color: #008000; text-decoration-color: #008000\">'### </span>\n",
       "<span style=\"color: #008000; text-decoration-color: #008000\">7.2.3. To what extent did the programme make efficiency gains by relying on existing services?'</span>, <span style=\"color: #808000; text-decoration-color: #808000\">page</span>=<span style=\"color: #008080; text-decoration-color: #008080; font-weight: bold\">94</span>, \n",
       "<span style=\"color: #808000; text-decoration-color: #808000\">position</span>=<span style=\"color: #008080; text-decoration-color: #008080; font-weight: bold\">2</span>, <span style=\"color: #808000; text-decoration-color: #808000\">new</span>=<span style=\"color: #008000; text-decoration-color: #008000\">'### 7.2.3. To what extent did the programme make efficiency gains by relying on existing </span>\n",
       "<span style=\"color: #008000; text-decoration-color: #008000\">services?'</span>, <span style=\"color: #808000; text-decoration-color: #808000\">changed</span>=<span style=\"color: #ff0000; text-decoration-color: #ff0000; font-style: italic\">False</span><span style=\"font-weight: bold\">)</span>, <span style=\"color: #800080; text-decoration-color: #800080; font-weight: bold\">HeadingResult</span><span style=\"font-weight: bold\">(</span><span style=\"color: #808000; text-decoration-color: #808000\">old</span>=<span style=\"color: #008000; text-decoration-color: #008000\">'# 7.2.4. To what extent did the national referral mechanisms </span>\n",
       "<span style=\"color: #008000; text-decoration-color: #008000\">function effectively enough to support the JI-HoA?'</span>, <span style=\"color: #808000; text-decoration-color: #808000\">page</span>=<span style=\"color: #008080; text-decoration-color: #008080; font-weight: bold\">97</span>, <span style=\"color: #808000; text-decoration-color: #808000\">position</span>=<span style=\"color: #008080; text-decoration-color: #008080; font-weight: bold\">1</span>, <span style=\"color: #808000; text-decoration-color: #808000\">new</span>=<span style=\"color: #008000; text-decoration-color: #008000\">'# 7.2.4. To what extent did the </span>\n",
       "<span style=\"color: #008000; text-decoration-color: #008000\">national referral mechanisms function effectively enough to support the JI-HoA?'</span>, <span style=\"color: #808000; text-decoration-color: #808000\">changed</span>=<span style=\"color: #ff0000; text-decoration-color: #ff0000; font-style: italic\">False</span><span style=\"font-weight: bold\">)</span>, \n",
       "<span style=\"color: #800080; text-decoration-color: #800080; font-weight: bold\">HeadingResult</span><span style=\"font-weight: bold\">(</span><span style=\"color: #808000; text-decoration-color: #808000\">old</span>=<span style=\"color: #008000; text-decoration-color: #008000\">'# 8. Sustainability'</span>, <span style=\"color: #808000; text-decoration-color: #808000\">page</span>=<span style=\"color: #008080; text-decoration-color: #008080; font-weight: bold\">100</span>, <span style=\"color: #808000; text-decoration-color: #808000\">position</span>=<span style=\"color: #008080; text-decoration-color: #008080; font-weight: bold\">1</span>, <span style=\"color: #808000; text-decoration-color: #808000\">new</span>=<span style=\"color: #008000; text-decoration-color: #008000\">'# 8. Sustainability'</span>, <span style=\"color: #808000; text-decoration-color: #808000\">changed</span>=<span style=\"color: #ff0000; text-decoration-color: #ff0000; font-style: italic\">False</span><span style=\"font-weight: bold\">)</span>, \n",
       "<span style=\"color: #800080; text-decoration-color: #800080; font-weight: bold\">HeadingResult</span><span style=\"font-weight: bold\">(</span><span style=\"color: #808000; text-decoration-color: #808000\">old</span>=<span style=\"color: #008000; text-decoration-color: #008000\">'## Overall performance score for sustainability: 2.5/5.'</span>, <span style=\"color: #808000; text-decoration-color: #808000\">page</span>=<span style=\"color: #008080; text-decoration-color: #008080; font-weight: bold\">100</span>, <span style=\"color: #808000; text-decoration-color: #808000\">position</span>=<span style=\"color: #008080; text-decoration-color: #008080; font-weight: bold\">2</span>, <span style=\"color: #808000; text-decoration-color: #808000\">new</span>=<span style=\"color: #008000; text-decoration-color: #008000\">'## Overall </span>\n",
       "<span style=\"color: #008000; text-decoration-color: #008000\">performance score for sustainability: 2.5/5.'</span>, <span style=\"color: #808000; text-decoration-color: #808000\">changed</span>=<span style=\"color: #ff0000; text-decoration-color: #ff0000; font-style: italic\">False</span><span style=\"font-weight: bold\">)</span>, <span style=\"color: #800080; text-decoration-color: #800080; font-weight: bold\">HeadingResult</span><span style=\"font-weight: bold\">(</span><span style=\"color: #808000; text-decoration-color: #808000\">old</span>=<span style=\"color: #008000; text-decoration-color: #008000\">'## Robustness score for the </span>\n",
       "<span style=\"color: #008000; text-decoration-color: #008000\">evidence: 4.5/5.'</span>, <span style=\"color: #808000; text-decoration-color: #808000\">page</span>=<span style=\"color: #008080; text-decoration-color: #008080; font-weight: bold\">100</span>, <span style=\"color: #808000; text-decoration-color: #808000\">position</span>=<span style=\"color: #008080; text-decoration-color: #008080; font-weight: bold\">3</span>, <span style=\"color: #808000; text-decoration-color: #808000\">new</span>=<span style=\"color: #008000; text-decoration-color: #008000\">'## Robustness score for the evidence: 4.5/5.'</span>, <span style=\"color: #808000; text-decoration-color: #808000\">changed</span>=<span style=\"color: #ff0000; text-decoration-color: #ff0000; font-style: italic\">False</span><span style=\"font-weight: bold\">)</span>, \n",
       "<span style=\"color: #800080; text-decoration-color: #800080; font-weight: bold\">HeadingResult</span><span style=\"font-weight: bold\">(</span><span style=\"color: #808000; text-decoration-color: #808000\">old</span>=<span style=\"color: #008000; text-decoration-color: #008000\">'### 8.1. Main achievements in terms of the technical, managerial and financial capacity of </span>\n",
       "<span style=\"color: #008000; text-decoration-color: #008000\">governments and other stakeholders to continue working on return and reintegration'</span>, <span style=\"color: #808000; text-decoration-color: #808000\">page</span>=<span style=\"color: #008080; text-decoration-color: #008080; font-weight: bold\">100</span>, <span style=\"color: #808000; text-decoration-color: #808000\">position</span>=<span style=\"color: #008080; text-decoration-color: #008080; font-weight: bold\">4</span>, <span style=\"color: #808000; text-decoration-color: #808000\">new</span>=<span style=\"color: #008000; text-decoration-color: #008000\">'###</span>\n",
       "<span style=\"color: #008000; text-decoration-color: #008000\">8.1. Main achievements in terms of the technical, managerial and financial capacity of governments and other </span>\n",
       "<span style=\"color: #008000; text-decoration-color: #008000\">stakeholders to continue working on return and reintegration'</span>, <span style=\"color: #808000; text-decoration-color: #808000\">changed</span>=<span style=\"color: #ff0000; text-decoration-color: #ff0000; font-style: italic\">False</span><span style=\"font-weight: bold\">)</span>, <span style=\"color: #800080; text-decoration-color: #800080; font-weight: bold\">HeadingResult</span><span style=\"font-weight: bold\">(</span><span style=\"color: #808000; text-decoration-color: #808000\">old</span>=<span style=\"color: #008000; text-decoration-color: #008000\">'# 8.2. Main </span>\n",
       "<span style=\"color: #008000; text-decoration-color: #008000\">challenges in terms of the technical, managerial, and financial capacity of governments and other stakeholders to </span>\n",
       "<span style=\"color: #008000; text-decoration-color: #008000\">continue working on return and reintegration'</span>, <span style=\"color: #808000; text-decoration-color: #808000\">page</span>=<span style=\"color: #008080; text-decoration-color: #008080; font-weight: bold\">102</span>, <span style=\"color: #808000; text-decoration-color: #808000\">position</span>=<span style=\"color: #008080; text-decoration-color: #008080; font-weight: bold\">1</span>, <span style=\"color: #808000; text-decoration-color: #808000\">new</span>=<span style=\"color: #008000; text-decoration-color: #008000\">'# 8.2. Main challenges in terms of the </span>\n",
       "<span style=\"color: #008000; text-decoration-color: #008000\">technical, managerial, and financial capacity of governments and other stakeholders to continue working on return </span>\n",
       "<span style=\"color: #008000; text-decoration-color: #008000\">and reintegration'</span>, <span style=\"color: #808000; text-decoration-color: #808000\">changed</span>=<span style=\"color: #ff0000; text-decoration-color: #ff0000; font-style: italic\">False</span><span style=\"font-weight: bold\">)</span>, <span style=\"color: #800080; text-decoration-color: #800080; font-weight: bold\">HeadingResult</span><span style=\"font-weight: bold\">(</span><span style=\"color: #808000; text-decoration-color: #808000\">old</span>=<span style=\"color: #008000; text-decoration-color: #008000\">'# Part 3: Conclusions and Recommendations'</span>, <span style=\"color: #808000; text-decoration-color: #808000\">page</span>=<span style=\"color: #008080; text-decoration-color: #008080; font-weight: bold\">104</span>, \n",
       "<span style=\"color: #808000; text-decoration-color: #808000\">position</span>=<span style=\"color: #008080; text-decoration-color: #008080; font-weight: bold\">1</span>, <span style=\"color: #808000; text-decoration-color: #808000\">new</span>=<span style=\"color: #008000; text-decoration-color: #008000\">'# Part 3: Conclusions and Recommendations'</span>, <span style=\"color: #808000; text-decoration-color: #808000\">changed</span>=<span style=\"color: #ff0000; text-decoration-color: #ff0000; font-style: italic\">False</span><span style=\"font-weight: bold\">)</span>, <span style=\"color: #800080; text-decoration-color: #800080; font-weight: bold\">HeadingResult</span><span style=\"font-weight: bold\">(</span><span style=\"color: #808000; text-decoration-color: #808000\">old</span>=<span style=\"color: #008000; text-decoration-color: #008000\">'# 9. Conclusions'</span>, \n",
       "<span style=\"color: #808000; text-decoration-color: #808000\">page</span>=<span style=\"color: #008080; text-decoration-color: #008080; font-weight: bold\">105</span>, <span style=\"color: #808000; text-decoration-color: #808000\">position</span>=<span style=\"color: #008080; text-decoration-color: #008080; font-weight: bold\">1</span>, <span style=\"color: #808000; text-decoration-color: #808000\">new</span>=<span style=\"color: #008000; text-decoration-color: #008000\">'# 9. Conclusions'</span>, <span style=\"color: #808000; text-decoration-color: #808000\">changed</span>=<span style=\"color: #ff0000; text-decoration-color: #ff0000; font-style: italic\">False</span><span style=\"font-weight: bold\">)</span>, <span style=\"color: #800080; text-decoration-color: #800080; font-weight: bold\">HeadingResult</span><span style=\"font-weight: bold\">(</span><span style=\"color: #808000; text-decoration-color: #808000\">old</span>=<span style=\"color: #008000; text-decoration-color: #008000\">'# 10. Recommendations'</span>, <span style=\"color: #808000; text-decoration-color: #808000\">page</span>=<span style=\"color: #008080; text-decoration-color: #008080; font-weight: bold\">107</span>, \n",
       "<span style=\"color: #808000; text-decoration-color: #808000\">position</span>=<span style=\"color: #008080; text-decoration-color: #008080; font-weight: bold\">1</span>, <span style=\"color: #808000; text-decoration-color: #808000\">new</span>=<span style=\"color: #008000; text-decoration-color: #008000\">'# 10. Recommendations'</span>, <span style=\"color: #808000; text-decoration-color: #808000\">changed</span>=<span style=\"color: #ff0000; text-decoration-color: #ff0000; font-style: italic\">False</span><span style=\"font-weight: bold\">)</span>, <span style=\"color: #800080; text-decoration-color: #800080; font-weight: bold\">HeadingResult</span><span style=\"font-weight: bold\">(</span><span style=\"color: #808000; text-decoration-color: #808000\">old</span>=<span style=\"color: #008000; text-decoration-color: #008000\">'## 1. Enhance efforts with national, </span>\n",
       "<span style=\"color: #008000; text-decoration-color: #008000\">regional and local stakeholders to build capacity and ownership (while continuing the provision of funding).'</span>, \n",
       "<span style=\"color: #808000; text-decoration-color: #808000\">page</span>=<span style=\"color: #008080; text-decoration-color: #008080; font-weight: bold\">107</span>, <span style=\"color: #808000; text-decoration-color: #808000\">position</span>=<span style=\"color: #008080; text-decoration-color: #008080; font-weight: bold\">2</span>, <span style=\"color: #808000; text-decoration-color: #808000\">new</span>=<span style=\"color: #008000; text-decoration-color: #008000\">'## 1. Enhance efforts with national, regional and local stakeholders to build capacity </span>\n",
       "<span style=\"color: #008000; text-decoration-color: #008000\">and ownership (while continuing the provision of funding).'</span>, <span style=\"color: #808000; text-decoration-color: #808000\">changed</span>=<span style=\"color: #00ff00; text-decoration-color: #00ff00; font-style: italic\">True</span><span style=\"font-weight: bold\">)</span>, <span style=\"color: #800080; text-decoration-color: #800080; font-weight: bold\">HeadingResult</span><span style=\"font-weight: bold\">(</span><span style=\"color: #808000; text-decoration-color: #808000\">old</span>=<span style=\"color: #008000; text-decoration-color: #008000\">'# 3. Increase </span>\n",
       "<span style=\"color: #008000; text-decoration-color: #008000\">attention on building partnerships with service providers who can function without (significant) funding channelled</span>\n",
       "<span style=\"color: #008000; text-decoration-color: #008000\">by IOM.'</span>, <span style=\"color: #808000; text-decoration-color: #808000\">page</span>=<span style=\"color: #008080; text-decoration-color: #008080; font-weight: bold\">108</span>, <span style=\"color: #808000; text-decoration-color: #808000\">position</span>=<span style=\"color: #008080; text-decoration-color: #008080; font-weight: bold\">1</span>, <span style=\"color: #808000; text-decoration-color: #808000\">new</span>=<span style=\"color: #008000; text-decoration-color: #008000\">'# 3. Increase attention on building partnerships with service providers who </span>\n",
       "<span style=\"color: #008000; text-decoration-color: #008000\">can function without (significant) funding channelled by IOM.'</span>, <span style=\"color: #808000; text-decoration-color: #808000\">changed</span>=<span style=\"color: #00ff00; text-decoration-color: #00ff00; font-style: italic\">True</span><span style=\"font-weight: bold\">)</span>, <span style=\"color: #800080; text-decoration-color: #800080; font-weight: bold\">HeadingResult</span><span style=\"font-weight: bold\">(</span><span style=\"color: #808000; text-decoration-color: #808000\">old</span>=<span style=\"color: #008000; text-decoration-color: #008000\">'# 5. Explore </span>\n",
       "<span style=\"color: #008000; text-decoration-color: #008000\">opportunities to extend the scope of support provided to returnees, with a focus on longer-term reintegration.'</span>, \n",
       "<span style=\"color: #808000; text-decoration-color: #808000\">page</span>=<span style=\"color: #008080; text-decoration-color: #008080; font-weight: bold\">109</span>, <span style=\"color: #808000; text-decoration-color: #808000\">position</span>=<span style=\"color: #008080; text-decoration-color: #008080; font-weight: bold\">1</span>, <span style=\"color: #808000; text-decoration-color: #808000\">new</span>=<span style=\"color: #008000; text-decoration-color: #008000\">'# 5. Explore opportunities to extend the scope of support provided to returnees, with a </span>\n",
       "<span style=\"color: #008000; text-decoration-color: #008000\">focus on longer-term reintegration.'</span>, <span style=\"color: #808000; text-decoration-color: #808000\">changed</span>=<span style=\"color: #00ff00; text-decoration-color: #00ff00; font-style: italic\">True</span><span style=\"font-weight: bold\">)</span>, <span style=\"color: #800080; text-decoration-color: #800080; font-weight: bold\">HeadingResult</span><span style=\"font-weight: bold\">(</span><span style=\"color: #808000; text-decoration-color: #808000\">old</span>=<span style=\"color: #008000; text-decoration-color: #008000\">'# ANNEXES'</span>, <span style=\"color: #808000; text-decoration-color: #808000\">page</span>=<span style=\"color: #008080; text-decoration-color: #008080; font-weight: bold\">111</span>, <span style=\"color: #808000; text-decoration-color: #808000\">position</span>=<span style=\"color: #008080; text-decoration-color: #008080; font-weight: bold\">1</span>, <span style=\"color: #808000; text-decoration-color: #808000\">new</span>=<span style=\"color: #008000; text-decoration-color: #008000\">'# </span>\n",
       "<span style=\"color: #008000; text-decoration-color: #008000\">ANNEXES'</span>, <span style=\"color: #808000; text-decoration-color: #808000\">changed</span>=<span style=\"color: #ff0000; text-decoration-color: #ff0000; font-style: italic\">False</span><span style=\"font-weight: bold\">)</span>, <span style=\"color: #800080; text-decoration-color: #800080; font-weight: bold\">HeadingResult</span><span style=\"font-weight: bold\">(</span><span style=\"color: #808000; text-decoration-color: #808000\">old</span>=<span style=\"color: #008000; text-decoration-color: #008000\">'# Annex 1. Evaluation framework'</span>, <span style=\"color: #808000; text-decoration-color: #808000\">page</span>=<span style=\"color: #008080; text-decoration-color: #008080; font-weight: bold\">112</span>, <span style=\"color: #808000; text-decoration-color: #808000\">position</span>=<span style=\"color: #008080; text-decoration-color: #008080; font-weight: bold\">1</span>, <span style=\"color: #808000; text-decoration-color: #808000\">new</span>=<span style=\"color: #008000; text-decoration-color: #008000\">'# Annex </span>\n",
       "<span style=\"color: #008000; text-decoration-color: #008000\">1. Evaluation framework'</span>, <span style=\"color: #808000; text-decoration-color: #808000\">changed</span>=<span style=\"color: #ff0000; text-decoration-color: #ff0000; font-style: italic\">False</span><span style=\"font-weight: bold\">)</span>, <span style=\"color: #800080; text-decoration-color: #800080; font-weight: bold\">HeadingResult</span><span style=\"font-weight: bold\">(</span><span style=\"color: #808000; text-decoration-color: #808000\">old</span>=<span style=\"color: #008000; text-decoration-color: #008000\">'# TABLE 13. EVALUATION QUESTIONS FOR THE </span>\n",
       "<span style=\"color: #008000; text-decoration-color: #008000\">SUSTAINABILITY CRITERION'</span>, <span style=\"color: #808000; text-decoration-color: #808000\">page</span>=<span style=\"color: #008080; text-decoration-color: #008080; font-weight: bold\">122</span>, <span style=\"color: #808000; text-decoration-color: #808000\">position</span>=<span style=\"color: #008080; text-decoration-color: #008080; font-weight: bold\">1</span>, <span style=\"color: #808000; text-decoration-color: #808000\">new</span>=<span style=\"color: #008000; text-decoration-color: #008000\">'# TABLE 13. EVALUATION QUESTIONS FOR THE SUSTAINABILITY </span>\n",
       "<span style=\"color: #008000; text-decoration-color: #008000\">CRITERION'</span>, <span style=\"color: #808000; text-decoration-color: #808000\">changed</span>=<span style=\"color: #ff0000; text-decoration-color: #ff0000; font-style: italic\">False</span><span style=\"font-weight: bold\">)</span>, <span style=\"color: #800080; text-decoration-color: #800080; font-weight: bold\">HeadingResult</span><span style=\"font-weight: bold\">(</span><span style=\"color: #808000; text-decoration-color: #808000\">old</span>=<span style=\"color: #008000; text-decoration-color: #008000\">'# Annex 2. Indicators, targets and achievements'</span>, <span style=\"color: #808000; text-decoration-color: #808000\">page</span>=<span style=\"color: #008080; text-decoration-color: #008080; font-weight: bold\">125</span>, \n",
       "<span style=\"color: #808000; text-decoration-color: #808000\">position</span>=<span style=\"color: #008080; text-decoration-color: #008080; font-weight: bold\">1</span>, <span style=\"color: #808000; text-decoration-color: #808000\">new</span>=<span style=\"color: #008000; text-decoration-color: #008000\">'# Annex 2. Indicators, targets and achievements'</span>, <span style=\"color: #808000; text-decoration-color: #808000\">changed</span>=<span style=\"color: #ff0000; text-decoration-color: #ff0000; font-style: italic\">False</span><span style=\"font-weight: bold\">)</span>, <span style=\"color: #800080; text-decoration-color: #800080; font-weight: bold\">HeadingResult</span><span style=\"font-weight: bold\">(</span><span style=\"color: #808000; text-decoration-color: #808000\">old</span>=<span style=\"color: #008000; text-decoration-color: #008000\">'# Annex 3. </span>\n",
       "<span style=\"color: #008000; text-decoration-color: #008000\">IOM performance scores and methodology'</span>, <span style=\"color: #808000; text-decoration-color: #808000\">page</span>=<span style=\"color: #008080; text-decoration-color: #008080; font-weight: bold\">131</span>, <span style=\"color: #808000; text-decoration-color: #808000\">position</span>=<span style=\"color: #008080; text-decoration-color: #008080; font-weight: bold\">1</span>, <span style=\"color: #808000; text-decoration-color: #808000\">new</span>=<span style=\"color: #008000; text-decoration-color: #008000\">'# Annex 3. IOM performance scores and </span>\n",
       "<span style=\"color: #008000; text-decoration-color: #008000\">methodology'</span>, <span style=\"color: #808000; text-decoration-color: #808000\">changed</span>=<span style=\"color: #ff0000; text-decoration-color: #ff0000; font-style: italic\">False</span><span style=\"font-weight: bold\">)</span>, <span style=\"color: #800080; text-decoration-color: #800080; font-weight: bold\">HeadingResult</span><span style=\"font-weight: bold\">(</span><span style=\"color: #808000; text-decoration-color: #808000\">old</span>=<span style=\"color: #008000; text-decoration-color: #008000\">'# Relevance'</span>, <span style=\"color: #808000; text-decoration-color: #808000\">page</span>=<span style=\"color: #008080; text-decoration-color: #008080; font-weight: bold\">132</span>, <span style=\"color: #808000; text-decoration-color: #808000\">position</span>=<span style=\"color: #008080; text-decoration-color: #008080; font-weight: bold\">1</span>, <span style=\"color: #808000; text-decoration-color: #808000\">new</span>=<span style=\"color: #008000; text-decoration-color: #008000\">'# Relevance'</span>, \n",
       "<span style=\"color: #808000; text-decoration-color: #808000\">changed</span>=<span style=\"color: #ff0000; text-decoration-color: #ff0000; font-style: italic\">False</span><span style=\"font-weight: bold\">)</span>, <span style=\"color: #800080; text-decoration-color: #800080; font-weight: bold\">HeadingResult</span><span style=\"font-weight: bold\">(</span><span style=\"color: #808000; text-decoration-color: #808000\">old</span>=<span style=\"color: #008000; text-decoration-color: #008000\">'# Coherence'</span>, <span style=\"color: #808000; text-decoration-color: #808000\">page</span>=<span style=\"color: #008080; text-decoration-color: #008080; font-weight: bold\">133</span>, <span style=\"color: #808000; text-decoration-color: #808000\">position</span>=<span style=\"color: #008080; text-decoration-color: #008080; font-weight: bold\">1</span>, <span style=\"color: #808000; text-decoration-color: #808000\">new</span>=<span style=\"color: #008000; text-decoration-color: #008000\">'# Coherence'</span>, <span style=\"color: #808000; text-decoration-color: #808000\">changed</span>=<span style=\"color: #ff0000; text-decoration-color: #ff0000; font-style: italic\">False</span><span style=\"font-weight: bold\">)</span>, \n",
       "<span style=\"color: #800080; text-decoration-color: #800080; font-weight: bold\">HeadingResult</span><span style=\"font-weight: bold\">(</span><span style=\"color: #808000; text-decoration-color: #808000\">old</span>=<span style=\"color: #008000; text-decoration-color: #008000\">'## Effectiveness'</span>, <span style=\"color: #808000; text-decoration-color: #808000\">page</span>=<span style=\"color: #008080; text-decoration-color: #008080; font-weight: bold\">133</span>, <span style=\"color: #808000; text-decoration-color: #808000\">position</span>=<span style=\"color: #008080; text-decoration-color: #008080; font-weight: bold\">2</span>, <span style=\"color: #808000; text-decoration-color: #808000\">new</span>=<span style=\"color: #008000; text-decoration-color: #008000\">'## Effectiveness'</span>, <span style=\"color: #808000; text-decoration-color: #808000\">changed</span>=<span style=\"color: #ff0000; text-decoration-color: #ff0000; font-style: italic\">False</span><span style=\"font-weight: bold\">)</span>, \n",
       "<span style=\"color: #800080; text-decoration-color: #800080; font-weight: bold\">HeadingResult</span><span style=\"font-weight: bold\">(</span><span style=\"color: #808000; text-decoration-color: #808000\">old</span>=<span style=\"color: #008000; text-decoration-color: #008000\">'# Efficiency'</span>, <span style=\"color: #808000; text-decoration-color: #808000\">page</span>=<span style=\"color: #008080; text-decoration-color: #008080; font-weight: bold\">136</span>, <span style=\"color: #808000; text-decoration-color: #808000\">position</span>=<span style=\"color: #008080; text-decoration-color: #008080; font-weight: bold\">1</span>, <span style=\"color: #808000; text-decoration-color: #808000\">new</span>=<span style=\"color: #008000; text-decoration-color: #008000\">'# Efficiency'</span>, <span style=\"color: #808000; text-decoration-color: #808000\">changed</span>=<span style=\"color: #ff0000; text-decoration-color: #ff0000; font-style: italic\">False</span><span style=\"font-weight: bold\">)</span>, <span style=\"color: #800080; text-decoration-color: #800080; font-weight: bold\">HeadingResult</span><span style=\"font-weight: bold\">(</span><span style=\"color: #808000; text-decoration-color: #808000\">old</span>=<span style=\"color: #008000; text-decoration-color: #008000\">'## </span>\n",
       "<span style=\"color: #008000; text-decoration-color: #008000\">Sustainability'</span>, <span style=\"color: #808000; text-decoration-color: #808000\">page</span>=<span style=\"color: #008080; text-decoration-color: #008080; font-weight: bold\">136</span>, <span style=\"color: #808000; text-decoration-color: #808000\">position</span>=<span style=\"color: #008080; text-decoration-color: #008080; font-weight: bold\">2</span>, <span style=\"color: #808000; text-decoration-color: #808000\">new</span>=<span style=\"color: #008000; text-decoration-color: #008000\">'## Sustainability'</span>, <span style=\"color: #808000; text-decoration-color: #808000\">changed</span>=<span style=\"color: #ff0000; text-decoration-color: #ff0000; font-style: italic\">False</span><span style=\"font-weight: bold\">)</span>, <span style=\"color: #800080; text-decoration-color: #800080; font-weight: bold\">HeadingResult</span><span style=\"font-weight: bold\">(</span><span style=\"color: #808000; text-decoration-color: #808000\">old</span>=<span style=\"color: #008000; text-decoration-color: #008000\">'# Annex 4. </span>\n",
       "<span style=\"color: #008000; text-decoration-color: #008000\">Assessment of indicators'</span>, <span style=\"color: #808000; text-decoration-color: #808000\">page</span>=<span style=\"color: #008080; text-decoration-color: #008080; font-weight: bold\">137</span>, <span style=\"color: #808000; text-decoration-color: #808000\">position</span>=<span style=\"color: #008080; text-decoration-color: #008080; font-weight: bold\">1</span>, <span style=\"color: #808000; text-decoration-color: #808000\">new</span>=<span style=\"color: #008000; text-decoration-color: #008000\">'# Annex 4. Assessment of indicators'</span>, <span style=\"color: #808000; text-decoration-color: #808000\">changed</span>=<span style=\"color: #ff0000; text-decoration-color: #ff0000; font-style: italic\">False</span><span style=\"font-weight: bold\">)</span>, \n",
       "<span style=\"color: #800080; text-decoration-color: #800080; font-weight: bold\">HeadingResult</span><span style=\"font-weight: bold\">(</span><span style=\"color: #808000; text-decoration-color: #808000\">old</span>=<span style=\"color: #008000; text-decoration-color: #008000\">'# Annex 5. Members of the PSCs'</span>, <span style=\"color: #808000; text-decoration-color: #808000\">page</span>=<span style=\"color: #008080; text-decoration-color: #008080; font-weight: bold\">142</span>, <span style=\"color: #808000; text-decoration-color: #808000\">position</span>=<span style=\"color: #008080; text-decoration-color: #008080; font-weight: bold\">1</span>, <span style=\"color: #808000; text-decoration-color: #808000\">new</span>=<span style=\"color: #008000; text-decoration-color: #008000\">'# Annex 5. Members of the PSCs'</span>, \n",
       "<span style=\"color: #808000; text-decoration-color: #808000\">changed</span>=<span style=\"color: #ff0000; text-decoration-color: #ff0000; font-style: italic\">False</span><span style=\"font-weight: bold\">)]</span>\n",
       "<span style=\"font-weight: bold\">)</span>\n",
       "</pre>\n"
      ],
      "text/plain": [
       "Result: \u001b[1;35mPrediction\u001b[0m\u001b[1m(\u001b[0m\n",
       "    \u001b[33mreasoning\u001b[0m=\u001b[32m'The document uses a combination of numbered and unnumbered headings. The numbered headings follow a \u001b[0m\n",
       "\u001b[32mhierarchical structure \u001b[0m\u001b[32m(\u001b[0m\u001b[32me.g., 2, 2.1, 2.1.1\u001b[0m\u001b[32m)\u001b[0m\u001b[32m. I will use this numbering to determine the appropriate heading level.\u001b[0m\n",
       "\u001b[32mUnnumbered headings will be assigned a level based on their context within the numbered headings. Headings like \u001b[0m\n",
       "\u001b[32m\"LIST OF FIGURES\", \"Abbreviations and terminology\", \"Key terminology\", and \"Executive summary\" at the beginning \u001b[0m\n",
       "\u001b[32mwill be treated as top-level headings. \"Part\" headings will also be top-level headings.'\u001b[0m,\n",
       "    \u001b[33mresults\u001b[0m=\u001b[1m[\u001b[0m\u001b[1;35mHeadingResult\u001b[0m\u001b[1m(\u001b[0m\u001b[33mold\u001b[0m=\u001b[32m'# **PPMi**'\u001b[0m, \u001b[33mpage\u001b[0m=\u001b[1;36m1\u001b[0m, \u001b[33mposition\u001b[0m=\u001b[1;36m1\u001b[0m, \u001b[33mnew\u001b[0m=\u001b[32m'# **PPMi**'\u001b[0m, \u001b[33mchanged\u001b[0m=\u001b[3;91mFalse\u001b[0m\u001b[1m)\u001b[0m, \n",
       "\u001b[1;35mHeadingResult\u001b[0m\u001b[1m(\u001b[0m\u001b[33mold\u001b[0m=\u001b[32m'# LIST OF FIGURES'\u001b[0m, \u001b[33mpage\u001b[0m=\u001b[1;36m5\u001b[0m, \u001b[33mposition\u001b[0m=\u001b[1;36m1\u001b[0m, \u001b[33mnew\u001b[0m=\u001b[32m'# LIST OF FIGURES'\u001b[0m, \u001b[33mchanged\u001b[0m=\u001b[3;91mFalse\u001b[0m\u001b[1m)\u001b[0m, \n",
       "\u001b[1;35mHeadingResult\u001b[0m\u001b[1m(\u001b[0m\u001b[33mold\u001b[0m=\u001b[32m'# Abbreviations and terminology'\u001b[0m, \u001b[33mpage\u001b[0m=\u001b[1;36m6\u001b[0m, \u001b[33mposition\u001b[0m=\u001b[1;36m1\u001b[0m, \u001b[33mnew\u001b[0m=\u001b[32m'# Abbreviations and terminology'\u001b[0m, \n",
       "\u001b[33mchanged\u001b[0m=\u001b[3;91mFalse\u001b[0m\u001b[1m)\u001b[0m, \u001b[1;35mHeadingResult\u001b[0m\u001b[1m(\u001b[0m\u001b[33mold\u001b[0m=\u001b[32m'# Key terminology'\u001b[0m, \u001b[33mpage\u001b[0m=\u001b[1;36m8\u001b[0m, \u001b[33mposition\u001b[0m=\u001b[1;36m1\u001b[0m, \u001b[33mnew\u001b[0m=\u001b[32m'# Key terminology'\u001b[0m, \u001b[33mchanged\u001b[0m=\u001b[3;91mFalse\u001b[0m\u001b[1m)\u001b[0m,\n",
       "\u001b[1;35mHeadingResult\u001b[0m\u001b[1m(\u001b[0m\u001b[33mold\u001b[0m=\u001b[32m'# Executive summary'\u001b[0m, \u001b[33mpage\u001b[0m=\u001b[1;36m10\u001b[0m, \u001b[33mposition\u001b[0m=\u001b[1;36m1\u001b[0m, \u001b[33mnew\u001b[0m=\u001b[32m'# Executive summary'\u001b[0m, \u001b[33mchanged\u001b[0m=\u001b[3;91mFalse\u001b[0m\u001b[1m)\u001b[0m, \n",
       "\u001b[1;35mHeadingResult\u001b[0m\u001b[1m(\u001b[0m\u001b[33mold\u001b[0m=\u001b[32m'## Background'\u001b[0m, \u001b[33mpage\u001b[0m=\u001b[1;36m10\u001b[0m, \u001b[33mposition\u001b[0m=\u001b[1;36m2\u001b[0m, \u001b[33mnew\u001b[0m=\u001b[32m'## Background'\u001b[0m, \u001b[33mchanged\u001b[0m=\u001b[3;91mFalse\u001b[0m\u001b[1m)\u001b[0m, \u001b[1;35mHeadingResult\u001b[0m\u001b[1m(\u001b[0m\u001b[33mold\u001b[0m=\u001b[32m'# \u001b[0m\n",
       "\u001b[32mMethodology'\u001b[0m, \u001b[33mpage\u001b[0m=\u001b[1;36m11\u001b[0m, \u001b[33mposition\u001b[0m=\u001b[1;36m1\u001b[0m, \u001b[33mnew\u001b[0m=\u001b[32m'# Methodology'\u001b[0m, \u001b[33mchanged\u001b[0m=\u001b[3;91mFalse\u001b[0m\u001b[1m)\u001b[0m, \u001b[1;35mHeadingResult\u001b[0m\u001b[1m(\u001b[0m\u001b[33mold\u001b[0m=\u001b[32m'# Findings'\u001b[0m, \u001b[33mpage\u001b[0m=\u001b[1;36m12\u001b[0m, \n",
       "\u001b[33mposition\u001b[0m=\u001b[1;36m1\u001b[0m, \u001b[33mnew\u001b[0m=\u001b[32m'# Findings'\u001b[0m, \u001b[33mchanged\u001b[0m=\u001b[3;91mFalse\u001b[0m\u001b[1m)\u001b[0m, \u001b[1;35mHeadingResult\u001b[0m\u001b[1m(\u001b[0m\u001b[33mold\u001b[0m=\u001b[32m'## Relevance'\u001b[0m, \u001b[33mpage\u001b[0m=\u001b[1;36m12\u001b[0m, \u001b[33mposition\u001b[0m=\u001b[1;36m2\u001b[0m, \u001b[33mnew\u001b[0m=\u001b[32m'## \u001b[0m\n",
       "\u001b[32mRelevance'\u001b[0m, \u001b[33mchanged\u001b[0m=\u001b[3;91mFalse\u001b[0m\u001b[1m)\u001b[0m, \u001b[1;35mHeadingResult\u001b[0m\u001b[1m(\u001b[0m\u001b[33mold\u001b[0m=\u001b[32m'# Coherence'\u001b[0m, \u001b[33mpage\u001b[0m=\u001b[1;36m13\u001b[0m, \u001b[33mposition\u001b[0m=\u001b[1;36m1\u001b[0m, \u001b[33mnew\u001b[0m=\u001b[32m'# Coherence'\u001b[0m, \n",
       "\u001b[33mchanged\u001b[0m=\u001b[3;91mFalse\u001b[0m\u001b[1m)\u001b[0m, \u001b[1;35mHeadingResult\u001b[0m\u001b[1m(\u001b[0m\u001b[33mold\u001b[0m=\u001b[32m'## $4.3 / 5$'\u001b[0m, \u001b[33mpage\u001b[0m=\u001b[1;36m13\u001b[0m, \u001b[33mposition\u001b[0m=\u001b[1;36m2\u001b[0m, \u001b[33mnew\u001b[0m=\u001b[32m'## $4.3 / 5$'\u001b[0m, \u001b[33mchanged\u001b[0m=\u001b[3;92mTrue\u001b[0m\u001b[1m)\u001b[0m, \n",
       "\u001b[1;35mHeadingResult\u001b[0m\u001b[1m(\u001b[0m\u001b[33mold\u001b[0m=\u001b[32m'# Effectiveness'\u001b[0m, \u001b[33mpage\u001b[0m=\u001b[1;36m14\u001b[0m, \u001b[33mposition\u001b[0m=\u001b[1;36m1\u001b[0m, \u001b[33mnew\u001b[0m=\u001b[32m'# Effectiveness'\u001b[0m, \u001b[33mchanged\u001b[0m=\u001b[3;91mFalse\u001b[0m\u001b[1m)\u001b[0m, \n",
       "\u001b[1;35mHeadingResult\u001b[0m\u001b[1m(\u001b[0m\u001b[33mold\u001b[0m=\u001b[32m'## Specific Outcome 1:'\u001b[0m, \u001b[33mpage\u001b[0m=\u001b[1;36m14\u001b[0m, \u001b[33mposition\u001b[0m=\u001b[1;36m2\u001b[0m, \u001b[33mnew\u001b[0m=\u001b[32m'## Specific Outcome 1:'\u001b[0m, \u001b[33mchanged\u001b[0m=\u001b[3;91mFalse\u001b[0m\u001b[1m)\u001b[0m, \n",
       "\u001b[1;35mHeadingResult\u001b[0m\u001b[1m(\u001b[0m\u001b[33mold\u001b[0m=\u001b[32m'## Specific Outcome 2:'\u001b[0m, \u001b[33mpage\u001b[0m=\u001b[1;36m14\u001b[0m, \u001b[33mposition\u001b[0m=\u001b[1;36m3\u001b[0m, \u001b[33mnew\u001b[0m=\u001b[32m'## Specific Outcome 2:'\u001b[0m, \u001b[33mchanged\u001b[0m=\u001b[3;91mFalse\u001b[0m\u001b[1m)\u001b[0m, \n",
       "\u001b[1;35mHeadingResult\u001b[0m\u001b[1m(\u001b[0m\u001b[33mold\u001b[0m=\u001b[32m'# Specific Outcome 3:'\u001b[0m, \u001b[33mpage\u001b[0m=\u001b[1;36m15\u001b[0m, \u001b[33mposition\u001b[0m=\u001b[1;36m1\u001b[0m, \u001b[33mnew\u001b[0m=\u001b[32m'# Specific Outcome 3:'\u001b[0m, \u001b[33mchanged\u001b[0m=\u001b[3;91mFalse\u001b[0m\u001b[1m)\u001b[0m, \n",
       "\u001b[1;35mHeadingResult\u001b[0m\u001b[1m(\u001b[0m\u001b[33mold\u001b[0m=\u001b[32m'## Efficiency'\u001b[0m, \u001b[33mpage\u001b[0m=\u001b[1;36m15\u001b[0m, \u001b[33mposition\u001b[0m=\u001b[1;36m2\u001b[0m, \u001b[33mnew\u001b[0m=\u001b[32m'## Efficiency'\u001b[0m, \u001b[33mchanged\u001b[0m=\u001b[3;91mFalse\u001b[0m\u001b[1m)\u001b[0m, \u001b[1;35mHeadingResult\u001b[0m\u001b[1m(\u001b[0m\u001b[33mold\u001b[0m=\u001b[32m'# \u001b[0m\n",
       "\u001b[32mSustainability'\u001b[0m, \u001b[33mpage\u001b[0m=\u001b[1;36m16\u001b[0m, \u001b[33mposition\u001b[0m=\u001b[1;36m1\u001b[0m, \u001b[33mnew\u001b[0m=\u001b[32m'# Sustainability'\u001b[0m, \u001b[33mchanged\u001b[0m=\u001b[3;91mFalse\u001b[0m\u001b[1m)\u001b[0m, \u001b[1;35mHeadingResult\u001b[0m\u001b[1m(\u001b[0m\u001b[33mold\u001b[0m=\u001b[32m'## Conclusions and\u001b[0m\n",
       "\u001b[32mrecommendations'\u001b[0m, \u001b[33mpage\u001b[0m=\u001b[1;36m16\u001b[0m, \u001b[33mposition\u001b[0m=\u001b[1;36m2\u001b[0m, \u001b[33mnew\u001b[0m=\u001b[32m'## Conclusions and recommendations'\u001b[0m, \u001b[33mchanged\u001b[0m=\u001b[3;91mFalse\u001b[0m\u001b[1m)\u001b[0m, \n",
       "\u001b[1;35mHeadingResult\u001b[0m\u001b[1m(\u001b[0m\u001b[33mold\u001b[0m=\u001b[32m'# 1. Introduction'\u001b[0m, \u001b[33mpage\u001b[0m=\u001b[1;36m18\u001b[0m, \u001b[33mposition\u001b[0m=\u001b[1;36m1\u001b[0m, \u001b[33mnew\u001b[0m=\u001b[32m'# 1. Introduction'\u001b[0m, \u001b[33mchanged\u001b[0m=\u001b[3;91mFalse\u001b[0m\u001b[1m)\u001b[0m, \n",
       "\u001b[1;35mHeadingResult\u001b[0m\u001b[1m(\u001b[0m\u001b[33mold\u001b[0m=\u001b[32m'# Part 1: Background and methodology'\u001b[0m, \u001b[33mpage\u001b[0m=\u001b[1;36m19\u001b[0m, \u001b[33mposition\u001b[0m=\u001b[1;36m1\u001b[0m, \u001b[33mnew\u001b[0m=\u001b[32m'# Part 1: Background and \u001b[0m\n",
       "\u001b[32mmethodology'\u001b[0m, \u001b[33mchanged\u001b[0m=\u001b[3;91mFalse\u001b[0m\u001b[1m)\u001b[0m, \u001b[1;35mHeadingResult\u001b[0m\u001b[1m(\u001b[0m\u001b[33mold\u001b[0m=\u001b[32m'# 2. Background to the JI-HoA'\u001b[0m, \u001b[33mpage\u001b[0m=\u001b[1;36m20\u001b[0m, \u001b[33mposition\u001b[0m=\u001b[1;36m1\u001b[0m, \u001b[33mnew\u001b[0m=\u001b[32m'# 2. \u001b[0m\n",
       "\u001b[32mBackground to the JI-HoA'\u001b[0m, \u001b[33mchanged\u001b[0m=\u001b[3;91mFalse\u001b[0m\u001b[1m)\u001b[0m, \u001b[1;35mHeadingResult\u001b[0m\u001b[1m(\u001b[0m\u001b[33mold\u001b[0m=\u001b[32m'### 2.1. Context and design of the JI-HoA'\u001b[0m, \u001b[33mpage\u001b[0m=\u001b[1;36m20\u001b[0m, \n",
       "\u001b[33mposition\u001b[0m=\u001b[1;36m2\u001b[0m, \u001b[33mnew\u001b[0m=\u001b[32m'## 2.1. Context and design of the JI-HoA'\u001b[0m, \u001b[33mchanged\u001b[0m=\u001b[3;91mFalse\u001b[0m\u001b[1m)\u001b[0m, \u001b[1;35mHeadingResult\u001b[0m\u001b[1m(\u001b[0m\u001b[33mold\u001b[0m=\u001b[32m'# 2.2. External \u001b[0m\n",
       "\u001b[32mfactors affecting the implementation of the JI-HoA'\u001b[0m, \u001b[33mpage\u001b[0m=\u001b[1;36m23\u001b[0m, \u001b[33mposition\u001b[0m=\u001b[1;36m1\u001b[0m, \u001b[33mnew\u001b[0m=\u001b[32m'# 2.2. External factors affecting \u001b[0m\n",
       "\u001b[32mthe implementation of the JI-HoA'\u001b[0m, \u001b[33mchanged\u001b[0m=\u001b[3;91mFalse\u001b[0m\u001b[1m)\u001b[0m, \u001b[1;35mHeadingResult\u001b[0m\u001b[1m(\u001b[0m\u001b[33mold\u001b[0m=\u001b[32m'# 3. Methodology of the evaluation'\u001b[0m, \u001b[33mpage\u001b[0m=\u001b[1;36m26\u001b[0m,\n",
       "\u001b[33mposition\u001b[0m=\u001b[1;36m1\u001b[0m, \u001b[33mnew\u001b[0m=\u001b[32m'# 3. Methodology of the evaluation'\u001b[0m, \u001b[33mchanged\u001b[0m=\u001b[3;91mFalse\u001b[0m\u001b[1m)\u001b[0m, \u001b[1;35mHeadingResult\u001b[0m\u001b[1m(\u001b[0m\u001b[33mold\u001b[0m=\u001b[32m'### 3.1. Evaluation \u001b[0m\n",
       "\u001b[32mframework'\u001b[0m, \u001b[33mpage\u001b[0m=\u001b[1;36m26\u001b[0m, \u001b[33mposition\u001b[0m=\u001b[1;36m2\u001b[0m, \u001b[33mnew\u001b[0m=\u001b[32m'## 3.1. Evaluation framework'\u001b[0m, \u001b[33mchanged\u001b[0m=\u001b[3;91mFalse\u001b[0m\u001b[1m)\u001b[0m, \u001b[1;35mHeadingResult\u001b[0m\u001b[1m(\u001b[0m\u001b[33mold\u001b[0m=\u001b[32m'# TABLE 2. \u001b[0m\n",
       "\u001b[32mINTERVENTION LOGIC'\u001b[0m, \u001b[33mpage\u001b[0m=\u001b[1;36m27\u001b[0m, \u001b[33mposition\u001b[0m=\u001b[1;36m1\u001b[0m, \u001b[33mnew\u001b[0m=\u001b[32m'# TABLE 2. INTERVENTION LOGIC'\u001b[0m, \u001b[33mchanged\u001b[0m=\u001b[3;91mFalse\u001b[0m\u001b[1m)\u001b[0m, \u001b[1;35mHeadingResult\u001b[0m\u001b[1m(\u001b[0m\u001b[33mold\u001b[0m=\u001b[32m'#\u001b[0m\n",
       "\u001b[32m3.2. Evaluation matrix'\u001b[0m, \u001b[33mpage\u001b[0m=\u001b[1;36m29\u001b[0m, \u001b[33mposition\u001b[0m=\u001b[1;36m1\u001b[0m, \u001b[33mnew\u001b[0m=\u001b[32m'# 3.2. Evaluation matrix'\u001b[0m, \u001b[33mchanged\u001b[0m=\u001b[3;91mFalse\u001b[0m\u001b[1m)\u001b[0m, \n",
       "\u001b[1;35mHeadingResult\u001b[0m\u001b[1m(\u001b[0m\u001b[33mold\u001b[0m=\u001b[32m'### 3.3. Data collection'\u001b[0m, \u001b[33mpage\u001b[0m=\u001b[1;36m29\u001b[0m, \u001b[33mposition\u001b[0m=\u001b[1;36m2\u001b[0m, \u001b[33mnew\u001b[0m=\u001b[32m'## 3.3. Data collection'\u001b[0m, \u001b[33mchanged\u001b[0m=\u001b[3;91mFalse\u001b[0m\u001b[1m)\u001b[0m, \n",
       "\u001b[1;35mHeadingResult\u001b[0m\u001b[1m(\u001b[0m\u001b[33mold\u001b[0m=\u001b[32m'# 3.4. Scoring system'\u001b[0m, \u001b[33mpage\u001b[0m=\u001b[1;36m30\u001b[0m, \u001b[33mposition\u001b[0m=\u001b[1;36m1\u001b[0m, \u001b[33mnew\u001b[0m=\u001b[32m'# 3.4. Scoring system'\u001b[0m, \u001b[33mchanged\u001b[0m=\u001b[3;91mFalse\u001b[0m\u001b[1m)\u001b[0m, \n",
       "\u001b[1;35mHeadingResult\u001b[0m\u001b[1m(\u001b[0m\u001b[33mold\u001b[0m=\u001b[32m'# 3.5. Limitations'\u001b[0m, \u001b[33mpage\u001b[0m=\u001b[1;36m32\u001b[0m, \u001b[33mposition\u001b[0m=\u001b[1;36m1\u001b[0m, \u001b[33mnew\u001b[0m=\u001b[32m'# 3.5. Limitations'\u001b[0m, \u001b[33mchanged\u001b[0m=\u001b[3;91mFalse\u001b[0m\u001b[1m)\u001b[0m, \n",
       "\u001b[1;35mHeadingResult\u001b[0m\u001b[1m(\u001b[0m\u001b[33mold\u001b[0m=\u001b[32m'# Part 2: Findings'\u001b[0m, \u001b[33mpage\u001b[0m=\u001b[1;36m33\u001b[0m, \u001b[33mposition\u001b[0m=\u001b[1;36m1\u001b[0m, \u001b[33mnew\u001b[0m=\u001b[32m'# Part 2: Findings'\u001b[0m, \u001b[33mchanged\u001b[0m=\u001b[3;91mFalse\u001b[0m\u001b[1m)\u001b[0m, \n",
       "\u001b[1;35mHeadingResult\u001b[0m\u001b[1m(\u001b[0m\u001b[33mold\u001b[0m=\u001b[32m'# 4. Relevance'\u001b[0m, \u001b[33mpage\u001b[0m=\u001b[1;36m34\u001b[0m, \u001b[33mposition\u001b[0m=\u001b[1;36m1\u001b[0m, \u001b[33mnew\u001b[0m=\u001b[32m'# 4. Relevance'\u001b[0m, \u001b[33mchanged\u001b[0m=\u001b[3;91mFalse\u001b[0m\u001b[1m)\u001b[0m, \n",
       "\u001b[1;35mHeadingResult\u001b[0m\u001b[1m(\u001b[0m\u001b[33mold\u001b[0m=\u001b[32m'## Overall performance score for relevance: 3.9/5.'\u001b[0m, \u001b[33mpage\u001b[0m=\u001b[1;36m34\u001b[0m, \u001b[33mposition\u001b[0m=\u001b[1;36m2\u001b[0m, \u001b[33mnew\u001b[0m=\u001b[32m'## Overall \u001b[0m\n",
       "\u001b[32mperformance score for relevance: 3.9/5.'\u001b[0m, \u001b[33mchanged\u001b[0m=\u001b[3;91mFalse\u001b[0m\u001b[1m)\u001b[0m, \u001b[1;35mHeadingResult\u001b[0m\u001b[1m(\u001b[0m\u001b[33mold\u001b[0m=\u001b[32m'## Robustness score for the evidence: \u001b[0m\n",
       "\u001b[32m4.5/5.'\u001b[0m, \u001b[33mpage\u001b[0m=\u001b[1;36m34\u001b[0m, \u001b[33mposition\u001b[0m=\u001b[1;36m3\u001b[0m, \u001b[33mnew\u001b[0m=\u001b[32m'## Robustness score for the evidence: 4.5/5.'\u001b[0m, \u001b[33mchanged\u001b[0m=\u001b[3;91mFalse\u001b[0m\u001b[1m)\u001b[0m, \n",
       "\u001b[1;35mHeadingResult\u001b[0m\u001b[1m(\u001b[0m\u001b[33mold\u001b[0m=\u001b[32m'### 4.1. Relevance of programme activities for migrants, returnees, and communities'\u001b[0m, \u001b[33mpage\u001b[0m=\u001b[1;36m34\u001b[0m, \n",
       "\u001b[33mposition\u001b[0m=\u001b[1;36m4\u001b[0m, \u001b[33mnew\u001b[0m=\u001b[32m'### 4.1. Relevance of programme activities for migrants, returnees, and communities'\u001b[0m, \n",
       "\u001b[33mchanged\u001b[0m=\u001b[3;91mFalse\u001b[0m\u001b[1m)\u001b[0m, \u001b[1;35mHeadingResult\u001b[0m\u001b[1m(\u001b[0m\u001b[33mold\u001b[0m=\u001b[32m'### 4.1.1. Needs of migrants'\u001b[0m, \u001b[33mpage\u001b[0m=\u001b[1;36m34\u001b[0m, \u001b[33mposition\u001b[0m=\u001b[1;36m5\u001b[0m, \u001b[33mnew\u001b[0m=\u001b[32m'#### 4.1.1. Needs of \u001b[0m\n",
       "\u001b[32mmigrants'\u001b[0m, \u001b[33mchanged\u001b[0m=\u001b[3;91mFalse\u001b[0m\u001b[1m)\u001b[0m, \u001b[1;35mHeadingResult\u001b[0m\u001b[1m(\u001b[0m\u001b[33mold\u001b[0m=\u001b[32m'# 4.1.2. Needs of returnees'\u001b[0m, \u001b[33mpage\u001b[0m=\u001b[1;36m35\u001b[0m, \u001b[33mposition\u001b[0m=\u001b[1;36m1\u001b[0m, \u001b[33mnew\u001b[0m=\u001b[32m'# 4.1.2. \u001b[0m\n",
       "\u001b[32mNeeds of returnees'\u001b[0m, \u001b[33mchanged\u001b[0m=\u001b[3;91mFalse\u001b[0m\u001b[1m)\u001b[0m, \u001b[1;35mHeadingResult\u001b[0m\u001b[1m(\u001b[0m\u001b[33mold\u001b[0m=\u001b[32m'# 4.1.3. Needs of community members'\u001b[0m, \u001b[33mpage\u001b[0m=\u001b[1;36m38\u001b[0m, \u001b[33mposition\u001b[0m=\u001b[1;36m1\u001b[0m, \n",
       "\u001b[33mnew\u001b[0m=\u001b[32m'# 4.1.3. Needs of community members'\u001b[0m, \u001b[33mchanged\u001b[0m=\u001b[3;91mFalse\u001b[0m\u001b[1m)\u001b[0m, \u001b[1;35mHeadingResult\u001b[0m\u001b[1m(\u001b[0m\u001b[33mold\u001b[0m=\u001b[32m\"# 4.2. Programme's relevance to the \u001b[0m\n",
       "\u001b[32mneeds of stakeholders\"\u001b[0m, \u001b[33mpage\u001b[0m=\u001b[1;36m39\u001b[0m, \u001b[33mposition\u001b[0m=\u001b[1;36m1\u001b[0m, \u001b[33mnew\u001b[0m=\u001b[32m\"# 4.2. Programme's relevance to the needs of stakeholders\"\u001b[0m, \n",
       "\u001b[33mchanged\u001b[0m=\u001b[3;91mFalse\u001b[0m\u001b[1m)\u001b[0m, \u001b[1;35mHeadingResult\u001b[0m\u001b[1m(\u001b[0m\u001b[33mold\u001b[0m=\u001b[32m'### 4.2.1. Needs of governments'\u001b[0m, \u001b[33mpage\u001b[0m=\u001b[1;36m39\u001b[0m, \u001b[33mposition\u001b[0m=\u001b[1;36m2\u001b[0m, \u001b[33mnew\u001b[0m=\u001b[32m'### 4.2.1. Needs of \u001b[0m\n",
       "\u001b[32mgovernments'\u001b[0m, \u001b[33mchanged\u001b[0m=\u001b[3;91mFalse\u001b[0m\u001b[1m)\u001b[0m, \u001b[1;35mHeadingResult\u001b[0m\u001b[1m(\u001b[0m\u001b[33mold\u001b[0m=\u001b[32m'# 4.2.2. Needs of other stakeholders'\u001b[0m, \u001b[33mpage\u001b[0m=\u001b[1;36m40\u001b[0m, \u001b[33mposition\u001b[0m=\u001b[1;36m1\u001b[0m, \u001b[33mnew\u001b[0m=\u001b[32m'#\u001b[0m\n",
       "\u001b[32m4.2.2. Needs of other stakeholders'\u001b[0m, \u001b[33mchanged\u001b[0m=\u001b[3;91mFalse\u001b[0m\u001b[1m)\u001b[0m, \u001b[1;35mHeadingResult\u001b[0m\u001b[1m(\u001b[0m\u001b[33mold\u001b[0m=\u001b[32m'# 4.3. Involvement of stakeholders in the \u001b[0m\n",
       "\u001b[32mdesign, implementation and monitoring of the programme'\u001b[0m, \u001b[33mpage\u001b[0m=\u001b[1;36m41\u001b[0m, \u001b[33mposition\u001b[0m=\u001b[1;36m1\u001b[0m, \u001b[33mnew\u001b[0m=\u001b[32m'# 4.3. Involvement of \u001b[0m\n",
       "\u001b[32mstakeholders in the design, implementation and monitoring of the programme'\u001b[0m, \u001b[33mchanged\u001b[0m=\u001b[3;91mFalse\u001b[0m\u001b[1m)\u001b[0m, \u001b[1;35mHeadingResult\u001b[0m\u001b[1m(\u001b[0m\u001b[33mold\u001b[0m=\u001b[32m'# \u001b[0m\n",
       "\u001b[32m4.4. Horizontal priorities'\u001b[0m, \u001b[33mpage\u001b[0m=\u001b[1;36m42\u001b[0m, \u001b[33mposition\u001b[0m=\u001b[1;36m1\u001b[0m, \u001b[33mnew\u001b[0m=\u001b[32m'# 4.4. Horizontal priorities'\u001b[0m, \u001b[33mchanged\u001b[0m=\u001b[3;91mFalse\u001b[0m\u001b[1m)\u001b[0m, \n",
       "\u001b[1;35mHeadingResult\u001b[0m\u001b[1m(\u001b[0m\u001b[33mold\u001b[0m=\u001b[32m'### 4.4.1. Gender equality'\u001b[0m, \u001b[33mpage\u001b[0m=\u001b[1;36m42\u001b[0m, \u001b[33mposition\u001b[0m=\u001b[1;36m2\u001b[0m, \u001b[33mnew\u001b[0m=\u001b[32m'### 4.4.1. Gender equality'\u001b[0m, \n",
       "\u001b[33mchanged\u001b[0m=\u001b[3;91mFalse\u001b[0m\u001b[1m)\u001b[0m, \u001b[1;35mHeadingResult\u001b[0m\u001b[1m(\u001b[0m\u001b[33mold\u001b[0m=\u001b[32m'# 4.4.2. Persons with disabilities'\u001b[0m, \u001b[33mpage\u001b[0m=\u001b[1;36m43\u001b[0m, \u001b[33mposition\u001b[0m=\u001b[1;36m1\u001b[0m, \u001b[33mnew\u001b[0m=\u001b[32m'# 4.4.2. Persons \u001b[0m\n",
       "\u001b[32mwith disabilities'\u001b[0m, \u001b[33mchanged\u001b[0m=\u001b[3;91mFalse\u001b[0m\u001b[1m)\u001b[0m, \u001b[1;35mHeadingResult\u001b[0m\u001b[1m(\u001b[0m\u001b[33mold\u001b[0m=\u001b[32m'### 4.4.3. Protection'\u001b[0m, \u001b[33mpage\u001b[0m=\u001b[1;36m43\u001b[0m, \u001b[33mposition\u001b[0m=\u001b[1;36m2\u001b[0m, \u001b[33mnew\u001b[0m=\u001b[32m'### 4.4.3.\u001b[0m\n",
       "\u001b[32mProtection'\u001b[0m, \u001b[33mchanged\u001b[0m=\u001b[3;91mFalse\u001b[0m\u001b[1m)\u001b[0m, \u001b[1;35mHeadingResult\u001b[0m\u001b[1m(\u001b[0m\u001b[33mold\u001b[0m=\u001b[32m'# 4.4.4. Environmental sustainability'\u001b[0m, \u001b[33mpage\u001b[0m=\u001b[1;36m44\u001b[0m, \u001b[33mposition\u001b[0m=\u001b[1;36m1\u001b[0m, \u001b[33mnew\u001b[0m=\u001b[32m'#\u001b[0m\n",
       "\u001b[32m4.4.4. Environmental sustainability'\u001b[0m, \u001b[33mchanged\u001b[0m=\u001b[3;91mFalse\u001b[0m\u001b[1m)\u001b[0m, \u001b[1;35mHeadingResult\u001b[0m\u001b[1m(\u001b[0m\u001b[33mold\u001b[0m=\u001b[32m'# 5. Coherence'\u001b[0m, \u001b[33mpage\u001b[0m=\u001b[1;36m46\u001b[0m, \u001b[33mposition\u001b[0m=\u001b[1;36m1\u001b[0m, \n",
       "\u001b[33mnew\u001b[0m=\u001b[32m'# 5. Coherence'\u001b[0m, \u001b[33mchanged\u001b[0m=\u001b[3;91mFalse\u001b[0m\u001b[1m)\u001b[0m, \u001b[1;35mHeadingResult\u001b[0m\u001b[1m(\u001b[0m\u001b[33mold\u001b[0m=\u001b[32m'## Overall performance score for coherence: $4.3 / 5$.'\u001b[0m, \n",
       "\u001b[33mpage\u001b[0m=\u001b[1;36m46\u001b[0m, \u001b[33mposition\u001b[0m=\u001b[1;36m2\u001b[0m, \u001b[33mnew\u001b[0m=\u001b[32m'## Overall performance score for coherence: $4.3 / 5$.'\u001b[0m, \u001b[33mchanged\u001b[0m=\u001b[3;91mFalse\u001b[0m\u001b[1m)\u001b[0m, \n",
       "\u001b[1;35mHeadingResult\u001b[0m\u001b[1m(\u001b[0m\u001b[33mold\u001b[0m=\u001b[32m'## Robustness score for the evidence: $4 / 5$.'\u001b[0m, \u001b[33mpage\u001b[0m=\u001b[1;36m46\u001b[0m, \u001b[33mposition\u001b[0m=\u001b[1;36m3\u001b[0m, \u001b[33mnew\u001b[0m=\u001b[32m'## Robustness score \u001b[0m\n",
       "\u001b[32mfor the evidence: $4 / 5$.'\u001b[0m, \u001b[33mchanged\u001b[0m=\u001b[3;91mFalse\u001b[0m\u001b[1m)\u001b[0m, \u001b[1;35mHeadingResult\u001b[0m\u001b[1m(\u001b[0m\u001b[33mold\u001b[0m=\u001b[32m\"### 5.1. The JI-HoA's alignment with the objectives\u001b[0m\n",
       "\u001b[32mand standards of IOM, and the objectives of the EU\"\u001b[0m, \u001b[33mpage\u001b[0m=\u001b[1;36m46\u001b[0m, \u001b[33mposition\u001b[0m=\u001b[1;36m4\u001b[0m, \u001b[33mnew\u001b[0m=\u001b[32m\"### 5.1. The JI-HoA's alignment with\u001b[0m\n",
       "\u001b[32mthe objectives and standards of IOM, and the objectives of the EU\"\u001b[0m, \u001b[33mchanged\u001b[0m=\u001b[3;91mFalse\u001b[0m\u001b[1m)\u001b[0m, \u001b[1;35mHeadingResult\u001b[0m\u001b[1m(\u001b[0m\u001b[33mold\u001b[0m=\u001b[32m'### 5.1.1. \u001b[0m\n",
       "\u001b[32mObjectives of the IOM'\u001b[0m, \u001b[33mpage\u001b[0m=\u001b[1;36m46\u001b[0m, \u001b[33mposition\u001b[0m=\u001b[1;36m5\u001b[0m, \u001b[33mnew\u001b[0m=\u001b[32m'#### 5.1.1. Objectives of the IOM'\u001b[0m, \u001b[33mchanged\u001b[0m=\u001b[3;91mFalse\u001b[0m\u001b[1m)\u001b[0m, \n",
       "\u001b[1;35mHeadingResult\u001b[0m\u001b[1m(\u001b[0m\u001b[33mold\u001b[0m=\u001b[32m'# 5.1.2. Objectives of the EU'\u001b[0m, \u001b[33mpage\u001b[0m=\u001b[1;36m48\u001b[0m, \u001b[33mposition\u001b[0m=\u001b[1;36m1\u001b[0m, \u001b[33mnew\u001b[0m=\u001b[32m'# 5.1.2. Objectives of the EU'\u001b[0m, \n",
       "\u001b[33mchanged\u001b[0m=\u001b[3;91mFalse\u001b[0m\u001b[1m)\u001b[0m, \u001b[1;35mHeadingResult\u001b[0m\u001b[1m(\u001b[0m\u001b[33mold\u001b[0m=\u001b[32m'# 5.1.3. Government initiatives'\u001b[0m, \u001b[33mpage\u001b[0m=\u001b[1;36m49\u001b[0m, \u001b[33mposition\u001b[0m=\u001b[1;36m1\u001b[0m, \u001b[33mnew\u001b[0m=\u001b[32m'# 5.1.3. Government \u001b[0m\n",
       "\u001b[32minitiatives'\u001b[0m, \u001b[33mchanged\u001b[0m=\u001b[3;91mFalse\u001b[0m\u001b[1m)\u001b[0m, \u001b[1;35mHeadingResult\u001b[0m\u001b[1m(\u001b[0m\u001b[33mold\u001b[0m=\u001b[32m'# 5.2. Alignment with other initiatives'\u001b[0m, \u001b[33mpage\u001b[0m=\u001b[1;36m50\u001b[0m, \u001b[33mposition\u001b[0m=\u001b[1;36m1\u001b[0m, \n",
       "\u001b[33mnew\u001b[0m=\u001b[32m'# 5.2. Alignment with other initiatives'\u001b[0m, \u001b[33mchanged\u001b[0m=\u001b[3;91mFalse\u001b[0m\u001b[1m)\u001b[0m, \u001b[1;35mHeadingResult\u001b[0m\u001b[1m(\u001b[0m\u001b[33mold\u001b[0m=\u001b[32m'### 5.2.1. Initiatives of \u001b[0m\n",
       "\u001b[32mregional and continental institutions'\u001b[0m, \u001b[33mpage\u001b[0m=\u001b[1;36m50\u001b[0m, \u001b[33mposition\u001b[0m=\u001b[1;36m2\u001b[0m, \u001b[33mnew\u001b[0m=\u001b[32m'### 5.2.1. Initiatives of regional and \u001b[0m\n",
       "\u001b[32mcontinental institutions'\u001b[0m, \u001b[33mchanged\u001b[0m=\u001b[3;91mFalse\u001b[0m\u001b[1m)\u001b[0m, \u001b[1;35mHeadingResult\u001b[0m\u001b[1m(\u001b[0m\u001b[33mold\u001b[0m=\u001b[32m'# 5.2.2. Initiatives by other \u001b[0m\u001b[32m(\u001b[0m\u001b[32mUN\u001b[0m\u001b[32m)\u001b[0m\u001b[32m organisations'\u001b[0m, \n",
       "\u001b[33mpage\u001b[0m=\u001b[1;36m51\u001b[0m, \u001b[33mposition\u001b[0m=\u001b[1;36m1\u001b[0m, \u001b[33mnew\u001b[0m=\u001b[32m'# 5.2.2. Initiatives by other \u001b[0m\u001b[32m(\u001b[0m\u001b[32mUN\u001b[0m\u001b[32m)\u001b[0m\u001b[32m organisations'\u001b[0m, \u001b[33mchanged\u001b[0m=\u001b[3;91mFalse\u001b[0m\u001b[1m)\u001b[0m, \u001b[1;35mHeadingResult\u001b[0m\u001b[1m(\u001b[0m\u001b[33mold\u001b[0m=\u001b[32m'# \u001b[0m\n",
       "\u001b[32m6. Effectiveness and impact'\u001b[0m, \u001b[33mpage\u001b[0m=\u001b[1;36m54\u001b[0m, \u001b[33mposition\u001b[0m=\u001b[1;36m1\u001b[0m, \u001b[33mnew\u001b[0m=\u001b[32m'# 6. Effectiveness and impact'\u001b[0m, \u001b[33mchanged\u001b[0m=\u001b[3;91mFalse\u001b[0m\u001b[1m)\u001b[0m, \n",
       "\u001b[1;35mHeadingResult\u001b[0m\u001b[1m(\u001b[0m\u001b[33mold\u001b[0m=\u001b[32m'## Overall performance score for effectiveness: 3.8/5.'\u001b[0m, \u001b[33mpage\u001b[0m=\u001b[1;36m54\u001b[0m, \u001b[33mposition\u001b[0m=\u001b[1;36m2\u001b[0m, \u001b[33mnew\u001b[0m=\u001b[32m'## Overall \u001b[0m\n",
       "\u001b[32mperformance score for effectiveness: 3.8/5.'\u001b[0m, \u001b[33mchanged\u001b[0m=\u001b[3;91mFalse\u001b[0m\u001b[1m)\u001b[0m, \u001b[1;35mHeadingResult\u001b[0m\u001b[1m(\u001b[0m\u001b[33mold\u001b[0m=\u001b[32m\"## Overall score on IOM's \u001b[0m\n",
       "\u001b[32machievements: 3.4/5.\"\u001b[0m, \u001b[33mpage\u001b[0m=\u001b[1;36m54\u001b[0m, \u001b[33mposition\u001b[0m=\u001b[1;36m3\u001b[0m, \u001b[33mnew\u001b[0m=\u001b[32m\"## Overall score on IOM's achievements: 3.4/5.\"\u001b[0m, \u001b[33mchanged\u001b[0m=\u001b[3;91mFalse\u001b[0m\u001b[1m)\u001b[0m, \n",
       "\u001b[1;35mHeadingResult\u001b[0m\u001b[1m(\u001b[0m\u001b[33mold\u001b[0m=\u001b[32m'## Robustness score for the evidence: $4 / 5$.'\u001b[0m, \u001b[33mpage\u001b[0m=\u001b[1;36m54\u001b[0m, \u001b[33mposition\u001b[0m=\u001b[1;36m4\u001b[0m, \u001b[33mnew\u001b[0m=\u001b[32m'## Robustness score \u001b[0m\n",
       "\u001b[32mfor the evidence: $4 / 5$.'\u001b[0m, \u001b[33mchanged\u001b[0m=\u001b[3;91mFalse\u001b[0m\u001b[1m)\u001b[0m, \u001b[1;35mHeadingResult\u001b[0m\u001b[1m(\u001b[0m\u001b[33mold\u001b[0m=\u001b[32m\"### 6.1. Design and achievement of targets for the \u001b[0m\n",
       "\u001b[32mprogramme's indicators\"\u001b[0m, \u001b[33mpage\u001b[0m=\u001b[1;36m54\u001b[0m, \u001b[33mposition\u001b[0m=\u001b[1;36m5\u001b[0m, \u001b[33mnew\u001b[0m=\u001b[32m\"### 6.1. Design and achievement of targets for the programme's \u001b[0m\n",
       "\u001b[32mindicators\"\u001b[0m, \u001b[33mchanged\u001b[0m=\u001b[3;91mFalse\u001b[0m\u001b[1m)\u001b[0m, \u001b[1;35mHeadingResult\u001b[0m\u001b[1m(\u001b[0m\u001b[33mold\u001b[0m=\u001b[32m'# 6.2. Specific Objective 1: partner countries and relevant \u001b[0m\n",
       "\u001b[32mstakeholders developed or strengthened evidence-based return and reintegration procedures'\u001b[0m, \u001b[33mpage\u001b[0m=\u001b[1;36m57\u001b[0m, \u001b[33mposition\u001b[0m=\u001b[1;36m1\u001b[0m, \n",
       "\u001b[33mnew\u001b[0m=\u001b[32m'# 6.2. Specific Objective 1: partner countries and relevant stakeholders developed or strengthened \u001b[0m\n",
       "\u001b[32mevidence-based return and reintegration procedures'\u001b[0m, \u001b[33mchanged\u001b[0m=\u001b[3;91mFalse\u001b[0m\u001b[1m)\u001b[0m, \u001b[1;35mHeadingResult\u001b[0m\u001b[1m(\u001b[0m\u001b[33mold\u001b[0m=\u001b[32m'### 6.2.1. Achievement of \u001b[0m\n",
       "\u001b[32moutputs and results'\u001b[0m, \u001b[33mpage\u001b[0m=\u001b[1;36m57\u001b[0m, \u001b[33mposition\u001b[0m=\u001b[1;36m2\u001b[0m, \u001b[33mnew\u001b[0m=\u001b[32m'### 6.2.1. Achievement of outputs and results'\u001b[0m, \u001b[33mchanged\u001b[0m=\u001b[3;91mFalse\u001b[0m\u001b[1m)\u001b[0m, \n",
       "\u001b[1;35mHeadingResult\u001b[0m\u001b[1m(\u001b[0m\u001b[33mold\u001b[0m=\u001b[32m'## Data availability'\u001b[0m, \u001b[33mpage\u001b[0m=\u001b[1;36m57\u001b[0m, \u001b[33mposition\u001b[0m=\u001b[1;36m3\u001b[0m, \u001b[33mnew\u001b[0m=\u001b[32m'#### Data availability'\u001b[0m, \u001b[33mchanged\u001b[0m=\u001b[3;92mTrue\u001b[0m\u001b[1m)\u001b[0m, \n",
       "\u001b[1;35mHeadingResult\u001b[0m\u001b[1m(\u001b[0m\u001b[33mold\u001b[0m=\u001b[32m'# Capacity of stakeholders'\u001b[0m, \u001b[33mpage\u001b[0m=\u001b[1;36m58\u001b[0m, \u001b[33mposition\u001b[0m=\u001b[1;36m1\u001b[0m, \u001b[33mnew\u001b[0m=\u001b[32m'### Capacity of stakeholders'\u001b[0m, \n",
       "\u001b[33mchanged\u001b[0m=\u001b[3;92mTrue\u001b[0m\u001b[1m)\u001b[0m, \u001b[1;35mHeadingResult\u001b[0m\u001b[1m(\u001b[0m\u001b[33mold\u001b[0m=\u001b[32m'# Capacity of the African Union Commission'\u001b[0m, \u001b[33mpage\u001b[0m=\u001b[1;36m61\u001b[0m, \u001b[33mposition\u001b[0m=\u001b[1;36m1\u001b[0m, \u001b[33mnew\u001b[0m=\u001b[32m'### \u001b[0m\n",
       "\u001b[32mCapacity of the African Union Commission'\u001b[0m, \u001b[33mchanged\u001b[0m=\u001b[3;92mTrue\u001b[0m\u001b[1m)\u001b[0m, \u001b[1;35mHeadingResult\u001b[0m\u001b[1m(\u001b[0m\u001b[33mold\u001b[0m=\u001b[32m'# 6.2.2. Achievement of Specific \u001b[0m\n",
       "\u001b[32mObjective 1'\u001b[0m, \u001b[33mpage\u001b[0m=\u001b[1;36m62\u001b[0m, \u001b[33mposition\u001b[0m=\u001b[1;36m1\u001b[0m, \u001b[33mnew\u001b[0m=\u001b[32m'# 6.2.2. Achievement of Specific Objective 1'\u001b[0m, \u001b[33mchanged\u001b[0m=\u001b[3;91mFalse\u001b[0m\u001b[1m)\u001b[0m, \n",
       "\u001b[1;35mHeadingResult\u001b[0m\u001b[1m(\u001b[0m\u001b[33mold\u001b[0m=\u001b[32m'# 6.3. Specific Objective 2: safe, humane, dignified voluntary return processes are enhanced \u001b[0m\n",
       "\u001b[32malong main migration routes'\u001b[0m, \u001b[33mpage\u001b[0m=\u001b[1;36m64\u001b[0m, \u001b[33mposition\u001b[0m=\u001b[1;36m1\u001b[0m, \u001b[33mnew\u001b[0m=\u001b[32m'# 6.3. Specific Objective 2: safe, humane, dignified \u001b[0m\n",
       "\u001b[32mvoluntary return processes are enhanced along main migration routes'\u001b[0m, \u001b[33mchanged\u001b[0m=\u001b[3;91mFalse\u001b[0m\u001b[1m)\u001b[0m, \u001b[1;35mHeadingResult\u001b[0m\u001b[1m(\u001b[0m\u001b[33mold\u001b[0m=\u001b[32m'### 6.3.1.\u001b[0m\n",
       "\u001b[32mAchievement of outputs and results'\u001b[0m, \u001b[33mpage\u001b[0m=\u001b[1;36m64\u001b[0m, \u001b[33mposition\u001b[0m=\u001b[1;36m2\u001b[0m, \u001b[33mnew\u001b[0m=\u001b[32m'### 6.3.1. Achievement of outputs and results'\u001b[0m, \n",
       "\u001b[33mchanged\u001b[0m=\u001b[3;91mFalse\u001b[0m\u001b[1m)\u001b[0m, \u001b[1;35mHeadingResult\u001b[0m\u001b[1m(\u001b[0m\u001b[33mold\u001b[0m=\u001b[32m'## Outreach and awareness'\u001b[0m, \u001b[33mpage\u001b[0m=\u001b[1;36m64\u001b[0m, \u001b[33mposition\u001b[0m=\u001b[1;36m3\u001b[0m, \u001b[33mnew\u001b[0m=\u001b[32m'#### Outreach and \u001b[0m\n",
       "\u001b[32mawareness'\u001b[0m, \u001b[33mchanged\u001b[0m=\u001b[3;92mTrue\u001b[0m\u001b[1m)\u001b[0m, \u001b[1;35mHeadingResult\u001b[0m\u001b[1m(\u001b[0m\u001b[33mold\u001b[0m=\u001b[32m'# Assistance to stranded migrants'\u001b[0m, \u001b[33mpage\u001b[0m=\u001b[1;36m66\u001b[0m, \u001b[33mposition\u001b[0m=\u001b[1;36m1\u001b[0m, \u001b[33mnew\u001b[0m=\u001b[32m'### \u001b[0m\n",
       "\u001b[32mAssistance to stranded migrants'\u001b[0m, \u001b[33mchanged\u001b[0m=\u001b[3;92mTrue\u001b[0m\u001b[1m)\u001b[0m, \u001b[1;35mHeadingResult\u001b[0m\u001b[1m(\u001b[0m\u001b[33mold\u001b[0m=\u001b[32m'# 6.3.2. Achievement of Specific Objective 2'\u001b[0m, \n",
       "\u001b[33mpage\u001b[0m=\u001b[1;36m67\u001b[0m, \u001b[33mposition\u001b[0m=\u001b[1;36m1\u001b[0m, \u001b[33mnew\u001b[0m=\u001b[32m'# 6.3.2. Achievement of Specific Objective 2'\u001b[0m, \u001b[33mchanged\u001b[0m=\u001b[3;91mFalse\u001b[0m\u001b[1m)\u001b[0m, \u001b[1;35mHeadingResult\u001b[0m\u001b[1m(\u001b[0m\u001b[33mold\u001b[0m=\u001b[32m'## 6.4.\u001b[0m\n",
       "\u001b[32mSpecific Objective 3: returnees are sustainably integrated in host communities, and host communities are better \u001b[0m\n",
       "\u001b[32mable to create living standards that address drivers of migration.'\u001b[0m, \u001b[33mpage\u001b[0m=\u001b[1;36m67\u001b[0m, \u001b[33mposition\u001b[0m=\u001b[1;36m2\u001b[0m, \u001b[33mnew\u001b[0m=\u001b[32m'## 6.4. Specific \u001b[0m\n",
       "\u001b[32mObjective 3: returnees are sustainably integrated in host communities, and host communities are better able to \u001b[0m\n",
       "\u001b[32mcreate living standards that address drivers of migration.'\u001b[0m, \u001b[33mchanged\u001b[0m=\u001b[3;91mFalse\u001b[0m\u001b[1m)\u001b[0m, \u001b[1;35mHeadingResult\u001b[0m\u001b[1m(\u001b[0m\u001b[33mold\u001b[0m=\u001b[32m'# 6.4.1. \u001b[0m\n",
       "\u001b[32mAchievement of outputs and results'\u001b[0m, \u001b[33mpage\u001b[0m=\u001b[1;36m68\u001b[0m, \u001b[33mposition\u001b[0m=\u001b[1;36m1\u001b[0m, \u001b[33mnew\u001b[0m=\u001b[32m'# 6.4.1. Achievement of outputs and results'\u001b[0m, \n",
       "\u001b[33mchanged\u001b[0m=\u001b[3;92mTrue\u001b[0m\u001b[1m)\u001b[0m, \u001b[1;35mHeadingResult\u001b[0m\u001b[1m(\u001b[0m\u001b[33mold\u001b[0m=\u001b[32m'## Individual and community-based reintegration'\u001b[0m, \u001b[33mpage\u001b[0m=\u001b[1;36m68\u001b[0m, \u001b[33mposition\u001b[0m=\u001b[1;36m2\u001b[0m, \u001b[33mnew\u001b[0m=\u001b[32m'## \u001b[0m\n",
       "\u001b[32mIndividual and community-based reintegration'\u001b[0m, \u001b[33mchanged\u001b[0m=\u001b[3;92mTrue\u001b[0m\u001b[1m)\u001b[0m, \u001b[1;35mHeadingResult\u001b[0m\u001b[1m(\u001b[0m\u001b[33mold\u001b[0m=\u001b[32m'# M\\\\&E systems'\u001b[0m, \u001b[33mpage\u001b[0m=\u001b[1;36m70\u001b[0m, \n",
       "\u001b[33mposition\u001b[0m=\u001b[1;36m1\u001b[0m, \u001b[33mnew\u001b[0m=\u001b[32m'### M&E systems'\u001b[0m, \u001b[33mchanged\u001b[0m=\u001b[3;92mTrue\u001b[0m\u001b[1m)\u001b[0m, \u001b[1;35mHeadingResult\u001b[0m\u001b[1m(\u001b[0m\u001b[33mold\u001b[0m=\u001b[32m'# 6.4.2. Achievement of Specific Objective 3'\u001b[0m,\n",
       "\u001b[33mpage\u001b[0m=\u001b[1;36m71\u001b[0m, \u001b[33mposition\u001b[0m=\u001b[1;36m1\u001b[0m, \u001b[33mnew\u001b[0m=\u001b[32m'# 6.4.2. Achievement of Specific Objective 3'\u001b[0m, \u001b[33mchanged\u001b[0m=\u001b[3;91mFalse\u001b[0m\u001b[1m)\u001b[0m, \u001b[1;35mHeadingResult\u001b[0m\u001b[1m(\u001b[0m\u001b[33mold\u001b[0m=\u001b[32m'## \u001b[0m\n",
       "\u001b[32mOverall achievement of reintegration'\u001b[0m, \u001b[33mpage\u001b[0m=\u001b[1;36m71\u001b[0m, \u001b[33mposition\u001b[0m=\u001b[1;36m2\u001b[0m, \u001b[33mnew\u001b[0m=\u001b[32m'## Overall achievement of reintegration'\u001b[0m, \n",
       "\u001b[33mchanged\u001b[0m=\u001b[3;92mTrue\u001b[0m\u001b[1m)\u001b[0m, \u001b[1;35mHeadingResult\u001b[0m\u001b[1m(\u001b[0m\u001b[33mold\u001b[0m=\u001b[32m'# 6.5. Assessing vulnerabilities'\u001b[0m, \u001b[33mpage\u001b[0m=\u001b[1;36m77\u001b[0m, \u001b[33mposition\u001b[0m=\u001b[1;36m1\u001b[0m, \u001b[33mnew\u001b[0m=\u001b[32m'### 6.5. Assessing \u001b[0m\n",
       "\u001b[32mvulnerabilities'\u001b[0m, \u001b[33mchanged\u001b[0m=\u001b[3;92mTrue\u001b[0m\u001b[1m)\u001b[0m, \u001b[1;35mHeadingResult\u001b[0m\u001b[1m(\u001b[0m\u001b[33mold\u001b[0m=\u001b[32m'### 6.5.1. Achievements and challenges in screening migrant \u001b[0m\n",
       "\u001b[32mvulnerabilities and assessing eligibility for support'\u001b[0m, \u001b[33mpage\u001b[0m=\u001b[1;36m77\u001b[0m, \u001b[33mposition\u001b[0m=\u001b[1;36m2\u001b[0m, \u001b[33mnew\u001b[0m=\u001b[32m'#### 6.5.1. Achievements and \u001b[0m\n",
       "\u001b[32mchallenges in screening migrant vulnerabilities and assessing eligibility for support'\u001b[0m, \u001b[33mchanged\u001b[0m=\u001b[3;91mFalse\u001b[0m\u001b[1m)\u001b[0m, \n",
       "\u001b[1;35mHeadingResult\u001b[0m\u001b[1m(\u001b[0m\u001b[33mold\u001b[0m=\u001b[32m'# 6.5.2. Contact and communication with beneficiaries'\u001b[0m, \u001b[33mpage\u001b[0m=\u001b[1;36m79\u001b[0m, \u001b[33mposition\u001b[0m=\u001b[1;36m1\u001b[0m, \u001b[33mnew\u001b[0m=\u001b[32m'# 6.5.2. \u001b[0m\n",
       "\u001b[32mContact and communication with beneficiaries'\u001b[0m, \u001b[33mchanged\u001b[0m=\u001b[3;91mFalse\u001b[0m\u001b[1m)\u001b[0m, \u001b[1;35mHeadingResult\u001b[0m\u001b[1m(\u001b[0m\u001b[33mold\u001b[0m=\u001b[32m'# 6.6. Functioning of the \u001b[0m\n",
       "\u001b[32mintegrated approach'\u001b[0m, \u001b[33mpage\u001b[0m=\u001b[1;36m81\u001b[0m, \u001b[33mposition\u001b[0m=\u001b[1;36m1\u001b[0m, \u001b[33mnew\u001b[0m=\u001b[32m'# 6.6. Functioning of the integrated approach'\u001b[0m, \u001b[33mchanged\u001b[0m=\u001b[3;91mFalse\u001b[0m\u001b[1m)\u001b[0m, \n",
       "\u001b[1;35mHeadingResult\u001b[0m\u001b[1m(\u001b[0m\u001b[33mold\u001b[0m=\u001b[32m'# 7. Efficiency'\u001b[0m, \u001b[33mpage\u001b[0m=\u001b[1;36m83\u001b[0m, \u001b[33mposition\u001b[0m=\u001b[1;36m1\u001b[0m, \u001b[33mnew\u001b[0m=\u001b[32m'# 7. Efficiency'\u001b[0m, \u001b[33mchanged\u001b[0m=\u001b[3;91mFalse\u001b[0m\u001b[1m)\u001b[0m, \n",
       "\u001b[1;35mHeadingResult\u001b[0m\u001b[1m(\u001b[0m\u001b[33mold\u001b[0m=\u001b[32m'## Overall performance score for efficiency: 4.3/5.'\u001b[0m, \u001b[33mpage\u001b[0m=\u001b[1;36m83\u001b[0m, \u001b[33mposition\u001b[0m=\u001b[1;36m2\u001b[0m, \u001b[33mnew\u001b[0m=\u001b[32m'## Overall \u001b[0m\n",
       "\u001b[32mperformance score for efficiency: 4.3/5.'\u001b[0m, \u001b[33mchanged\u001b[0m=\u001b[3;91mFalse\u001b[0m\u001b[1m)\u001b[0m, \u001b[1;35mHeadingResult\u001b[0m\u001b[1m(\u001b[0m\u001b[33mold\u001b[0m=\u001b[32m'## Robustness score for the evidence:\u001b[0m\n",
       "\u001b[32m3.5/5.'\u001b[0m, \u001b[33mpage\u001b[0m=\u001b[1;36m83\u001b[0m, \u001b[33mposition\u001b[0m=\u001b[1;36m3\u001b[0m, \u001b[33mnew\u001b[0m=\u001b[32m'## Robustness score for the evidence: 3.5/5.'\u001b[0m, \u001b[33mchanged\u001b[0m=\u001b[3;91mFalse\u001b[0m\u001b[1m)\u001b[0m, \n",
       "\u001b[1;35mHeadingResult\u001b[0m\u001b[1m(\u001b[0m\u001b[33mold\u001b[0m=\u001b[32m'### 7.1. Did the programme receive sufficient resources to achieve its objectives?'\u001b[0m, \u001b[33mpage\u001b[0m=\u001b[1;36m83\u001b[0m, \n",
       "\u001b[33mposition\u001b[0m=\u001b[1;36m4\u001b[0m, \u001b[33mnew\u001b[0m=\u001b[32m'### 7.1. Did the programme receive sufficient resources to achieve its objectives?'\u001b[0m, \n",
       "\u001b[33mchanged\u001b[0m=\u001b[3;91mFalse\u001b[0m\u001b[1m)\u001b[0m, \u001b[1;35mHeadingResult\u001b[0m\u001b[1m(\u001b[0m\u001b[33mold\u001b[0m=\u001b[32m\"### 7.1.1. To what extent were financial resources sufficient to meet the \u001b[0m\n",
       "\u001b[32mprogramme's objectives?\"\u001b[0m, \u001b[33mpage\u001b[0m=\u001b[1;36m83\u001b[0m, \u001b[33mposition\u001b[0m=\u001b[1;36m5\u001b[0m, \u001b[33mnew\u001b[0m=\u001b[32m\"#### 7.1.1. To what extent were financial resources sufficient \u001b[0m\n",
       "\u001b[32mto meet the programme's objectives?\"\u001b[0m, \u001b[33mchanged\u001b[0m=\u001b[3;91mFalse\u001b[0m\u001b[1m)\u001b[0m, \u001b[1;35mHeadingResult\u001b[0m\u001b[1m(\u001b[0m\u001b[33mold\u001b[0m=\u001b[32m'# 7.1.2. To what extent was the \"top-up\" \u001b[0m\n",
       "\u001b[32mfunding system efficient for planning and budgeting?'\u001b[0m, \u001b[33mpage\u001b[0m=\u001b[1;36m86\u001b[0m, \u001b[33mposition\u001b[0m=\u001b[1;36m1\u001b[0m, \u001b[33mnew\u001b[0m=\u001b[32m'# 7.1.2. To what extent was the \u001b[0m\n",
       "\u001b[32m\"top-up\" funding system efficient for planning and budgeting?'\u001b[0m, \u001b[33mchanged\u001b[0m=\u001b[3;91mFalse\u001b[0m\u001b[1m)\u001b[0m, \u001b[1;35mHeadingResult\u001b[0m\u001b[1m(\u001b[0m\u001b[33mold\u001b[0m=\u001b[32m\"# 7.1.3. To what\u001b[0m\n",
       "\u001b[32mextent were human resources sufficient to meet the programme's objectives?\"\u001b[0m, \u001b[33mpage\u001b[0m=\u001b[1;36m87\u001b[0m, \u001b[33mposition\u001b[0m=\u001b[1;36m1\u001b[0m, \u001b[33mnew\u001b[0m=\u001b[32m\"# 7.1.3. To \u001b[0m\n",
       "\u001b[32mwhat extent were human resources sufficient to meet the programme's objectives?\"\u001b[0m, \u001b[33mchanged\u001b[0m=\u001b[3;91mFalse\u001b[0m\u001b[1m)\u001b[0m, \n",
       "\u001b[1;35mHeadingResult\u001b[0m\u001b[1m(\u001b[0m\u001b[33mold\u001b[0m=\u001b[32m'# 7.1.4. To what extent were the programme activities implemented according to the initial \u001b[0m\n",
       "\u001b[32mtimeline?'\u001b[0m, \u001b[33mpage\u001b[0m=\u001b[1;36m88\u001b[0m, \u001b[33mposition\u001b[0m=\u001b[1;36m1\u001b[0m, \u001b[33mnew\u001b[0m=\u001b[32m'# 7.1.4. To what extent were the programme activities implemented according \u001b[0m\n",
       "\u001b[32mto the initial timeline?'\u001b[0m, \u001b[33mchanged\u001b[0m=\u001b[3;91mFalse\u001b[0m\u001b[1m)\u001b[0m, \u001b[1;35mHeadingResult\u001b[0m\u001b[1m(\u001b[0m\u001b[33mold\u001b[0m=\u001b[32m'# 7.2. Cost-effectiveness and efficiency of the \u001b[0m\n",
       "\u001b[32mprogramme'\u001b[0m, \u001b[33mpage\u001b[0m=\u001b[1;36m89\u001b[0m, \u001b[33mposition\u001b[0m=\u001b[1;36m1\u001b[0m, \u001b[33mnew\u001b[0m=\u001b[32m'# 7.2. Cost-effectiveness and efficiency of the programme'\u001b[0m, \u001b[33mchanged\u001b[0m=\u001b[3;91mFalse\u001b[0m\u001b[1m)\u001b[0m, \n",
       "\u001b[1;35mHeadingResult\u001b[0m\u001b[1m(\u001b[0m\u001b[33mold\u001b[0m=\u001b[32m'### 7.2.1. How well were the resources \u001b[0m\u001b[32m(\u001b[0m\u001b[32mfunds, expertise and time\u001b[0m\u001b[32m)\u001b[0m\u001b[32m converted into results?'\u001b[0m, \n",
       "\u001b[33mpage\u001b[0m=\u001b[1;36m89\u001b[0m, \u001b[33mposition\u001b[0m=\u001b[1;36m2\u001b[0m, \u001b[33mnew\u001b[0m=\u001b[32m'### 7.2.1. How well were the resources \u001b[0m\u001b[32m(\u001b[0m\u001b[32mfunds, expertise and time\u001b[0m\u001b[32m)\u001b[0m\u001b[32m converted into \u001b[0m\n",
       "\u001b[32mresults?'\u001b[0m, \u001b[33mchanged\u001b[0m=\u001b[3;91mFalse\u001b[0m\u001b[1m)\u001b[0m, \u001b[1;35mHeadingResult\u001b[0m\u001b[1m(\u001b[0m\u001b[33mold\u001b[0m=\u001b[32m'# Increased efficiency through partnerships and capacity building'\u001b[0m, \n",
       "\u001b[33mpage\u001b[0m=\u001b[1;36m90\u001b[0m, \u001b[33mposition\u001b[0m=\u001b[1;36m1\u001b[0m, \u001b[33mnew\u001b[0m=\u001b[32m'### Increased efficiency through partnerships and capacity building'\u001b[0m, \u001b[33mchanged\u001b[0m=\u001b[3;92mTrue\u001b[0m\u001b[1m)\u001b[0m, \n",
       "\u001b[1;35mHeadingResult\u001b[0m\u001b[1m(\u001b[0m\u001b[33mold\u001b[0m=\u001b[32m'# 7.2.2. Could the programme have been implemented in a more cost-effective manner? If so, \u001b[0m\n",
       "\u001b[32mhow?'\u001b[0m, \u001b[33mpage\u001b[0m=\u001b[1;36m91\u001b[0m, \u001b[33mposition\u001b[0m=\u001b[1;36m1\u001b[0m, \u001b[33mnew\u001b[0m=\u001b[32m'# 7.2.2. Could the programme have been implemented in a more cost-effective \u001b[0m\n",
       "\u001b[32mmanner? If so, how?'\u001b[0m, \u001b[33mchanged\u001b[0m=\u001b[3;91mFalse\u001b[0m\u001b[1m)\u001b[0m, \u001b[1;35mHeadingResult\u001b[0m\u001b[1m(\u001b[0m\u001b[33mold\u001b[0m=\u001b[32m'## Improved efficiency of some activities'\u001b[0m, \u001b[33mpage\u001b[0m=\u001b[1;36m91\u001b[0m, \n",
       "\u001b[33mposition\u001b[0m=\u001b[1;36m2\u001b[0m, \u001b[33mnew\u001b[0m=\u001b[32m'## Improved efficiency of some activities'\u001b[0m, \u001b[33mchanged\u001b[0m=\u001b[3;92mTrue\u001b[0m\u001b[1m)\u001b[0m, \u001b[1;35mHeadingResult\u001b[0m\u001b[1m(\u001b[0m\u001b[33mold\u001b[0m=\u001b[32m'# Decreased \u001b[0m\n",
       "\u001b[32mefficiency of some activities'\u001b[0m, \u001b[33mpage\u001b[0m=\u001b[1;36m92\u001b[0m, \u001b[33mposition\u001b[0m=\u001b[1;36m1\u001b[0m, \u001b[33mnew\u001b[0m=\u001b[32m'### Decreased efficiency of some activities'\u001b[0m, \n",
       "\u001b[33mchanged\u001b[0m=\u001b[3;92mTrue\u001b[0m\u001b[1m)\u001b[0m, \u001b[1;35mHeadingResult\u001b[0m\u001b[1m(\u001b[0m\u001b[33mold\u001b[0m=\u001b[32m'# Examples of cost reduction'\u001b[0m, \u001b[33mpage\u001b[0m=\u001b[1;36m93\u001b[0m, \u001b[33mposition\u001b[0m=\u001b[1;36m1\u001b[0m, \u001b[33mnew\u001b[0m=\u001b[32m'### Examples of cost \u001b[0m\n",
       "\u001b[32mreduction'\u001b[0m, \u001b[33mchanged\u001b[0m=\u001b[3;92mTrue\u001b[0m\u001b[1m)\u001b[0m, \u001b[1;35mHeadingResult\u001b[0m\u001b[1m(\u001b[0m\u001b[33mold\u001b[0m=\u001b[32m'# Lessons learned in relation to cost-effectiveness'\u001b[0m, \u001b[33mpage\u001b[0m=\u001b[1;36m94\u001b[0m, \n",
       "\u001b[33mposition\u001b[0m=\u001b[1;36m1\u001b[0m, \u001b[33mnew\u001b[0m=\u001b[32m'### Lessons learned in relation to cost-effectiveness'\u001b[0m, \u001b[33mchanged\u001b[0m=\u001b[3;92mTrue\u001b[0m\u001b[1m)\u001b[0m, \u001b[1;35mHeadingResult\u001b[0m\u001b[1m(\u001b[0m\u001b[33mold\u001b[0m=\u001b[32m'### \u001b[0m\n",
       "\u001b[32m7.2.3. To what extent did the programme make efficiency gains by relying on existing services?'\u001b[0m, \u001b[33mpage\u001b[0m=\u001b[1;36m94\u001b[0m, \n",
       "\u001b[33mposition\u001b[0m=\u001b[1;36m2\u001b[0m, \u001b[33mnew\u001b[0m=\u001b[32m'### 7.2.3. To what extent did the programme make efficiency gains by relying on existing \u001b[0m\n",
       "\u001b[32mservices?'\u001b[0m, \u001b[33mchanged\u001b[0m=\u001b[3;91mFalse\u001b[0m\u001b[1m)\u001b[0m, \u001b[1;35mHeadingResult\u001b[0m\u001b[1m(\u001b[0m\u001b[33mold\u001b[0m=\u001b[32m'# 7.2.4. To what extent did the national referral mechanisms \u001b[0m\n",
       "\u001b[32mfunction effectively enough to support the JI-HoA?'\u001b[0m, \u001b[33mpage\u001b[0m=\u001b[1;36m97\u001b[0m, \u001b[33mposition\u001b[0m=\u001b[1;36m1\u001b[0m, \u001b[33mnew\u001b[0m=\u001b[32m'# 7.2.4. To what extent did the \u001b[0m\n",
       "\u001b[32mnational referral mechanisms function effectively enough to support the JI-HoA?'\u001b[0m, \u001b[33mchanged\u001b[0m=\u001b[3;91mFalse\u001b[0m\u001b[1m)\u001b[0m, \n",
       "\u001b[1;35mHeadingResult\u001b[0m\u001b[1m(\u001b[0m\u001b[33mold\u001b[0m=\u001b[32m'# 8. Sustainability'\u001b[0m, \u001b[33mpage\u001b[0m=\u001b[1;36m100\u001b[0m, \u001b[33mposition\u001b[0m=\u001b[1;36m1\u001b[0m, \u001b[33mnew\u001b[0m=\u001b[32m'# 8. Sustainability'\u001b[0m, \u001b[33mchanged\u001b[0m=\u001b[3;91mFalse\u001b[0m\u001b[1m)\u001b[0m, \n",
       "\u001b[1;35mHeadingResult\u001b[0m\u001b[1m(\u001b[0m\u001b[33mold\u001b[0m=\u001b[32m'## Overall performance score for sustainability: 2.5/5.'\u001b[0m, \u001b[33mpage\u001b[0m=\u001b[1;36m100\u001b[0m, \u001b[33mposition\u001b[0m=\u001b[1;36m2\u001b[0m, \u001b[33mnew\u001b[0m=\u001b[32m'## Overall \u001b[0m\n",
       "\u001b[32mperformance score for sustainability: 2.5/5.'\u001b[0m, \u001b[33mchanged\u001b[0m=\u001b[3;91mFalse\u001b[0m\u001b[1m)\u001b[0m, \u001b[1;35mHeadingResult\u001b[0m\u001b[1m(\u001b[0m\u001b[33mold\u001b[0m=\u001b[32m'## Robustness score for the \u001b[0m\n",
       "\u001b[32mevidence: 4.5/5.'\u001b[0m, \u001b[33mpage\u001b[0m=\u001b[1;36m100\u001b[0m, \u001b[33mposition\u001b[0m=\u001b[1;36m3\u001b[0m, \u001b[33mnew\u001b[0m=\u001b[32m'## Robustness score for the evidence: 4.5/5.'\u001b[0m, \u001b[33mchanged\u001b[0m=\u001b[3;91mFalse\u001b[0m\u001b[1m)\u001b[0m, \n",
       "\u001b[1;35mHeadingResult\u001b[0m\u001b[1m(\u001b[0m\u001b[33mold\u001b[0m=\u001b[32m'### 8.1. Main achievements in terms of the technical, managerial and financial capacity of \u001b[0m\n",
       "\u001b[32mgovernments and other stakeholders to continue working on return and reintegration'\u001b[0m, \u001b[33mpage\u001b[0m=\u001b[1;36m100\u001b[0m, \u001b[33mposition\u001b[0m=\u001b[1;36m4\u001b[0m, \u001b[33mnew\u001b[0m=\u001b[32m'###\u001b[0m\n",
       "\u001b[32m8.1. Main achievements in terms of the technical, managerial and financial capacity of governments and other \u001b[0m\n",
       "\u001b[32mstakeholders to continue working on return and reintegration'\u001b[0m, \u001b[33mchanged\u001b[0m=\u001b[3;91mFalse\u001b[0m\u001b[1m)\u001b[0m, \u001b[1;35mHeadingResult\u001b[0m\u001b[1m(\u001b[0m\u001b[33mold\u001b[0m=\u001b[32m'# 8.2. Main \u001b[0m\n",
       "\u001b[32mchallenges in terms of the technical, managerial, and financial capacity of governments and other stakeholders to \u001b[0m\n",
       "\u001b[32mcontinue working on return and reintegration'\u001b[0m, \u001b[33mpage\u001b[0m=\u001b[1;36m102\u001b[0m, \u001b[33mposition\u001b[0m=\u001b[1;36m1\u001b[0m, \u001b[33mnew\u001b[0m=\u001b[32m'# 8.2. Main challenges in terms of the \u001b[0m\n",
       "\u001b[32mtechnical, managerial, and financial capacity of governments and other stakeholders to continue working on return \u001b[0m\n",
       "\u001b[32mand reintegration'\u001b[0m, \u001b[33mchanged\u001b[0m=\u001b[3;91mFalse\u001b[0m\u001b[1m)\u001b[0m, \u001b[1;35mHeadingResult\u001b[0m\u001b[1m(\u001b[0m\u001b[33mold\u001b[0m=\u001b[32m'# Part 3: Conclusions and Recommendations'\u001b[0m, \u001b[33mpage\u001b[0m=\u001b[1;36m104\u001b[0m, \n",
       "\u001b[33mposition\u001b[0m=\u001b[1;36m1\u001b[0m, \u001b[33mnew\u001b[0m=\u001b[32m'# Part 3: Conclusions and Recommendations'\u001b[0m, \u001b[33mchanged\u001b[0m=\u001b[3;91mFalse\u001b[0m\u001b[1m)\u001b[0m, \u001b[1;35mHeadingResult\u001b[0m\u001b[1m(\u001b[0m\u001b[33mold\u001b[0m=\u001b[32m'# 9. Conclusions'\u001b[0m, \n",
       "\u001b[33mpage\u001b[0m=\u001b[1;36m105\u001b[0m, \u001b[33mposition\u001b[0m=\u001b[1;36m1\u001b[0m, \u001b[33mnew\u001b[0m=\u001b[32m'# 9. Conclusions'\u001b[0m, \u001b[33mchanged\u001b[0m=\u001b[3;91mFalse\u001b[0m\u001b[1m)\u001b[0m, \u001b[1;35mHeadingResult\u001b[0m\u001b[1m(\u001b[0m\u001b[33mold\u001b[0m=\u001b[32m'# 10. Recommendations'\u001b[0m, \u001b[33mpage\u001b[0m=\u001b[1;36m107\u001b[0m, \n",
       "\u001b[33mposition\u001b[0m=\u001b[1;36m1\u001b[0m, \u001b[33mnew\u001b[0m=\u001b[32m'# 10. Recommendations'\u001b[0m, \u001b[33mchanged\u001b[0m=\u001b[3;91mFalse\u001b[0m\u001b[1m)\u001b[0m, \u001b[1;35mHeadingResult\u001b[0m\u001b[1m(\u001b[0m\u001b[33mold\u001b[0m=\u001b[32m'## 1. Enhance efforts with national, \u001b[0m\n",
       "\u001b[32mregional and local stakeholders to build capacity and ownership \u001b[0m\u001b[32m(\u001b[0m\u001b[32mwhile continuing the provision of funding\u001b[0m\u001b[32m)\u001b[0m\u001b[32m.'\u001b[0m, \n",
       "\u001b[33mpage\u001b[0m=\u001b[1;36m107\u001b[0m, \u001b[33mposition\u001b[0m=\u001b[1;36m2\u001b[0m, \u001b[33mnew\u001b[0m=\u001b[32m'## 1. Enhance efforts with national, regional and local stakeholders to build capacity \u001b[0m\n",
       "\u001b[32mand ownership \u001b[0m\u001b[32m(\u001b[0m\u001b[32mwhile continuing the provision of funding\u001b[0m\u001b[32m)\u001b[0m\u001b[32m.'\u001b[0m, \u001b[33mchanged\u001b[0m=\u001b[3;92mTrue\u001b[0m\u001b[1m)\u001b[0m, \u001b[1;35mHeadingResult\u001b[0m\u001b[1m(\u001b[0m\u001b[33mold\u001b[0m=\u001b[32m'# 3. Increase \u001b[0m\n",
       "\u001b[32mattention on building partnerships with service providers who can function without \u001b[0m\u001b[32m(\u001b[0m\u001b[32msignificant\u001b[0m\u001b[32m)\u001b[0m\u001b[32m funding channelled\u001b[0m\n",
       "\u001b[32mby IOM.'\u001b[0m, \u001b[33mpage\u001b[0m=\u001b[1;36m108\u001b[0m, \u001b[33mposition\u001b[0m=\u001b[1;36m1\u001b[0m, \u001b[33mnew\u001b[0m=\u001b[32m'# 3. Increase attention on building partnerships with service providers who \u001b[0m\n",
       "\u001b[32mcan function without \u001b[0m\u001b[32m(\u001b[0m\u001b[32msignificant\u001b[0m\u001b[32m)\u001b[0m\u001b[32m funding channelled by IOM.'\u001b[0m, \u001b[33mchanged\u001b[0m=\u001b[3;92mTrue\u001b[0m\u001b[1m)\u001b[0m, \u001b[1;35mHeadingResult\u001b[0m\u001b[1m(\u001b[0m\u001b[33mold\u001b[0m=\u001b[32m'# 5. Explore \u001b[0m\n",
       "\u001b[32mopportunities to extend the scope of support provided to returnees, with a focus on longer-term reintegration.'\u001b[0m, \n",
       "\u001b[33mpage\u001b[0m=\u001b[1;36m109\u001b[0m, \u001b[33mposition\u001b[0m=\u001b[1;36m1\u001b[0m, \u001b[33mnew\u001b[0m=\u001b[32m'# 5. Explore opportunities to extend the scope of support provided to returnees, with a \u001b[0m\n",
       "\u001b[32mfocus on longer-term reintegration.'\u001b[0m, \u001b[33mchanged\u001b[0m=\u001b[3;92mTrue\u001b[0m\u001b[1m)\u001b[0m, \u001b[1;35mHeadingResult\u001b[0m\u001b[1m(\u001b[0m\u001b[33mold\u001b[0m=\u001b[32m'# ANNEXES'\u001b[0m, \u001b[33mpage\u001b[0m=\u001b[1;36m111\u001b[0m, \u001b[33mposition\u001b[0m=\u001b[1;36m1\u001b[0m, \u001b[33mnew\u001b[0m=\u001b[32m'# \u001b[0m\n",
       "\u001b[32mANNEXES'\u001b[0m, \u001b[33mchanged\u001b[0m=\u001b[3;91mFalse\u001b[0m\u001b[1m)\u001b[0m, \u001b[1;35mHeadingResult\u001b[0m\u001b[1m(\u001b[0m\u001b[33mold\u001b[0m=\u001b[32m'# Annex 1. Evaluation framework'\u001b[0m, \u001b[33mpage\u001b[0m=\u001b[1;36m112\u001b[0m, \u001b[33mposition\u001b[0m=\u001b[1;36m1\u001b[0m, \u001b[33mnew\u001b[0m=\u001b[32m'# Annex \u001b[0m\n",
       "\u001b[32m1. Evaluation framework'\u001b[0m, \u001b[33mchanged\u001b[0m=\u001b[3;91mFalse\u001b[0m\u001b[1m)\u001b[0m, \u001b[1;35mHeadingResult\u001b[0m\u001b[1m(\u001b[0m\u001b[33mold\u001b[0m=\u001b[32m'# TABLE 13. EVALUATION QUESTIONS FOR THE \u001b[0m\n",
       "\u001b[32mSUSTAINABILITY CRITERION'\u001b[0m, \u001b[33mpage\u001b[0m=\u001b[1;36m122\u001b[0m, \u001b[33mposition\u001b[0m=\u001b[1;36m1\u001b[0m, \u001b[33mnew\u001b[0m=\u001b[32m'# TABLE 13. EVALUATION QUESTIONS FOR THE SUSTAINABILITY \u001b[0m\n",
       "\u001b[32mCRITERION'\u001b[0m, \u001b[33mchanged\u001b[0m=\u001b[3;91mFalse\u001b[0m\u001b[1m)\u001b[0m, \u001b[1;35mHeadingResult\u001b[0m\u001b[1m(\u001b[0m\u001b[33mold\u001b[0m=\u001b[32m'# Annex 2. Indicators, targets and achievements'\u001b[0m, \u001b[33mpage\u001b[0m=\u001b[1;36m125\u001b[0m, \n",
       "\u001b[33mposition\u001b[0m=\u001b[1;36m1\u001b[0m, \u001b[33mnew\u001b[0m=\u001b[32m'# Annex 2. Indicators, targets and achievements'\u001b[0m, \u001b[33mchanged\u001b[0m=\u001b[3;91mFalse\u001b[0m\u001b[1m)\u001b[0m, \u001b[1;35mHeadingResult\u001b[0m\u001b[1m(\u001b[0m\u001b[33mold\u001b[0m=\u001b[32m'# Annex 3. \u001b[0m\n",
       "\u001b[32mIOM performance scores and methodology'\u001b[0m, \u001b[33mpage\u001b[0m=\u001b[1;36m131\u001b[0m, \u001b[33mposition\u001b[0m=\u001b[1;36m1\u001b[0m, \u001b[33mnew\u001b[0m=\u001b[32m'# Annex 3. IOM performance scores and \u001b[0m\n",
       "\u001b[32mmethodology'\u001b[0m, \u001b[33mchanged\u001b[0m=\u001b[3;91mFalse\u001b[0m\u001b[1m)\u001b[0m, \u001b[1;35mHeadingResult\u001b[0m\u001b[1m(\u001b[0m\u001b[33mold\u001b[0m=\u001b[32m'# Relevance'\u001b[0m, \u001b[33mpage\u001b[0m=\u001b[1;36m132\u001b[0m, \u001b[33mposition\u001b[0m=\u001b[1;36m1\u001b[0m, \u001b[33mnew\u001b[0m=\u001b[32m'# Relevance'\u001b[0m, \n",
       "\u001b[33mchanged\u001b[0m=\u001b[3;91mFalse\u001b[0m\u001b[1m)\u001b[0m, \u001b[1;35mHeadingResult\u001b[0m\u001b[1m(\u001b[0m\u001b[33mold\u001b[0m=\u001b[32m'# Coherence'\u001b[0m, \u001b[33mpage\u001b[0m=\u001b[1;36m133\u001b[0m, \u001b[33mposition\u001b[0m=\u001b[1;36m1\u001b[0m, \u001b[33mnew\u001b[0m=\u001b[32m'# Coherence'\u001b[0m, \u001b[33mchanged\u001b[0m=\u001b[3;91mFalse\u001b[0m\u001b[1m)\u001b[0m, \n",
       "\u001b[1;35mHeadingResult\u001b[0m\u001b[1m(\u001b[0m\u001b[33mold\u001b[0m=\u001b[32m'## Effectiveness'\u001b[0m, \u001b[33mpage\u001b[0m=\u001b[1;36m133\u001b[0m, \u001b[33mposition\u001b[0m=\u001b[1;36m2\u001b[0m, \u001b[33mnew\u001b[0m=\u001b[32m'## Effectiveness'\u001b[0m, \u001b[33mchanged\u001b[0m=\u001b[3;91mFalse\u001b[0m\u001b[1m)\u001b[0m, \n",
       "\u001b[1;35mHeadingResult\u001b[0m\u001b[1m(\u001b[0m\u001b[33mold\u001b[0m=\u001b[32m'# Efficiency'\u001b[0m, \u001b[33mpage\u001b[0m=\u001b[1;36m136\u001b[0m, \u001b[33mposition\u001b[0m=\u001b[1;36m1\u001b[0m, \u001b[33mnew\u001b[0m=\u001b[32m'# Efficiency'\u001b[0m, \u001b[33mchanged\u001b[0m=\u001b[3;91mFalse\u001b[0m\u001b[1m)\u001b[0m, \u001b[1;35mHeadingResult\u001b[0m\u001b[1m(\u001b[0m\u001b[33mold\u001b[0m=\u001b[32m'## \u001b[0m\n",
       "\u001b[32mSustainability'\u001b[0m, \u001b[33mpage\u001b[0m=\u001b[1;36m136\u001b[0m, \u001b[33mposition\u001b[0m=\u001b[1;36m2\u001b[0m, \u001b[33mnew\u001b[0m=\u001b[32m'## Sustainability'\u001b[0m, \u001b[33mchanged\u001b[0m=\u001b[3;91mFalse\u001b[0m\u001b[1m)\u001b[0m, \u001b[1;35mHeadingResult\u001b[0m\u001b[1m(\u001b[0m\u001b[33mold\u001b[0m=\u001b[32m'# Annex 4. \u001b[0m\n",
       "\u001b[32mAssessment of indicators'\u001b[0m, \u001b[33mpage\u001b[0m=\u001b[1;36m137\u001b[0m, \u001b[33mposition\u001b[0m=\u001b[1;36m1\u001b[0m, \u001b[33mnew\u001b[0m=\u001b[32m'# Annex 4. Assessment of indicators'\u001b[0m, \u001b[33mchanged\u001b[0m=\u001b[3;91mFalse\u001b[0m\u001b[1m)\u001b[0m, \n",
       "\u001b[1;35mHeadingResult\u001b[0m\u001b[1m(\u001b[0m\u001b[33mold\u001b[0m=\u001b[32m'# Annex 5. Members of the PSCs'\u001b[0m, \u001b[33mpage\u001b[0m=\u001b[1;36m142\u001b[0m, \u001b[33mposition\u001b[0m=\u001b[1;36m1\u001b[0m, \u001b[33mnew\u001b[0m=\u001b[32m'# Annex 5. Members of the PSCs'\u001b[0m, \n",
       "\u001b[33mchanged\u001b[0m=\u001b[3;91mFalse\u001b[0m\u001b[1m)\u001b[0m\u001b[1m]\u001b[0m\n",
       "\u001b[1m)\u001b[0m\n"
      ]
     },
     "metadata": {},
     "output_type": "display_data"
    },
    {
     "data": {
      "text/html": [
       "<pre style=\"white-space:pre;overflow-x:auto;line-height:normal;font-family:Menlo,'DejaVu Sans Mono',consolas,'Courier New',monospace\">Usage:\n",
       "<span style=\"font-weight: bold\">{</span>\n",
       "    <span style=\"color: #008000; text-decoration-color: #008000\">'gemini/gemini-2.0-flash-exp'</span>: <span style=\"font-weight: bold\">{</span>\n",
       "        <span style=\"color: #008000; text-decoration-color: #008000\">'completion_tokens'</span>: <span style=\"color: #008080; text-decoration-color: #008080; font-weight: bold\">8120</span>,\n",
       "        <span style=\"color: #008000; text-decoration-color: #008000\">'prompt_tokens'</span>: <span style=\"color: #008080; text-decoration-color: #008080; font-weight: bold\">3360</span>,\n",
       "        <span style=\"color: #008000; text-decoration-color: #008000\">'total_tokens'</span>: <span style=\"color: #008080; text-decoration-color: #008080; font-weight: bold\">11480</span>,\n",
       "        <span style=\"color: #008000; text-decoration-color: #008000\">'completion_tokens_details'</span>: <span style=\"color: #800080; text-decoration-color: #800080; font-style: italic\">None</span>,\n",
       "        <span style=\"color: #008000; text-decoration-color: #008000\">'prompt_tokens_details'</span>: <span style=\"font-weight: bold\">{</span>\n",
       "            <span style=\"color: #008000; text-decoration-color: #008000\">'audio_tokens'</span>: <span style=\"color: #800080; text-decoration-color: #800080; font-style: italic\">None</span>,\n",
       "            <span style=\"color: #008000; text-decoration-color: #008000\">'cached_tokens'</span>: <span style=\"color: #800080; text-decoration-color: #800080; font-style: italic\">None</span>,\n",
       "            <span style=\"color: #008000; text-decoration-color: #008000\">'text_tokens'</span>: <span style=\"color: #008080; text-decoration-color: #008080; font-weight: bold\">3360</span>,\n",
       "            <span style=\"color: #008000; text-decoration-color: #008000\">'image_tokens'</span>: <span style=\"color: #800080; text-decoration-color: #800080; font-style: italic\">None</span>\n",
       "        <span style=\"font-weight: bold\">}</span>\n",
       "    <span style=\"font-weight: bold\">}</span>\n",
       "<span style=\"font-weight: bold\">}</span>\n",
       "</pre>\n"
      ],
      "text/plain": [
       "Usage:\n",
       "\u001b[1m{\u001b[0m\n",
       "    \u001b[32m'gemini/gemini-2.0-flash-exp'\u001b[0m: \u001b[1m{\u001b[0m\n",
       "        \u001b[32m'completion_tokens'\u001b[0m: \u001b[1;36m8120\u001b[0m,\n",
       "        \u001b[32m'prompt_tokens'\u001b[0m: \u001b[1;36m3360\u001b[0m,\n",
       "        \u001b[32m'total_tokens'\u001b[0m: \u001b[1;36m11480\u001b[0m,\n",
       "        \u001b[32m'completion_tokens_details'\u001b[0m: \u001b[3;35mNone\u001b[0m,\n",
       "        \u001b[32m'prompt_tokens_details'\u001b[0m: \u001b[1m{\u001b[0m\n",
       "            \u001b[32m'audio_tokens'\u001b[0m: \u001b[3;35mNone\u001b[0m,\n",
       "            \u001b[32m'cached_tokens'\u001b[0m: \u001b[3;35mNone\u001b[0m,\n",
       "            \u001b[32m'text_tokens'\u001b[0m: \u001b[1;36m3360\u001b[0m,\n",
       "            \u001b[32m'image_tokens'\u001b[0m: \u001b[3;35mNone\u001b[0m\n",
       "        \u001b[1m}\u001b[0m\n",
       "    \u001b[1m}\u001b[0m\n",
       "\u001b[1m}\u001b[0m\n"
      ]
     },
     "metadata": {},
     "output_type": "display_data"
    }
   ],
   "source": [
    "#| eval: false\n",
    "result = fix_md(hdgs, track_usage=True)\n",
    "print(\"Result:\", result)\n",
    "print(\"Usage:\", result.get_lm_usage())"
   ]
  },
  {
   "cell_type": "code",
   "execution_count": null,
   "metadata": {},
   "outputs": [],
   "source": [
    "#| exports\n",
    "def group_corrections_by_page(\n",
    "    results: list[HeadingResult], # List of headings with corrections and change status\n",
    "    ):\n",
    "    \"Group HeadingResult corrections by page number into dict with page nums as keys\"\n",
    "    page_groups = {}\n",
    "    for result in results:\n",
    "        page = result.page\n",
    "        if page not in page_groups:\n",
    "            page_groups[page] = []\n",
    "        page_groups[page].append(result)\n",
    "    return page_groups"
   ]
  },
  {
   "cell_type": "code",
   "execution_count": null,
   "metadata": {},
   "outputs": [
    {
     "data": {
      "text/plain": [
       "{1: [HeadingResult(old='# **PPMi**', page=1, position=1, new='# **PPMi**', changed=False)],\n",
       " 5: [HeadingResult(old='# LIST OF FIGURES', page=5, position=1, new='# LIST OF FIGURES', changed=False)],\n",
       " 6: [HeadingResult(old='# Abbreviations and terminology', page=6, position=1, new='# Abbreviations and terminology', changed=False)],\n",
       " 8: [HeadingResult(old='# Key terminology', page=8, position=1, new='# Key terminology', changed=False)],\n",
       " 10: [HeadingResult(old='# Executive summary', page=10, position=1, new='# Executive summary', changed=False),\n",
       "  HeadingResult(old='## Background', page=10, position=2, new='## Background', changed=False)],\n",
       " 11: [HeadingResult(old='# Methodology', page=11, position=1, new='# Methodology', changed=False)],\n",
       " 12: [HeadingResult(old='# Findings', page=12, position=1, new='# Findings', changed=False),\n",
       "  HeadingResult(old='## Relevance', page=12, position=2, new='## Relevance', changed=False)],\n",
       " 13: [HeadingResult(old='# Coherence', page=13, position=1, new='# Coherence', changed=False),\n",
       "  HeadingResult(old='## $4.3 / 5$', page=13, position=2, new='## $4.3 / 5$', changed=True)],\n",
       " 14: [HeadingResult(old='# Effectiveness', page=14, position=1, new='# Effectiveness', changed=False),\n",
       "  HeadingResult(old='## Specific Outcome 1:', page=14, position=2, new='## Specific Outcome 1:', changed=False),\n",
       "  HeadingResult(old='## Specific Outcome 2:', page=14, position=3, new='## Specific Outcome 2:', changed=False)],\n",
       " 15: [HeadingResult(old='# Specific Outcome 3:', page=15, position=1, new='# Specific Outcome 3:', changed=False),\n",
       "  HeadingResult(old='## Efficiency', page=15, position=2, new='## Efficiency', changed=False)],\n",
       " 16: [HeadingResult(old='# Sustainability', page=16, position=1, new='# Sustainability', changed=False),\n",
       "  HeadingResult(old='## Conclusions and recommendations', page=16, position=2, new='## Conclusions and recommendations', changed=False)],\n",
       " 18: [HeadingResult(old='# 1. Introduction', page=18, position=1, new='# 1. Introduction', changed=False)],\n",
       " 19: [HeadingResult(old='# Part 1: Background and methodology', page=19, position=1, new='# Part 1: Background and methodology', changed=False)],\n",
       " 20: [HeadingResult(old='# 2. Background to the JI-HoA', page=20, position=1, new='# 2. Background to the JI-HoA', changed=False),\n",
       "  HeadingResult(old='### 2.1. Context and design of the JI-HoA', page=20, position=2, new='## 2.1. Context and design of the JI-HoA', changed=False)],\n",
       " 23: [HeadingResult(old='# 2.2. External factors affecting the implementation of the JI-HoA', page=23, position=1, new='# 2.2. External factors affecting the implementation of the JI-HoA', changed=False)],\n",
       " 26: [HeadingResult(old='# 3. Methodology of the evaluation', page=26, position=1, new='# 3. Methodology of the evaluation', changed=False),\n",
       "  HeadingResult(old='### 3.1. Evaluation framework', page=26, position=2, new='## 3.1. Evaluation framework', changed=False)],\n",
       " 27: [HeadingResult(old='# TABLE 2. INTERVENTION LOGIC', page=27, position=1, new='# TABLE 2. INTERVENTION LOGIC', changed=False)],\n",
       " 29: [HeadingResult(old='# 3.2. Evaluation matrix', page=29, position=1, new='# 3.2. Evaluation matrix', changed=False),\n",
       "  HeadingResult(old='### 3.3. Data collection', page=29, position=2, new='## 3.3. Data collection', changed=False)],\n",
       " 30: [HeadingResult(old='# 3.4. Scoring system', page=30, position=1, new='# 3.4. Scoring system', changed=False)],\n",
       " 32: [HeadingResult(old='# 3.5. Limitations', page=32, position=1, new='# 3.5. Limitations', changed=False)],\n",
       " 33: [HeadingResult(old='# Part 2: Findings', page=33, position=1, new='# Part 2: Findings', changed=False)],\n",
       " 34: [HeadingResult(old='# 4. Relevance', page=34, position=1, new='# 4. Relevance', changed=False),\n",
       "  HeadingResult(old='## Overall performance score for relevance: 3.9/5.', page=34, position=2, new='## Overall performance score for relevance: 3.9/5.', changed=False),\n",
       "  HeadingResult(old='## Robustness score for the evidence: 4.5/5.', page=34, position=3, new='## Robustness score for the evidence: 4.5/5.', changed=False),\n",
       "  HeadingResult(old='### 4.1. Relevance of programme activities for migrants, returnees, and communities', page=34, position=4, new='### 4.1. Relevance of programme activities for migrants, returnees, and communities', changed=False),\n",
       "  HeadingResult(old='### 4.1.1. Needs of migrants', page=34, position=5, new='#### 4.1.1. Needs of migrants', changed=False)],\n",
       " 35: [HeadingResult(old='# 4.1.2. Needs of returnees', page=35, position=1, new='# 4.1.2. Needs of returnees', changed=False)],\n",
       " 38: [HeadingResult(old='# 4.1.3. Needs of community members', page=38, position=1, new='# 4.1.3. Needs of community members', changed=False)],\n",
       " 39: [HeadingResult(old=\"# 4.2. Programme's relevance to the needs of stakeholders\", page=39, position=1, new=\"# 4.2. Programme's relevance to the needs of stakeholders\", changed=False),\n",
       "  HeadingResult(old='### 4.2.1. Needs of governments', page=39, position=2, new='### 4.2.1. Needs of governments', changed=False)],\n",
       " 40: [HeadingResult(old='# 4.2.2. Needs of other stakeholders', page=40, position=1, new='# 4.2.2. Needs of other stakeholders', changed=False)],\n",
       " 41: [HeadingResult(old='# 4.3. Involvement of stakeholders in the design, implementation and monitoring of the programme', page=41, position=1, new='# 4.3. Involvement of stakeholders in the design, implementation and monitoring of the programme', changed=False)],\n",
       " 42: [HeadingResult(old='# 4.4. Horizontal priorities', page=42, position=1, new='# 4.4. Horizontal priorities', changed=False),\n",
       "  HeadingResult(old='### 4.4.1. Gender equality', page=42, position=2, new='### 4.4.1. Gender equality', changed=False)],\n",
       " 43: [HeadingResult(old='# 4.4.2. Persons with disabilities', page=43, position=1, new='# 4.4.2. Persons with disabilities', changed=False),\n",
       "  HeadingResult(old='### 4.4.3. Protection', page=43, position=2, new='### 4.4.3. Protection', changed=False)],\n",
       " 44: [HeadingResult(old='# 4.4.4. Environmental sustainability', page=44, position=1, new='# 4.4.4. Environmental sustainability', changed=False)],\n",
       " 46: [HeadingResult(old='# 5. Coherence', page=46, position=1, new='# 5. Coherence', changed=False),\n",
       "  HeadingResult(old='## Overall performance score for coherence: $4.3 / 5$.', page=46, position=2, new='## Overall performance score for coherence: $4.3 / 5$.', changed=False),\n",
       "  HeadingResult(old='## Robustness score for the evidence: $4 / 5$.', page=46, position=3, new='## Robustness score for the evidence: $4 / 5$.', changed=False),\n",
       "  HeadingResult(old=\"### 5.1. The JI-HoA's alignment with the objectives and standards of IOM, and the objectives of the EU\", page=46, position=4, new=\"### 5.1. The JI-HoA's alignment with the objectives and standards of IOM, and the objectives of the EU\", changed=False),\n",
       "  HeadingResult(old='### 5.1.1. Objectives of the IOM', page=46, position=5, new='#### 5.1.1. Objectives of the IOM', changed=False)],\n",
       " 48: [HeadingResult(old='# 5.1.2. Objectives of the EU', page=48, position=1, new='# 5.1.2. Objectives of the EU', changed=False)],\n",
       " 49: [HeadingResult(old='# 5.1.3. Government initiatives', page=49, position=1, new='# 5.1.3. Government initiatives', changed=False)],\n",
       " 50: [HeadingResult(old='# 5.2. Alignment with other initiatives', page=50, position=1, new='# 5.2. Alignment with other initiatives', changed=False),\n",
       "  HeadingResult(old='### 5.2.1. Initiatives of regional and continental institutions', page=50, position=2, new='### 5.2.1. Initiatives of regional and continental institutions', changed=False)],\n",
       " 51: [HeadingResult(old='# 5.2.2. Initiatives by other (UN) organisations', page=51, position=1, new='# 5.2.2. Initiatives by other (UN) organisations', changed=False)],\n",
       " 54: [HeadingResult(old='# 6. Effectiveness and impact', page=54, position=1, new='# 6. Effectiveness and impact', changed=False),\n",
       "  HeadingResult(old='## Overall performance score for effectiveness: 3.8/5.', page=54, position=2, new='## Overall performance score for effectiveness: 3.8/5.', changed=False),\n",
       "  HeadingResult(old=\"## Overall score on IOM's achievements: 3.4/5.\", page=54, position=3, new=\"## Overall score on IOM's achievements: 3.4/5.\", changed=False),\n",
       "  HeadingResult(old='## Robustness score for the evidence: $4 / 5$.', page=54, position=4, new='## Robustness score for the evidence: $4 / 5$.', changed=False),\n",
       "  HeadingResult(old=\"### 6.1. Design and achievement of targets for the programme's indicators\", page=54, position=5, new=\"### 6.1. Design and achievement of targets for the programme's indicators\", changed=False)],\n",
       " 57: [HeadingResult(old='# 6.2. Specific Objective 1: partner countries and relevant stakeholders developed or strengthened evidence-based return and reintegration procedures', page=57, position=1, new='# 6.2. Specific Objective 1: partner countries and relevant stakeholders developed or strengthened evidence-based return and reintegration procedures', changed=False),\n",
       "  HeadingResult(old='### 6.2.1. Achievement of outputs and results', page=57, position=2, new='### 6.2.1. Achievement of outputs and results', changed=False),\n",
       "  HeadingResult(old='## Data availability', page=57, position=3, new='#### Data availability', changed=True)],\n",
       " 58: [HeadingResult(old='# Capacity of stakeholders', page=58, position=1, new='### Capacity of stakeholders', changed=True)],\n",
       " 61: [HeadingResult(old='# Capacity of the African Union Commission', page=61, position=1, new='### Capacity of the African Union Commission', changed=True)],\n",
       " 62: [HeadingResult(old='# 6.2.2. Achievement of Specific Objective 1', page=62, position=1, new='# 6.2.2. Achievement of Specific Objective 1', changed=False)],\n",
       " 64: [HeadingResult(old='# 6.3. Specific Objective 2: safe, humane, dignified voluntary return processes are enhanced along main migration routes', page=64, position=1, new='# 6.3. Specific Objective 2: safe, humane, dignified voluntary return processes are enhanced along main migration routes', changed=False),\n",
       "  HeadingResult(old='### 6.3.1. Achievement of outputs and results', page=64, position=2, new='### 6.3.1. Achievement of outputs and results', changed=False),\n",
       "  HeadingResult(old='## Outreach and awareness', page=64, position=3, new='#### Outreach and awareness', changed=True)],\n",
       " 66: [HeadingResult(old='# Assistance to stranded migrants', page=66, position=1, new='### Assistance to stranded migrants', changed=True)],\n",
       " 67: [HeadingResult(old='# 6.3.2. Achievement of Specific Objective 2', page=67, position=1, new='# 6.3.2. Achievement of Specific Objective 2', changed=False),\n",
       "  HeadingResult(old='## 6.4. Specific Objective 3: returnees are sustainably integrated in host communities, and host communities are better able to create living standards that address drivers of migration.', page=67, position=2, new='## 6.4. Specific Objective 3: returnees are sustainably integrated in host communities, and host communities are better able to create living standards that address drivers of migration.', changed=False)],\n",
       " 68: [HeadingResult(old='# 6.4.1. Achievement of outputs and results', page=68, position=1, new='# 6.4.1. Achievement of outputs and results', changed=True),\n",
       "  HeadingResult(old='## Individual and community-based reintegration', page=68, position=2, new='## Individual and community-based reintegration', changed=True)],\n",
       " 70: [HeadingResult(old='# M\\\\&E systems', page=70, position=1, new='### M&E systems', changed=True)],\n",
       " 71: [HeadingResult(old='# 6.4.2. Achievement of Specific Objective 3', page=71, position=1, new='# 6.4.2. Achievement of Specific Objective 3', changed=False),\n",
       "  HeadingResult(old='## Overall achievement of reintegration', page=71, position=2, new='## Overall achievement of reintegration', changed=True)],\n",
       " 77: [HeadingResult(old='# 6.5. Assessing vulnerabilities', page=77, position=1, new='### 6.5. Assessing vulnerabilities', changed=True),\n",
       "  HeadingResult(old='### 6.5.1. Achievements and challenges in screening migrant vulnerabilities and assessing eligibility for support', page=77, position=2, new='#### 6.5.1. Achievements and challenges in screening migrant vulnerabilities and assessing eligibility for support', changed=False)],\n",
       " 79: [HeadingResult(old='# 6.5.2. Contact and communication with beneficiaries', page=79, position=1, new='# 6.5.2. Contact and communication with beneficiaries', changed=False)],\n",
       " 81: [HeadingResult(old='# 6.6. Functioning of the integrated approach', page=81, position=1, new='# 6.6. Functioning of the integrated approach', changed=False)],\n",
       " 83: [HeadingResult(old='# 7. Efficiency', page=83, position=1, new='# 7. Efficiency', changed=False),\n",
       "  HeadingResult(old='## Overall performance score for efficiency: 4.3/5.', page=83, position=2, new='## Overall performance score for efficiency: 4.3/5.', changed=False),\n",
       "  HeadingResult(old='## Robustness score for the evidence: 3.5/5.', page=83, position=3, new='## Robustness score for the evidence: 3.5/5.', changed=False),\n",
       "  HeadingResult(old='### 7.1. Did the programme receive sufficient resources to achieve its objectives?', page=83, position=4, new='### 7.1. Did the programme receive sufficient resources to achieve its objectives?', changed=False),\n",
       "  HeadingResult(old=\"### 7.1.1. To what extent were financial resources sufficient to meet the programme's objectives?\", page=83, position=5, new=\"#### 7.1.1. To what extent were financial resources sufficient to meet the programme's objectives?\", changed=False)],\n",
       " 86: [HeadingResult(old='# 7.1.2. To what extent was the \"top-up\" funding system efficient for planning and budgeting?', page=86, position=1, new='# 7.1.2. To what extent was the \"top-up\" funding system efficient for planning and budgeting?', changed=False)],\n",
       " 87: [HeadingResult(old=\"# 7.1.3. To what extent were human resources sufficient to meet the programme's objectives?\", page=87, position=1, new=\"# 7.1.3. To what extent were human resources sufficient to meet the programme's objectives?\", changed=False)],\n",
       " 88: [HeadingResult(old='# 7.1.4. To what extent were the programme activities implemented according to the initial timeline?', page=88, position=1, new='# 7.1.4. To what extent were the programme activities implemented according to the initial timeline?', changed=False)],\n",
       " 89: [HeadingResult(old='# 7.2. Cost-effectiveness and efficiency of the programme', page=89, position=1, new='# 7.2. Cost-effectiveness and efficiency of the programme', changed=False),\n",
       "  HeadingResult(old='### 7.2.1. How well were the resources (funds, expertise and time) converted into results?', page=89, position=2, new='### 7.2.1. How well were the resources (funds, expertise and time) converted into results?', changed=False)],\n",
       " 90: [HeadingResult(old='# Increased efficiency through partnerships and capacity building', page=90, position=1, new='### Increased efficiency through partnerships and capacity building', changed=True)],\n",
       " 91: [HeadingResult(old='# 7.2.2. Could the programme have been implemented in a more cost-effective manner? If so, how?', page=91, position=1, new='# 7.2.2. Could the programme have been implemented in a more cost-effective manner? If so, how?', changed=False),\n",
       "  HeadingResult(old='## Improved efficiency of some activities', page=91, position=2, new='## Improved efficiency of some activities', changed=True)],\n",
       " 92: [HeadingResult(old='# Decreased efficiency of some activities', page=92, position=1, new='### Decreased efficiency of some activities', changed=True)],\n",
       " 93: [HeadingResult(old='# Examples of cost reduction', page=93, position=1, new='### Examples of cost reduction', changed=True)],\n",
       " 94: [HeadingResult(old='# Lessons learned in relation to cost-effectiveness', page=94, position=1, new='### Lessons learned in relation to cost-effectiveness', changed=True),\n",
       "  HeadingResult(old='### 7.2.3. To what extent did the programme make efficiency gains by relying on existing services?', page=94, position=2, new='### 7.2.3. To what extent did the programme make efficiency gains by relying on existing services?', changed=False)],\n",
       " 97: [HeadingResult(old='# 7.2.4. To what extent did the national referral mechanisms function effectively enough to support the JI-HoA?', page=97, position=1, new='# 7.2.4. To what extent did the national referral mechanisms function effectively enough to support the JI-HoA?', changed=False)],\n",
       " 100: [HeadingResult(old='# 8. Sustainability', page=100, position=1, new='# 8. Sustainability', changed=False),\n",
       "  HeadingResult(old='## Overall performance score for sustainability: 2.5/5.', page=100, position=2, new='## Overall performance score for sustainability: 2.5/5.', changed=False),\n",
       "  HeadingResult(old='## Robustness score for the evidence: 4.5/5.', page=100, position=3, new='## Robustness score for the evidence: 4.5/5.', changed=False),\n",
       "  HeadingResult(old='### 8.1. Main achievements in terms of the technical, managerial and financial capacity of governments and other stakeholders to continue working on return and reintegration', page=100, position=4, new='### 8.1. Main achievements in terms of the technical, managerial and financial capacity of governments and other stakeholders to continue working on return and reintegration', changed=False)],\n",
       " 102: [HeadingResult(old='# 8.2. Main challenges in terms of the technical, managerial, and financial capacity of governments and other stakeholders to continue working on return and reintegration', page=102, position=1, new='# 8.2. Main challenges in terms of the technical, managerial, and financial capacity of governments and other stakeholders to continue working on return and reintegration', changed=False)],\n",
       " 104: [HeadingResult(old='# Part 3: Conclusions and Recommendations', page=104, position=1, new='# Part 3: Conclusions and Recommendations', changed=False)],\n",
       " 105: [HeadingResult(old='# 9. Conclusions', page=105, position=1, new='# 9. Conclusions', changed=False)],\n",
       " 107: [HeadingResult(old='# 10. Recommendations', page=107, position=1, new='# 10. Recommendations', changed=False),\n",
       "  HeadingResult(old='## 1. Enhance efforts with national, regional and local stakeholders to build capacity and ownership (while continuing the provision of funding).', page=107, position=2, new='## 1. Enhance efforts with national, regional and local stakeholders to build capacity and ownership (while continuing the provision of funding).', changed=True)],\n",
       " 108: [HeadingResult(old='# 3. Increase attention on building partnerships with service providers who can function without (significant) funding channelled by IOM.', page=108, position=1, new='# 3. Increase attention on building partnerships with service providers who can function without (significant) funding channelled by IOM.', changed=True)],\n",
       " 109: [HeadingResult(old='# 5. Explore opportunities to extend the scope of support provided to returnees, with a focus on longer-term reintegration.', page=109, position=1, new='# 5. Explore opportunities to extend the scope of support provided to returnees, with a focus on longer-term reintegration.', changed=True)],\n",
       " 111: [HeadingResult(old='# ANNEXES', page=111, position=1, new='# ANNEXES', changed=False)],\n",
       " 112: [HeadingResult(old='# Annex 1. Evaluation framework', page=112, position=1, new='# Annex 1. Evaluation framework', changed=False)],\n",
       " 122: [HeadingResult(old='# TABLE 13. EVALUATION QUESTIONS FOR THE SUSTAINABILITY CRITERION', page=122, position=1, new='# TABLE 13. EVALUATION QUESTIONS FOR THE SUSTAINABILITY CRITERION', changed=False)],\n",
       " 125: [HeadingResult(old='# Annex 2. Indicators, targets and achievements', page=125, position=1, new='# Annex 2. Indicators, targets and achievements', changed=False)],\n",
       " 131: [HeadingResult(old='# Annex 3. IOM performance scores and methodology', page=131, position=1, new='# Annex 3. IOM performance scores and methodology', changed=False)],\n",
       " 132: [HeadingResult(old='# Relevance', page=132, position=1, new='# Relevance', changed=False)],\n",
       " 133: [HeadingResult(old='# Coherence', page=133, position=1, new='# Coherence', changed=False),\n",
       "  HeadingResult(old='## Effectiveness', page=133, position=2, new='## Effectiveness', changed=False)],\n",
       " 136: [HeadingResult(old='# Efficiency', page=136, position=1, new='# Efficiency', changed=False),\n",
       "  HeadingResult(old='## Sustainability', page=136, position=2, new='## Sustainability', changed=False)],\n",
       " 137: [HeadingResult(old='# Annex 4. Assessment of indicators', page=137, position=1, new='# Annex 4. Assessment of indicators', changed=False)],\n",
       " 142: [HeadingResult(old='# Annex 5. Members of the PSCs', page=142, position=1, new='# Annex 5. Members of the PSCs', changed=False)]}"
      ]
     },
     "execution_count": null,
     "metadata": {},
     "output_type": "execute_result"
    }
   ],
   "source": [
    "#| eval: false\n",
    "group_corrections_by_page(result.results)"
   ]
  },
  {
   "cell_type": "code",
   "execution_count": null,
   "metadata": {},
   "outputs": [],
   "source": [
    "#| exports\n",
    "def apply_corrections_to_page(\n",
    "    page_nb, # Page number\n",
    "    corrections, # List of corrections\n",
    "    enhanced_path, # Path to enhanced directory\n",
    "    ):\n",
    "    \"Apply corrections to a page in the enhanced directory\"\n",
    "    page_file = enhanced_path / f\"page_{page_nb}.md\"\n",
    "    lines = page_file.read_text().splitlines()\n",
    "    corrections_copy = corrections.copy()\n",
    "    \n",
    "    for i, line in enumerate(lines):\n",
    "        for correction in corrections_copy:\n",
    "            if line.strip() == correction.old.strip():\n",
    "                lines[i] = f\"{correction.new} .... page {page_nb}\"\n",
    "                corrections_copy.remove(correction)\n",
    "                break\n",
    "            \n",
    "    page_file.write_text('\\n'.join(lines))"
   ]
  },
  {
   "cell_type": "code",
   "execution_count": null,
   "metadata": {},
   "outputs": [],
   "source": [
    "#| eval: false\n",
    "enhanced_path = doc / cfg.enhanced_dir\n",
    "apply_corrections_to_page(5, result.results, enhanced_path)"
   ]
  },
  {
   "cell_type": "code",
   "execution_count": null,
   "metadata": {},
   "outputs": [],
   "source": [
    "#| exports\n",
    "def apply_all_corrections(\n",
    "    results, # List of headings with corrections and change status\n",
    "    enhanced_path, # Path to enhanced directory\n",
    "    ):\n",
    "    \"Apply all corrections to the pages in enhanced directory\"\n",
    "    grouped = group_corrections_by_page(results)\n",
    "    for page_nb, corrections in grouped.items(): \n",
    "        apply_corrections_to_page(page_nb, corrections, enhanced_path)"
   ]
  },
  {
   "cell_type": "code",
   "execution_count": null,
   "metadata": {},
   "outputs": [],
   "source": [
    "#| eval: false\n",
    "apply_all_corrections(result.results, enhanced_path)"
   ]
  },
  {
   "cell_type": "code",
   "execution_count": null,
   "metadata": {},
   "outputs": [],
   "source": [
    "#| exports\n",
    "def fix_doc_hdgs(\n",
    "    src_dir, # Path to the folder containing the document\n",
    "    force=False, # Whether to overwrite the existing enhanced directory\n",
    "    ):\n",
    "    \"Process the document directory\"\n",
    "    src_path = Path(src_dir)\n",
    "    enhanced_path = src_path / cfg.enhanced_dir\n",
    "    \n",
    "    if enhanced_path.exists() and not force:\n",
    "        print(f\"Enhanced directory '{cfg.enhanced_dir}' already exists. Use force=True to overwrite.\")\n",
    "        return\n",
    "    if enhanced_path.exists() and force: \n",
    "        shutil.rmtree(enhanced_path)\n",
    "    \n",
    "    enhanced_path = setup_enhanced_dir(src_dir)\n",
    "    pages = enhanced_path.ls(file_exts=\".md\").sorted(key=lambda p: int(p.stem.split('_')[1]))\n",
    "    result = fix_md(get_hdgs_with_pages(pages))\n",
    "    apply_all_corrections(result.results, enhanced_path)"
   ]
  },
  {
   "cell_type": "code",
   "execution_count": null,
   "metadata": {},
   "outputs": [
    {
     "data": {
      "text/html": [
       "<pre style=\"white-space:pre;overflow-x:auto;line-height:normal;font-family:Menlo,'DejaVu Sans Mono',consolas,'Courier New',monospace\">..<span style=\"color: #800080; text-decoration-color: #800080\">/_data/md_library/49d2fba781b6a7c0d94577479636ee6f/</span><span style=\"color: #ff00ff; text-decoration-color: #ff00ff\">final_evaluation_report_final_olta_ndoja_pdf</span>\n",
       "</pre>\n"
      ],
      "text/plain": [
       "..\u001b[35m/_data/md_library/49d2fba781b6a7c0d94577479636ee6f/\u001b[0m\u001b[95mfinal_evaluation_report_final_olta_ndoja_pdf\u001b[0m\n"
      ]
     },
     "metadata": {},
     "output_type": "display_data"
    }
   ],
   "source": [
    "#| eval: false\n",
    "print(doc)\n",
    "fix_doc_hdgs(doc, force=True)"
   ]
  },
  {
   "cell_type": "markdown",
   "metadata": {},
   "source": [
    "## Enrich with figures description"
   ]
  },
  {
   "cell_type": "code",
   "execution_count": null,
   "metadata": {},
   "outputs": [
    {
     "data": {
      "text/plain": [
       "(#142) [Path('../_data/md_library/49d2fba781b6a7c0d94577479636ee6f/final_evaluation_report_final_olta_ndoja_pdf/enhanced/page_1.md'),Path('../_data/md_library/49d2fba781b6a7c0d94577479636ee6f/final_evaluation_report_final_olta_ndoja_pdf/enhanced/page_2.md'),Path('../_data/md_library/49d2fba781b6a7c0d94577479636ee6f/final_evaluation_report_final_olta_ndoja_pdf/enhanced/page_3.md'),Path('../_data/md_library/49d2fba781b6a7c0d94577479636ee6f/final_evaluation_report_final_olta_ndoja_pdf/enhanced/page_4.md'),Path('../_data/md_library/49d2fba781b6a7c0d94577479636ee6f/final_evaluation_report_final_olta_ndoja_pdf/enhanced/page_5.md'),Path('../_data/md_library/49d2fba781b6a7c0d94577479636ee6f/final_evaluation_report_final_olta_ndoja_pdf/enhanced/page_6.md'),Path('../_data/md_library/49d2fba781b6a7c0d94577479636ee6f/final_evaluation_report_final_olta_ndoja_pdf/enhanced/page_7.md'),Path('../_data/md_library/49d2fba781b6a7c0d94577479636ee6f/final_evaluation_report_final_olta_ndoja_pdf/enhanced/page_8.md'),Path('../_data/md_library/49d2fba781b6a7c0d94577479636ee6f/final_evaluation_report_final_olta_ndoja_pdf/enhanced/page_9.md'),Path('../_data/md_library/49d2fba781b6a7c0d94577479636ee6f/final_evaluation_report_final_olta_ndoja_pdf/enhanced/page_10.md'),Path('../_data/md_library/49d2fba781b6a7c0d94577479636ee6f/final_evaluation_report_final_olta_ndoja_pdf/enhanced/page_11.md'),Path('../_data/md_library/49d2fba781b6a7c0d94577479636ee6f/final_evaluation_report_final_olta_ndoja_pdf/enhanced/page_12.md'),Path('../_data/md_library/49d2fba781b6a7c0d94577479636ee6f/final_evaluation_report_final_olta_ndoja_pdf/enhanced/page_13.md'),Path('../_data/md_library/49d2fba781b6a7c0d94577479636ee6f/final_evaluation_report_final_olta_ndoja_pdf/enhanced/page_14.md'),Path('../_data/md_library/49d2fba781b6a7c0d94577479636ee6f/final_evaluation_report_final_olta_ndoja_pdf/enhanced/page_15.md'),Path('../_data/md_library/49d2fba781b6a7c0d94577479636ee6f/final_evaluation_report_final_olta_ndoja_pdf/enhanced/page_16.md'),Path('../_data/md_library/49d2fba781b6a7c0d94577479636ee6f/final_evaluation_report_final_olta_ndoja_pdf/enhanced/page_17.md'),Path('../_data/md_library/49d2fba781b6a7c0d94577479636ee6f/final_evaluation_report_final_olta_ndoja_pdf/enhanced/page_18.md'),Path('../_data/md_library/49d2fba781b6a7c0d94577479636ee6f/final_evaluation_report_final_olta_ndoja_pdf/enhanced/page_19.md'),Path('../_data/md_library/49d2fba781b6a7c0d94577479636ee6f/final_evaluation_report_final_olta_ndoja_pdf/enhanced/page_20.md')...]"
      ]
     },
     "execution_count": null,
     "metadata": {},
     "output_type": "execute_result"
    }
   ],
   "source": [
    "#| eval: false\n",
    "# doc = src_dir / 'abridged_evaluation_report_final_olta_ndoja_pdf/enhanced'\n",
    "doc = src_dir / 'final_evaluation_report_final_olta_ndoja_pdf/enhanced'\n",
    "pages = doc.ls(file_exts=\".md\").sorted(key=lambda p: int(p.stem.split('_')[1])); pages"
   ]
  },
  {
   "cell_type": "code",
   "execution_count": null,
   "metadata": {},
   "outputs": [],
   "source": [
    "#| exports\n",
    "def has_images(page_path):\n",
    "    content = Path(page_path).read_text()\n",
    "    return bool(re.search(r'!\\[[^\\]]*\\]\\([^)]+\\)', content))"
   ]
  },
  {
   "cell_type": "markdown",
   "metadata": {},
   "source": [
    "For instance:"
   ]
  },
  {
   "cell_type": "code",
   "execution_count": null,
   "metadata": {},
   "outputs": [
    {
     "data": {
      "text/plain": [
       "[Path('../_data/md_library/49d2fba781b6a7c0d94577479636ee6f/final_evaluation_report_final_olta_ndoja_pdf/enhanced/page_1.md'),\n",
       " Path('../_data/md_library/49d2fba781b6a7c0d94577479636ee6f/final_evaluation_report_final_olta_ndoja_pdf/enhanced/page_11.md'),\n",
       " Path('../_data/md_library/49d2fba781b6a7c0d94577479636ee6f/final_evaluation_report_final_olta_ndoja_pdf/enhanced/page_12.md'),\n",
       " Path('../_data/md_library/49d2fba781b6a7c0d94577479636ee6f/final_evaluation_report_final_olta_ndoja_pdf/enhanced/page_14.md'),\n",
       " Path('../_data/md_library/49d2fba781b6a7c0d94577479636ee6f/final_evaluation_report_final_olta_ndoja_pdf/enhanced/page_15.md'),\n",
       " Path('../_data/md_library/49d2fba781b6a7c0d94577479636ee6f/final_evaluation_report_final_olta_ndoja_pdf/enhanced/page_16.md'),\n",
       " Path('../_data/md_library/49d2fba781b6a7c0d94577479636ee6f/final_evaluation_report_final_olta_ndoja_pdf/enhanced/page_21.md'),\n",
       " Path('../_data/md_library/49d2fba781b6a7c0d94577479636ee6f/final_evaluation_report_final_olta_ndoja_pdf/enhanced/page_22.md'),\n",
       " Path('../_data/md_library/49d2fba781b6a7c0d94577479636ee6f/final_evaluation_report_final_olta_ndoja_pdf/enhanced/page_23.md'),\n",
       " Path('../_data/md_library/49d2fba781b6a7c0d94577479636ee6f/final_evaluation_report_final_olta_ndoja_pdf/enhanced/page_29.md'),\n",
       " Path('../_data/md_library/49d2fba781b6a7c0d94577479636ee6f/final_evaluation_report_final_olta_ndoja_pdf/enhanced/page_30.md'),\n",
       " Path('../_data/md_library/49d2fba781b6a7c0d94577479636ee6f/final_evaluation_report_final_olta_ndoja_pdf/enhanced/page_38.md'),\n",
       " Path('../_data/md_library/49d2fba781b6a7c0d94577479636ee6f/final_evaluation_report_final_olta_ndoja_pdf/enhanced/page_59.md'),\n",
       " Path('../_data/md_library/49d2fba781b6a7c0d94577479636ee6f/final_evaluation_report_final_olta_ndoja_pdf/enhanced/page_60.md'),\n",
       " Path('../_data/md_library/49d2fba781b6a7c0d94577479636ee6f/final_evaluation_report_final_olta_ndoja_pdf/enhanced/page_63.md'),\n",
       " Path('../_data/md_library/49d2fba781b6a7c0d94577479636ee6f/final_evaluation_report_final_olta_ndoja_pdf/enhanced/page_68.md'),\n",
       " Path('../_data/md_library/49d2fba781b6a7c0d94577479636ee6f/final_evaluation_report_final_olta_ndoja_pdf/enhanced/page_84.md'),\n",
       " Path('../_data/md_library/49d2fba781b6a7c0d94577479636ee6f/final_evaluation_report_final_olta_ndoja_pdf/enhanced/page_95.md'),\n",
       " Path('../_data/md_library/49d2fba781b6a7c0d94577479636ee6f/final_evaluation_report_final_olta_ndoja_pdf/enhanced/page_114.md')]"
      ]
     },
     "execution_count": null,
     "metadata": {},
     "output_type": "execute_result"
    }
   ],
   "source": [
    "#| eval: false\n",
    "[page for page in pages if has_images(page)]"
   ]
  },
  {
   "cell_type": "code",
   "execution_count": null,
   "metadata": {},
   "outputs": [],
   "source": [
    "#| exports\n",
    "class MarkdownPage: \n",
    "    \"A class to represent a markdown page\"\n",
    "    def __init__(self, path): self.path = Path(path)"
   ]
  },
  {
   "cell_type": "code",
   "execution_count": null,
   "metadata": {},
   "outputs": [],
   "source": [
    "#| exports\n",
    "class ImgRef(AttrDict):\n",
    "    \"A class to represent a image reference\"\n",
    "    def __repr__(self):\n",
    "        clean_context = self.context.replace('\\n', ' ')[:50] + \"...\"\n",
    "        fields = [f\"filename='{self.filename}'\", f\"context='{clean_context}'\"]\n",
    "        if hasattr(self, 'is_relevant'): fields.append(f\"is_relevant={self.is_relevant}\")\n",
    "        if hasattr(self, 'reason'): fields.append(f\"reason={self.reason}\")\n",
    "        # ... add other fields if present\n",
    "        return f\"ImgRef({', '.join(fields)})\"\n"
   ]
  },
  {
   "cell_type": "code",
   "execution_count": null,
   "metadata": {},
   "outputs": [],
   "source": [
    "#| exports\n",
    "@patch\n",
    "def find_img_refs(\n",
    "    self:MarkdownPage, # Markdown page of interest\n",
    "    context_lines: int = 3, # Number of lines of context to include around the image\n",
    "    ):\n",
    "    \"Find all image references in the markdown page and include the context around the image\"\n",
    "    content = self.path.read_text()\n",
    "    lines = content.splitlines()\n",
    "    results = []\n",
    "    \n",
    "    for i, line in enumerate(lines):\n",
    "        if re.search(r'!\\[[^\\]]*\\]\\(([^)]+)\\)', line):\n",
    "            # Extract context around this line\n",
    "            start = max(0, i - context_lines)\n",
    "            end = min(len(lines), i + context_lines + 1)\n",
    "            context = '\\n'.join(lines[start:end])\n",
    "            \n",
    "            # Extract image filename\n",
    "            match = re.search(r'!\\[[^\\]]*\\]\\(([^)]+)\\)', line)\n",
    "            results.append(ImgRef({\n",
    "                \"filename\": match.group(1),\n",
    "                \"context\": context\n",
    "            }))\n",
    "    \n",
    "    return results"
   ]
  },
  {
   "cell_type": "markdown",
   "metadata": {},
   "source": [
    "For instance: "
   ]
  },
  {
   "cell_type": "code",
   "execution_count": null,
   "metadata": {},
   "outputs": [
    {
     "data": {
      "text/html": [
       "<pre style=\"white-space:pre;overflow-x:auto;line-height:normal;font-family:Menlo,'DejaVu Sans Mono',consolas,'Courier New',monospace\">In page_1: <span style=\"font-weight: bold\">[</span><span style=\"color: #800080; text-decoration-color: #800080; font-weight: bold\">ImgRef</span><span style=\"font-weight: bold\">(</span><span style=\"color: #808000; text-decoration-color: #808000\">filename</span>=<span style=\"color: #008000; text-decoration-color: #008000\">'img-0.jpeg'</span>, <span style=\"color: #808000; text-decoration-color: #808000\">context</span>=' Final Evaluation Report, <span style=\"color: #008080; text-decoration-color: #008080; font-weight: bold\">17</span> March <span style=\"color: #008080; text-decoration-color: #008080; font-weight: bold\">2023</span>  !\n",
       "</pre>\n"
      ],
      "text/plain": [
       "In page_1: \u001b[1m[\u001b[0m\u001b[1;35mImgRef\u001b[0m\u001b[1m(\u001b[0m\u001b[33mfilename\u001b[0m=\u001b[32m'img-0.jpeg'\u001b[0m, \u001b[33mcontext\u001b[0m=' Final Evaluation Report, \u001b[1;36m17\u001b[0m March \u001b[1;36m2023\u001b[0m  !\n"
      ]
     },
     "metadata": {},
     "output_type": "display_data"
    },
    {
     "data": {
      "text/html": [
       "<pre style=\"white-space:pre;overflow-x:auto;line-height:normal;font-family:Menlo,'DejaVu Sans Mono',consolas,'Courier New',monospace\">In page_11: <span style=\"font-weight: bold\">[</span><span style=\"color: #800080; text-decoration-color: #800080; font-weight: bold\">ImgRef</span><span style=\"font-weight: bold\">(</span><span style=\"color: #808000; text-decoration-color: #808000\">filename</span>=<span style=\"color: #008000; text-decoration-color: #008000\">'img-1.jpeg'</span>, <span style=\"color: #808000; text-decoration-color: #808000\">context</span>=<span style=\"color: #008000; text-decoration-color: #008000\">'!(img-1.jpeg)  Source: IOM Reintegrati...'</span><span style=\"font-weight: bold\">)]</span>\n",
       "</pre>\n"
      ],
      "text/plain": [
       "In page_11: \u001b[1m[\u001b[0m\u001b[1;35mImgRef\u001b[0m\u001b[1m(\u001b[0m\u001b[33mfilename\u001b[0m=\u001b[32m'img-1.jpeg'\u001b[0m, \u001b[33mcontext\u001b[0m=\u001b[32m'!\u001b[0m\u001b[32m(\u001b[0m\u001b[32mimg-1.jpeg\u001b[0m\u001b[32m)\u001b[0m\u001b[32m  Source: IOM Reintegrati...'\u001b[0m\u001b[1m)\u001b[0m\u001b[1m]\u001b[0m\n"
      ]
     },
     "metadata": {},
     "output_type": "display_data"
    },
    {
     "data": {
      "text/html": [
       "<pre style=\"white-space:pre;overflow-x:auto;line-height:normal;font-family:Menlo,'DejaVu Sans Mono',consolas,'Courier New',monospace\">In page_12: <span style=\"font-weight: bold\">[</span><span style=\"color: #800080; text-decoration-color: #800080; font-weight: bold\">ImgRef</span><span style=\"font-weight: bold\">(</span><span style=\"color: #808000; text-decoration-color: #808000\">filename</span>=<span style=\"color: #008000; text-decoration-color: #008000\">'img-2.jpeg'</span>, <span style=\"color: #808000; text-decoration-color: #808000\">context</span>=<span style=\"color: #008000; text-decoration-color: #008000\">'# Findings .... page 12  As part of the Final Inde...'</span><span style=\"font-weight: bold\">)</span>, \n",
       "<span style=\"color: #800080; text-decoration-color: #800080; font-weight: bold\">ImgRef</span><span style=\"font-weight: bold\">(</span><span style=\"color: #808000; text-decoration-color: #808000\">filename</span>=<span style=\"color: #008000; text-decoration-color: #008000\">'img-3.jpeg'</span>, <span style=\"color: #808000; text-decoration-color: #808000\">context</span>=<span style=\"color: #008000; text-decoration-color: #008000\">' ## Relevance .... page 12  !(img-3.jp...'</span><span style=\"font-weight: bold\">)]</span>\n",
       "</pre>\n"
      ],
      "text/plain": [
       "In page_12: \u001b[1m[\u001b[0m\u001b[1;35mImgRef\u001b[0m\u001b[1m(\u001b[0m\u001b[33mfilename\u001b[0m=\u001b[32m'img-2.jpeg'\u001b[0m, \u001b[33mcontext\u001b[0m=\u001b[32m'# Findings .... page 12  As part of the Final Inde...'\u001b[0m\u001b[1m)\u001b[0m, \n",
       "\u001b[1;35mImgRef\u001b[0m\u001b[1m(\u001b[0m\u001b[33mfilename\u001b[0m=\u001b[32m'img-3.jpeg'\u001b[0m, \u001b[33mcontext\u001b[0m=\u001b[32m' ## Relevance .... page 12  !\u001b[0m\u001b[32m(\u001b[0m\u001b[32mimg-3.jp...'\u001b[0m\u001b[1m)\u001b[0m\u001b[1m]\u001b[0m\n"
      ]
     },
     "metadata": {},
     "output_type": "display_data"
    },
    {
     "data": {
      "text/html": [
       "<pre style=\"white-space:pre;overflow-x:auto;line-height:normal;font-family:Menlo,'DejaVu Sans Mono',consolas,'Courier New',monospace\">In page_14: <span style=\"font-weight: bold\">[</span><span style=\"color: #800080; text-decoration-color: #800080; font-weight: bold\">ImgRef</span><span style=\"font-weight: bold\">(</span><span style=\"color: #808000; text-decoration-color: #808000\">filename</span>=<span style=\"color: #008000; text-decoration-color: #008000\">'img-4.jpeg'</span>, <span style=\"color: #808000; text-decoration-color: #808000\">context</span>=<span style=\"color: #008000; text-decoration-color: #008000\">' # Effectiveness .... page 14  !(img-4...'</span><span style=\"font-weight: bold\">)]</span>\n",
       "</pre>\n"
      ],
      "text/plain": [
       "In page_14: \u001b[1m[\u001b[0m\u001b[1;35mImgRef\u001b[0m\u001b[1m(\u001b[0m\u001b[33mfilename\u001b[0m=\u001b[32m'img-4.jpeg'\u001b[0m, \u001b[33mcontext\u001b[0m=\u001b[32m' # Effectiveness .... page 14  !\u001b[0m\u001b[32m(\u001b[0m\u001b[32mimg-4...'\u001b[0m\u001b[1m)\u001b[0m\u001b[1m]\u001b[0m\n"
      ]
     },
     "metadata": {},
     "output_type": "display_data"
    },
    {
     "data": {
      "text/html": [
       "<pre style=\"white-space:pre;overflow-x:auto;line-height:normal;font-family:Menlo,'DejaVu Sans Mono',consolas,'Courier New',monospace\">In page_15: <span style=\"font-weight: bold\">[</span><span style=\"color: #800080; text-decoration-color: #800080; font-weight: bold\">ImgRef</span><span style=\"font-weight: bold\">(</span><span style=\"color: #808000; text-decoration-color: #808000\">filename</span>=<span style=\"color: #008000; text-decoration-color: #008000\">'img-5.jpeg'</span>, <span style=\"color: #808000; text-decoration-color: #808000\">context</span>=<span style=\"color: #008000; text-decoration-color: #008000\">' ## Efficiency .... page 15  !(img-5.j...'</span><span style=\"font-weight: bold\">)]</span>\n",
       "</pre>\n"
      ],
      "text/plain": [
       "In page_15: \u001b[1m[\u001b[0m\u001b[1;35mImgRef\u001b[0m\u001b[1m(\u001b[0m\u001b[33mfilename\u001b[0m=\u001b[32m'img-5.jpeg'\u001b[0m, \u001b[33mcontext\u001b[0m=\u001b[32m' ## Efficiency .... page 15  !\u001b[0m\u001b[32m(\u001b[0m\u001b[32mimg-5.j...'\u001b[0m\u001b[1m)\u001b[0m\u001b[1m]\u001b[0m\n"
      ]
     },
     "metadata": {},
     "output_type": "display_data"
    },
    {
     "data": {
      "text/html": [
       "<pre style=\"white-space:pre;overflow-x:auto;line-height:normal;font-family:Menlo,'DejaVu Sans Mono',consolas,'Courier New',monospace\">In page_16: <span style=\"font-weight: bold\">[</span><span style=\"color: #800080; text-decoration-color: #800080; font-weight: bold\">ImgRef</span><span style=\"font-weight: bold\">(</span><span style=\"color: #808000; text-decoration-color: #808000\">filename</span>=<span style=\"color: #008000; text-decoration-color: #008000\">'img-6.jpeg'</span>, <span style=\"color: #808000; text-decoration-color: #808000\">context</span>=<span style=\"color: #008000; text-decoration-color: #008000\">'# Sustainability .... page 16  !(img-6...'</span><span style=\"font-weight: bold\">)]</span>\n",
       "</pre>\n"
      ],
      "text/plain": [
       "In page_16: \u001b[1m[\u001b[0m\u001b[1;35mImgRef\u001b[0m\u001b[1m(\u001b[0m\u001b[33mfilename\u001b[0m=\u001b[32m'img-6.jpeg'\u001b[0m, \u001b[33mcontext\u001b[0m=\u001b[32m'# Sustainability .... page 16  !\u001b[0m\u001b[32m(\u001b[0m\u001b[32mimg-6...'\u001b[0m\u001b[1m)\u001b[0m\u001b[1m]\u001b[0m\n"
      ]
     },
     "metadata": {},
     "output_type": "display_data"
    },
    {
     "data": {
      "text/html": [
       "<pre style=\"white-space:pre;overflow-x:auto;line-height:normal;font-family:Menlo,'DejaVu Sans Mono',consolas,'Courier New',monospace\">In page_21: <span style=\"font-weight: bold\">[</span><span style=\"color: #800080; text-decoration-color: #800080; font-weight: bold\">ImgRef</span><span style=\"font-weight: bold\">(</span><span style=\"color: #808000; text-decoration-color: #808000\">filename</span>=<span style=\"color: #008000; text-decoration-color: #008000\">'img-7.jpeg'</span>, <span style=\"color: #808000; text-decoration-color: #808000\">context</span>=<span style=\"color: #008000; text-decoration-color: #008000\">'through the development and implementation of righ...'</span><span style=\"font-weight: bold\">)]</span>\n",
       "</pre>\n"
      ],
      "text/plain": [
       "In page_21: \u001b[1m[\u001b[0m\u001b[1;35mImgRef\u001b[0m\u001b[1m(\u001b[0m\u001b[33mfilename\u001b[0m=\u001b[32m'img-7.jpeg'\u001b[0m, \u001b[33mcontext\u001b[0m=\u001b[32m'through the development and implementation of righ...'\u001b[0m\u001b[1m)\u001b[0m\u001b[1m]\u001b[0m\n"
      ]
     },
     "metadata": {},
     "output_type": "display_data"
    },
    {
     "data": {
      "text/html": [
       "<pre style=\"white-space:pre;overflow-x:auto;line-height:normal;font-family:Menlo,'DejaVu Sans Mono',consolas,'Courier New',monospace\">In page_22: <span style=\"font-weight: bold\">[</span><span style=\"color: #800080; text-decoration-color: #800080; font-weight: bold\">ImgRef</span><span style=\"font-weight: bold\">(</span><span style=\"color: #808000; text-decoration-color: #808000\">filename</span>=<span style=\"color: #008000; text-decoration-color: #008000\">'img-8.jpeg'</span>, <span style=\"color: #808000; text-decoration-color: #808000\">context</span>=<span style=\"color: #008000; text-decoration-color: #008000\">'!(img-8.jpeg)  Source: IOM Reintegrati...'</span><span style=\"font-weight: bold\">)]</span>\n",
       "</pre>\n"
      ],
      "text/plain": [
       "In page_22: \u001b[1m[\u001b[0m\u001b[1;35mImgRef\u001b[0m\u001b[1m(\u001b[0m\u001b[33mfilename\u001b[0m=\u001b[32m'img-8.jpeg'\u001b[0m, \u001b[33mcontext\u001b[0m=\u001b[32m'!\u001b[0m\u001b[32m(\u001b[0m\u001b[32mimg-8.jpeg\u001b[0m\u001b[32m)\u001b[0m\u001b[32m  Source: IOM Reintegrati...'\u001b[0m\u001b[1m)\u001b[0m\u001b[1m]\u001b[0m\n"
      ]
     },
     "metadata": {},
     "output_type": "display_data"
    },
    {
     "data": {
      "text/html": [
       "<pre style=\"white-space:pre;overflow-x:auto;line-height:normal;font-family:Menlo,'DejaVu Sans Mono',consolas,'Courier New',monospace\">In page_23: <span style=\"font-weight: bold\">[</span><span style=\"color: #800080; text-decoration-color: #800080; font-weight: bold\">ImgRef</span><span style=\"font-weight: bold\">(</span><span style=\"color: #808000; text-decoration-color: #808000\">filename</span>=<span style=\"color: #008000; text-decoration-color: #008000\">'img-9.jpeg'</span>, <span style=\"color: #808000; text-decoration-color: #808000\">context</span>=<span style=\"color: #008000; text-decoration-color: #008000\">' Aside from these three vertical levels, the integ...'</span><span style=\"font-weight: bold\">)]</span>\n",
       "</pre>\n"
      ],
      "text/plain": [
       "In page_23: \u001b[1m[\u001b[0m\u001b[1;35mImgRef\u001b[0m\u001b[1m(\u001b[0m\u001b[33mfilename\u001b[0m=\u001b[32m'img-9.jpeg'\u001b[0m, \u001b[33mcontext\u001b[0m=\u001b[32m' Aside from these three vertical levels, the integ...'\u001b[0m\u001b[1m)\u001b[0m\u001b[1m]\u001b[0m\n"
      ]
     },
     "metadata": {},
     "output_type": "display_data"
    },
    {
     "data": {
      "text/html": [
       "<pre style=\"white-space:pre;overflow-x:auto;line-height:normal;font-family:Menlo,'DejaVu Sans Mono',consolas,'Courier New',monospace\">In page_29: <span style=\"font-weight: bold\">[</span><span style=\"color: #800080; text-decoration-color: #800080; font-weight: bold\">ImgRef</span><span style=\"font-weight: bold\">(</span><span style=\"color: #808000; text-decoration-color: #808000\">filename</span>=<span style=\"color: #008000; text-decoration-color: #008000\">'img-10.jpeg'</span>, <span style=\"color: #808000; text-decoration-color: #808000\">context</span>=<span style=\"color: #008000; text-decoration-color: #008000\">'The evaluation was carried out in accordance with ...'</span><span style=\"font-weight: bold\">)]</span>\n",
       "</pre>\n"
      ],
      "text/plain": [
       "In page_29: \u001b[1m[\u001b[0m\u001b[1;35mImgRef\u001b[0m\u001b[1m(\u001b[0m\u001b[33mfilename\u001b[0m=\u001b[32m'img-10.jpeg'\u001b[0m, \u001b[33mcontext\u001b[0m=\u001b[32m'The evaluation was carried out in accordance with ...'\u001b[0m\u001b[1m)\u001b[0m\u001b[1m]\u001b[0m\n"
      ]
     },
     "metadata": {},
     "output_type": "display_data"
    },
    {
     "data": {
      "text/html": [
       "<pre style=\"white-space:pre;overflow-x:auto;line-height:normal;font-family:Menlo,'DejaVu Sans Mono',consolas,'Courier New',monospace\">In page_30: <span style=\"font-weight: bold\">[</span><span style=\"color: #800080; text-decoration-color: #800080; font-weight: bold\">ImgRef</span><span style=\"font-weight: bold\">(</span><span style=\"color: #808000; text-decoration-color: #808000\">filename</span>=<span style=\"color: #008000; text-decoration-color: #008000\">'img-11.jpeg'</span>, <span style=\"color: #808000; text-decoration-color: #808000\">context</span>=<span style=\"color: #008000; text-decoration-color: #008000\">'As part of the Final Independent Evaluation of the...'</span><span style=\"font-weight: bold\">)]</span>\n",
       "</pre>\n"
      ],
      "text/plain": [
       "In page_30: \u001b[1m[\u001b[0m\u001b[1;35mImgRef\u001b[0m\u001b[1m(\u001b[0m\u001b[33mfilename\u001b[0m=\u001b[32m'img-11.jpeg'\u001b[0m, \u001b[33mcontext\u001b[0m=\u001b[32m'As part of the Final Independent Evaluation of the...'\u001b[0m\u001b[1m)\u001b[0m\u001b[1m]\u001b[0m\n"
      ]
     },
     "metadata": {},
     "output_type": "display_data"
    },
    {
     "data": {
      "text/html": [
       "<pre style=\"white-space:pre;overflow-x:auto;line-height:normal;font-family:Menlo,'DejaVu Sans Mono',consolas,'Courier New',monospace\">In page_38: <span style=\"font-weight: bold\">[</span><span style=\"color: #800080; text-decoration-color: #800080; font-weight: bold\">ImgRef</span><span style=\"font-weight: bold\">(</span><span style=\"color: #808000; text-decoration-color: #808000\">filename</span>=<span style=\"color: #008000; text-decoration-color: #008000\">'img-12.jpeg'</span>, <span style=\"color: #808000; text-decoration-color: #808000\">context</span>=<span style=\"color: #008000; text-decoration-color: #008000\">'According to the community participation survey ad...'</span><span style=\"font-weight: bold\">)]</span>\n",
       "</pre>\n"
      ],
      "text/plain": [
       "In page_38: \u001b[1m[\u001b[0m\u001b[1;35mImgRef\u001b[0m\u001b[1m(\u001b[0m\u001b[33mfilename\u001b[0m=\u001b[32m'img-12.jpeg'\u001b[0m, \u001b[33mcontext\u001b[0m=\u001b[32m'According to the community participation survey ad...'\u001b[0m\u001b[1m)\u001b[0m\u001b[1m]\u001b[0m\n"
      ]
     },
     "metadata": {},
     "output_type": "display_data"
    },
    {
     "data": {
      "text/html": [
       "<pre style=\"white-space:pre;overflow-x:auto;line-height:normal;font-family:Menlo,'DejaVu Sans Mono',consolas,'Courier New',monospace\">In page_59: <span style=\"font-weight: bold\">[</span><span style=\"color: #800080; text-decoration-color: #800080; font-weight: bold\">ImgRef</span><span style=\"font-weight: bold\">(</span><span style=\"color: #808000; text-decoration-color: #808000\">filename</span>=<span style=\"color: #008000; text-decoration-color: #008000\">'img-13.jpeg'</span>, <span style=\"color: #808000; text-decoration-color: #808000\">context</span>=<span style=\"color: #008000; text-decoration-color: #008000\">'FIGURE 4: NUMBER OF STAKEHOLDERS SUPPORTED BY THE ...'</span><span style=\"font-weight: bold\">)]</span>\n",
       "</pre>\n"
      ],
      "text/plain": [
       "In page_59: \u001b[1m[\u001b[0m\u001b[1;35mImgRef\u001b[0m\u001b[1m(\u001b[0m\u001b[33mfilename\u001b[0m=\u001b[32m'img-13.jpeg'\u001b[0m, \u001b[33mcontext\u001b[0m=\u001b[32m'FIGURE 4: NUMBER OF STAKEHOLDERS SUPPORTED BY THE ...'\u001b[0m\u001b[1m)\u001b[0m\u001b[1m]\u001b[0m\n"
      ]
     },
     "metadata": {},
     "output_type": "display_data"
    },
    {
     "data": {
      "text/html": [
       "<pre style=\"white-space:pre;overflow-x:auto;line-height:normal;font-family:Menlo,'DejaVu Sans Mono',consolas,'Courier New',monospace\">In page_60: <span style=\"font-weight: bold\">[</span><span style=\"color: #800080; text-decoration-color: #800080; font-weight: bold\">ImgRef</span><span style=\"font-weight: bold\">(</span><span style=\"color: #808000; text-decoration-color: #808000\">filename</span>=<span style=\"color: #008000; text-decoration-color: #008000\">'img-14.jpeg'</span>, <span style=\"color: #808000; text-decoration-color: #808000\">context</span>=<span style=\"color: #008000; text-decoration-color: #008000\">'FIGURE 5. INCREASED KNOWLEDGE/EXPERTISE REPORTED B...'</span><span style=\"font-weight: bold\">)]</span>\n",
       "</pre>\n"
      ],
      "text/plain": [
       "In page_60: \u001b[1m[\u001b[0m\u001b[1;35mImgRef\u001b[0m\u001b[1m(\u001b[0m\u001b[33mfilename\u001b[0m=\u001b[32m'img-14.jpeg'\u001b[0m, \u001b[33mcontext\u001b[0m=\u001b[32m'FIGURE 5. INCREASED KNOWLEDGE/EXPERTISE REPORTED B...'\u001b[0m\u001b[1m)\u001b[0m\u001b[1m]\u001b[0m\n"
      ]
     },
     "metadata": {},
     "output_type": "display_data"
    },
    {
     "data": {
      "text/html": [
       "<pre style=\"white-space:pre;overflow-x:auto;line-height:normal;font-family:Menlo,'DejaVu Sans Mono',consolas,'Courier New',monospace\">In page_63: <span style=\"font-weight: bold\">[</span><span style=\"color: #800080; text-decoration-color: #800080; font-weight: bold\">ImgRef</span><span style=\"font-weight: bold\">(</span><span style=\"color: #808000; text-decoration-color: #808000\">filename</span>=<span style=\"color: #008000; text-decoration-color: #008000\">'img-15.jpeg'</span>, <span style=\"color: #808000; text-decoration-color: #808000\">context</span>=<span style=\"color: #008000; text-decoration-color: #008000\">'FIGURE 6. NUMBER OF ACTORS INVOLVED IN RETURN AND ...'</span><span style=\"font-weight: bold\">)]</span>\n",
       "</pre>\n"
      ],
      "text/plain": [
       "In page_63: \u001b[1m[\u001b[0m\u001b[1;35mImgRef\u001b[0m\u001b[1m(\u001b[0m\u001b[33mfilename\u001b[0m=\u001b[32m'img-15.jpeg'\u001b[0m, \u001b[33mcontext\u001b[0m=\u001b[32m'FIGURE 6. NUMBER OF ACTORS INVOLVED IN RETURN AND ...'\u001b[0m\u001b[1m)\u001b[0m\u001b[1m]\u001b[0m\n"
      ]
     },
     "metadata": {},
     "output_type": "display_data"
    },
    {
     "data": {
      "text/html": [
       "<pre style=\"white-space:pre;overflow-x:auto;line-height:normal;font-family:Menlo,'DejaVu Sans Mono',consolas,'Courier New',monospace\">In page_68: <span style=\"font-weight: bold\">[</span><span style=\"color: #800080; text-decoration-color: #800080; font-weight: bold\">ImgRef</span><span style=\"font-weight: bold\">(</span><span style=\"color: #808000; text-decoration-color: #808000\">filename</span>=<span style=\"color: #008000; text-decoration-color: #008000\">'img-16.jpeg'</span>, <span style=\"color: #808000; text-decoration-color: #808000\">context</span>=<span style=\"color: #008000; text-decoration-color: #008000\">'By September 2022, the JI-HoA had provided reinteg...'</span><span style=\"font-weight: bold\">)]</span>\n",
       "</pre>\n"
      ],
      "text/plain": [
       "In page_68: \u001b[1m[\u001b[0m\u001b[1;35mImgRef\u001b[0m\u001b[1m(\u001b[0m\u001b[33mfilename\u001b[0m=\u001b[32m'img-16.jpeg'\u001b[0m, \u001b[33mcontext\u001b[0m=\u001b[32m'By September 2022, the JI-HoA had provided reinteg...'\u001b[0m\u001b[1m)\u001b[0m\u001b[1m]\u001b[0m\n"
      ]
     },
     "metadata": {},
     "output_type": "display_data"
    },
    {
     "data": {
      "text/html": [
       "<pre style=\"white-space:pre;overflow-x:auto;line-height:normal;font-family:Menlo,'DejaVu Sans Mono',consolas,'Courier New',monospace\">In page_84: <span style=\"font-weight: bold\">[</span><span style=\"color: #800080; text-decoration-color: #800080; font-weight: bold\">ImgRef</span><span style=\"font-weight: bold\">(</span><span style=\"color: #808000; text-decoration-color: #808000\">filename</span>=<span style=\"color: #008000; text-decoration-color: #008000\">'img-17.jpeg'</span>, <span style=\"color: #808000; text-decoration-color: #808000\">context</span>=<span style=\"color: #008000; text-decoration-color: #008000\">'respectively), and additional activities, such as ...'</span><span style=\"font-weight: bold\">)]</span>\n",
       "</pre>\n"
      ],
      "text/plain": [
       "In page_84: \u001b[1m[\u001b[0m\u001b[1;35mImgRef\u001b[0m\u001b[1m(\u001b[0m\u001b[33mfilename\u001b[0m=\u001b[32m'img-17.jpeg'\u001b[0m, \u001b[33mcontext\u001b[0m=\u001b[32m'respectively\u001b[0m\u001b[32m)\u001b[0m\u001b[32m, and additional activities, such as ...'\u001b[0m\u001b[1m)\u001b[0m\u001b[1m]\u001b[0m\n"
      ]
     },
     "metadata": {},
     "output_type": "display_data"
    },
    {
     "data": {
      "text/html": [
       "<pre style=\"white-space:pre;overflow-x:auto;line-height:normal;font-family:Menlo,'DejaVu Sans Mono',consolas,'Courier New',monospace\">In page_95: <span style=\"font-weight: bold\">[</span><span style=\"color: #800080; text-decoration-color: #800080; font-weight: bold\">ImgRef</span><span style=\"font-weight: bold\">(</span><span style=\"color: #808000; text-decoration-color: #808000\">filename</span>=<span style=\"color: #008000; text-decoration-color: #008000\">'img-18.jpeg'</span>, <span style=\"color: #808000; text-decoration-color: #808000\">context</span>=<span style=\"color: #008000; text-decoration-color: #008000\">'The Mid Term Review of the programme in 2019 concl...'</span><span style=\"font-weight: bold\">)]</span>\n",
       "</pre>\n"
      ],
      "text/plain": [
       "In page_95: \u001b[1m[\u001b[0m\u001b[1;35mImgRef\u001b[0m\u001b[1m(\u001b[0m\u001b[33mfilename\u001b[0m=\u001b[32m'img-18.jpeg'\u001b[0m, \u001b[33mcontext\u001b[0m=\u001b[32m'The Mid Term Review of the programme in 2019 concl...'\u001b[0m\u001b[1m)\u001b[0m\u001b[1m]\u001b[0m\n"
      ]
     },
     "metadata": {},
     "output_type": "display_data"
    },
    {
     "data": {
      "text/html": [
       "<pre style=\"white-space:pre;overflow-x:auto;line-height:normal;font-family:Menlo,'DejaVu Sans Mono',consolas,'Courier New',monospace\">In page_114: <span style=\"font-weight: bold\">[</span><span style=\"color: #800080; text-decoration-color: #800080; font-weight: bold\">ImgRef</span><span style=\"font-weight: bold\">(</span><span style=\"color: #808000; text-decoration-color: #808000\">filename</span>=<span style=\"color: #008000; text-decoration-color: #008000\">'img-19.jpeg'</span>, <span style=\"color: #808000; text-decoration-color: #808000\">context</span>=<span style=\"color: #008000; text-decoration-color: #008000\">'!(img-19.jpeg)  Coherence refers to t...'</span><span style=\"font-weight: bold\">)]</span>\n",
       "</pre>\n"
      ],
      "text/plain": [
       "In page_114: \u001b[1m[\u001b[0m\u001b[1;35mImgRef\u001b[0m\u001b[1m(\u001b[0m\u001b[33mfilename\u001b[0m=\u001b[32m'img-19.jpeg'\u001b[0m, \u001b[33mcontext\u001b[0m=\u001b[32m'!\u001b[0m\u001b[32m(\u001b[0m\u001b[32mimg-19.jpeg\u001b[0m\u001b[32m)\u001b[0m\u001b[32m  Coherence refers to t...'\u001b[0m\u001b[1m)\u001b[0m\u001b[1m]\u001b[0m\n"
      ]
     },
     "metadata": {},
     "output_type": "display_data"
    }
   ],
   "source": [
    "#| eval: false\n",
    "for page in pages: \n",
    "    img_refs = MarkdownPage(page).find_img_refs()\n",
    "    if img_refs: print(f\"In {page.stem}: {img_refs}\")"
   ]
  },
  {
   "cell_type": "code",
   "execution_count": null,
   "metadata": {},
   "outputs": [],
   "source": [
    "#| exports\n",
    "class ImageRelevance(dspy.Signature):\n",
    "    \"\"\"Determine if an image contains substantive content for document understanding.\n",
    "    \n",
    "    RELEVANT: Charts, graphs, diagrams, figures, tables, screenshots, flowcharts\n",
    "    IRRELEVANT: Logos, cover images, decorative elements, headers, footers\n",
    "    \"\"\"\n",
    "    img_filename: str = dspy.InputField()\n",
    "    surrounding_context: str = dspy.InputField(desc=\"Text context around the image\")\n",
    "    is_relevant: bool = dspy.OutputField(desc=\"True only for substantive content like data visualizations\")\n",
    "    reason: str = dspy.OutputField(desc=\"Brief explanation of decision\")\n"
   ]
  },
  {
   "cell_type": "code",
   "execution_count": null,
   "metadata": {},
   "outputs": [],
   "source": [
    "#| exports\n",
    "@patch\n",
    "def classify_imgs(\n",
    "    self:MarkdownPage, # Markdown page of interest\n",
    "    img_refs: list[ImgRef], # List of image references\n",
    "    ):\n",
    "    \"Classify images in the markdown page\"\n",
    "    classifier = dspy.ChainOfThought(ImageRelevance)\n",
    "    for img_ref in img_refs:\n",
    "        result = classifier(\n",
    "            img_filename=img_ref.filename,\n",
    "            surrounding_context=img_ref.context,\n",
    "            page_nb=1  # We could make this dynamic if needed\n",
    "        )\n",
    "        img_ref.is_relevant = result.is_relevant\n",
    "        img_ref.reason = result.reason\n",
    "    return img_refs"
   ]
  },
  {
   "cell_type": "markdown",
   "metadata": {},
   "source": [
    "For instance:"
   ]
  },
  {
   "cell_type": "code",
   "execution_count": null,
   "metadata": {},
   "outputs": [
    {
     "data": {
      "text/html": [
       "<pre style=\"white-space:pre;overflow-x:auto;line-height:normal;font-family:Menlo,'DejaVu Sans Mono',consolas,'Courier New',monospace\"><span style=\"font-weight: bold\">[</span><span style=\"color: #800080; text-decoration-color: #800080; font-weight: bold\">ImgRef</span><span style=\"font-weight: bold\">(</span><span style=\"color: #808000; text-decoration-color: #808000\">filename</span>=<span style=\"color: #008000; text-decoration-color: #008000\">'img-0.jpeg'</span>, <span style=\"color: #808000; text-decoration-color: #808000\">context</span>=<span style=\"color: #008000; text-decoration-color: #008000\">' Final Evaluation Report, 17 March 2023  ![img-0.j...'</span><span style=\"font-weight: bold\">)]</span>\n",
       "</pre>\n"
      ],
      "text/plain": [
       "\u001b[1m[\u001b[0m\u001b[1;35mImgRef\u001b[0m\u001b[1m(\u001b[0m\u001b[33mfilename\u001b[0m=\u001b[32m'img-0.jpeg'\u001b[0m, \u001b[33mcontext\u001b[0m=\u001b[32m' Final Evaluation Report, 17 March 2023  !\u001b[0m\u001b[32m[\u001b[0m\u001b[32mimg-0.j...'\u001b[0m\u001b[1m)\u001b[0m\u001b[1m]\u001b[0m\n"
      ]
     },
     "metadata": {},
     "output_type": "display_data"
    },
    {
     "data": {
      "text/html": [
       "<pre style=\"white-space:pre;overflow-x:auto;line-height:normal;font-family:Menlo,'DejaVu Sans Mono',consolas,'Courier New',monospace\"><span style=\"font-weight: bold\">[]</span>\n",
       "</pre>\n"
      ],
      "text/plain": [
       "\u001b[1m[\u001b[0m\u001b[1m]\u001b[0m\n"
      ]
     },
     "metadata": {},
     "output_type": "display_data"
    }
   ],
   "source": [
    "#| eval: false\n",
    "img_refs = MarkdownPage(pages[0]).find_img_refs(); print(img_refs)\n",
    "md_page = MarkdownPage(pages[5]) \n",
    "img_refs = md_page.find_img_refs()\n",
    "clf_img_refs = md_page.classify_imgs(img_refs)\n",
    "print(clf_img_refs)"
   ]
  },
  {
   "cell_type": "code",
   "execution_count": null,
   "metadata": {},
   "outputs": [],
   "source": [
    "#| exports\n",
    "def describe_img(\n",
    "    img_path: Path, # Path to the image\n",
    "    context: str, # Context of the image\n",
    "    api_key: str = GEMINI_API_KEY, # API key for the Gemini model\n",
    "    model: str = cfg.lm, # Model to use\n",
    "    ):\n",
    "    \"Describe an image using an LLM\"\n",
    "    with open(img_path, \"rb\") as image_file:\n",
    "        base64_image = base64.b64encode(image_file.read()).decode('utf-8')\n",
    "    \n",
    "    # Auto-detect image format\n",
    "    img_format = img_path.suffix.lower().replace('.', '')\n",
    "    if img_format == 'jpg': img_format = 'jpeg'\n",
    "    \n",
    "    prompt = f\"\"\"Provide a concise paragraph description of this image for evaluation report analysis. Include: type of content, main topic, key data/statistics, trends, and takeaways. Write as flowing text, not numbered points. Context: {context}\"\"\"\n",
    "    response = completion(\n",
    "        model=model,\n",
    "        messages=[{\n",
    "            \"role\": \"user\", \n",
    "            \"content\": [\n",
    "                {\"type\": \"text\", \"text\": prompt},\n",
    "                {\"type\": \"image_url\", \"image_url\": {\"url\": f\"data:image/{img_format};base64,{base64_image}\"}}\n",
    "            ]\n",
    "        }],\n",
    "        api_key=api_key\n",
    "    )\n",
    "    return response.choices[0].message.content"
   ]
  },
  {
   "cell_type": "code",
   "execution_count": null,
   "metadata": {},
   "outputs": [],
   "source": [
    "#| exports\n",
    "@patch\n",
    "def describe_imgs(\n",
    "    self:MarkdownPage, # Markdown page of interest\n",
    "    img_refs: list[ImgRef], # List of image references\n",
    "    img_dir: str # Image directory\n",
    "    ):\n",
    "    \"Describe images in the markdown page\"\n",
    "    for img_ref in img_refs:\n",
    "        if img_ref.is_relevant:\n",
    "            img_path = Path(img_dir) / img_ref.filename\n",
    "            description = describe_img(img_path, img_ref.context, GEMINI_API_KEY)\n",
    "            img_ref.description = description\n",
    "    return img_refs"
   ]
  },
  {
   "cell_type": "markdown",
   "metadata": {},
   "source": [
    "For instance:"
   ]
  },
  {
   "cell_type": "code",
   "execution_count": null,
   "metadata": {},
   "outputs": [],
   "source": [
    "#| eval: false\n",
    "# md_page = MarkdownPage(pages[5]) \n",
    "# img_refs = md_page.find_img_refs()\n",
    "# clf_img_refs = md_page.classify_imgs(img_refs)\n",
    "# img_refs_desc = md_page.describe_imgs(clf_img_refs, doc.parent / 'img')\n",
    "# print(img_refs_desc[0].description)"
   ]
  },
  {
   "cell_type": "code",
   "execution_count": null,
   "metadata": {},
   "outputs": [],
   "source": [
    "#| exports\n",
    "@patch\n",
    "def replace_imgs_with_desc(\n",
    "    self:MarkdownPage, # Markdown page of interest\n",
    "    img_refs, # List of image references\n",
    "    enriched_dir: str = cfg.enriched_dir, # Enriched directory\n",
    "    ):\n",
    "    \"Replace images with their descriptions in the markdown page\"\n",
    "    enriched_path = self.path.parent.parent / enriched_dir\n",
    "    enriched_path.mkdir(exist_ok=True)\n",
    "    \n",
    "    content = self.path.read_text()\n",
    "    for img_ref in img_refs:\n",
    "        if img_ref.is_relevant and hasattr(img_ref, 'description'):\n",
    "            pattern = f'!\\\\[[^\\\\]]*\\\\]\\\\({re.escape(img_ref.filename)}\\\\)'\n",
    "            content = re.sub(pattern, img_ref.description, content)\n",
    "    \n",
    "    enriched_file = enriched_path / self.path.name\n",
    "    enriched_file.write_text(content)\n",
    "    return enriched_file"
   ]
  },
  {
   "cell_type": "code",
   "execution_count": null,
   "metadata": {},
   "outputs": [],
   "source": [
    "#| exports\n",
    "def copy_page_to_enriched(\n",
    "    page, # Page to copy\n",
    "    enriched_dir: str = cfg.enriched_dir, # Enriched directory\n",
    "    ):\n",
    "    \"Copy a page to the enriched directory\"\n",
    "    enriched_path = page.parent.parent / enriched_dir\n",
    "    enriched_path.mkdir(exist_ok=True)\n",
    "    return shutil.copy(page, enriched_path)"
   ]
  },
  {
   "cell_type": "code",
   "execution_count": null,
   "metadata": {},
   "outputs": [],
   "source": [
    "#| exports\n",
    "def process_single_page(\n",
    "    page, # Page to process\n",
    "    img_dir, # Image directory\n",
    "    enriched_dir: str = cfg.enriched_dir, # Enriched directory\n",
    "    ):\n",
    "    \"Process a single page\"\n",
    "    md_page = MarkdownPage(page)\n",
    "    # Pipeline: find → classify → describe → replace\n",
    "    img_refs = md_page.find_img_refs()\n",
    "    \n",
    "    if not img_refs: return copy_page_to_enriched(page, enriched_dir)\n",
    "    \n",
    "    classified_refs = md_page.classify_imgs(img_refs)\n",
    "    time.sleep(0.5)\n",
    "    described_refs = md_page.describe_imgs(classified_refs, img_dir)\n",
    "    time.sleep(0.5)\n",
    "    return md_page.replace_imgs_with_desc(described_refs)"
   ]
  },
  {
   "cell_type": "code",
   "execution_count": null,
   "metadata": {},
   "outputs": [],
   "source": [
    "#| exports\n",
    "def enrich_images(\n",
    "    pages_dir, # Pages directory\n",
    "    img_dir, # Image directory\n",
    "    n_workers=2, # Number of workers\n",
    "    ):\n",
    "    \"Enrich images in the pages directory\"\n",
    "    pages = Path(pages_dir).ls(file_exts=\".md\")\n",
    "    \n",
    "    pages_with_imgs = []\n",
    "    for page in pages:\n",
    "        if has_images(page):\n",
    "            pages_with_imgs.append(page)\n",
    "        else:\n",
    "            copy_page_to_enriched(page)\n",
    "    \n",
    "    if pages_with_imgs:\n",
    "        process_fn = partial(process_single_page, img_dir=img_dir)\n",
    "        parallel(process_fn, pages_with_imgs, n_workers=n_workers, threadpool=True, progress=True)\n",
    "        \n",
    "    print(f\"✓ Processed {len(pages)} pages ({len(pages_with_imgs)} with images)\")"
   ]
  },
  {
   "cell_type": "code",
   "execution_count": null,
   "metadata": {},
   "outputs": [],
   "source": [
    "#| eval: false\n",
    "#enrich_images(doc, doc.parent / 'img', n_workers=1)"
   ]
  },
  {
   "cell_type": "code",
   "execution_count": null,
   "metadata": {},
   "outputs": [],
   "source": []
  }
 ],
 "metadata": {
  "kernelspec": {
   "display_name": "python3",
   "language": "python",
   "name": "python3"
  }
 },
 "nbformat": 4,
 "nbformat_minor": 2
}
