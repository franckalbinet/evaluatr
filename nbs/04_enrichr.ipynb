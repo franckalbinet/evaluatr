{
 "cells": [
  {
   "cell_type": "markdown",
   "metadata": {},
   "source": [
    "# Enrichr\n",
    "\n",
    "> Fix, clean markdown headings and enrich it with figures description, ..."
   ]
  },
  {
   "cell_type": "markdown",
   "metadata": {},
   "source": [
    "This module aims to fix and enrich markdown headings from OCR'd PDF files by:\n",
    "\n",
    "1. Fixing heading hierarchy that was corrupted during OCR\n",
    "2. Adding page numbers to headings for better navigation\n",
    "3. Enriching figure references with descriptive text and creating a table of figures"
   ]
  },
  {
   "cell_type": "code",
   "execution_count": null,
   "metadata": {},
   "outputs": [],
   "source": [
    "#| default_exp enrichr"
   ]
  },
  {
   "cell_type": "code",
   "execution_count": null,
   "metadata": {},
   "outputs": [],
   "source": [
    "#| export\n",
    "from pathlib import Path\n",
    "import os\n",
    "import re\n",
    "import json\n",
    "import shutil\n",
    "import time\n",
    "from functools import partial\n",
    "from tqdm import tqdm\n",
    "from dotenv import load_dotenv\n",
    "from fastcore.all import *\n",
    "import dspy\n",
    "from pydantic import BaseModel\n",
    "from typing import List\n",
    "from litellm import completion\n",
    "import base64\n",
    "from rich import print"
   ]
  },
  {
   "cell_type": "code",
   "execution_count": null,
   "metadata": {},
   "outputs": [],
   "source": [
    "#| export\n",
    "load_dotenv()\n",
    "GEMINI_API_KEY = os.getenv('GEMINI_API_KEY')"
   ]
  },
  {
   "cell_type": "code",
   "execution_count": null,
   "metadata": {},
   "outputs": [],
   "source": [
    "#| exports\n",
    "cfg = AttrDict({\n",
    "    'enhanced_dir': 'enhanced',\n",
    "    'enriched_dir': 'enriched',\n",
    "    'lm': 'gemini/gemini-2.0-flash-exp',\n",
    "    'api_key': GEMINI_API_KEY,\n",
    "    'max_tokens': 8192,\n",
    "    'track_usage': False,\n",
    "    'img_dir': 'img'\n",
    "})"
   ]
  },
  {
   "cell_type": "code",
   "execution_count": null,
   "metadata": {},
   "outputs": [],
   "source": [
    "#| export\n",
    "src_dir = Path(\"../_data/md_library/49d2fba781b6a7c0d94577479636ee6f\")"
   ]
  },
  {
   "cell_type": "markdown",
   "metadata": {},
   "source": [
    "## Fixing Markdown Headings"
   ]
  },
  {
   "cell_type": "code",
   "execution_count": null,
   "metadata": {},
   "outputs": [
    {
     "data": {
      "text/plain": [
       "(#31) [Path('../_data/md_library/49d2fba781b6a7c0d94577479636ee6f/abridged_evaluation_report_final_olta_ndoja_pdf/page_1.md'),Path('../_data/md_library/49d2fba781b6a7c0d94577479636ee6f/abridged_evaluation_report_final_olta_ndoja_pdf/page_2.md'),Path('../_data/md_library/49d2fba781b6a7c0d94577479636ee6f/abridged_evaluation_report_final_olta_ndoja_pdf/page_3.md'),Path('../_data/md_library/49d2fba781b6a7c0d94577479636ee6f/abridged_evaluation_report_final_olta_ndoja_pdf/page_4.md'),Path('../_data/md_library/49d2fba781b6a7c0d94577479636ee6f/abridged_evaluation_report_final_olta_ndoja_pdf/page_5.md'),Path('../_data/md_library/49d2fba781b6a7c0d94577479636ee6f/abridged_evaluation_report_final_olta_ndoja_pdf/page_6.md'),Path('../_data/md_library/49d2fba781b6a7c0d94577479636ee6f/abridged_evaluation_report_final_olta_ndoja_pdf/page_7.md'),Path('../_data/md_library/49d2fba781b6a7c0d94577479636ee6f/abridged_evaluation_report_final_olta_ndoja_pdf/page_8.md'),Path('../_data/md_library/49d2fba781b6a7c0d94577479636ee6f/abridged_evaluation_report_final_olta_ndoja_pdf/page_9.md'),Path('../_data/md_library/49d2fba781b6a7c0d94577479636ee6f/abridged_evaluation_report_final_olta_ndoja_pdf/page_10.md'),Path('../_data/md_library/49d2fba781b6a7c0d94577479636ee6f/abridged_evaluation_report_final_olta_ndoja_pdf/page_11.md'),Path('../_data/md_library/49d2fba781b6a7c0d94577479636ee6f/abridged_evaluation_report_final_olta_ndoja_pdf/page_12.md'),Path('../_data/md_library/49d2fba781b6a7c0d94577479636ee6f/abridged_evaluation_report_final_olta_ndoja_pdf/page_13.md'),Path('../_data/md_library/49d2fba781b6a7c0d94577479636ee6f/abridged_evaluation_report_final_olta_ndoja_pdf/page_14.md'),Path('../_data/md_library/49d2fba781b6a7c0d94577479636ee6f/abridged_evaluation_report_final_olta_ndoja_pdf/page_15.md'),Path('../_data/md_library/49d2fba781b6a7c0d94577479636ee6f/abridged_evaluation_report_final_olta_ndoja_pdf/page_16.md'),Path('../_data/md_library/49d2fba781b6a7c0d94577479636ee6f/abridged_evaluation_report_final_olta_ndoja_pdf/page_17.md'),Path('../_data/md_library/49d2fba781b6a7c0d94577479636ee6f/abridged_evaluation_report_final_olta_ndoja_pdf/page_18.md'),Path('../_data/md_library/49d2fba781b6a7c0d94577479636ee6f/abridged_evaluation_report_final_olta_ndoja_pdf/page_19.md'),Path('../_data/md_library/49d2fba781b6a7c0d94577479636ee6f/abridged_evaluation_report_final_olta_ndoja_pdf/page_20.md')...]"
      ]
     },
     "execution_count": null,
     "metadata": {},
     "output_type": "execute_result"
    }
   ],
   "source": [
    "#| eval: false\n",
    "doc = src_dir / 'abridged_evaluation_report_final_olta_ndoja_pdf'\n",
    "pages = doc.ls(file_exts=\".md\").sorted(key=lambda p: int(p.stem.split('_')[1])); pages"
   ]
  },
  {
   "cell_type": "code",
   "execution_count": null,
   "metadata": {},
   "outputs": [],
   "source": [
    "#| exports\n",
    "def setup_enhanced_dir(\n",
    "    src_dir, # Source directory path\n",
    "    enhanced_dir_name=cfg.enhanced_dir # Name of enhanced subdirectory\n",
    "    ):\n",
    "    \"Create enhanced directory and copy all markdown files to it\"\n",
    "    src_path = Path(src_dir)\n",
    "    enhanced_path = src_path / enhanced_dir_name\n",
    "    enhanced_path.mkdir(exist_ok=True)\n",
    "    for f in src_path.ls(file_exts=\".md\"): shutil.copy(f, enhanced_path)\n",
    "    return enhanced_path"
   ]
  },
  {
   "cell_type": "markdown",
   "metadata": {},
   "source": [
    "For instance:"
   ]
  },
  {
   "cell_type": "code",
   "execution_count": null,
   "metadata": {},
   "outputs": [
    {
     "data": {
      "text/plain": [
       "Path('../_data/md_library/49d2fba781b6a7c0d94577479636ee6f/abridged_evaluation_report_final_olta_ndoja_pdf/enhanced')"
      ]
     },
     "execution_count": null,
     "metadata": {},
     "output_type": "execute_result"
    }
   ],
   "source": [
    "#| eval: false\n",
    "setup_enhanced_dir(doc, 'enhanced')"
   ]
  },
  {
   "cell_type": "code",
   "execution_count": null,
   "metadata": {},
   "outputs": [],
   "source": [
    "#| exports\n",
    "def get_hdgs(md_txt): return re.findall(r'^#+.*$', md_txt, re.MULTILINE)"
   ]
  },
  {
   "cell_type": "code",
   "execution_count": null,
   "metadata": {},
   "outputs": [],
   "source": [
    "#| exports\n",
    "def get_hdgs_with_pages(\n",
    "    pages: list[Path] # List of pages\n",
    "    ):\n",
    "    \"Get headings and the page number they are on\"\n",
    "    headings = []\n",
    "    for i, page in enumerate(pages, 1):  # page numbers start at 1\n",
    "        page_headings = get_hdgs(page.read_text())\n",
    "        # add each heading with its page number\n",
    "        for o in page_headings:\n",
    "            headings.append({'heading': o, 'page': i})\n",
    "    return headings"
   ]
  },
  {
   "cell_type": "code",
   "execution_count": null,
   "metadata": {},
   "outputs": [
    {
     "data": {
      "text/plain": [
       "[{'heading': '# **PPMi**', 'page': 1},\n",
       " {'heading': '# CONTENTS ', 'page': 3},\n",
       " {'heading': '# 1. Introduction ', 'page': 4},\n",
       " {'heading': '# 2. Background of the JI-HoA ', 'page': 5},\n",
       " {'heading': '### 2.1. Context and design of the JI-HoA', 'page': 5}]"
      ]
     },
     "execution_count": null,
     "metadata": {},
     "output_type": "execute_result"
    }
   ],
   "source": [
    "#| eval: false\n",
    "hdgs = get_hdgs_with_pages(pages); hdgs[:5]"
   ]
  },
  {
   "cell_type": "code",
   "execution_count": null,
   "metadata": {},
   "outputs": [
    {
     "data": {
      "text/plain": [
       "(#5) ['# **PPMi**','# CONTENTS ','# 1. Introduction ','# 2. Background of the JI-HoA ','### 2.1. Context and design of the JI-HoA']"
      ]
     },
     "execution_count": null,
     "metadata": {},
     "output_type": "execute_result"
    }
   ],
   "source": [
    "#| eval: false\n",
    "toc = L([get_hdgs(p.read_text()) for p in pages]).concat(); toc[:5]"
   ]
  },
  {
   "cell_type": "code",
   "execution_count": null,
   "metadata": {},
   "outputs": [],
   "source": [
    "#| exports\n",
    "def format_hdgs(\n",
    "    hdgs: list[dict] # List of headings with page numbers\n",
    "    ):\n",
    "    \"Format headings with page numbers\"\n",
    "    formatted = []\n",
    "    page_positions = {}\n",
    "    \n",
    "    for item in hdgs:\n",
    "        page = item['page']\n",
    "        page_positions[page] = page_positions.get(page, 0) + 1\n",
    "        formatted.append(f\"{item['heading']} (Page {page}, Position {page_positions[page]})\")\n",
    "    \n",
    "    return \"\\n\".join(formatted)"
   ]
  },
  {
   "cell_type": "code",
   "execution_count": null,
   "metadata": {},
   "outputs": [
    {
     "data": {
      "text/html": [
       "<pre style=\"white-space:pre;overflow-x:auto;line-height:normal;font-family:Menlo,'DejaVu Sans Mono',consolas,'Courier New',monospace\"># **PPMi** <span style=\"font-weight: bold\">(</span>Page <span style=\"color: #008080; text-decoration-color: #008080; font-weight: bold\">1</span>, Position <span style=\"color: #008080; text-decoration-color: #008080; font-weight: bold\">1</span><span style=\"font-weight: bold\">)</span>\n",
       "# CONTENTS  <span style=\"font-weight: bold\">(</span>Page <span style=\"color: #008080; text-decoration-color: #008080; font-weight: bold\">3</span>, Position <span style=\"color: #008080; text-decoration-color: #008080; font-weight: bold\">1</span><span style=\"font-weight: bold\">)</span>\n",
       "# <span style=\"color: #008080; text-decoration-color: #008080; font-weight: bold\">1</span>. Introduction  <span style=\"font-weight: bold\">(</span>Page <span style=\"color: #008080; text-decoration-color: #008080; font-weight: bold\">4</span>, Position <span style=\"color: #008080; text-decoration-color: #008080; font-weight: bold\">1</span><span style=\"font-weight: bold\">)</span>\n",
       "# <span style=\"color: #008080; text-decoration-color: #008080; font-weight: bold\">2</span>. Background of the JI-HoA  <span style=\"font-weight: bold\">(</span>Page <span style=\"color: #008080; text-decoration-color: #008080; font-weight: bold\">5</span>, Position <span style=\"color: #008080; text-decoration-color: #008080; font-weight: bold\">1</span><span style=\"font-weight: bold\">)</span>\n",
       "### <span style=\"color: #008080; text-decoration-color: #008080; font-weight: bold\">2.1</span>. Context and design of the JI-HoA <span style=\"font-weight: bold\">(</span>Page <span style=\"color: #008080; text-decoration-color: #008080; font-weight: bold\">5</span>, Position <span style=\"color: #008080; text-decoration-color: #008080; font-weight: bold\">2</span><span style=\"font-weight: bold\">)</span>\n",
       "# <span style=\"color: #008080; text-decoration-color: #008080; font-weight: bold\">2.2</span>. External factors affecting the implementation of the JI  <span style=\"font-weight: bold\">(</span>Page <span style=\"color: #008080; text-decoration-color: #008080; font-weight: bold\">7</span>, Position <span style=\"color: #008080; text-decoration-color: #008080; font-weight: bold\">1</span><span style=\"font-weight: bold\">)</span>\n",
       "# <span style=\"color: #008080; text-decoration-color: #008080; font-weight: bold\">3</span>. Methodology  <span style=\"font-weight: bold\">(</span>Page <span style=\"color: #008080; text-decoration-color: #008080; font-weight: bold\">8</span>, Position <span style=\"color: #008080; text-decoration-color: #008080; font-weight: bold\">1</span><span style=\"font-weight: bold\">)</span>\n",
       "# <span style=\"color: #008080; text-decoration-color: #008080; font-weight: bold\">4</span>. Findings  <span style=\"font-weight: bold\">(</span>Page <span style=\"color: #008080; text-decoration-color: #008080; font-weight: bold\">10</span>, Position <span style=\"color: #008080; text-decoration-color: #008080; font-weight: bold\">1</span><span style=\"font-weight: bold\">)</span>\n",
       "### <span style=\"color: #008080; text-decoration-color: #008080; font-weight: bold\">4.1</span>. Relevance <span style=\"font-weight: bold\">(</span>Page <span style=\"color: #008080; text-decoration-color: #008080; font-weight: bold\">10</span>, Position <span style=\"color: #008080; text-decoration-color: #008080; font-weight: bold\">2</span><span style=\"font-weight: bold\">)</span>\n",
       "### <span style=\"color: #008080; text-decoration-color: #008080; font-weight: bold\">4.1</span>.<span style=\"color: #008080; text-decoration-color: #008080; font-weight: bold\">1</span>. Relevance of programme activities for migrants, returnees, and comm\n",
       "</pre>\n"
      ],
      "text/plain": [
       "# **PPMi** \u001b[1m(\u001b[0mPage \u001b[1;36m1\u001b[0m, Position \u001b[1;36m1\u001b[0m\u001b[1m)\u001b[0m\n",
       "# CONTENTS  \u001b[1m(\u001b[0mPage \u001b[1;36m3\u001b[0m, Position \u001b[1;36m1\u001b[0m\u001b[1m)\u001b[0m\n",
       "# \u001b[1;36m1\u001b[0m. Introduction  \u001b[1m(\u001b[0mPage \u001b[1;36m4\u001b[0m, Position \u001b[1;36m1\u001b[0m\u001b[1m)\u001b[0m\n",
       "# \u001b[1;36m2\u001b[0m. Background of the JI-HoA  \u001b[1m(\u001b[0mPage \u001b[1;36m5\u001b[0m, Position \u001b[1;36m1\u001b[0m\u001b[1m)\u001b[0m\n",
       "### \u001b[1;36m2.1\u001b[0m. Context and design of the JI-HoA \u001b[1m(\u001b[0mPage \u001b[1;36m5\u001b[0m, Position \u001b[1;36m2\u001b[0m\u001b[1m)\u001b[0m\n",
       "# \u001b[1;36m2.2\u001b[0m. External factors affecting the implementation of the JI  \u001b[1m(\u001b[0mPage \u001b[1;36m7\u001b[0m, Position \u001b[1;36m1\u001b[0m\u001b[1m)\u001b[0m\n",
       "# \u001b[1;36m3\u001b[0m. Methodology  \u001b[1m(\u001b[0mPage \u001b[1;36m8\u001b[0m, Position \u001b[1;36m1\u001b[0m\u001b[1m)\u001b[0m\n",
       "# \u001b[1;36m4\u001b[0m. Findings  \u001b[1m(\u001b[0mPage \u001b[1;36m10\u001b[0m, Position \u001b[1;36m1\u001b[0m\u001b[1m)\u001b[0m\n",
       "### \u001b[1;36m4.1\u001b[0m. Relevance \u001b[1m(\u001b[0mPage \u001b[1;36m10\u001b[0m, Position \u001b[1;36m2\u001b[0m\u001b[1m)\u001b[0m\n",
       "### \u001b[1;36m4.1\u001b[0m.\u001b[1;36m1\u001b[0m. Relevance of programme activities for migrants, returnees, and comm\n"
      ]
     },
     "metadata": {},
     "output_type": "display_data"
    }
   ],
   "source": [
    "#| eval: false\n",
    "print(format_hdgs(hdgs)[:500])"
   ]
  },
  {
   "cell_type": "code",
   "execution_count": null,
   "metadata": {},
   "outputs": [],
   "source": [
    "#| exports\n",
    "lm = dspy.LM(cfg.lm, api_key=cfg.api_key)\n",
    "dspy.configure(lm=lm)\n",
    "dspy.settings.configure(track_usage=cfg.track_usage)"
   ]
  },
  {
   "cell_type": "code",
   "execution_count": null,
   "metadata": {},
   "outputs": [],
   "source": [
    "#| exports\n",
    "class HeadingResult(BaseModel):\n",
    "    old: str\n",
    "    page: int\n",
    "    position: int\n",
    "    new: str\n",
    "    changed: bool  # True if correction was made"
   ]
  },
  {
   "cell_type": "code",
   "execution_count": null,
   "metadata": {},
   "outputs": [],
   "source": [
    "#| exports\n",
    "class FixHeadingHierarchy(dspy.Signature):\n",
    "    \"\"\"Fix markdown heading hierarchy by analyzing the document's numbering patterns:\n",
    "    - Detect numbering scheme (1.2.3, I.A.1, A.1.a, etc.)\n",
    "    - Apply hierarchy levels based on nesting depth: # for top level, ## for second level, ### for third level\n",
    "    - When a section number is lower than a previously seen number at the same level (e.g., seeing '2.' after '3.1'), it's likely a subsection or list item, not a main section\n",
    "    - Unnumbered headings: keep as-is if at document boundaries, treat as subsections if within numbered sections\n",
    "    - Return ALL headings with their corrected form\n",
    "    \"\"\"\n",
    "    \n",
    "    headings_with_pages: str = dspy.InputField(desc=\"List of headings with page numbers\")\n",
    "    results: List[HeadingResult] = dspy.OutputField(desc=\"All headings with corrections and change status\")"
   ]
  },
  {
   "cell_type": "code",
   "execution_count": null,
   "metadata": {},
   "outputs": [],
   "source": [
    "#| exports\n",
    "def fix_md(\n",
    "    hdgs: list[dict], # List of headings with page numbers\n",
    "    track_usage: bool=cfg.track_usage,\n",
    "    ):\n",
    "    \"Fix markdown headings\"\n",
    "    lm = dspy.LM(cfg.lm, api_key=cfg.api_key, max_tokens=cfg.max_tokens)\n",
    "    dspy.configure(lm=lm)\n",
    "    dspy.settings.configure(track_usage=track_usage)\n",
    "\n",
    "    inp = format_hdgs(hdgs)\n",
    "    fix_hdgs = dspy.ChainOfThought(FixHeadingHierarchy)\n",
    "    result = fix_hdgs(headings_with_pages=inp)\n",
    "    return result"
   ]
  },
  {
   "cell_type": "code",
   "execution_count": null,
   "metadata": {},
   "outputs": [
    {
     "data": {
      "text/html": [
       "<pre style=\"white-space:pre;overflow-x:auto;line-height:normal;font-family:Menlo,'DejaVu Sans Mono',consolas,'Courier New',monospace\">Result: <span style=\"color: #800080; text-decoration-color: #800080; font-weight: bold\">Prediction</span><span style=\"font-weight: bold\">(</span>\n",
       "    <span style=\"color: #808000; text-decoration-color: #808000\">reasoning</span>=<span style=\"color: #008000; text-decoration-color: #008000\">'The document uses a mixed numbering scheme.  The main sections are numbered 1, 2, 3, 4, 5.  </span>\n",
       "<span style=\"color: #008000; text-decoration-color: #008000\">Subsections are numbered with decimal points (e.g., 4.1, 4.1.1).  However, there are inconsistencies. Some </span>\n",
       "<span style=\"color: #008000; text-decoration-color: #008000\">subsections are incorrectly formatted as top-level headings (e.g., \"2.2\").  Some unnumbered headings are present </span>\n",
       "<span style=\"color: #008000; text-decoration-color: #008000\">within numbered sections, which should be treated as subsections.  The algorithm will correct the heading levels </span>\n",
       "<span style=\"color: #008000; text-decoration-color: #008000\">based on the numbering scheme and context, ensuring a consistent hierarchy.  Unnumbered headings within numbered </span>\n",
       "<span style=\"color: #008000; text-decoration-color: #008000\">sections will be treated as subsections of the nearest numbered heading. Unnumbered headings at the beginning or </span>\n",
       "<span style=\"color: #008000; text-decoration-color: #008000\">end of the document will remain as top-level headings.  Headings that appear to be text within a section (like the </span>\n",
       "<span style=\"color: #008000; text-decoration-color: #008000\">overall performance scores) will be left as is.'</span>,\n",
       "    <span style=\"color: #808000; text-decoration-color: #808000\">results</span>=<span style=\"font-weight: bold\">[</span><span style=\"color: #800080; text-decoration-color: #800080; font-weight: bold\">HeadingResult</span><span style=\"font-weight: bold\">(</span><span style=\"color: #808000; text-decoration-color: #808000\">old</span>=<span style=\"color: #008000; text-decoration-color: #008000\">'# **PPMi**'</span>, <span style=\"color: #808000; text-decoration-color: #808000\">page</span>=<span style=\"color: #008080; text-decoration-color: #008080; font-weight: bold\">1</span>, <span style=\"color: #808000; text-decoration-color: #808000\">position</span>=<span style=\"color: #008080; text-decoration-color: #008080; font-weight: bold\">1</span>, <span style=\"color: #808000; text-decoration-color: #808000\">new</span>=<span style=\"color: #008000; text-decoration-color: #008000\">'# PPMi'</span>, <span style=\"color: #808000; text-decoration-color: #808000\">changed</span>=<span style=\"color: #00ff00; text-decoration-color: #00ff00; font-style: italic\">True</span><span style=\"font-weight: bold\">)</span>, <span style=\"color: #800080; text-decoration-color: #800080; font-weight: bold\">HeadingResult</span><span style=\"font-weight: bold\">(</span><span style=\"color: #808000; text-decoration-color: #808000\">old</span>=<span style=\"color: #008000; text-decoration-color: #008000\">'# </span>\n",
       "<span style=\"color: #008000; text-decoration-color: #008000\">CONTENTS'</span>, <span style=\"color: #808000; text-decoration-color: #808000\">page</span>=<span style=\"color: #008080; text-decoration-color: #008080; font-weight: bold\">3</span>, <span style=\"color: #808000; text-decoration-color: #808000\">position</span>=<span style=\"color: #008080; text-decoration-color: #008080; font-weight: bold\">1</span>, <span style=\"color: #808000; text-decoration-color: #808000\">new</span>=<span style=\"color: #008000; text-decoration-color: #008000\">'# CONTENTS'</span>, <span style=\"color: #808000; text-decoration-color: #808000\">changed</span>=<span style=\"color: #00ff00; text-decoration-color: #00ff00; font-style: italic\">True</span><span style=\"font-weight: bold\">)</span>, <span style=\"color: #800080; text-decoration-color: #800080; font-weight: bold\">HeadingResult</span><span style=\"font-weight: bold\">(</span><span style=\"color: #808000; text-decoration-color: #808000\">old</span>=<span style=\"color: #008000; text-decoration-color: #008000\">'# 1. Introduction'</span>, <span style=\"color: #808000; text-decoration-color: #808000\">page</span>=<span style=\"color: #008080; text-decoration-color: #008080; font-weight: bold\">4</span>, \n",
       "<span style=\"color: #808000; text-decoration-color: #808000\">position</span>=<span style=\"color: #008080; text-decoration-color: #008080; font-weight: bold\">1</span>, <span style=\"color: #808000; text-decoration-color: #808000\">new</span>=<span style=\"color: #008000; text-decoration-color: #008000\">'# 1. Introduction'</span>, <span style=\"color: #808000; text-decoration-color: #808000\">changed</span>=<span style=\"color: #ff0000; text-decoration-color: #ff0000; font-style: italic\">False</span><span style=\"font-weight: bold\">)</span>, <span style=\"color: #800080; text-decoration-color: #800080; font-weight: bold\">HeadingResult</span><span style=\"font-weight: bold\">(</span><span style=\"color: #808000; text-decoration-color: #808000\">old</span>=<span style=\"color: #008000; text-decoration-color: #008000\">'# 2. Background of the JI-HoA'</span>, <span style=\"color: #808000; text-decoration-color: #808000\">page</span>=<span style=\"color: #008080; text-decoration-color: #008080; font-weight: bold\">5</span>, \n",
       "<span style=\"color: #808000; text-decoration-color: #808000\">position</span>=<span style=\"color: #008080; text-decoration-color: #008080; font-weight: bold\">1</span>, <span style=\"color: #808000; text-decoration-color: #808000\">new</span>=<span style=\"color: #008000; text-decoration-color: #008000\">'# 2. Background of the JI-HoA'</span>, <span style=\"color: #808000; text-decoration-color: #808000\">changed</span>=<span style=\"color: #ff0000; text-decoration-color: #ff0000; font-style: italic\">False</span><span style=\"font-weight: bold\">)</span>, <span style=\"color: #800080; text-decoration-color: #800080; font-weight: bold\">HeadingResult</span><span style=\"font-weight: bold\">(</span><span style=\"color: #808000; text-decoration-color: #808000\">old</span>=<span style=\"color: #008000; text-decoration-color: #008000\">'### 2.1. Context and design of </span>\n",
       "<span style=\"color: #008000; text-decoration-color: #008000\">the JI-HoA'</span>, <span style=\"color: #808000; text-decoration-color: #808000\">page</span>=<span style=\"color: #008080; text-decoration-color: #008080; font-weight: bold\">5</span>, <span style=\"color: #808000; text-decoration-color: #808000\">position</span>=<span style=\"color: #008080; text-decoration-color: #008080; font-weight: bold\">2</span>, <span style=\"color: #808000; text-decoration-color: #808000\">new</span>=<span style=\"color: #008000; text-decoration-color: #008000\">'### 2.1. Context and design of the JI-HoA'</span>, <span style=\"color: #808000; text-decoration-color: #808000\">changed</span>=<span style=\"color: #ff0000; text-decoration-color: #ff0000; font-style: italic\">False</span><span style=\"font-weight: bold\">)</span>, \n",
       "<span style=\"color: #800080; text-decoration-color: #800080; font-weight: bold\">HeadingResult</span><span style=\"font-weight: bold\">(</span><span style=\"color: #808000; text-decoration-color: #808000\">old</span>=<span style=\"color: #008000; text-decoration-color: #008000\">'# 2.2. External factors affecting the implementation of the JI'</span>, <span style=\"color: #808000; text-decoration-color: #808000\">page</span>=<span style=\"color: #008080; text-decoration-color: #008080; font-weight: bold\">7</span>, <span style=\"color: #808000; text-decoration-color: #808000\">position</span>=<span style=\"color: #008080; text-decoration-color: #008080; font-weight: bold\">1</span>, <span style=\"color: #808000; text-decoration-color: #808000\">new</span>=<span style=\"color: #008000; text-decoration-color: #008000\">'### </span>\n",
       "<span style=\"color: #008000; text-decoration-color: #008000\">2.2. External factors affecting the implementation of the JI'</span>, <span style=\"color: #808000; text-decoration-color: #808000\">changed</span>=<span style=\"color: #00ff00; text-decoration-color: #00ff00; font-style: italic\">True</span><span style=\"font-weight: bold\">)</span>, <span style=\"color: #800080; text-decoration-color: #800080; font-weight: bold\">HeadingResult</span><span style=\"font-weight: bold\">(</span><span style=\"color: #808000; text-decoration-color: #808000\">old</span>=<span style=\"color: #008000; text-decoration-color: #008000\">'# 3. Methodology'</span>,\n",
       "<span style=\"color: #808000; text-decoration-color: #808000\">page</span>=<span style=\"color: #008080; text-decoration-color: #008080; font-weight: bold\">8</span>, <span style=\"color: #808000; text-decoration-color: #808000\">position</span>=<span style=\"color: #008080; text-decoration-color: #008080; font-weight: bold\">1</span>, <span style=\"color: #808000; text-decoration-color: #808000\">new</span>=<span style=\"color: #008000; text-decoration-color: #008000\">'# 3. Methodology'</span>, <span style=\"color: #808000; text-decoration-color: #808000\">changed</span>=<span style=\"color: #ff0000; text-decoration-color: #ff0000; font-style: italic\">False</span><span style=\"font-weight: bold\">)</span>, <span style=\"color: #800080; text-decoration-color: #800080; font-weight: bold\">HeadingResult</span><span style=\"font-weight: bold\">(</span><span style=\"color: #808000; text-decoration-color: #808000\">old</span>=<span style=\"color: #008000; text-decoration-color: #008000\">'# 4. Findings'</span>, <span style=\"color: #808000; text-decoration-color: #808000\">page</span>=<span style=\"color: #008080; text-decoration-color: #008080; font-weight: bold\">10</span>, <span style=\"color: #808000; text-decoration-color: #808000\">position</span>=<span style=\"color: #008080; text-decoration-color: #008080; font-weight: bold\">1</span>,\n",
       "<span style=\"color: #808000; text-decoration-color: #808000\">new</span>=<span style=\"color: #008000; text-decoration-color: #008000\">'# 4. Findings'</span>, <span style=\"color: #808000; text-decoration-color: #808000\">changed</span>=<span style=\"color: #ff0000; text-decoration-color: #ff0000; font-style: italic\">False</span><span style=\"font-weight: bold\">)</span>, <span style=\"color: #800080; text-decoration-color: #800080; font-weight: bold\">HeadingResult</span><span style=\"font-weight: bold\">(</span><span style=\"color: #808000; text-decoration-color: #808000\">old</span>=<span style=\"color: #008000; text-decoration-color: #008000\">'### 4.1. Relevance'</span>, <span style=\"color: #808000; text-decoration-color: #808000\">page</span>=<span style=\"color: #008080; text-decoration-color: #008080; font-weight: bold\">10</span>, <span style=\"color: #808000; text-decoration-color: #808000\">position</span>=<span style=\"color: #008080; text-decoration-color: #008080; font-weight: bold\">2</span>, <span style=\"color: #808000; text-decoration-color: #808000\">new</span>=<span style=\"color: #008000; text-decoration-color: #008000\">'### 4.1. </span>\n",
       "<span style=\"color: #008000; text-decoration-color: #008000\">Relevance'</span>, <span style=\"color: #808000; text-decoration-color: #808000\">changed</span>=<span style=\"color: #ff0000; text-decoration-color: #ff0000; font-style: italic\">False</span><span style=\"font-weight: bold\">)</span>, <span style=\"color: #800080; text-decoration-color: #800080; font-weight: bold\">HeadingResult</span><span style=\"font-weight: bold\">(</span><span style=\"color: #808000; text-decoration-color: #808000\">old</span>=<span style=\"color: #008000; text-decoration-color: #008000\">'### 4.1.1. Relevance of programme activities for migrants, </span>\n",
       "<span style=\"color: #008000; text-decoration-color: #008000\">returnees, and communities'</span>, <span style=\"color: #808000; text-decoration-color: #808000\">page</span>=<span style=\"color: #008080; text-decoration-color: #008080; font-weight: bold\">10</span>, <span style=\"color: #808000; text-decoration-color: #808000\">position</span>=<span style=\"color: #008080; text-decoration-color: #008080; font-weight: bold\">3</span>, <span style=\"color: #808000; text-decoration-color: #808000\">new</span>=<span style=\"color: #008000; text-decoration-color: #008000\">'#### 4.1.1. Relevance of programme activities for migrants, </span>\n",
       "<span style=\"color: #008000; text-decoration-color: #008000\">returnees, and communities'</span>, <span style=\"color: #808000; text-decoration-color: #808000\">changed</span>=<span style=\"color: #ff0000; text-decoration-color: #ff0000; font-style: italic\">False</span><span style=\"font-weight: bold\">)</span>, <span style=\"color: #800080; text-decoration-color: #800080; font-weight: bold\">HeadingResult</span><span style=\"font-weight: bold\">(</span><span style=\"color: #808000; text-decoration-color: #808000\">old</span>=<span style=\"color: #008000; text-decoration-color: #008000\">'### 4.1.1.1 Needs of migrants'</span>, <span style=\"color: #808000; text-decoration-color: #808000\">page</span>=<span style=\"color: #008080; text-decoration-color: #008080; font-weight: bold\">10</span>, \n",
       "<span style=\"color: #808000; text-decoration-color: #808000\">position</span>=<span style=\"color: #008080; text-decoration-color: #008080; font-weight: bold\">5</span>, <span style=\"color: #808000; text-decoration-color: #808000\">new</span>=<span style=\"color: #008000; text-decoration-color: #008000\">'##### 4.1.1.1 Needs of migrants'</span>, <span style=\"color: #808000; text-decoration-color: #808000\">changed</span>=<span style=\"color: #00ff00; text-decoration-color: #00ff00; font-style: italic\">True</span><span style=\"font-weight: bold\">)</span>, <span style=\"color: #800080; text-decoration-color: #800080; font-weight: bold\">HeadingResult</span><span style=\"font-weight: bold\">(</span><span style=\"color: #808000; text-decoration-color: #808000\">old</span>=<span style=\"color: #008000; text-decoration-color: #008000\">'### 4.1.1.2 Needs of </span>\n",
       "<span style=\"color: #008000; text-decoration-color: #008000\">returnees'</span>, <span style=\"color: #808000; text-decoration-color: #808000\">page</span>=<span style=\"color: #008080; text-decoration-color: #008080; font-weight: bold\">10</span>, <span style=\"color: #808000; text-decoration-color: #808000\">position</span>=<span style=\"color: #008080; text-decoration-color: #008080; font-weight: bold\">6</span>, <span style=\"color: #808000; text-decoration-color: #808000\">new</span>=<span style=\"color: #008000; text-decoration-color: #008000\">'##### 4.1.1.2 Needs of returnees'</span>, <span style=\"color: #808000; text-decoration-color: #808000\">changed</span>=<span style=\"color: #00ff00; text-decoration-color: #00ff00; font-style: italic\">True</span><span style=\"font-weight: bold\">)</span>, <span style=\"color: #800080; text-decoration-color: #800080; font-weight: bold\">HeadingResult</span><span style=\"font-weight: bold\">(</span><span style=\"color: #808000; text-decoration-color: #808000\">old</span>=<span style=\"color: #008000; text-decoration-color: #008000\">'# </span>\n",
       "<span style=\"color: #008000; text-decoration-color: #008000\">4.1.1.3 Needs of community members'</span>, <span style=\"color: #808000; text-decoration-color: #808000\">page</span>=<span style=\"color: #008080; text-decoration-color: #008080; font-weight: bold\">12</span>, <span style=\"color: #808000; text-decoration-color: #808000\">position</span>=<span style=\"color: #008080; text-decoration-color: #008080; font-weight: bold\">1</span>, <span style=\"color: #808000; text-decoration-color: #808000\">new</span>=<span style=\"color: #008000; text-decoration-color: #008000\">'##### 4.1.1.3 Needs of community members'</span>, \n",
       "<span style=\"color: #808000; text-decoration-color: #808000\">changed</span>=<span style=\"color: #00ff00; text-decoration-color: #00ff00; font-style: italic\">True</span><span style=\"font-weight: bold\">)</span>, <span style=\"color: #800080; text-decoration-color: #800080; font-weight: bold\">HeadingResult</span><span style=\"font-weight: bold\">(</span><span style=\"color: #808000; text-decoration-color: #808000\">old</span>=<span style=\"color: #008000; text-decoration-color: #008000\">\"### 4.1.2. Programme's relevance to the needs of stakeholders\"</span>, <span style=\"color: #808000; text-decoration-color: #808000\">page</span>=<span style=\"color: #008080; text-decoration-color: #008080; font-weight: bold\">12</span>, \n",
       "<span style=\"color: #808000; text-decoration-color: #808000\">position</span>=<span style=\"color: #008080; text-decoration-color: #008080; font-weight: bold\">2</span>, <span style=\"color: #808000; text-decoration-color: #808000\">new</span>=<span style=\"color: #008000; text-decoration-color: #008000\">\"### 4.1.2. Programme's relevance to the needs of stakeholders\"</span>, <span style=\"color: #808000; text-decoration-color: #808000\">changed</span>=<span style=\"color: #ff0000; text-decoration-color: #ff0000; font-style: italic\">False</span><span style=\"font-weight: bold\">)</span>, \n",
       "<span style=\"color: #800080; text-decoration-color: #800080; font-weight: bold\">HeadingResult</span><span style=\"font-weight: bold\">(</span><span style=\"color: #808000; text-decoration-color: #808000\">old</span>=<span style=\"color: #008000; text-decoration-color: #008000\">'### 4.1.2.1 Needs of governments'</span>, <span style=\"color: #808000; text-decoration-color: #808000\">page</span>=<span style=\"color: #008080; text-decoration-color: #008080; font-weight: bold\">12</span>, <span style=\"color: #808000; text-decoration-color: #808000\">position</span>=<span style=\"color: #008080; text-decoration-color: #008080; font-weight: bold\">3</span>, <span style=\"color: #808000; text-decoration-color: #808000\">new</span>=<span style=\"color: #008000; text-decoration-color: #008000\">'#### 4.1.2.1 Needs of governments'</span>,\n",
       "<span style=\"color: #808000; text-decoration-color: #808000\">changed</span>=<span style=\"color: #00ff00; text-decoration-color: #00ff00; font-style: italic\">True</span><span style=\"font-weight: bold\">)</span>, <span style=\"color: #800080; text-decoration-color: #800080; font-weight: bold\">HeadingResult</span><span style=\"font-weight: bold\">(</span><span style=\"color: #808000; text-decoration-color: #808000\">old</span>=<span style=\"color: #008000; text-decoration-color: #008000\">'# 4.1.2.2 Needs of other stakeholders'</span>, <span style=\"color: #808000; text-decoration-color: #808000\">page</span>=<span style=\"color: #008080; text-decoration-color: #008080; font-weight: bold\">13</span>, <span style=\"color: #808000; text-decoration-color: #808000\">position</span>=<span style=\"color: #008080; text-decoration-color: #008080; font-weight: bold\">1</span>, <span style=\"color: #808000; text-decoration-color: #808000\">new</span>=<span style=\"color: #008000; text-decoration-color: #008000\">'#### 4.1.2.2 </span>\n",
       "<span style=\"color: #008000; text-decoration-color: #008000\">Needs of other stakeholders'</span>, <span style=\"color: #808000; text-decoration-color: #808000\">changed</span>=<span style=\"color: #00ff00; text-decoration-color: #00ff00; font-style: italic\">True</span><span style=\"font-weight: bold\">)</span>, <span style=\"color: #800080; text-decoration-color: #800080; font-weight: bold\">HeadingResult</span><span style=\"font-weight: bold\">(</span><span style=\"color: #808000; text-decoration-color: #808000\">old</span>=<span style=\"color: #008000; text-decoration-color: #008000\">'### 4.2. Coherence'</span>, <span style=\"color: #808000; text-decoration-color: #808000\">page</span>=<span style=\"color: #008080; text-decoration-color: #008080; font-weight: bold\">13</span>, <span style=\"color: #808000; text-decoration-color: #808000\">position</span>=<span style=\"color: #008080; text-decoration-color: #008080; font-weight: bold\">2</span>, <span style=\"color: #808000; text-decoration-color: #808000\">new</span>=<span style=\"color: #008000; text-decoration-color: #008000\">'### </span>\n",
       "<span style=\"color: #008000; text-decoration-color: #008000\">4.2. Coherence'</span>, <span style=\"color: #808000; text-decoration-color: #808000\">changed</span>=<span style=\"color: #ff0000; text-decoration-color: #ff0000; font-style: italic\">False</span><span style=\"font-weight: bold\">)</span>, <span style=\"color: #800080; text-decoration-color: #800080; font-weight: bold\">HeadingResult</span><span style=\"font-weight: bold\">(</span><span style=\"color: #808000; text-decoration-color: #808000\">old</span>=<span style=\"color: #008000; text-decoration-color: #008000\">\"# 4.2.1. The JI-HoA's alignment with the objectives and </span>\n",
       "<span style=\"color: #008000; text-decoration-color: #008000\">standards of IOM, and objectives of the EU\"</span>, <span style=\"color: #808000; text-decoration-color: #808000\">page</span>=<span style=\"color: #008080; text-decoration-color: #008080; font-weight: bold\">14</span>, <span style=\"color: #808000; text-decoration-color: #808000\">position</span>=<span style=\"color: #008080; text-decoration-color: #008080; font-weight: bold\">1</span>, <span style=\"color: #808000; text-decoration-color: #808000\">new</span>=<span style=\"color: #008000; text-decoration-color: #008000\">\"#### 4.2.1. The JI-HoA's alignment with the </span>\n",
       "<span style=\"color: #008000; text-decoration-color: #008000\">objectives and standards of IOM, and objectives of the EU\"</span>, <span style=\"color: #808000; text-decoration-color: #808000\">changed</span>=<span style=\"color: #ff0000; text-decoration-color: #ff0000; font-style: italic\">False</span><span style=\"font-weight: bold\">)</span>, <span style=\"color: #800080; text-decoration-color: #800080; font-weight: bold\">HeadingResult</span><span style=\"font-weight: bold\">(</span><span style=\"color: #808000; text-decoration-color: #808000\">old</span>=<span style=\"color: #008000; text-decoration-color: #008000\">'### 4.2.2. Alignment</span>\n",
       "<span style=\"color: #008000; text-decoration-color: #008000\">with other initiatives'</span>, <span style=\"color: #808000; text-decoration-color: #808000\">page</span>=<span style=\"color: #008080; text-decoration-color: #008080; font-weight: bold\">14</span>, <span style=\"color: #808000; text-decoration-color: #808000\">position</span>=<span style=\"color: #008080; text-decoration-color: #008080; font-weight: bold\">2</span>, <span style=\"color: #808000; text-decoration-color: #808000\">new</span>=<span style=\"color: #008000; text-decoration-color: #008000\">'#### 4.2.2. Alignment with other initiatives'</span>, <span style=\"color: #808000; text-decoration-color: #808000\">changed</span>=<span style=\"color: #ff0000; text-decoration-color: #ff0000; font-style: italic\">False</span><span style=\"font-weight: bold\">)</span>, \n",
       "<span style=\"color: #800080; text-decoration-color: #800080; font-weight: bold\">HeadingResult</span><span style=\"font-weight: bold\">(</span><span style=\"color: #808000; text-decoration-color: #808000\">old</span>=<span style=\"color: #008000; text-decoration-color: #008000\">'# 4.3. Effectiveness'</span>, <span style=\"color: #808000; text-decoration-color: #808000\">page</span>=<span style=\"color: #008080; text-decoration-color: #008080; font-weight: bold\">16</span>, <span style=\"color: #808000; text-decoration-color: #808000\">position</span>=<span style=\"color: #008080; text-decoration-color: #008080; font-weight: bold\">1</span>, <span style=\"color: #808000; text-decoration-color: #808000\">new</span>=<span style=\"color: #008000; text-decoration-color: #008000\">'# 4.3. Effectiveness'</span>, <span style=\"color: #808000; text-decoration-color: #808000\">changed</span>=<span style=\"color: #ff0000; text-decoration-color: #ff0000; font-style: italic\">False</span><span style=\"font-weight: bold\">)</span>, \n",
       "<span style=\"color: #800080; text-decoration-color: #800080; font-weight: bold\">HeadingResult</span><span style=\"font-weight: bold\">(</span><span style=\"color: #808000; text-decoration-color: #808000\">old</span>=<span style=\"color: #008000; text-decoration-color: #008000\">'### 4.3.1. Specific Objective 1: Partner countries and relevant stakeholders developed or </span>\n",
       "<span style=\"color: #008000; text-decoration-color: #008000\">strengthened evidence-based return and reintegration procedures'</span>, <span style=\"color: #808000; text-decoration-color: #808000\">page</span>=<span style=\"color: #008080; text-decoration-color: #008080; font-weight: bold\">16</span>, <span style=\"color: #808000; text-decoration-color: #808000\">position</span>=<span style=\"color: #008080; text-decoration-color: #008080; font-weight: bold\">2</span>, <span style=\"color: #808000; text-decoration-color: #808000\">new</span>=<span style=\"color: #008000; text-decoration-color: #008000\">'### 4.3.1. Specific </span>\n",
       "<span style=\"color: #008000; text-decoration-color: #008000\">Objective 1: Partner countries and relevant stakeholders developed or strengthened evidence-based return and </span>\n",
       "<span style=\"color: #008000; text-decoration-color: #008000\">reintegration procedures'</span>, <span style=\"color: #808000; text-decoration-color: #808000\">changed</span>=<span style=\"color: #ff0000; text-decoration-color: #ff0000; font-style: italic\">False</span><span style=\"font-weight: bold\">)</span>, <span style=\"color: #800080; text-decoration-color: #800080; font-weight: bold\">HeadingResult</span><span style=\"font-weight: bold\">(</span><span style=\"color: #808000; text-decoration-color: #808000\">old</span>=<span style=\"color: #008000; text-decoration-color: #008000\">'### 4.3.1.1 Achievement of outputs and results'</span>, \n",
       "<span style=\"color: #808000; text-decoration-color: #808000\">page</span>=<span style=\"color: #008080; text-decoration-color: #008080; font-weight: bold\">16</span>, <span style=\"color: #808000; text-decoration-color: #808000\">position</span>=<span style=\"color: #008080; text-decoration-color: #008080; font-weight: bold\">3</span>, <span style=\"color: #808000; text-decoration-color: #808000\">new</span>=<span style=\"color: #008000; text-decoration-color: #008000\">'#### 4.3.1.1 Achievement of outputs and results'</span>, <span style=\"color: #808000; text-decoration-color: #808000\">changed</span>=<span style=\"color: #ff0000; text-decoration-color: #ff0000; font-style: italic\">False</span><span style=\"font-weight: bold\">)</span>, <span style=\"color: #800080; text-decoration-color: #800080; font-weight: bold\">HeadingResult</span><span style=\"font-weight: bold\">(</span><span style=\"color: #808000; text-decoration-color: #808000\">old</span>=<span style=\"color: #008000; text-decoration-color: #008000\">'## </span>\n",
       "<span style=\"color: #008000; text-decoration-color: #008000\">Data availability'</span>, <span style=\"color: #808000; text-decoration-color: #808000\">page</span>=<span style=\"color: #008080; text-decoration-color: #008080; font-weight: bold\">16</span>, <span style=\"color: #808000; text-decoration-color: #808000\">position</span>=<span style=\"color: #008080; text-decoration-color: #008080; font-weight: bold\">4</span>, <span style=\"color: #808000; text-decoration-color: #808000\">new</span>=<span style=\"color: #008000; text-decoration-color: #008000\">'## Data availability'</span>, <span style=\"color: #808000; text-decoration-color: #808000\">changed</span>=<span style=\"color: #00ff00; text-decoration-color: #00ff00; font-style: italic\">True</span><span style=\"font-weight: bold\">)</span>, <span style=\"color: #800080; text-decoration-color: #800080; font-weight: bold\">HeadingResult</span><span style=\"font-weight: bold\">(</span><span style=\"color: #808000; text-decoration-color: #808000\">old</span>=<span style=\"color: #008000; text-decoration-color: #008000\">'# Capacity </span>\n",
       "<span style=\"color: #008000; text-decoration-color: #008000\">of stakeholders'</span>, <span style=\"color: #808000; text-decoration-color: #808000\">page</span>=<span style=\"color: #008080; text-decoration-color: #008080; font-weight: bold\">17</span>, <span style=\"color: #808000; text-decoration-color: #808000\">position</span>=<span style=\"color: #008080; text-decoration-color: #008080; font-weight: bold\">1</span>, <span style=\"color: #808000; text-decoration-color: #808000\">new</span>=<span style=\"color: #008000; text-decoration-color: #008000\">'### 4.3.1.2 Achievement of Specific Objective 1'</span>, <span style=\"color: #808000; text-decoration-color: #808000\">changed</span>=<span style=\"color: #00ff00; text-decoration-color: #00ff00; font-style: italic\">True</span><span style=\"font-weight: bold\">)</span>, \n",
       "<span style=\"color: #800080; text-decoration-color: #800080; font-weight: bold\">HeadingResult</span><span style=\"font-weight: bold\">(</span><span style=\"color: #808000; text-decoration-color: #808000\">old</span>=<span style=\"color: #008000; text-decoration-color: #008000\">'### 4.3.1.2 Achievement of Specific Objective 1'</span>, <span style=\"color: #808000; text-decoration-color: #808000\">page</span>=<span style=\"color: #008080; text-decoration-color: #008080; font-weight: bold\">17</span>, <span style=\"color: #808000; text-decoration-color: #808000\">position</span>=<span style=\"color: #008080; text-decoration-color: #008080; font-weight: bold\">2</span>, <span style=\"color: #808000; text-decoration-color: #808000\">new</span>=<span style=\"color: #008000; text-decoration-color: #008000\">'#### 4.3.1.2 </span>\n",
       "<span style=\"color: #008000; text-decoration-color: #008000\">Achievement of Specific Objective 1'</span>, <span style=\"color: #808000; text-decoration-color: #808000\">changed</span>=<span style=\"color: #ff0000; text-decoration-color: #ff0000; font-style: italic\">False</span><span style=\"font-weight: bold\">)</span>, <span style=\"color: #800080; text-decoration-color: #800080; font-weight: bold\">HeadingResult</span><span style=\"font-weight: bold\">(</span><span style=\"color: #808000; text-decoration-color: #808000\">old</span>=<span style=\"color: #008000; text-decoration-color: #008000\">'# 4.3.2. Specific Objective 2: Safe, </span>\n",
       "<span style=\"color: #008000; text-decoration-color: #008000\">humane, dignified voluntary return processes are enhanced along main migration routes'</span>, <span style=\"color: #808000; text-decoration-color: #808000\">page</span>=<span style=\"color: #008080; text-decoration-color: #008080; font-weight: bold\">18</span>, <span style=\"color: #808000; text-decoration-color: #808000\">position</span>=<span style=\"color: #008080; text-decoration-color: #008080; font-weight: bold\">1</span>, <span style=\"color: #808000; text-decoration-color: #808000\">new</span>=<span style=\"color: #008000; text-decoration-color: #008000\">'#</span>\n",
       "<span style=\"color: #008000; text-decoration-color: #008000\">4.3.2. Specific Objective 2: Safe, humane, dignified voluntary return processes are enhanced along main migration </span>\n",
       "<span style=\"color: #008000; text-decoration-color: #008000\">routes'</span>, <span style=\"color: #808000; text-decoration-color: #808000\">changed</span>=<span style=\"color: #ff0000; text-decoration-color: #ff0000; font-style: italic\">False</span><span style=\"font-weight: bold\">)</span>, <span style=\"color: #800080; text-decoration-color: #800080; font-weight: bold\">HeadingResult</span><span style=\"font-weight: bold\">(</span><span style=\"color: #808000; text-decoration-color: #808000\">old</span>=<span style=\"color: #008000; text-decoration-color: #008000\">'# 4.3.2.1 Achievement of outputs and results'</span>, <span style=\"color: #808000; text-decoration-color: #808000\">page</span>=<span style=\"color: #008080; text-decoration-color: #008080; font-weight: bold\">19</span>, <span style=\"color: #808000; text-decoration-color: #808000\">position</span>=<span style=\"color: #008080; text-decoration-color: #008080; font-weight: bold\">1</span>, \n",
       "<span style=\"color: #808000; text-decoration-color: #808000\">new</span>=<span style=\"color: #008000; text-decoration-color: #008000\">'### 4.3.2.1 Achievement of outputs and results'</span>, <span style=\"color: #808000; text-decoration-color: #808000\">changed</span>=<span style=\"color: #ff0000; text-decoration-color: #ff0000; font-style: italic\">False</span><span style=\"font-weight: bold\">)</span>, <span style=\"color: #800080; text-decoration-color: #800080; font-weight: bold\">HeadingResult</span><span style=\"font-weight: bold\">(</span><span style=\"color: #808000; text-decoration-color: #808000\">old</span>=<span style=\"color: #008000; text-decoration-color: #008000\">'## Outreach and </span>\n",
       "<span style=\"color: #008000; text-decoration-color: #008000\">awareness'</span>, <span style=\"color: #808000; text-decoration-color: #808000\">page</span>=<span style=\"color: #008080; text-decoration-color: #008080; font-weight: bold\">19</span>, <span style=\"color: #808000; text-decoration-color: #808000\">position</span>=<span style=\"color: #008080; text-decoration-color: #008080; font-weight: bold\">2</span>, <span style=\"color: #808000; text-decoration-color: #808000\">new</span>=<span style=\"color: #008000; text-decoration-color: #008000\">'## Outreach and awareness'</span>, <span style=\"color: #808000; text-decoration-color: #808000\">changed</span>=<span style=\"color: #00ff00; text-decoration-color: #00ff00; font-style: italic\">True</span><span style=\"font-weight: bold\">)</span>, <span style=\"color: #800080; text-decoration-color: #800080; font-weight: bold\">HeadingResult</span><span style=\"font-weight: bold\">(</span><span style=\"color: #808000; text-decoration-color: #808000\">old</span>=<span style=\"color: #008000; text-decoration-color: #008000\">'## Assistance </span>\n",
       "<span style=\"color: #008000; text-decoration-color: #008000\">to stranded migrants'</span>, <span style=\"color: #808000; text-decoration-color: #808000\">page</span>=<span style=\"color: #008080; text-decoration-color: #008080; font-weight: bold\">19</span>, <span style=\"color: #808000; text-decoration-color: #808000\">position</span>=<span style=\"color: #008080; text-decoration-color: #008080; font-weight: bold\">3</span>, <span style=\"color: #808000; text-decoration-color: #808000\">new</span>=<span style=\"color: #008000; text-decoration-color: #008000\">'## Assistance to stranded migrants'</span>, <span style=\"color: #808000; text-decoration-color: #808000\">changed</span>=<span style=\"color: #00ff00; text-decoration-color: #00ff00; font-style: italic\">True</span><span style=\"font-weight: bold\">)</span>, \n",
       "<span style=\"color: #800080; text-decoration-color: #800080; font-weight: bold\">HeadingResult</span><span style=\"font-weight: bold\">(</span><span style=\"color: #808000; text-decoration-color: #808000\">old</span>=<span style=\"color: #008000; text-decoration-color: #008000\">'# 4.3.2.2 Achievement of the Objective'</span>, <span style=\"color: #808000; text-decoration-color: #808000\">page</span>=<span style=\"color: #008080; text-decoration-color: #008080; font-weight: bold\">20</span>, <span style=\"color: #808000; text-decoration-color: #808000\">position</span>=<span style=\"color: #008080; text-decoration-color: #008080; font-weight: bold\">1</span>, <span style=\"color: #808000; text-decoration-color: #808000\">new</span>=<span style=\"color: #008000; text-decoration-color: #008000\">'### 4.3.2.2 Achievement of </span>\n",
       "<span style=\"color: #008000; text-decoration-color: #008000\">the Objective'</span>, <span style=\"color: #808000; text-decoration-color: #808000\">changed</span>=<span style=\"color: #ff0000; text-decoration-color: #ff0000; font-style: italic\">False</span><span style=\"font-weight: bold\">)</span>, <span style=\"color: #800080; text-decoration-color: #800080; font-weight: bold\">HeadingResult</span><span style=\"font-weight: bold\">(</span><span style=\"color: #808000; text-decoration-color: #808000\">old</span>=<span style=\"color: #008000; text-decoration-color: #008000\">'### 4.3.3. Specific Objective 3: Returnees are sustainably </span>\n",
       "<span style=\"color: #008000; text-decoration-color: #008000\">integrated in host communities, and host communities are better able to create living standards that address </span>\n",
       "<span style=\"color: #008000; text-decoration-color: #008000\">drivers of migration.'</span>, <span style=\"color: #808000; text-decoration-color: #808000\">page</span>=<span style=\"color: #008080; text-decoration-color: #008080; font-weight: bold\">20</span>, <span style=\"color: #808000; text-decoration-color: #808000\">position</span>=<span style=\"color: #008080; text-decoration-color: #008080; font-weight: bold\">2</span>, <span style=\"color: #808000; text-decoration-color: #808000\">new</span>=<span style=\"color: #008000; text-decoration-color: #008000\">'### 4.3.3. Specific Objective 3: Returnees are sustainably </span>\n",
       "<span style=\"color: #008000; text-decoration-color: #008000\">integrated in host communities, and host communities are better able to create living standards that address </span>\n",
       "<span style=\"color: #008000; text-decoration-color: #008000\">drivers of migration.'</span>, <span style=\"color: #808000; text-decoration-color: #808000\">changed</span>=<span style=\"color: #ff0000; text-decoration-color: #ff0000; font-style: italic\">False</span><span style=\"font-weight: bold\">)</span>, <span style=\"color: #800080; text-decoration-color: #800080; font-weight: bold\">HeadingResult</span><span style=\"font-weight: bold\">(</span><span style=\"color: #808000; text-decoration-color: #808000\">old</span>=<span style=\"color: #008000; text-decoration-color: #008000\">'### 4.3.3.1 Achievement of outputs and results'</span>, \n",
       "<span style=\"color: #808000; text-decoration-color: #808000\">page</span>=<span style=\"color: #008080; text-decoration-color: #008080; font-weight: bold\">20</span>, <span style=\"color: #808000; text-decoration-color: #808000\">position</span>=<span style=\"color: #008080; text-decoration-color: #008080; font-weight: bold\">3</span>, <span style=\"color: #808000; text-decoration-color: #808000\">new</span>=<span style=\"color: #008000; text-decoration-color: #008000\">'#### 4.3.3.1 Achievement of outputs and results'</span>, <span style=\"color: #808000; text-decoration-color: #808000\">changed</span>=<span style=\"color: #ff0000; text-decoration-color: #ff0000; font-style: italic\">False</span><span style=\"font-weight: bold\">)</span>, <span style=\"color: #800080; text-decoration-color: #800080; font-weight: bold\">HeadingResult</span><span style=\"font-weight: bold\">(</span><span style=\"color: #808000; text-decoration-color: #808000\">old</span>=<span style=\"color: #008000; text-decoration-color: #008000\">'## </span>\n",
       "<span style=\"color: #008000; text-decoration-color: #008000\">Individual and community-based reintegration'</span>, <span style=\"color: #808000; text-decoration-color: #808000\">page</span>=<span style=\"color: #008080; text-decoration-color: #008080; font-weight: bold\">20</span>, <span style=\"color: #808000; text-decoration-color: #808000\">position</span>=<span style=\"color: #008080; text-decoration-color: #008080; font-weight: bold\">4</span>, <span style=\"color: #808000; text-decoration-color: #808000\">new</span>=<span style=\"color: #008000; text-decoration-color: #008000\">'## Individual and community-based </span>\n",
       "<span style=\"color: #008000; text-decoration-color: #008000\">reintegration'</span>, <span style=\"color: #808000; text-decoration-color: #808000\">changed</span>=<span style=\"color: #00ff00; text-decoration-color: #00ff00; font-style: italic\">True</span><span style=\"font-weight: bold\">)</span>, <span style=\"color: #800080; text-decoration-color: #800080; font-weight: bold\">HeadingResult</span><span style=\"font-weight: bold\">(</span><span style=\"color: #808000; text-decoration-color: #808000\">old</span>=<span style=\"color: #008000; text-decoration-color: #008000\">'# M\\\\&amp;E systems'</span>, <span style=\"color: #808000; text-decoration-color: #808000\">page</span>=<span style=\"color: #008080; text-decoration-color: #008080; font-weight: bold\">21</span>, <span style=\"color: #808000; text-decoration-color: #808000\">position</span>=<span style=\"color: #008080; text-decoration-color: #008080; font-weight: bold\">1</span>, <span style=\"color: #808000; text-decoration-color: #808000\">new</span>=<span style=\"color: #008000; text-decoration-color: #008000\">'### 4.3.3.2 </span>\n",
       "<span style=\"color: #008000; text-decoration-color: #008000\">Achievement of Specific Objective 3'</span>, <span style=\"color: #808000; text-decoration-color: #808000\">changed</span>=<span style=\"color: #00ff00; text-decoration-color: #00ff00; font-style: italic\">True</span><span style=\"font-weight: bold\">)</span>, <span style=\"color: #800080; text-decoration-color: #800080; font-weight: bold\">HeadingResult</span><span style=\"font-weight: bold\">(</span><span style=\"color: #808000; text-decoration-color: #808000\">old</span>=<span style=\"color: #008000; text-decoration-color: #008000\">'## Overall achievement of reintegration'</span>, \n",
       "<span style=\"color: #808000; text-decoration-color: #808000\">page</span>=<span style=\"color: #008080; text-decoration-color: #008080; font-weight: bold\">22</span>, <span style=\"color: #808000; text-decoration-color: #808000\">position</span>=<span style=\"color: #008080; text-decoration-color: #008080; font-weight: bold\">2</span>, <span style=\"color: #808000; text-decoration-color: #808000\">new</span>=<span style=\"color: #008000; text-decoration-color: #008000\">'## Overall achievement of reintegration'</span>, <span style=\"color: #808000; text-decoration-color: #808000\">changed</span>=<span style=\"color: #00ff00; text-decoration-color: #00ff00; font-style: italic\">True</span><span style=\"font-weight: bold\">)</span>, <span style=\"color: #800080; text-decoration-color: #800080; font-weight: bold\">HeadingResult</span><span style=\"font-weight: bold\">(</span><span style=\"color: #808000; text-decoration-color: #808000\">old</span>=<span style=\"color: #008000; text-decoration-color: #008000\">'# </span>\n",
       "<span style=\"color: #008000; text-decoration-color: #008000\">Sustainability of reintegration'</span>, <span style=\"color: #808000; text-decoration-color: #808000\">page</span>=<span style=\"color: #008080; text-decoration-color: #008080; font-weight: bold\">23</span>, <span style=\"color: #808000; text-decoration-color: #808000\">position</span>=<span style=\"color: #008080; text-decoration-color: #008080; font-weight: bold\">1</span>, <span style=\"color: #808000; text-decoration-color: #808000\">new</span>=<span style=\"color: #008000; text-decoration-color: #008000\">'### 4.3.4. Functioning of the Integrated Approach'</span>, \n",
       "<span style=\"color: #808000; text-decoration-color: #808000\">changed</span>=<span style=\"color: #00ff00; text-decoration-color: #00ff00; font-style: italic\">True</span><span style=\"font-weight: bold\">)</span>, <span style=\"color: #800080; text-decoration-color: #800080; font-weight: bold\">HeadingResult</span><span style=\"font-weight: bold\">(</span><span style=\"color: #808000; text-decoration-color: #808000\">old</span>=<span style=\"color: #008000; text-decoration-color: #008000\">'### 4.3.4. Functioning of the Integrated Approach'</span>, <span style=\"color: #808000; text-decoration-color: #808000\">page</span>=<span style=\"color: #008080; text-decoration-color: #008080; font-weight: bold\">23</span>, <span style=\"color: #808000; text-decoration-color: #808000\">position</span>=<span style=\"color: #008080; text-decoration-color: #008080; font-weight: bold\">2</span>, \n",
       "<span style=\"color: #808000; text-decoration-color: #808000\">new</span>=<span style=\"color: #008000; text-decoration-color: #008000\">'#### 4.3.4. Functioning of the Integrated Approach'</span>, <span style=\"color: #808000; text-decoration-color: #808000\">changed</span>=<span style=\"color: #ff0000; text-decoration-color: #ff0000; font-style: italic\">False</span><span style=\"font-weight: bold\">)</span>, <span style=\"color: #800080; text-decoration-color: #800080; font-weight: bold\">HeadingResult</span><span style=\"font-weight: bold\">(</span><span style=\"color: #808000; text-decoration-color: #808000\">old</span>=<span style=\"color: #008000; text-decoration-color: #008000\">'# 4.4. Efficiency'</span>, \n",
       "<span style=\"color: #808000; text-decoration-color: #808000\">page</span>=<span style=\"color: #008080; text-decoration-color: #008080; font-weight: bold\">24</span>, <span style=\"color: #808000; text-decoration-color: #808000\">position</span>=<span style=\"color: #008080; text-decoration-color: #008080; font-weight: bold\">1</span>, <span style=\"color: #808000; text-decoration-color: #808000\">new</span>=<span style=\"color: #008000; text-decoration-color: #008000\">'# 4.4. Efficiency'</span>, <span style=\"color: #808000; text-decoration-color: #808000\">changed</span>=<span style=\"color: #ff0000; text-decoration-color: #ff0000; font-style: italic\">False</span><span style=\"font-weight: bold\">)</span>, <span style=\"color: #800080; text-decoration-color: #800080; font-weight: bold\">HeadingResult</span><span style=\"font-weight: bold\">(</span><span style=\"color: #808000; text-decoration-color: #808000\">old</span>=<span style=\"color: #008000; text-decoration-color: #008000\">'### 4.4.3. Did the programme </span>\n",
       "<span style=\"color: #008000; text-decoration-color: #008000\">receive sufficient resources to achieve its objectives?'</span>, <span style=\"color: #808000; text-decoration-color: #808000\">page</span>=<span style=\"color: #008080; text-decoration-color: #008080; font-weight: bold\">24</span>, <span style=\"color: #808000; text-decoration-color: #808000\">position</span>=<span style=\"color: #008080; text-decoration-color: #008080; font-weight: bold\">2</span>, <span style=\"color: #808000; text-decoration-color: #808000\">new</span>=<span style=\"color: #008000; text-decoration-color: #008000\">'### 4.4.3. Did the programme </span>\n",
       "<span style=\"color: #008000; text-decoration-color: #008000\">receive sufficient resources to achieve its objectives?'</span>, <span style=\"color: #808000; text-decoration-color: #808000\">changed</span>=<span style=\"color: #ff0000; text-decoration-color: #ff0000; font-style: italic\">False</span><span style=\"font-weight: bold\">)</span>, <span style=\"color: #800080; text-decoration-color: #800080; font-weight: bold\">HeadingResult</span><span style=\"font-weight: bold\">(</span><span style=\"color: #808000; text-decoration-color: #808000\">old</span>=<span style=\"color: #008000; text-decoration-color: #008000\">'# 4.4.2. </span>\n",
       "<span style=\"color: #008000; text-decoration-color: #008000\">Cost-effectiveness and efficiency of the programme'</span>, <span style=\"color: #808000; text-decoration-color: #808000\">page</span>=<span style=\"color: #008080; text-decoration-color: #008080; font-weight: bold\">25</span>, <span style=\"color: #808000; text-decoration-color: #808000\">position</span>=<span style=\"color: #008080; text-decoration-color: #008080; font-weight: bold\">1</span>, <span style=\"color: #808000; text-decoration-color: #808000\">new</span>=<span style=\"color: #008000; text-decoration-color: #008000\">'### 4.4.2. Cost-effectiveness and </span>\n",
       "<span style=\"color: #008000; text-decoration-color: #008000\">efficiency of the programme'</span>, <span style=\"color: #808000; text-decoration-color: #808000\">changed</span>=<span style=\"color: #00ff00; text-decoration-color: #00ff00; font-style: italic\">True</span><span style=\"font-weight: bold\">)</span>, <span style=\"color: #800080; text-decoration-color: #800080; font-weight: bold\">HeadingResult</span><span style=\"font-weight: bold\">(</span><span style=\"color: #808000; text-decoration-color: #808000\">old</span>=<span style=\"color: #008000; text-decoration-color: #008000\">'# 4.5. Sustainability'</span>, <span style=\"color: #808000; text-decoration-color: #808000\">page</span>=<span style=\"color: #008080; text-decoration-color: #008080; font-weight: bold\">26</span>, <span style=\"color: #808000; text-decoration-color: #808000\">position</span>=<span style=\"color: #008080; text-decoration-color: #008080; font-weight: bold\">1</span>, <span style=\"color: #808000; text-decoration-color: #808000\">new</span>=<span style=\"color: #008000; text-decoration-color: #008000\">'#</span>\n",
       "<span style=\"color: #008000; text-decoration-color: #008000\">4.5. Sustainability'</span>, <span style=\"color: #808000; text-decoration-color: #808000\">changed</span>=<span style=\"color: #ff0000; text-decoration-color: #ff0000; font-style: italic\">False</span><span style=\"font-weight: bold\">)</span>, <span style=\"color: #800080; text-decoration-color: #800080; font-weight: bold\">HeadingResult</span><span style=\"font-weight: bold\">(</span><span style=\"color: #808000; text-decoration-color: #808000\">old</span>=<span style=\"color: #008000; text-decoration-color: #008000\">'## Overall performance score for sustainability: $2.5 / 5$</span>\n",
       "<span style=\"color: #008000; text-decoration-color: #008000\">&lt;br&gt; Robustness score for the evidence: $4 / 5$'</span><span style=\"color: #000000; text-decoration-color: #000000\">, </span><span style=\"color: #808000; text-decoration-color: #808000\">page</span><span style=\"color: #000000; text-decoration-color: #000000\">=</span><span style=\"color: #008080; text-decoration-color: #008080; font-weight: bold\">26</span><span style=\"color: #000000; text-decoration-color: #000000\">, </span><span style=\"color: #808000; text-decoration-color: #808000\">position</span><span style=\"color: #000000; text-decoration-color: #000000\">=</span><span style=\"color: #008080; text-decoration-color: #008080; font-weight: bold\">2</span><span style=\"color: #000000; text-decoration-color: #000000\">, </span><span style=\"color: #808000; text-decoration-color: #808000\">new</span><span style=\"color: #000000; text-decoration-color: #000000\">=</span><span style=\"color: #008000; text-decoration-color: #008000\">'## Overall performance score for </span>\n",
       "<span style=\"color: #008000; text-decoration-color: #008000\">sustainability: $2.5 / 5$ &lt;br&gt; Robustness score for the evidence: $4 / 5$'</span>, <span style=\"color: #808000; text-decoration-color: #808000\">changed</span>=<span style=\"color: #00ff00; text-decoration-color: #00ff00; font-style: italic\">True</span><span style=\"font-weight: bold\">)</span>, <span style=\"color: #800080; text-decoration-color: #800080; font-weight: bold\">HeadingResult</span><span style=\"font-weight: bold\">(</span><span style=\"color: #808000; text-decoration-color: #808000\">old</span>=<span style=\"color: #008000; text-decoration-color: #008000\">'# 5. </span>\n",
       "<span style=\"color: #008000; text-decoration-color: #008000\">Conclusions and Recommendations'</span>, <span style=\"color: #808000; text-decoration-color: #808000\">page</span>=<span style=\"color: #008080; text-decoration-color: #008080; font-weight: bold\">27</span>, <span style=\"color: #808000; text-decoration-color: #808000\">position</span>=<span style=\"color: #008080; text-decoration-color: #008080; font-weight: bold\">1</span>, <span style=\"color: #808000; text-decoration-color: #808000\">new</span>=<span style=\"color: #008000; text-decoration-color: #008000\">'# 5. Conclusions and Recommendations'</span>, <span style=\"color: #808000; text-decoration-color: #808000\">changed</span>=<span style=\"color: #ff0000; text-decoration-color: #ff0000; font-style: italic\">False</span><span style=\"font-weight: bold\">)</span>, \n",
       "<span style=\"color: #800080; text-decoration-color: #800080; font-weight: bold\">HeadingResult</span><span style=\"font-weight: bold\">(</span><span style=\"color: #808000; text-decoration-color: #808000\">old</span>=<span style=\"color: #008000; text-decoration-color: #008000\">'### 5.1. Conclusions'</span>, <span style=\"color: #808000; text-decoration-color: #808000\">page</span>=<span style=\"color: #008080; text-decoration-color: #008080; font-weight: bold\">27</span>, <span style=\"color: #808000; text-decoration-color: #808000\">position</span>=<span style=\"color: #008080; text-decoration-color: #008080; font-weight: bold\">2</span>, <span style=\"color: #808000; text-decoration-color: #808000\">new</span>=<span style=\"color: #008000; text-decoration-color: #008000\">'### 5.1. Conclusions'</span>, <span style=\"color: #808000; text-decoration-color: #808000\">changed</span>=<span style=\"color: #ff0000; text-decoration-color: #ff0000; font-style: italic\">False</span><span style=\"font-weight: bold\">)</span>, \n",
       "<span style=\"color: #800080; text-decoration-color: #800080; font-weight: bold\">HeadingResult</span><span style=\"font-weight: bold\">(</span><span style=\"color: #808000; text-decoration-color: #808000\">old</span>=<span style=\"color: #008000; text-decoration-color: #008000\">'# 5.2. Recommendations'</span>, <span style=\"color: #808000; text-decoration-color: #808000\">page</span>=<span style=\"color: #008080; text-decoration-color: #008080; font-weight: bold\">28</span>, <span style=\"color: #808000; text-decoration-color: #808000\">position</span>=<span style=\"color: #008080; text-decoration-color: #008080; font-weight: bold\">1</span>, <span style=\"color: #808000; text-decoration-color: #808000\">new</span>=<span style=\"color: #008000; text-decoration-color: #008000\">'### 5.2. Recommendations'</span>, <span style=\"color: #808000; text-decoration-color: #808000\">changed</span>=<span style=\"color: #ff0000; text-decoration-color: #ff0000; font-style: italic\">False</span><span style=\"font-weight: bold\">)</span>, \n",
       "<span style=\"color: #800080; text-decoration-color: #800080; font-weight: bold\">HeadingResult</span><span style=\"font-weight: bold\">(</span><span style=\"color: #808000; text-decoration-color: #808000\">old</span>=<span style=\"color: #008000; text-decoration-color: #008000\">'# 3. Increase attention on building partnerships with service providers who can function without</span>\n",
       "<span style=\"color: #008000; text-decoration-color: #008000\">(significant) funding channelled by IOM.'</span>, <span style=\"color: #808000; text-decoration-color: #808000\">page</span>=<span style=\"color: #008080; text-decoration-color: #008080; font-weight: bold\">29</span>, <span style=\"color: #808000; text-decoration-color: #808000\">position</span>=<span style=\"color: #008080; text-decoration-color: #008080; font-weight: bold\">1</span>, <span style=\"color: #808000; text-decoration-color: #808000\">new</span>=<span style=\"color: #008000; text-decoration-color: #008000\">'#### 5.2.1. Increase attention on building </span>\n",
       "<span style=\"color: #008000; text-decoration-color: #008000\">partnerships with service providers who can function without (significant) funding channelled by IOM.'</span>, \n",
       "<span style=\"color: #808000; text-decoration-color: #808000\">changed</span>=<span style=\"color: #00ff00; text-decoration-color: #00ff00; font-style: italic\">True</span><span style=\"font-weight: bold\">)</span>, <span style=\"color: #800080; text-decoration-color: #800080; font-weight: bold\">HeadingResult</span><span style=\"font-weight: bold\">(</span><span style=\"color: #808000; text-decoration-color: #808000\">old</span>=<span style=\"color: #008000; text-decoration-color: #008000\">'# 5. Explore opportunities to extend the scope of support provided to returnees, </span>\n",
       "<span style=\"color: #008000; text-decoration-color: #008000\">with a focus on longer-term integration.'</span>, <span style=\"color: #808000; text-decoration-color: #808000\">page</span>=<span style=\"color: #008080; text-decoration-color: #008080; font-weight: bold\">30</span>, <span style=\"color: #808000; text-decoration-color: #808000\">position</span>=<span style=\"color: #008080; text-decoration-color: #008080; font-weight: bold\">1</span>, <span style=\"color: #808000; text-decoration-color: #808000\">new</span>=<span style=\"color: #008000; text-decoration-color: #008000\">'#### 5.2.2. Explore opportunities to extend </span>\n",
       "<span style=\"color: #008000; text-decoration-color: #008000\">the scope of support provided to returnees, with a focus on longer-term integration.'</span>, <span style=\"color: #808000; text-decoration-color: #808000\">changed</span>=<span style=\"color: #00ff00; text-decoration-color: #00ff00; font-style: italic\">True</span><span style=\"font-weight: bold\">)]</span>\n",
       "<span style=\"font-weight: bold\">)</span>\n",
       "</pre>\n"
      ],
      "text/plain": [
       "Result: \u001b[1;35mPrediction\u001b[0m\u001b[1m(\u001b[0m\n",
       "    \u001b[33mreasoning\u001b[0m=\u001b[32m'The document uses a mixed numbering scheme.  The main sections are numbered 1, 2, 3, 4, 5.  \u001b[0m\n",
       "\u001b[32mSubsections are numbered with decimal points \u001b[0m\u001b[32m(\u001b[0m\u001b[32me.g., 4.1, 4.1.1\u001b[0m\u001b[32m)\u001b[0m\u001b[32m.  However, there are inconsistencies. Some \u001b[0m\n",
       "\u001b[32msubsections are incorrectly formatted as top-level headings \u001b[0m\u001b[32m(\u001b[0m\u001b[32me.g., \"2.2\"\u001b[0m\u001b[32m)\u001b[0m\u001b[32m.  Some unnumbered headings are present \u001b[0m\n",
       "\u001b[32mwithin numbered sections, which should be treated as subsections.  The algorithm will correct the heading levels \u001b[0m\n",
       "\u001b[32mbased on the numbering scheme and context, ensuring a consistent hierarchy.  Unnumbered headings within numbered \u001b[0m\n",
       "\u001b[32msections will be treated as subsections of the nearest numbered heading. Unnumbered headings at the beginning or \u001b[0m\n",
       "\u001b[32mend of the document will remain as top-level headings.  Headings that appear to be text within a section \u001b[0m\u001b[32m(\u001b[0m\u001b[32mlike the \u001b[0m\n",
       "\u001b[32moverall performance scores\u001b[0m\u001b[32m)\u001b[0m\u001b[32m will be left as is.'\u001b[0m,\n",
       "    \u001b[33mresults\u001b[0m=\u001b[1m[\u001b[0m\u001b[1;35mHeadingResult\u001b[0m\u001b[1m(\u001b[0m\u001b[33mold\u001b[0m=\u001b[32m'# **PPMi**'\u001b[0m, \u001b[33mpage\u001b[0m=\u001b[1;36m1\u001b[0m, \u001b[33mposition\u001b[0m=\u001b[1;36m1\u001b[0m, \u001b[33mnew\u001b[0m=\u001b[32m'# PPMi'\u001b[0m, \u001b[33mchanged\u001b[0m=\u001b[3;92mTrue\u001b[0m\u001b[1m)\u001b[0m, \u001b[1;35mHeadingResult\u001b[0m\u001b[1m(\u001b[0m\u001b[33mold\u001b[0m=\u001b[32m'# \u001b[0m\n",
       "\u001b[32mCONTENTS'\u001b[0m, \u001b[33mpage\u001b[0m=\u001b[1;36m3\u001b[0m, \u001b[33mposition\u001b[0m=\u001b[1;36m1\u001b[0m, \u001b[33mnew\u001b[0m=\u001b[32m'# CONTENTS'\u001b[0m, \u001b[33mchanged\u001b[0m=\u001b[3;92mTrue\u001b[0m\u001b[1m)\u001b[0m, \u001b[1;35mHeadingResult\u001b[0m\u001b[1m(\u001b[0m\u001b[33mold\u001b[0m=\u001b[32m'# 1. Introduction'\u001b[0m, \u001b[33mpage\u001b[0m=\u001b[1;36m4\u001b[0m, \n",
       "\u001b[33mposition\u001b[0m=\u001b[1;36m1\u001b[0m, \u001b[33mnew\u001b[0m=\u001b[32m'# 1. Introduction'\u001b[0m, \u001b[33mchanged\u001b[0m=\u001b[3;91mFalse\u001b[0m\u001b[1m)\u001b[0m, \u001b[1;35mHeadingResult\u001b[0m\u001b[1m(\u001b[0m\u001b[33mold\u001b[0m=\u001b[32m'# 2. Background of the JI-HoA'\u001b[0m, \u001b[33mpage\u001b[0m=\u001b[1;36m5\u001b[0m, \n",
       "\u001b[33mposition\u001b[0m=\u001b[1;36m1\u001b[0m, \u001b[33mnew\u001b[0m=\u001b[32m'# 2. Background of the JI-HoA'\u001b[0m, \u001b[33mchanged\u001b[0m=\u001b[3;91mFalse\u001b[0m\u001b[1m)\u001b[0m, \u001b[1;35mHeadingResult\u001b[0m\u001b[1m(\u001b[0m\u001b[33mold\u001b[0m=\u001b[32m'### 2.1. Context and design of \u001b[0m\n",
       "\u001b[32mthe JI-HoA'\u001b[0m, \u001b[33mpage\u001b[0m=\u001b[1;36m5\u001b[0m, \u001b[33mposition\u001b[0m=\u001b[1;36m2\u001b[0m, \u001b[33mnew\u001b[0m=\u001b[32m'### 2.1. Context and design of the JI-HoA'\u001b[0m, \u001b[33mchanged\u001b[0m=\u001b[3;91mFalse\u001b[0m\u001b[1m)\u001b[0m, \n",
       "\u001b[1;35mHeadingResult\u001b[0m\u001b[1m(\u001b[0m\u001b[33mold\u001b[0m=\u001b[32m'# 2.2. External factors affecting the implementation of the JI'\u001b[0m, \u001b[33mpage\u001b[0m=\u001b[1;36m7\u001b[0m, \u001b[33mposition\u001b[0m=\u001b[1;36m1\u001b[0m, \u001b[33mnew\u001b[0m=\u001b[32m'### \u001b[0m\n",
       "\u001b[32m2.2. External factors affecting the implementation of the JI'\u001b[0m, \u001b[33mchanged\u001b[0m=\u001b[3;92mTrue\u001b[0m\u001b[1m)\u001b[0m, \u001b[1;35mHeadingResult\u001b[0m\u001b[1m(\u001b[0m\u001b[33mold\u001b[0m=\u001b[32m'# 3. Methodology'\u001b[0m,\n",
       "\u001b[33mpage\u001b[0m=\u001b[1;36m8\u001b[0m, \u001b[33mposition\u001b[0m=\u001b[1;36m1\u001b[0m, \u001b[33mnew\u001b[0m=\u001b[32m'# 3. Methodology'\u001b[0m, \u001b[33mchanged\u001b[0m=\u001b[3;91mFalse\u001b[0m\u001b[1m)\u001b[0m, \u001b[1;35mHeadingResult\u001b[0m\u001b[1m(\u001b[0m\u001b[33mold\u001b[0m=\u001b[32m'# 4. Findings'\u001b[0m, \u001b[33mpage\u001b[0m=\u001b[1;36m10\u001b[0m, \u001b[33mposition\u001b[0m=\u001b[1;36m1\u001b[0m,\n",
       "\u001b[33mnew\u001b[0m=\u001b[32m'# 4. Findings'\u001b[0m, \u001b[33mchanged\u001b[0m=\u001b[3;91mFalse\u001b[0m\u001b[1m)\u001b[0m, \u001b[1;35mHeadingResult\u001b[0m\u001b[1m(\u001b[0m\u001b[33mold\u001b[0m=\u001b[32m'### 4.1. Relevance'\u001b[0m, \u001b[33mpage\u001b[0m=\u001b[1;36m10\u001b[0m, \u001b[33mposition\u001b[0m=\u001b[1;36m2\u001b[0m, \u001b[33mnew\u001b[0m=\u001b[32m'### 4.1. \u001b[0m\n",
       "\u001b[32mRelevance'\u001b[0m, \u001b[33mchanged\u001b[0m=\u001b[3;91mFalse\u001b[0m\u001b[1m)\u001b[0m, \u001b[1;35mHeadingResult\u001b[0m\u001b[1m(\u001b[0m\u001b[33mold\u001b[0m=\u001b[32m'### 4.1.1. Relevance of programme activities for migrants, \u001b[0m\n",
       "\u001b[32mreturnees, and communities'\u001b[0m, \u001b[33mpage\u001b[0m=\u001b[1;36m10\u001b[0m, \u001b[33mposition\u001b[0m=\u001b[1;36m3\u001b[0m, \u001b[33mnew\u001b[0m=\u001b[32m'#### 4.1.1. Relevance of programme activities for migrants, \u001b[0m\n",
       "\u001b[32mreturnees, and communities'\u001b[0m, \u001b[33mchanged\u001b[0m=\u001b[3;91mFalse\u001b[0m\u001b[1m)\u001b[0m, \u001b[1;35mHeadingResult\u001b[0m\u001b[1m(\u001b[0m\u001b[33mold\u001b[0m=\u001b[32m'### 4.1.1.1 Needs of migrants'\u001b[0m, \u001b[33mpage\u001b[0m=\u001b[1;36m10\u001b[0m, \n",
       "\u001b[33mposition\u001b[0m=\u001b[1;36m5\u001b[0m, \u001b[33mnew\u001b[0m=\u001b[32m'##### 4.1.1.1 Needs of migrants'\u001b[0m, \u001b[33mchanged\u001b[0m=\u001b[3;92mTrue\u001b[0m\u001b[1m)\u001b[0m, \u001b[1;35mHeadingResult\u001b[0m\u001b[1m(\u001b[0m\u001b[33mold\u001b[0m=\u001b[32m'### 4.1.1.2 Needs of \u001b[0m\n",
       "\u001b[32mreturnees'\u001b[0m, \u001b[33mpage\u001b[0m=\u001b[1;36m10\u001b[0m, \u001b[33mposition\u001b[0m=\u001b[1;36m6\u001b[0m, \u001b[33mnew\u001b[0m=\u001b[32m'##### 4.1.1.2 Needs of returnees'\u001b[0m, \u001b[33mchanged\u001b[0m=\u001b[3;92mTrue\u001b[0m\u001b[1m)\u001b[0m, \u001b[1;35mHeadingResult\u001b[0m\u001b[1m(\u001b[0m\u001b[33mold\u001b[0m=\u001b[32m'# \u001b[0m\n",
       "\u001b[32m4.1.1.3 Needs of community members'\u001b[0m, \u001b[33mpage\u001b[0m=\u001b[1;36m12\u001b[0m, \u001b[33mposition\u001b[0m=\u001b[1;36m1\u001b[0m, \u001b[33mnew\u001b[0m=\u001b[32m'##### 4.1.1.3 Needs of community members'\u001b[0m, \n",
       "\u001b[33mchanged\u001b[0m=\u001b[3;92mTrue\u001b[0m\u001b[1m)\u001b[0m, \u001b[1;35mHeadingResult\u001b[0m\u001b[1m(\u001b[0m\u001b[33mold\u001b[0m=\u001b[32m\"### 4.1.2. Programme's relevance to the needs of stakeholders\"\u001b[0m, \u001b[33mpage\u001b[0m=\u001b[1;36m12\u001b[0m, \n",
       "\u001b[33mposition\u001b[0m=\u001b[1;36m2\u001b[0m, \u001b[33mnew\u001b[0m=\u001b[32m\"### 4.1.2. Programme's relevance to the needs of stakeholders\"\u001b[0m, \u001b[33mchanged\u001b[0m=\u001b[3;91mFalse\u001b[0m\u001b[1m)\u001b[0m, \n",
       "\u001b[1;35mHeadingResult\u001b[0m\u001b[1m(\u001b[0m\u001b[33mold\u001b[0m=\u001b[32m'### 4.1.2.1 Needs of governments'\u001b[0m, \u001b[33mpage\u001b[0m=\u001b[1;36m12\u001b[0m, \u001b[33mposition\u001b[0m=\u001b[1;36m3\u001b[0m, \u001b[33mnew\u001b[0m=\u001b[32m'#### 4.1.2.1 Needs of governments'\u001b[0m,\n",
       "\u001b[33mchanged\u001b[0m=\u001b[3;92mTrue\u001b[0m\u001b[1m)\u001b[0m, \u001b[1;35mHeadingResult\u001b[0m\u001b[1m(\u001b[0m\u001b[33mold\u001b[0m=\u001b[32m'# 4.1.2.2 Needs of other stakeholders'\u001b[0m, \u001b[33mpage\u001b[0m=\u001b[1;36m13\u001b[0m, \u001b[33mposition\u001b[0m=\u001b[1;36m1\u001b[0m, \u001b[33mnew\u001b[0m=\u001b[32m'#### 4.1.2.2 \u001b[0m\n",
       "\u001b[32mNeeds of other stakeholders'\u001b[0m, \u001b[33mchanged\u001b[0m=\u001b[3;92mTrue\u001b[0m\u001b[1m)\u001b[0m, \u001b[1;35mHeadingResult\u001b[0m\u001b[1m(\u001b[0m\u001b[33mold\u001b[0m=\u001b[32m'### 4.2. Coherence'\u001b[0m, \u001b[33mpage\u001b[0m=\u001b[1;36m13\u001b[0m, \u001b[33mposition\u001b[0m=\u001b[1;36m2\u001b[0m, \u001b[33mnew\u001b[0m=\u001b[32m'### \u001b[0m\n",
       "\u001b[32m4.2. Coherence'\u001b[0m, \u001b[33mchanged\u001b[0m=\u001b[3;91mFalse\u001b[0m\u001b[1m)\u001b[0m, \u001b[1;35mHeadingResult\u001b[0m\u001b[1m(\u001b[0m\u001b[33mold\u001b[0m=\u001b[32m\"# 4.2.1. The JI-HoA's alignment with the objectives and \u001b[0m\n",
       "\u001b[32mstandards of IOM, and objectives of the EU\"\u001b[0m, \u001b[33mpage\u001b[0m=\u001b[1;36m14\u001b[0m, \u001b[33mposition\u001b[0m=\u001b[1;36m1\u001b[0m, \u001b[33mnew\u001b[0m=\u001b[32m\"#### 4.2.1. The JI-HoA's alignment with the \u001b[0m\n",
       "\u001b[32mobjectives and standards of IOM, and objectives of the EU\"\u001b[0m, \u001b[33mchanged\u001b[0m=\u001b[3;91mFalse\u001b[0m\u001b[1m)\u001b[0m, \u001b[1;35mHeadingResult\u001b[0m\u001b[1m(\u001b[0m\u001b[33mold\u001b[0m=\u001b[32m'### 4.2.2. Alignment\u001b[0m\n",
       "\u001b[32mwith other initiatives'\u001b[0m, \u001b[33mpage\u001b[0m=\u001b[1;36m14\u001b[0m, \u001b[33mposition\u001b[0m=\u001b[1;36m2\u001b[0m, \u001b[33mnew\u001b[0m=\u001b[32m'#### 4.2.2. Alignment with other initiatives'\u001b[0m, \u001b[33mchanged\u001b[0m=\u001b[3;91mFalse\u001b[0m\u001b[1m)\u001b[0m, \n",
       "\u001b[1;35mHeadingResult\u001b[0m\u001b[1m(\u001b[0m\u001b[33mold\u001b[0m=\u001b[32m'# 4.3. Effectiveness'\u001b[0m, \u001b[33mpage\u001b[0m=\u001b[1;36m16\u001b[0m, \u001b[33mposition\u001b[0m=\u001b[1;36m1\u001b[0m, \u001b[33mnew\u001b[0m=\u001b[32m'# 4.3. Effectiveness'\u001b[0m, \u001b[33mchanged\u001b[0m=\u001b[3;91mFalse\u001b[0m\u001b[1m)\u001b[0m, \n",
       "\u001b[1;35mHeadingResult\u001b[0m\u001b[1m(\u001b[0m\u001b[33mold\u001b[0m=\u001b[32m'### 4.3.1. Specific Objective 1: Partner countries and relevant stakeholders developed or \u001b[0m\n",
       "\u001b[32mstrengthened evidence-based return and reintegration procedures'\u001b[0m, \u001b[33mpage\u001b[0m=\u001b[1;36m16\u001b[0m, \u001b[33mposition\u001b[0m=\u001b[1;36m2\u001b[0m, \u001b[33mnew\u001b[0m=\u001b[32m'### 4.3.1. Specific \u001b[0m\n",
       "\u001b[32mObjective 1: Partner countries and relevant stakeholders developed or strengthened evidence-based return and \u001b[0m\n",
       "\u001b[32mreintegration procedures'\u001b[0m, \u001b[33mchanged\u001b[0m=\u001b[3;91mFalse\u001b[0m\u001b[1m)\u001b[0m, \u001b[1;35mHeadingResult\u001b[0m\u001b[1m(\u001b[0m\u001b[33mold\u001b[0m=\u001b[32m'### 4.3.1.1 Achievement of outputs and results'\u001b[0m, \n",
       "\u001b[33mpage\u001b[0m=\u001b[1;36m16\u001b[0m, \u001b[33mposition\u001b[0m=\u001b[1;36m3\u001b[0m, \u001b[33mnew\u001b[0m=\u001b[32m'#### 4.3.1.1 Achievement of outputs and results'\u001b[0m, \u001b[33mchanged\u001b[0m=\u001b[3;91mFalse\u001b[0m\u001b[1m)\u001b[0m, \u001b[1;35mHeadingResult\u001b[0m\u001b[1m(\u001b[0m\u001b[33mold\u001b[0m=\u001b[32m'## \u001b[0m\n",
       "\u001b[32mData availability'\u001b[0m, \u001b[33mpage\u001b[0m=\u001b[1;36m16\u001b[0m, \u001b[33mposition\u001b[0m=\u001b[1;36m4\u001b[0m, \u001b[33mnew\u001b[0m=\u001b[32m'## Data availability'\u001b[0m, \u001b[33mchanged\u001b[0m=\u001b[3;92mTrue\u001b[0m\u001b[1m)\u001b[0m, \u001b[1;35mHeadingResult\u001b[0m\u001b[1m(\u001b[0m\u001b[33mold\u001b[0m=\u001b[32m'# Capacity \u001b[0m\n",
       "\u001b[32mof stakeholders'\u001b[0m, \u001b[33mpage\u001b[0m=\u001b[1;36m17\u001b[0m, \u001b[33mposition\u001b[0m=\u001b[1;36m1\u001b[0m, \u001b[33mnew\u001b[0m=\u001b[32m'### 4.3.1.2 Achievement of Specific Objective 1'\u001b[0m, \u001b[33mchanged\u001b[0m=\u001b[3;92mTrue\u001b[0m\u001b[1m)\u001b[0m, \n",
       "\u001b[1;35mHeadingResult\u001b[0m\u001b[1m(\u001b[0m\u001b[33mold\u001b[0m=\u001b[32m'### 4.3.1.2 Achievement of Specific Objective 1'\u001b[0m, \u001b[33mpage\u001b[0m=\u001b[1;36m17\u001b[0m, \u001b[33mposition\u001b[0m=\u001b[1;36m2\u001b[0m, \u001b[33mnew\u001b[0m=\u001b[32m'#### 4.3.1.2 \u001b[0m\n",
       "\u001b[32mAchievement of Specific Objective 1'\u001b[0m, \u001b[33mchanged\u001b[0m=\u001b[3;91mFalse\u001b[0m\u001b[1m)\u001b[0m, \u001b[1;35mHeadingResult\u001b[0m\u001b[1m(\u001b[0m\u001b[33mold\u001b[0m=\u001b[32m'# 4.3.2. Specific Objective 2: Safe, \u001b[0m\n",
       "\u001b[32mhumane, dignified voluntary return processes are enhanced along main migration routes'\u001b[0m, \u001b[33mpage\u001b[0m=\u001b[1;36m18\u001b[0m, \u001b[33mposition\u001b[0m=\u001b[1;36m1\u001b[0m, \u001b[33mnew\u001b[0m=\u001b[32m'#\u001b[0m\n",
       "\u001b[32m4.3.2. Specific Objective 2: Safe, humane, dignified voluntary return processes are enhanced along main migration \u001b[0m\n",
       "\u001b[32mroutes'\u001b[0m, \u001b[33mchanged\u001b[0m=\u001b[3;91mFalse\u001b[0m\u001b[1m)\u001b[0m, \u001b[1;35mHeadingResult\u001b[0m\u001b[1m(\u001b[0m\u001b[33mold\u001b[0m=\u001b[32m'# 4.3.2.1 Achievement of outputs and results'\u001b[0m, \u001b[33mpage\u001b[0m=\u001b[1;36m19\u001b[0m, \u001b[33mposition\u001b[0m=\u001b[1;36m1\u001b[0m, \n",
       "\u001b[33mnew\u001b[0m=\u001b[32m'### 4.3.2.1 Achievement of outputs and results'\u001b[0m, \u001b[33mchanged\u001b[0m=\u001b[3;91mFalse\u001b[0m\u001b[1m)\u001b[0m, \u001b[1;35mHeadingResult\u001b[0m\u001b[1m(\u001b[0m\u001b[33mold\u001b[0m=\u001b[32m'## Outreach and \u001b[0m\n",
       "\u001b[32mawareness'\u001b[0m, \u001b[33mpage\u001b[0m=\u001b[1;36m19\u001b[0m, \u001b[33mposition\u001b[0m=\u001b[1;36m2\u001b[0m, \u001b[33mnew\u001b[0m=\u001b[32m'## Outreach and awareness'\u001b[0m, \u001b[33mchanged\u001b[0m=\u001b[3;92mTrue\u001b[0m\u001b[1m)\u001b[0m, \u001b[1;35mHeadingResult\u001b[0m\u001b[1m(\u001b[0m\u001b[33mold\u001b[0m=\u001b[32m'## Assistance \u001b[0m\n",
       "\u001b[32mto stranded migrants'\u001b[0m, \u001b[33mpage\u001b[0m=\u001b[1;36m19\u001b[0m, \u001b[33mposition\u001b[0m=\u001b[1;36m3\u001b[0m, \u001b[33mnew\u001b[0m=\u001b[32m'## Assistance to stranded migrants'\u001b[0m, \u001b[33mchanged\u001b[0m=\u001b[3;92mTrue\u001b[0m\u001b[1m)\u001b[0m, \n",
       "\u001b[1;35mHeadingResult\u001b[0m\u001b[1m(\u001b[0m\u001b[33mold\u001b[0m=\u001b[32m'# 4.3.2.2 Achievement of the Objective'\u001b[0m, \u001b[33mpage\u001b[0m=\u001b[1;36m20\u001b[0m, \u001b[33mposition\u001b[0m=\u001b[1;36m1\u001b[0m, \u001b[33mnew\u001b[0m=\u001b[32m'### 4.3.2.2 Achievement of \u001b[0m\n",
       "\u001b[32mthe Objective'\u001b[0m, \u001b[33mchanged\u001b[0m=\u001b[3;91mFalse\u001b[0m\u001b[1m)\u001b[0m, \u001b[1;35mHeadingResult\u001b[0m\u001b[1m(\u001b[0m\u001b[33mold\u001b[0m=\u001b[32m'### 4.3.3. Specific Objective 3: Returnees are sustainably \u001b[0m\n",
       "\u001b[32mintegrated in host communities, and host communities are better able to create living standards that address \u001b[0m\n",
       "\u001b[32mdrivers of migration.'\u001b[0m, \u001b[33mpage\u001b[0m=\u001b[1;36m20\u001b[0m, \u001b[33mposition\u001b[0m=\u001b[1;36m2\u001b[0m, \u001b[33mnew\u001b[0m=\u001b[32m'### 4.3.3. Specific Objective 3: Returnees are sustainably \u001b[0m\n",
       "\u001b[32mintegrated in host communities, and host communities are better able to create living standards that address \u001b[0m\n",
       "\u001b[32mdrivers of migration.'\u001b[0m, \u001b[33mchanged\u001b[0m=\u001b[3;91mFalse\u001b[0m\u001b[1m)\u001b[0m, \u001b[1;35mHeadingResult\u001b[0m\u001b[1m(\u001b[0m\u001b[33mold\u001b[0m=\u001b[32m'### 4.3.3.1 Achievement of outputs and results'\u001b[0m, \n",
       "\u001b[33mpage\u001b[0m=\u001b[1;36m20\u001b[0m, \u001b[33mposition\u001b[0m=\u001b[1;36m3\u001b[0m, \u001b[33mnew\u001b[0m=\u001b[32m'#### 4.3.3.1 Achievement of outputs and results'\u001b[0m, \u001b[33mchanged\u001b[0m=\u001b[3;91mFalse\u001b[0m\u001b[1m)\u001b[0m, \u001b[1;35mHeadingResult\u001b[0m\u001b[1m(\u001b[0m\u001b[33mold\u001b[0m=\u001b[32m'## \u001b[0m\n",
       "\u001b[32mIndividual and community-based reintegration'\u001b[0m, \u001b[33mpage\u001b[0m=\u001b[1;36m20\u001b[0m, \u001b[33mposition\u001b[0m=\u001b[1;36m4\u001b[0m, \u001b[33mnew\u001b[0m=\u001b[32m'## Individual and community-based \u001b[0m\n",
       "\u001b[32mreintegration'\u001b[0m, \u001b[33mchanged\u001b[0m=\u001b[3;92mTrue\u001b[0m\u001b[1m)\u001b[0m, \u001b[1;35mHeadingResult\u001b[0m\u001b[1m(\u001b[0m\u001b[33mold\u001b[0m=\u001b[32m'# M\\\\&E systems'\u001b[0m, \u001b[33mpage\u001b[0m=\u001b[1;36m21\u001b[0m, \u001b[33mposition\u001b[0m=\u001b[1;36m1\u001b[0m, \u001b[33mnew\u001b[0m=\u001b[32m'### 4.3.3.2 \u001b[0m\n",
       "\u001b[32mAchievement of Specific Objective 3'\u001b[0m, \u001b[33mchanged\u001b[0m=\u001b[3;92mTrue\u001b[0m\u001b[1m)\u001b[0m, \u001b[1;35mHeadingResult\u001b[0m\u001b[1m(\u001b[0m\u001b[33mold\u001b[0m=\u001b[32m'## Overall achievement of reintegration'\u001b[0m, \n",
       "\u001b[33mpage\u001b[0m=\u001b[1;36m22\u001b[0m, \u001b[33mposition\u001b[0m=\u001b[1;36m2\u001b[0m, \u001b[33mnew\u001b[0m=\u001b[32m'## Overall achievement of reintegration'\u001b[0m, \u001b[33mchanged\u001b[0m=\u001b[3;92mTrue\u001b[0m\u001b[1m)\u001b[0m, \u001b[1;35mHeadingResult\u001b[0m\u001b[1m(\u001b[0m\u001b[33mold\u001b[0m=\u001b[32m'# \u001b[0m\n",
       "\u001b[32mSustainability of reintegration'\u001b[0m, \u001b[33mpage\u001b[0m=\u001b[1;36m23\u001b[0m, \u001b[33mposition\u001b[0m=\u001b[1;36m1\u001b[0m, \u001b[33mnew\u001b[0m=\u001b[32m'### 4.3.4. Functioning of the Integrated Approach'\u001b[0m, \n",
       "\u001b[33mchanged\u001b[0m=\u001b[3;92mTrue\u001b[0m\u001b[1m)\u001b[0m, \u001b[1;35mHeadingResult\u001b[0m\u001b[1m(\u001b[0m\u001b[33mold\u001b[0m=\u001b[32m'### 4.3.4. Functioning of the Integrated Approach'\u001b[0m, \u001b[33mpage\u001b[0m=\u001b[1;36m23\u001b[0m, \u001b[33mposition\u001b[0m=\u001b[1;36m2\u001b[0m, \n",
       "\u001b[33mnew\u001b[0m=\u001b[32m'#### 4.3.4. Functioning of the Integrated Approach'\u001b[0m, \u001b[33mchanged\u001b[0m=\u001b[3;91mFalse\u001b[0m\u001b[1m)\u001b[0m, \u001b[1;35mHeadingResult\u001b[0m\u001b[1m(\u001b[0m\u001b[33mold\u001b[0m=\u001b[32m'# 4.4. Efficiency'\u001b[0m, \n",
       "\u001b[33mpage\u001b[0m=\u001b[1;36m24\u001b[0m, \u001b[33mposition\u001b[0m=\u001b[1;36m1\u001b[0m, \u001b[33mnew\u001b[0m=\u001b[32m'# 4.4. Efficiency'\u001b[0m, \u001b[33mchanged\u001b[0m=\u001b[3;91mFalse\u001b[0m\u001b[1m)\u001b[0m, \u001b[1;35mHeadingResult\u001b[0m\u001b[1m(\u001b[0m\u001b[33mold\u001b[0m=\u001b[32m'### 4.4.3. Did the programme \u001b[0m\n",
       "\u001b[32mreceive sufficient resources to achieve its objectives?'\u001b[0m, \u001b[33mpage\u001b[0m=\u001b[1;36m24\u001b[0m, \u001b[33mposition\u001b[0m=\u001b[1;36m2\u001b[0m, \u001b[33mnew\u001b[0m=\u001b[32m'### 4.4.3. Did the programme \u001b[0m\n",
       "\u001b[32mreceive sufficient resources to achieve its objectives?'\u001b[0m, \u001b[33mchanged\u001b[0m=\u001b[3;91mFalse\u001b[0m\u001b[1m)\u001b[0m, \u001b[1;35mHeadingResult\u001b[0m\u001b[1m(\u001b[0m\u001b[33mold\u001b[0m=\u001b[32m'# 4.4.2. \u001b[0m\n",
       "\u001b[32mCost-effectiveness and efficiency of the programme'\u001b[0m, \u001b[33mpage\u001b[0m=\u001b[1;36m25\u001b[0m, \u001b[33mposition\u001b[0m=\u001b[1;36m1\u001b[0m, \u001b[33mnew\u001b[0m=\u001b[32m'### 4.4.2. Cost-effectiveness and \u001b[0m\n",
       "\u001b[32mefficiency of the programme'\u001b[0m, \u001b[33mchanged\u001b[0m=\u001b[3;92mTrue\u001b[0m\u001b[1m)\u001b[0m, \u001b[1;35mHeadingResult\u001b[0m\u001b[1m(\u001b[0m\u001b[33mold\u001b[0m=\u001b[32m'# 4.5. Sustainability'\u001b[0m, \u001b[33mpage\u001b[0m=\u001b[1;36m26\u001b[0m, \u001b[33mposition\u001b[0m=\u001b[1;36m1\u001b[0m, \u001b[33mnew\u001b[0m=\u001b[32m'#\u001b[0m\n",
       "\u001b[32m4.5. Sustainability'\u001b[0m, \u001b[33mchanged\u001b[0m=\u001b[3;91mFalse\u001b[0m\u001b[1m)\u001b[0m, \u001b[1;35mHeadingResult\u001b[0m\u001b[1m(\u001b[0m\u001b[33mold\u001b[0m=\u001b[32m'## Overall performance score for sustainability: $2.5 / 5$\u001b[0m\n",
       "\u001b[32m<\u001b[0m\u001b[32mbr\u001b[0m\u001b[32m> Robustness score for the evidence: $4 / 5$'\u001b[0m\u001b[39m, \u001b[0m\u001b[33mpage\u001b[0m\u001b[39m=\u001b[0m\u001b[1;36m26\u001b[0m\u001b[39m, \u001b[0m\u001b[33mposition\u001b[0m\u001b[39m=\u001b[0m\u001b[1;36m2\u001b[0m\u001b[39m, \u001b[0m\u001b[33mnew\u001b[0m\u001b[39m=\u001b[0m\u001b[32m'## Overall performance score for \u001b[0m\n",
       "\u001b[32msustainability: $2.5 / 5$ <br\u001b[0m\u001b[32m>\u001b[0m\u001b[32m Robustness score for the evidence: $4 / 5$'\u001b[0m, \u001b[33mchanged\u001b[0m=\u001b[3;92mTrue\u001b[0m\u001b[1m)\u001b[0m, \u001b[1;35mHeadingResult\u001b[0m\u001b[1m(\u001b[0m\u001b[33mold\u001b[0m=\u001b[32m'# 5. \u001b[0m\n",
       "\u001b[32mConclusions and Recommendations'\u001b[0m, \u001b[33mpage\u001b[0m=\u001b[1;36m27\u001b[0m, \u001b[33mposition\u001b[0m=\u001b[1;36m1\u001b[0m, \u001b[33mnew\u001b[0m=\u001b[32m'# 5. Conclusions and Recommendations'\u001b[0m, \u001b[33mchanged\u001b[0m=\u001b[3;91mFalse\u001b[0m\u001b[1m)\u001b[0m, \n",
       "\u001b[1;35mHeadingResult\u001b[0m\u001b[1m(\u001b[0m\u001b[33mold\u001b[0m=\u001b[32m'### 5.1. Conclusions'\u001b[0m, \u001b[33mpage\u001b[0m=\u001b[1;36m27\u001b[0m, \u001b[33mposition\u001b[0m=\u001b[1;36m2\u001b[0m, \u001b[33mnew\u001b[0m=\u001b[32m'### 5.1. Conclusions'\u001b[0m, \u001b[33mchanged\u001b[0m=\u001b[3;91mFalse\u001b[0m\u001b[1m)\u001b[0m, \n",
       "\u001b[1;35mHeadingResult\u001b[0m\u001b[1m(\u001b[0m\u001b[33mold\u001b[0m=\u001b[32m'# 5.2. Recommendations'\u001b[0m, \u001b[33mpage\u001b[0m=\u001b[1;36m28\u001b[0m, \u001b[33mposition\u001b[0m=\u001b[1;36m1\u001b[0m, \u001b[33mnew\u001b[0m=\u001b[32m'### 5.2. Recommendations'\u001b[0m, \u001b[33mchanged\u001b[0m=\u001b[3;91mFalse\u001b[0m\u001b[1m)\u001b[0m, \n",
       "\u001b[1;35mHeadingResult\u001b[0m\u001b[1m(\u001b[0m\u001b[33mold\u001b[0m=\u001b[32m'# 3. Increase attention on building partnerships with service providers who can function without\u001b[0m\n",
       "\u001b[32m(\u001b[0m\u001b[32msignificant\u001b[0m\u001b[32m)\u001b[0m\u001b[32m funding channelled by IOM.'\u001b[0m, \u001b[33mpage\u001b[0m=\u001b[1;36m29\u001b[0m, \u001b[33mposition\u001b[0m=\u001b[1;36m1\u001b[0m, \u001b[33mnew\u001b[0m=\u001b[32m'#### 5.2.1. Increase attention on building \u001b[0m\n",
       "\u001b[32mpartnerships with service providers who can function without \u001b[0m\u001b[32m(\u001b[0m\u001b[32msignificant\u001b[0m\u001b[32m)\u001b[0m\u001b[32m funding channelled by IOM.'\u001b[0m, \n",
       "\u001b[33mchanged\u001b[0m=\u001b[3;92mTrue\u001b[0m\u001b[1m)\u001b[0m, \u001b[1;35mHeadingResult\u001b[0m\u001b[1m(\u001b[0m\u001b[33mold\u001b[0m=\u001b[32m'# 5. Explore opportunities to extend the scope of support provided to returnees, \u001b[0m\n",
       "\u001b[32mwith a focus on longer-term integration.'\u001b[0m, \u001b[33mpage\u001b[0m=\u001b[1;36m30\u001b[0m, \u001b[33mposition\u001b[0m=\u001b[1;36m1\u001b[0m, \u001b[33mnew\u001b[0m=\u001b[32m'#### 5.2.2. Explore opportunities to extend \u001b[0m\n",
       "\u001b[32mthe scope of support provided to returnees, with a focus on longer-term integration.'\u001b[0m, \u001b[33mchanged\u001b[0m=\u001b[3;92mTrue\u001b[0m\u001b[1m)\u001b[0m\u001b[1m]\u001b[0m\n",
       "\u001b[1m)\u001b[0m\n"
      ]
     },
     "metadata": {},
     "output_type": "display_data"
    },
    {
     "data": {
      "text/html": [
       "<pre style=\"white-space:pre;overflow-x:auto;line-height:normal;font-family:Menlo,'DejaVu Sans Mono',consolas,'Courier New',monospace\">Usage:\n",
       "<span style=\"font-weight: bold\">{}</span>\n",
       "</pre>\n"
      ],
      "text/plain": [
       "Usage:\n",
       "\u001b[1m{\u001b[0m\u001b[1m}\u001b[0m\n"
      ]
     },
     "metadata": {},
     "output_type": "display_data"
    }
   ],
   "source": [
    "#| eval: false\n",
    "result = fix_md(hdgs, track_usage=True)\n",
    "print(\"Result:\", result)\n",
    "print(\"Usage:\", result.get_lm_usage())"
   ]
  },
  {
   "cell_type": "code",
   "execution_count": null,
   "metadata": {},
   "outputs": [],
   "source": [
    "#| exports\n",
    "def group_corrections_by_page(\n",
    "    results: list[HeadingResult], # List of headings with corrections and change status\n",
    "    ):\n",
    "    \"Group HeadingResult corrections by page number into dict with page nums as keys\"\n",
    "    page_groups = {}\n",
    "    for result in results:\n",
    "        page = result.page\n",
    "        if page not in page_groups:\n",
    "            page_groups[page] = []\n",
    "        page_groups[page].append(result)\n",
    "    return page_groups"
   ]
  },
  {
   "cell_type": "code",
   "execution_count": null,
   "metadata": {},
   "outputs": [
    {
     "data": {
      "text/plain": [
       "{1: [HeadingResult(old='# **PPMi**', page=1, position=1, new='# PPMi', changed=True)],\n",
       " 3: [HeadingResult(old='# CONTENTS', page=3, position=1, new='# CONTENTS', changed=True)],\n",
       " 4: [HeadingResult(old='# 1. Introduction', page=4, position=1, new='# 1. Introduction', changed=False)],\n",
       " 5: [HeadingResult(old='# 2. Background of the JI-HoA', page=5, position=1, new='# 2. Background of the JI-HoA', changed=False),\n",
       "  HeadingResult(old='### 2.1. Context and design of the JI-HoA', page=5, position=2, new='### 2.1. Context and design of the JI-HoA', changed=False)],\n",
       " 7: [HeadingResult(old='# 2.2. External factors affecting the implementation of the JI', page=7, position=1, new='### 2.2. External factors affecting the implementation of the JI', changed=True)],\n",
       " 8: [HeadingResult(old='# 3. Methodology', page=8, position=1, new='# 3. Methodology', changed=False)],\n",
       " 10: [HeadingResult(old='# 4. Findings', page=10, position=1, new='# 4. Findings', changed=False),\n",
       "  HeadingResult(old='### 4.1. Relevance', page=10, position=2, new='### 4.1. Relevance', changed=False),\n",
       "  HeadingResult(old='### 4.1.1. Relevance of programme activities for migrants, returnees, and communities', page=10, position=3, new='#### 4.1.1. Relevance of programme activities for migrants, returnees, and communities', changed=False),\n",
       "  HeadingResult(old='### 4.1.1.1 Needs of migrants', page=10, position=5, new='##### 4.1.1.1 Needs of migrants', changed=True),\n",
       "  HeadingResult(old='### 4.1.1.2 Needs of returnees', page=10, position=6, new='##### 4.1.1.2 Needs of returnees', changed=True)],\n",
       " 12: [HeadingResult(old='# 4.1.1.3 Needs of community members', page=12, position=1, new='##### 4.1.1.3 Needs of community members', changed=True),\n",
       "  HeadingResult(old=\"### 4.1.2. Programme's relevance to the needs of stakeholders\", page=12, position=2, new=\"### 4.1.2. Programme's relevance to the needs of stakeholders\", changed=False),\n",
       "  HeadingResult(old='### 4.1.2.1 Needs of governments', page=12, position=3, new='#### 4.1.2.1 Needs of governments', changed=True)],\n",
       " 13: [HeadingResult(old='# 4.1.2.2 Needs of other stakeholders', page=13, position=1, new='#### 4.1.2.2 Needs of other stakeholders', changed=True),\n",
       "  HeadingResult(old='### 4.2. Coherence', page=13, position=2, new='### 4.2. Coherence', changed=False)],\n",
       " 14: [HeadingResult(old=\"# 4.2.1. The JI-HoA's alignment with the objectives and standards of IOM, and objectives of the EU\", page=14, position=1, new=\"#### 4.2.1. The JI-HoA's alignment with the objectives and standards of IOM, and objectives of the EU\", changed=False),\n",
       "  HeadingResult(old='### 4.2.2. Alignment with other initiatives', page=14, position=2, new='#### 4.2.2. Alignment with other initiatives', changed=False)],\n",
       " 16: [HeadingResult(old='# 4.3. Effectiveness', page=16, position=1, new='# 4.3. Effectiveness', changed=False),\n",
       "  HeadingResult(old='### 4.3.1. Specific Objective 1: Partner countries and relevant stakeholders developed or strengthened evidence-based return and reintegration procedures', page=16, position=2, new='### 4.3.1. Specific Objective 1: Partner countries and relevant stakeholders developed or strengthened evidence-based return and reintegration procedures', changed=False),\n",
       "  HeadingResult(old='### 4.3.1.1 Achievement of outputs and results', page=16, position=3, new='#### 4.3.1.1 Achievement of outputs and results', changed=False),\n",
       "  HeadingResult(old='## Data availability', page=16, position=4, new='## Data availability', changed=True)],\n",
       " 17: [HeadingResult(old='# Capacity of stakeholders', page=17, position=1, new='### 4.3.1.2 Achievement of Specific Objective 1', changed=True),\n",
       "  HeadingResult(old='### 4.3.1.2 Achievement of Specific Objective 1', page=17, position=2, new='#### 4.3.1.2 Achievement of Specific Objective 1', changed=False)],\n",
       " 18: [HeadingResult(old='# 4.3.2. Specific Objective 2: Safe, humane, dignified voluntary return processes are enhanced along main migration routes', page=18, position=1, new='# 4.3.2. Specific Objective 2: Safe, humane, dignified voluntary return processes are enhanced along main migration routes', changed=False)],\n",
       " 19: [HeadingResult(old='# 4.3.2.1 Achievement of outputs and results', page=19, position=1, new='### 4.3.2.1 Achievement of outputs and results', changed=False),\n",
       "  HeadingResult(old='## Outreach and awareness', page=19, position=2, new='## Outreach and awareness', changed=True),\n",
       "  HeadingResult(old='## Assistance to stranded migrants', page=19, position=3, new='## Assistance to stranded migrants', changed=True)],\n",
       " 20: [HeadingResult(old='# 4.3.2.2 Achievement of the Objective', page=20, position=1, new='### 4.3.2.2 Achievement of the Objective', changed=False),\n",
       "  HeadingResult(old='### 4.3.3. Specific Objective 3: Returnees are sustainably integrated in host communities, and host communities are better able to create living standards that address drivers of migration.', page=20, position=2, new='### 4.3.3. Specific Objective 3: Returnees are sustainably integrated in host communities, and host communities are better able to create living standards that address drivers of migration.', changed=False),\n",
       "  HeadingResult(old='### 4.3.3.1 Achievement of outputs and results', page=20, position=3, new='#### 4.3.3.1 Achievement of outputs and results', changed=False),\n",
       "  HeadingResult(old='## Individual and community-based reintegration', page=20, position=4, new='## Individual and community-based reintegration', changed=True)],\n",
       " 21: [HeadingResult(old='# M\\\\&E systems', page=21, position=1, new='### 4.3.3.2 Achievement of Specific Objective 3', changed=True)],\n",
       " 22: [HeadingResult(old='## Overall achievement of reintegration', page=22, position=2, new='## Overall achievement of reintegration', changed=True)],\n",
       " 23: [HeadingResult(old='# Sustainability of reintegration', page=23, position=1, new='### 4.3.4. Functioning of the Integrated Approach', changed=True),\n",
       "  HeadingResult(old='### 4.3.4. Functioning of the Integrated Approach', page=23, position=2, new='#### 4.3.4. Functioning of the Integrated Approach', changed=False)],\n",
       " 24: [HeadingResult(old='# 4.4. Efficiency', page=24, position=1, new='# 4.4. Efficiency', changed=False),\n",
       "  HeadingResult(old='### 4.4.3. Did the programme receive sufficient resources to achieve its objectives?', page=24, position=2, new='### 4.4.3. Did the programme receive sufficient resources to achieve its objectives?', changed=False)],\n",
       " 25: [HeadingResult(old='# 4.4.2. Cost-effectiveness and efficiency of the programme', page=25, position=1, new='### 4.4.2. Cost-effectiveness and efficiency of the programme', changed=True)],\n",
       " 26: [HeadingResult(old='# 4.5. Sustainability', page=26, position=1, new='# 4.5. Sustainability', changed=False),\n",
       "  HeadingResult(old='## Overall performance score for sustainability: $2.5 / 5$ <br> Robustness score for the evidence: $4 / 5$', page=26, position=2, new='## Overall performance score for sustainability: $2.5 / 5$ <br> Robustness score for the evidence: $4 / 5$', changed=True)],\n",
       " 27: [HeadingResult(old='# 5. Conclusions and Recommendations', page=27, position=1, new='# 5. Conclusions and Recommendations', changed=False),\n",
       "  HeadingResult(old='### 5.1. Conclusions', page=27, position=2, new='### 5.1. Conclusions', changed=False)],\n",
       " 28: [HeadingResult(old='# 5.2. Recommendations', page=28, position=1, new='### 5.2. Recommendations', changed=False)],\n",
       " 29: [HeadingResult(old='# 3. Increase attention on building partnerships with service providers who can function without (significant) funding channelled by IOM.', page=29, position=1, new='#### 5.2.1. Increase attention on building partnerships with service providers who can function without (significant) funding channelled by IOM.', changed=True)],\n",
       " 30: [HeadingResult(old='# 5. Explore opportunities to extend the scope of support provided to returnees, with a focus on longer-term integration.', page=30, position=1, new='#### 5.2.2. Explore opportunities to extend the scope of support provided to returnees, with a focus on longer-term integration.', changed=True)]}"
      ]
     },
     "execution_count": null,
     "metadata": {},
     "output_type": "execute_result"
    }
   ],
   "source": [
    "#| eval: false\n",
    "group_corrections_by_page(result.results)"
   ]
  },
  {
   "cell_type": "code",
   "execution_count": null,
   "metadata": {},
   "outputs": [],
   "source": [
    "#| exports\n",
    "def apply_corrections_to_page(\n",
    "    page_nb, # Page number\n",
    "    corrections, # List of corrections\n",
    "    enhanced_path, # Path to enhanced directory\n",
    "    ):\n",
    "    \"Apply corrections to a page in the enhanced directory\"\n",
    "    page_file = enhanced_path / f\"page_{page_nb}.md\"\n",
    "    lines = page_file.read_text().splitlines()\n",
    "    corrections_copy = corrections.copy()\n",
    "    \n",
    "    for i, line in enumerate(lines):\n",
    "        for correction in corrections_copy:\n",
    "            if line.strip() == correction.old.strip():\n",
    "                lines[i] = f\"{correction.new} .... page {page_nb}\"\n",
    "                corrections_copy.remove(correction)\n",
    "                break\n",
    "            \n",
    "    page_file.write_text('\\n'.join(lines))"
   ]
  },
  {
   "cell_type": "code",
   "execution_count": null,
   "metadata": {},
   "outputs": [],
   "source": [
    "#| eval: false\n",
    "enhanced_path = doc / cfg.enhanced_dir\n",
    "apply_corrections_to_page(5, result.results, enhanced_path)"
   ]
  },
  {
   "cell_type": "code",
   "execution_count": null,
   "metadata": {},
   "outputs": [],
   "source": [
    "#| exports\n",
    "def apply_all_corrections(\n",
    "    results, # List of headings with corrections and change status\n",
    "    enhanced_path, # Path to enhanced directory\n",
    "    ):\n",
    "    \"Apply all corrections to the pages in enhanced directory\"\n",
    "    grouped = group_corrections_by_page(results)\n",
    "    for page_nb, corrections in grouped.items(): \n",
    "        apply_corrections_to_page(page_nb, corrections, enhanced_path)"
   ]
  },
  {
   "cell_type": "code",
   "execution_count": null,
   "metadata": {},
   "outputs": [],
   "source": [
    "#| eval: false\n",
    "apply_all_corrections(result.results, enhanced_path)"
   ]
  },
  {
   "cell_type": "code",
   "execution_count": null,
   "metadata": {},
   "outputs": [],
   "source": [
    "#| exports\n",
    "def fix_doc_hdgs(\n",
    "    src_dir, # Path to the folder containing the document\n",
    "    force=False, # Whether to overwrite the existing enhanced directory\n",
    "    ):\n",
    "    \"Process the document directory\"\n",
    "    src_path = Path(src_dir)\n",
    "    enhanced_path = src_path / cfg.enhanced_dir\n",
    "    \n",
    "    if enhanced_path.exists() and not force:\n",
    "        print(f\"Enhanced directory '{cfg.enhanced_dir}' already exists. Use force=True to overwrite.\")\n",
    "        return\n",
    "    if enhanced_path.exists() and force: \n",
    "        shutil.rmtree(enhanced_path)\n",
    "    \n",
    "    enhanced_path = setup_enhanced_dir(src_dir)\n",
    "    pages = enhanced_path.ls(file_exts=\".md\").sorted(key=lambda p: int(p.stem.split('_')[1]))\n",
    "    result = fix_md(get_hdgs_with_pages(pages))\n",
    "    apply_all_corrections(result.results, enhanced_path)"
   ]
  },
  {
   "cell_type": "code",
   "execution_count": null,
   "metadata": {},
   "outputs": [
    {
     "data": {
      "text/html": [
       "<pre style=\"white-space:pre;overflow-x:auto;line-height:normal;font-family:Menlo,'DejaVu Sans Mono',consolas,'Courier New',monospace\">..<span style=\"color: #800080; text-decoration-color: #800080\">/_data/md_library/49d2fba781b6a7c0d94577479636ee6f/</span><span style=\"color: #ff00ff; text-decoration-color: #ff00ff\">abridged_evaluation_report_final_olta_ndoja_pdf</span>\n",
       "</pre>\n"
      ],
      "text/plain": [
       "..\u001b[35m/_data/md_library/49d2fba781b6a7c0d94577479636ee6f/\u001b[0m\u001b[95mabridged_evaluation_report_final_olta_ndoja_pdf\u001b[0m\n"
      ]
     },
     "metadata": {},
     "output_type": "display_data"
    }
   ],
   "source": [
    "#| eval: false\n",
    "print(doc)\n",
    "fix_doc_hdgs(doc, force=True)"
   ]
  },
  {
   "cell_type": "markdown",
   "metadata": {},
   "source": [
    "## Enrich with figures description"
   ]
  },
  {
   "cell_type": "code",
   "execution_count": null,
   "metadata": {},
   "outputs": [
    {
     "data": {
      "text/plain": [
       "(#31) [Path('../_data/md_library/49d2fba781b6a7c0d94577479636ee6f/abridged_evaluation_report_final_olta_ndoja_pdf/enhanced/page_1.md'),Path('../_data/md_library/49d2fba781b6a7c0d94577479636ee6f/abridged_evaluation_report_final_olta_ndoja_pdf/enhanced/page_2.md'),Path('../_data/md_library/49d2fba781b6a7c0d94577479636ee6f/abridged_evaluation_report_final_olta_ndoja_pdf/enhanced/page_3.md'),Path('../_data/md_library/49d2fba781b6a7c0d94577479636ee6f/abridged_evaluation_report_final_olta_ndoja_pdf/enhanced/page_4.md'),Path('../_data/md_library/49d2fba781b6a7c0d94577479636ee6f/abridged_evaluation_report_final_olta_ndoja_pdf/enhanced/page_5.md'),Path('../_data/md_library/49d2fba781b6a7c0d94577479636ee6f/abridged_evaluation_report_final_olta_ndoja_pdf/enhanced/page_6.md'),Path('../_data/md_library/49d2fba781b6a7c0d94577479636ee6f/abridged_evaluation_report_final_olta_ndoja_pdf/enhanced/page_7.md'),Path('../_data/md_library/49d2fba781b6a7c0d94577479636ee6f/abridged_evaluation_report_final_olta_ndoja_pdf/enhanced/page_8.md'),Path('../_data/md_library/49d2fba781b6a7c0d94577479636ee6f/abridged_evaluation_report_final_olta_ndoja_pdf/enhanced/page_9.md'),Path('../_data/md_library/49d2fba781b6a7c0d94577479636ee6f/abridged_evaluation_report_final_olta_ndoja_pdf/enhanced/page_10.md'),Path('../_data/md_library/49d2fba781b6a7c0d94577479636ee6f/abridged_evaluation_report_final_olta_ndoja_pdf/enhanced/page_11.md'),Path('../_data/md_library/49d2fba781b6a7c0d94577479636ee6f/abridged_evaluation_report_final_olta_ndoja_pdf/enhanced/page_12.md'),Path('../_data/md_library/49d2fba781b6a7c0d94577479636ee6f/abridged_evaluation_report_final_olta_ndoja_pdf/enhanced/page_13.md'),Path('../_data/md_library/49d2fba781b6a7c0d94577479636ee6f/abridged_evaluation_report_final_olta_ndoja_pdf/enhanced/page_14.md'),Path('../_data/md_library/49d2fba781b6a7c0d94577479636ee6f/abridged_evaluation_report_final_olta_ndoja_pdf/enhanced/page_15.md'),Path('../_data/md_library/49d2fba781b6a7c0d94577479636ee6f/abridged_evaluation_report_final_olta_ndoja_pdf/enhanced/page_16.md'),Path('../_data/md_library/49d2fba781b6a7c0d94577479636ee6f/abridged_evaluation_report_final_olta_ndoja_pdf/enhanced/page_17.md'),Path('../_data/md_library/49d2fba781b6a7c0d94577479636ee6f/abridged_evaluation_report_final_olta_ndoja_pdf/enhanced/page_18.md'),Path('../_data/md_library/49d2fba781b6a7c0d94577479636ee6f/abridged_evaluation_report_final_olta_ndoja_pdf/enhanced/page_19.md'),Path('../_data/md_library/49d2fba781b6a7c0d94577479636ee6f/abridged_evaluation_report_final_olta_ndoja_pdf/enhanced/page_20.md')...]"
      ]
     },
     "execution_count": null,
     "metadata": {},
     "output_type": "execute_result"
    }
   ],
   "source": [
    "#| eval: false\n",
    "doc = src_dir / 'abridged_evaluation_report_final_olta_ndoja_pdf/enhanced'\n",
    "pages = doc.ls(file_exts=\".md\").sorted(key=lambda p: int(p.stem.split('_')[1])); pages"
   ]
  },
  {
   "cell_type": "code",
   "execution_count": null,
   "metadata": {},
   "outputs": [],
   "source": [
    "#| exports\n",
    "def has_images(page_path):\n",
    "    content = Path(page_path).read_text()\n",
    "    return bool(re.search(r'!\\[[^\\]]*\\]\\([^)]+\\)', content))"
   ]
  },
  {
   "cell_type": "markdown",
   "metadata": {},
   "source": [
    "For instance:"
   ]
  },
  {
   "cell_type": "code",
   "execution_count": null,
   "metadata": {},
   "outputs": [
    {
     "data": {
      "text/plain": [
       "[Path('../_data/md_library/49d2fba781b6a7c0d94577479636ee6f/abridged_evaluation_report_final_olta_ndoja_pdf/enhanced/page_1.md'),\n",
       " Path('../_data/md_library/49d2fba781b6a7c0d94577479636ee6f/abridged_evaluation_report_final_olta_ndoja_pdf/enhanced/page_6.md'),\n",
       " Path('../_data/md_library/49d2fba781b6a7c0d94577479636ee6f/abridged_evaluation_report_final_olta_ndoja_pdf/enhanced/page_8.md'),\n",
       " Path('../_data/md_library/49d2fba781b6a7c0d94577479636ee6f/abridged_evaluation_report_final_olta_ndoja_pdf/enhanced/page_12.md'),\n",
       " Path('../_data/md_library/49d2fba781b6a7c0d94577479636ee6f/abridged_evaluation_report_final_olta_ndoja_pdf/enhanced/page_18.md'),\n",
       " Path('../_data/md_library/49d2fba781b6a7c0d94577479636ee6f/abridged_evaluation_report_final_olta_ndoja_pdf/enhanced/page_21.md'),\n",
       " Path('../_data/md_library/49d2fba781b6a7c0d94577479636ee6f/abridged_evaluation_report_final_olta_ndoja_pdf/enhanced/page_24.md')]"
      ]
     },
     "execution_count": null,
     "metadata": {},
     "output_type": "execute_result"
    }
   ],
   "source": [
    "#| eval: false\n",
    "[page for page in pages if has_images(page)]"
   ]
  },
  {
   "cell_type": "code",
   "execution_count": null,
   "metadata": {},
   "outputs": [],
   "source": [
    "#| exports\n",
    "class MarkdownPage: \n",
    "    \"A class to represent a markdown page\"\n",
    "    def __init__(self, path): self.path = Path(path)"
   ]
  },
  {
   "cell_type": "code",
   "execution_count": null,
   "metadata": {},
   "outputs": [],
   "source": [
    "#| exports\n",
    "class ImgRef(AttrDict):\n",
    "    \"A class to represent a image reference\"\n",
    "    def __repr__(self):\n",
    "        clean_context = self.context.replace('\\n', ' ')[:50] + \"...\"\n",
    "        fields = [f\"filename='{self.filename}'\", f\"context='{clean_context}'\"]\n",
    "        if hasattr(self, 'is_relevant'): fields.append(f\"is_relevant={self.is_relevant}\")\n",
    "        if hasattr(self, 'reason'): fields.append(f\"reason={self.reason}\")\n",
    "        # ... add other fields if present\n",
    "        return f\"ImgRef({', '.join(fields)})\"\n"
   ]
  },
  {
   "cell_type": "code",
   "execution_count": null,
   "metadata": {},
   "outputs": [],
   "source": [
    "#| exports\n",
    "@patch\n",
    "def find_img_refs(\n",
    "    self:MarkdownPage, # Markdown page of interest\n",
    "    context_lines: int = 3, # Number of lines of context to include around the image\n",
    "    ):\n",
    "    \"Find all image references in the markdown page and include the context around the image\"\n",
    "    content = self.path.read_text()\n",
    "    lines = content.splitlines()\n",
    "    results = []\n",
    "    \n",
    "    for i, line in enumerate(lines):\n",
    "        if re.search(r'!\\[[^\\]]*\\]\\(([^)]+)\\)', line):\n",
    "            # Extract context around this line\n",
    "            start = max(0, i - context_lines)\n",
    "            end = min(len(lines), i + context_lines + 1)\n",
    "            context = '\\n'.join(lines[start:end])\n",
    "            \n",
    "            # Extract image filename\n",
    "            match = re.search(r'!\\[[^\\]]*\\]\\(([^)]+)\\)', line)\n",
    "            results.append(ImgRef({\n",
    "                \"filename\": match.group(1),\n",
    "                \"context\": context\n",
    "            }))\n",
    "    \n",
    "    return results"
   ]
  },
  {
   "cell_type": "markdown",
   "metadata": {},
   "source": [
    "For instance: "
   ]
  },
  {
   "cell_type": "code",
   "execution_count": null,
   "metadata": {},
   "outputs": [
    {
     "data": {
      "text/html": [
       "<pre style=\"white-space:pre;overflow-x:auto;line-height:normal;font-family:Menlo,'DejaVu Sans Mono',consolas,'Courier New',monospace\">In page_1: <span style=\"font-weight: bold\">[</span><span style=\"color: #800080; text-decoration-color: #800080; font-weight: bold\">ImgRef</span><span style=\"font-weight: bold\">(</span><span style=\"color: #808000; text-decoration-color: #808000\">filename</span>=<span style=\"color: #008000; text-decoration-color: #008000\">'img-0.jpeg'</span>, <span style=\"color: #808000; text-decoration-color: #808000\">context</span>=' Final Evaluation Report, <span style=\"color: #008080; text-decoration-color: #008080; font-weight: bold\">17</span> March <span style=\"color: #008080; text-decoration-color: #008080; font-weight: bold\">2023</span>  !\n",
       "</pre>\n"
      ],
      "text/plain": [
       "In page_1: \u001b[1m[\u001b[0m\u001b[1;35mImgRef\u001b[0m\u001b[1m(\u001b[0m\u001b[33mfilename\u001b[0m=\u001b[32m'img-0.jpeg'\u001b[0m, \u001b[33mcontext\u001b[0m=' Final Evaluation Report, \u001b[1;36m17\u001b[0m March \u001b[1;36m2023\u001b[0m  !\n"
      ]
     },
     "metadata": {},
     "output_type": "display_data"
    },
    {
     "data": {
      "text/html": [
       "<pre style=\"white-space:pre;overflow-x:auto;line-height:normal;font-family:Menlo,'DejaVu Sans Mono',consolas,'Courier New',monospace\">In page_6: <span style=\"font-weight: bold\">[</span><span style=\"color: #800080; text-decoration-color: #800080; font-weight: bold\">ImgRef</span><span style=\"font-weight: bold\">(</span><span style=\"color: #808000; text-decoration-color: #808000\">filename</span>=<span style=\"color: #008000; text-decoration-color: #008000\">'img-1.jpeg'</span>, <span style=\"color: #808000; text-decoration-color: #808000\">context</span>=<span style=\"color: #008000; text-decoration-color: #008000\">'FIGURE 1. IOM'</span>S INTEGRATED APPROACH TO REINTEGRATI<span style=\"color: #808000; text-decoration-color: #808000\">...</span>'<span style=\"font-weight: bold\">)]</span>\n",
       "</pre>\n"
      ],
      "text/plain": [
       "In page_6: \u001b[1m[\u001b[0m\u001b[1;35mImgRef\u001b[0m\u001b[1m(\u001b[0m\u001b[33mfilename\u001b[0m=\u001b[32m'img-1.jpeg'\u001b[0m, \u001b[33mcontext\u001b[0m=\u001b[32m'FIGURE 1. IOM'\u001b[0mS INTEGRATED APPROACH TO REINTEGRATI\u001b[33m...\u001b[0m'\u001b[1m)\u001b[0m\u001b[1m]\u001b[0m\n"
      ]
     },
     "metadata": {},
     "output_type": "display_data"
    },
    {
     "data": {
      "text/html": [
       "<pre style=\"white-space:pre;overflow-x:auto;line-height:normal;font-family:Menlo,'DejaVu Sans Mono',consolas,'Courier New',monospace\">In page_8: <span style=\"font-weight: bold\">[</span><span style=\"color: #800080; text-decoration-color: #800080; font-weight: bold\">ImgRef</span><span style=\"font-weight: bold\">(</span><span style=\"color: #808000; text-decoration-color: #808000\">filename</span>=<span style=\"color: #008000; text-decoration-color: #008000\">'img-2.jpeg'</span>, <span style=\"color: #808000; text-decoration-color: #808000\">context</span>=<span style=\"color: #008000; text-decoration-color: #008000\">'The evaluation followed the Organisation of Econom...'</span><span style=\"font-weight: bold\">)]</span>\n",
       "</pre>\n"
      ],
      "text/plain": [
       "In page_8: \u001b[1m[\u001b[0m\u001b[1;35mImgRef\u001b[0m\u001b[1m(\u001b[0m\u001b[33mfilename\u001b[0m=\u001b[32m'img-2.jpeg'\u001b[0m, \u001b[33mcontext\u001b[0m=\u001b[32m'The evaluation followed the Organisation of Econom...'\u001b[0m\u001b[1m)\u001b[0m\u001b[1m]\u001b[0m\n"
      ]
     },
     "metadata": {},
     "output_type": "display_data"
    },
    {
     "data": {
      "text/html": [
       "<pre style=\"white-space:pre;overflow-x:auto;line-height:normal;font-family:Menlo,'DejaVu Sans Mono',consolas,'Courier New',monospace\">In page_12: <span style=\"font-weight: bold\">[</span><span style=\"color: #800080; text-decoration-color: #800080; font-weight: bold\">ImgRef</span><span style=\"font-weight: bold\">(</span><span style=\"color: #808000; text-decoration-color: #808000\">filename</span>=<span style=\"color: #008000; text-decoration-color: #008000\">'img-3.jpeg'</span>, <span style=\"color: #808000; text-decoration-color: #808000\">context</span>=<span style=\"color: #008000; text-decoration-color: #008000\">'According to the community participation survey ad...'</span><span style=\"font-weight: bold\">)]</span>\n",
       "</pre>\n"
      ],
      "text/plain": [
       "In page_12: \u001b[1m[\u001b[0m\u001b[1;35mImgRef\u001b[0m\u001b[1m(\u001b[0m\u001b[33mfilename\u001b[0m=\u001b[32m'img-3.jpeg'\u001b[0m, \u001b[33mcontext\u001b[0m=\u001b[32m'According to the community participation survey ad...'\u001b[0m\u001b[1m)\u001b[0m\u001b[1m]\u001b[0m\n"
      ]
     },
     "metadata": {},
     "output_type": "display_data"
    },
    {
     "data": {
      "text/html": [
       "<pre style=\"white-space:pre;overflow-x:auto;line-height:normal;font-family:Menlo,'DejaVu Sans Mono',consolas,'Courier New',monospace\">In page_18: <span style=\"font-weight: bold\">[</span><span style=\"color: #800080; text-decoration-color: #800080; font-weight: bold\">ImgRef</span><span style=\"font-weight: bold\">(</span><span style=\"color: #808000; text-decoration-color: #808000\">filename</span>=<span style=\"color: #008000; text-decoration-color: #008000\">'img-4.jpeg'</span>, <span style=\"color: #808000; text-decoration-color: #808000\">context</span>=<span style=\"color: #008000; text-decoration-color: #008000\">'The number of stakeholders (state and non-state) i...'</span><span style=\"font-weight: bold\">)]</span>\n",
       "</pre>\n"
      ],
      "text/plain": [
       "In page_18: \u001b[1m[\u001b[0m\u001b[1;35mImgRef\u001b[0m\u001b[1m(\u001b[0m\u001b[33mfilename\u001b[0m=\u001b[32m'img-4.jpeg'\u001b[0m, \u001b[33mcontext\u001b[0m=\u001b[32m'The number of stakeholders \u001b[0m\u001b[32m(\u001b[0m\u001b[32mstate and non-state\u001b[0m\u001b[32m)\u001b[0m\u001b[32m i...'\u001b[0m\u001b[1m)\u001b[0m\u001b[1m]\u001b[0m\n"
      ]
     },
     "metadata": {},
     "output_type": "display_data"
    },
    {
     "data": {
      "text/html": [
       "<pre style=\"white-space:pre;overflow-x:auto;line-height:normal;font-family:Menlo,'DejaVu Sans Mono',consolas,'Courier New',monospace\">In page_21: <span style=\"font-weight: bold\">[</span><span style=\"color: #800080; text-decoration-color: #800080; font-weight: bold\">ImgRef</span><span style=\"font-weight: bold\">(</span><span style=\"color: #808000; text-decoration-color: #808000\">filename</span>=<span style=\"color: #008000; text-decoration-color: #008000\">'img-5.jpeg'</span>, <span style=\"color: #808000; text-decoration-color: #808000\">context</span>=<span style=\"color: #008000; text-decoration-color: #008000\">'origin. This target was exceeded in Somalia ( $80 ...'</span><span style=\"font-weight: bold\">)]</span>\n",
       "</pre>\n"
      ],
      "text/plain": [
       "In page_21: \u001b[1m[\u001b[0m\u001b[1;35mImgRef\u001b[0m\u001b[1m(\u001b[0m\u001b[33mfilename\u001b[0m=\u001b[32m'img-5.jpeg'\u001b[0m, \u001b[33mcontext\u001b[0m=\u001b[32m'origin. This target was exceeded in Somalia \u001b[0m\u001b[32m(\u001b[0m\u001b[32m $80 ...'\u001b[0m\u001b[1m)\u001b[0m\u001b[1m]\u001b[0m\n"
      ]
     },
     "metadata": {},
     "output_type": "display_data"
    },
    {
     "data": {
      "text/html": [
       "<pre style=\"white-space:pre;overflow-x:auto;line-height:normal;font-family:Menlo,'DejaVu Sans Mono',consolas,'Courier New',monospace\">In page_24: <span style=\"font-weight: bold\">[</span><span style=\"color: #800080; text-decoration-color: #800080; font-weight: bold\">ImgRef</span><span style=\"font-weight: bold\">(</span><span style=\"color: #808000; text-decoration-color: #808000\">filename</span>=<span style=\"color: #008000; text-decoration-color: #008000\">'img-6.jpeg'</span>, <span style=\"color: #808000; text-decoration-color: #808000\">context</span>=<span style=\"color: #008000; text-decoration-color: #008000\">'The financial resources were sufficient to meet th...'</span><span style=\"font-weight: bold\">)]</span>\n",
       "</pre>\n"
      ],
      "text/plain": [
       "In page_24: \u001b[1m[\u001b[0m\u001b[1;35mImgRef\u001b[0m\u001b[1m(\u001b[0m\u001b[33mfilename\u001b[0m=\u001b[32m'img-6.jpeg'\u001b[0m, \u001b[33mcontext\u001b[0m=\u001b[32m'The financial resources were sufficient to meet th...'\u001b[0m\u001b[1m)\u001b[0m\u001b[1m]\u001b[0m\n"
      ]
     },
     "metadata": {},
     "output_type": "display_data"
    }
   ],
   "source": [
    "#| eval: false\n",
    "for page in pages: \n",
    "    img_refs = MarkdownPage(page).find_img_refs()\n",
    "    if img_refs: print(f\"In {page.stem}: {img_refs}\")"
   ]
  },
  {
   "cell_type": "code",
   "execution_count": null,
   "metadata": {},
   "outputs": [],
   "source": [
    "#| exports\n",
    "class ImageRelevance(dspy.Signature):\n",
    "    \"\"\"Determine if an image contains substantive content for document understanding.\n",
    "    \n",
    "    RELEVANT: Charts, graphs, diagrams, figures, tables, screenshots, flowcharts\n",
    "    IRRELEVANT: Logos, cover images, decorative elements, headers, footers\n",
    "    \"\"\"\n",
    "    img_filename: str = dspy.InputField()\n",
    "    surrounding_context: str = dspy.InputField(desc=\"Text context around the image\")\n",
    "    is_relevant: bool = dspy.OutputField(desc=\"True only for substantive content like data visualizations\")\n",
    "    reason: str = dspy.OutputField(desc=\"Brief explanation of decision\")\n"
   ]
  },
  {
   "cell_type": "code",
   "execution_count": null,
   "metadata": {},
   "outputs": [],
   "source": [
    "#| exports\n",
    "@patch\n",
    "def classify_imgs(\n",
    "    self:MarkdownPage, # Markdown page of interest\n",
    "    img_refs: list[ImgRef], # List of image references\n",
    "    ):\n",
    "    \"Classify images in the markdown page\"\n",
    "    classifier = dspy.ChainOfThought(ImageRelevance)\n",
    "    for img_ref in img_refs:\n",
    "        result = classifier(\n",
    "            img_filename=img_ref.filename,\n",
    "            surrounding_context=img_ref.context,\n",
    "            page_nb=1  # We could make this dynamic if needed\n",
    "        )\n",
    "        img_ref.is_relevant = result.is_relevant\n",
    "        img_ref.reason = result.reason\n",
    "    return img_refs"
   ]
  },
  {
   "cell_type": "markdown",
   "metadata": {},
   "source": [
    "For instance:"
   ]
  },
  {
   "cell_type": "code",
   "execution_count": null,
   "metadata": {},
   "outputs": [
    {
     "data": {
      "text/html": [
       "<pre style=\"white-space:pre;overflow-x:auto;line-height:normal;font-family:Menlo,'DejaVu Sans Mono',consolas,'Courier New',monospace\"><span style=\"font-weight: bold\">[</span><span style=\"color: #800080; text-decoration-color: #800080; font-weight: bold\">ImgRef</span><span style=\"font-weight: bold\">(</span><span style=\"color: #808000; text-decoration-color: #808000\">filename</span>=<span style=\"color: #008000; text-decoration-color: #008000\">'img-0.jpeg'</span>, <span style=\"color: #808000; text-decoration-color: #808000\">context</span>=<span style=\"color: #008000; text-decoration-color: #008000\">' Final Evaluation Report, 17 March 2023  ![img-0.j...'</span><span style=\"font-weight: bold\">)]</span>\n",
       "</pre>\n"
      ],
      "text/plain": [
       "\u001b[1m[\u001b[0m\u001b[1;35mImgRef\u001b[0m\u001b[1m(\u001b[0m\u001b[33mfilename\u001b[0m=\u001b[32m'img-0.jpeg'\u001b[0m, \u001b[33mcontext\u001b[0m=\u001b[32m' Final Evaluation Report, 17 March 2023  !\u001b[0m\u001b[32m[\u001b[0m\u001b[32mimg-0.j...'\u001b[0m\u001b[1m)\u001b[0m\u001b[1m]\u001b[0m\n"
      ]
     },
     "metadata": {},
     "output_type": "display_data"
    },
    {
     "data": {
      "text/html": [
       "<pre style=\"white-space:pre;overflow-x:auto;line-height:normal;font-family:Menlo,'DejaVu Sans Mono',consolas,'Courier New',monospace\"><span style=\"font-weight: bold\">[</span>\n",
       "    <span style=\"color: #800080; text-decoration-color: #800080; font-weight: bold\">ImgRef</span><span style=\"font-weight: bold\">(</span><span style=\"color: #808000; text-decoration-color: #808000\">filename</span>=<span style=\"color: #008000; text-decoration-color: #008000\">'img-1.jpeg'</span>, <span style=\"color: #808000; text-decoration-color: #808000\">context</span>=<span style=\"color: #008000; text-decoration-color: #008000\">'FIGURE 1. IOM'</span>S INTEGRATED APPROACH TO REINTEGRATI<span style=\"color: #808000; text-decoration-color: #808000\">...</span>', \n",
       "<span style=\"color: #808000; text-decoration-color: #808000\">is_relevant</span>=<span style=\"color: #00ff00; text-decoration-color: #00ff00; font-style: italic\">True</span>, <span style=\"color: #808000; text-decoration-color: #808000\">reason</span>=<span style=\"color: #800080; text-decoration-color: #800080\">The</span> image is a figure illustrating an integrated approach, likely a diagram or flowchart.<span style=\"font-weight: bold\">)</span>\n",
       "<span style=\"font-weight: bold\">]</span>\n",
       "</pre>\n"
      ],
      "text/plain": [
       "\u001b[1m[\u001b[0m\n",
       "    \u001b[1;35mImgRef\u001b[0m\u001b[1m(\u001b[0m\u001b[33mfilename\u001b[0m=\u001b[32m'img-1.jpeg'\u001b[0m, \u001b[33mcontext\u001b[0m=\u001b[32m'FIGURE 1. IOM'\u001b[0mS INTEGRATED APPROACH TO REINTEGRATI\u001b[33m...\u001b[0m', \n",
       "\u001b[33mis_relevant\u001b[0m=\u001b[3;92mTrue\u001b[0m, \u001b[33mreason\u001b[0m=\u001b[35mThe\u001b[0m image is a figure illustrating an integrated approach, likely a diagram or flowchart.\u001b[1m)\u001b[0m\n",
       "\u001b[1m]\u001b[0m\n"
      ]
     },
     "metadata": {},
     "output_type": "display_data"
    }
   ],
   "source": [
    "#| eval: false\n",
    "img_refs = MarkdownPage(pages[0]).find_img_refs(); print(img_refs)\n",
    "md_page = MarkdownPage(pages[5]) \n",
    "img_refs = md_page.find_img_refs()\n",
    "clf_img_refs = md_page.classify_imgs(img_refs)\n",
    "print(clf_img_refs)"
   ]
  },
  {
   "cell_type": "code",
   "execution_count": null,
   "metadata": {},
   "outputs": [],
   "source": [
    "#| exports\n",
    "def describe_img(\n",
    "    img_path: Path, # Path to the image\n",
    "    context: str, # Context of the image\n",
    "    api_key: str = GEMINI_API_KEY, # API key for the Gemini model\n",
    "    model: str = cfg.lm, # Model to use\n",
    "    ):\n",
    "    \"Describe an image using an LLM\"\n",
    "    with open(img_path, \"rb\") as image_file:\n",
    "        base64_image = base64.b64encode(image_file.read()).decode('utf-8')\n",
    "    \n",
    "    # Auto-detect image format\n",
    "    img_format = img_path.suffix.lower().replace('.', '')\n",
    "    if img_format == 'jpg': img_format = 'jpeg'\n",
    "    \n",
    "    prompt = f\"\"\"Provide a concise paragraph description of this image for evaluation report analysis. Include: type of content, main topic, key data/statistics, trends, and takeaways. Write as flowing text, not numbered points. Context: {context}\"\"\"\n",
    "    response = completion(\n",
    "        model=model,\n",
    "        messages=[{\n",
    "            \"role\": \"user\", \n",
    "            \"content\": [\n",
    "                {\"type\": \"text\", \"text\": prompt},\n",
    "                {\"type\": \"image_url\", \"image_url\": {\"url\": f\"data:image/{img_format};base64,{base64_image}\"}}\n",
    "            ]\n",
    "        }],\n",
    "        api_key=api_key\n",
    "    )\n",
    "    return response.choices[0].message.content"
   ]
  },
  {
   "cell_type": "code",
   "execution_count": null,
   "metadata": {},
   "outputs": [],
   "source": [
    "#| exports\n",
    "@patch\n",
    "def describe_imgs(\n",
    "    self:MarkdownPage, # Markdown page of interest\n",
    "    img_refs: list[ImgRef], # List of image references\n",
    "    img_dir: str # Image directory\n",
    "    ):\n",
    "    \"Describe images in the markdown page\"\n",
    "    for img_ref in img_refs:\n",
    "        if img_ref.is_relevant:\n",
    "            img_path = Path(img_dir) / img_ref.filename\n",
    "            description = describe_img(img_path, img_ref.context, GEMINI_API_KEY)\n",
    "            img_ref.description = description\n",
    "    return img_refs"
   ]
  },
  {
   "cell_type": "markdown",
   "metadata": {},
   "source": [
    "For instance:"
   ]
  },
  {
   "cell_type": "code",
   "execution_count": null,
   "metadata": {},
   "outputs": [
    {
     "data": {
      "text/html": [
       "<pre style=\"white-space:pre;overflow-x:auto;line-height:normal;font-family:Menlo,'DejaVu Sans Mono',consolas,'Courier New',monospace\">Figure <span style=\"color: #008080; text-decoration-color: #008080; font-weight: bold\">1</span>, sourced from the IOM Reintegration Handbook, presents a process diagram outlining the IOM's integrated \n",
       "approach to reintegration. The figure visually separates the process into three intersecting societal levels: \n",
       "Individual, Community, and Structural. The outer ring of the diagram emphasizes Economic, Social, and Psychosocial \n",
       "factors that are monitored, evaluated, and inform learning within the reintegration process. The individual level \n",
       "focuses on tailored assistance, especially for vulnerable migrants, with preparation, flexibility, and follow-up \n",
       "being key. The community level centers on faster inclusion and strengthened resilience through social networks, \n",
       "joint initiatives, and partnerships. Lastly, the structural level stresses alignment with national and local \n",
       "development policies through capacity building, local ownership, and essential services. The core takeaway is the \n",
       "cyclical and multi-faceted nature of reintegration, highlighting the need for tailored, community-oriented, and \n",
       "structurally supported approaches.\n",
       "\n",
       "</pre>\n"
      ],
      "text/plain": [
       "Figure \u001b[1;36m1\u001b[0m, sourced from the IOM Reintegration Handbook, presents a process diagram outlining the IOM's integrated \n",
       "approach to reintegration. The figure visually separates the process into three intersecting societal levels: \n",
       "Individual, Community, and Structural. The outer ring of the diagram emphasizes Economic, Social, and Psychosocial \n",
       "factors that are monitored, evaluated, and inform learning within the reintegration process. The individual level \n",
       "focuses on tailored assistance, especially for vulnerable migrants, with preparation, flexibility, and follow-up \n",
       "being key. The community level centers on faster inclusion and strengthened resilience through social networks, \n",
       "joint initiatives, and partnerships. Lastly, the structural level stresses alignment with national and local \n",
       "development policies through capacity building, local ownership, and essential services. The core takeaway is the \n",
       "cyclical and multi-faceted nature of reintegration, highlighting the need for tailored, community-oriented, and \n",
       "structurally supported approaches.\n",
       "\n"
      ]
     },
     "metadata": {},
     "output_type": "display_data"
    }
   ],
   "source": [
    "#| eval: false\n",
    "md_page = MarkdownPage(pages[5]) \n",
    "img_refs = md_page.find_img_refs()\n",
    "clf_img_refs = md_page.classify_imgs(img_refs)\n",
    "img_refs_desc = md_page.describe_imgs(clf_img_refs, doc.parent / 'img')\n",
    "print(img_refs_desc[0].description)"
   ]
  },
  {
   "cell_type": "code",
   "execution_count": null,
   "metadata": {},
   "outputs": [],
   "source": [
    "#| exports\n",
    "@patch\n",
    "def replace_imgs_with_desc(\n",
    "    self:MarkdownPage, # Markdown page of interest\n",
    "    img_refs, # List of image references\n",
    "    enriched_dir: str = cfg.enriched_dir, # Enriched directory\n",
    "    ):\n",
    "    \"Replace images with their descriptions in the markdown page\"\n",
    "    enriched_path = self.path.parent.parent / enriched_dir\n",
    "    enriched_path.mkdir(exist_ok=True)\n",
    "    \n",
    "    content = self.path.read_text()\n",
    "    for img_ref in img_refs:\n",
    "        if img_ref.is_relevant and hasattr(img_ref, 'description'):\n",
    "            pattern = f'!\\\\[[^\\\\]]*\\\\]\\\\({re.escape(img_ref.filename)}\\\\)'\n",
    "            content = re.sub(pattern, img_ref.description, content)\n",
    "    \n",
    "    enriched_file = enriched_path / self.path.name\n",
    "    enriched_file.write_text(content)\n",
    "    return enriched_file"
   ]
  },
  {
   "cell_type": "code",
   "execution_count": null,
   "metadata": {},
   "outputs": [],
   "source": [
    "#| exports\n",
    "def copy_page_to_enriched(\n",
    "    page, # Page to copy\n",
    "    enriched_dir: str = cfg.enriched_dir, # Enriched directory\n",
    "    ):\n",
    "    \"Copy a page to the enriched directory\"\n",
    "    enriched_path = page.parent.parent / enriched_dir\n",
    "    enriched_path.mkdir(exist_ok=True)\n",
    "    return shutil.copy(page, enriched_path)"
   ]
  },
  {
   "cell_type": "code",
   "execution_count": null,
   "metadata": {},
   "outputs": [],
   "source": [
    "#| exports\n",
    "def process_single_page(\n",
    "    page, # Page to process\n",
    "    img_dir, # Image directory\n",
    "    enriched_dir: str = cfg.enriched_dir, # Enriched directory\n",
    "    ):\n",
    "    \"Process a single page\"\n",
    "    md_page = MarkdownPage(page)\n",
    "    # Pipeline: find → classify → describe → replace\n",
    "    img_refs = md_page.find_img_refs()\n",
    "    \n",
    "    if not img_refs: return copy_page_to_enriched(page, enriched_dir)\n",
    "    \n",
    "    classified_refs = md_page.classify_imgs(img_refs)\n",
    "    described_refs = md_page.describe_imgs(classified_refs, img_dir)\n",
    "    return md_page.replace_imgs_with_desc(described_refs)"
   ]
  },
  {
   "cell_type": "code",
   "execution_count": null,
   "metadata": {},
   "outputs": [],
   "source": [
    "#| exports\n",
    "def enrich_images(\n",
    "    pages_dir, # Pages directory\n",
    "    img_dir, # Image directory\n",
    "    n_workers=2, # Number of workers\n",
    "    ):\n",
    "    \"Enrich images in the pages directory\"\n",
    "    pages = Path(pages_dir).ls(file_exts=\".md\")\n",
    "    \n",
    "    pages_with_imgs = []\n",
    "    for page in pages:\n",
    "        if has_images(page):\n",
    "            pages_with_imgs.append(page)\n",
    "        else:\n",
    "            copy_page_to_enriched(page)\n",
    "    \n",
    "    if pages_with_imgs:\n",
    "        process_fn = partial(process_single_page, img_dir=img_dir)\n",
    "        parallel(process_fn, pages_with_imgs, n_workers=n_workers, threadpool=True, progress=True)\n",
    "        \n",
    "    print(f\"✓ Processed {len(pages)} pages ({len(pages_with_imgs)} with images)\")"
   ]
  },
  {
   "cell_type": "code",
   "execution_count": null,
   "metadata": {},
   "outputs": [
    {
     "data": {
      "text/html": [
       "\n",
       "<style>\n",
       "    /* Turns off some styling */\n",
       "    progress {\n",
       "        /* gets rid of default border in Firefox and Opera. */\n",
       "        border: none;\n",
       "        /* Needs to be in here for Safari polyfill so background images work as expected. */\n",
       "        background-size: auto;\n",
       "    }\n",
       "    progress:not([value]), progress:not([value])::-webkit-progress-bar {\n",
       "        background: repeating-linear-gradient(45deg, #7e7e7e, #7e7e7e 10px, #5c5c5c 10px, #5c5c5c 20px);\n",
       "    }\n",
       "    .progress-bar-interrupted, .progress-bar-interrupted::-webkit-progress-bar {\n",
       "        background: #F44336;\n",
       "    }\n",
       "</style>\n"
      ],
      "text/plain": [
       "<IPython.core.display.HTML object>"
      ]
     },
     "metadata": {},
     "output_type": "display_data"
    },
    {
     "data": {
      "text/html": [],
      "text/plain": [
       "<IPython.core.display.HTML object>"
      ]
     },
     "metadata": {},
     "output_type": "display_data"
    },
    {
     "data": {
      "text/html": [
       "<pre style=\"white-space:pre;overflow-x:auto;line-height:normal;font-family:Menlo,'DejaVu Sans Mono',consolas,'Courier New',monospace\">✓ Processed <span style=\"color: #008080; text-decoration-color: #008080; font-weight: bold\">31</span> pages <span style=\"font-weight: bold\">(</span><span style=\"color: #008080; text-decoration-color: #008080; font-weight: bold\">7</span> with images<span style=\"font-weight: bold\">)</span>\n",
       "</pre>\n"
      ],
      "text/plain": [
       "✓ Processed \u001b[1;36m31\u001b[0m pages \u001b[1m(\u001b[0m\u001b[1;36m7\u001b[0m with images\u001b[1m)\u001b[0m\n"
      ]
     },
     "metadata": {},
     "output_type": "display_data"
    }
   ],
   "source": [
    "#| eval: false\n",
    "enrich_images(doc, doc.parent / 'img', n_workers=2)"
   ]
  }
 ],
 "metadata": {
  "kernelspec": {
   "display_name": "python3",
   "language": "python",
   "name": "python3"
  }
 },
 "nbformat": 4,
 "nbformat_minor": 2
}
