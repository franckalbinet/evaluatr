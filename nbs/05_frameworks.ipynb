{
 "cells": [
  {
   "cell_type": "markdown",
   "id": "2da1be3f",
   "metadata": {},
   "source": [
    "# Frameworks\n",
    "\n",
    "> Load and process framework data from JSON files for evaluation and analysis"
   ]
  },
  {
   "cell_type": "code",
   "execution_count": null,
   "id": "7140892e",
   "metadata": {},
   "outputs": [],
   "source": [
    "#| default_exp frameworks"
   ]
  },
  {
   "cell_type": "code",
   "execution_count": null,
   "id": "ed83b9bc",
   "metadata": {},
   "outputs": [],
   "source": [
    "#| exports\n",
    "from pathlib import Path\n",
    "from rich import print\n",
    "import json\n",
    "from fastcore.all import *"
   ]
  },
  {
   "cell_type": "markdown",
   "id": "6d977afa",
   "metadata": {},
   "source": [
    "Base type and wrapper functions for:\n",
    "\n",
    "1. Pretty printing of evaluation framework data with truncation\n",
    "2. Easy attribute-style access to evaluation framework dictionaries"
   ]
  },
  {
   "cell_type": "code",
   "execution_count": null,
   "id": "1f4b7637",
   "metadata": {},
   "outputs": [],
   "source": [
    "#| exports\n",
    "class EvalDict(AttrDict):\n",
    "    \"A dictionary that truncates strings and lists to a maximum length for pretty printing and dot notation access of attributes\"\n",
    "    def __init__(self, *args, max_len=50, max_items=5, **kwargs):\n",
    "        super().__init__(*args, **kwargs)\n",
    "        self._max_len = max_len\n",
    "        self._max_items = max_items\n",
    "    \n",
    "    def __repr__(self):\n",
    "        def truncate(text, max_len=self._max_len):\n",
    "            return text[:max_len] + \"...\" if len(text) > self._max_len else text\n",
    "        \n",
    "        def format_item(key, value):\n",
    "            if isinstance(value, str):\n",
    "                return f\"'{key}': '{truncate(value)}'\"\n",
    "            elif isinstance(value, (list, dict)):\n",
    "                count = len(value)\n",
    "                return f\"'{key}': [{count} items]\"\n",
    "            else:\n",
    "                return f\"'{key}': {value}\"\n",
    "        \n",
    "        items = list(self.items())[:self._max_items]  \n",
    "        formatted = [format_item(k, v) for k, v in items]\n",
    "        suffix = \", ...\" if len(self) > self._max_items else \"\"\n",
    "        \n",
    "        return f\"EvalDict({{{', '.join(formatted)}{suffix}}})\""
   ]
  },
  {
   "cell_type": "code",
   "execution_count": null,
   "id": "ab898ba0",
   "metadata": {},
   "outputs": [],
   "source": [
    "#| exports\n",
    "@delegates(EvalDict.__init__)\n",
    "def evalify(\n",
    "    data, # data to evalify\n",
    "    **kwargs # kwargs to pass to EvalDict.__init__\n",
    "    ):\n",
    "    \"Evalify a dictionary or a list of dictionaries\"\n",
    "    if isinstance(data, list):\n",
    "        return [EvalDict(item, **kwargs) for item in data]\n",
    "    else:\n",
    "        return EvalDict(data, **kwargs)"
   ]
  },
  {
   "cell_type": "markdown",
   "id": "229d1e8d",
   "metadata": {},
   "source": [
    "For instance on the SRF Enablers and GCM to SRF lookup tables:"
   ]
  },
  {
   "cell_type": "code",
   "execution_count": null,
   "id": "f6214465",
   "metadata": {},
   "outputs": [
    {
     "data": {
      "text/plain": [
       "[EvalDict({'id': '1', 'title': 'Workforce', 'description': 'IOM’s diverse and capable people are our...', 'indicators': [14 items]}),\n",
       " EvalDict({'id': '2', 'title': 'Partnership', 'description': 'Long-term partnerships built on trust me...', 'indicators': [20 items]}),\n",
       " EvalDict({'id': '3', 'title': 'Funding', 'description': 'IOM’s vision will only be realized with ...', 'indicators': [22 items]}),\n",
       " EvalDict({'id': '4', 'title': 'Data and evidence', 'description': 'IOM will be the pre-eminent source of mi...', 'indicators': [16 items]}),\n",
       " EvalDict({'id': '5', 'title': 'Learning and Innovation', 'description': 'As an innovator within the migration spa...', 'indicators': [7 items]}),\n",
       " EvalDict({'id': '6', 'title': 'Communication', 'description': 'We will take a data-driven and co-design...', 'indicators': [4 items]}),\n",
       " EvalDict({'id': '7', 'title': 'Internal systems', 'description': 'As IOM evolves, so must its organization...', 'indicators': [20 items]})]"
      ]
     },
     "execution_count": null,
     "metadata": {},
     "output_type": "execute_result"
    }
   ],
   "source": [
    "#| eval: false\n",
    "file_path = Path('files/eval_frameworks/srf_enablers.json')\n",
    "srf_e = json.loads(file_path.read_text())\n",
    "srf_e = evalify(srf_e, max_len=40, max_items=5); srf_e"
   ]
  },
  {
   "cell_type": "code",
   "execution_count": null,
   "id": "9c4f4e9c",
   "metadata": {},
   "outputs": [],
   "source": [
    "#| exports\n",
    "class IOMEvalData:\n",
    "    def __init__(self, base_path=\"./files/eval_frameworks\"):\n",
    "        self._data = self._load_all(Path(base_path))\n",
    "    \n",
    "    def _load_all(self, path): \n",
    "        return {f.stem: json.loads(f.read_text()) for f in path.ls(file_exts='.json')}\n",
    "    \n",
    "    @property\n",
    "    def srf_crosscutting_priorities(self): return evalify(self._data['crosscutting_priorities'])\n",
    "    @property\n",
    "    def gcm_srf_lut(self): return evalify(self._data['gcm_to_srf_outputs'])\n",
    "    @property\n",
    "    def gcm_objectives(self): return evalify(self._data['gcm'])\n",
    "    @property\n",
    "    def srf_enablers(self): return evalify(self._data['srf_enablers'])\n",
    "    @property \n",
    "    def srf_objectives(self): return evalify(self._data['srf_objectives'])\n",
    "    @property\n",
    "    def srf_gcm_lut(self): return evalify(self._data['srf_outputs_to_gcm'])"
   ]
  },
  {
   "cell_type": "markdown",
   "id": "69de83c3",
   "metadata": {},
   "source": [
    "Here is the list of currently available files:"
   ]
  },
  {
   "cell_type": "code",
   "execution_count": null,
   "id": "d306b658",
   "metadata": {},
   "outputs": [
    {
     "data": {
      "text/plain": [
       "['gcm_objectives',\n",
       " 'gcm_srf_lut',\n",
       " 'srf_crosscutting_priorities',\n",
       " 'srf_enablers',\n",
       " 'srf_gcm_lut',\n",
       " 'srf_objectives']"
      ]
     },
     "execution_count": null,
     "metadata": {},
     "output_type": "execute_result"
    }
   ],
   "source": [
    "#| eval: false\n",
    "eval_data = IOMEvalData()\n",
    "[o for o in dir(eval_data) if not o.startswith('_')]"
   ]
  },
  {
   "cell_type": "markdown",
   "id": "bfa7d0de",
   "metadata": {},
   "source": [
    "By default it \"pretty prints\" the data:"
   ]
  },
  {
   "cell_type": "code",
   "execution_count": null,
   "id": "e1aab727",
   "metadata": {},
   "outputs": [
    {
     "data": {
      "text/plain": [
       "[EvalDict({'id': '1', 'title': 'Collect and utilize accurate and disaggregated dat...', 'commitment': 'We commit to strengthen the global evidence base o...', 'actions': [11 items]}),\n",
       " EvalDict({'id': '2', 'title': 'Minimize the adverse drivers and structural factor...', 'commitment': 'We commit to create conducive political, economic,...', 'actions': [12 items]}),\n",
       " EvalDict({'id': '3', 'title': 'Provide accurate and timely information at all sta...', 'commitment': 'We commit to strengthen our efforts to provide, ma...', 'actions': [5 items]}),\n",
       " EvalDict({'id': '4', 'title': 'Ensure that all migrants have proof of legal ident...', 'commitment': 'We commit to fulfil the right of all individuals t...', 'actions': [7 items]}),\n",
       " EvalDict({'id': '5', 'title': 'Enhance availability and flexibility of pathways f...', 'commitment': 'We commit to adapt options and pathways for regula...', 'actions': [10 items]}),\n",
       " EvalDict({'id': '6', 'title': 'Facilitate fair and ethical recruitment and safegu...', 'commitment': 'We commit to review existing recruitment mechanism...', 'actions': [12 items]}),\n",
       " EvalDict({'id': '7', 'title': 'Address and reduce vulnerabilities in migration', 'commitment': 'We commit to respond to the needs of migrants who ...', 'actions': [12 items]}),\n",
       " EvalDict({'id': '8', 'title': 'Save lives and establish coordinated international...', 'commitment': 'We commit to cooperate internationally to save liv...', 'actions': [6 items]}),\n",
       " EvalDict({'id': '9', 'title': 'Strengthen the transnational response to smuggling...', 'commitment': 'We commit to intensify joint efforts to prevent an...', 'actions': [6 items]}),\n",
       " EvalDict({'id': '10', 'title': 'Prevent, combat and eradicate trafficking in perso...', 'commitment': 'We commit to take legislative or other measures to...', 'actions': [10 items]}),\n",
       " EvalDict({'id': '11', 'title': 'Manage borders in an integrated, secure and coordi...', 'commitment': 'We commit to manage our national borders in a coor...', 'actions': [7 items]}),\n",
       " EvalDict({'id': '12', 'title': 'Strengthen certainty and predictability in migrati...', 'commitment': 'We commit to increase legal certainty and predicta...', 'actions': [5 items]}),\n",
       " EvalDict({'id': '13', 'title': 'Use immigration detention only as a measure of las...', 'commitment': 'We commit to ensure that any detention in the cont...', 'actions': [8 items]}),\n",
       " EvalDict({'id': '14', 'title': 'Enhance consular protection, assistance and cooper...', 'commitment': 'We commit to strengthen consular protection of and...', 'actions': [6 items]}),\n",
       " EvalDict({'id': '15', 'title': 'Provide access to basic services for migrants', 'commitment': 'We commit to ensure that all migrants, regardless ...', 'actions': [6 items]}),\n",
       " EvalDict({'id': '16', 'title': 'Empower migrants and societies to realize full inc...', 'commitment': 'We commit to foster inclusive and cohesive societi...', 'actions': [9 items]}),\n",
       " EvalDict({'id': '17', 'title': 'Eliminate all forms of discrimination and promote ...', 'commitment': 'We commit to eliminate all forms of discrimination...', 'actions': [7 items]}),\n",
       " EvalDict({'id': '18', 'title': 'Invest in skills development and facilitate mutual...', 'commitment': 'We commit to invest in innovative solutions that f...', 'actions': [12 items]}),\n",
       " EvalDict({'id': '19', 'title': 'Create conditions for migrants and diasporas to fu...', 'commitment': 'We commit to empower migrants and diasporas to cat...', 'actions': [10 items]}),\n",
       " EvalDict({'id': '20', 'title': 'Promote faster, safer and cheaper transfer of remi...', 'commitment': 'We commit to promote faster, safer and cheaper rem...', 'actions': [9 items]}),\n",
       " EvalDict({'id': '21', 'title': 'Cooperate in facilitating safe and dignified retur...', 'commitment': 'We commit to facilitate and cooperate for safe and...', 'actions': [9 items]}),\n",
       " EvalDict({'id': '22', 'title': 'Establish mechanisms for the portability of social...', 'commitment': 'We commit to assist migrant workers at all skills ...', 'actions': [3 items]}),\n",
       " EvalDict({'id': '23', 'title': 'Strengthen international cooperation and global pa...', 'commitment': 'We commit to support each other in the realization...', 'actions': [5 items]})]"
      ]
     },
     "execution_count": null,
     "metadata": {},
     "output_type": "execute_result"
    }
   ],
   "source": [
    "#| eval: false\n",
    "eval_data.gcm_objectives"
   ]
  },
  {
   "cell_type": "markdown",
   "id": "dade1e9a",
   "metadata": {},
   "source": [
    "But you can access the data via properties using the \"dotted“ notation:"
   ]
  },
  {
   "cell_type": "code",
   "execution_count": null,
   "id": "6720151a",
   "metadata": {},
   "outputs": [
    {
     "data": {
      "text/markdown": [
       "```json\n",
       "EvalDict({'id': '1', 'title': 'Collect and utilize accurate and disaggregated dat...', 'commitment': 'We commit to strengthen the global evidence base o...', 'actions': [11 items]})\n",
       "```"
      ],
      "text/plain": [
       "EvalDict({'id': '1', 'title': 'Collect and utilize accurate and disaggregated dat...', 'commitment': 'We commit to strengthen the global evidence base o...', 'actions': [11 items]})"
      ]
     },
     "execution_count": null,
     "metadata": {},
     "output_type": "execute_result"
    }
   ],
   "source": [
    "#| eval: false\n",
    "eval_data.gcm_objectives[0]"
   ]
  },
  {
   "cell_type": "code",
   "execution_count": null,
   "id": "6d80afd0",
   "metadata": {},
   "outputs": [
    {
     "data": {
      "text/html": [
       "<pre style=\"white-space:pre;overflow-x:auto;line-height:normal;font-family:Menlo,'DejaVu Sans Mono',consolas,'Courier New',monospace\">Title: Collect and utilize accurate and disaggregated data as a basis for evidence-based policies\n",
       "</pre>\n"
      ],
      "text/plain": [
       "Title: Collect and utilize accurate and disaggregated data as a basis for evidence-based policies\n"
      ]
     },
     "metadata": {},
     "output_type": "display_data"
    },
    {
     "data": {
      "text/html": [
       "<pre style=\"white-space:pre;overflow-x:auto;line-height:normal;font-family:Menlo,'DejaVu Sans Mono',consolas,'Courier New',monospace\">Commitment: We commit to strengthen the global evidence base on international migration by improving and investing \n",
       "in the collection, analysis and dissemination of accurate, reliable and comparable data, disaggregated by sex, age,\n",
       "migration status and other characteristics relevant in national contexts, while upholding the right to privacy \n",
       "under international human rights law and protecting personal data. We further commit to ensure that this data \n",
       "fosters research, guides coherent and evidence-based policymaking and well-informed public discourse, and allows \n",
       "for effective monitoring and evaluation of the implementation of commitments over time.\n",
       "</pre>\n"
      ],
      "text/plain": [
       "Commitment: We commit to strengthen the global evidence base on international migration by improving and investing \n",
       "in the collection, analysis and dissemination of accurate, reliable and comparable data, disaggregated by sex, age,\n",
       "migration status and other characteristics relevant in national contexts, while upholding the right to privacy \n",
       "under international human rights law and protecting personal data. We further commit to ensure that this data \n",
       "fosters research, guides coherent and evidence-based policymaking and well-informed public discourse, and allows \n",
       "for effective monitoring and evaluation of the implementation of commitments over time.\n"
      ]
     },
     "metadata": {},
     "output_type": "display_data"
    },
    {
     "data": {
      "text/html": [
       "<pre style=\"white-space:pre;overflow-x:auto;line-height:normal;font-family:Menlo,'DejaVu Sans Mono',consolas,'Courier New',monospace\">First action: <span style=\"font-weight: bold\">{</span><span style=\"color: #008000; text-decoration-color: #008000\">'id'</span>: <span style=\"color: #008000; text-decoration-color: #008000\">'a'</span>, <span style=\"color: #008000; text-decoration-color: #008000\">'description'</span>: <span style=\"color: #008000; text-decoration-color: #008000\">'Elaborate and implement a comprehensive strategy for improving migration </span>\n",
       "<span style=\"color: #008000; text-decoration-color: #008000\">data at the local, national, regional and global levels, with the participation of all relevant stakeholders, under</span>\n",
       "<span style=\"color: #008000; text-decoration-color: #008000\">the guidance of the Statistical Commission of the United Nations, by harmonizing methodologies for data collection,</span>\n",
       "<span style=\"color: #008000; text-decoration-color: #008000\">and strengthening analysis and dissemination of migration-related data and indicators'</span><span style=\"font-weight: bold\">}</span>\n",
       "</pre>\n"
      ],
      "text/plain": [
       "First action: \u001b[1m{\u001b[0m\u001b[32m'id'\u001b[0m: \u001b[32m'a'\u001b[0m, \u001b[32m'description'\u001b[0m: \u001b[32m'Elaborate and implement a comprehensive strategy for improving migration \u001b[0m\n",
       "\u001b[32mdata at the local, national, regional and global levels, with the participation of all relevant stakeholders, under\u001b[0m\n",
       "\u001b[32mthe guidance of the Statistical Commission of the United Nations, by harmonizing methodologies for data collection,\u001b[0m\n",
       "\u001b[32mand strengthening analysis and dissemination of migration-related data and indicators'\u001b[0m\u001b[1m}\u001b[0m\n"
      ]
     },
     "metadata": {},
     "output_type": "display_data"
    }
   ],
   "source": [
    "#| eval: false\n",
    "print(f'Title: {eval_data.gcm_objectives[0].title}')\n",
    "print(f'Commitment: {eval_data.gcm_objectives[0].commitment}')\n",
    "print(f'First action: {eval_data.gcm_objectives[0].actions[0]}')"
   ]
  }
 ],
 "metadata": {
  "kernelspec": {
   "display_name": "python3",
   "language": "python",
   "name": "python3"
  }
 },
 "nbformat": 4,
 "nbformat_minor": 5
}
