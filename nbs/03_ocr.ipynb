{
 "cells": [
  {
   "cell_type": "markdown",
   "metadata": {},
   "source": [
    "# OCR\n",
    "\n",
    "> OCR evaluation reports"
   ]
  },
  {
   "cell_type": "code",
   "execution_count": null,
   "metadata": {},
   "outputs": [],
   "source": [
    "#| default_exp ocr"
   ]
  },
  {
   "cell_type": "code",
   "execution_count": null,
   "metadata": {},
   "outputs": [],
   "source": [
    "#| export\n",
    "import os\n",
    "import re\n",
    "import time\n",
    "from io import BytesIO\n",
    "from dotenv import load_dotenv\n",
    "import base64\n",
    "from fastcore.all import *\n",
    "from rich import print\n",
    "import urllib.parse\n",
    "from pathlib import Path\n",
    "from tqdm import tqdm\n",
    "\n",
    "import pandas as pd\n",
    "from mistralai import Mistral\n",
    "from PIL import Image\n",
    "# from tqdm import tqdm\n",
    "\n",
    "from evaluatr.readers import load_evals\n"
   ]
  },
  {
   "cell_type": "code",
   "execution_count": null,
   "metadata": {},
   "outputs": [],
   "source": [
    "#| export\n",
    "load_dotenv()\n",
    "mistral_api_key = os.getenv(\"MISTRAL_API_KEY\")"
   ]
  },
  {
   "cell_type": "code",
   "execution_count": null,
   "metadata": {},
   "outputs": [],
   "source": [
    "#| exports\n",
    "def get_doc_subtype(\n",
    "    id:str, # ID of the evaluation\n",
    "    fname:str, # Name of the file\n",
    "    evals # Evaluations data\n",
    "    )->str: # Document Subtype\n",
    "    \"Get Document Subtype for a given file in the evaluation dataset\"\n",
    "    eval_data = L(evals).filter(lambda x: x['id']==id)\n",
    "    if not eval_data: return None\n",
    "    \n",
    "    docs = L(eval_data[0]['docs'])\n",
    "    matches = docs.filter(lambda x: Path(x['File URL']).name==fname)\n",
    "    return matches[0]['Document Subtype'] if matches else None"
   ]
  },
  {
   "cell_type": "markdown",
   "metadata": {},
   "source": [
    "Given an evaluation `id` and a `pdf` file name of one of its supporting doc we can check its `subtype`.\n",
    "\n",
    "For instance, for the \"Final Evaluation of the EU-IOM Joint ...\" evaluation:"
   ]
  },
  {
   "cell_type": "code",
   "execution_count": null,
   "metadata": {},
   "outputs": [
    {
     "data": {
      "text/plain": [
       "[{'id': '49d2fba781b6a7c0d94577479636ee6f',\n",
       "  'docs': [{'Document Subtype': 'Evaluation report',\n",
       "    'File URL': 'https://evaluation.iom.int/sites/g/files/tmzbdl151/files/docs/resources/Abridged%20Evaluation%20Report_%20Final_Olta%20NDOJA.pdf',\n",
       "    'File description': 'Evaluation Report'},\n",
       "   {'Document Subtype': 'Evaluation brief',\n",
       "    'File URL': 'https://evaluation.iom.int/sites/g/files/tmzbdl151/files/docs/resources/Evaluation%20Learning%20Brief_Final_Olta%20NDOJA.pdf',\n",
       "    'File description': 'Evaluation Brief'},\n",
       "   {'Document Subtype': 'Annexes',\n",
       "    'File URL': 'https://evaluation.iom.int/sites/g/files/tmzbdl151/files/docs/resources/Final%20Evaluation%20Report%20Final_Olta%20NDOJA.pdf',\n",
       "    'File description': 'Abridged Report'},\n",
       "   {'Document Subtype': 'Management response',\n",
       "    'File URL': 'https://evaluation.iom.int/sites/g/files/tmzbdl151/files/docs/resources/HoA%20EU%20JI%20Final%20Eval%20-%20Management%20Response%20Matrix%20-%20Final.pdf',\n",
       "    'File description': 'Management Response'}],\n",
       "  'meta': {'Title': 'Final Evaluation of the EU-IOM Joint Initiative for migrant protection and reintegration in the horn of Africa',\n",
       "   'Year': 2023,\n",
       "   'Author': 'PPMI Group',\n",
       "   'Best Practicesor Lessons Learnt': 'Yes',\n",
       "   'Date of Publication': '2023-03-17',\n",
       "   'Donor': 'European Union',\n",
       "   'Evaluation Brief': 'Yes',\n",
       "   'Evaluation Commissioner': 'IOM',\n",
       "   'Evaluation Coverage': 'Regional',\n",
       "   'Evaluation Period From Date': 'nan',\n",
       "   'Evaluation Period To Date': 'NaT',\n",
       "   'Executive Summary': 'Yes',\n",
       "   'External Version of the Report': 'No',\n",
       "   'Languages': 'English',\n",
       "   'Migration Thematic Areas': 'Assistance to vulnerable migrants, Return and AVRR',\n",
       "   'Name of Project(s) Being Evaluated': nan,\n",
       "   'Number of Pages Excluding annexes': nan,\n",
       "   'Other Documents Included': nan,\n",
       "   'Project Code': 'RT.1354',\n",
       "   'Countries Covered': ['Djibouti', 'Ethiopia', 'Somalia', 'South Sudan'],\n",
       "   'Regions Covered': 'RO Nairobi',\n",
       "   'Relevant Crosscutting Themes': 'Accountability to affected populations, Environment, Gender, Mainstreaming protection into crisis response, Principled humanitarian action, Rights-based approach',\n",
       "   'Report Published': 'Yes',\n",
       "   'Terms of Reference': 'No',\n",
       "   'Type of Evaluation Scope': 'Programme/Project',\n",
       "   'Type of Evaluation Timing': 'Final (at the end of the project/programme)',\n",
       "   'Type of Evaluator': 'External',\n",
       "   'Level of Evaluation': 'Decentralized',\n",
       "   'Document Subtype': 'Evaluation report, Evaluation brief, Annexes, Management response',\n",
       "   'File URL': 'https://evaluation.iom.int/sites/g/files/tmzbdl151/files/docs/resources/Abridged%20Evaluation%20Report_%20Final_Olta%20NDOJA.pdf,   https://evaluation.iom.int/sites/g/files/tmzbdl151/files/docs/resources/Evaluation%20Learning%20Brief_Final_Olta%20NDOJA.pdf,   https://evaluation.iom.int/sites/g/files/tmzbdl151/files/docs/resources/Final%20Evaluation%20Report%20Final_Olta%20NDOJA.pdf,   https://evaluation.iom.int/sites/g/files/tmzbdl151/files/docs/resources/HoA%20EU%20JI%20Final%20Eval%20-%20Management%20Response%20Matrix%20-%20Final.pdf',\n",
       "   'File description': 'Evaluation Report , Evaluation Brief, Abridged Report, Management Response',\n",
       "   'Management response': 'No',\n",
       "   'Date added': 'Fri, 05/26/2023 - 12:38',\n",
       "   'Metaevaluation': '2020-24',\n",
       "   'exclude': nan,\n",
       "   'reason': nan}}]"
      ]
     },
     "execution_count": null,
     "metadata": {},
     "output_type": "execute_result"
    }
   ],
   "source": [
    "#| eval: false\n",
    "fname_json = '../_data/output/evaluations.json'\n",
    "path_pdf = Path('../_data/pdf_library')\n",
    "\n",
    "title = 'Final Evaluation of the EU-IOM Joint Initiative for migrant protection and reintegration in the Horn of Africa'\n",
    "evals = load_evals(fname_json)\n",
    "\n",
    "results = [o for o in evals.filter(lambda x: title.lower() in x['meta']['Title'].lower())]; results"
   ]
  },
  {
   "cell_type": "code",
   "execution_count": null,
   "metadata": {},
   "outputs": [
    {
     "data": {
      "text/html": [
       "<pre style=\"white-space:pre;overflow-x:auto;line-height:normal;font-family:Menlo,'DejaVu Sans Mono',consolas,'Courier New',monospace\">Name: Evaluation%20Learning%20Brief_Final_Olta%20NDOJA.pdf\n",
       "Subtype: Evaluation brief\n",
       "</pre>\n"
      ],
      "text/plain": [
       "Name: Evaluation%20Learning%20Brief_Final_Olta%20NDOJA.pdf\n",
       "Subtype: Evaluation brief\n"
      ]
     },
     "metadata": {},
     "output_type": "display_data"
    },
    {
     "data": {
      "text/html": [
       "<pre style=\"white-space:pre;overflow-x:auto;line-height:normal;font-family:Menlo,'DejaVu Sans Mono',consolas,'Courier New',monospace\">Name: HoA%20EU%20JI%20Final%20Eval%<span style=\"color: #008080; text-decoration-color: #008080; font-weight: bold\">20</span>-%20Management%20Response%20Matrix%<span style=\"color: #008080; text-decoration-color: #008080; font-weight: bold\">20</span>-%20Final.pdf\n",
       "Subtype: Management response\n",
       "</pre>\n"
      ],
      "text/plain": [
       "Name: HoA%20EU%20JI%20Final%20Eval%\u001b[1;36m20\u001b[0m-%20Management%20Response%20Matrix%\u001b[1;36m20\u001b[0m-%20Final.pdf\n",
       "Subtype: Management response\n"
      ]
     },
     "metadata": {},
     "output_type": "display_data"
    },
    {
     "data": {
      "text/html": [
       "<pre style=\"white-space:pre;overflow-x:auto;line-height:normal;font-family:Menlo,'DejaVu Sans Mono',consolas,'Courier New',monospace\">Name: Abridged%20Evaluation%20Report_%20Final_Olta%20NDOJA.pdf\n",
       "Subtype: Evaluation report\n",
       "</pre>\n"
      ],
      "text/plain": [
       "Name: Abridged%20Evaluation%20Report_%20Final_Olta%20NDOJA.pdf\n",
       "Subtype: Evaluation report\n"
      ]
     },
     "metadata": {},
     "output_type": "display_data"
    },
    {
     "data": {
      "text/html": [
       "<pre style=\"white-space:pre;overflow-x:auto;line-height:normal;font-family:Menlo,'DejaVu Sans Mono',consolas,'Courier New',monospace\">Name: Final%20Evaluation%20Report%20Final_Olta%20NDOJA.pdf\n",
       "Subtype: Annexes\n",
       "</pre>\n"
      ],
      "text/plain": [
       "Name: Final%20Evaluation%20Report%20Final_Olta%20NDOJA.pdf\n",
       "Subtype: Annexes\n"
      ]
     },
     "metadata": {},
     "output_type": "display_data"
    }
   ],
   "source": [
    "#| eval: false\n",
    "id = '49d2fba781b6a7c0d94577479636ee6f'\n",
    "for o in path_pdf.ls().filter(lambda x: x.name == id)[0].ls():\n",
    "    print(f'Name: {o.name}\\nSubtype: {get_doc_subtype(id, o.name, evals)}')"
   ]
  },
  {
   "cell_type": "code",
   "execution_count": null,
   "metadata": {},
   "outputs": [],
   "source": [
    "#| export\n",
    "src_dir = Path(\"../_data/\")"
   ]
  },
  {
   "cell_type": "markdown",
   "metadata": {},
   "source": [
    "## Mistral client"
   ]
  },
  {
   "cell_type": "code",
   "execution_count": null,
   "metadata": {},
   "outputs": [],
   "source": [
    "#| export\n",
    "def ocr(\n",
    "    pdf_path:Union[Path,str], # Path to the PDF file to process\n",
    "    model:str=\"mistral-ocr-latest\", # Model name to use for OCR processing\n",
    "    include_images:bool=True, # Whether to include base64-encoded images in the response\n",
    "    api_key:str=mistral_api_key # Mistral API key for authentication\n",
    "):\n",
    "    \"Upload a PDF file and process it with OCR in one go\"\n",
    "    if isinstance(pdf_path, str): pdf_path = Path(pdf_path)\n",
    "    cli = Mistral(api_key=api_key)\n",
    "    \n",
    "    uploaded_pdf = cli.files.upload(\n",
    "        file={\n",
    "            \"file_name\": pdf_path.stem,\n",
    "            \"content\": pdf_path.read_bytes(),\n",
    "        },\n",
    "        purpose=\"ocr\"\n",
    "    )\n",
    "\n",
    "    signed_url = cli.files.get_signed_url(file_id=uploaded_pdf.id)\n",
    "    \n",
    "    return cli.ocr.process(\n",
    "        model=model,\n",
    "        document={\n",
    "            \"type\": \"document_url\",\n",
    "            \"document_url\": signed_url.url,\n",
    "        },\n",
    "        include_image_base64=include_images\n",
    "    )"
   ]
  },
  {
   "cell_type": "code",
   "execution_count": null,
   "metadata": {},
   "outputs": [],
   "source": [
    "# pdf_report = '../_data/pdf_library/49d2fba781b6a7c0d94577479636ee6f/Abridged%20Evaluation%20Report_%20Final_Olta%20NDOJA.pdf'"
   ]
  },
  {
   "cell_type": "code",
   "execution_count": null,
   "metadata": {},
   "outputs": [],
   "source": [
    "# Note: filename will be cleaned upstream in a next version\n",
    "#| exports\n",
    "def clean_pdf_name(pdf_name: str) -> str:\n",
    "    \"\"\"\n",
    "    Clean PDF name to create folder-friendly string.\n",
    "    Removes special characters and spaces, replaces with underscores.\n",
    "    \"\"\"\n",
    "    # Remove URL encoding\n",
    "    import urllib.parse\n",
    "    pdf_name = urllib.parse.unquote(pdf_name)\n",
    "    \n",
    "    # Replace spaces and special characters with underscores\n",
    "    # Replace any character that is not a word character (\\w), whitespace (\\s), or hyphen (-) with underscore\n",
    "    cleaned = re.sub(r'[^\\w\\s-]', '_', pdf_name)\n",
    "    \n",
    "    # Replace any sequence of hyphens or whitespace with a single underscore\n",
    "    cleaned = re.sub(r'[-\\s]+', '_', cleaned)\n",
    "    \n",
    "    # Replace multiple consecutive underscores with a single underscore\n",
    "    cleaned = re.sub(r'_+', '_', cleaned)\n",
    "    cleaned = cleaned.strip('_')  # Remove leading/trailing underscores\n",
    "    \n",
    "    return cleaned.lower()"
   ]
  },
  {
   "cell_type": "code",
   "execution_count": null,
   "metadata": {},
   "outputs": [
    {
     "data": {
      "text/plain": [
       "'final_evaluation_report_final_olta_ndoja_pdf'"
      ]
     },
     "execution_count": null,
     "metadata": {},
     "output_type": "execute_result"
    }
   ],
   "source": [
    "clean_pdf_name(\"Final%20Evaluation%20Report%20Final_Olta%20NDOJA.pdf\")"
   ]
  },
  {
   "cell_type": "code",
   "execution_count": null,
   "metadata": {},
   "outputs": [],
   "source": [
    "# Notes, brainstorm\n",
    "## we can fix the headings hierarchy passing the headings to an LLM\n",
    "## we can also pass the toc if found\n",
    "## we could then replace each heading with the corresponding fixed text + the page number\n",
    "## Hence we could ask an LLM to propose semantic chunks based on titles, level and numbe or pages"
   ]
  },
  {
   "cell_type": "code",
   "execution_count": null,
   "metadata": {},
   "outputs": [],
   "source": [
    "# pdf_report"
   ]
  },
  {
   "cell_type": "code",
   "execution_count": null,
   "metadata": {},
   "outputs": [],
   "source": [
    "#| eval: false\n",
    "r = ocr(pdf_report)"
   ]
  },
  {
   "cell_type": "code",
   "execution_count": null,
   "metadata": {},
   "outputs": [
    {
     "data": {
      "text/plain": [
       "31"
      ]
     },
     "execution_count": null,
     "metadata": {},
     "output_type": "execute_result"
    }
   ],
   "source": [
    "#| eval: false\n",
    "len(r.pages)"
   ]
  },
  {
   "cell_type": "code",
   "execution_count": null,
   "metadata": {},
   "outputs": [],
   "source": [
    "#| eval: false\n",
    "r.pages[2].markdown"
   ]
  },
  {
   "cell_type": "code",
   "execution_count": null,
   "metadata": {},
   "outputs": [
    {
     "data": {
      "text/html": [
       "<pre style=\"white-space:pre;overflow-x:auto;line-height:normal;font-family:Menlo,'DejaVu Sans Mono',consolas,'Courier New',monospace\"># <span style=\"color: #008080; text-decoration-color: #008080; font-weight: bold\">1</span>. Introduction \n",
       "\n",
       "In <span style=\"color: #008080; text-decoration-color: #008080; font-weight: bold\">2016</span>, the EU and IOM launched the EU-IOM Joint Initiative for Migrant Protection and Reintegration, with as \n",
       "overall objective <span style=\"color: #008000; text-decoration-color: #008000\">\"To contribute to facilitating orderly, safe, regular and rights-based migration through the </span>\n",
       "<span style=\"color: #008000; text-decoration-color: #008000\">facilitation of dignified voluntary return and the implementation of development-focused and sustainable </span>\n",
       "<span style=\"color: #008000; text-decoration-color: #008000\">reintegration policies and processes\"</span>. The EU-IOM Joint Initiative in the Horn of Africa <span style=\"font-weight: bold\">(</span>JI-HOA<span style=\"font-weight: bold\">)</span> $<span style=\"font-weight: bold\">{</span> <span style=\"font-weight: bold\">}</span>^<span style=\"font-weight: bold\">{</span><span style=\"color: #008080; text-decoration-color: #008080; font-weight: bold\">1</span><span style=\"font-weight: bold\">}</span>$ \n",
       "commenced in March <span style=\"color: #008080; text-decoration-color: #008080; font-weight: bold\">2017</span> in the Khartoum Process countries, with a focus on Djibouti, Ethiopia, Somalia, and Sudan. \n",
       "$<span style=\"font-weight: bold\">{</span> <span style=\"font-weight: bold\">}</span>^<span style=\"font-weight: bold\">{</span><span style=\"color: #008080; text-decoration-color: #008080; font-weight: bold\">2</span><span style=\"font-weight: bold\">}</span>$ The programme was coordinated by a Regional Coordination Unit <span style=\"font-weight: bold\">(</span>RCU<span style=\"font-weight: bold\">)</span> based in the IOM Regional Office for \n",
       "the East and Horn of Africa region <span style=\"font-weight: bold\">(</span>Nairobi, Kenya<span style=\"font-weight: bold\">)</span>.\n",
       "\n",
       "In accordance with the programme planning, the JI-HoA underwent a Mid-Term Evaluation in <span style=\"color: #008080; text-decoration-color: #008080; font-weight: bold\">2019</span> and a Final \n",
       "Independent Evaluation in <span style=\"color: #008080; text-decoration-color: #008080; font-weight: bold\">2022</span>/<span style=\"color: #008080; text-decoration-color: #008080; font-weight: bold\">2023</span>, covering the <span style=\"color: #008080; text-decoration-color: #008080; font-weight: bold\">2017</span>-<span style=\"color: #008080; text-decoration-color: #008080; font-weight: bold\">2022</span> period, conducted by PPMI Group and commissioned by \n",
       "IOM. The evaluation covered the four JI core countries in the HoA, namely Ethiopia, Somalia, Sudan and Djibouti, as\n",
       "well as the RCU based in Kenya given regionally implemented and coordinated activities, looking at all pillars of \n",
       "the Action <span style=\"font-weight: bold\">(</span>migration data; capacity building; awareness raising; protection and voluntary assisted return; and \n",
       "individual and communitybased reintegration<span style=\"font-weight: bold\">)</span>.\n",
       "\n",
       "The final evaluation assessed the relevance, effectiveness, efficiency, coherence, and sustainability of the \n",
       "programme, with an eye on informing future programming. To this end, the evaluation assessed the achievements of \n",
       "the programme against its key objectives, including a re-examination of the relevance of the objectives and of the \n",
       "design. It also identified factors that have facilitated or impeded the achievement of the objectives.\n",
       "\n",
       "To gather the necessary data, the evaluation relied on desk research, interviews with stakeholders, focus groups \n",
       "with beneficiaries, and a validation workshop. Furthermore, a range of monitoring and evaluation activities were \n",
       "already implemented under the JI-HoA. The results of these M\\&amp;E activities formed an important data source for the \n",
       "current evaluation.\n",
       "\n",
       "The current Report presents the findings of the evaluation against the evaluation criteria and provides holistic \n",
       "conclusions and recommendations to build on the achievements of the JI-HoA and improve future programming.\n",
       "\n",
       "<span style=\"font-weight: bold\">[</span>^<span style=\"color: #008080; text-decoration-color: #008080; font-weight: bold\">0</span><span style=\"font-weight: bold\">]</span>\n",
       "<span style=\"font-weight: bold\">[</span>^<span style=\"color: #008080; text-decoration-color: #008080; font-weight: bold\">0</span><span style=\"font-weight: bold\">]</span>:    $<span style=\"font-weight: bold\">{</span> <span style=\"font-weight: bold\">}</span>^<span style=\"font-weight: bold\">{</span><span style=\"color: #008080; text-decoration-color: #008080; font-weight: bold\">1</span><span style=\"font-weight: bold\">}</span>$ Formal title: Facility on Sustainable and Dignified Return and Reintegration in Support of the \n",
       "Khartoum Process\n",
       "    $<span style=\"font-weight: bold\">{</span> <span style=\"font-weight: bold\">}</span>^<span style=\"font-weight: bold\">{</span><span style=\"color: #008080; text-decoration-color: #008080; font-weight: bold\">2</span><span style=\"font-weight: bold\">}</span>$ As per the project's Description of the Action, some limited activities mainly involving assisted \n",
       "voluntary return and reintegration <span style=\"font-weight: bold\">(</span>AVRR<span style=\"font-weight: bold\">)</span> were also carried out in other Khartoum Process countries <span style=\"font-weight: bold\">(</span>Eritrea as \n",
       "conditions allow, Kenya, South Sudan, and Uganda<span style=\"font-weight: bold\">)</span> and from countries along the Southern migration routes <span style=\"font-weight: bold\">(</span>notably \n",
       "Malawi, Mozambique, Zambia, Zimbabwe, South Africa and Tanzania<span style=\"font-weight: bold\">)</span>\n",
       "</pre>\n"
      ],
      "text/plain": [
       "# \u001b[1;36m1\u001b[0m. Introduction \n",
       "\n",
       "In \u001b[1;36m2016\u001b[0m, the EU and IOM launched the EU-IOM Joint Initiative for Migrant Protection and Reintegration, with as \n",
       "overall objective \u001b[32m\"To contribute to facilitating orderly, safe, regular and rights-based migration through the \u001b[0m\n",
       "\u001b[32mfacilitation of dignified voluntary return and the implementation of development-focused and sustainable \u001b[0m\n",
       "\u001b[32mreintegration policies and processes\"\u001b[0m. The EU-IOM Joint Initiative in the Horn of Africa \u001b[1m(\u001b[0mJI-HOA\u001b[1m)\u001b[0m $\u001b[1m{\u001b[0m \u001b[1m}\u001b[0m^\u001b[1m{\u001b[0m\u001b[1;36m1\u001b[0m\u001b[1m}\u001b[0m$ \n",
       "commenced in March \u001b[1;36m2017\u001b[0m in the Khartoum Process countries, with a focus on Djibouti, Ethiopia, Somalia, and Sudan. \n",
       "$\u001b[1m{\u001b[0m \u001b[1m}\u001b[0m^\u001b[1m{\u001b[0m\u001b[1;36m2\u001b[0m\u001b[1m}\u001b[0m$ The programme was coordinated by a Regional Coordination Unit \u001b[1m(\u001b[0mRCU\u001b[1m)\u001b[0m based in the IOM Regional Office for \n",
       "the East and Horn of Africa region \u001b[1m(\u001b[0mNairobi, Kenya\u001b[1m)\u001b[0m.\n",
       "\n",
       "In accordance with the programme planning, the JI-HoA underwent a Mid-Term Evaluation in \u001b[1;36m2019\u001b[0m and a Final \n",
       "Independent Evaluation in \u001b[1;36m2022\u001b[0m/\u001b[1;36m2023\u001b[0m, covering the \u001b[1;36m2017\u001b[0m-\u001b[1;36m2022\u001b[0m period, conducted by PPMI Group and commissioned by \n",
       "IOM. The evaluation covered the four JI core countries in the HoA, namely Ethiopia, Somalia, Sudan and Djibouti, as\n",
       "well as the RCU based in Kenya given regionally implemented and coordinated activities, looking at all pillars of \n",
       "the Action \u001b[1m(\u001b[0mmigration data; capacity building; awareness raising; protection and voluntary assisted return; and \n",
       "individual and communitybased reintegration\u001b[1m)\u001b[0m.\n",
       "\n",
       "The final evaluation assessed the relevance, effectiveness, efficiency, coherence, and sustainability of the \n",
       "programme, with an eye on informing future programming. To this end, the evaluation assessed the achievements of \n",
       "the programme against its key objectives, including a re-examination of the relevance of the objectives and of the \n",
       "design. It also identified factors that have facilitated or impeded the achievement of the objectives.\n",
       "\n",
       "To gather the necessary data, the evaluation relied on desk research, interviews with stakeholders, focus groups \n",
       "with beneficiaries, and a validation workshop. Furthermore, a range of monitoring and evaluation activities were \n",
       "already implemented under the JI-HoA. The results of these M\\&E activities formed an important data source for the \n",
       "current evaluation.\n",
       "\n",
       "The current Report presents the findings of the evaluation against the evaluation criteria and provides holistic \n",
       "conclusions and recommendations to build on the achievements of the JI-HoA and improve future programming.\n",
       "\n",
       "\u001b[1m[\u001b[0m^\u001b[1;36m0\u001b[0m\u001b[1m]\u001b[0m\n",
       "\u001b[1m[\u001b[0m^\u001b[1;36m0\u001b[0m\u001b[1m]\u001b[0m:    $\u001b[1m{\u001b[0m \u001b[1m}\u001b[0m^\u001b[1m{\u001b[0m\u001b[1;36m1\u001b[0m\u001b[1m}\u001b[0m$ Formal title: Facility on Sustainable and Dignified Return and Reintegration in Support of the \n",
       "Khartoum Process\n",
       "    $\u001b[1m{\u001b[0m \u001b[1m}\u001b[0m^\u001b[1m{\u001b[0m\u001b[1;36m2\u001b[0m\u001b[1m}\u001b[0m$ As per the project's Description of the Action, some limited activities mainly involving assisted \n",
       "voluntary return and reintegration \u001b[1m(\u001b[0mAVRR\u001b[1m)\u001b[0m were also carried out in other Khartoum Process countries \u001b[1m(\u001b[0mEritrea as \n",
       "conditions allow, Kenya, South Sudan, and Uganda\u001b[1m)\u001b[0m and from countries along the Southern migration routes \u001b[1m(\u001b[0mnotably \n",
       "Malawi, Mozambique, Zambia, Zimbabwe, South Africa and Tanzania\u001b[1m)\u001b[0m\n"
      ]
     },
     "metadata": {},
     "output_type": "display_data"
    }
   ],
   "source": [
    "#| eval: false \n",
    "print(r.pages[3].markdown)"
   ]
  },
  {
   "cell_type": "code",
   "execution_count": null,
   "metadata": {},
   "outputs": [
    {
     "data": {
      "text/html": [
       "<pre style=\"white-space:pre;overflow-x:auto;line-height:normal;font-family:Menlo,'DejaVu Sans Mono',consolas,'Courier New',monospace\">According to the RA Monitoring and Satisfaction surveys, <span style=\"color: #008080; text-decoration-color: #008080; font-weight: bold\">56</span>\\% of the surveyed returnees were satisfied or very \n",
       "satisfied with the reintegration assistance support provided by the JI-HoA $<span style=\"font-weight: bold\">{</span> <span style=\"font-weight: bold\">}</span>^<span style=\"font-weight: bold\">{</span><span style=\"color: #008080; text-decoration-color: #008080; font-weight: bold\">17</span><span style=\"font-weight: bold\">}</span>$.\n",
       "\n",
       "Focus Group Discussions highlighted the importance of the economic assistance to enable returnees to develop \n",
       "sources of income <span style=\"font-weight: bold\">(</span>e.g. through start-up businesses or employment<span style=\"font-weight: bold\">)</span>. Since returnees are coming back usually \n",
       "<span style=\"color: #008000; text-decoration-color: #008000\">\"empty-handed\"</span>, they are experiencing shame, guilt, and are stigmatised by their communities and relatives. The \n",
       "economic support offered by the JI-HoA not only provides them with resources to start their business but also \n",
       "restores their dignity and self-trust $<span style=\"font-weight: bold\">{</span> <span style=\"font-weight: bold\">}</span>^<span style=\"font-weight: bold\">{</span><span style=\"color: #008080; text-decoration-color: #008080; font-weight: bold\">18</span><span style=\"font-weight: bold\">}</span>$.\n",
       "\n",
       "In the Focus Group Discussions <span style=\"font-weight: bold\">(</span>FGDs<span style=\"font-weight: bold\">)</span>, some returnees pointed out that the overall value of the economic assistance\n",
       "was not enough. $<span style=\"font-weight: bold\">{</span> <span style=\"font-weight: bold\">}</span>^<span style=\"font-weight: bold\">{</span><span style=\"color: #008080; text-decoration-color: #008080; font-weight: bold\">19</span><span style=\"font-weight: bold\">}</span>$ This was also confirmed by a stakeholder from Sudan, who suggested that returnees needed\n",
       "more money to satisfy their livelihood during the time of planting, growing and harvesting, since they put most of \n",
       "the microbusiness support into the producing and often have no other sources of income $<span style=\"font-weight: bold\">{</span> <span style=\"font-weight: bold\">}</span>^<span style=\"font-weight: bold\">{</span><span style=\"color: #008080; text-decoration-color: #008080; font-weight: bold\">20</span><span style=\"font-weight: bold\">}</span>$. The \n",
       "microbusiness assistance did not always correspond to the knowledge of the recipient or the local context. Namely, \n",
       "a few of the returnees revealed that they were not consulted or received different support than they selected, so \n",
       "they had no other option, but just to accept the support $<span style=\"font-weight: bold\">{</span> <span style=\"font-weight: bold\">}</span>^<span style=\"font-weight: bold\">{</span><span style=\"color: #008080; text-decoration-color: #008080; font-weight: bold\">21</span><span style=\"font-weight: bold\">}</span>$.\n",
       "\n",
       "In terms of psychosocial needs, research results presented at the Research and Evidence Facility <span style=\"font-weight: bold\">(</span>REF<span style=\"font-weight: bold\">)</span> conference \n",
       "of June <span style=\"color: #008080; text-decoration-color: #008080; font-weight: bold\">2022</span> indicated that the incidence of Common Mental Disorders <span style=\"font-weight: bold\">(</span>CMD<span style=\"font-weight: bold\">)</span> is significantly higher among JI-HoA \n",
       "beneficiaries in Ethiopia when compared with non-migrant control group $<span style=\"font-weight: bold\">{</span> <span style=\"font-weight: bold\">}</span>^<span style=\"font-weight: bold\">{</span><span style=\"color: #008080; text-decoration-color: #008080; font-weight: bold\">22</span><span style=\"font-weight: bold\">}</span>$. The high prevalence of CMD among\n",
       "returned migrants from the Middle East was also found in another study $<span style=\"font-weight: bold\">{</span> <span style=\"font-weight: bold\">}</span>^<span style=\"font-weight: bold\">{</span><span style=\"color: #008080; text-decoration-color: #008080; font-weight: bold\">23</span><span style=\"font-weight: bold\">}</span>$. This indicates that irregular \n",
       "migrants are much more affected by the CMD compared to people who do not migrate. The specific focus of the JI-HoA \n",
       "on MHPSS therefore addresses key difficulties faced by migrants.\n",
       "\n",
       "However, in the execution, some gaps were found in the correspondence of specific activities to returnees' \n",
       "psychosocial needs. The JI-HoA Programme's Lessons Learned from the Psychosocial Support Component Report noted \n",
       "gaps in the post-return psychosocial support <span style=\"font-weight: bold\">(</span>e.g., lack of MHPSS service, unclear information about compensation \n",
       "of the treatment, high cost, stigma, and low awareness about MHPSS needs among communities<span style=\"font-weight: bold\">)</span> $<span style=\"font-weight: bold\">{</span> <span style=\"font-weight: bold\">}</span>^<span style=\"font-weight: bold\">{</span><span style=\"color: #008080; text-decoration-color: #008080; font-weight: bold\">24</span><span style=\"font-weight: bold\">}</span>$. The \n",
       "post-return psychosocial support was not wellintegrated into the main documents of the JI-HoA programme $<span style=\"font-weight: bold\">{</span> <span style=\"font-weight: bold\">}</span>^<span style=\"font-weight: bold\">{</span><span style=\"color: #008080; text-decoration-color: #008080; font-weight: bold\">25</span><span style=\"font-weight: bold\">}</span>$.\n",
       "This lack of attention led to the lack of\n",
       "\n",
       "<span style=\"font-weight: bold\">[</span>^<span style=\"color: #008080; text-decoration-color: #008080; font-weight: bold\">0</span><span style=\"font-weight: bold\">]</span>\n",
       "<span style=\"font-weight: bold\">[</span>^<span style=\"color: #008080; text-decoration-color: #008080; font-weight: bold\">0</span><span style=\"font-weight: bold\">]</span>:    $<span style=\"font-weight: bold\">{</span> <span style=\"font-weight: bold\">}</span>^<span style=\"font-weight: bold\">{</span><span style=\"color: #008080; text-decoration-color: #008080; font-weight: bold\">17</span><span style=\"font-weight: bold\">}</span>$ Interim Narrative Report \\#<span style=\"color: #008080; text-decoration-color: #008080; font-weight: bold\">4</span> to the European Union, pg. <span style=\"color: #008080; text-decoration-color: #008080; font-weight: bold\">59</span>.\n",
       "    $<span style=\"font-weight: bold\">{</span> <span style=\"font-weight: bold\">}</span>^<span style=\"font-weight: bold\">{</span><span style=\"color: #008080; text-decoration-color: #008080; font-weight: bold\">18</span><span style=\"font-weight: bold\">}</span>$ Kan, Merve. <span style=\"font-weight: bold\">(</span><span style=\"color: #008080; text-decoration-color: #008080; font-weight: bold\">2022</span><span style=\"font-weight: bold\">)</span>. EU-IOM Joint Initiative Horn of Africa Mental Health and Psychosocial Support \n",
       "<span style=\"font-weight: bold\">(</span>MHPSS<span style=\"font-weight: bold\">)</span> Research Report. Pg. <span style=\"color: #008080; text-decoration-color: #008080; font-weight: bold\">51</span>-<span style=\"color: #008080; text-decoration-color: #008080; font-weight: bold\">52</span>\n",
       "    $<span style=\"font-weight: bold\">{</span> <span style=\"font-weight: bold\">}</span>^<span style=\"font-weight: bold\">{</span><span style=\"color: #008080; text-decoration-color: #008080; font-weight: bold\">19</span><span style=\"font-weight: bold\">}</span>$ FGD in Somalia\n",
       "    $<span style=\"font-weight: bold\">{</span> <span style=\"font-weight: bold\">}</span>^<span style=\"font-weight: bold\">{</span><span style=\"color: #008080; text-decoration-color: #008080; font-weight: bold\">20</span><span style=\"font-weight: bold\">}</span>$ Interview with a stakeholder from Sudan\n",
       "    $<span style=\"font-weight: bold\">{</span> <span style=\"font-weight: bold\">}</span>^<span style=\"font-weight: bold\">{</span><span style=\"color: #008080; text-decoration-color: #008080; font-weight: bold\">21</span><span style=\"font-weight: bold\">}</span>$ Covid-<span style=\"color: #008080; text-decoration-color: #008080; font-weight: bold\">19</span> Natural Experiment Report, pg. <span style=\"color: #008080; text-decoration-color: #008080; font-weight: bold\">72</span>, FGD with returnees in Ethiopia\n",
       "    $<span style=\"font-weight: bold\">{</span> <span style=\"font-weight: bold\">}</span>^<span style=\"font-weight: bold\">{</span><span style=\"color: #008080; text-decoration-color: #008080; font-weight: bold\">22</span><span style=\"font-weight: bold\">}</span>$ IOM RDH. <span style=\"font-weight: bold\">(</span><span style=\"color: #008080; text-decoration-color: #008080; font-weight: bold\">2022</span><span style=\"font-weight: bold\">)</span> Partnerships for Migrant Reintegration, pg. <span style=\"color: #008080; text-decoration-color: #008080; font-weight: bold\">7</span>.\n",
       "    $<span style=\"font-weight: bold\">{</span> <span style=\"font-weight: bold\">}</span>^<span style=\"font-weight: bold\">{</span><span style=\"color: #008080; text-decoration-color: #008080; font-weight: bold\">23</span><span style=\"font-weight: bold\">}</span>$ Tilahun, M., Workicho, A., \\&amp; Angaw, D. A. <span style=\"font-weight: bold\">(</span><span style=\"color: #008080; text-decoration-color: #008080; font-weight: bold\">2020</span><span style=\"font-weight: bold\">)</span>. Common mental disorders and its associated \n",
       "factors and mental health care services for Ethiopian labor migrants returned from Middle East countries in Addis \n",
       "Ababa, Ethiopia BMC Health Services Research <span style=\"color: #00ff00; text-decoration-color: #00ff00; font-weight: bold\">20:681</span> doi: <span style=\"color: #0000ff; text-decoration-color: #0000ff; text-decoration: underline\">https://doi.org/10.1186/s12913-020-05502-0</span>\n",
       "    $<span style=\"font-weight: bold\">{</span> <span style=\"font-weight: bold\">}</span>^<span style=\"font-weight: bold\">{</span><span style=\"color: #008080; text-decoration-color: #008080; font-weight: bold\">24</span><span style=\"font-weight: bold\">}</span>$ Kan, Merve. <span style=\"font-weight: bold\">(</span><span style=\"color: #008080; text-decoration-color: #008080; font-weight: bold\">2022</span><span style=\"font-weight: bold\">)</span>. <span style=\"color: #008000; text-decoration-color: #008000\">\"Lessons Learned from the Psychosocial Support (PSS) Component of the EU-IOM </span>\n",
       "<span style=\"color: #008000; text-decoration-color: #008000\">Joint Initiative Programme in Ethiopia, Sudan and Somalia\"</span>\n",
       "    $<span style=\"font-weight: bold\">{</span> <span style=\"font-weight: bold\">}</span>^<span style=\"font-weight: bold\">{</span><span style=\"color: #008080; text-decoration-color: #008080; font-weight: bold\">25</span><span style=\"font-weight: bold\">}</span>$ Mid-Term Review of EU-IOM Joint Initiative for Migrant Protection and Reintegration in the Horn of \n",
       "Africa, pg. <span style=\"color: #008080; text-decoration-color: #008080; font-weight: bold\">15</span>.\n",
       "</pre>\n"
      ],
      "text/plain": [
       "According to the RA Monitoring and Satisfaction surveys, \u001b[1;36m56\u001b[0m\\% of the surveyed returnees were satisfied or very \n",
       "satisfied with the reintegration assistance support provided by the JI-HoA $\u001b[1m{\u001b[0m \u001b[1m}\u001b[0m^\u001b[1m{\u001b[0m\u001b[1;36m17\u001b[0m\u001b[1m}\u001b[0m$.\n",
       "\n",
       "Focus Group Discussions highlighted the importance of the economic assistance to enable returnees to develop \n",
       "sources of income \u001b[1m(\u001b[0me.g. through start-up businesses or employment\u001b[1m)\u001b[0m. Since returnees are coming back usually \n",
       "\u001b[32m\"empty-handed\"\u001b[0m, they are experiencing shame, guilt, and are stigmatised by their communities and relatives. The \n",
       "economic support offered by the JI-HoA not only provides them with resources to start their business but also \n",
       "restores their dignity and self-trust $\u001b[1m{\u001b[0m \u001b[1m}\u001b[0m^\u001b[1m{\u001b[0m\u001b[1;36m18\u001b[0m\u001b[1m}\u001b[0m$.\n",
       "\n",
       "In the Focus Group Discussions \u001b[1m(\u001b[0mFGDs\u001b[1m)\u001b[0m, some returnees pointed out that the overall value of the economic assistance\n",
       "was not enough. $\u001b[1m{\u001b[0m \u001b[1m}\u001b[0m^\u001b[1m{\u001b[0m\u001b[1;36m19\u001b[0m\u001b[1m}\u001b[0m$ This was also confirmed by a stakeholder from Sudan, who suggested that returnees needed\n",
       "more money to satisfy their livelihood during the time of planting, growing and harvesting, since they put most of \n",
       "the microbusiness support into the producing and often have no other sources of income $\u001b[1m{\u001b[0m \u001b[1m}\u001b[0m^\u001b[1m{\u001b[0m\u001b[1;36m20\u001b[0m\u001b[1m}\u001b[0m$. The \n",
       "microbusiness assistance did not always correspond to the knowledge of the recipient or the local context. Namely, \n",
       "a few of the returnees revealed that they were not consulted or received different support than they selected, so \n",
       "they had no other option, but just to accept the support $\u001b[1m{\u001b[0m \u001b[1m}\u001b[0m^\u001b[1m{\u001b[0m\u001b[1;36m21\u001b[0m\u001b[1m}\u001b[0m$.\n",
       "\n",
       "In terms of psychosocial needs, research results presented at the Research and Evidence Facility \u001b[1m(\u001b[0mREF\u001b[1m)\u001b[0m conference \n",
       "of June \u001b[1;36m2022\u001b[0m indicated that the incidence of Common Mental Disorders \u001b[1m(\u001b[0mCMD\u001b[1m)\u001b[0m is significantly higher among JI-HoA \n",
       "beneficiaries in Ethiopia when compared with non-migrant control group $\u001b[1m{\u001b[0m \u001b[1m}\u001b[0m^\u001b[1m{\u001b[0m\u001b[1;36m22\u001b[0m\u001b[1m}\u001b[0m$. The high prevalence of CMD among\n",
       "returned migrants from the Middle East was also found in another study $\u001b[1m{\u001b[0m \u001b[1m}\u001b[0m^\u001b[1m{\u001b[0m\u001b[1;36m23\u001b[0m\u001b[1m}\u001b[0m$. This indicates that irregular \n",
       "migrants are much more affected by the CMD compared to people who do not migrate. The specific focus of the JI-HoA \n",
       "on MHPSS therefore addresses key difficulties faced by migrants.\n",
       "\n",
       "However, in the execution, some gaps were found in the correspondence of specific activities to returnees' \n",
       "psychosocial needs. The JI-HoA Programme's Lessons Learned from the Psychosocial Support Component Report noted \n",
       "gaps in the post-return psychosocial support \u001b[1m(\u001b[0me.g., lack of MHPSS service, unclear information about compensation \n",
       "of the treatment, high cost, stigma, and low awareness about MHPSS needs among communities\u001b[1m)\u001b[0m $\u001b[1m{\u001b[0m \u001b[1m}\u001b[0m^\u001b[1m{\u001b[0m\u001b[1;36m24\u001b[0m\u001b[1m}\u001b[0m$. The \n",
       "post-return psychosocial support was not wellintegrated into the main documents of the JI-HoA programme $\u001b[1m{\u001b[0m \u001b[1m}\u001b[0m^\u001b[1m{\u001b[0m\u001b[1;36m25\u001b[0m\u001b[1m}\u001b[0m$.\n",
       "This lack of attention led to the lack of\n",
       "\n",
       "\u001b[1m[\u001b[0m^\u001b[1;36m0\u001b[0m\u001b[1m]\u001b[0m\n",
       "\u001b[1m[\u001b[0m^\u001b[1;36m0\u001b[0m\u001b[1m]\u001b[0m:    $\u001b[1m{\u001b[0m \u001b[1m}\u001b[0m^\u001b[1m{\u001b[0m\u001b[1;36m17\u001b[0m\u001b[1m}\u001b[0m$ Interim Narrative Report \\#\u001b[1;36m4\u001b[0m to the European Union, pg. \u001b[1;36m59\u001b[0m.\n",
       "    $\u001b[1m{\u001b[0m \u001b[1m}\u001b[0m^\u001b[1m{\u001b[0m\u001b[1;36m18\u001b[0m\u001b[1m}\u001b[0m$ Kan, Merve. \u001b[1m(\u001b[0m\u001b[1;36m2022\u001b[0m\u001b[1m)\u001b[0m. EU-IOM Joint Initiative Horn of Africa Mental Health and Psychosocial Support \n",
       "\u001b[1m(\u001b[0mMHPSS\u001b[1m)\u001b[0m Research Report. Pg. \u001b[1;36m51\u001b[0m-\u001b[1;36m52\u001b[0m\n",
       "    $\u001b[1m{\u001b[0m \u001b[1m}\u001b[0m^\u001b[1m{\u001b[0m\u001b[1;36m19\u001b[0m\u001b[1m}\u001b[0m$ FGD in Somalia\n",
       "    $\u001b[1m{\u001b[0m \u001b[1m}\u001b[0m^\u001b[1m{\u001b[0m\u001b[1;36m20\u001b[0m\u001b[1m}\u001b[0m$ Interview with a stakeholder from Sudan\n",
       "    $\u001b[1m{\u001b[0m \u001b[1m}\u001b[0m^\u001b[1m{\u001b[0m\u001b[1;36m21\u001b[0m\u001b[1m}\u001b[0m$ Covid-\u001b[1;36m19\u001b[0m Natural Experiment Report, pg. \u001b[1;36m72\u001b[0m, FGD with returnees in Ethiopia\n",
       "    $\u001b[1m{\u001b[0m \u001b[1m}\u001b[0m^\u001b[1m{\u001b[0m\u001b[1;36m22\u001b[0m\u001b[1m}\u001b[0m$ IOM RDH. \u001b[1m(\u001b[0m\u001b[1;36m2022\u001b[0m\u001b[1m)\u001b[0m Partnerships for Migrant Reintegration, pg. \u001b[1;36m7\u001b[0m.\n",
       "    $\u001b[1m{\u001b[0m \u001b[1m}\u001b[0m^\u001b[1m{\u001b[0m\u001b[1;36m23\u001b[0m\u001b[1m}\u001b[0m$ Tilahun, M., Workicho, A., \\& Angaw, D. A. \u001b[1m(\u001b[0m\u001b[1;36m2020\u001b[0m\u001b[1m)\u001b[0m. Common mental disorders and its associated \n",
       "factors and mental health care services for Ethiopian labor migrants returned from Middle East countries in Addis \n",
       "Ababa, Ethiopia BMC Health Services Research \u001b[1;92m20:681\u001b[0m doi: \u001b[4;94mhttps://doi.org/10.1186/s12913-020-05502-0\u001b[0m\n",
       "    $\u001b[1m{\u001b[0m \u001b[1m}\u001b[0m^\u001b[1m{\u001b[0m\u001b[1;36m24\u001b[0m\u001b[1m}\u001b[0m$ Kan, Merve. \u001b[1m(\u001b[0m\u001b[1;36m2022\u001b[0m\u001b[1m)\u001b[0m. \u001b[32m\"Lessons Learned from the Psychosocial Support \u001b[0m\u001b[32m(\u001b[0m\u001b[32mPSS\u001b[0m\u001b[32m)\u001b[0m\u001b[32m Component of the EU-IOM \u001b[0m\n",
       "\u001b[32mJoint Initiative Programme in Ethiopia, Sudan and Somalia\"\u001b[0m\n",
       "    $\u001b[1m{\u001b[0m \u001b[1m}\u001b[0m^\u001b[1m{\u001b[0m\u001b[1;36m25\u001b[0m\u001b[1m}\u001b[0m$ Mid-Term Review of EU-IOM Joint Initiative for Migrant Protection and Reintegration in the Horn of \n",
       "Africa, pg. \u001b[1;36m15\u001b[0m.\n"
      ]
     },
     "metadata": {},
     "output_type": "display_data"
    }
   ],
   "source": [
    "#| eval: false\n",
    "print(r.pages[10].markdown)"
   ]
  },
  {
   "cell_type": "code",
   "execution_count": null,
   "metadata": {},
   "outputs": [],
   "source": [
    "#| eval: false\n",
    "# from IPython.display import display, Markdown\n",
    "# Markdown(r.pages[4].markdown)"
   ]
  },
  {
   "cell_type": "code",
   "execution_count": null,
   "metadata": {},
   "outputs": [],
   "source": [
    "# def combine_pages(r):\n",
    "#     \"Combine all pages into single markdown\"\n",
    "#     return \"\".join([page.markdown + \"\\n\" for page in r.pages])"
   ]
  },
  {
   "cell_type": "code",
   "execution_count": null,
   "metadata": {},
   "outputs": [],
   "source": [
    "# r_all = combine_pages(r); \n",
    "# print(r_all);"
   ]
  },
  {
   "cell_type": "code",
   "execution_count": null,
   "metadata": {},
   "outputs": [
    {
     "data": {
      "text/plain": [
       "['# **PPMi**',\n",
       " '# CONTENTS ',\n",
       " '# 1. Introduction ',\n",
       " '# 2. Background of the JI-HoA ',\n",
       " '### 2.1. Context and design of the JI-HoA',\n",
       " '# 2.2. External factors affecting the implementation of the JI ',\n",
       " '# 3. Methodology ',\n",
       " '# 4. Findings ',\n",
       " '### 4.1. Relevance',\n",
       " '### 4.1.1. Relevance of programme activities for migrants, returnees, and communities',\n",
       " '## Overall performance score for relevance: $3.9 / 5$ <br> Robustness score for the evidence: $4.5 / 5$',\n",
       " '### 4.1.1.1 Needs of migrants',\n",
       " '### 4.1.1.2 Needs of returnees',\n",
       " '# 4.1.1.3 Needs of community members ',\n",
       " \"### 4.1.2. Programme's relevance to the needs of stakeholders\",\n",
       " '### 4.1.2.1 Needs of governments',\n",
       " '# 4.1.2.2 Needs of other stakeholders ',\n",
       " '### 4.2. Coherence',\n",
       " \"# 4.2.1. The JI-HoA's alignment with the objectives and standards of IOM, and objectives of the EU \",\n",
       " '### 4.2.2. Alignment with other initiatives',\n",
       " '# 4.3. Effectiveness ',\n",
       " '### 4.3.1. Specific Objective 1: Partner countries and relevant stakeholders developed or strengthened evidence-based return and reintegration procedures',\n",
       " '### 4.3.1.1 Achievement of outputs and results',\n",
       " '## Data availability',\n",
       " '# Capacity of stakeholders ',\n",
       " '### 4.3.1.2 Achievement of Specific Objective 1',\n",
       " '# 4.3.2. Specific Objective 2: Safe, humane, dignified voluntary return processes are enhanced along main migration routes ',\n",
       " '# 4.3.2.1 Achievement of outputs and results ',\n",
       " '## Outreach and awareness',\n",
       " '## Assistance to stranded migrants',\n",
       " '# 4.3.2.2 Achievement of the Objective ',\n",
       " '### 4.3.3. Specific Objective 3: Returnees are sustainably integrated in host communities, and host communities are better able to create living standards that address drivers of migration.',\n",
       " '### 4.3.3.1 Achievement of outputs and results',\n",
       " '## Individual and community-based reintegration',\n",
       " '# M\\\\&E systems ',\n",
       " '# 4.3.3.2 Achievement of Specific Objective 3 ',\n",
       " '## Overall achievement of reintegration',\n",
       " '# Sustainability of reintegration ',\n",
       " '### 4.3.4. Functioning of the Integrated Approach',\n",
       " '# 4.4. Efficiency ',\n",
       " '### 4.4.3. Did the programme receive sufficient resources to achieve its objectives?',\n",
       " '# 4.4.2. Cost-effectiveness and efficiency of the programme ',\n",
       " '# 4.5. Sustainability ',\n",
       " '## Overall performance score for sustainability: $2.5 / 5$ <br> Robustness score for the evidence: $4 / 5$',\n",
       " '# 5. Conclusions and Recommendations ',\n",
       " '### 5.1. Conclusions',\n",
       " '# 5.2. Recommendations ',\n",
       " '# 3. Increase attention on building partnerships with service providers who can function without (significant) funding channelled by IOM. ',\n",
       " '# 5. Explore opportunities to extend the scope of support provided to returnees, with a focus on longer-term integration. ']"
      ]
     },
     "execution_count": null,
     "metadata": {},
     "output_type": "execute_result"
    }
   ],
   "source": [
    "#| eval: false\n",
    "# Extract all lines starting with one or more # using regex\n",
    "import re\n",
    "# Find all markdown headings in the text\n",
    "# ^ - matches start of line\n",
    "# #+ - matches one or more # characters that denote heading level\n",
    "# .* - matches any characters until end of line\n",
    "# $ - matches end of line\n",
    "# re.MULTILINE flag makes ^ and $ match start/end of each line rather than whole string\n",
    "re.findall(r'^#+.*$', r_all, re.MULTILINE)"
   ]
  },
  {
   "cell_type": "code",
   "execution_count": null,
   "metadata": {},
   "outputs": [],
   "source": [
    "#| export\n",
    "def save_page_images(\n",
    "    page, # OCR page object containing images\n",
    "    dest_folder: Path # Destination folder path\n",
    "): \n",
    "    \"Save all images from a page to destination folder as PNG\"\n",
    "    for img in page.images:\n",
    "        img_data = base64.b64decode(img.image_base64.split(',')[1])\n",
    "        img_bytes = BytesIO(img_data)\n",
    "        pil_img = Image.open(img_bytes)\n",
    "        output_path = dest_folder / img.id\n",
    "        pil_img.save(output_path)"
   ]
  },
  {
   "cell_type": "code",
   "execution_count": null,
   "metadata": {},
   "outputs": [],
   "source": [
    "#| eval: false\n",
    "save_page_images(r.pages[4], Path('.'))"
   ]
  },
  {
   "cell_type": "code",
   "execution_count": null,
   "metadata": {},
   "outputs": [],
   "source": [
    "# def clean_fname(fname):\n",
    "#     \"Convert filename to a folder-friendly string\"\n",
    "#     sanitized = fname.replace(' ', '_').replace('-', '_')\n",
    "#     sanitized = re.sub(r'_{2,}', '_', sanitized) \n",
    "#     sanitized = re.sub(r'[^\\w\\s]', '', sanitized)\n",
    "#     return sanitized.lower()"
   ]
  },
  {
   "cell_type": "markdown",
   "metadata": {},
   "source": [
    "## Process Pdfs"
   ]
  },
  {
   "cell_type": "code",
   "execution_count": null,
   "metadata": {},
   "outputs": [],
   "source": [
    "#| exports\n",
    "def setup_output_dirs(md_library_path=\"../_data/md_library\"):\n",
    "    \"Set up the output directory structure for markdown files\"\n",
    "    md_output_dir = Path(md_library_path)\n",
    "    mkdir(md_output_dir, parents=True, exist_ok=True, overwrite=False)\n",
    "    return md_output_dir"
   ]
  },
  {
   "cell_type": "code",
   "execution_count": null,
   "metadata": {},
   "outputs": [],
   "source": [
    "#| exports\n",
    "def process_report(\n",
    "    report_path:Path, # Path to the report directory\n",
    "    md_output_dir:Path # Path to the output directory\n",
    "    ) -> tuple[list[Path], str]:\n",
    "    \"Process a single report directory containing PDFs\"\n",
    "    pdfs = report_path.ls(file_exts='.pdf')\n",
    "    eval_report_path = report_path.name\n",
    "    mkdir(md_output_dir / eval_report_path, parents=True, exist_ok=True, overwrite=False)\n",
    "    return pdfs, eval_report_path"
   ]
  },
  {
   "cell_type": "code",
   "execution_count": null,
   "metadata": {},
   "outputs": [],
   "source": [
    "#| exports\n",
    "def process_pdf_page(\n",
    "    pdf_path:Path, # Path to the PDF file\n",
    "    page_nb:int, # Page number\n",
    "    md_output_dir:Path, # Path to the output directory\n",
    "    eval_report_path:str # Name of the report\n",
    "    ):\n",
    "    \"Process a single page from a PDF, saving markdown and images\"\"\"\n",
    "    pdf_name = clean_pdf_name(pdf_path.name)\n",
    "    pdf_dir = md_output_dir / eval_report_path / pdf_name\n",
    "    mkdir(pdf_dir, parents=True, exist_ok=True, overwrite=False)\n",
    "    \n",
    "    r = ocr(pdf_path)\n",
    "    page = r.pages[page_nb]\n",
    "    \n",
    "    # Save markdown\n",
    "    fname_page = f\"page_{page_nb+1}.md\"\n",
    "    page_path = pdf_dir / fname_page\n",
    "    page_path.write_text(page.markdown)\n",
    "    \n",
    "    # Save images\n",
    "    img_dir = pdf_dir / 'img'\n",
    "    mkdir(img_dir, parents=True, exist_ok=True, overwrite=False)\n",
    "    if hasattr(page, 'images') and page.images:\n",
    "        save_page_images(page, img_dir)\n",
    "    \n",
    "    return r, page"
   ]
  },
  {
   "cell_type": "code",
   "execution_count": null,
   "metadata": {},
   "outputs": [],
   "source": [
    "#| exports\n",
    "def process_pdf(\n",
    "    pdf_path:Path, # Path to the PDF file\n",
    "    md_output_dir:Path, # Path to the output directory\n",
    "    eval_report_path:str # Name of the report\n",
    "    ):\n",
    "    \"Process all pages in a PDF\"\n",
    "    r = ocr(pdf_path)\n",
    "    for page_nb in range(len(r.pages)):\n",
    "        process_pdf_page(pdf_path, page_nb, md_output_dir, eval_report_path)\n",
    "    return r"
   ]
  },
  {
   "cell_type": "code",
   "execution_count": null,
   "metadata": {},
   "outputs": [],
   "source": [
    "#| exports\n",
    "def process_all_reports(\n",
    "    reports:list[Path], # List of paths to the report directories\n",
    "    md_library_path=\"../_data/md_library\" # Path to the output directory\n",
    "    ):\n",
    "    \"Process provided evaluation reports and their PDFs\"\n",
    "    md_output_dir = setup_output_dirs(md_library_path)\n",
    "        \n",
    "    for report in tqdm(reports, desc=\"Processing reports\"):\n",
    "        pdfs, eval_report_path = process_report(report, md_output_dir)\n",
    "        \n",
    "        for pdf in tqdm(pdfs, desc=f\"Processing PDFs in {eval_report_path}\", leave=False):\n",
    "            process_pdf(pdf, md_output_dir, eval_report_path)"
   ]
  },
  {
   "cell_type": "code",
   "execution_count": null,
   "metadata": {},
   "outputs": [
    {
     "name": "stderr",
     "output_type": "stream",
     "text": [
      "Processing reports:   0%|          | 0/1 [40:12<?, ?it/s]\n"
     ]
    },
    {
     "ename": "KeyboardInterrupt",
     "evalue": "",
     "output_type": "error",
     "traceback": [
      "\u001b[31m---------------------------------------------------------------------------\u001b[39m",
      "\u001b[31mKeyboardInterrupt\u001b[39m                         Traceback (most recent call last)",
      "\u001b[36mCell\u001b[39m\u001b[36m \u001b[39m\u001b[32mIn[107]\u001b[39m\u001b[32m, line 4\u001b[39m\n\u001b[32m      2\u001b[39m report_id_test = \u001b[33m'\u001b[39m\u001b[33m49d2fba781b6a7c0d94577479636ee6f\u001b[39m\u001b[33m'\u001b[39m\n\u001b[32m      3\u001b[39m reports = [p \u001b[38;5;28;01mfor\u001b[39;00m p \u001b[38;5;129;01min\u001b[39;00m pdf_library.ls() \u001b[38;5;28;01mif\u001b[39;00m p.name == report_id_test]; reports\n\u001b[32m----> \u001b[39m\u001b[32m4\u001b[39m \u001b[43mprocess_all_reports\u001b[49m\u001b[43m(\u001b[49m\u001b[43mreports\u001b[49m\u001b[43m)\u001b[49m\n",
      "\u001b[36mCell\u001b[39m\u001b[36m \u001b[39m\u001b[32mIn[98]\u001b[39m\u001b[32m, line 51\u001b[39m, in \u001b[36mprocess_all_reports\u001b[39m\u001b[34m(reports, md_library_path)\u001b[39m\n\u001b[32m     48\u001b[39m pdfs, eval_report_path = process_report(report, md_output_dir)\n\u001b[32m     50\u001b[39m \u001b[38;5;28;01mfor\u001b[39;00m pdf \u001b[38;5;129;01min\u001b[39;00m tqdm(pdfs, desc=\u001b[33mf\u001b[39m\u001b[33m\"\u001b[39m\u001b[33mProcessing PDFs in \u001b[39m\u001b[38;5;132;01m{\u001b[39;00meval_report_path\u001b[38;5;132;01m}\u001b[39;00m\u001b[33m\"\u001b[39m, leave=\u001b[38;5;28;01mFalse\u001b[39;00m):\n\u001b[32m---> \u001b[39m\u001b[32m51\u001b[39m     \u001b[43mprocess_pdf\u001b[49m\u001b[43m(\u001b[49m\u001b[43mpdf\u001b[49m\u001b[43m,\u001b[49m\u001b[43m \u001b[49m\u001b[43mmd_output_dir\u001b[49m\u001b[43m,\u001b[49m\u001b[43m \u001b[49m\u001b[43meval_report_path\u001b[49m\u001b[43m)\u001b[49m\n",
      "\u001b[36mCell\u001b[39m\u001b[36m \u001b[39m\u001b[32mIn[98]\u001b[39m\u001b[32m, line 40\u001b[39m, in \u001b[36mprocess_pdf\u001b[39m\u001b[34m(pdf_path, md_output_dir, eval_report_path)\u001b[39m\n\u001b[32m     38\u001b[39m r = ocr(pdf_path)\n\u001b[32m     39\u001b[39m \u001b[38;5;28;01mfor\u001b[39;00m page_nb \u001b[38;5;129;01min\u001b[39;00m \u001b[38;5;28mrange\u001b[39m(\u001b[38;5;28mlen\u001b[39m(r.pages)):\n\u001b[32m---> \u001b[39m\u001b[32m40\u001b[39m     \u001b[43mprocess_pdf_page\u001b[49m\u001b[43m(\u001b[49m\u001b[43mpdf_path\u001b[49m\u001b[43m,\u001b[49m\u001b[43m \u001b[49m\u001b[43mpage_nb\u001b[49m\u001b[43m,\u001b[49m\u001b[43m \u001b[49m\u001b[43mmd_output_dir\u001b[49m\u001b[43m,\u001b[49m\u001b[43m \u001b[49m\u001b[43meval_report_path\u001b[49m\u001b[43m)\u001b[49m\n\u001b[32m     41\u001b[39m \u001b[38;5;28;01mreturn\u001b[39;00m r\n",
      "\u001b[36mCell\u001b[39m\u001b[36m \u001b[39m\u001b[32mIn[98]\u001b[39m\u001b[32m, line 20\u001b[39m, in \u001b[36mprocess_pdf_page\u001b[39m\u001b[34m(pdf_path, page_nb, md_output_dir, eval_report_path)\u001b[39m\n\u001b[32m     17\u001b[39m pdf_dir = md_output_dir / eval_report_path / pdf_name\n\u001b[32m     18\u001b[39m mkdir(pdf_dir, parents=\u001b[38;5;28;01mTrue\u001b[39;00m, exist_ok=\u001b[38;5;28;01mTrue\u001b[39;00m, overwrite=\u001b[38;5;28;01mFalse\u001b[39;00m)\n\u001b[32m---> \u001b[39m\u001b[32m20\u001b[39m r = \u001b[43mocr\u001b[49m\u001b[43m(\u001b[49m\u001b[43mpdf_path\u001b[49m\u001b[43m)\u001b[49m\n\u001b[32m     21\u001b[39m page = r.pages[page_nb]\n\u001b[32m     23\u001b[39m \u001b[38;5;66;03m# Save markdown\u001b[39;00m\n",
      "\u001b[36mCell\u001b[39m\u001b[36m \u001b[39m\u001b[32mIn[37]\u001b[39m\u001b[32m, line 22\u001b[39m, in \u001b[36mocr\u001b[39m\u001b[34m(pdf_path, model, include_images, api_key)\u001b[39m\n\u001b[32m     12\u001b[39m uploaded_pdf = cli.files.upload(\n\u001b[32m     13\u001b[39m     file={\n\u001b[32m     14\u001b[39m         \u001b[33m\"\u001b[39m\u001b[33mfile_name\u001b[39m\u001b[33m\"\u001b[39m: pdf_path.stem,\n\u001b[32m   (...)\u001b[39m\u001b[32m     17\u001b[39m     purpose=\u001b[33m\"\u001b[39m\u001b[33mocr\u001b[39m\u001b[33m\"\u001b[39m\n\u001b[32m     18\u001b[39m )\n\u001b[32m     20\u001b[39m signed_url = cli.files.get_signed_url(file_id=uploaded_pdf.id)\n\u001b[32m---> \u001b[39m\u001b[32m22\u001b[39m \u001b[38;5;28;01mreturn\u001b[39;00m \u001b[43mcli\u001b[49m\u001b[43m.\u001b[49m\u001b[43mocr\u001b[49m\u001b[43m.\u001b[49m\u001b[43mprocess\u001b[49m\u001b[43m(\u001b[49m\n\u001b[32m     23\u001b[39m \u001b[43m    \u001b[49m\u001b[43mmodel\u001b[49m\u001b[43m=\u001b[49m\u001b[43mmodel\u001b[49m\u001b[43m,\u001b[49m\n\u001b[32m     24\u001b[39m \u001b[43m    \u001b[49m\u001b[43mdocument\u001b[49m\u001b[43m=\u001b[49m\u001b[43m{\u001b[49m\n\u001b[32m     25\u001b[39m \u001b[43m        \u001b[49m\u001b[33;43m\"\u001b[39;49m\u001b[33;43mtype\u001b[39;49m\u001b[33;43m\"\u001b[39;49m\u001b[43m:\u001b[49m\u001b[43m \u001b[49m\u001b[33;43m\"\u001b[39;49m\u001b[33;43mdocument_url\u001b[39;49m\u001b[33;43m\"\u001b[39;49m\u001b[43m,\u001b[49m\n\u001b[32m     26\u001b[39m \u001b[43m        \u001b[49m\u001b[33;43m\"\u001b[39;49m\u001b[33;43mdocument_url\u001b[39;49m\u001b[33;43m\"\u001b[39;49m\u001b[43m:\u001b[49m\u001b[43m \u001b[49m\u001b[43msigned_url\u001b[49m\u001b[43m.\u001b[49m\u001b[43murl\u001b[49m\u001b[43m,\u001b[49m\n\u001b[32m     27\u001b[39m \u001b[43m    \u001b[49m\u001b[43m}\u001b[49m\u001b[43m,\u001b[49m\n\u001b[32m     28\u001b[39m \u001b[43m    \u001b[49m\u001b[43minclude_image_base64\u001b[49m\u001b[43m=\u001b[49m\u001b[43minclude_images\u001b[49m\n\u001b[32m     29\u001b[39m \u001b[43m\u001b[49m\u001b[43m)\u001b[49m\n",
      "\u001b[36mFile \u001b[39m\u001b[32m~/pro/dev/evaluatr/.venv/lib/python3.12/site-packages/mistralai/ocr.py:104\u001b[39m, in \u001b[36mOcr.process\u001b[39m\u001b[34m(self, model, document, id, pages, include_image_base64, image_limit, image_min_size, bbox_annotation_format, document_annotation_format, retries, server_url, timeout_ms, http_headers)\u001b[39m\n\u001b[32m    101\u001b[39m \u001b[38;5;28;01mif\u001b[39;00m \u001b[38;5;28misinstance\u001b[39m(retries, utils.RetryConfig):\n\u001b[32m    102\u001b[39m     retry_config = (retries, [\u001b[33m\"\u001b[39m\u001b[33m429\u001b[39m\u001b[33m\"\u001b[39m, \u001b[33m\"\u001b[39m\u001b[33m500\u001b[39m\u001b[33m\"\u001b[39m, \u001b[33m\"\u001b[39m\u001b[33m502\u001b[39m\u001b[33m\"\u001b[39m, \u001b[33m\"\u001b[39m\u001b[33m503\u001b[39m\u001b[33m\"\u001b[39m, \u001b[33m\"\u001b[39m\u001b[33m504\u001b[39m\u001b[33m\"\u001b[39m])\n\u001b[32m--> \u001b[39m\u001b[32m104\u001b[39m http_res = \u001b[38;5;28;43mself\u001b[39;49m\u001b[43m.\u001b[49m\u001b[43mdo_request\u001b[49m\u001b[43m(\u001b[49m\n\u001b[32m    105\u001b[39m \u001b[43m    \u001b[49m\u001b[43mhook_ctx\u001b[49m\u001b[43m=\u001b[49m\u001b[43mHookContext\u001b[49m\u001b[43m(\u001b[49m\n\u001b[32m    106\u001b[39m \u001b[43m        \u001b[49m\u001b[43mconfig\u001b[49m\u001b[43m=\u001b[49m\u001b[38;5;28;43mself\u001b[39;49m\u001b[43m.\u001b[49m\u001b[43msdk_configuration\u001b[49m\u001b[43m,\u001b[49m\n\u001b[32m    107\u001b[39m \u001b[43m        \u001b[49m\u001b[43mbase_url\u001b[49m\u001b[43m=\u001b[49m\u001b[43mbase_url\u001b[49m\u001b[43m \u001b[49m\u001b[38;5;129;43;01mor\u001b[39;49;00m\u001b[43m \u001b[49m\u001b[33;43m\"\u001b[39;49m\u001b[33;43m\"\u001b[39;49m\u001b[43m,\u001b[49m\n\u001b[32m    108\u001b[39m \u001b[43m        \u001b[49m\u001b[43moperation_id\u001b[49m\u001b[43m=\u001b[49m\u001b[33;43m\"\u001b[39;49m\u001b[33;43mocr_v1_ocr_post\u001b[39;49m\u001b[33;43m\"\u001b[39;49m\u001b[43m,\u001b[49m\n\u001b[32m    109\u001b[39m \u001b[43m        \u001b[49m\u001b[43moauth2_scopes\u001b[49m\u001b[43m=\u001b[49m\u001b[43m[\u001b[49m\u001b[43m]\u001b[49m\u001b[43m,\u001b[49m\n\u001b[32m    110\u001b[39m \u001b[43m        \u001b[49m\u001b[43msecurity_source\u001b[49m\u001b[43m=\u001b[49m\u001b[43mget_security_from_env\u001b[49m\u001b[43m(\u001b[49m\n\u001b[32m    111\u001b[39m \u001b[43m            \u001b[49m\u001b[38;5;28;43mself\u001b[39;49m\u001b[43m.\u001b[49m\u001b[43msdk_configuration\u001b[49m\u001b[43m.\u001b[49m\u001b[43msecurity\u001b[49m\u001b[43m,\u001b[49m\u001b[43m \u001b[49m\u001b[43mmodels\u001b[49m\u001b[43m.\u001b[49m\u001b[43mSecurity\u001b[49m\n\u001b[32m    112\u001b[39m \u001b[43m        \u001b[49m\u001b[43m)\u001b[49m\u001b[43m,\u001b[49m\n\u001b[32m    113\u001b[39m \u001b[43m    \u001b[49m\u001b[43m)\u001b[49m\u001b[43m,\u001b[49m\n\u001b[32m    114\u001b[39m \u001b[43m    \u001b[49m\u001b[43mrequest\u001b[49m\u001b[43m=\u001b[49m\u001b[43mreq\u001b[49m\u001b[43m,\u001b[49m\n\u001b[32m    115\u001b[39m \u001b[43m    \u001b[49m\u001b[43merror_status_codes\u001b[49m\u001b[43m=\u001b[49m\u001b[43m[\u001b[49m\u001b[33;43m\"\u001b[39;49m\u001b[33;43m422\u001b[39;49m\u001b[33;43m\"\u001b[39;49m\u001b[43m,\u001b[49m\u001b[43m \u001b[49m\u001b[33;43m\"\u001b[39;49m\u001b[33;43m4XX\u001b[39;49m\u001b[33;43m\"\u001b[39;49m\u001b[43m,\u001b[49m\u001b[43m \u001b[49m\u001b[33;43m\"\u001b[39;49m\u001b[33;43m5XX\u001b[39;49m\u001b[33;43m\"\u001b[39;49m\u001b[43m]\u001b[49m\u001b[43m,\u001b[49m\n\u001b[32m    116\u001b[39m \u001b[43m    \u001b[49m\u001b[43mretry_config\u001b[49m\u001b[43m=\u001b[49m\u001b[43mretry_config\u001b[49m\u001b[43m,\u001b[49m\n\u001b[32m    117\u001b[39m \u001b[43m\u001b[49m\u001b[43m)\u001b[49m\n\u001b[32m    119\u001b[39m response_data: Any = \u001b[38;5;28;01mNone\u001b[39;00m\n\u001b[32m    120\u001b[39m \u001b[38;5;28;01mif\u001b[39;00m utils.match_response(http_res, \u001b[33m\"\u001b[39m\u001b[33m200\u001b[39m\u001b[33m\"\u001b[39m, \u001b[33m\"\u001b[39m\u001b[33mapplication/json\u001b[39m\u001b[33m\"\u001b[39m):\n",
      "\u001b[36mFile \u001b[39m\u001b[32m~/pro/dev/evaluatr/.venv/lib/python3.12/site-packages/mistralai/basesdk.py:275\u001b[39m, in \u001b[36mBaseSDK.do_request\u001b[39m\u001b[34m(self, hook_ctx, request, error_status_codes, stream, retry_config)\u001b[39m\n\u001b[32m    273\u001b[39m     http_res = utils.retry(do, utils.Retries(retry_config[\u001b[32m0\u001b[39m], retry_config[\u001b[32m1\u001b[39m]))\n\u001b[32m    274\u001b[39m \u001b[38;5;28;01melse\u001b[39;00m:\n\u001b[32m--> \u001b[39m\u001b[32m275\u001b[39m     http_res = \u001b[43mdo\u001b[49m\u001b[43m(\u001b[49m\u001b[43m)\u001b[49m\n\u001b[32m    277\u001b[39m \u001b[38;5;28;01mif\u001b[39;00m \u001b[38;5;129;01mnot\u001b[39;00m utils.match_status_codes(error_status_codes, http_res.status_code):\n\u001b[32m    278\u001b[39m     http_res = hooks.after_success(AfterSuccessContext(hook_ctx), http_res)\n",
      "\u001b[36mFile \u001b[39m\u001b[32m~/pro/dev/evaluatr/.venv/lib/python3.12/site-packages/mistralai/basesdk.py:238\u001b[39m, in \u001b[36mBaseSDK.do_request.<locals>.do\u001b[39m\u001b[34m()\u001b[39m\n\u001b[32m    235\u001b[39m     \u001b[38;5;28;01mif\u001b[39;00m client \u001b[38;5;129;01mis\u001b[39;00m \u001b[38;5;28;01mNone\u001b[39;00m:\n\u001b[32m    236\u001b[39m         \u001b[38;5;28;01mraise\u001b[39;00m \u001b[38;5;167;01mValueError\u001b[39;00m(\u001b[33m\"\u001b[39m\u001b[33mclient is required\u001b[39m\u001b[33m\"\u001b[39m)\n\u001b[32m--> \u001b[39m\u001b[32m238\u001b[39m     http_res = \u001b[43mclient\u001b[49m\u001b[43m.\u001b[49m\u001b[43msend\u001b[49m\u001b[43m(\u001b[49m\u001b[43mreq\u001b[49m\u001b[43m,\u001b[49m\u001b[43m \u001b[49m\u001b[43mstream\u001b[49m\u001b[43m=\u001b[49m\u001b[43mstream\u001b[49m\u001b[43m)\u001b[49m\n\u001b[32m    239\u001b[39m \u001b[38;5;28;01mexcept\u001b[39;00m \u001b[38;5;167;01mException\u001b[39;00m \u001b[38;5;28;01mas\u001b[39;00m e:\n\u001b[32m    240\u001b[39m     _, e = hooks.after_error(AfterErrorContext(hook_ctx), \u001b[38;5;28;01mNone\u001b[39;00m, e)\n",
      "\u001b[36mFile \u001b[39m\u001b[32m~/pro/dev/evaluatr/.venv/lib/python3.12/site-packages/httpx/_client.py:914\u001b[39m, in \u001b[36mClient.send\u001b[39m\u001b[34m(self, request, stream, auth, follow_redirects)\u001b[39m\n\u001b[32m    910\u001b[39m \u001b[38;5;28mself\u001b[39m._set_timeout(request)\n\u001b[32m    912\u001b[39m auth = \u001b[38;5;28mself\u001b[39m._build_request_auth(request, auth)\n\u001b[32m--> \u001b[39m\u001b[32m914\u001b[39m response = \u001b[38;5;28;43mself\u001b[39;49m\u001b[43m.\u001b[49m\u001b[43m_send_handling_auth\u001b[49m\u001b[43m(\u001b[49m\n\u001b[32m    915\u001b[39m \u001b[43m    \u001b[49m\u001b[43mrequest\u001b[49m\u001b[43m,\u001b[49m\n\u001b[32m    916\u001b[39m \u001b[43m    \u001b[49m\u001b[43mauth\u001b[49m\u001b[43m=\u001b[49m\u001b[43mauth\u001b[49m\u001b[43m,\u001b[49m\n\u001b[32m    917\u001b[39m \u001b[43m    \u001b[49m\u001b[43mfollow_redirects\u001b[49m\u001b[43m=\u001b[49m\u001b[43mfollow_redirects\u001b[49m\u001b[43m,\u001b[49m\n\u001b[32m    918\u001b[39m \u001b[43m    \u001b[49m\u001b[43mhistory\u001b[49m\u001b[43m=\u001b[49m\u001b[43m[\u001b[49m\u001b[43m]\u001b[49m\u001b[43m,\u001b[49m\n\u001b[32m    919\u001b[39m \u001b[43m\u001b[49m\u001b[43m)\u001b[49m\n\u001b[32m    920\u001b[39m \u001b[38;5;28;01mtry\u001b[39;00m:\n\u001b[32m    921\u001b[39m     \u001b[38;5;28;01mif\u001b[39;00m \u001b[38;5;129;01mnot\u001b[39;00m stream:\n",
      "\u001b[36mFile \u001b[39m\u001b[32m~/pro/dev/evaluatr/.venv/lib/python3.12/site-packages/httpx/_client.py:942\u001b[39m, in \u001b[36mClient._send_handling_auth\u001b[39m\u001b[34m(self, request, auth, follow_redirects, history)\u001b[39m\n\u001b[32m    939\u001b[39m request = \u001b[38;5;28mnext\u001b[39m(auth_flow)\n\u001b[32m    941\u001b[39m \u001b[38;5;28;01mwhile\u001b[39;00m \u001b[38;5;28;01mTrue\u001b[39;00m:\n\u001b[32m--> \u001b[39m\u001b[32m942\u001b[39m     response = \u001b[38;5;28;43mself\u001b[39;49m\u001b[43m.\u001b[49m\u001b[43m_send_handling_redirects\u001b[49m\u001b[43m(\u001b[49m\n\u001b[32m    943\u001b[39m \u001b[43m        \u001b[49m\u001b[43mrequest\u001b[49m\u001b[43m,\u001b[49m\n\u001b[32m    944\u001b[39m \u001b[43m        \u001b[49m\u001b[43mfollow_redirects\u001b[49m\u001b[43m=\u001b[49m\u001b[43mfollow_redirects\u001b[49m\u001b[43m,\u001b[49m\n\u001b[32m    945\u001b[39m \u001b[43m        \u001b[49m\u001b[43mhistory\u001b[49m\u001b[43m=\u001b[49m\u001b[43mhistory\u001b[49m\u001b[43m,\u001b[49m\n\u001b[32m    946\u001b[39m \u001b[43m    \u001b[49m\u001b[43m)\u001b[49m\n\u001b[32m    947\u001b[39m     \u001b[38;5;28;01mtry\u001b[39;00m:\n\u001b[32m    948\u001b[39m         \u001b[38;5;28;01mtry\u001b[39;00m:\n",
      "\u001b[36mFile \u001b[39m\u001b[32m~/pro/dev/evaluatr/.venv/lib/python3.12/site-packages/httpx/_client.py:979\u001b[39m, in \u001b[36mClient._send_handling_redirects\u001b[39m\u001b[34m(self, request, follow_redirects, history)\u001b[39m\n\u001b[32m    976\u001b[39m \u001b[38;5;28;01mfor\u001b[39;00m hook \u001b[38;5;129;01min\u001b[39;00m \u001b[38;5;28mself\u001b[39m._event_hooks[\u001b[33m\"\u001b[39m\u001b[33mrequest\u001b[39m\u001b[33m\"\u001b[39m]:\n\u001b[32m    977\u001b[39m     hook(request)\n\u001b[32m--> \u001b[39m\u001b[32m979\u001b[39m response = \u001b[38;5;28;43mself\u001b[39;49m\u001b[43m.\u001b[49m\u001b[43m_send_single_request\u001b[49m\u001b[43m(\u001b[49m\u001b[43mrequest\u001b[49m\u001b[43m)\u001b[49m\n\u001b[32m    980\u001b[39m \u001b[38;5;28;01mtry\u001b[39;00m:\n\u001b[32m    981\u001b[39m     \u001b[38;5;28;01mfor\u001b[39;00m hook \u001b[38;5;129;01min\u001b[39;00m \u001b[38;5;28mself\u001b[39m._event_hooks[\u001b[33m\"\u001b[39m\u001b[33mresponse\u001b[39m\u001b[33m\"\u001b[39m]:\n",
      "\u001b[36mFile \u001b[39m\u001b[32m~/pro/dev/evaluatr/.venv/lib/python3.12/site-packages/httpx/_client.py:1014\u001b[39m, in \u001b[36mClient._send_single_request\u001b[39m\u001b[34m(self, request)\u001b[39m\n\u001b[32m   1009\u001b[39m     \u001b[38;5;28;01mraise\u001b[39;00m \u001b[38;5;167;01mRuntimeError\u001b[39;00m(\n\u001b[32m   1010\u001b[39m         \u001b[33m\"\u001b[39m\u001b[33mAttempted to send an async request with a sync Client instance.\u001b[39m\u001b[33m\"\u001b[39m\n\u001b[32m   1011\u001b[39m     )\n\u001b[32m   1013\u001b[39m \u001b[38;5;28;01mwith\u001b[39;00m request_context(request=request):\n\u001b[32m-> \u001b[39m\u001b[32m1014\u001b[39m     response = \u001b[43mtransport\u001b[49m\u001b[43m.\u001b[49m\u001b[43mhandle_request\u001b[49m\u001b[43m(\u001b[49m\u001b[43mrequest\u001b[49m\u001b[43m)\u001b[49m\n\u001b[32m   1016\u001b[39m \u001b[38;5;28;01massert\u001b[39;00m \u001b[38;5;28misinstance\u001b[39m(response.stream, SyncByteStream)\n\u001b[32m   1018\u001b[39m response.request = request\n",
      "\u001b[36mFile \u001b[39m\u001b[32m~/pro/dev/evaluatr/.venv/lib/python3.12/site-packages/httpx/_transports/default.py:250\u001b[39m, in \u001b[36mHTTPTransport.handle_request\u001b[39m\u001b[34m(self, request)\u001b[39m\n\u001b[32m    237\u001b[39m req = httpcore.Request(\n\u001b[32m    238\u001b[39m     method=request.method,\n\u001b[32m    239\u001b[39m     url=httpcore.URL(\n\u001b[32m   (...)\u001b[39m\u001b[32m    247\u001b[39m     extensions=request.extensions,\n\u001b[32m    248\u001b[39m )\n\u001b[32m    249\u001b[39m \u001b[38;5;28;01mwith\u001b[39;00m map_httpcore_exceptions():\n\u001b[32m--> \u001b[39m\u001b[32m250\u001b[39m     resp = \u001b[38;5;28;43mself\u001b[39;49m\u001b[43m.\u001b[49m\u001b[43m_pool\u001b[49m\u001b[43m.\u001b[49m\u001b[43mhandle_request\u001b[49m\u001b[43m(\u001b[49m\u001b[43mreq\u001b[49m\u001b[43m)\u001b[49m\n\u001b[32m    252\u001b[39m \u001b[38;5;28;01massert\u001b[39;00m \u001b[38;5;28misinstance\u001b[39m(resp.stream, typing.Iterable)\n\u001b[32m    254\u001b[39m \u001b[38;5;28;01mreturn\u001b[39;00m Response(\n\u001b[32m    255\u001b[39m     status_code=resp.status,\n\u001b[32m    256\u001b[39m     headers=resp.headers,\n\u001b[32m    257\u001b[39m     stream=ResponseStream(resp.stream),\n\u001b[32m    258\u001b[39m     extensions=resp.extensions,\n\u001b[32m    259\u001b[39m )\n",
      "\u001b[36mFile \u001b[39m\u001b[32m~/pro/dev/evaluatr/.venv/lib/python3.12/site-packages/httpcore/_sync/connection_pool.py:256\u001b[39m, in \u001b[36mConnectionPool.handle_request\u001b[39m\u001b[34m(self, request)\u001b[39m\n\u001b[32m    253\u001b[39m         closing = \u001b[38;5;28mself\u001b[39m._assign_requests_to_connections()\n\u001b[32m    255\u001b[39m     \u001b[38;5;28mself\u001b[39m._close_connections(closing)\n\u001b[32m--> \u001b[39m\u001b[32m256\u001b[39m     \u001b[38;5;28;01mraise\u001b[39;00m exc \u001b[38;5;28;01mfrom\u001b[39;00m\u001b[38;5;250m \u001b[39m\u001b[38;5;28;01mNone\u001b[39;00m\n\u001b[32m    258\u001b[39m \u001b[38;5;66;03m# Return the response. Note that in this case we still have to manage\u001b[39;00m\n\u001b[32m    259\u001b[39m \u001b[38;5;66;03m# the point at which the response is closed.\u001b[39;00m\n\u001b[32m    260\u001b[39m \u001b[38;5;28;01massert\u001b[39;00m \u001b[38;5;28misinstance\u001b[39m(response.stream, typing.Iterable)\n",
      "\u001b[36mFile \u001b[39m\u001b[32m~/pro/dev/evaluatr/.venv/lib/python3.12/site-packages/httpcore/_sync/connection_pool.py:236\u001b[39m, in \u001b[36mConnectionPool.handle_request\u001b[39m\u001b[34m(self, request)\u001b[39m\n\u001b[32m    232\u001b[39m connection = pool_request.wait_for_connection(timeout=timeout)\n\u001b[32m    234\u001b[39m \u001b[38;5;28;01mtry\u001b[39;00m:\n\u001b[32m    235\u001b[39m     \u001b[38;5;66;03m# Send the request on the assigned connection.\u001b[39;00m\n\u001b[32m--> \u001b[39m\u001b[32m236\u001b[39m     response = \u001b[43mconnection\u001b[49m\u001b[43m.\u001b[49m\u001b[43mhandle_request\u001b[49m\u001b[43m(\u001b[49m\n\u001b[32m    237\u001b[39m \u001b[43m        \u001b[49m\u001b[43mpool_request\u001b[49m\u001b[43m.\u001b[49m\u001b[43mrequest\u001b[49m\n\u001b[32m    238\u001b[39m \u001b[43m    \u001b[49m\u001b[43m)\u001b[49m\n\u001b[32m    239\u001b[39m \u001b[38;5;28;01mexcept\u001b[39;00m ConnectionNotAvailable:\n\u001b[32m    240\u001b[39m     \u001b[38;5;66;03m# In some cases a connection may initially be available to\u001b[39;00m\n\u001b[32m    241\u001b[39m     \u001b[38;5;66;03m# handle a request, but then become unavailable.\u001b[39;00m\n\u001b[32m    242\u001b[39m     \u001b[38;5;66;03m#\u001b[39;00m\n\u001b[32m    243\u001b[39m     \u001b[38;5;66;03m# In this case we clear the connection and try again.\u001b[39;00m\n\u001b[32m    244\u001b[39m     pool_request.clear_connection()\n",
      "\u001b[36mFile \u001b[39m\u001b[32m~/pro/dev/evaluatr/.venv/lib/python3.12/site-packages/httpcore/_sync/connection.py:103\u001b[39m, in \u001b[36mHTTPConnection.handle_request\u001b[39m\u001b[34m(self, request)\u001b[39m\n\u001b[32m    100\u001b[39m     \u001b[38;5;28mself\u001b[39m._connect_failed = \u001b[38;5;28;01mTrue\u001b[39;00m\n\u001b[32m    101\u001b[39m     \u001b[38;5;28;01mraise\u001b[39;00m exc\n\u001b[32m--> \u001b[39m\u001b[32m103\u001b[39m \u001b[38;5;28;01mreturn\u001b[39;00m \u001b[38;5;28;43mself\u001b[39;49m\u001b[43m.\u001b[49m\u001b[43m_connection\u001b[49m\u001b[43m.\u001b[49m\u001b[43mhandle_request\u001b[49m\u001b[43m(\u001b[49m\u001b[43mrequest\u001b[49m\u001b[43m)\u001b[49m\n",
      "\u001b[36mFile \u001b[39m\u001b[32m~/pro/dev/evaluatr/.venv/lib/python3.12/site-packages/httpcore/_sync/http11.py:136\u001b[39m, in \u001b[36mHTTP11Connection.handle_request\u001b[39m\u001b[34m(self, request)\u001b[39m\n\u001b[32m    134\u001b[39m     \u001b[38;5;28;01mwith\u001b[39;00m Trace(\u001b[33m\"\u001b[39m\u001b[33mresponse_closed\u001b[39m\u001b[33m\"\u001b[39m, logger, request) \u001b[38;5;28;01mas\u001b[39;00m trace:\n\u001b[32m    135\u001b[39m         \u001b[38;5;28mself\u001b[39m._response_closed()\n\u001b[32m--> \u001b[39m\u001b[32m136\u001b[39m \u001b[38;5;28;01mraise\u001b[39;00m exc\n",
      "\u001b[36mFile \u001b[39m\u001b[32m~/pro/dev/evaluatr/.venv/lib/python3.12/site-packages/httpcore/_sync/http11.py:106\u001b[39m, in \u001b[36mHTTP11Connection.handle_request\u001b[39m\u001b[34m(self, request)\u001b[39m\n\u001b[32m     95\u001b[39m     \u001b[38;5;28;01mpass\u001b[39;00m\n\u001b[32m     97\u001b[39m \u001b[38;5;28;01mwith\u001b[39;00m Trace(\n\u001b[32m     98\u001b[39m     \u001b[33m\"\u001b[39m\u001b[33mreceive_response_headers\u001b[39m\u001b[33m\"\u001b[39m, logger, request, kwargs\n\u001b[32m     99\u001b[39m ) \u001b[38;5;28;01mas\u001b[39;00m trace:\n\u001b[32m    100\u001b[39m     (\n\u001b[32m    101\u001b[39m         http_version,\n\u001b[32m    102\u001b[39m         status,\n\u001b[32m    103\u001b[39m         reason_phrase,\n\u001b[32m    104\u001b[39m         headers,\n\u001b[32m    105\u001b[39m         trailing_data,\n\u001b[32m--> \u001b[39m\u001b[32m106\u001b[39m     ) = \u001b[38;5;28;43mself\u001b[39;49m\u001b[43m.\u001b[49m\u001b[43m_receive_response_headers\u001b[49m\u001b[43m(\u001b[49m\u001b[43m*\u001b[49m\u001b[43m*\u001b[49m\u001b[43mkwargs\u001b[49m\u001b[43m)\u001b[49m\n\u001b[32m    107\u001b[39m     trace.return_value = (\n\u001b[32m    108\u001b[39m         http_version,\n\u001b[32m    109\u001b[39m         status,\n\u001b[32m    110\u001b[39m         reason_phrase,\n\u001b[32m    111\u001b[39m         headers,\n\u001b[32m    112\u001b[39m     )\n\u001b[32m    114\u001b[39m network_stream = \u001b[38;5;28mself\u001b[39m._network_stream\n",
      "\u001b[36mFile \u001b[39m\u001b[32m~/pro/dev/evaluatr/.venv/lib/python3.12/site-packages/httpcore/_sync/http11.py:177\u001b[39m, in \u001b[36mHTTP11Connection._receive_response_headers\u001b[39m\u001b[34m(self, request)\u001b[39m\n\u001b[32m    174\u001b[39m timeout = timeouts.get(\u001b[33m\"\u001b[39m\u001b[33mread\u001b[39m\u001b[33m\"\u001b[39m, \u001b[38;5;28;01mNone\u001b[39;00m)\n\u001b[32m    176\u001b[39m \u001b[38;5;28;01mwhile\u001b[39;00m \u001b[38;5;28;01mTrue\u001b[39;00m:\n\u001b[32m--> \u001b[39m\u001b[32m177\u001b[39m     event = \u001b[38;5;28;43mself\u001b[39;49m\u001b[43m.\u001b[49m\u001b[43m_receive_event\u001b[49m\u001b[43m(\u001b[49m\u001b[43mtimeout\u001b[49m\u001b[43m=\u001b[49m\u001b[43mtimeout\u001b[49m\u001b[43m)\u001b[49m\n\u001b[32m    178\u001b[39m     \u001b[38;5;28;01mif\u001b[39;00m \u001b[38;5;28misinstance\u001b[39m(event, h11.Response):\n\u001b[32m    179\u001b[39m         \u001b[38;5;28;01mbreak\u001b[39;00m\n",
      "\u001b[36mFile \u001b[39m\u001b[32m~/pro/dev/evaluatr/.venv/lib/python3.12/site-packages/httpcore/_sync/http11.py:217\u001b[39m, in \u001b[36mHTTP11Connection._receive_event\u001b[39m\u001b[34m(self, timeout)\u001b[39m\n\u001b[32m    214\u001b[39m     event = \u001b[38;5;28mself\u001b[39m._h11_state.next_event()\n\u001b[32m    216\u001b[39m \u001b[38;5;28;01mif\u001b[39;00m event \u001b[38;5;129;01mis\u001b[39;00m h11.NEED_DATA:\n\u001b[32m--> \u001b[39m\u001b[32m217\u001b[39m     data = \u001b[38;5;28;43mself\u001b[39;49m\u001b[43m.\u001b[49m\u001b[43m_network_stream\u001b[49m\u001b[43m.\u001b[49m\u001b[43mread\u001b[49m\u001b[43m(\u001b[49m\n\u001b[32m    218\u001b[39m \u001b[43m        \u001b[49m\u001b[38;5;28;43mself\u001b[39;49m\u001b[43m.\u001b[49m\u001b[43mREAD_NUM_BYTES\u001b[49m\u001b[43m,\u001b[49m\u001b[43m \u001b[49m\u001b[43mtimeout\u001b[49m\u001b[43m=\u001b[49m\u001b[43mtimeout\u001b[49m\n\u001b[32m    219\u001b[39m \u001b[43m    \u001b[49m\u001b[43m)\u001b[49m\n\u001b[32m    221\u001b[39m     \u001b[38;5;66;03m# If we feed this case through h11 we'll raise an exception like:\u001b[39;00m\n\u001b[32m    222\u001b[39m     \u001b[38;5;66;03m#\u001b[39;00m\n\u001b[32m    223\u001b[39m     \u001b[38;5;66;03m#     httpcore.RemoteProtocolError: can't handle event type\u001b[39;00m\n\u001b[32m   (...)\u001b[39m\u001b[32m    227\u001b[39m     \u001b[38;5;66;03m# perspective. Instead we handle this case distinctly and treat\u001b[39;00m\n\u001b[32m    228\u001b[39m     \u001b[38;5;66;03m# it as a ConnectError.\u001b[39;00m\n\u001b[32m    229\u001b[39m     \u001b[38;5;28;01mif\u001b[39;00m data == \u001b[33mb\u001b[39m\u001b[33m\"\u001b[39m\u001b[33m\"\u001b[39m \u001b[38;5;129;01mand\u001b[39;00m \u001b[38;5;28mself\u001b[39m._h11_state.their_state == h11.SEND_RESPONSE:\n",
      "\u001b[36mFile \u001b[39m\u001b[32m~/pro/dev/evaluatr/.venv/lib/python3.12/site-packages/httpcore/_backends/sync.py:128\u001b[39m, in \u001b[36mSyncStream.read\u001b[39m\u001b[34m(self, max_bytes, timeout)\u001b[39m\n\u001b[32m    126\u001b[39m \u001b[38;5;28;01mwith\u001b[39;00m map_exceptions(exc_map):\n\u001b[32m    127\u001b[39m     \u001b[38;5;28mself\u001b[39m._sock.settimeout(timeout)\n\u001b[32m--> \u001b[39m\u001b[32m128\u001b[39m     \u001b[38;5;28;01mreturn\u001b[39;00m \u001b[38;5;28;43mself\u001b[39;49m\u001b[43m.\u001b[49m\u001b[43m_sock\u001b[49m\u001b[43m.\u001b[49m\u001b[43mrecv\u001b[49m\u001b[43m(\u001b[49m\u001b[43mmax_bytes\u001b[49m\u001b[43m)\u001b[49m\n",
      "\u001b[36mFile \u001b[39m\u001b[32m~/.local/share/uv/python/cpython-3.12.8-macos-aarch64-none/lib/python3.12/ssl.py:1232\u001b[39m, in \u001b[36mSSLSocket.recv\u001b[39m\u001b[34m(self, buflen, flags)\u001b[39m\n\u001b[32m   1228\u001b[39m     \u001b[38;5;28;01mif\u001b[39;00m flags != \u001b[32m0\u001b[39m:\n\u001b[32m   1229\u001b[39m         \u001b[38;5;28;01mraise\u001b[39;00m \u001b[38;5;167;01mValueError\u001b[39;00m(\n\u001b[32m   1230\u001b[39m             \u001b[33m\"\u001b[39m\u001b[33mnon-zero flags not allowed in calls to recv() on \u001b[39m\u001b[38;5;132;01m%s\u001b[39;00m\u001b[33m\"\u001b[39m %\n\u001b[32m   1231\u001b[39m             \u001b[38;5;28mself\u001b[39m.\u001b[34m__class__\u001b[39m)\n\u001b[32m-> \u001b[39m\u001b[32m1232\u001b[39m     \u001b[38;5;28;01mreturn\u001b[39;00m \u001b[38;5;28;43mself\u001b[39;49m\u001b[43m.\u001b[49m\u001b[43mread\u001b[49m\u001b[43m(\u001b[49m\u001b[43mbuflen\u001b[49m\u001b[43m)\u001b[49m\n\u001b[32m   1233\u001b[39m \u001b[38;5;28;01melse\u001b[39;00m:\n\u001b[32m   1234\u001b[39m     \u001b[38;5;28;01mreturn\u001b[39;00m \u001b[38;5;28msuper\u001b[39m().recv(buflen, flags)\n",
      "\u001b[36mFile \u001b[39m\u001b[32m~/.local/share/uv/python/cpython-3.12.8-macos-aarch64-none/lib/python3.12/ssl.py:1105\u001b[39m, in \u001b[36mSSLSocket.read\u001b[39m\u001b[34m(self, len, buffer)\u001b[39m\n\u001b[32m   1103\u001b[39m         \u001b[38;5;28;01mreturn\u001b[39;00m \u001b[38;5;28mself\u001b[39m._sslobj.read(\u001b[38;5;28mlen\u001b[39m, buffer)\n\u001b[32m   1104\u001b[39m     \u001b[38;5;28;01melse\u001b[39;00m:\n\u001b[32m-> \u001b[39m\u001b[32m1105\u001b[39m         \u001b[38;5;28;01mreturn\u001b[39;00m \u001b[38;5;28;43mself\u001b[39;49m\u001b[43m.\u001b[49m\u001b[43m_sslobj\u001b[49m\u001b[43m.\u001b[49m\u001b[43mread\u001b[49m\u001b[43m(\u001b[49m\u001b[38;5;28;43mlen\u001b[39;49m\u001b[43m)\u001b[49m\n\u001b[32m   1106\u001b[39m \u001b[38;5;28;01mexcept\u001b[39;00m SSLError \u001b[38;5;28;01mas\u001b[39;00m x:\n\u001b[32m   1107\u001b[39m     \u001b[38;5;28;01mif\u001b[39;00m x.args[\u001b[32m0\u001b[39m] == SSL_ERROR_EOF \u001b[38;5;129;01mand\u001b[39;00m \u001b[38;5;28mself\u001b[39m.suppress_ragged_eofs:\n",
      "\u001b[31mKeyboardInterrupt\u001b[39m: "
     ]
    }
   ],
   "source": [
    "#| eval: false\n",
    "pdf_library = Path(\"../_data/pdf_library\")\n",
    "report_id_test = '49d2fba781b6a7c0d94577479636ee6f'\n",
    "reports = [p for p in pdf_library.ls() if p.name == report_id_test]; reports\n",
    "process_all_reports(reports)"
   ]
  }
 ],
 "metadata": {
  "kernelspec": {
   "display_name": "python3",
   "language": "python",
   "name": "python3"
  }
 },
 "nbformat": 4,
 "nbformat_minor": 2
}
