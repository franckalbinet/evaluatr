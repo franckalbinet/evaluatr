{
 "cells": [
  {
   "cell_type": "markdown",
   "metadata": {},
   "source": [
    "# OCR\n",
    "\n",
    "> OCR evaluation reports"
   ]
  },
  {
   "cell_type": "code",
   "execution_count": null,
   "metadata": {},
   "outputs": [],
   "source": [
    "#| default_exp ocr"
   ]
  },
  {
   "cell_type": "code",
   "execution_count": null,
   "metadata": {},
   "outputs": [],
   "source": [
    "#| export\n",
    "import os\n",
    "import re\n",
    "from io import BytesIO\n",
    "from dotenv import load_dotenv\n",
    "import base64\n",
    "from fastcore.all import *\n",
    "from rich import print\n",
    "import urllib.parse\n",
    "from pathlib import Path\n",
    "from tqdm import tqdm\n",
    "import json\n",
    "import logging\n",
    "import tempfile\n",
    "from PIL import Image\n",
    "\n",
    "from mistralai import Mistral\n",
    "from evaluatr.readers import load_evals"
   ]
  },
  {
   "cell_type": "code",
   "execution_count": null,
   "metadata": {},
   "outputs": [],
   "source": [
    "#| export\n",
    "load_dotenv()\n",
    "mistral_api_key = os.getenv(\"MISTRAL_API_KEY\")"
   ]
  },
  {
   "cell_type": "code",
   "execution_count": null,
   "metadata": {},
   "outputs": [],
   "source": [
    "#| export\n",
    "src_dir = Path(\"../_data/\")"
   ]
  },
  {
   "cell_type": "markdown",
   "metadata": {},
   "source": [
    "For testing purposes, let's load evaluations:"
   ]
  },
  {
   "cell_type": "code",
   "execution_count": null,
   "metadata": {},
   "outputs": [
    {
     "data": {
      "text/html": [
       "<pre style=\"white-space:pre;overflow-x:auto;line-height:normal;font-family:Menlo,'DejaVu Sans Mono',consolas,'Courier New',monospace\"><span style=\"font-weight: bold\">{</span>\n",
       "    <span style=\"color: #008000; text-decoration-color: #008000\">'id'</span>: <span style=\"color: #008000; text-decoration-color: #008000\">'1a57974ab89d7280988aa6b706147ce1'</span>,\n",
       "    <span style=\"color: #008000; text-decoration-color: #008000\">'docs'</span>: <span style=\"font-weight: bold\">[</span>\n",
       "        <span style=\"font-weight: bold\">{</span>\n",
       "            <span style=\"color: #008000; text-decoration-color: #008000\">'Document Subtype'</span>: <span style=\"color: #008000; text-decoration-color: #008000\">'Evaluation report'</span>,\n",
       "            <span style=\"color: #008000; text-decoration-color: #008000\">'File URL'</span>: \n",
       "<span style=\"color: #008000; text-decoration-color: #008000\">'https://evaluation.iom.int/sites/g/files/tmzbdl151/files/docs/resources/Internal%20Evaluation_NG20P0516_MAY_2023_F</span>\n",
       "<span style=\"color: #008000; text-decoration-color: #008000\">INAL_Abderrahim%20EL%20MOULAT.pdf'</span>,\n",
       "            <span style=\"color: #008000; text-decoration-color: #008000\">'File description'</span>: <span style=\"color: #008000; text-decoration-color: #008000\">'Evaluation Report'</span>\n",
       "        <span style=\"font-weight: bold\">}</span>,\n",
       "        <span style=\"font-weight: bold\">{</span>\n",
       "            <span style=\"color: #008000; text-decoration-color: #008000\">'Document Subtype'</span>: <span style=\"color: #008000; text-decoration-color: #008000\">'Evaluation brief'</span>,\n",
       "            <span style=\"color: #008000; text-decoration-color: #008000\">'File URL'</span>: \n",
       "<span style=\"color: #008000; text-decoration-color: #008000\">'https://evaluation.iom.int/sites/g/files/tmzbdl151/files/docs/resources/RR0163_Evaluation%20Brief_MAY_%202023_Abde</span>\n",
       "<span style=\"color: #008000; text-decoration-color: #008000\">rrahim%20EL%20MOULAT.pdf'</span>,\n",
       "            <span style=\"color: #008000; text-decoration-color: #008000\">'File description'</span>: <span style=\"color: #008000; text-decoration-color: #008000\">'Evaluation Brief'</span>\n",
       "        <span style=\"font-weight: bold\">}</span>\n",
       "    <span style=\"font-weight: bold\">]</span>,\n",
       "    <span style=\"color: #008000; text-decoration-color: #008000\">'meta'</span>: <span style=\"font-weight: bold\">{</span>\n",
       "        <span style=\"color: #008000; text-decoration-color: #008000\">'Title'</span>: <span style=\"color: #008000; text-decoration-color: #008000\">'EX-POST EVALUATION OF THE PROJECT:  NIGERIA: STRENGTHENING REINTEGRATION FOR RETURNEES (SRARP)  -</span>\n",
       "<span style=\"color: #008000; text-decoration-color: #008000\">PHASE II'</span>,\n",
       "        <span style=\"color: #008000; text-decoration-color: #008000\">'Year'</span>: <span style=\"color: #008080; text-decoration-color: #008080; font-weight: bold\">2023</span>,\n",
       "        <span style=\"color: #008000; text-decoration-color: #008000\">'Author'</span>: <span style=\"color: #008000; text-decoration-color: #008000\">'Abderrahim El Moulat'</span>,\n",
       "        <span style=\"color: #008000; text-decoration-color: #008000\">'Best Practicesor Lessons Learnt'</span>: <span style=\"color: #008000; text-decoration-color: #008000\">'Yes'</span>,\n",
       "        <span style=\"color: #008000; text-decoration-color: #008000\">'Date of Publication'</span>: <span style=\"color: #008000; text-decoration-color: #008000\">'2023-05-10'</span>,\n",
       "        <span style=\"color: #008000; text-decoration-color: #008000\">'Donor'</span>: <span style=\"color: #008000; text-decoration-color: #008000\">'Government of Germany'</span>,\n",
       "        <span style=\"color: #008000; text-decoration-color: #008000\">'Evaluation Brief'</span>: <span style=\"color: #008000; text-decoration-color: #008000\">'Yes'</span>,\n",
       "        <span style=\"color: #008000; text-decoration-color: #008000\">'Evaluation Commissioner'</span>: <span style=\"color: #008000; text-decoration-color: #008000\">'Donor, IOM'</span>,\n",
       "        <span style=\"color: #008000; text-decoration-color: #008000\">'Evaluation Coverage'</span>: <span style=\"color: #008000; text-decoration-color: #008000\">'Country'</span>,\n",
       "        <span style=\"color: #008000; text-decoration-color: #008000\">'Evaluation Period From Date'</span>: <span style=\"color: #008000; text-decoration-color: #008000\">'nan'</span>,\n",
       "        <span style=\"color: #008000; text-decoration-color: #008000\">'Evaluation Period To Date'</span>: <span style=\"color: #008000; text-decoration-color: #008000\">'NaT'</span>,\n",
       "        <span style=\"color: #008000; text-decoration-color: #008000\">'Executive Summary'</span>: <span style=\"color: #008000; text-decoration-color: #008000\">'Yes'</span>,\n",
       "        <span style=\"color: #008000; text-decoration-color: #008000\">'External Version of the Report'</span>: <span style=\"color: #008000; text-decoration-color: #008000\">'No'</span>,\n",
       "        <span style=\"color: #008000; text-decoration-color: #008000\">'Languages'</span>: <span style=\"color: #008000; text-decoration-color: #008000\">'English'</span>,\n",
       "        <span style=\"color: #008000; text-decoration-color: #008000\">'Migration Thematic Areas'</span>: <span style=\"color: #008000; text-decoration-color: #008000\">'Assistance to vulnerable migrants, Migrant training and integration (including</span>\n",
       "<span style=\"color: #008000; text-decoration-color: #008000\">community cohesion), Migration health (assessment, travel, health promotion, crisis-affected), Return and AVRR'</span>,\n",
       "        <span style=\"color: #008000; text-decoration-color: #008000\">'Name of Project(s) Being Evaluated'</span>: nan,\n",
       "        <span style=\"color: #008000; text-decoration-color: #008000\">'Number of Pages Excluding annexes'</span>: nan,\n",
       "        <span style=\"color: #008000; text-decoration-color: #008000\">'Other Documents Included'</span>: nan,\n",
       "        <span style=\"color: #008000; text-decoration-color: #008000\">'Project Code'</span>: <span style=\"color: #008000; text-decoration-color: #008000\">'RR.0163'</span>,\n",
       "        <span style=\"color: #008000; text-decoration-color: #008000\">'Countries Covered'</span>: <span style=\"font-weight: bold\">[</span><span style=\"color: #008000; text-decoration-color: #008000\">'Nigeria'</span><span style=\"font-weight: bold\">]</span>,\n",
       "        <span style=\"color: #008000; text-decoration-color: #008000\">'Regions Covered'</span>: <span style=\"color: #008000; text-decoration-color: #008000\">'RO Dakar'</span>,\n",
       "        <span style=\"color: #008000; text-decoration-color: #008000\">'Relevant Crosscutting Themes'</span>: <span style=\"color: #008000; text-decoration-color: #008000\">'Gender, Rights-based approach'</span>,\n",
       "        <span style=\"color: #008000; text-decoration-color: #008000\">'Report Published'</span>: <span style=\"color: #008000; text-decoration-color: #008000\">'Yes'</span>,\n",
       "        <span style=\"color: #008000; text-decoration-color: #008000\">'Terms of Reference'</span>: <span style=\"color: #008000; text-decoration-color: #008000\">'No'</span>,\n",
       "        <span style=\"color: #008000; text-decoration-color: #008000\">'Type of Evaluation Scope'</span>: <span style=\"color: #008000; text-decoration-color: #008000\">'Programme/Project'</span>,\n",
       "        <span style=\"color: #008000; text-decoration-color: #008000\">'Type of Evaluation Timing'</span>: <span style=\"color: #008000; text-decoration-color: #008000\">'Ex-post (after the end of the project/programme)'</span>,\n",
       "        <span style=\"color: #008000; text-decoration-color: #008000\">'Type of Evaluator'</span>: <span style=\"color: #008000; text-decoration-color: #008000\">'Internal'</span>,\n",
       "        <span style=\"color: #008000; text-decoration-color: #008000\">'Level of Evaluation'</span>: <span style=\"color: #008000; text-decoration-color: #008000\">'Decentralized'</span>,\n",
       "        <span style=\"color: #008000; text-decoration-color: #008000\">'Document Subtype'</span>: <span style=\"color: #008000; text-decoration-color: #008000\">'Evaluation report, Evaluation brief'</span>,\n",
       "        <span style=\"color: #008000; text-decoration-color: #008000\">'File URL'</span>: \n",
       "<span style=\"color: #008000; text-decoration-color: #008000\">'https://evaluation.iom.int/sites/g/files/tmzbdl151/files/docs/resources/Internal%20Evaluation_NG20P0516_MAY_2023_F</span>\n",
       "<span style=\"color: #008000; text-decoration-color: #008000\">INAL_Abderrahim%20EL%20MOULAT.pdf,   </span>\n",
       "<span style=\"color: #008000; text-decoration-color: #008000\">https://evaluation.iom.int/sites/g/files/tmzbdl151/files/docs/resources/RR0163_Evaluation%20Brief_MAY_%202023_Abder</span>\n",
       "<span style=\"color: #008000; text-decoration-color: #008000\">rahim%20EL%20MOULAT.pdf'</span>,\n",
       "        <span style=\"color: #008000; text-decoration-color: #008000\">'File description'</span>: <span style=\"color: #008000; text-decoration-color: #008000\">'Evaluation Report , Evaluation Brief'</span>,\n",
       "        <span style=\"color: #008000; text-decoration-color: #008000\">'Management response'</span>: <span style=\"color: #008000; text-decoration-color: #008000\">'No'</span>,\n",
       "        <span style=\"color: #008000; text-decoration-color: #008000\">'Date added'</span>: <span style=\"color: #008000; text-decoration-color: #008000\">'Fri, 07/07/2023 - 15:35'</span>,\n",
       "        <span style=\"color: #008000; text-decoration-color: #008000\">'Metaevaluation'</span>: <span style=\"color: #008000; text-decoration-color: #008000\">'2020-24'</span>,\n",
       "        <span style=\"color: #008000; text-decoration-color: #008000\">'exclude'</span>: nan,\n",
       "        <span style=\"color: #008000; text-decoration-color: #008000\">'reason'</span>: nan\n",
       "    <span style=\"font-weight: bold\">}</span>\n",
       "<span style=\"font-weight: bold\">}</span>\n",
       "</pre>\n"
      ],
      "text/plain": [
       "\u001b[1m{\u001b[0m\n",
       "    \u001b[32m'id'\u001b[0m: \u001b[32m'1a57974ab89d7280988aa6b706147ce1'\u001b[0m,\n",
       "    \u001b[32m'docs'\u001b[0m: \u001b[1m[\u001b[0m\n",
       "        \u001b[1m{\u001b[0m\n",
       "            \u001b[32m'Document Subtype'\u001b[0m: \u001b[32m'Evaluation report'\u001b[0m,\n",
       "            \u001b[32m'File URL'\u001b[0m: \n",
       "\u001b[32m'https://evaluation.iom.int/sites/g/files/tmzbdl151/files/docs/resources/Internal%20Evaluation_NG20P0516_MAY_2023_F\u001b[0m\n",
       "\u001b[32mINAL_Abderrahim%20EL%20MOULAT.pdf'\u001b[0m,\n",
       "            \u001b[32m'File description'\u001b[0m: \u001b[32m'Evaluation Report'\u001b[0m\n",
       "        \u001b[1m}\u001b[0m,\n",
       "        \u001b[1m{\u001b[0m\n",
       "            \u001b[32m'Document Subtype'\u001b[0m: \u001b[32m'Evaluation brief'\u001b[0m,\n",
       "            \u001b[32m'File URL'\u001b[0m: \n",
       "\u001b[32m'https://evaluation.iom.int/sites/g/files/tmzbdl151/files/docs/resources/RR0163_Evaluation%20Brief_MAY_%202023_Abde\u001b[0m\n",
       "\u001b[32mrrahim%20EL%20MOULAT.pdf'\u001b[0m,\n",
       "            \u001b[32m'File description'\u001b[0m: \u001b[32m'Evaluation Brief'\u001b[0m\n",
       "        \u001b[1m}\u001b[0m\n",
       "    \u001b[1m]\u001b[0m,\n",
       "    \u001b[32m'meta'\u001b[0m: \u001b[1m{\u001b[0m\n",
       "        \u001b[32m'Title'\u001b[0m: \u001b[32m'EX-POST EVALUATION OF THE PROJECT:  NIGERIA: STRENGTHENING REINTEGRATION FOR RETURNEES \u001b[0m\u001b[32m(\u001b[0m\u001b[32mSRARP\u001b[0m\u001b[32m)\u001b[0m\u001b[32m  -\u001b[0m\n",
       "\u001b[32mPHASE II'\u001b[0m,\n",
       "        \u001b[32m'Year'\u001b[0m: \u001b[1;36m2023\u001b[0m,\n",
       "        \u001b[32m'Author'\u001b[0m: \u001b[32m'Abderrahim El Moulat'\u001b[0m,\n",
       "        \u001b[32m'Best Practicesor Lessons Learnt'\u001b[0m: \u001b[32m'Yes'\u001b[0m,\n",
       "        \u001b[32m'Date of Publication'\u001b[0m: \u001b[32m'2023-05-10'\u001b[0m,\n",
       "        \u001b[32m'Donor'\u001b[0m: \u001b[32m'Government of Germany'\u001b[0m,\n",
       "        \u001b[32m'Evaluation Brief'\u001b[0m: \u001b[32m'Yes'\u001b[0m,\n",
       "        \u001b[32m'Evaluation Commissioner'\u001b[0m: \u001b[32m'Donor, IOM'\u001b[0m,\n",
       "        \u001b[32m'Evaluation Coverage'\u001b[0m: \u001b[32m'Country'\u001b[0m,\n",
       "        \u001b[32m'Evaluation Period From Date'\u001b[0m: \u001b[32m'nan'\u001b[0m,\n",
       "        \u001b[32m'Evaluation Period To Date'\u001b[0m: \u001b[32m'NaT'\u001b[0m,\n",
       "        \u001b[32m'Executive Summary'\u001b[0m: \u001b[32m'Yes'\u001b[0m,\n",
       "        \u001b[32m'External Version of the Report'\u001b[0m: \u001b[32m'No'\u001b[0m,\n",
       "        \u001b[32m'Languages'\u001b[0m: \u001b[32m'English'\u001b[0m,\n",
       "        \u001b[32m'Migration Thematic Areas'\u001b[0m: \u001b[32m'Assistance to vulnerable migrants, Migrant training and integration \u001b[0m\u001b[32m(\u001b[0m\u001b[32mincluding\u001b[0m\n",
       "\u001b[32mcommunity cohesion\u001b[0m\u001b[32m)\u001b[0m\u001b[32m, Migration health \u001b[0m\u001b[32m(\u001b[0m\u001b[32massessment, travel, health promotion, crisis-affected\u001b[0m\u001b[32m)\u001b[0m\u001b[32m, Return and AVRR'\u001b[0m,\n",
       "        \u001b[32m'Name of Project\u001b[0m\u001b[32m(\u001b[0m\u001b[32ms\u001b[0m\u001b[32m)\u001b[0m\u001b[32m Being Evaluated'\u001b[0m: nan,\n",
       "        \u001b[32m'Number of Pages Excluding annexes'\u001b[0m: nan,\n",
       "        \u001b[32m'Other Documents Included'\u001b[0m: nan,\n",
       "        \u001b[32m'Project Code'\u001b[0m: \u001b[32m'RR.0163'\u001b[0m,\n",
       "        \u001b[32m'Countries Covered'\u001b[0m: \u001b[1m[\u001b[0m\u001b[32m'Nigeria'\u001b[0m\u001b[1m]\u001b[0m,\n",
       "        \u001b[32m'Regions Covered'\u001b[0m: \u001b[32m'RO Dakar'\u001b[0m,\n",
       "        \u001b[32m'Relevant Crosscutting Themes'\u001b[0m: \u001b[32m'Gender, Rights-based approach'\u001b[0m,\n",
       "        \u001b[32m'Report Published'\u001b[0m: \u001b[32m'Yes'\u001b[0m,\n",
       "        \u001b[32m'Terms of Reference'\u001b[0m: \u001b[32m'No'\u001b[0m,\n",
       "        \u001b[32m'Type of Evaluation Scope'\u001b[0m: \u001b[32m'Programme/Project'\u001b[0m,\n",
       "        \u001b[32m'Type of Evaluation Timing'\u001b[0m: \u001b[32m'Ex-post \u001b[0m\u001b[32m(\u001b[0m\u001b[32mafter the end of the project/programme\u001b[0m\u001b[32m)\u001b[0m\u001b[32m'\u001b[0m,\n",
       "        \u001b[32m'Type of Evaluator'\u001b[0m: \u001b[32m'Internal'\u001b[0m,\n",
       "        \u001b[32m'Level of Evaluation'\u001b[0m: \u001b[32m'Decentralized'\u001b[0m,\n",
       "        \u001b[32m'Document Subtype'\u001b[0m: \u001b[32m'Evaluation report, Evaluation brief'\u001b[0m,\n",
       "        \u001b[32m'File URL'\u001b[0m: \n",
       "\u001b[32m'https://evaluation.iom.int/sites/g/files/tmzbdl151/files/docs/resources/Internal%20Evaluation_NG20P0516_MAY_2023_F\u001b[0m\n",
       "\u001b[32mINAL_Abderrahim%20EL%20MOULAT.pdf,   \u001b[0m\n",
       "\u001b[32mhttps://evaluation.iom.int/sites/g/files/tmzbdl151/files/docs/resources/RR0163_Evaluation%20Brief_MAY_%202023_Abder\u001b[0m\n",
       "\u001b[32mrahim%20EL%20MOULAT.pdf'\u001b[0m,\n",
       "        \u001b[32m'File description'\u001b[0m: \u001b[32m'Evaluation Report , Evaluation Brief'\u001b[0m,\n",
       "        \u001b[32m'Management response'\u001b[0m: \u001b[32m'No'\u001b[0m,\n",
       "        \u001b[32m'Date added'\u001b[0m: \u001b[32m'Fri, 07/07/2023 - 15:35'\u001b[0m,\n",
       "        \u001b[32m'Metaevaluation'\u001b[0m: \u001b[32m'2020-24'\u001b[0m,\n",
       "        \u001b[32m'exclude'\u001b[0m: nan,\n",
       "        \u001b[32m'reason'\u001b[0m: nan\n",
       "    \u001b[1m}\u001b[0m\n",
       "\u001b[1m}\u001b[0m\n"
      ]
     },
     "metadata": {},
     "output_type": "display_data"
    }
   ],
   "source": [
    "#| eval: false\n",
    "fname_json = '../_data/output/evaluations.json'\n",
    "evals = load_evals(fname_json)\n",
    "print(evals[0])"
   ]
  },
  {
   "cell_type": "markdown",
   "metadata": {},
   "source": [
    "To find a particular evaluation per name (e.g \"Final Evaluation of the EU-IOM Joint ...\"), we can simply:"
   ]
  },
  {
   "cell_type": "code",
   "execution_count": null,
   "metadata": {},
   "outputs": [
    {
     "data": {
      "text/plain": [
       "[{'id': '49d2fba781b6a7c0d94577479636ee6f',\n",
       "  'docs': [{'Document Subtype': 'Evaluation report',\n",
       "    'File URL': 'https://evaluation.iom.int/sites/g/files/tmzbdl151/files/docs/resources/Abridged%20Evaluation%20Report_%20Final_Olta%20NDOJA.pdf',\n",
       "    'File description': 'Evaluation Report'},\n",
       "   {'Document Subtype': 'Evaluation brief',\n",
       "    'File URL': 'https://evaluation.iom.int/sites/g/files/tmzbdl151/files/docs/resources/Evaluation%20Learning%20Brief_Final_Olta%20NDOJA.pdf',\n",
       "    'File description': 'Evaluation Brief'},\n",
       "   {'Document Subtype': 'Annexes',\n",
       "    'File URL': 'https://evaluation.iom.int/sites/g/files/tmzbdl151/files/docs/resources/Final%20Evaluation%20Report%20Final_Olta%20NDOJA.pdf',\n",
       "    'File description': 'Abridged Report'},\n",
       "   {'Document Subtype': 'Management response',\n",
       "    'File URL': 'https://evaluation.iom.int/sites/g/files/tmzbdl151/files/docs/resources/HoA%20EU%20JI%20Final%20Eval%20-%20Management%20Response%20Matrix%20-%20Final.pdf',\n",
       "    'File description': 'Management Response'}],\n",
       "  'meta': {'Title': 'Final Evaluation of the EU-IOM Joint Initiative for migrant protection and reintegration in the horn of Africa',\n",
       "   'Year': 2023,\n",
       "   'Author': 'PPMI Group',\n",
       "   'Best Practicesor Lessons Learnt': 'Yes',\n",
       "   'Date of Publication': '2023-03-17',\n",
       "   'Donor': 'European Union',\n",
       "   'Evaluation Brief': 'Yes',\n",
       "   'Evaluation Commissioner': 'IOM',\n",
       "   'Evaluation Coverage': 'Regional',\n",
       "   'Evaluation Period From Date': 'nan',\n",
       "   'Evaluation Period To Date': 'NaT',\n",
       "   'Executive Summary': 'Yes',\n",
       "   'External Version of the Report': 'No',\n",
       "   'Languages': 'English',\n",
       "   'Migration Thematic Areas': 'Assistance to vulnerable migrants, Return and AVRR',\n",
       "   'Name of Project(s) Being Evaluated': nan,\n",
       "   'Number of Pages Excluding annexes': nan,\n",
       "   'Other Documents Included': nan,\n",
       "   'Project Code': 'RT.1354',\n",
       "   'Countries Covered': ['Djibouti', 'Ethiopia', 'Somalia', 'South Sudan'],\n",
       "   'Regions Covered': 'RO Nairobi',\n",
       "   'Relevant Crosscutting Themes': 'Accountability to affected populations, Environment, Gender, Mainstreaming protection into crisis response, Principled humanitarian action, Rights-based approach',\n",
       "   'Report Published': 'Yes',\n",
       "   'Terms of Reference': 'No',\n",
       "   'Type of Evaluation Scope': 'Programme/Project',\n",
       "   'Type of Evaluation Timing': 'Final (at the end of the project/programme)',\n",
       "   'Type of Evaluator': 'External',\n",
       "   'Level of Evaluation': 'Decentralized',\n",
       "   'Document Subtype': 'Evaluation report, Evaluation brief, Annexes, Management response',\n",
       "   'File URL': 'https://evaluation.iom.int/sites/g/files/tmzbdl151/files/docs/resources/Abridged%20Evaluation%20Report_%20Final_Olta%20NDOJA.pdf,   https://evaluation.iom.int/sites/g/files/tmzbdl151/files/docs/resources/Evaluation%20Learning%20Brief_Final_Olta%20NDOJA.pdf,   https://evaluation.iom.int/sites/g/files/tmzbdl151/files/docs/resources/Final%20Evaluation%20Report%20Final_Olta%20NDOJA.pdf,   https://evaluation.iom.int/sites/g/files/tmzbdl151/files/docs/resources/HoA%20EU%20JI%20Final%20Eval%20-%20Management%20Response%20Matrix%20-%20Final.pdf',\n",
       "   'File description': 'Evaluation Report , Evaluation Brief, Abridged Report, Management Response',\n",
       "   'Management response': 'No',\n",
       "   'Date added': 'Fri, 05/26/2023 - 12:38',\n",
       "   'Metaevaluation': '2020-24',\n",
       "   'exclude': nan,\n",
       "   'reason': nan}}]"
      ]
     },
     "execution_count": null,
     "metadata": {},
     "output_type": "execute_result"
    }
   ],
   "source": [
    "#| eval: false\n",
    "title = 'Final Evaluation of the EU-IOM Joint Initiative for migrant protection and reintegration in the Horn of Africa'\n",
    "results = [o for o in evals.filter(lambda x: title.lower() in x['meta']['Title'].lower())]; results"
   ]
  },
  {
   "cell_type": "markdown",
   "metadata": {},
   "source": [
    "## Utils"
   ]
  },
  {
   "cell_type": "markdown",
   "metadata": {},
   "source": [
    "Given an evaluation `id` and a `pdf` file name of one of its supporting doc we'd like to check its `subtype`:"
   ]
  },
  {
   "cell_type": "code",
   "execution_count": null,
   "metadata": {},
   "outputs": [],
   "source": [
    "#| exports\n",
    "def get_doc_subtype(\n",
    "    id:str, # ID of the evaluation\n",
    "    fname:str, # Name of the file\n",
    "    evals # Evaluations data\n",
    "    )->str: # Document Subtype\n",
    "    \"Get Document Subtype for a given file in the evaluation dataset\"\n",
    "    eval_data = L(evals).filter(lambda x: x['id']==id)\n",
    "    if not eval_data: return None\n",
    "    \n",
    "    docs = L(eval_data[0]['docs'])\n",
    "    matches = docs.filter(lambda x: Path(x['File URL']).name==fname)\n",
    "    return matches[0]['Document Subtype'] if matches else None"
   ]
  },
  {
   "cell_type": "markdown",
   "metadata": {},
   "source": [
    "Now, based on downloaded PDFs on `path_pdf`, we can get the subtype of each document:"
   ]
  },
  {
   "cell_type": "code",
   "execution_count": null,
   "metadata": {},
   "outputs": [
    {
     "data": {
      "text/html": [
       "<pre style=\"white-space:pre;overflow-x:auto;line-height:normal;font-family:Menlo,'DejaVu Sans Mono',consolas,'Courier New',monospace\">Name: Evaluation%20Learning%20Brief_Final_Olta%20NDOJA.pdf\n",
       "Subtype: Evaluation brief\n",
       "</pre>\n"
      ],
      "text/plain": [
       "Name: Evaluation%20Learning%20Brief_Final_Olta%20NDOJA.pdf\n",
       "Subtype: Evaluation brief\n"
      ]
     },
     "metadata": {},
     "output_type": "display_data"
    },
    {
     "data": {
      "text/html": [
       "<pre style=\"white-space:pre;overflow-x:auto;line-height:normal;font-family:Menlo,'DejaVu Sans Mono',consolas,'Courier New',monospace\">Name: HoA%20EU%20JI%20Final%20Eval%<span style=\"color: #008080; text-decoration-color: #008080; font-weight: bold\">20</span>-%20Management%20Response%20Matrix%<span style=\"color: #008080; text-decoration-color: #008080; font-weight: bold\">20</span>-%20Final.pdf\n",
       "Subtype: Management response\n",
       "</pre>\n"
      ],
      "text/plain": [
       "Name: HoA%20EU%20JI%20Final%20Eval%\u001b[1;36m20\u001b[0m-%20Management%20Response%20Matrix%\u001b[1;36m20\u001b[0m-%20Final.pdf\n",
       "Subtype: Management response\n"
      ]
     },
     "metadata": {},
     "output_type": "display_data"
    },
    {
     "data": {
      "text/html": [
       "<pre style=\"white-space:pre;overflow-x:auto;line-height:normal;font-family:Menlo,'DejaVu Sans Mono',consolas,'Courier New',monospace\">Name: Abridged%20Evaluation%20Report_%20Final_Olta%20NDOJA.pdf\n",
       "Subtype: Evaluation report\n",
       "</pre>\n"
      ],
      "text/plain": [
       "Name: Abridged%20Evaluation%20Report_%20Final_Olta%20NDOJA.pdf\n",
       "Subtype: Evaluation report\n"
      ]
     },
     "metadata": {},
     "output_type": "display_data"
    },
    {
     "data": {
      "text/html": [
       "<pre style=\"white-space:pre;overflow-x:auto;line-height:normal;font-family:Menlo,'DejaVu Sans Mono',consolas,'Courier New',monospace\">Name: Final%20Evaluation%20Report%20Final_Olta%20NDOJA.pdf\n",
       "Subtype: Annexes\n",
       "</pre>\n"
      ],
      "text/plain": [
       "Name: Final%20Evaluation%20Report%20Final_Olta%20NDOJA.pdf\n",
       "Subtype: Annexes\n"
      ]
     },
     "metadata": {},
     "output_type": "display_data"
    }
   ],
   "source": [
    "#| eval: false\n",
    "path_pdf = Path('../_data/pdf_library')\n",
    "id = '49d2fba781b6a7c0d94577479636ee6f'\n",
    "for o in path_pdf.ls().filter(lambda x: x.name == id)[0].ls():\n",
    "    print(f'Name: {o.name}\\nSubtype: {get_doc_subtype(id, o.name, evals)}')"
   ]
  },
  {
   "cell_type": "code",
   "execution_count": null,
   "metadata": {},
   "outputs": [],
   "source": [
    "#| exports\n",
    "# Note: filename will be cleaned upstream in a next version\n",
    "def clean_pdf_name(pdf_name: str) -> str:\n",
    "    \"\"\"\n",
    "    Clean PDF name to create folder-friendly string.\n",
    "    Removes special characters and spaces, replaces with underscores.\n",
    "    \"\"\"\n",
    "    # Remove URL encoding\n",
    "    pdf_name = urllib.parse.unquote(pdf_name)\n",
    "    \n",
    "    # Replace spaces and special characters with underscores\n",
    "    # Replace any character that is not a word character (\\w), whitespace (\\s), or hyphen (-) with underscore\n",
    "    cleaned = re.sub(r'[^\\w\\s-]', '_', pdf_name)\n",
    "    \n",
    "    # Replace any sequence of hyphens or whitespace with a single underscore\n",
    "    cleaned = re.sub(r'[-\\s]+', '_', cleaned)\n",
    "    \n",
    "    # Replace multiple consecutive underscores with a single underscore\n",
    "    cleaned = re.sub(r'_+', '_', cleaned)\n",
    "    cleaned = cleaned.strip('_')  # Remove leading/trailing underscores\n",
    "    \n",
    "    return cleaned.lower()"
   ]
  },
  {
   "cell_type": "code",
   "execution_count": null,
   "metadata": {},
   "outputs": [
    {
     "data": {
      "text/plain": [
       "'final_evaluation_report_final_olta_ndoja_pdf'"
      ]
     },
     "execution_count": null,
     "metadata": {},
     "output_type": "execute_result"
    }
   ],
   "source": [
    "clean_pdf_name(\"Final%20Evaluation%20Report%20Final_Olta%20NDOJA.pdf\")"
   ]
  },
  {
   "cell_type": "markdown",
   "metadata": {},
   "source": [
    "## Batch processing"
   ]
  },
  {
   "cell_type": "code",
   "execution_count": null,
   "metadata": {},
   "outputs": [],
   "source": [
    "#| exports\n",
    "logging.basicConfig(\n",
    "    level=logging.INFO,\n",
    "    format='%(asctime)s - %(levelname)s - %(message)s',\n",
    "    handlers=[\n",
    "        logging.FileHandler('batch_ocr.log'),\n",
    "        logging.StreamHandler()  # Also print to console\n",
    "    ]\n",
    ")"
   ]
  },
  {
   "cell_type": "code",
   "execution_count": null,
   "metadata": {},
   "outputs": [],
   "source": [
    "#| exports\n",
    "def setup_output_dirs(md_library_path=\"../_data/md_library\"):\n",
    "    \"Set up the output directory structure for markdown files\"\n",
    "    md_output_dir = Path(md_library_path)\n",
    "    mkdir(md_output_dir, parents=True, exist_ok=True, overwrite=False)\n",
    "    return md_output_dir"
   ]
  },
  {
   "cell_type": "code",
   "execution_count": null,
   "metadata": {},
   "outputs": [],
   "source": [
    "#| exports\n",
    "def get_pdfs_and_dir(\n",
    "    report_path:Path, # Path to the report directory\n",
    "    md_output_dir:Path # Path to the output directory\n",
    "    ) -> tuple[list[Path], str]:\n",
    "    \"Get PDFs from report directory and create output directory\"\n",
    "    pdfs = report_path.ls(file_exts='.pdf')\n",
    "    eval_report_path = report_path.name\n",
    "    mkdir(md_output_dir / eval_report_path, parents=True, exist_ok=True, overwrite=False)\n",
    "    return pdfs, eval_report_path"
   ]
  },
  {
   "cell_type": "markdown",
   "metadata": {},
   "source": [
    "Example usage for the \"'Final Evaluation of the EU-IOM Joint Initiative ...\" evaluation:"
   ]
  },
  {
   "cell_type": "code",
   "execution_count": null,
   "metadata": {},
   "outputs": [
    {
     "data": {
      "text/html": [
       "<pre style=\"white-space:pre;overflow-x:auto;line-height:normal;font-family:Menlo,'DejaVu Sans Mono',consolas,'Courier New',monospace\">Reports: <span style=\"font-weight: bold\">[</span><span style=\"color: #800080; text-decoration-color: #800080; font-weight: bold\">Path</span><span style=\"font-weight: bold\">(</span><span style=\"color: #008000; text-decoration-color: #008000\">'../_data/pdf_library/49d2fba781b6a7c0d94577479636ee6f'</span><span style=\"font-weight: bold\">)]</span>\n",
       "</pre>\n"
      ],
      "text/plain": [
       "Reports: \u001b[1m[\u001b[0m\u001b[1;35mPath\u001b[0m\u001b[1m(\u001b[0m\u001b[32m'../_data/pdf_library/49d2fba781b6a7c0d94577479636ee6f'\u001b[0m\u001b[1m)\u001b[0m\u001b[1m]\u001b[0m\n"
      ]
     },
     "metadata": {},
     "output_type": "display_data"
    },
    {
     "data": {
      "text/html": [
       "<pre style=\"white-space:pre;overflow-x:auto;line-height:normal;font-family:Menlo,'DejaVu Sans Mono',consolas,'Courier New',monospace\">pdfs<span style=\"font-weight: bold\">[</span><span style=\"color: #008080; text-decoration-color: #008080; font-weight: bold\">0</span><span style=\"font-weight: bold\">]</span>: ..<span style=\"color: #800080; text-decoration-color: #800080\">/_data/pdf_library/49d2fba781b6a7c0d94577479636ee6f/</span><span style=\"color: #ff00ff; text-decoration-color: #ff00ff\">Evaluation</span>%20Learning%20Brief_Final_Olta%20NDOJA.pdf\n",
       "Evaluation report path: 49d2fba781b6a7c0d94577479636ee6f\n",
       "</pre>\n"
      ],
      "text/plain": [
       "pdfs\u001b[1m[\u001b[0m\u001b[1;36m0\u001b[0m\u001b[1m]\u001b[0m: ..\u001b[35m/_data/pdf_library/49d2fba781b6a7c0d94577479636ee6f/\u001b[0m\u001b[95mEvaluation\u001b[0m%20Learning%20Brief_Final_Olta%20NDOJA.pdf\n",
       "Evaluation report path: 49d2fba781b6a7c0d94577479636ee6f\n"
      ]
     },
     "metadata": {},
     "output_type": "display_data"
    }
   ],
   "source": [
    "#| eval: false\n",
    "report_id_test = '49d2fba781b6a7c0d94577479636ee6f'\n",
    "reports = [p for p in path_pdf.ls() if p.name == report_id_test]\n",
    "pdfs, eval_report_path = get_pdfs_and_dir(reports[0], md_output_dir)\n",
    "print(f'Reports: {reports}')\n",
    "print(f'pdfs[0]: {pdfs[0]}\\nEvaluation report path: {eval_report_path}')"
   ]
  },
  {
   "cell_type": "code",
   "execution_count": null,
   "metadata": {},
   "outputs": [],
   "source": [
    "#| exports\n",
    "def save_page_images(page, dest_folder: Path):\n",
    "    \"Save all images from a page to destination folder as PNG\"\n",
    "    images = page.images if hasattr(page, 'images') else page.get('images', [])\n",
    "    \n",
    "    for img in images:\n",
    "        img_data = getattr(img, 'image_base64', img.get('image_base64'))\n",
    "        img_id = getattr(img, 'id', img.get('id'))\n",
    "        \n",
    "        if img_data and img_id:\n",
    "            img_bytes = base64.b64decode(img_data.split(',')[1])\n",
    "            pil_img = Image.open(BytesIO(img_bytes))\n",
    "            output_path = dest_folder / img_id\n",
    "            pil_img.save(output_path)"
   ]
  },
  {
   "cell_type": "code",
   "execution_count": null,
   "metadata": {},
   "outputs": [],
   "source": [
    "#| exports\n",
    "def create_batch_ocr_job(\n",
    "    pdf_paths: List[Path],\n",
    "    model: str = \"mistral-ocr-latest\",\n",
    "    include_images: bool = True,\n",
    "    api_key: str = mistral_api_key\n",
    "):\n",
    "    \"Create a batch job for multiple PDFs\"\n",
    "    cli = Mistral(api_key=api_key)\n",
    "    \n",
    "    # Upload all PDFs and create batch entries\n",
    "    batch_entries = []\n",
    "    for i, pdf_path in enumerate(pdf_paths):\n",
    "        # Upload PDF\n",
    "        uploaded_pdf = cli.files.upload(\n",
    "            file={\n",
    "                \"file_name\": pdf_path.stem,\n",
    "                \"content\": pdf_path.read_bytes(),\n",
    "            },\n",
    "            purpose=\"ocr\"\n",
    "        )\n",
    "        \n",
    "        signed_url = cli.files.get_signed_url(file_id=uploaded_pdf.id)\n",
    "        \n",
    "        # Create batch entry with custom_id to track which PDF this is\n",
    "        entry = {\n",
    "            \"custom_id\": f\"{pdf_path.parent.name}_{pdf_path.stem}\",  # eval_id_pdfname\n",
    "            \"body\": {\n",
    "                \"document\": {\n",
    "                    \"type\": \"document_url\",\n",
    "                    \"document_url\": signed_url.url,\n",
    "                },\n",
    "                \"include_image_base64\": include_images\n",
    "            }\n",
    "        }\n",
    "        batch_entries.append(entry)\n",
    "    \n",
    "    return batch_entries, cli"
   ]
  },
  {
   "cell_type": "code",
   "execution_count": null,
   "metadata": {},
   "outputs": [],
   "source": [
    "#| exports\n",
    "def process_batch_results(results, md_output_dir):\n",
    "    \"Process batch OCR results and save to appropriate folders\"\n",
    "    for result in results:\n",
    "        try:\n",
    "            # Parse custom_id to get eval_id and pdf_name\n",
    "            eval_id, pdf_name = result['custom_id'].split('_', 1)\n",
    "            \n",
    "            # Get OCR response\n",
    "            ocr_response = result['response']['body']\n",
    "            \n",
    "            # Create folder structure\n",
    "            pdf_clean_name = clean_pdf_name(pdf_name)\n",
    "            pdf_dir = md_output_dir / eval_id / pdf_clean_name\n",
    "            pdf_dir.mkdir(parents=True, exist_ok=True)\n",
    "            \n",
    "            # Save each page markdown\n",
    "            for page in ocr_response['pages']:\n",
    "                page_num = page['index'] + 1\n",
    "                page_path = pdf_dir / f\"page_{page_num}.md\"\n",
    "                page_path.write_text(page['markdown'])\n",
    "            \n",
    "            # Save images if they exist\n",
    "            img_dir = pdf_dir / 'img'\n",
    "            for page in ocr_response['pages']:\n",
    "                if page.get('images'):\n",
    "                    img_dir.mkdir(parents=True, exist_ok=True)\n",
    "                    save_page_images(page, img_dir)\n",
    "            \n",
    "            logging.info(f\"Saved {len(ocr_response['pages'])} pages for {pdf_clean_name}\")\n",
    "            \n",
    "        except Exception as e:\n",
    "            logging.error(f\"Error processing result {result.get('custom_id', 'unknown')}: {e}\")"
   ]
  },
  {
   "cell_type": "code",
   "execution_count": null,
   "metadata": {},
   "outputs": [],
   "source": [
    "#| exports\n",
    "def create_batch_ocr_job(\n",
    "    pdf_paths: List[Path],\n",
    "    eval_report_path: str,\n",
    "    model: str = \"mistral-ocr-latest\",\n",
    "    include_images: bool = True,\n",
    "    api_key: str = mistral_api_key\n",
    "):\n",
    "    \"Create batch entries for PDFs from one evaluation report\"\n",
    "    cli = Mistral(api_key=api_key)\n",
    "    \n",
    "    batch_entries = []\n",
    "    for pdf_path in pdf_paths:\n",
    "        uploaded_pdf = cli.files.upload(\n",
    "            file={\n",
    "                \"file_name\": pdf_path.stem,\n",
    "                \"content\": pdf_path.read_bytes(),\n",
    "            },\n",
    "            purpose=\"ocr\"\n",
    "        )\n",
    "        \n",
    "        signed_url = cli.files.get_signed_url(file_id=uploaded_pdf.id)\n",
    "        entry = {\n",
    "            \"custom_id\": f\"{eval_report_path}_{pdf_path.name}\",\n",
    "            \"body\": {\n",
    "                \"document\": {\n",
    "                    \"type\": \"document_url\",\n",
    "                    \"document_url\": signed_url.url,\n",
    "                },\n",
    "                \"include_image_base64\": include_images\n",
    "            }\n",
    "        }\n",
    "        batch_entries.append(entry)\n",
    "        logging.info(f\"Added {pdf_path.name} to batch for {eval_report_path}\")\n",
    "        \n",
    "    return batch_entries, cli"
   ]
  },
  {
   "cell_type": "code",
   "execution_count": null,
   "metadata": {},
   "outputs": [],
   "source": [
    "#| exports\n",
    "def submit_and_monitor_batch_job(batch_entries, eval_report_path, cli):\n",
    "    \"Submit batch job and monitor until completion\"\n",
    "    with tempfile.NamedTemporaryFile(mode='w', suffix='.jsonl', delete=True) as temp_file:\n",
    "        # Write batch entries to temp file\n",
    "        for entry in batch_entries:\n",
    "            temp_file.write(json.dumps(entry) + '\\n')\n",
    "        temp_file.flush()\n",
    "        \n",
    "        # Upload and create job\n",
    "        batch_data = cli.files.upload(\n",
    "            file={\"file_name\": f\"batch_{eval_report_path}.jsonl\", \n",
    "                  \"content\": open(temp_file.name, \"rb\")},\n",
    "            purpose=\"batch\"\n",
    "        )\n",
    "        \n",
    "        created_job = cli.batch.jobs.create(\n",
    "            input_files=[batch_data.id],\n",
    "            model=\"mistral-ocr-latest\",\n",
    "            endpoint=\"/v1/ocr\"\n",
    "        )\n",
    "        \n",
    "        logging.info(f\"Batch job created for {eval_report_path}: {created_job.id}\")\n",
    "        \n",
    "        # Monitor completion\n",
    "        while True:\n",
    "            job = cli.batch.jobs.get(job_id=created_job.id)\n",
    "            logging.info(f\"Job status: {job.status} - {job.succeeded_requests}/{job.total_requests} completed\")\n",
    "            \n",
    "            if job.status not in [\"QUEUED\", \"RUNNING\"]:\n",
    "                break\n",
    "            time.sleep(10)\n",
    "        \n",
    "        return job"
   ]
  },
  {
   "cell_type": "code",
   "execution_count": null,
   "metadata": {},
   "outputs": [],
   "source": [
    "#| exports\n",
    "def download_and_parse_results(job, cli):\n",
    "    \"Download and parse batch job results\"\n",
    "    response = cli.files.download(file_id=job.output_file)\n",
    "    content = response.read().decode('utf-8')\n",
    "    \n",
    "    results = []\n",
    "    for line in content.strip().split('\\n'):\n",
    "        if line:\n",
    "            results.append(json.loads(line))\n",
    "    \n",
    "    logging.info(f\"Downloaded and parsed {len(results)} OCR results\")\n",
    "    return results"
   ]
  },
  {
   "cell_type": "code",
   "execution_count": null,
   "metadata": {},
   "outputs": [],
   "source": [
    "#| exports\n",
    "def process_single_evaluation_batch(report: Path, md_output_dir: Path):\n",
    "    \"Process one evaluation report using batch OCR\"\n",
    "    logging.info(f\"Processing evaluation: {report.name}\")\n",
    "    pdfs, eval_report_path = get_pdfs_and_dir(report, md_output_dir)\n",
    "    \n",
    "    if not pdfs:\n",
    "        logging.warning(f\"No PDFs found in {eval_report_path}\")\n",
    "        return\n",
    "    \n",
    "    batch_entries, cli = create_batch_ocr_job(pdfs, eval_report_path)\n",
    "    \n",
    "    job = submit_and_monitor_batch_job(batch_entries, eval_report_path, cli)\n",
    "    \n",
    "    if job and job.status == \"SUCCESS\":\n",
    "        results = download_and_parse_results(job, cli)\n",
    "        process_batch_results(results, md_output_dir)\n",
    "        logging.info(f\"Completed processing evaluation: {eval_report_path}\")\n",
    "    else:\n",
    "        logging.error(f\"Job failed for {eval_report_path}\")"
   ]
  },
  {
   "cell_type": "code",
   "execution_count": null,
   "metadata": {},
   "outputs": [],
   "source": [
    "#| exports\n",
    "def process_all_reports_batch(\n",
    "    reports: list[Path],\n",
    "    md_library_path=\"../_data/md_library\"\n",
    "):\n",
    "    \"Process evaluation reports using batch OCR\"\n",
    "    logging.info(f\"Starting batch OCR processing for {len(reports)} reports\")\n",
    "    md_output_dir = setup_output_dirs(md_library_path)\n",
    "    \n",
    "    for report in tqdm(reports, desc=\"Processing reports\"):\n",
    "        process_single_evaluation_batch(report, md_output_dir)\n",
    "    \n",
    "    logging.info(\"Batch OCR processing completed for all reports\")"
   ]
  },
  {
   "cell_type": "code",
   "execution_count": null,
   "metadata": {},
   "outputs": [
    {
     "name": "stderr",
     "output_type": "stream",
     "text": [
      "2025-08-06 17:38:39,461 - INFO - Starting batch OCR processing for 1 reports\n",
      "Processing reports:   0%|          | 0/1 [00:00<?, ?it/s]2025-08-06 17:38:39,464 - INFO - Processing evaluation: 49d2fba781b6a7c0d94577479636ee6f\n",
      "2025-08-06 17:38:42,165 - INFO - HTTP Request: POST https://api.mistral.ai/v1/files \"HTTP/1.1 200 OK\"\n",
      "2025-08-06 17:38:42,521 - INFO - HTTP Request: GET https://api.mistral.ai/v1/files/20ea2096-b022-492c-84de-4130e24c6188/url?expiry=24 \"HTTP/1.1 200 OK\"\n",
      "2025-08-06 17:38:42,522 - INFO - Added Evaluation%20Learning%20Brief_Final_Olta%20NDOJA.pdf to batch for 49d2fba781b6a7c0d94577479636ee6f\n",
      "2025-08-06 17:38:44,401 - INFO - HTTP Request: POST https://api.mistral.ai/v1/files \"HTTP/1.1 200 OK\"\n",
      "2025-08-06 17:38:44,756 - INFO - HTTP Request: GET https://api.mistral.ai/v1/files/67423130-6d16-4f97-960e-35f1e85aa91d/url?expiry=24 \"HTTP/1.1 200 OK\"\n",
      "2025-08-06 17:38:44,760 - INFO - Added HoA%20EU%20JI%20Final%20Eval%20-%20Management%20Response%20Matrix%20-%20Final.pdf to batch for 49d2fba781b6a7c0d94577479636ee6f\n",
      "2025-08-06 17:38:52,790 - INFO - HTTP Request: POST https://api.mistral.ai/v1/files \"HTTP/1.1 200 OK\"\n",
      "2025-08-06 17:38:52,986 - INFO - HTTP Request: GET https://api.mistral.ai/v1/files/b3d152f4-a906-4bb3-89e9-b9bb67ee995e/url?expiry=24 \"HTTP/1.1 200 OK\"\n",
      "2025-08-06 17:38:52,988 - INFO - Added Abridged%20Evaluation%20Report_%20Final_Olta%20NDOJA.pdf to batch for 49d2fba781b6a7c0d94577479636ee6f\n",
      "2025-08-06 17:39:18,422 - INFO - HTTP Request: POST https://api.mistral.ai/v1/files \"HTTP/1.1 200 OK\"\n",
      "2025-08-06 17:39:18,611 - INFO - HTTP Request: GET https://api.mistral.ai/v1/files/6a41e07f-0e95-4408-81c7-b608d4c6e0c6/url?expiry=24 \"HTTP/1.1 200 OK\"\n",
      "2025-08-06 17:39:18,615 - INFO - Added Final%20Evaluation%20Report%20Final_Olta%20NDOJA.pdf to batch for 49d2fba781b6a7c0d94577479636ee6f\n",
      "2025-08-06 17:39:19,210 - INFO - HTTP Request: POST https://api.mistral.ai/v1/files \"HTTP/1.1 200 OK\"\n",
      "2025-08-06 17:39:19,899 - INFO - HTTP Request: POST https://api.mistral.ai/v1/batch/jobs \"HTTP/1.1 200 OK\"\n",
      "2025-08-06 17:39:19,905 - INFO - Batch job created for 49d2fba781b6a7c0d94577479636ee6f: 427954fa-adde-448d-ba8e-c7fcd4bd9c40\n",
      "2025-08-06 17:39:20,110 - INFO - HTTP Request: GET https://api.mistral.ai/v1/batch/jobs/427954fa-adde-448d-ba8e-c7fcd4bd9c40 \"HTTP/1.1 200 OK\"\n",
      "2025-08-06 17:39:20,115 - INFO - Job status: QUEUED - 0/4 completed\n",
      "2025-08-06 17:39:30,467 - INFO - HTTP Request: GET https://api.mistral.ai/v1/batch/jobs/427954fa-adde-448d-ba8e-c7fcd4bd9c40 \"HTTP/1.1 200 OK\"\n",
      "2025-08-06 17:39:30,471 - INFO - Job status: RUNNING - 0/4 completed\n",
      "2025-08-06 17:39:41,172 - INFO - HTTP Request: GET https://api.mistral.ai/v1/batch/jobs/427954fa-adde-448d-ba8e-c7fcd4bd9c40 \"HTTP/1.1 200 OK\"\n",
      "2025-08-06 17:39:41,177 - INFO - Job status: RUNNING - 0/4 completed\n",
      "2025-08-06 17:39:51,469 - INFO - HTTP Request: GET https://api.mistral.ai/v1/batch/jobs/427954fa-adde-448d-ba8e-c7fcd4bd9c40 \"HTTP/1.1 200 OK\"\n",
      "2025-08-06 17:39:51,474 - INFO - Job status: RUNNING - 0/4 completed\n",
      "2025-08-06 17:40:01,881 - INFO - HTTP Request: GET https://api.mistral.ai/v1/batch/jobs/427954fa-adde-448d-ba8e-c7fcd4bd9c40 \"HTTP/1.1 200 OK\"\n",
      "2025-08-06 17:40:01,883 - INFO - Job status: SUCCESS - 4/4 completed\n",
      "2025-08-06 17:40:02,110 - INFO - HTTP Request: GET https://api.mistral.ai/v1/files/0a684deb-2579-43c4-8fd0-477683465972/content \"HTTP/1.1 200 OK\"\n",
      "2025-08-06 17:40:03,154 - INFO - Downloaded and parsed 4 OCR results\n",
      "2025-08-06 17:40:03,156 - INFO - Saved 2 pages for evaluation_learning_brief_final_olta_ndoja_pdf\n",
      "2025-08-06 17:40:03,159 - INFO - Saved 8 pages for hoa_eu_ji_final_eval_management_response_matrix_final_pdf\n",
      "2025-08-06 17:40:03,200 - INFO - Saved 31 pages for abridged_evaluation_report_final_olta_ndoja_pdf\n",
      "2025-08-06 17:40:03,267 - INFO - Saved 142 pages for final_evaluation_report_final_olta_ndoja_pdf\n",
      "2025-08-06 17:40:03,268 - INFO - Completed processing evaluation: 49d2fba781b6a7c0d94577479636ee6f\n",
      "Processing reports: 100%|██████████| 1/1 [01:23<00:00, 83.80s/it]\n",
      "2025-08-06 17:40:03,269 - INFO - Batch OCR processing completed for all reports\n"
     ]
    }
   ],
   "source": [
    "#| eval: false\n",
    "process_all_reports_batch(reports, md_library_path=\"../_data/md_library\")"
   ]
  }
 ],
 "metadata": {
  "kernelspec": {
   "display_name": "python3",
   "language": "python",
   "name": "python3"
  }
 },
 "nbformat": 4,
 "nbformat_minor": 2
}
