{
 "cells": [
  {
   "cell_type": "markdown",
   "metadata": {},
   "source": [
    "# Database\n",
    "\n",
    "> Traces database of the mappr pipeline\n"
   ]
  },
  {
   "cell_type": "code",
   "execution_count": null,
   "metadata": {},
   "outputs": [],
   "source": [
    "#| default_exp db_traces"
   ]
  },
  {
   "cell_type": "code",
   "execution_count": null,
   "metadata": {},
   "outputs": [],
   "source": [
    "#| exports\n",
    "from pathlib import Path\n",
    "from fastcore.all import *\n",
    "from fastlite import database"
   ]
  },
  {
   "cell_type": "code",
   "execution_count": null,
   "metadata": {},
   "outputs": [],
   "source": [
    "# cfg = AttrDict({\n",
    "#     'dirs': AttrDict({\n",
    "#         'data': '.evaluatr',\n",
    "#         'trace': 'traces'\n",
    "#     })\n",
    "# })"
   ]
  },
  {
   "cell_type": "code",
   "execution_count": null,
   "metadata": {},
   "outputs": [],
   "source": [
    "#| exports\n",
    "class Trace:\n",
    "    id: int\n",
    "    timestamp: str\n",
    "    event: str\n",
    "    report_id: str\n",
    "    stage: str\n",
    "    framework: str\n",
    "    framework_category: str\n",
    "    framework_theme_id: str\n",
    "    data: dict"
   ]
  },
  {
   "cell_type": "code",
   "execution_count": null,
   "metadata": {},
   "outputs": [],
   "source": [
    "#| exports\n",
    "class TraceDB:\n",
    "    def __init__(self, db_path=None):\n",
    "        if db_path is None:\n",
    "            # db_path = Path.home() / cfg.dirs.data / \"traces.db\"\n",
    "            db_path = Path.home() / \".evaluatr/data/traces.db\"\n",
    "            \n",
    "        self.db = database(db_path)\n",
    "        self.traces = self.db.create(Trace, pk='id', transform=True)"
   ]
  },
  {
   "cell_type": "code",
   "execution_count": null,
   "metadata": {},
   "outputs": [],
   "source": [
    "#| exports\n",
    "@patch\n",
    "def delete_stage_traces(self:TraceDB, report_id, stage):\n",
    "    self.db.execute(\"DELETE FROM traces WHERE report_id=? AND stage=?\", [report_id, stage])"
   ]
  },
  {
   "cell_type": "code",
   "execution_count": null,
   "metadata": {},
   "outputs": [],
   "source": []
  }
 ],
 "metadata": {
  "kernelspec": {
   "display_name": "python3",
   "language": "python",
   "name": "python3"
  }
 },
 "nbformat": 4,
 "nbformat_minor": 2
}
