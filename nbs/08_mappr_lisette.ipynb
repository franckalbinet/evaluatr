{
 "cells": [
  {
   "cell_type": "markdown",
   "metadata": {},
   "source": [
    "# Mappr (Lisette version)\n",
    "\n",
    "> Scale up evaluation report mapping against evaluation frameworks using agentic workflows\n"
   ]
  },
  {
   "cell_type": "markdown",
   "metadata": {},
   "source": [
    "::: {.callout-warning}\n",
    "This notebook is a work in progress.\n",
    ":::"
   ]
  },
  {
   "cell_type": "markdown",
   "metadata": {},
   "source": [
    "Manually mapping evaluation reports against IOM's [Strategic Results Framework (SRF)](https://srf.iom.int) is time-consuming and resource-intensive with ~150 outputs to analyze. Additionally, the mapping process needs transparent and human-readable traces of LLM decision flows that both reflect natural reasoning patterns and allow human evaluators to audit the mapping logic.\n",
    "\n",
    "A three-stage async pipeline leveraging [Global Compact for Migration (GCM) UN General Assembly Resolution](https://www.un.org/en/development/desa/population/migration/generalassembly/docs/globalcompact/A_RES_73_195.pdf) objectives as SRF Outputs pruning mechanism:\n",
    "\n",
    "\n",
    "\n",
    "**Stage 1**: SRF Enablers & Cross-cutting Analysis\n",
    "\n",
    "- **Async parallel analysis** of Enablers (7 categories) and Cross-cutting Priorities (4 categories) using shared semaphore for rate limiting\n",
    "- **Purpose**: Identify if report is primarily meta-evaluation/transversal in nature\n",
    "- **Fast processing**: ~11 items total with concurrent execution, provides context for subsequent stages\n",
    "\n",
    "**Stage 2**: Informed GCM Analysis\n",
    "\n",
    "- **Rate-limited parallel processing** of GCM Objectives (23 items) informed by Stage 1 results\n",
    "- **Condensed representations**: UN General Assembly Resolution formulation simplified for retrieval efficiency\n",
    "- **Concurrent theme analysis** with API quota management\n",
    "\n",
    "**Stage 3**: Targeted SRF Analysis\n",
    "\n",
    "- **SRF Filtering**: Use GCM results + `gcm_srf_lut` lookup table to prune ~150 SRF outputs to ~20-50 relevant ones\n",
    "- **Deep parallel analysis**: Full hierarchy context (objective → outcome → output → indicators)\n",
    "- **Async batch processing**: Final targeted analysis of pruned SRF outputs with retry logic and error handling"
   ]
  },
  {
   "cell_type": "markdown",
   "metadata": {},
   "source": [
    "::: {.column-body}\n",
    "![Three-stage Pipeline Overview](img/three-stage-pipeline-overview.png){fig-align=\"center\" width=\"800px\"}\n",
    ":::"
   ]
  },
  {
   "cell_type": "code",
   "execution_count": null,
   "metadata": {},
   "outputs": [],
   "source": [
    "#| default_exp mappr_lisette"
   ]
  },
  {
   "cell_type": "code",
   "execution_count": null,
   "metadata": {},
   "outputs": [],
   "source": [
    "#| exports\n",
    "from pathlib import Path\n",
    "from functools import reduce\n",
    "from toolslm.md_hier import *\n",
    "from rich import print\n",
    "import json\n",
    "from fastcore.all import *\n",
    "from enum import Enum\n",
    "import logging\n",
    "import uuid\n",
    "from datetime import datetime\n",
    "from typing import List, Callable\n",
    "import dspy\n",
    "import time\n",
    "from collections import defaultdict\n",
    "import copy\n",
    "from copy import deepcopy\n",
    "from dataclasses import dataclass\n",
    "from typing import List\n",
    "from pydantic import BaseModel, Field\n",
    "import asyncio\n",
    "from asyncio import Semaphore, gather, sleep\n",
    "\n",
    "from evaluatr.frameworks import (EvalData, \n",
    "                                 IOMEvalData, \n",
    "                                 FrameworkInfo, \n",
    "                                 Framework,\n",
    "                                 FrameworkCat,\n",
    "                                 find_srf_output_by_id)\n",
    "\n",
    "from fastlite import Database\n",
    "from apswutils.db import NotFoundError\n",
    "\n",
    "from lisette import mk_msg, AsyncChat\n",
    "from lisette.core import acompletion"
   ]
  },
  {
   "cell_type": "code",
   "execution_count": null,
   "metadata": {},
   "outputs": [],
   "source": [
    "#| exports\n",
    "from dotenv import load_dotenv\n",
    "import os\n",
    "\n",
    "load_dotenv()\n",
    "GEMINI_API_KEY = os.getenv('GEMINI_API_KEY')"
   ]
  },
  {
   "cell_type": "code",
   "execution_count": null,
   "metadata": {},
   "outputs": [],
   "source": [
    "#| exports\n",
    "cfg = AttrDict({\n",
    "    'lm': 'gemini/gemini-2.0-flash',\n",
    "    'api_key': GEMINI_API_KEY,\n",
    "    'max_tokens': 8192,\n",
    "    'track_usage': False,\n",
    "    'call_delay': 0.1, # in seconds\n",
    "    'semaphore': 2,\n",
    "    'dirs': AttrDict({\n",
    "        'data': '.evaluatr',\n",
    "        'trace': 'traces'\n",
    "    }),\n",
    "    'verbosity': 1,\n",
    "    'cache': AttrDict({\n",
    "        'db_name':  'pipeline_cache.db'\n",
    "    }),\n",
    "})"
   ]
  },
  {
   "cell_type": "code",
   "execution_count": null,
   "metadata": {},
   "outputs": [],
   "source": [
    "#| exports\n",
    "traces_dir = Path.home() / cfg.dirs.data / cfg.dirs.trace\n",
    "traces_dir.mkdir(parents=True, exist_ok=True)"
   ]
  },
  {
   "cell_type": "markdown",
   "metadata": {},
   "source": [
    "## DB cache setup"
   ]
  },
  {
   "cell_type": "code",
   "execution_count": null,
   "metadata": {},
   "outputs": [],
   "source": [
    "#| exports\n",
    "db_path = traces_dir / cfg.cache.db_name\n",
    "db = Database(db_path)"
   ]
  },
  {
   "cell_type": "code",
   "execution_count": null,
   "metadata": {},
   "outputs": [],
   "source": [
    "#| exports\n",
    "@dataclass\n",
    "class SectionsCache:\n",
    "    report_id: str\n",
    "    sections_selected: str  # JSON list\n",
    "    reasoning: str\n",
    "    timestamp: str = None"
   ]
  },
  {
   "cell_type": "code",
   "execution_count": null,
   "metadata": {},
   "outputs": [],
   "source": [
    "#| exports\n",
    "@dataclass\n",
    "class ThemeTaggingCache:\n",
    "    report_id: str\n",
    "    stage: str\n",
    "    framework: str\n",
    "    framework_category: str\n",
    "    framework_theme_id: str\n",
    "    is_core: bool\n",
    "    reasoning: str\n",
    "    confidence: str\n",
    "    timestamp: str = None"
   ]
  },
  {
   "cell_type": "code",
   "execution_count": null,
   "metadata": {},
   "outputs": [],
   "source": [
    "#| exports\n",
    "sections_cache = db.create(SectionsCache, pk='report_id', ignore=True)\n",
    "theme_cache = db.create(\n",
    "    ThemeTaggingCache, \n",
    "    pk=['report_id', 'stage', 'framework', 'framework_category', 'framework_theme_id'],\n",
    "    ignore=True\n",
    ")"
   ]
  },
  {
   "cell_type": "markdown",
   "metadata": {},
   "source": [
    "## Report loading"
   ]
  },
  {
   "cell_type": "code",
   "execution_count": null,
   "metadata": {},
   "outputs": [],
   "source": [
    "#| exports\n",
    "def load_report(doc_path:str):\n",
    "    \"Read evaluation report from enriched markdown pages\"\n",
    "    doc = Path(doc_path)\n",
    "    pages = doc.ls(file_exts=\".md\").sorted(key=lambda p: int(p.stem.split('_')[1]))\n",
    "    report = '\\n\\n---\\n\\n'.join(page.read_text() for page in pages)\n",
    "    return report"
   ]
  },
  {
   "cell_type": "code",
   "execution_count": null,
   "metadata": {},
   "outputs": [
    {
     "data": {
      "text/html": [
       "<pre style=\"white-space:pre;overflow-x:auto;line-height:normal;font-family:Menlo,'DejaVu Sans Mono',consolas,'Courier New',monospace\"># **PPMi** <span style=\"color: #808000; text-decoration-color: #808000\">...</span>. page <span style=\"color: #008080; text-decoration-color: #008080; font-weight: bold\">1</span>\n",
       "\n",
       "**Final Evaluation of the EU-IOM Joint Initiative for migrant protection and reintegration in the Horn of Africa**\n",
       "\n",
       "Final Evaluation Report, <span style=\"color: #008080; text-decoration-color: #008080; font-weight: bold\">17</span> March <span style=\"color: #008080; text-decoration-color: #008080; font-weight: bold\">2023</span>\n",
       "\n",
       "!<span style=\"font-weight: bold\">(</span>img-<span style=\"color: #008080; text-decoration-color: #008080; font-weight: bold\">0.j</span>peg<span style=\"font-weight: bold\">)</span>\n",
       "\n",
       "**EU-IOM** Joint Initiative for Migrant Protection and Reintegration\n",
       "\n",
       "Project funded by the European Union\n",
       "Project implemented by IOM\n",
       "\n",
       "---\n",
       "\n",
       "This Final Evaluation Report was commissioned by IOM and developed by the evaluation team of PPMI Group, including:\n",
       "Loes van der Graaf, Rimantas Dumcius, Radvilė Bankauskaitė, Anna Kiss-Pal and Laura Daukšaitė, as well as by \n",
       "external expert Anthony Roger Plant. The evaluation team is grateful to all IOM staff and stakeholders to the \n",
       "JI-HoA for their time taken to participate in interviews. The team is especially grateful to the returnees, \n",
       "migrants, and community members who participated in Focus Group Discussions.\n",
       "\n",
       "This study was produced with the financial support of the European Union. The contents of this report are the sole \n",
       "responsibility of\n",
       "</pre>\n"
      ],
      "text/plain": [
       "# **PPMi** \u001b[33m...\u001b[0m. page \u001b[1;36m1\u001b[0m\n",
       "\n",
       "**Final Evaluation of the EU-IOM Joint Initiative for migrant protection and reintegration in the Horn of Africa**\n",
       "\n",
       "Final Evaluation Report, \u001b[1;36m17\u001b[0m March \u001b[1;36m2023\u001b[0m\n",
       "\n",
       "!\u001b[1m(\u001b[0mimg-\u001b[1;36m0.j\u001b[0mpeg\u001b[1m)\u001b[0m\n",
       "\n",
       "**EU-IOM** Joint Initiative for Migrant Protection and Reintegration\n",
       "\n",
       "Project funded by the European Union\n",
       "Project implemented by IOM\n",
       "\n",
       "---\n",
       "\n",
       "This Final Evaluation Report was commissioned by IOM and developed by the evaluation team of PPMI Group, including:\n",
       "Loes van der Graaf, Rimantas Dumcius, Radvilė Bankauskaitė, Anna Kiss-Pal and Laura Daukšaitė, as well as by \n",
       "external expert Anthony Roger Plant. The evaluation team is grateful to all IOM staff and stakeholders to the \n",
       "JI-HoA for their time taken to participate in interviews. The team is especially grateful to the returnees, \n",
       "migrants, and community members who participated in Focus Group Discussions.\n",
       "\n",
       "This study was produced with the financial support of the European Union. The contents of this report are the sole \n",
       "responsibility of\n"
      ]
     },
     "metadata": {},
     "output_type": "display_data"
    }
   ],
   "source": [
    "#| eval: false\n",
    "# \"abridged_evaluation_report_final_olta_ndoja_pdf/enriched\" (shorter version for testing)\n",
    "doc_path = \"../_data/md_library/49d2fba781b6a7c0d94577479636ee6f/final_evaluation_report_final_olta_ndoja_pdf/enriched\"\n",
    "report = load_report(doc_path)\n",
    "print(report[:1000])"
   ]
  },
  {
   "cell_type": "markdown",
   "metadata": {},
   "source": [
    "## Hierarchical report navigation"
   ]
  },
  {
   "cell_type": "markdown",
   "metadata": {},
   "source": [
    "Thanks to `toolslm.md_hier` and a clean markdown structure of a `report` markdown, we can create a nested dictionary of section, subsection, ... as follows:"
   ]
  },
  {
   "cell_type": "code",
   "execution_count": null,
   "metadata": {},
   "outputs": [],
   "source": [
    "#| eval: false\n",
    "hdgs = create_heading_dict(report)"
   ]
  },
  {
   "cell_type": "code",
   "execution_count": null,
   "metadata": {},
   "outputs": [],
   "source": [
    "#| exports\n",
    "def find_section_path(\n",
    "    hdgs: dict, # The nested dictionary structure\n",
    "    target_section: str # The section name to find\n",
    ") -> list: # The nested key path for the given section name\n",
    "    \"Find the nested key path for a given section name.\"\n",
    "    def search_recursive(current_dict, path=[]):\n",
    "        for key, value in current_dict.items():\n",
    "            current_path = path + [key]\n",
    "            if key == target_section:\n",
    "                return current_path\n",
    "            if isinstance(value, dict):\n",
    "                result = search_recursive(value, current_path)\n",
    "                if result:\n",
    "                    return result\n",
    "        return None\n",
    "    \n",
    "    return search_recursive(hdgs)"
   ]
  },
  {
   "cell_type": "markdown",
   "metadata": {},
   "source": [
    "Then we can retrieve the subsection path (list of nested headings to reach this specific section) in this nested `hdgs` dict :"
   ]
  },
  {
   "cell_type": "code",
   "execution_count": null,
   "metadata": {},
   "outputs": [
    {
     "data": {
      "text/plain": [
       "['Executive summary .... page 10']"
      ]
     },
     "execution_count": null,
     "metadata": {},
     "output_type": "execute_result"
    }
   ],
   "source": [
    "#| eval: false\n",
    "path = find_section_path(hdgs, \"Executive summary .... page 10\"); path"
   ]
  },
  {
   "cell_type": "markdown",
   "metadata": {},
   "source": [
    "Then retrieve the specific subsection content:"
   ]
  },
  {
   "cell_type": "code",
   "execution_count": null,
   "metadata": {},
   "outputs": [],
   "source": [
    "#| exports\n",
    "def get_content_tool(\n",
    "    hdgs: dict, # The nested dictionary structure\n",
    "    keys_list: list, # The list of keys to navigate through\n",
    "    ) -> str: # The content of the section\n",
    "    \"Navigate through nested levels using the exact key strings.\"\n",
    "    return reduce(lambda current, key: current[key], keys_list, hdgs).text"
   ]
  },
  {
   "cell_type": "code",
   "execution_count": null,
   "metadata": {},
   "outputs": [
    {
     "data": {
      "text/html": [
       "<pre style=\"white-space:pre;overflow-x:auto;line-height:normal;font-family:Menlo,'DejaVu Sans Mono',consolas,'Courier New',monospace\"># Executive summary <span style=\"color: #808000; text-decoration-color: #808000\">...</span>. page <span style=\"color: #008080; text-decoration-color: #008080; font-weight: bold\">10</span>\n",
       "\n",
       "## Background <span style=\"color: #808000; text-decoration-color: #808000\">...</span>. page <span style=\"color: #008080; text-decoration-color: #008080; font-weight: bold\">10</span>\n",
       "\n",
       "In <span style=\"color: #008080; text-decoration-color: #008080; font-weight: bold\">2016</span>, the EU and the International Organization for Migration <span style=\"font-weight: bold\">(</span>IOM<span style=\"font-weight: bold\">)</span> launched the EU-IOM Joint Initiative for \n",
       "Migrant Protection and Reintegration, with its overall objective being <span style=\"color: #008000; text-decoration-color: #008000\">\"To contribute to facilitating orderly, </span>\n",
       "<span style=\"color: #008000; text-decoration-color: #008000\">safe, regular and rights-based migration through the facilitation of dignified voluntary return and the </span>\n",
       "<span style=\"color: #008000; text-decoration-color: #008000\">implementation of development-focused and sustainable reintegration policies and processes.\"</span>\n",
       "\n",
       "The EU-IOM Joint \n",
       "</pre>\n"
      ],
      "text/plain": [
       "# Executive summary \u001b[33m...\u001b[0m. page \u001b[1;36m10\u001b[0m\n",
       "\n",
       "## Background \u001b[33m...\u001b[0m. page \u001b[1;36m10\u001b[0m\n",
       "\n",
       "In \u001b[1;36m2016\u001b[0m, the EU and the International Organization for Migration \u001b[1m(\u001b[0mIOM\u001b[1m)\u001b[0m launched the EU-IOM Joint Initiative for \n",
       "Migrant Protection and Reintegration, with its overall objective being \u001b[32m\"To contribute to facilitating orderly, \u001b[0m\n",
       "\u001b[32msafe, regular and rights-based migration through the facilitation of dignified voluntary return and the \u001b[0m\n",
       "\u001b[32mimplementation of development-focused and sustainable reintegration policies and processes.\"\u001b[0m\n",
       "\n",
       "The EU-IOM Joint \n"
      ]
     },
     "metadata": {},
     "output_type": "display_data"
    }
   ],
   "source": [
    "#| eval: false\n",
    "content = get_content_tool(hdgs, path)\n",
    "print(content[:500])"
   ]
  },
  {
   "cell_type": "code",
   "execution_count": null,
   "metadata": {},
   "outputs": [],
   "source": [
    "#| exports\n",
    "def flatten_sections(hdgs, path=[]):\n",
    "    \"\"\"Extract flat list of (key, full_path) tuples from nested hdgs\"\"\"\n",
    "    sections = []\n",
    "    for key, value in hdgs.items():\n",
    "        current_path = path + [key]\n",
    "        sections.append((key, current_path))\n",
    "        if isinstance(value, dict):\n",
    "            sections.extend(flatten_sections(value, current_path))\n",
    "    return sections"
   ]
  },
  {
   "cell_type": "code",
   "execution_count": null,
   "metadata": {},
   "outputs": [
    {
     "data": {
      "text/html": [
       "<pre style=\"white-space:pre;overflow-x:auto;line-height:normal;font-family:Menlo,'DejaVu Sans Mono',consolas,'Courier New',monospace\"><span style=\"font-weight: bold\">[</span>\n",
       "    <span style=\"font-weight: bold\">(</span><span style=\"color: #008000; text-decoration-color: #008000\">'**PPMi** .... page 1'</span>, <span style=\"font-weight: bold\">[</span><span style=\"color: #008000; text-decoration-color: #008000\">'**PPMi** .... page 1'</span><span style=\"font-weight: bold\">])</span>,\n",
       "    <span style=\"font-weight: bold\">(</span><span style=\"color: #008000; text-decoration-color: #008000\">'LIST OF FIGURES .... page 5'</span>, <span style=\"font-weight: bold\">[</span><span style=\"color: #008000; text-decoration-color: #008000\">'LIST OF FIGURES .... page 5'</span><span style=\"font-weight: bold\">])</span>,\n",
       "    <span style=\"font-weight: bold\">(</span><span style=\"color: #008000; text-decoration-color: #008000\">'Abbreviations and terminology .... page 6'</span>, <span style=\"font-weight: bold\">[</span><span style=\"color: #008000; text-decoration-color: #008000\">'Abbreviations and terminology .... page 6'</span><span style=\"font-weight: bold\">])</span>,\n",
       "    <span style=\"font-weight: bold\">(</span><span style=\"color: #008000; text-decoration-color: #008000\">'Key terminology .... page 8'</span>, <span style=\"font-weight: bold\">[</span><span style=\"color: #008000; text-decoration-color: #008000\">'Key terminology .... page 8'</span><span style=\"font-weight: bold\">])</span>,\n",
       "    <span style=\"font-weight: bold\">(</span><span style=\"color: #008000; text-decoration-color: #008000\">'Executive summary .... page 10'</span>, <span style=\"font-weight: bold\">[</span><span style=\"color: #008000; text-decoration-color: #008000\">'Executive summary .... page 10'</span><span style=\"font-weight: bold\">])</span>,\n",
       "    <span style=\"font-weight: bold\">(</span><span style=\"color: #008000; text-decoration-color: #008000\">'Background .... page 10'</span>, <span style=\"font-weight: bold\">[</span><span style=\"color: #008000; text-decoration-color: #008000\">'Executive summary .... page 10'</span>, <span style=\"color: #008000; text-decoration-color: #008000\">'Background .... page 10'</span><span style=\"font-weight: bold\">])</span>,\n",
       "    <span style=\"font-weight: bold\">(</span><span style=\"color: #008000; text-decoration-color: #008000\">'Methodology .... page 11'</span>, <span style=\"font-weight: bold\">[</span><span style=\"color: #008000; text-decoration-color: #008000\">'Methodology .... page 11'</span><span style=\"font-weight: bold\">])</span>,\n",
       "    <span style=\"font-weight: bold\">(</span><span style=\"color: #008000; text-decoration-color: #008000\">'Findings .... page 12'</span>, <span style=\"font-weight: bold\">[</span><span style=\"color: #008000; text-decoration-color: #008000\">'Findings .... page 12'</span><span style=\"font-weight: bold\">])</span>,\n",
       "    <span style=\"font-weight: bold\">(</span><span style=\"color: #008000; text-decoration-color: #008000\">'Relevance .... page 12'</span>, <span style=\"font-weight: bold\">[</span><span style=\"color: #008000; text-decoration-color: #008000\">'Findings .... page 12'</span>, <span style=\"color: #008000; text-decoration-color: #008000\">'Relevance .... page 12'</span><span style=\"font-weight: bold\">])</span>,\n",
       "    <span style=\"font-weight: bold\">(</span><span style=\"color: #008000; text-decoration-color: #008000\">'Coherence .... page 13'</span>, <span style=\"font-weight: bold\">[</span><span style=\"color: #008000; text-decoration-color: #008000\">'Coherence .... page 13'</span><span style=\"font-weight: bold\">])</span>\n",
       "<span style=\"font-weight: bold\">]</span>\n",
       "</pre>\n"
      ],
      "text/plain": [
       "\u001b[1m[\u001b[0m\n",
       "    \u001b[1m(\u001b[0m\u001b[32m'**PPMi** .... page 1'\u001b[0m, \u001b[1m[\u001b[0m\u001b[32m'**PPMi** .... page 1'\u001b[0m\u001b[1m]\u001b[0m\u001b[1m)\u001b[0m,\n",
       "    \u001b[1m(\u001b[0m\u001b[32m'LIST OF FIGURES .... page 5'\u001b[0m, \u001b[1m[\u001b[0m\u001b[32m'LIST OF FIGURES .... page 5'\u001b[0m\u001b[1m]\u001b[0m\u001b[1m)\u001b[0m,\n",
       "    \u001b[1m(\u001b[0m\u001b[32m'Abbreviations and terminology .... page 6'\u001b[0m, \u001b[1m[\u001b[0m\u001b[32m'Abbreviations and terminology .... page 6'\u001b[0m\u001b[1m]\u001b[0m\u001b[1m)\u001b[0m,\n",
       "    \u001b[1m(\u001b[0m\u001b[32m'Key terminology .... page 8'\u001b[0m, \u001b[1m[\u001b[0m\u001b[32m'Key terminology .... page 8'\u001b[0m\u001b[1m]\u001b[0m\u001b[1m)\u001b[0m,\n",
       "    \u001b[1m(\u001b[0m\u001b[32m'Executive summary .... page 10'\u001b[0m, \u001b[1m[\u001b[0m\u001b[32m'Executive summary .... page 10'\u001b[0m\u001b[1m]\u001b[0m\u001b[1m)\u001b[0m,\n",
       "    \u001b[1m(\u001b[0m\u001b[32m'Background .... page 10'\u001b[0m, \u001b[1m[\u001b[0m\u001b[32m'Executive summary .... page 10'\u001b[0m, \u001b[32m'Background .... page 10'\u001b[0m\u001b[1m]\u001b[0m\u001b[1m)\u001b[0m,\n",
       "    \u001b[1m(\u001b[0m\u001b[32m'Methodology .... page 11'\u001b[0m, \u001b[1m[\u001b[0m\u001b[32m'Methodology .... page 11'\u001b[0m\u001b[1m]\u001b[0m\u001b[1m)\u001b[0m,\n",
       "    \u001b[1m(\u001b[0m\u001b[32m'Findings .... page 12'\u001b[0m, \u001b[1m[\u001b[0m\u001b[32m'Findings .... page 12'\u001b[0m\u001b[1m]\u001b[0m\u001b[1m)\u001b[0m,\n",
       "    \u001b[1m(\u001b[0m\u001b[32m'Relevance .... page 12'\u001b[0m, \u001b[1m[\u001b[0m\u001b[32m'Findings .... page 12'\u001b[0m, \u001b[32m'Relevance .... page 12'\u001b[0m\u001b[1m]\u001b[0m\u001b[1m)\u001b[0m,\n",
       "    \u001b[1m(\u001b[0m\u001b[32m'Coherence .... page 13'\u001b[0m, \u001b[1m[\u001b[0m\u001b[32m'Coherence .... page 13'\u001b[0m\u001b[1m]\u001b[0m\u001b[1m)\u001b[0m\n",
       "\u001b[1m]\u001b[0m\n"
      ]
     },
     "metadata": {},
     "output_type": "display_data"
    }
   ],
   "source": [
    "#| eval: false\n",
    "print(flatten_sections(hdgs)[:10])"
   ]
  },
  {
   "cell_type": "code",
   "execution_count": null,
   "metadata": {},
   "outputs": [],
   "source": [
    "#| exports\n",
    "def format_toc_for_llm(hdgs: dict) -> str:\n",
    "    \"\"\"Format ToC as readable text with page numbers\"\"\"\n",
    "    sections = flatten_sections(hdgs)\n",
    "    lines = [f\"- {key}\" for key, path in sections]\n",
    "    return '\\n'.join(lines)"
   ]
  },
  {
   "cell_type": "code",
   "execution_count": null,
   "metadata": {},
   "outputs": [
    {
     "data": {
      "text/html": [
       "<pre style=\"white-space:pre;overflow-x:auto;line-height:normal;font-family:Menlo,'DejaVu Sans Mono',consolas,'Courier New',monospace\">- **PPMi** <span style=\"color: #808000; text-decoration-color: #808000\">...</span>. page <span style=\"color: #008080; text-decoration-color: #008080; font-weight: bold\">1</span>\n",
       "- LIST OF FIGURES <span style=\"color: #808000; text-decoration-color: #808000\">...</span>. page <span style=\"color: #008080; text-decoration-color: #008080; font-weight: bold\">5</span>\n",
       "- Abbreviations and terminology <span style=\"color: #808000; text-decoration-color: #808000\">...</span>. page <span style=\"color: #008080; text-decoration-color: #008080; font-weight: bold\">6</span>\n",
       "- Key terminology <span style=\"color: #808000; text-decoration-color: #808000\">...</span>. page <span style=\"color: #008080; text-decoration-color: #008080; font-weight: bold\">8</span>\n",
       "- Executive summary <span style=\"color: #808000; text-decoration-color: #808000\">...</span>. page <span style=\"color: #008080; text-decoration-color: #008080; font-weight: bold\">10</span>\n",
       "- Background <span style=\"color: #808000; text-decoration-color: #808000\">...</span>. page <span style=\"color: #008080; text-decoration-color: #008080; font-weight: bold\">10</span>\n",
       "- Methodology <span style=\"color: #808000; text-decoration-color: #808000\">...</span>. page <span style=\"color: #008080; text-decoration-color: #008080; font-weight: bold\">11</span>\n",
       "- Findings <span style=\"color: #808000; text-decoration-color: #808000\">...</span>. page <span style=\"color: #008080; text-decoration-color: #008080; font-weight: bold\">12</span>\n",
       "- Relevance <span style=\"color: #808000; text-decoration-color: #808000\">...</span>. page <span style=\"color: #008080; text-decoration-color: #008080; font-weight: bold\">12</span>\n",
       "- Coherence <span style=\"color: #808000; text-decoration-color: #808000\">...</span>. page <span style=\"color: #008080; text-decoration-color: #008080; font-weight: bold\">13</span>\n",
       "- $<span style=\"color: #008080; text-decoration-color: #008080; font-weight: bold\">4.3</span> <span style=\"color: #800080; text-decoration-color: #800080\">/</span> <span style=\"color: #008080; text-decoration-color: #008080; font-weight: bold\">5</span>$ <span style=\"color: #808000; text-decoration-color: #808000\">...</span>. page <span style=\"color: #008080; text-decoration-color: #008080; font-weight: bold\">13</span>\n",
       "- Effectiveness <span style=\"color: #808000; text-decoration-color: #808000\">...</span>. page <span style=\"color: #008080; text-decoration-color: #008080; font-weight: bold\">14</span>\n",
       "- Specific Outcome <span style=\"color: #008080; text-decoration-color: #008080; font-weight: bold\">1</span>: <span style=\"color: #808000; text-decoration-color: #808000\">...</span>. page <span style=\"color: #008080; text-decoration-color: #008080; font-weight: bold\">14</span>\n",
       "- Specific Outcome <span style=\"color: #008080; text-decoration-color: #008080; font-weight: bold\">2</span>: <span style=\"color: #808000; text-decoration-color: #808000\">...</span>. page <span style=\"color: #008080; text-decoration-color: #008080; font-weight: bold\">14</span>\n",
       "- Specific Outcome <span style=\"color: #008080; text-decoration-color: #008080; font-weight: bold\">3</span>: <span style=\"color: #808000; text-decoration-color: #808000\">...</span>. page <span style=\"color: #008080; text-decoration-color: #008080; font-weight: bold\">15</span>\n",
       "- Efficiency <span style=\"color: #808000; text-decoration-color: #808000\">...</span>. page <span style=\"color: #008080; text-decoration-color: #008080; font-weight: bold\">15</span>\n",
       "- Sustainability <span style=\"color: #808000; text-decoration-color: #808000\">...</span>. page <span style=\"color: #008080; text-decoration-color: #008080; font-weight: bold\">1</span>\n",
       "</pre>\n"
      ],
      "text/plain": [
       "- **PPMi** \u001b[33m...\u001b[0m. page \u001b[1;36m1\u001b[0m\n",
       "- LIST OF FIGURES \u001b[33m...\u001b[0m. page \u001b[1;36m5\u001b[0m\n",
       "- Abbreviations and terminology \u001b[33m...\u001b[0m. page \u001b[1;36m6\u001b[0m\n",
       "- Key terminology \u001b[33m...\u001b[0m. page \u001b[1;36m8\u001b[0m\n",
       "- Executive summary \u001b[33m...\u001b[0m. page \u001b[1;36m10\u001b[0m\n",
       "- Background \u001b[33m...\u001b[0m. page \u001b[1;36m10\u001b[0m\n",
       "- Methodology \u001b[33m...\u001b[0m. page \u001b[1;36m11\u001b[0m\n",
       "- Findings \u001b[33m...\u001b[0m. page \u001b[1;36m12\u001b[0m\n",
       "- Relevance \u001b[33m...\u001b[0m. page \u001b[1;36m12\u001b[0m\n",
       "- Coherence \u001b[33m...\u001b[0m. page \u001b[1;36m13\u001b[0m\n",
       "- $\u001b[1;36m4.3\u001b[0m \u001b[35m/\u001b[0m \u001b[1;36m5\u001b[0m$ \u001b[33m...\u001b[0m. page \u001b[1;36m13\u001b[0m\n",
       "- Effectiveness \u001b[33m...\u001b[0m. page \u001b[1;36m14\u001b[0m\n",
       "- Specific Outcome \u001b[1;36m1\u001b[0m: \u001b[33m...\u001b[0m. page \u001b[1;36m14\u001b[0m\n",
       "- Specific Outcome \u001b[1;36m2\u001b[0m: \u001b[33m...\u001b[0m. page \u001b[1;36m14\u001b[0m\n",
       "- Specific Outcome \u001b[1;36m3\u001b[0m: \u001b[33m...\u001b[0m. page \u001b[1;36m15\u001b[0m\n",
       "- Efficiency \u001b[33m...\u001b[0m. page \u001b[1;36m15\u001b[0m\n",
       "- Sustainability \u001b[33m...\u001b[0m. page \u001b[1;36m1\u001b[0m\n"
      ]
     },
     "metadata": {},
     "output_type": "display_data"
    }
   ],
   "source": [
    "#| eval: false\n",
    "print(format_toc_for_llm(hdgs)[:500])"
   ]
  },
  {
   "cell_type": "markdown",
   "metadata": {},
   "source": [
    "## Formatters"
   ]
  },
  {
   "cell_type": "markdown",
   "metadata": {},
   "source": [
    "We define here a set of function formatting both evaluation frameworks themes to analyze (SRF enablers, objectives, GCM objectives, ...) and traces."
   ]
  },
  {
   "cell_type": "code",
   "execution_count": null,
   "metadata": {},
   "outputs": [],
   "source": [
    "#| exports\n",
    "def format_enabler_theme(\n",
    "    theme: EvalData # The theme object\n",
    "    ) -> str: # The formatted theme string\n",
    "    \"Format SRF enabler into structured text for LM processing.\"\n",
    "    parts = [\n",
    "        f'## Enabler {theme.id}: {theme.title}',\n",
    "        '### Description', \n",
    "        theme.description\n",
    "    ]\n",
    "    return '\\n'.join(parts)"
   ]
  },
  {
   "cell_type": "markdown",
   "metadata": {},
   "source": [
    "For instance: "
   ]
  },
  {
   "cell_type": "code",
   "execution_count": null,
   "metadata": {},
   "outputs": [
    {
     "data": {
      "text/html": [
       "<pre style=\"white-space:pre;overflow-x:auto;line-height:normal;font-family:Menlo,'DejaVu Sans Mono',consolas,'Courier New',monospace\">## Enabler <span style=\"color: #008080; text-decoration-color: #008080; font-weight: bold\">4</span>: Data and evidence\n",
       "### Description\n",
       "IOM will be the pre-eminent source of migration and displacement data for action, which help save lives and deliver\n",
       "solutions; data for insight, which help facilitate regular migration pathways; and data for foresight, which help \n",
       "drive anticipatory action. IOM will have the systems and data fluency to collect, safely store, analyze, share and \n",
       "apply disaggregated data and evidence across the mobility spectrum. Our extensive data and research repositories \n",
       "will underpin evidence-based policies and practices. Data will be central to the internal decision-making and \n",
       "management of the Organization.\n",
       "</pre>\n"
      ],
      "text/plain": [
       "## Enabler \u001b[1;36m4\u001b[0m: Data and evidence\n",
       "### Description\n",
       "IOM will be the pre-eminent source of migration and displacement data for action, which help save lives and deliver\n",
       "solutions; data for insight, which help facilitate regular migration pathways; and data for foresight, which help \n",
       "drive anticipatory action. IOM will have the systems and data fluency to collect, safely store, analyze, share and \n",
       "apply disaggregated data and evidence across the mobility spectrum. Our extensive data and research repositories \n",
       "will underpin evidence-based policies and practices. Data will be central to the internal decision-making and \n",
       "management of the Organization.\n"
      ]
     },
     "metadata": {},
     "output_type": "display_data"
    }
   ],
   "source": [
    "#| eval: false\n",
    "eval_data = IOMEvalData()\n",
    "data_evidence = eval_data.srf_enablers[3]  # \"Data and evidence\" is at index 3\n",
    "print(format_enabler_theme(data_evidence))"
   ]
  },
  {
   "cell_type": "code",
   "execution_count": null,
   "metadata": {},
   "outputs": [],
   "source": [
    "#| exports\n",
    "def format_crosscutting_theme(\n",
    "    theme: EvalData # The theme object\n",
    "    ) -> str: # The formatted theme string\n",
    "    \"Format SRF cross-cutting into structured text for LM processing.\"\n",
    "    parts = [\n",
    "        f'## Cross-cutting {theme.id}: {theme.title}',\n",
    "        '### Description', \n",
    "        theme.description\n",
    "    ]\n",
    "    return '\\n'.join(parts)"
   ]
  },
  {
   "cell_type": "markdown",
   "metadata": {},
   "source": [
    "For instance:"
   ]
  },
  {
   "cell_type": "code",
   "execution_count": null,
   "metadata": {},
   "outputs": [
    {
     "data": {
      "text/html": [
       "<pre style=\"white-space:pre;overflow-x:auto;line-height:normal;font-family:Menlo,'DejaVu Sans Mono',consolas,'Courier New',monospace\">## Cross-cutting <span style=\"color: #008080; text-decoration-color: #008080; font-weight: bold\">4</span>: Environmental Sustainability\n",
       "### Description\n",
       "IOM will lead environmental sustainability innovation for impact and scale in the humanitarian and migration \n",
       "management sector. Caring for people and the planet is one of our core values, and we are committed to \n",
       "mainstreaming environmental sustainability into our projects and programmes, and facilities management and \n",
       "operations. IOM will have an ambitious environmental governance and environmental management system drawing from \n",
       "United Nations system-wide commitments\n",
       "</pre>\n"
      ],
      "text/plain": [
       "## Cross-cutting \u001b[1;36m4\u001b[0m: Environmental Sustainability\n",
       "### Description\n",
       "IOM will lead environmental sustainability innovation for impact and scale in the humanitarian and migration \n",
       "management sector. Caring for people and the planet is one of our core values, and we are committed to \n",
       "mainstreaming environmental sustainability into our projects and programmes, and facilities management and \n",
       "operations. IOM will have an ambitious environmental governance and environmental management system drawing from \n",
       "United Nations system-wide commitments\n"
      ]
     },
     "metadata": {},
     "output_type": "display_data"
    }
   ],
   "source": [
    "eval_data = IOMEvalData()\n",
    "env_sustainability = eval_data.srf_crosscutting_priorities[3]  # \"Data and evidence\" is at index 3\n",
    "print(format_crosscutting_theme(env_sustainability))"
   ]
  },
  {
   "cell_type": "code",
   "execution_count": null,
   "metadata": {},
   "outputs": [],
   "source": [
    "#| exports\n",
    "def format_gcm_theme(\n",
    "    theme: dict # The GCM theme object from gcm_small\n",
    "    ) -> str: # The formatted theme string\n",
    "    \"Format GCM objective into structured text for LM processing.\"\n",
    "    parts = [\n",
    "        f'## GCM Objective {theme[\"id\"]}: {theme[\"title\"]}',\n",
    "        '### Core Theme', \n",
    "        theme[\"core_theme\"]\n",
    "    ]\n",
    "    \n",
    "    if theme.get(\"key_principles\"):\n",
    "        parts.extend(['### Key Principles', ', '.join(theme[\"key_principles\"])])\n",
    "    \n",
    "    if theme.get(\"target_groups\"):\n",
    "        parts.extend(['### Target Groups', ', '.join(theme[\"target_groups\"])])\n",
    "        \n",
    "    if theme.get(\"main_activities\"):\n",
    "        parts.extend(['### Main Activities', ', '.join(theme[\"main_activities\"])])\n",
    "    \n",
    "    return '\\n'.join(parts)"
   ]
  },
  {
   "cell_type": "markdown",
   "metadata": {},
   "source": [
    "For instance:"
   ]
  },
  {
   "cell_type": "code",
   "execution_count": null,
   "metadata": {},
   "outputs": [
    {
     "data": {
      "text/html": [
       "<pre style=\"white-space:pre;overflow-x:auto;line-height:normal;font-family:Menlo,'DejaVu Sans Mono',consolas,'Courier New',monospace\">## GCM Objective <span style=\"color: #008080; text-decoration-color: #008080; font-weight: bold\">4</span>: Ensure that all migrants have proof of legal identity and adequate documentation\n",
       "### Core Theme\n",
       "Strengthen civil registry systems and ensure migrants have necessary identity documents\n",
       "### Key Principles\n",
       "Legal identity, Civil registration, Document security, Consular services\n",
       "### Target Groups\n",
       "Migrants, Stateless persons, Children, Consular authorities\n",
       "### Main Activities\n",
       "Civil registry improvement, Document issuance, Biometric systems, Consular documentation\n",
       "</pre>\n"
      ],
      "text/plain": [
       "## GCM Objective \u001b[1;36m4\u001b[0m: Ensure that all migrants have proof of legal identity and adequate documentation\n",
       "### Core Theme\n",
       "Strengthen civil registry systems and ensure migrants have necessary identity documents\n",
       "### Key Principles\n",
       "Legal identity, Civil registration, Document security, Consular services\n",
       "### Target Groups\n",
       "Migrants, Stateless persons, Children, Consular authorities\n",
       "### Main Activities\n",
       "Civil registry improvement, Document issuance, Biometric systems, Consular documentation\n"
      ]
     },
     "metadata": {},
     "output_type": "display_data"
    }
   ],
   "source": [
    "#| eval: false\n",
    "gcm_small = eval_data.gcm_objectives_small\n",
    "print(format_gcm_theme(gcm_small[3]))"
   ]
  },
  {
   "cell_type": "code",
   "execution_count": null,
   "metadata": {},
   "outputs": [],
   "source": [
    "#| exports\n",
    "def format_srf_output(output_context: dict) -> str:\n",
    "    \"Format SRF output with full hierarchical context for LM processing.\"\n",
    "    parts = [\n",
    "        f'## SRF Output {output_context[\"output\"][\"id\"]}: {output_context[\"output\"][\"title\"]}',\n",
    "        '### Strategic Context',\n",
    "        f'**Objective {output_context[\"objective\"][\"id\"]}**: {output_context[\"objective\"][\"title\"]}',\n",
    "        f'**Long    -term Outcome {output_context[\"long_outcome\"][\"id\"]}**: {output_context[\"long_outcome\"][\"title\"]}',\n",
    "        f'**Short-term Outcome {output_context[\"short_outcome\"][\"id\"]}**: {output_context[\"short_outcome\"][\"title\"]}'\n",
    "    ]\n",
    "    \n",
    "    return '\\n'.join(parts)"
   ]
  },
  {
   "cell_type": "markdown",
   "metadata": {},
   "source": [
    "For instance:"
   ]
  },
  {
   "cell_type": "code",
   "execution_count": null,
   "metadata": {},
   "outputs": [
    {
     "data": {
      "text/html": [
       "<pre style=\"white-space:pre;overflow-x:auto;line-height:normal;font-family:Menlo,'DejaVu Sans Mono',consolas,'Courier New',monospace\">## SRF Output 1a11: Crisis-affected populations in-need receive dignified shelter and settlement support.\n",
       "### Strategic Context\n",
       "**Objective <span style=\"color: #008080; text-decoration-color: #008080; font-weight: bold\">1</span>**: Saving lives and protecting people on the move\n",
       "**Long    -term Outcome 1a**: Human suffering is alleviated while the dignity and rights of people affected by \n",
       "crises are upheld.\n",
       "**Short-term Outcome 1a1**: Crisis-affected populations have their basic needs met and have minimum living \n",
       "conditions with reduced barriers to access for marginalized and vulnerable individuals.\n",
       "</pre>\n"
      ],
      "text/plain": [
       "## SRF Output 1a11: Crisis-affected populations in-need receive dignified shelter and settlement support.\n",
       "### Strategic Context\n",
       "**Objective \u001b[1;36m1\u001b[0m**: Saving lives and protecting people on the move\n",
       "**Long    -term Outcome 1a**: Human suffering is alleviated while the dignity and rights of people affected by \n",
       "crises are upheld.\n",
       "**Short-term Outcome 1a1**: Crisis-affected populations have their basic needs met and have minimum living \n",
       "conditions with reduced barriers to access for marginalized and vulnerable individuals.\n"
      ]
     },
     "metadata": {},
     "output_type": "display_data"
    }
   ],
   "source": [
    "#| eval: false\n",
    "test_output_id = '1a11'\n",
    "output_context = find_srf_output_by_id(eval_data, test_output_id)\n",
    "if output_context:\n",
    "    formatted = format_srf_output(output_context)\n",
    "    print(formatted)"
   ]
  },
  {
   "cell_type": "markdown",
   "metadata": {},
   "source": [
    "## Pydantic models"
   ]
  },
  {
   "cell_type": "code",
   "execution_count": null,
   "metadata": {},
   "outputs": [],
   "source": [
    "#| exports\n",
    "class CoreSectionsOutput(BaseModel):\n",
    "    \"\"\"Identify the core sections of the report\"\"\"\n",
    "    section_names: list[str]\n",
    "    reasoning: str"
   ]
  },
  {
   "cell_type": "code",
   "execution_count": null,
   "metadata": {},
   "outputs": [],
   "source": [
    "#| exports\n",
    "class EvidenceLocation(BaseModel):\n",
    "    \"\"\"Identify the location of the evidence in the report\"\"\"\n",
    "    section: str\n",
    "    citation: str"
   ]
  },
  {
   "cell_type": "code",
   "execution_count": null,
   "metadata": {},
   "outputs": [],
   "source": [
    "#| exports\n",
    "class ThemeTaggingOutput(BaseModel):\n",
    "    \"\"\"Tag the theme in the report\"\"\"\n",
    "    is_core: bool\n",
    "    reasoning: str\n",
    "    evidence_locations: list[EvidenceLocation]\n",
    "    confidence: str  # low/medium/high"
   ]
  },
  {
   "cell_type": "markdown",
   "metadata": {},
   "source": [
    "## System prompts"
   ]
  },
  {
   "cell_type": "code",
   "execution_count": null,
   "metadata": {},
   "outputs": [],
   "source": [
    "#| exports\n",
    "select_section_sp = \"\"\"### ROLE AND OBJECTIVE\n",
    "You are an expert evaluation report analyst. Your task is to identify sections that would help determine if specific themes are CORE to this report for synthesis and retrieval purposes.\n",
    "\n",
    "### CONTEXT\n",
    "You will receive a table of contents (ToC) with section headings from an evaluation report. Select sections where report authors signal what matters most - these will be used to tag themes for future synthesis work.\n",
    "\n",
    "### SECTIONS TO IDENTIFY\n",
    "Look for sections that reveal core themes (in any language):\n",
    "1. Executive Summary / Overview / Résumé exécutif / Resumen ejecutivo\n",
    "2. Introduction / Objectives / Purpose / Questions d'évaluation / Preguntas de evaluación\n",
    "3. Main Findings / Results / Résultats / Resultados / Constatations\n",
    "4. Conclusions / Conclusiones\n",
    "5. Recommendations / Recommandations / Recomendaciones\n",
    "\n",
    "### SELECTION CRITERIA\n",
    "- Match flexibly by meaning, not exact wording\n",
    "- Prioritize where authors explicitly state what's important\n",
    "- Aim for ~8-10 pages total (use page numbers in ToC as guide)\n",
    "- Avoid methodology, background, annexes unless unusually central\n",
    "- Not all report types have all sections - select what exists\n",
    "\n",
    "### OUTPUT FORMAT\n",
    "JSON with section_names (list) and reasoning (string).\n",
    "\n",
    "**CRITICAL**: section_names must contain EXACT strings from the ToC provided.\n",
    "Copy the complete line including section numbers and page references.\n",
    "Example: If ToC shows \"4.1. Relevance of programme activities .... page 34\"\n",
    "Return exactly: \"4.1. Relevance of programme activities .... page 34\"\n",
    "\"\"\""
   ]
  },
  {
   "cell_type": "code",
   "execution_count": null,
   "metadata": {},
   "outputs": [],
   "source": [
    "#| exports\n",
    "tagging_sp = \"\"\"### ROLE AND OBJECTIVE\n",
    "You are an evaluation synthesis specialist. Your task is to determine if this report should be tagged with a specific theme for future retrieval in synthesis work.\n",
    "\n",
    "### CONTEXT\n",
    "You will receive:\n",
    "- Key sections from an evaluation report\n",
    "- A specific theme to evaluate\n",
    "\n",
    "### CRITICAL DISTINCTION\n",
    "You are NOT evaluating whether the theme is mentioned or relevant.\n",
    "You ARE evaluating whether the theme is CENTRAL to what this report is fundamentally about.\n",
    "\n",
    "### TAGGING DECISION CRITERIA\n",
    "Tag as CORE only if the theme meets BOTH conditions:\n",
    "\n",
    "**1. Centrality Test**: The theme is a PRIMARY focus of the report:\n",
    "- The theme appears in the report's main objectives/evaluation questions\n",
    "- Multiple major sections dedicate substantial analysis to this theme\n",
    "- Key findings and conclusions center on this theme\n",
    "- Major recommendations address this theme\n",
    "\n",
    "**2. Synthesis Value Test**: Ask yourself:\n",
    "\"If I were synthesizing evaluation findings specifically on [Theme X], would EXCLUDING this report create a significant gap in my synthesis?\"\n",
    "\n",
    "### DECISION RULE\n",
    "- Tag as CORE: The report would be among the TOP sources for a synthesis on this theme\n",
    "- Tag as NOT CORE: The report mentions the theme but isn't fundamentally about it\n",
    "\n",
    "**When uncertain → Tag as NOT CORE**\n",
    "\n",
    "Aim for precision: Only 2-4 themes per report should be CORE.\n",
    "\n",
    "### OUTPUT FORMAT\n",
    "JSON with:\n",
    "- is_core: boolean\n",
    "- reasoning: explain centrality (or lack thereof) with specific evidence\n",
    "- evidence_locations: list of {\"section\": \"...\", \"citation\": \"...\"}\n",
    "- confidence: low/medium/high\n",
    "\"\"\""
   ]
  },
  {
   "cell_type": "code",
   "execution_count": null,
   "metadata": {},
   "outputs": [],
   "source": [
    "#| exports\n",
    "tagging_sp_no_citation = \"\"\"### ROLE AND OBJECTIVE\n",
    "You are an evaluation synthesis specialist. Your task is to determine if this report should be tagged with a \n",
    "specific theme for future retrieval in synthesis work.\n",
    "\n",
    "### CONTEXT\n",
    "You will receive:\n",
    "- Key sections from an evaluation report\n",
    "- A specific theme to evaluate\n",
    "\n",
    "### CRITICAL DISTINCTION\n",
    "You are NOT evaluating whether the theme is mentioned or relevant.\n",
    "You ARE evaluating whether the theme is CENTRAL to what this report is fundamentally about.\n",
    "\n",
    "### TAGGING DECISION CRITERIA\n",
    "Tag as CORE only if the theme meets BOTH conditions:\n",
    "\n",
    "**1. Centrality Test**: The theme is a PRIMARY focus of the report:\n",
    "- The theme appears in the report's main objectives/evaluation questions\n",
    "- Multiple major sections dedicate substantial analysis to this theme\n",
    "- Key findings and conclusions center on this theme\n",
    "- Major recommendations address this theme\n",
    "\n",
    "**2. Synthesis Value Test**: Ask yourself:\n",
    "\"If I were synthesizing evaluation findings specifically on [Theme X], would EXCLUDING this report create a \n",
    "significant gap in my synthesis?\"\n",
    "\n",
    "### DECISION RULE\n",
    "- Tag as CORE: The report would be among the TOP sources for a synthesis on this theme\n",
    "- Tag as NOT CORE: The report mentions the theme but isn't fundamentally about it\n",
    "\n",
    "**When uncertain → Tag as NOT CORE**\n",
    "\n",
    "Aim for precision: Only 2-4 themes per report should be CORE.\n",
    "\n",
    "### OUTPUT FORMAT\n",
    "JSON with:\n",
    "- is_core: boolean\n",
    "- reasoning: explain centrality (or lack thereof) with specific evidence (max 150 words)\n",
    "- confidence: low/medium/high\"\"\"\n"
   ]
  },
  {
   "cell_type": "markdown",
   "metadata": {},
   "source": [
    "## Theme analysis core steps"
   ]
  },
  {
   "cell_type": "code",
   "execution_count": null,
   "metadata": {},
   "outputs": [],
   "source": [
    "#| exports\n",
    "def parse_response(result):\n",
    "    \"Extract JSON from Lisette response\"\n",
    "    return json.loads(result.choices[0].message.content)"
   ]
  },
  {
   "cell_type": "markdown",
   "metadata": {},
   "source": [
    "### Select sections of interest"
   ]
  },
  {
   "cell_type": "code",
   "execution_count": null,
   "metadata": {},
   "outputs": [],
   "source": [
    "#| exports\n",
    "async def identify_core_sections(\n",
    "    hdgs: dict,\n",
    "    system_prompt: str,\n",
    "    model: str = 'gemini/gemini-2.0-flash'\n",
    ") -> dict:\n",
    "    chat = AsyncChat(model=model, sp=system_prompt, temp=0)\n",
    "    toc_text = format_toc_for_llm(hdgs)\n",
    "    result = await chat(\n",
    "        f\"Here is the table of contents:\\n\\n{toc_text}\",\n",
    "        response_format=CoreSectionsOutput\n",
    "    )\n",
    "    return parse_response(result)"
   ]
  },
  {
   "cell_type": "code",
   "execution_count": null,
   "metadata": {},
   "outputs": [
    {
     "data": {
      "text/html": [
       "<pre style=\"white-space:pre;overflow-x:auto;line-height:normal;font-family:Menlo,'DejaVu Sans Mono',consolas,'Courier New',monospace\"><span style=\"font-weight: bold\">{</span>\n",
       "    <span style=\"color: #008000; text-decoration-color: #008000\">'section_names'</span>: <span style=\"font-weight: bold\">[</span>\n",
       "        <span style=\"color: #008000; text-decoration-color: #008000\">'Executive summary .... page 10'</span>,\n",
       "        <span style=\"color: #008000; text-decoration-color: #008000\">'Findings .... page 12'</span>,\n",
       "        <span style=\"color: #008000; text-decoration-color: #008000\">'Relevance .... page 12'</span>,\n",
       "        <span style=\"color: #008000; text-decoration-color: #008000\">'Coherence .... page 13'</span>,\n",
       "        <span style=\"color: #008000; text-decoration-color: #008000\">'Effectiveness .... page 14'</span>,\n",
       "        <span style=\"color: #008000; text-decoration-color: #008000\">'Efficiency .... page 15'</span>,\n",
       "        <span style=\"color: #008000; text-decoration-color: #008000\">'Sustainability .... page 16'</span>,\n",
       "        <span style=\"color: #008000; text-decoration-color: #008000\">'Conclusions and recommendations .... page 16'</span>,\n",
       "        <span style=\"color: #008000; text-decoration-color: #008000\">'1. Introduction .... page 18'</span>,\n",
       "        <span style=\"color: #008000; text-decoration-color: #008000\">'9. Conclusions .... page 105'</span>,\n",
       "        <span style=\"color: #008000; text-decoration-color: #008000\">'10. Recommendations .... page 107'</span>\n",
       "    <span style=\"font-weight: bold\">]</span>,\n",
       "    <span style=\"color: #008000; text-decoration-color: #008000\">'reasoning'</span>: <span style=\"color: #008000; text-decoration-color: #008000\">\"The selected sections cover the core elements of the evaluation report, including the executive </span>\n",
       "<span style=\"color: #008000; text-decoration-color: #008000\">summary, introduction, main findings related to relevance, coherence, effectiveness, efficiency, and </span>\n",
       "<span style=\"color: #008000; text-decoration-color: #008000\">sustainability, as well as the overall conclusions and recommendations. These sections provide a comprehensive </span>\n",
       "<span style=\"color: #008000; text-decoration-color: #008000\">overview of the evaluation's key themes and insights.\"</span>\n",
       "<span style=\"font-weight: bold\">}</span>\n",
       "</pre>\n"
      ],
      "text/plain": [
       "\u001b[1m{\u001b[0m\n",
       "    \u001b[32m'section_names'\u001b[0m: \u001b[1m[\u001b[0m\n",
       "        \u001b[32m'Executive summary .... page 10'\u001b[0m,\n",
       "        \u001b[32m'Findings .... page 12'\u001b[0m,\n",
       "        \u001b[32m'Relevance .... page 12'\u001b[0m,\n",
       "        \u001b[32m'Coherence .... page 13'\u001b[0m,\n",
       "        \u001b[32m'Effectiveness .... page 14'\u001b[0m,\n",
       "        \u001b[32m'Efficiency .... page 15'\u001b[0m,\n",
       "        \u001b[32m'Sustainability .... page 16'\u001b[0m,\n",
       "        \u001b[32m'Conclusions and recommendations .... page 16'\u001b[0m,\n",
       "        \u001b[32m'1. Introduction .... page 18'\u001b[0m,\n",
       "        \u001b[32m'9. Conclusions .... page 105'\u001b[0m,\n",
       "        \u001b[32m'10. Recommendations .... page 107'\u001b[0m\n",
       "    \u001b[1m]\u001b[0m,\n",
       "    \u001b[32m'reasoning'\u001b[0m: \u001b[32m\"The selected sections cover the core elements of the evaluation report, including the executive \u001b[0m\n",
       "\u001b[32msummary, introduction, main findings related to relevance, coherence, effectiveness, efficiency, and \u001b[0m\n",
       "\u001b[32msustainability, as well as the overall conclusions and recommendations. These sections provide a comprehensive \u001b[0m\n",
       "\u001b[32moverview of the evaluation's key themes and insights.\"\u001b[0m\n",
       "\u001b[1m}\u001b[0m\n"
      ]
     },
     "metadata": {},
     "output_type": "display_data"
    }
   ],
   "source": [
    "#| eval: false\n",
    "core_sections = await identify_core_sections(hdgs, select_section_sp)\n",
    "print(core_sections)"
   ]
  },
  {
   "cell_type": "code",
   "execution_count": null,
   "metadata": {},
   "outputs": [],
   "source": [
    "#| exports\n",
    "def extract_core_content(\n",
    "    core_section_names: list[str],  # Section names from Step 1\n",
    "    hdgs: dict  # Nested heading structure\n",
    ") -> str:  # Combined content with section headers\n",
    "    \"Extract and combine content from core sections\"\n",
    "    if not core_section_names:\n",
    "        logging.warning(\"No core sections provided\")\n",
    "        return \"\"\n",
    "    \n",
    "    sections_lookup = {key: path for key, path in flatten_sections(hdgs)}\n",
    "    content_parts = []\n",
    "    \n",
    "    for section_name in core_section_names:\n",
    "        if section_name not in sections_lookup:\n",
    "            logging.warning(f\"Section not found: {section_name}\")\n",
    "            continue\n",
    "        path = sections_lookup[section_name]\n",
    "        content = get_content_tool(hdgs, path)\n",
    "        content_parts.append(content)\n",
    "    \n",
    "    return \"\\n\\n---\\n\\n\".join(content_parts)"
   ]
  },
  {
   "cell_type": "code",
   "execution_count": null,
   "metadata": {},
   "outputs": [
    {
     "data": {
      "text/html": [
       "<pre style=\"white-space:pre;overflow-x:auto;line-height:normal;font-family:Menlo,'DejaVu Sans Mono',consolas,'Courier New',monospace\"># Executive summary <span style=\"color: #808000; text-decoration-color: #808000\">...</span>. page <span style=\"color: #008080; text-decoration-color: #008080; font-weight: bold\">10</span>\n",
       "\n",
       "## Background <span style=\"color: #808000; text-decoration-color: #808000\">...</span>. page <span style=\"color: #008080; text-decoration-color: #008080; font-weight: bold\">10</span>\n",
       "\n",
       "In <span style=\"color: #008080; text-decoration-color: #008080; font-weight: bold\">2016</span>, the EU and the International Organization for Migration <span style=\"font-weight: bold\">(</span>IOM<span style=\"font-weight: bold\">)</span> launched the EU-IOM Joint Initiative for \n",
       "Migrant Protection and Reintegration, with its overall objective being <span style=\"color: #008000; text-decoration-color: #008000\">\"To contribute to facilitating orderly, </span>\n",
       "<span style=\"color: #008000; text-decoration-color: #008000\">safe, regular and rights-based migration through the facilitation of dignified voluntary return and the </span>\n",
       "<span style=\"color: #008000; text-decoration-color: #008000\">implementation of development-focused and sustainable reintegration policies and processes.\"</span>\n",
       "\n",
       "The EU-IOM Joint \n",
       "</pre>\n"
      ],
      "text/plain": [
       "# Executive summary \u001b[33m...\u001b[0m. page \u001b[1;36m10\u001b[0m\n",
       "\n",
       "## Background \u001b[33m...\u001b[0m. page \u001b[1;36m10\u001b[0m\n",
       "\n",
       "In \u001b[1;36m2016\u001b[0m, the EU and the International Organization for Migration \u001b[1m(\u001b[0mIOM\u001b[1m)\u001b[0m launched the EU-IOM Joint Initiative for \n",
       "Migrant Protection and Reintegration, with its overall objective being \u001b[32m\"To contribute to facilitating orderly, \u001b[0m\n",
       "\u001b[32msafe, regular and rights-based migration through the facilitation of dignified voluntary return and the \u001b[0m\n",
       "\u001b[32mimplementation of development-focused and sustainable reintegration policies and processes.\"\u001b[0m\n",
       "\n",
       "The EU-IOM Joint \n"
      ]
     },
     "metadata": {},
     "output_type": "display_data"
    }
   ],
   "source": [
    "#| eval: false\n",
    "print(extract_core_content(core_sections['section_names'], hdgs)[:500])"
   ]
  },
  {
   "cell_type": "markdown",
   "metadata": {},
   "source": [
    "### Tagging\n"
   ]
  },
  {
   "cell_type": "code",
   "execution_count": null,
   "metadata": {},
   "outputs": [],
   "source": [
    "#| exports\n",
    "class TagResult(BaseModel):\n",
    "    is_core: bool\n",
    "    reasoning: str\n",
    "    confidence: str"
   ]
  },
  {
   "cell_type": "code",
   "execution_count": null,
   "metadata": {},
   "outputs": [],
   "source": [
    "#| exports\n",
    "async def tag_theme(\n",
    "    doc_content: str,\n",
    "    theme: str,\n",
    "    system_prompt: str,\n",
    "    response_format: type = TagResult,\n",
    "    model: str = \"claude-sonnet-4-5\",\n",
    "    cache_system: bool = True,   # Always cache system+doc (default)\n",
    "    cache_theme: bool = False     # Only cache theme for resume\n",
    "):\n",
    "    \"Tag a single theme against the document\"\n",
    "    system_blocks = [\n",
    "        {\"type\": \"text\", \"text\": system_prompt},\n",
    "        {\"type\": \"text\", \"text\": f\"\\n\\n## Document to Analyze\\n\\n{doc_content}\"}\n",
    "    ]\n",
    "    \n",
    "    if cache_system: system_blocks[-1][\"cache_control\"] = {\"type\": \"ephemeral\"}\n",
    "    \n",
    "    messages = [mk_msg(theme, cache=cache_theme)]\n",
    "    \n",
    "    response = await acompletion(\n",
    "        model=model,\n",
    "        messages=messages,\n",
    "        system=system_blocks,\n",
    "        response_format=response_format\n",
    "    )\n",
    "    return response"
   ]
  },
  {
   "cell_type": "code",
   "execution_count": null,
   "metadata": {},
   "outputs": [
    {
     "data": {
      "text/html": [
       "<pre style=\"white-space:pre;overflow-x:auto;line-height:normal;font-family:Menlo,'DejaVu Sans Mono',consolas,'Courier New',monospace\"><span style=\"color: #800080; text-decoration-color: #800080; font-weight: bold\">ModelResponse</span><span style=\"font-weight: bold\">(</span>\n",
       "    <span style=\"color: #808000; text-decoration-color: #808000\">id</span>=<span style=\"color: #008000; text-decoration-color: #008000\">'chatcmpl-cfcdf04a-3e7a-4d2c-843c-692abe988989'</span>,\n",
       "    <span style=\"color: #808000; text-decoration-color: #808000\">created</span>=<span style=\"color: #008080; text-decoration-color: #008080; font-weight: bold\">1760595973</span>,\n",
       "    <span style=\"color: #808000; text-decoration-color: #808000\">model</span>=<span style=\"color: #008000; text-decoration-color: #008000\">'claude-sonnet-4-5-20250929'</span>,\n",
       "    <span style=\"color: #808000; text-decoration-color: #808000\">object</span>=<span style=\"color: #008000; text-decoration-color: #008000\">'chat.completion'</span>,\n",
       "    <span style=\"color: #808000; text-decoration-color: #808000\">system_fingerprint</span>=<span style=\"color: #800080; text-decoration-color: #800080; font-style: italic\">None</span>,\n",
       "    <span style=\"color: #808000; text-decoration-color: #808000\">choices</span>=<span style=\"font-weight: bold\">[</span>\n",
       "        <span style=\"color: #800080; text-decoration-color: #800080; font-weight: bold\">Choices</span><span style=\"font-weight: bold\">(</span>\n",
       "            <span style=\"color: #808000; text-decoration-color: #808000\">finish_reason</span>=<span style=\"color: #008000; text-decoration-color: #008000\">'stop'</span>,\n",
       "            <span style=\"color: #808000; text-decoration-color: #808000\">index</span>=<span style=\"color: #008080; text-decoration-color: #008080; font-weight: bold\">0</span>,\n",
       "            <span style=\"color: #808000; text-decoration-color: #808000\">message</span>=<span style=\"color: #800080; text-decoration-color: #800080; font-weight: bold\">Message</span><span style=\"font-weight: bold\">(</span>\n",
       "                <span style=\"color: #808000; text-decoration-color: #808000\">content</span>=<span style=\"color: #008000; text-decoration-color: #008000\">'{\"is_core\": false, \"reasoning\": \"While this report extensively discusses IOM staff, </span>\n",
       "<span style=\"color: #008000; text-decoration-color: #008000\">workforce capacity, and human resources in the context of implementing the EU-IOM Joint Initiative, \\\\\"Workforce\\\\\"</span>\n",
       "<span style=\"color: #008000; text-decoration-color: #008000\">as a theme about IOM\\'s internal organizational development, people management systems, and HR strategy is NOT a </span>\n",
       "<span style=\"color: #008000; text-decoration-color: #008000\">central focus. The report mentions staff primarily as implementers of the program (e.g., \\\\\"human resources were </span>\n",
       "<span style=\"color: #008000; text-decoration-color: #008000\">mostly sufficient to meet the objectives,\\\\\" \\\\\"MRCs and IOM staff to identify vulnerabilities\\\\\"). The evaluation </span>\n",
       "<span style=\"color: #008000; text-decoration-color: #008000\">does identify staff turnover and capacity building for government partners as challenges, but these are discussed </span>\n",
       "<span style=\"color: #008000; text-decoration-color: #008000\">in relation to program effectiveness and sustainability, not as an examination of IOM\\'s workforce planning, </span>\n",
       "<span style=\"color: #008000; text-decoration-color: #008000\">professional development systems, or organizational HR strategy. The report\\'s core focus is on evaluating the </span>\n",
       "<span style=\"color: #008000; text-decoration-color: #008000\">migrant protection, return, and reintegration program outcomes\\\\u2014not on assessing or improving IOM\\'s internal </span>\n",
       "<span style=\"color: #008000; text-decoration-color: #008000\">workforce management systems. If synthesizing evaluations specifically on IOM\\'s workforce enabler, this report </span>\n",
       "<span style=\"color: #008000; text-decoration-color: #008000\">would provide only tangential evidence about staffing levels for a specific program, not substantive analysis of </span>\n",
       "<span style=\"color: #008000; text-decoration-color: #008000\">workforce planning, people management, or organizational HR systems.\", \"confidence\": \"high\"}'</span>,\n",
       "                <span style=\"color: #808000; text-decoration-color: #808000\">role</span>=<span style=\"color: #008000; text-decoration-color: #008000\">'assistant'</span>,\n",
       "                <span style=\"color: #808000; text-decoration-color: #808000\">tool_calls</span>=<span style=\"color: #800080; text-decoration-color: #800080; font-style: italic\">None</span>,\n",
       "                <span style=\"color: #808000; text-decoration-color: #808000\">function_call</span>=<span style=\"color: #800080; text-decoration-color: #800080; font-style: italic\">None</span>,\n",
       "                <span style=\"color: #808000; text-decoration-color: #808000\">provider_specific_fields</span>=<span style=\"color: #800080; text-decoration-color: #800080; font-style: italic\">None</span>\n",
       "            <span style=\"font-weight: bold\">)</span>\n",
       "        <span style=\"font-weight: bold\">)</span>\n",
       "    <span style=\"font-weight: bold\">]</span>,\n",
       "    <span style=\"color: #808000; text-decoration-color: #808000\">usage</span>=<span style=\"color: #800080; text-decoration-color: #800080; font-weight: bold\">Usage</span><span style=\"font-weight: bold\">(</span>\n",
       "        <span style=\"color: #808000; text-decoration-color: #808000\">completion_tokens</span>=<span style=\"color: #008080; text-decoration-color: #008080; font-weight: bold\">295</span>,\n",
       "        <span style=\"color: #808000; text-decoration-color: #808000\">prompt_tokens</span>=<span style=\"color: #008080; text-decoration-color: #008080; font-weight: bold\">27</span>,\n",
       "        <span style=\"color: #808000; text-decoration-color: #808000\">total_tokens</span>=<span style=\"color: #008080; text-decoration-color: #008080; font-weight: bold\">322</span>,\n",
       "        <span style=\"color: #808000; text-decoration-color: #808000\">completion_tokens_details</span>=<span style=\"color: #800080; text-decoration-color: #800080; font-style: italic\">None</span>,\n",
       "        <span style=\"color: #808000; text-decoration-color: #808000\">prompt_tokens_details</span>=<span style=\"color: #800080; text-decoration-color: #800080; font-weight: bold\">PromptTokensDetailsWrapper</span><span style=\"font-weight: bold\">(</span>\n",
       "            <span style=\"color: #808000; text-decoration-color: #808000\">audio_tokens</span>=<span style=\"color: #800080; text-decoration-color: #800080; font-style: italic\">None</span>,\n",
       "            <span style=\"color: #808000; text-decoration-color: #808000\">cached_tokens</span>=<span style=\"color: #008080; text-decoration-color: #008080; font-weight: bold\">0</span>,\n",
       "            <span style=\"color: #808000; text-decoration-color: #808000\">text_tokens</span>=<span style=\"color: #800080; text-decoration-color: #800080; font-style: italic\">None</span>,\n",
       "            <span style=\"color: #808000; text-decoration-color: #808000\">image_tokens</span>=<span style=\"color: #800080; text-decoration-color: #800080; font-style: italic\">None</span>\n",
       "        <span style=\"font-weight: bold\">)</span>,\n",
       "        <span style=\"color: #808000; text-decoration-color: #808000\">cache_creation_input_tokens</span>=<span style=\"color: #008080; text-decoration-color: #008080; font-weight: bold\">9555</span>,\n",
       "        <span style=\"color: #808000; text-decoration-color: #808000\">cache_read_input_tokens</span>=<span style=\"color: #008080; text-decoration-color: #008080; font-weight: bold\">0</span>\n",
       "    <span style=\"font-weight: bold\">)</span>\n",
       "<span style=\"font-weight: bold\">)</span>\n",
       "</pre>\n"
      ],
      "text/plain": [
       "\u001b[1;35mModelResponse\u001b[0m\u001b[1m(\u001b[0m\n",
       "    \u001b[33mid\u001b[0m=\u001b[32m'chatcmpl-cfcdf04a-3e7a-4d2c-843c-692abe988989'\u001b[0m,\n",
       "    \u001b[33mcreated\u001b[0m=\u001b[1;36m1760595973\u001b[0m,\n",
       "    \u001b[33mmodel\u001b[0m=\u001b[32m'claude-sonnet-4-5-20250929'\u001b[0m,\n",
       "    \u001b[33mobject\u001b[0m=\u001b[32m'chat.completion'\u001b[0m,\n",
       "    \u001b[33msystem_fingerprint\u001b[0m=\u001b[3;35mNone\u001b[0m,\n",
       "    \u001b[33mchoices\u001b[0m=\u001b[1m[\u001b[0m\n",
       "        \u001b[1;35mChoices\u001b[0m\u001b[1m(\u001b[0m\n",
       "            \u001b[33mfinish_reason\u001b[0m=\u001b[32m'stop'\u001b[0m,\n",
       "            \u001b[33mindex\u001b[0m=\u001b[1;36m0\u001b[0m,\n",
       "            \u001b[33mmessage\u001b[0m=\u001b[1;35mMessage\u001b[0m\u001b[1m(\u001b[0m\n",
       "                \u001b[33mcontent\u001b[0m=\u001b[32m'\u001b[0m\u001b[32m{\u001b[0m\u001b[32m\"is_core\": false, \"reasoning\": \"While this report extensively discusses IOM staff, \u001b[0m\n",
       "\u001b[32mworkforce capacity, and human resources in the context of implementing the EU-IOM Joint Initiative, \\\\\"Workforce\\\\\"\u001b[0m\n",
       "\u001b[32mas a theme about IOM\\'s internal organizational development, people management systems, and HR strategy is NOT a \u001b[0m\n",
       "\u001b[32mcentral focus. The report mentions staff primarily as implementers of the program \u001b[0m\u001b[32m(\u001b[0m\u001b[32me.g., \\\\\"human resources were \u001b[0m\n",
       "\u001b[32mmostly sufficient to meet the objectives,\\\\\" \\\\\"MRCs and IOM staff to identify vulnerabilities\\\\\"\u001b[0m\u001b[32m)\u001b[0m\u001b[32m. The evaluation \u001b[0m\n",
       "\u001b[32mdoes identify staff turnover and capacity building for government partners as challenges, but these are discussed \u001b[0m\n",
       "\u001b[32min relation to program effectiveness and sustainability, not as an examination of IOM\\'s workforce planning, \u001b[0m\n",
       "\u001b[32mprofessional development systems, or organizational HR strategy. The report\\'s core focus is on evaluating the \u001b[0m\n",
       "\u001b[32mmigrant protection, return, and reintegration program outcomes\\\\u2014not on assessing or improving IOM\\'s internal \u001b[0m\n",
       "\u001b[32mworkforce management systems. If synthesizing evaluations specifically on IOM\\'s workforce enabler, this report \u001b[0m\n",
       "\u001b[32mwould provide only tangential evidence about staffing levels for a specific program, not substantive analysis of \u001b[0m\n",
       "\u001b[32mworkforce planning, people management, or organizational HR systems.\", \"confidence\": \"high\"\u001b[0m\u001b[32m}\u001b[0m\u001b[32m'\u001b[0m,\n",
       "                \u001b[33mrole\u001b[0m=\u001b[32m'assistant'\u001b[0m,\n",
       "                \u001b[33mtool_calls\u001b[0m=\u001b[3;35mNone\u001b[0m,\n",
       "                \u001b[33mfunction_call\u001b[0m=\u001b[3;35mNone\u001b[0m,\n",
       "                \u001b[33mprovider_specific_fields\u001b[0m=\u001b[3;35mNone\u001b[0m\n",
       "            \u001b[1m)\u001b[0m\n",
       "        \u001b[1m)\u001b[0m\n",
       "    \u001b[1m]\u001b[0m,\n",
       "    \u001b[33musage\u001b[0m=\u001b[1;35mUsage\u001b[0m\u001b[1m(\u001b[0m\n",
       "        \u001b[33mcompletion_tokens\u001b[0m=\u001b[1;36m295\u001b[0m,\n",
       "        \u001b[33mprompt_tokens\u001b[0m=\u001b[1;36m27\u001b[0m,\n",
       "        \u001b[33mtotal_tokens\u001b[0m=\u001b[1;36m322\u001b[0m,\n",
       "        \u001b[33mcompletion_tokens_details\u001b[0m=\u001b[3;35mNone\u001b[0m,\n",
       "        \u001b[33mprompt_tokens_details\u001b[0m=\u001b[1;35mPromptTokensDetailsWrapper\u001b[0m\u001b[1m(\u001b[0m\n",
       "            \u001b[33maudio_tokens\u001b[0m=\u001b[3;35mNone\u001b[0m,\n",
       "            \u001b[33mcached_tokens\u001b[0m=\u001b[1;36m0\u001b[0m,\n",
       "            \u001b[33mtext_tokens\u001b[0m=\u001b[3;35mNone\u001b[0m,\n",
       "            \u001b[33mimage_tokens\u001b[0m=\u001b[3;35mNone\u001b[0m\n",
       "        \u001b[1m)\u001b[0m,\n",
       "        \u001b[33mcache_creation_input_tokens\u001b[0m=\u001b[1;36m9555\u001b[0m,\n",
       "        \u001b[33mcache_read_input_tokens\u001b[0m=\u001b[1;36m0\u001b[0m\n",
       "    \u001b[1m)\u001b[0m\n",
       "\u001b[1m)\u001b[0m\n"
      ]
     },
     "metadata": {},
     "output_type": "display_data"
    }
   ],
   "source": [
    "#| eval: false\n",
    "theme = format_enabler_theme(eval_data.srf_enablers[0])\n",
    "core_content = extract_core_content(core_sections['section_names'], hdgs)\n",
    "\n",
    "r = await tag_theme(\n",
    "    doc_content=core_content, \n",
    "    theme=theme, \n",
    "    system_prompt=tagging_sp_no_citation, \n",
    "    response_format=TagResult,\n",
    "    cache_system=True,\n",
    "    cache_theme=True\n",
    "    )\n",
    "print(r)"
   ]
  },
  {
   "cell_type": "markdown",
   "metadata": {},
   "source": [
    "## Logging"
   ]
  },
  {
   "cell_type": "code",
   "execution_count": null,
   "metadata": {},
   "outputs": [],
   "source": [
    "#| exports\n",
    "class Stage(Enum):\n",
    "    \"Pipeline stage number.\"\n",
    "    STAGE1 = \"stage1\"\n",
    "    STAGE2 = \"stage2\"\n",
    "    STAGE3 = \"stage3\"\n",
    "    def __str__(self): return self.value"
   ]
  },
  {
   "cell_type": "markdown",
   "metadata": {},
   "source": [
    "\n",
    "We treat observability and LLM evaluation as core requirements for our mapping pipeline. While DSPy's built-in `dspy.inspect_history()` provides valuable reasoning chains, we enhance it with structured metadata (`report_id`, `phase`, `framework`) to create comprehensive audit trails. This enriched tracing enables systematic evaluation of mapping accuracy, supports human evaluator annotation workflows, and provides the detailed context necessary for debugging and improving our LLM-based document analysis system. \n",
    "\n",
    "We define below enum and configuration classes for pipeline tracing and validation. These provide structured metadata for audit trails and evaluation."
   ]
  },
  {
   "cell_type": "code",
   "execution_count": null,
   "metadata": {},
   "outputs": [],
   "source": [
    "#| exports\n",
    "class TraceContext(AttrDict):\n",
    "    \"Context for tracing the mapping process\"\n",
    "    def __init__(self, \n",
    "                 report_id:str,  # Report identifier\n",
    "                 stage:Stage,  # Pipeline stage number\n",
    "                 framework:FrameworkInfo,  # Framework info (name, category, theme_id)\n",
    "                 ): \n",
    "        # self.run_id = str(uuid.uuid4())[:8]  # Short unique ID\n",
    "        store_attr()\n",
    "\n",
    "    def __repr__(self):\n",
    "        return f\"TraceContext(report_id={self.report_id}, stage={self.stage}, framework={self.framework})\"\n"
   ]
  },
  {
   "cell_type": "code",
   "execution_count": null,
   "metadata": {},
   "outputs": [
    {
     "data": {
      "text/markdown": [
       "```json\n",
       "TraceContext(report_id=49d2fba781b6a7c0d94577479636ee6f, stage=stage1, framework={'category': 'Enablers', 'theme_id': '4', 'name': 'SRF'})\n",
       "```"
      ],
      "text/plain": [
       "TraceContext(report_id=49d2fba781b6a7c0d94577479636ee6f, stage=stage1, framework={'category': 'Enablers', 'theme_id': '4', 'name': 'SRF'})"
      ]
     },
     "execution_count": null,
     "metadata": {},
     "output_type": "execute_result"
    }
   ],
   "source": [
    "#| eval: false\n",
    "tr_ctx = TraceContext(\n",
    "    report_id='49d2fba781b6a7c0d94577479636ee6f', \n",
    "    stage=Stage.STAGE1, \n",
    "    framework=FrameworkInfo(Framework.SRF, FrameworkCat.ENABLERS, \"4\")\n",
    "    )\n",
    "\n",
    "tr_ctx"
   ]
  },
  {
   "cell_type": "code",
   "execution_count": null,
   "metadata": {},
   "outputs": [],
   "source": [
    "#| exports\n",
    "def setup_logger(name, handler, level=logging.INFO, **kwargs):\n",
    "    \"Helper function to setup a logger with common configuration\"\n",
    "    logger = logging.getLogger(name)\n",
    "    logger.handlers.clear()\n",
    "    logger.addHandler(handler)\n",
    "    logger.setLevel(level)\n",
    "    for k,v in kwargs.items(): setattr(logger, k, v)\n",
    "    return logger"
   ]
  },
  {
   "cell_type": "code",
   "execution_count": null,
   "metadata": {},
   "outputs": [],
   "source": [
    "#| exports\n",
    "def setup_trace_logging(report_id, verbosity=cfg.verbosity):\n",
    "    timestamp = datetime.now().strftime(\"%Y%m%d_%H%M%S\")\n",
    "    filename = f'{report_id}_{timestamp}.jsonl'\n",
    "    file_handler = logging.FileHandler(traces_dir / filename, mode='w')\n",
    "    setup_logger('trace.file', file_handler)    \n",
    "    console_handler = logging.StreamHandler()\n",
    "    setup_logger('trace.console', console_handler, verbosity=verbosity)"
   ]
  },
  {
   "cell_type": "code",
   "execution_count": null,
   "metadata": {},
   "outputs": [],
   "source": [
    "#| exports\n",
    "def _build_base_data(event: str, report_id: str, stage: Stage = None, \n",
    "                     framework_info: FrameworkInfo = None, **extra_data):\n",
    "    \"\"\"Build base data dictionary for logging\"\"\"\n",
    "    base_data = {\n",
    "        \"timestamp\": datetime.now().isoformat(),\n",
    "        \"event\": event,\n",
    "        \"report_id\": report_id,\n",
    "    }\n",
    "    \n",
    "    if stage:\n",
    "        base_data[\"stage\"] = str(stage)\n",
    "    \n",
    "    if framework_info:\n",
    "        base_data.update({\n",
    "            \"framework\": str(framework_info.name),\n",
    "            \"framework_category\": str(framework_info.category),\n",
    "            \"framework_theme_id\": str(framework_info.theme_id),\n",
    "        })\n",
    "    \n",
    "    base_data.update(extra_data)\n",
    "    return base_data"
   ]
  },
  {
   "cell_type": "code",
   "execution_count": null,
   "metadata": {},
   "outputs": [],
   "source": [
    "#| exports\n",
    "def _format_console_msg(base_data, verbosity, stage, framework_info):\n",
    "    \"\"\"Format console message based on verbosity level\"\"\"\n",
    "    report_id = base_data['report_id']\n",
    "    event = base_data['event']\n",
    "    \n",
    "    if verbosity == 1:\n",
    "        return f\"{report_id}\" + (f\" - {stage}\" if stage else \"\")\n",
    "    elif verbosity == 2:\n",
    "        parts = [report_id]\n",
    "        if stage: parts.append(str(stage))\n",
    "        parts.append(event)\n",
    "        if framework_info:\n",
    "            parts.append(f\"{framework_info.name}/{framework_info.category}/{framework_info.theme_id}\")\n",
    "        return \" - \".join(parts)\n",
    "    else:  # verbosity == 3\n",
    "        return json.dumps(base_data, indent=2)"
   ]
  },
  {
   "cell_type": "code",
   "execution_count": null,
   "metadata": {},
   "outputs": [],
   "source": [
    "#| exports\n",
    "def log_analysis_event(event: str, report_id: str, stage: Stage = None, \n",
    "                       framework_info: FrameworkInfo = None, **extra_data):\n",
    "    \"\"\"Log an analysis event to file and console with different verbosity levels\"\"\"\n",
    "    file_logger = logging.getLogger('trace.file')\n",
    "    console_logger = logging.getLogger('trace.console')\n",
    "    \n",
    "    base_data = _build_base_data(event, report_id, stage, framework_info, **extra_data)\n",
    "    \n",
    "    # File logger - always full JSON\n",
    "    file_logger.info(json.dumps(base_data, indent=2))\n",
    "    \n",
    "    # Console logger - verbosity-based\n",
    "    if hasattr(console_logger, 'verbosity'):\n",
    "        console_msg = _format_console_msg(base_data, console_logger.verbosity, \n",
    "                                         stage, framework_info)\n",
    "        console_logger.info(console_msg)\n"
   ]
  },
  {
   "cell_type": "markdown",
   "metadata": {},
   "source": [
    "## Pipeline Orchestrator"
   ]
  },
  {
   "cell_type": "code",
   "execution_count": null,
   "metadata": {},
   "outputs": [],
   "source": [
    "#| exports\n",
    "def get_from_cache(table, pk_value):\n",
    "    \"\"\"Generic cache retrieval, returns None if not found\"\"\"\n",
    "    try:\n",
    "        return table.get(pk_value)\n",
    "    except NotFoundError:\n",
    "        return None"
   ]
  },
  {
   "cell_type": "code",
   "execution_count": null,
   "metadata": {},
   "outputs": [],
   "source": [
    "#| exports\n",
    "def store_in_cache(table, data):\n",
    "    \"\"\"Generic cache storage with automatic timestamp\"\"\"\n",
    "    data['timestamp'] = datetime.now().isoformat()\n",
    "    table.upsert(data)"
   ]
  },
  {
   "cell_type": "code",
   "execution_count": null,
   "metadata": {},
   "outputs": [],
   "source": [
    "#| exports\n",
    "async def limit(semaphore, coro, delay=None):\n",
    "    \"Execute coroutine with semaphore concurrency control\"\n",
    "    async with semaphore:\n",
    "        result = await coro\n",
    "        if delay: await sleep(delay)\n",
    "        return result"
   ]
  },
  {
   "cell_type": "code",
   "execution_count": null,
   "metadata": {},
   "outputs": [],
   "source": [
    "#| exports\n",
    "class TaggingResult(AttrDict):\n",
    "    def __init__(self, response: dict, framework_info: FrameworkInfo):\n",
    "        self.is_core = response['is_core']\n",
    "        self.reasoning = response['reasoning']\n",
    "        self.confidence = response['confidence']\n",
    "        self.framework_name = framework_info.name\n",
    "        self.framework_category = framework_info.category\n",
    "        self.framework_theme_id = framework_info.theme_id"
   ]
  },
  {
   "cell_type": "code",
   "execution_count": null,
   "metadata": {},
   "outputs": [],
   "source": [
    "#| exports\n",
    "class PipelineResults(dict):\n",
    "    def __init__(self):\n",
    "        super().__init__()\n",
    "        self[Stage.STAGE1] = defaultdict(lambda: defaultdict(dict))\n",
    "        self[Stage.STAGE2] = defaultdict(lambda: defaultdict(dict))\n",
    "        self[Stage.STAGE3] = defaultdict(lambda: defaultdict(dict))"
   ]
  },
  {
   "cell_type": "code",
   "execution_count": null,
   "metadata": {},
   "outputs": [],
   "source": [
    "#| exports\n",
    "@patch\n",
    "def __call__(self:PipelineResults, stage=Stage.STAGE1, filter_type=\"all\"):\n",
    "    themes = []\n",
    "    for frameworks in self[stage].values():\n",
    "        for categories in frameworks.values():\n",
    "            for theme in categories.values():\n",
    "                if filter_type == \"all\" or \\\n",
    "                   (filter_type == \"tagged\" and theme.is_core) or \\\n",
    "                   (filter_type == \"untagged\" and not theme.is_core):\n",
    "                    themes.append(theme)\n",
    "    return themes"
   ]
  },
  {
   "cell_type": "code",
   "execution_count": null,
   "metadata": {},
   "outputs": [],
   "source": [
    "#| exports\n",
    "cfg.pipeline = AttrDict({\n",
    "    'select_section_prompt': select_section_sp,\n",
    "    'tagging_prompt': tagging_sp_no_citation,\n",
    "    'model': 'claude-sonnet-4-5',\n",
    "    'cache_system': True,\n",
    "    'cache_theme': True,\n",
    "    'response_format': TagResult,\n",
    "    'verbosity': 2,\n",
    "    'call_delay': 1,\n",
    "    'force_refresh': AttrDict({\n",
    "        'sections': False,\n",
    "        'stage1': False,\n",
    "        'stage2': False,\n",
    "        'stage3': False\n",
    "    })\n",
    "})"
   ]
  },
  {
   "cell_type": "code",
   "execution_count": null,
   "metadata": {},
   "outputs": [],
   "source": [
    "#| exports\n",
    "class PipelineOrchestrator:\n",
    "    def __init__(self, report_id, hdgs, eval_data, cfg):\n",
    "        self.cfg_p = cfg.pipeline\n",
    "        store_attr()\n",
    "        setup_trace_logging(report_id, self.cfg_p.verbosity)\n",
    "        self.results = PipelineResults()\n",
    "        self.core_sections = None\n",
    "        self.doc_content = None"
   ]
  },
  {
   "cell_type": "code",
   "execution_count": null,
   "metadata": {},
   "outputs": [],
   "source": [
    "#| exports\n",
    "@patch\n",
    "async def identify_sections(self:PipelineOrchestrator, semaphore):\n",
    "    \"Identify core sections and log the selection\"\n",
    "    if not self.cfg_p.force_refresh.sections:\n",
    "        cached = get_from_cache(sections_cache, self.report_id)\n",
    "        if cached:\n",
    "            self.core_sections = json.loads(cached.sections_selected)\n",
    "            self.doc_content = extract_core_content(self.core_sections, self.hdgs)\n",
    "            log_analysis_event(\n",
    "                \"sections_retrieved_from_cache\",\n",
    "                self.report_id,\n",
    "                sections_selected=self.core_sections)\n",
    "            return\n",
    "    \n",
    "    core_sections_result = await limit(\n",
    "        semaphore,\n",
    "        identify_core_sections(self.hdgs, self.cfg_p.select_section_prompt, self.cfg_p.model),\n",
    "        self.cfg_p.call_delay\n",
    "    )\n",
    "    \n",
    "    self.core_sections = core_sections_result['section_names']\n",
    "    self.doc_content = extract_core_content(self.core_sections, self.hdgs)\n",
    "    \n",
    "    store_in_cache(sections_cache, {\n",
    "        'report_id': self.report_id,\n",
    "        'sections_selected': json.dumps(self.core_sections),\n",
    "        'reasoning': core_sections_result['reasoning']\n",
    "    })\n",
    "    \n",
    "    log_analysis_event(\n",
    "        \"sections_identified\",\n",
    "        self.report_id,\n",
    "        sections_selected=self.core_sections,\n",
    "        reasoning=core_sections_result['reasoning']\n",
    "    )"
   ]
  },
  {
   "cell_type": "code",
   "execution_count": null,
   "metadata": {},
   "outputs": [],
   "source": [
    "#| exports\n",
    "@patch\n",
    "def _tag_kwargs(self:PipelineOrchestrator):\n",
    "    return {\n",
    "        'system_prompt': self.cfg_p.tagging_prompt,\n",
    "        'response_format': self.cfg_p.response_format,\n",
    "        'model': self.cfg_p.model,\n",
    "        'cache_system': self.cfg_p.cache_system,\n",
    "        'cache_theme': self.cfg_p.cache_theme\n",
    "    }"
   ]
  },
  {
   "cell_type": "code",
   "execution_count": null,
   "metadata": {},
   "outputs": [],
   "source": [
    "#| exports\n",
    "@patch\n",
    "async def process_themes_batch(self:PipelineOrchestrator, \n",
    "                               themes, \n",
    "                               semaphore, \n",
    "                               stage, \n",
    "                               force_refresh,\n",
    "                               log_fn=None\n",
    "                               ):\n",
    "    \"Process multiple themes in parallel with rate limiting and caching\"\n",
    "    \n",
    "    async def process_one(theme, framework_info):\n",
    "        # Check cache first (unless force_refresh)\n",
    "        if not force_refresh:\n",
    "            pk = (self.report_id, str(stage), str(framework_info.name), \n",
    "                  str(framework_info.category), str(framework_info.theme_id))\n",
    "            cached = get_from_cache(theme_cache, pk)\n",
    "            if cached:\n",
    "                result = TaggingResult(\n",
    "                    {'is_core': cached.is_core, 'reasoning': cached.reasoning, \n",
    "                     'confidence': cached.confidence}, \n",
    "                    framework_info\n",
    "                )\n",
    "                if log_fn: \n",
    "                    log_analysis_event(\"theme_retrieved_from_cache\", self.report_id, \n",
    "                                     stage=stage, framework_info=framework_info)\n",
    "                return result\n",
    "        \n",
    "        # Cache miss - call LLM\n",
    "        response = await tag_theme(\n",
    "            doc_content=self.doc_content,\n",
    "            theme=theme,\n",
    "            **self._tag_kwargs()\n",
    "        )\n",
    "        parsed = parse_response(response)\n",
    "        result = TaggingResult(parsed, framework_info)\n",
    "        \n",
    "        # Store in cache\n",
    "        store_in_cache(theme_cache, {\n",
    "            'report_id': self.report_id,\n",
    "            'stage': str(stage),\n",
    "            'framework': str(framework_info.name),\n",
    "            'framework_category': str(framework_info.category),\n",
    "            'framework_theme_id': str(framework_info.theme_id),\n",
    "            'is_core': result.is_core,\n",
    "            'reasoning': result.reasoning,\n",
    "            'confidence': result.confidence\n",
    "        })\n",
    "        \n",
    "        if log_fn: log_fn(result, framework_info)\n",
    "        return result\n",
    "    \n",
    "    # Process with rate limiting\n",
    "    results = [await limit(semaphore, process_one(*themes[0]), self.cfg_p.call_delay)]\n",
    "    remaining = await gather(*[limit(semaphore, process_one(*t), self.cfg_p.call_delay) for t in themes[1:]])\n",
    "    results.extend(remaining)\n",
    "    \n",
    "    return results\n"
   ]
  },
  {
   "cell_type": "code",
   "execution_count": null,
   "metadata": {},
   "outputs": [],
   "source": [
    "#| exports\n",
    "@patch\n",
    "async def run_stage1(self:PipelineOrchestrator, semaphore):\n",
    "    themes = []\n",
    "    \n",
    "    for item in self.eval_data.srf_enablers:\n",
    "        framework_info = FrameworkInfo(Framework.SRF, FrameworkCat.ENABLERS, item.id)\n",
    "        themes.append((format_enabler_theme(item), framework_info))\n",
    "    \n",
    "    for item in self.eval_data.srf_crosscutting_priorities:\n",
    "        framework_info = FrameworkInfo(Framework.SRF, FrameworkCat.CROSSCUT, item.id)\n",
    "        themes.append((format_crosscutting_theme(item), framework_info))\n",
    "    \n",
    "    log_fn = lambda result, finfo: log_analysis_event(\n",
    "        \"theme_tagged\",\n",
    "        self.report_id,\n",
    "        stage=Stage.STAGE1,\n",
    "        framework_info=finfo,\n",
    "        is_core=result.is_core,\n",
    "        reasoning=result.reasoning,\n",
    "        confidence=result.confidence\n",
    "    )\n",
    "\n",
    "    results = await self.process_themes_batch(\n",
    "        themes=themes, \n",
    "        semaphore=semaphore, \n",
    "        stage=Stage.STAGE1, \n",
    "        force_refresh=self.cfg_p.force_refresh.stage1,\n",
    "        log_fn=log_fn\n",
    "    )\n",
    "    \n",
    "    for result in results:\n",
    "        self.results[Stage.STAGE1][result.framework_name][result.framework_category][result.framework_theme_id] = result"
   ]
  },
  {
   "cell_type": "code",
   "execution_count": null,
   "metadata": {},
   "outputs": [
    {
     "name": "stderr",
     "output_type": "stream",
     "text": [
      "49d2fba781b6a7c0d94577479636ee6f - sections_retrieved_from_cache\n",
      "49d2fba781b6a7c0d94577479636ee6f - stage1 - theme_retrieved_from_cache - SRF/Enablers/1\n",
      "49d2fba781b6a7c0d94577479636ee6f - stage1 - theme_retrieved_from_cache - SRF/Enablers/2\n",
      "49d2fba781b6a7c0d94577479636ee6f - stage1 - theme_retrieved_from_cache - SRF/Enablers/3\n",
      "49d2fba781b6a7c0d94577479636ee6f - stage1 - theme_retrieved_from_cache - SRF/Enablers/4\n",
      "49d2fba781b6a7c0d94577479636ee6f - stage1 - theme_retrieved_from_cache - SRF/Enablers/5\n",
      "49d2fba781b6a7c0d94577479636ee6f - stage1 - theme_retrieved_from_cache - SRF/Enablers/6\n",
      "49d2fba781b6a7c0d94577479636ee6f - stage1 - theme_retrieved_from_cache - SRF/Enablers/7\n",
      "49d2fba781b6a7c0d94577479636ee6f - stage1 - theme_retrieved_from_cache - SRF/Crosscutting Priorities/1\n",
      "49d2fba781b6a7c0d94577479636ee6f - stage1 - theme_retrieved_from_cache - SRF/Crosscutting Priorities/2\n",
      "49d2fba781b6a7c0d94577479636ee6f - stage1 - theme_retrieved_from_cache - SRF/Crosscutting Priorities/3\n",
      "49d2fba781b6a7c0d94577479636ee6f - stage1 - theme_retrieved_from_cache - SRF/Crosscutting Priorities/4\n"
     ]
    }
   ],
   "source": [
    "#| eval: false\n",
    "cfg.pipeline = AttrDict({\n",
    "    # 'model': 'gemini/gemini-2.0-flash',\n",
    "    'model': 'claude-sonnet-4-5',\n",
    "    'tagging_prompt': tagging_sp_no_citation,\n",
    "    'select_section_prompt': select_section_sp,\n",
    "    'response_format': TagResult,\n",
    "    'cache_system': True,\n",
    "    'cache_theme': True,\n",
    "    'verbosity': 2,\n",
    "    'call_delay': 1,\n",
    "    'force_refresh': AttrDict({\n",
    "        'sections': False,\n",
    "        'stage1': False,\n",
    "        'stage2': False,\n",
    "        'stage3': False\n",
    "    })\n",
    "})\n",
    "\n",
    "hdgs = create_heading_dict(report)\n",
    "\n",
    "orchestrator = PipelineOrchestrator(\n",
    "    report_id=\"49d2fba781b6a7c0d94577479636ee6f\",\n",
    "    hdgs=hdgs,\n",
    "    eval_data=IOMEvalData(),\n",
    "    cfg=cfg\n",
    ")\n",
    "\n",
    "semaphore = Semaphore(2)\n",
    "await orchestrator.identify_sections(semaphore)\n",
    "await orchestrator.run_stage1(semaphore)"
   ]
  },
  {
   "cell_type": "code",
   "execution_count": null,
   "metadata": {},
   "outputs": [
    {
     "data": {
      "text/html": [
       "<pre style=\"white-space:pre;overflow-x:auto;line-height:normal;font-family:Menlo,'DejaVu Sans Mono',consolas,'Courier New',monospace\">Tagged themes: <span style=\"color: #008080; text-decoration-color: #008080; font-weight: bold\">4</span>\n",
       "</pre>\n"
      ],
      "text/plain": [
       "Tagged themes: \u001b[1;36m4\u001b[0m\n"
      ]
     },
     "metadata": {},
     "output_type": "display_data"
    },
    {
     "data": {
      "text/html": [
       "<pre style=\"white-space:pre;overflow-x:auto;line-height:normal;font-family:Menlo,'DejaVu Sans Mono',consolas,'Courier New',monospace\">Total themes analyzed: <span style=\"color: #008080; text-decoration-color: #008080; font-weight: bold\">11</span>\n",
       "</pre>\n"
      ],
      "text/plain": [
       "Total themes analyzed: \u001b[1;36m11\u001b[0m\n"
      ]
     },
     "metadata": {},
     "output_type": "display_data"
    }
   ],
   "source": [
    "#| eval: false\n",
    "tagged = orchestrator.results(Stage.STAGE1, filter_type='tagged')\n",
    "print(f\"Tagged themes: {len(tagged)}\")\n",
    "print(f\"Total themes analyzed: {len(orchestrator.results(Stage.STAGE1, filter_type='all'))}\")"
   ]
  },
  {
   "cell_type": "code",
   "execution_count": null,
   "metadata": {},
   "outputs": [],
   "source": [
    "#| exports\n",
    "@patch\n",
    "def get_stage1_context(self:PipelineOrchestrator) -> str:\n",
    "    \"Get formatted context from Stage 1 tagged themes\"\n",
    "    tagged_themes = self.results(Stage.STAGE1, filter_type=\"tagged\")\n",
    "    if not tagged_themes: \n",
    "        return \"\"\n",
    "    \n",
    "    context_parts = []\n",
    "    for theme in tagged_themes:\n",
    "        if theme.framework_category == str(FrameworkCat.ENABLERS):\n",
    "            theme_data = next(t for t in self.eval_data.srf_enablers \n",
    "                            if t.id == theme.framework_theme_id)\n",
    "        elif theme.framework_category == str(FrameworkCat.CROSSCUT):\n",
    "            theme_data = next(t for t in self.eval_data.srf_crosscutting_priorities \n",
    "                            if t.id == theme.framework_theme_id)\n",
    "        \n",
    "        context_parts.append(f\"- **{theme.framework_category} {theme_data.id}**: {theme_data.title}\")\n",
    "    \n",
    "    return f\"### Report Preliminary Context\\nThis evaluation report covers the following Strategic Results Framework themes:\\n\" + \"\\n\".join(context_parts)\n"
   ]
  },
  {
   "cell_type": "markdown",
   "metadata": {},
   "source": [
    "For instance:"
   ]
  },
  {
   "cell_type": "code",
   "execution_count": null,
   "metadata": {},
   "outputs": [
    {
     "data": {
      "text/html": [
       "<pre style=\"white-space:pre;overflow-x:auto;line-height:normal;font-family:Menlo,'DejaVu Sans Mono',consolas,'Courier New',monospace\">### Report Preliminary Context\n",
       "This evaluation report covers the following Strategic Results Framework themes:\n",
       "- **Enablers <span style=\"color: #008080; text-decoration-color: #008080; font-weight: bold\">2</span>**: Partnership\n",
       "- **Enablers <span style=\"color: #008080; text-decoration-color: #008080; font-weight: bold\">4</span>**: Data and evidence\n",
       "- **Enablers <span style=\"color: #008080; text-decoration-color: #008080; font-weight: bold\">5</span>**: Learning and Innovation\n",
       "- **Crosscutting Priorities <span style=\"color: #008080; text-decoration-color: #008080; font-weight: bold\">3</span>**: Protection-centred\n",
       "</pre>\n"
      ],
      "text/plain": [
       "### Report Preliminary Context\n",
       "This evaluation report covers the following Strategic Results Framework themes:\n",
       "- **Enablers \u001b[1;36m2\u001b[0m**: Partnership\n",
       "- **Enablers \u001b[1;36m4\u001b[0m**: Data and evidence\n",
       "- **Enablers \u001b[1;36m5\u001b[0m**: Learning and Innovation\n",
       "- **Crosscutting Priorities \u001b[1;36m3\u001b[0m**: Protection-centred\n"
      ]
     },
     "metadata": {},
     "output_type": "display_data"
    }
   ],
   "source": [
    "#| eval: false\n",
    "print(orchestrator.get_stage1_context())"
   ]
  },
  {
   "cell_type": "code",
   "execution_count": null,
   "metadata": {},
   "outputs": [],
   "source": [
    "#| exports\n",
    "@patch\n",
    "async def run_stage2(self:PipelineOrchestrator, semaphore):\n",
    "    \"Run stage 2 - GCM objectives analysis with Stage 1 context\"\n",
    "    stage1_context = self.get_stage1_context()\n",
    "    themes = []\n",
    "    \n",
    "    for gcm_obj in self.eval_data.gcm_objectives_small:\n",
    "        framework_info = FrameworkInfo(Framework.GCM, FrameworkCat.OBJS, gcm_obj[\"id\"])\n",
    "        theme = format_gcm_theme(gcm_obj) + \"\\n\\n\" + stage1_context\n",
    "        themes.append((theme, framework_info))\n",
    "    \n",
    "    log_fn = lambda result, finfo: log_analysis_event(\n",
    "        \"theme_tagged\",\n",
    "        self.report_id,\n",
    "        stage=Stage.STAGE2,\n",
    "        framework_info=finfo,\n",
    "        is_core=result.is_core,\n",
    "        reasoning=result.reasoning,\n",
    "        confidence=result.confidence\n",
    "    )\n",
    "\n",
    "    results = await self.process_themes_batch(\n",
    "        themes=themes,\n",
    "        semaphore=semaphore,\n",
    "        stage=Stage.STAGE2,\n",
    "        force_refresh=self.cfg_p.force_refresh.stage2,\n",
    "        log_fn=log_fn\n",
    "    )\n",
    "    \n",
    "    for result in results: \n",
    "        self.results[Stage.STAGE2][result.framework_name][result.framework_category][result.framework_theme_id] = result\n"
   ]
  },
  {
   "cell_type": "code",
   "execution_count": null,
   "metadata": {},
   "outputs": [
    {
     "name": "stderr",
     "output_type": "stream",
     "text": [
      "49d2fba781b6a7c0d94577479636ee6f - stage2 - theme_tagged - GCM/Objectives/1\n",
      "49d2fba781b6a7c0d94577479636ee6f - stage2 - theme_tagged - GCM/Objectives/2\n",
      "49d2fba781b6a7c0d94577479636ee6f - stage2 - theme_tagged - GCM/Objectives/3\n",
      "49d2fba781b6a7c0d94577479636ee6f - stage2 - theme_tagged - GCM/Objectives/5\n",
      "49d2fba781b6a7c0d94577479636ee6f - stage2 - theme_tagged - GCM/Objectives/4\n",
      "49d2fba781b6a7c0d94577479636ee6f - stage2 - theme_tagged - GCM/Objectives/6\n",
      "49d2fba781b6a7c0d94577479636ee6f - stage2 - theme_tagged - GCM/Objectives/7\n",
      "49d2fba781b6a7c0d94577479636ee6f - stage2 - theme_tagged - GCM/Objectives/8\n",
      "49d2fba781b6a7c0d94577479636ee6f - stage2 - theme_tagged - GCM/Objectives/9\n",
      "49d2fba781b6a7c0d94577479636ee6f - stage2 - theme_tagged - GCM/Objectives/10\n",
      "49d2fba781b6a7c0d94577479636ee6f - stage2 - theme_tagged - GCM/Objectives/11\n",
      "49d2fba781b6a7c0d94577479636ee6f - stage2 - theme_tagged - GCM/Objectives/13\n",
      "49d2fba781b6a7c0d94577479636ee6f - stage2 - theme_tagged - GCM/Objectives/12\n",
      "49d2fba781b6a7c0d94577479636ee6f - stage2 - theme_tagged - GCM/Objectives/15\n",
      "49d2fba781b6a7c0d94577479636ee6f - stage2 - theme_tagged - GCM/Objectives/14\n",
      "49d2fba781b6a7c0d94577479636ee6f - stage2 - theme_tagged - GCM/Objectives/16\n",
      "49d2fba781b6a7c0d94577479636ee6f - stage2 - theme_tagged - GCM/Objectives/17\n",
      "49d2fba781b6a7c0d94577479636ee6f - stage2 - theme_tagged - GCM/Objectives/19\n",
      "49d2fba781b6a7c0d94577479636ee6f - stage2 - theme_tagged - GCM/Objectives/18\n",
      "49d2fba781b6a7c0d94577479636ee6f - stage2 - theme_tagged - GCM/Objectives/20\n",
      "49d2fba781b6a7c0d94577479636ee6f - stage2 - theme_tagged - GCM/Objectives/21\n",
      "49d2fba781b6a7c0d94577479636ee6f - stage2 - theme_tagged - GCM/Objectives/22\n",
      "49d2fba781b6a7c0d94577479636ee6f - stage2 - theme_tagged - GCM/Objectives/23\n"
     ]
    }
   ],
   "source": [
    "#| eval: false\n",
    "await orchestrator.run_stage2(semaphore)"
   ]
  },
  {
   "cell_type": "code",
   "execution_count": null,
   "metadata": {},
   "outputs": [
    {
     "data": {
      "text/html": [
       "<pre style=\"white-space:pre;overflow-x:auto;line-height:normal;font-family:Menlo,'DejaVu Sans Mono',consolas,'Courier New',monospace\">Covered themes: <span style=\"color: #008080; text-decoration-color: #008080; font-weight: bold\">6</span>\n",
       "</pre>\n"
      ],
      "text/plain": [
       "Covered themes: \u001b[1;36m6\u001b[0m\n"
      ]
     },
     "metadata": {},
     "output_type": "display_data"
    },
    {
     "data": {
      "text/html": [
       "<pre style=\"white-space:pre;overflow-x:auto;line-height:normal;font-family:Menlo,'DejaVu Sans Mono',consolas,'Courier New',monospace\">Total themes analyzed: <span style=\"color: #008080; text-decoration-color: #008080; font-weight: bold\">23</span>\n",
       "</pre>\n"
      ],
      "text/plain": [
       "Total themes analyzed: \u001b[1;36m23\u001b[0m\n"
      ]
     },
     "metadata": {},
     "output_type": "display_data"
    }
   ],
   "source": [
    "#| eval: false\n",
    "tagged = orchestrator.results(Stage.STAGE2, filter_type=\"tagged\")\n",
    "print(f\"Covered themes: {len(tagged)}\")\n",
    "print(f\"Total themes analyzed: {len(orchestrator.results(Stage.STAGE2, filter_type='all'))}\")"
   ]
  },
  {
   "cell_type": "code",
   "execution_count": null,
   "metadata": {},
   "outputs": [],
   "source": [
    "#| exports\n",
    "def get_filtered_srf_output_ids(\n",
    "    results: PipelineResults, # PipelineResults\n",
    "    eval_data: EvalData # EvalData\n",
    "    ) -> list: # list of SRF output IDs\n",
    "    \"Get filtered SRF output IDs based on covered GCM themes.\"\n",
    "    covered_gcm = results(Stage.STAGE2, filter_type=\"tagged\")\n",
    "    srf_output_ids = set()\n",
    "    \n",
    "    for gcm_theme in covered_gcm:\n",
    "        gcm_id = gcm_theme.framework_theme_id\n",
    "        if gcm_id in eval_data.gcm_srf_lut:\n",
    "            srf_output_ids.update(eval_data.gcm_srf_lut[gcm_id])\n",
    "    \n",
    "    return list(srf_output_ids)"
   ]
  },
  {
   "cell_type": "markdown",
   "metadata": {},
   "source": [
    "For instance:"
   ]
  },
  {
   "cell_type": "code",
   "execution_count": null,
   "metadata": {},
   "outputs": [
    {
     "data": {
      "text/html": [
       "<pre style=\"white-space:pre;overflow-x:auto;line-height:normal;font-family:Menlo,'DejaVu Sans Mono',consolas,'Courier New',monospace\">nb. of filtered srf outputs: <span style=\"color: #008080; text-decoration-color: #008080; font-weight: bold\">66</span>\n",
       "</pre>\n"
      ],
      "text/plain": [
       "nb. of filtered srf outputs: \u001b[1;36m66\u001b[0m\n"
      ]
     },
     "metadata": {},
     "output_type": "display_data"
    },
    {
     "data": {
      "text/html": [
       "<pre style=\"white-space:pre;overflow-x:auto;line-height:normal;font-family:Menlo,'DejaVu Sans Mono',consolas,'Courier New',monospace\">first <span style=\"color: #008080; text-decoration-color: #008080; font-weight: bold\">5</span>: <span style=\"font-weight: bold\">[</span><span style=\"color: #008000; text-decoration-color: #008000\">'1a11'</span>, <span style=\"color: #008000; text-decoration-color: #008000\">'2c11'</span>, <span style=\"color: #008000; text-decoration-color: #008000\">'1a16'</span>, <span style=\"color: #008000; text-decoration-color: #008000\">'3c13'</span>, <span style=\"color: #008000; text-decoration-color: #008000\">'3c43'</span><span style=\"font-weight: bold\">]</span>\n",
       "</pre>\n"
      ],
      "text/plain": [
       "first \u001b[1;36m5\u001b[0m: \u001b[1m[\u001b[0m\u001b[32m'1a11'\u001b[0m, \u001b[32m'2c11'\u001b[0m, \u001b[32m'1a16'\u001b[0m, \u001b[32m'3c13'\u001b[0m, \u001b[32m'3c43'\u001b[0m\u001b[1m]\u001b[0m\n"
      ]
     },
     "metadata": {},
     "output_type": "display_data"
    }
   ],
   "source": [
    "#| eval: false\n",
    "filtered_srfs = get_filtered_srf_output_ids(orchestrator.results, eval_data)\n",
    "\n",
    "print(f'nb. of filtered srf outputs: {len(filtered_srfs)}')\n",
    "print(f'first 5: {filtered_srfs[:5]}')"
   ]
  },
  {
   "cell_type": "code",
   "execution_count": null,
   "metadata": {},
   "outputs": [],
   "source": [
    "#| exports\n",
    "@patch\n",
    "def get_combined_context(self:PipelineOrchestrator) -> str:\n",
    "    \"Get combined context from Stage 1 and Stage 2 tagged themes\"\n",
    "    stage1_context = self.get_stage1_context()\n",
    "    tagged_gcm = self.results(Stage.STAGE2, filter_type=\"tagged\")\n",
    "    \n",
    "    if not tagged_gcm:\n",
    "        return stage1_context\n",
    "    \n",
    "    gcm_context = \"\\n\".join([\n",
    "        f\"- **GCM {theme.framework_theme_id}**: {self.eval_data.gcm_objectives_small[int(theme.framework_theme_id)-1]['title']}\" \n",
    "        for theme in tagged_gcm\n",
    "    ])\n",
    "    \n",
    "    return f\"{stage1_context}\\n\\n### Covered GCM Objectives\\n{gcm_context}\""
   ]
  },
  {
   "cell_type": "markdown",
   "metadata": {},
   "source": [
    "For instance:"
   ]
  },
  {
   "cell_type": "code",
   "execution_count": null,
   "metadata": {},
   "outputs": [
    {
     "data": {
      "text/html": [
       "<pre style=\"white-space:pre;overflow-x:auto;line-height:normal;font-family:Menlo,'DejaVu Sans Mono',consolas,'Courier New',monospace\">### Report Preliminary Context\n",
       "This evaluation report covers the following Strategic Results Framework themes:\n",
       "- **Enablers <span style=\"color: #008080; text-decoration-color: #008080; font-weight: bold\">2</span>**: Partnership\n",
       "- **Enablers <span style=\"color: #008080; text-decoration-color: #008080; font-weight: bold\">4</span>**: Data and evidence\n",
       "- **Enablers <span style=\"color: #008080; text-decoration-color: #008080; font-weight: bold\">5</span>**: Learning and Innovation\n",
       "- **Crosscutting Priorities <span style=\"color: #008080; text-decoration-color: #008080; font-weight: bold\">3</span>**: Protection-centred\n",
       "\n",
       "### Covered GCM Objectives\n",
       "- **GCM <span style=\"color: #008080; text-decoration-color: #008080; font-weight: bold\">1</span>**: Collect and utilize accurate and disaggregated data as a basis for evidence-based policies\n",
       "- **GCM <span style=\"color: #008080; text-decoration-color: #008080; font-weight: bold\">7</span>**: Address and reduce vulnerabilities in migration\n",
       "- **GCM <span style=\"color: #008080; text-decoration-color: #008080; font-weight: bold\">12</span>**: Strengthen certainty and predictability in migration procedures for appropriate screening, assessment\n",
       "and referral\n",
       "- **GCM <span style=\"color: #008080; text-decoration-color: #008080; font-weight: bold\">16</span>**: Empower migrants and societies to realize full inclusion and social cohesion\n",
       "- **GCM <span style=\"color: #008080; text-decoration-color: #008080; font-weight: bold\">21</span>**: Cooperate in facilitating safe and dignified return and readmission, as well as sustainable \n",
       "reintegration\n",
       "- **GCM <span style=\"color: #008080; text-decoration-color: #008080; font-weight: bold\">23</span>**: Strengthen international cooperation and global partnerships for safe, orderly and regular migration\n",
       "</pre>\n"
      ],
      "text/plain": [
       "### Report Preliminary Context\n",
       "This evaluation report covers the following Strategic Results Framework themes:\n",
       "- **Enablers \u001b[1;36m2\u001b[0m**: Partnership\n",
       "- **Enablers \u001b[1;36m4\u001b[0m**: Data and evidence\n",
       "- **Enablers \u001b[1;36m5\u001b[0m**: Learning and Innovation\n",
       "- **Crosscutting Priorities \u001b[1;36m3\u001b[0m**: Protection-centred\n",
       "\n",
       "### Covered GCM Objectives\n",
       "- **GCM \u001b[1;36m1\u001b[0m**: Collect and utilize accurate and disaggregated data as a basis for evidence-based policies\n",
       "- **GCM \u001b[1;36m7\u001b[0m**: Address and reduce vulnerabilities in migration\n",
       "- **GCM \u001b[1;36m12\u001b[0m**: Strengthen certainty and predictability in migration procedures for appropriate screening, assessment\n",
       "and referral\n",
       "- **GCM \u001b[1;36m16\u001b[0m**: Empower migrants and societies to realize full inclusion and social cohesion\n",
       "- **GCM \u001b[1;36m21\u001b[0m**: Cooperate in facilitating safe and dignified return and readmission, as well as sustainable \n",
       "reintegration\n",
       "- **GCM \u001b[1;36m23\u001b[0m**: Strengthen international cooperation and global partnerships for safe, orderly and regular migration\n"
      ]
     },
     "metadata": {},
     "output_type": "display_data"
    }
   ],
   "source": [
    "#| eval: false\n",
    "print(orchestrator.get_combined_context())"
   ]
  },
  {
   "cell_type": "code",
   "execution_count": null,
   "metadata": {},
   "outputs": [],
   "source": [
    "#| exports\n",
    "@patch\n",
    "def get_filtered_srf_outputs(self:PipelineOrchestrator) -> list:\n",
    "    \"Get filtered SRF output IDs based on tagged GCM themes\"\n",
    "    tagged_gcm = self.results(Stage.STAGE2, filter_type=\"tagged\")\n",
    "    srf_output_ids = set()\n",
    "    \n",
    "    for gcm_theme in tagged_gcm:\n",
    "        gcm_id = gcm_theme.framework_theme_id\n",
    "        if gcm_id in self.eval_data.gcm_srf_lut:\n",
    "            srf_output_ids.update(self.eval_data.gcm_srf_lut[gcm_id])\n",
    "    \n",
    "    return list(srf_output_ids)"
   ]
  },
  {
   "cell_type": "code",
   "execution_count": null,
   "metadata": {},
   "outputs": [
    {
     "data": {
      "text/plain": [
       "['1a11', '2c11', '1a16', '3c13', '3c43']"
      ]
     },
     "execution_count": null,
     "metadata": {},
     "output_type": "execute_result"
    }
   ],
   "source": [
    "#| eval: false\n",
    "orchestrator.get_filtered_srf_outputs()[:5]"
   ]
  },
  {
   "cell_type": "code",
   "execution_count": null,
   "metadata": {},
   "outputs": [],
   "source": [
    "#| exports\n",
    "@patch\n",
    "async def run_stage3(self:PipelineOrchestrator, semaphore):\n",
    "    \"Run stage 3 - Targeted SRF outputs analysis with combined context\"\n",
    "    combined_context = self.get_combined_context()\n",
    "    filtered_output_ids = self.get_filtered_srf_outputs()\n",
    "    themes = []\n",
    "    \n",
    "    for output_id in filtered_output_ids:\n",
    "        output_context = find_srf_output_by_id(self.eval_data, output_id)\n",
    "        if output_context:\n",
    "            framework_info = FrameworkInfo(Framework.SRF, FrameworkCat.OUTPUTS, output_id)\n",
    "            theme = format_srf_output(output_context) + \"\\n\\n\" + combined_context\n",
    "            themes.append((theme, framework_info))\n",
    "    \n",
    "    log_fn = lambda result, finfo: log_analysis_event(\n",
    "        \"theme_tagged\",\n",
    "        self.report_id,\n",
    "        stage=Stage.STAGE3,\n",
    "        framework_info=finfo,\n",
    "        is_core=result.is_core,\n",
    "        reasoning=result.reasoning,\n",
    "        confidence=result.confidence\n",
    "    )\n",
    "\n",
    "    results = await self.process_themes_batch(\n",
    "        themes=themes,\n",
    "        semaphore=semaphore,\n",
    "        stage=Stage.STAGE3,\n",
    "        force_refresh=self.cfg_p.force_refresh.stage3,\n",
    "        log_fn=log_fn\n",
    "    )\n",
    "    \n",
    "    for result in results: \n",
    "        self.results[Stage.STAGE3][result.framework_name][result.framework_category][result.framework_theme_id] = result\n"
   ]
  },
  {
   "cell_type": "code",
   "execution_count": null,
   "metadata": {},
   "outputs": [
    {
     "name": "stderr",
     "output_type": "stream",
     "text": [
      "49d2fba781b6a7c0d94577479636ee6f - stage3 - theme_tagged - SRF/Outputs/1a11\n",
      "49d2fba781b6a7c0d94577479636ee6f - stage3 - theme_tagged - SRF/Outputs/1a16\n",
      "49d2fba781b6a7c0d94577479636ee6f - stage3 - theme_tagged - SRF/Outputs/2c11\n",
      "49d2fba781b6a7c0d94577479636ee6f - stage3 - theme_tagged - SRF/Outputs/3c43\n",
      "49d2fba781b6a7c0d94577479636ee6f - stage3 - theme_tagged - SRF/Outputs/3c13\n",
      "49d2fba781b6a7c0d94577479636ee6f - stage3 - theme_tagged - SRF/Outputs/1c21\n",
      "49d2fba781b6a7c0d94577479636ee6f - stage3 - theme_tagged - SRF/Outputs/3c42\n",
      "49d2fba781b6a7c0d94577479636ee6f - stage3 - theme_tagged - SRF/Outputs/1a21\n",
      "49d2fba781b6a7c0d94577479636ee6f - stage3 - theme_tagged - SRF/Outputs/1a17\n",
      "49d2fba781b6a7c0d94577479636ee6f - stage3 - theme_tagged - SRF/Outputs/3c31\n",
      "49d2fba781b6a7c0d94577479636ee6f - stage3 - theme_tagged - SRF/Outputs/3d35\n",
      "49d2fba781b6a7c0d94577479636ee6f - stage3 - theme_tagged - SRF/Outputs/3d44\n",
      "49d2fba781b6a7c0d94577479636ee6f - stage3 - theme_tagged - SRF/Outputs/3c21\n",
      "49d2fba781b6a7c0d94577479636ee6f - stage3 - theme_tagged - SRF/Outputs/3c41\n",
      "49d2fba781b6a7c0d94577479636ee6f - stage3 - theme_tagged - SRF/Outputs/3d42\n",
      "49d2fba781b6a7c0d94577479636ee6f - stage3 - theme_tagged - SRF/Outputs/1b32\n",
      "49d2fba781b6a7c0d94577479636ee6f - stage3 - theme_tagged - SRF/Outputs/2b31\n",
      "49d2fba781b6a7c0d94577479636ee6f - stage3 - theme_tagged - SRF/Outputs/3b31\n",
      "49d2fba781b6a7c0d94577479636ee6f - stage3 - theme_tagged - SRF/Outputs/2b22\n",
      "49d2fba781b6a7c0d94577479636ee6f - stage3 - theme_tagged - SRF/Outputs/3a42\n",
      "49d2fba781b6a7c0d94577479636ee6f - stage3 - theme_tagged - SRF/Outputs/2b63\n",
      "49d2fba781b6a7c0d94577479636ee6f - stage3 - theme_tagged - SRF/Outputs/2b32\n",
      "49d2fba781b6a7c0d94577479636ee6f - stage3 - theme_tagged - SRF/Outputs/2b21\n",
      "49d2fba781b6a7c0d94577479636ee6f - stage3 - theme_tagged - SRF/Outputs/3d34\n",
      "49d2fba781b6a7c0d94577479636ee6f - stage3 - theme_tagged - SRF/Outputs/3a52\n",
      "49d2fba781b6a7c0d94577479636ee6f - stage3 - theme_tagged - SRF/Outputs/2c12\n",
      "49d2fba781b6a7c0d94577479636ee6f - stage3 - theme_tagged - SRF/Outputs/2a21\n",
      "49d2fba781b6a7c0d94577479636ee6f - stage3 - theme_tagged - SRF/Outputs/2b12\n",
      "49d2fba781b6a7c0d94577479636ee6f - stage3 - theme_tagged - SRF/Outputs/2b42\n",
      "49d2fba781b6a7c0d94577479636ee6f - stage3 - theme_tagged - SRF/Outputs/1c22\n",
      "49d2fba781b6a7c0d94577479636ee6f - stage3 - theme_tagged - SRF/Outputs/1a12\n",
      "49d2fba781b6a7c0d94577479636ee6f - stage3 - theme_tagged - SRF/Outputs/2b43\n",
      "49d2fba781b6a7c0d94577479636ee6f - stage3 - theme_tagged - SRF/Outputs/2b53\n",
      "49d2fba781b6a7c0d94577479636ee6f - stage3 - theme_tagged - SRF/Outputs/1b22\n",
      "49d2fba781b6a7c0d94577479636ee6f - stage3 - theme_tagged - SRF/Outputs/3d31\n",
      "49d2fba781b6a7c0d94577479636ee6f - stage3 - theme_tagged - SRF/Outputs/3c52\n",
      "49d2fba781b6a7c0d94577479636ee6f - stage3 - theme_tagged - SRF/Outputs/1a19\n",
      "49d2fba781b6a7c0d94577479636ee6f - stage3 - theme_tagged - SRF/Outputs/1c23\n",
      "49d2fba781b6a7c0d94577479636ee6f - stage3 - theme_tagged - SRF/Outputs/2b13\n",
      "49d2fba781b6a7c0d94577479636ee6f - stage3 - theme_tagged - SRF/Outputs/1c11\n",
      "49d2fba781b6a7c0d94577479636ee6f - stage3 - theme_tagged - SRF/Outputs/1b11\n",
      "49d2fba781b6a7c0d94577479636ee6f - stage3 - theme_tagged - SRF/Outputs/2b11\n",
      "49d2fba781b6a7c0d94577479636ee6f - stage3 - theme_tagged - SRF/Outputs/3c51\n",
      "49d2fba781b6a7c0d94577479636ee6f - stage3 - theme_tagged - SRF/Outputs/2b54\n",
      "49d2fba781b6a7c0d94577479636ee6f - stage3 - theme_tagged - SRF/Outputs/2b62\n",
      "49d2fba781b6a7c0d94577479636ee6f - stage3 - theme_tagged - SRF/Outputs/3a41\n",
      "49d2fba781b6a7c0d94577479636ee6f - stage3 - theme_tagged - SRF/Outputs/1a32\n",
      "49d2fba781b6a7c0d94577479636ee6f - stage3 - theme_tagged - SRF/Outputs/3c22\n",
      "49d2fba781b6a7c0d94577479636ee6f - stage3 - theme_tagged - SRF/Outputs/2b52\n",
      "49d2fba781b6a7c0d94577479636ee6f - stage3 - theme_tagged - SRF/Outputs/1b33\n",
      "49d2fba781b6a7c0d94577479636ee6f - stage3 - theme_tagged - SRF/Outputs/1a22\n",
      "49d2fba781b6a7c0d94577479636ee6f - stage3 - theme_tagged - SRF/Outputs/3a44\n",
      "49d2fba781b6a7c0d94577479636ee6f - stage3 - theme_tagged - SRF/Outputs/3c15\n",
      "49d2fba781b6a7c0d94577479636ee6f - stage3 - theme_tagged - SRF/Outputs/1a31\n",
      "49d2fba781b6a7c0d94577479636ee6f - stage3 - theme_tagged - SRF/Outputs/3b22\n",
      "49d2fba781b6a7c0d94577479636ee6f - stage3 - theme_tagged - SRF/Outputs/3c32\n",
      "49d2fba781b6a7c0d94577479636ee6f - stage3 - theme_tagged - SRF/Outputs/3a51\n",
      "49d2fba781b6a7c0d94577479636ee6f - stage3 - theme_tagged - SRF/Outputs/3d33\n",
      "49d2fba781b6a7c0d94577479636ee6f - stage3 - theme_tagged - SRF/Outputs/1b21\n",
      "49d2fba781b6a7c0d94577479636ee6f - stage3 - theme_tagged - SRF/Outputs/1b12\n",
      "49d2fba781b6a7c0d94577479636ee6f - stage3 - theme_tagged - SRF/Outputs/3a43\n"
     ]
    }
   ],
   "source": [
    "#| eval: false\n",
    "await orchestrator.run_stage3(semaphore)"
   ]
  },
  {
   "cell_type": "code",
   "execution_count": null,
   "metadata": {},
   "outputs": [
    {
     "data": {
      "text/html": [
       "<pre style=\"white-space:pre;overflow-x:auto;line-height:normal;font-family:Menlo,'DejaVu Sans Mono',consolas,'Courier New',monospace\">Number of outputs: <span style=\"color: #008080; text-decoration-color: #008080; font-weight: bold\">40</span>\n",
       "</pre>\n"
      ],
      "text/plain": [
       "Number of outputs: \u001b[1;36m40\u001b[0m\n"
      ]
     },
     "metadata": {},
     "output_type": "display_data"
    }
   ],
   "source": [
    "#| eval: false\n",
    "n_outputs = len(orchestrator.results(Stage.STAGE3, filter_type=\"tagged\"))\n",
    "print(f\"Number of outputs: {n_outputs}\")"
   ]
  },
  {
   "cell_type": "markdown",
   "metadata": {},
   "source": [
    "## CLI"
   ]
  },
  {
   "cell_type": "code",
   "execution_count": null,
   "metadata": {},
   "outputs": [],
   "source": [
    "#| export\n",
    "def find_enriched_path(eval_id: str, md_dir: str):\n",
    "    \"Find the enriched markdown directory for an evaluation\"\n",
    "    eval_path = Path(md_dir) / eval_id\n",
    "    if not eval_path.exists():\n",
    "        raise FileNotFoundError(f\"Evaluation directory not found: {eval_path}\")\n",
    "    \n",
    "    report_dirs = eval_path.ls().filter(lambda d: d.is_dir() and d.name != 'enriched')\n",
    "    if not report_dirs:\n",
    "        raise FileNotFoundError(f\"No report directory found in {eval_path}\")\n",
    "    \n",
    "    doc_path = report_dirs[0] / 'enriched'\n",
    "    if not doc_path.exists():\n",
    "        raise FileNotFoundError(f\"Enriched directory not found: {doc_path}\")\n",
    "    \n",
    "    return doc_path"
   ]
  },
  {
   "cell_type": "code",
   "execution_count": null,
   "metadata": {},
   "outputs": [],
   "source": [
    "#| export\n",
    "def parse_force_refresh(force_refresh_str: str, working_cfg):\n",
    "    \"Parse and apply force_refresh parameter to config\"\n",
    "    if force_refresh_str:\n",
    "        refresh_items = [s.strip() for s in force_refresh_str.split(',')]\n",
    "        for item in refresh_items:\n",
    "            if item == 'sections':\n",
    "                working_cfg.pipeline.force_refresh.sections = True\n",
    "            elif item in ['stage1', 'stage2', 'stage3']:\n",
    "                working_cfg.pipeline.force_refresh[item] = True"
   ]
  },
  {
   "cell_type": "code",
   "execution_count": null,
   "metadata": {},
   "outputs": [],
   "source": [
    "#| export\n",
    "async def run_selected_stages(orchestrator, semaphore, stages_to_run):\n",
    "    \"Run only the selected pipeline stages\"\n",
    "    await orchestrator.identify_sections(semaphore)\n",
    "    if 1 in stages_to_run:\n",
    "        await orchestrator.run_stage1(semaphore)\n",
    "    if 2 in stages_to_run:\n",
    "        await orchestrator.run_stage2(semaphore)\n",
    "    if 3 in stages_to_run:\n",
    "        await orchestrator.run_stage3(semaphore)"
   ]
  },
  {
   "cell_type": "code",
   "execution_count": null,
   "metadata": {},
   "outputs": [],
   "source": [
    "#| export\n",
    "@call_parse\n",
    "def tag_evaluation(\n",
    "    eval_id: str,  # Evaluation ID to process\n",
    "    md_dir: str = \"_data/md_library\",  # Markdown directory\n",
    "    stages: str = \"1,2,3\",  # Stages to run (comma-separated: 1,2,3)\n",
    "    force_refresh: str = None  # Force refresh stages (comma-separated: sections,stage1,stage2,stage3)\n",
    "):\n",
    "    \"Tag evaluation report against frameworks\"\n",
    "    # Use module's default config\n",
    "    working_cfg = deepcopy(cfg)\n",
    "    \n",
    "    # Find enriched markdown path\n",
    "    try:\n",
    "        doc_path = find_enriched_path(eval_id, md_dir)\n",
    "    except FileNotFoundError as e:\n",
    "        logging.error(str(e))\n",
    "        return\n",
    "    \n",
    "    # Load report and create heading structure\n",
    "    report = load_report(doc_path)\n",
    "    hdgs = create_heading_dict(report)\n",
    "    \n",
    "    # Parse parameters\n",
    "    stages_to_run = [int(s.strip()) for s in stages.split(',')]\n",
    "    parse_force_refresh(force_refresh, working_cfg)\n",
    "    \n",
    "    # Run pipeline\n",
    "    orchestrator = PipelineOrchestrator(\n",
    "        report_id=eval_id,\n",
    "        hdgs=hdgs,\n",
    "        eval_data=IOMEvalData(),\n",
    "        cfg=working_cfg\n",
    "    )\n",
    "    \n",
    "    semaphore = Semaphore(working_cfg.semaphore)\n",
    "    asyncio.run(run_selected_stages(orchestrator, semaphore, stages_to_run))\n",
    "    \n",
    "    logging.info(f\"Completed tagging for {eval_id}\")"
   ]
  }
 ],
 "metadata": {
  "kernelspec": {
   "display_name": "python3",
   "language": "python",
   "name": "python3"
  }
 },
 "nbformat": 4,
 "nbformat_minor": 2
}
